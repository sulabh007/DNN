{
 "cells": [
  {
   "cell_type": "code",
   "execution_count": 87,
   "metadata": {
    "id": "kFZRpLpK02pB"
   },
   "outputs": [],
   "source": [
    "#!/usr/bin/env python\n",
    "# -*- coding: utf-8 -*-"
   ]
  },
  {
   "cell_type": "markdown",
   "metadata": {
    "id": "deSnZmVy02pF"
   },
   "source": [
    "\n",
    "\n",
    "# Deep Neural Networks\n",
    "\n",
    "## Assignment\n",
    "### Neural Network with :\n",
    "\n",
    "- **Ionosphere**\n",
    "- **binary-class**"
   ]
  },
  {
   "cell_type": "code",
   "execution_count": 88,
   "metadata": {
    "id": "rt0pfyeA02pK"
   },
   "outputs": [],
   "source": [
    "###-----------------\n",
    "### Import Libraries\n",
    "###-----------------\n",
    "\n",
    "import os\n",
    "import numpy as np\n",
    "import pandas as pd\n",
    "import matplotlib.pyplot as plt\n",
    "from sklearn import datasets\n",
    "from collections.abc import Callable\n",
    "from typing import Literal\n",
    "from sklearn.model_selection import train_test_split\n",
    "from sklearn.metrics import accuracy_score, confusion_matrix, classification_report, ConfusionMatrixDisplay\n",
    "from sklearn.preprocessing import StandardScaler\n",
    "import tensorflow as tf \n",
    "%matplotlib inline"
   ]
  },
  {
   "cell_type": "code",
   "execution_count": 89,
   "metadata": {},
   "outputs": [],
   "source": [
    "# gpus = tf.config.list_physical_devices('GPU')\n",
    "\n",
    "# try:\n",
    "#     for g in gpus:\n",
    "#         tf.config.experimental.set_memory_growth(g, True)\n",
    "#     logical_gpus = tf.config.list_logical_devices('GPU')\n",
    "#     print (len(gpus), 'Phusical GPUs', len(logical_gpus), 'Logical GPUs')\n",
    "# except:\n",
    "#     print ('invalid device')"
   ]
  },
  {
   "cell_type": "code",
   "execution_count": 90,
   "metadata": {
    "id": "__T9cczP02pL"
   },
   "outputs": [],
   "source": [
    "###----------------\n",
    "### Some parameters\n",
    "###----------------\n",
    "\n",
    "inpDir = '../../input'\n",
    "outDir = '../output'\n",
    "subDir = 'ionosphere'\n",
    "modelDir = '.../models'\n",
    "\n",
    "RANDOM_STATE = 24 # REMEMBER: to remove at the time of promotion to production\n",
    "np.random.seed(RANDOM_STATE) # Set Random Seed for reproducible  results\n",
    "\n",
    "EPOCHS = 101 # number of epochs\n",
    "ALPHA = 0.01 # learning rate\n",
    "TEST_SIZE = 0.2\n",
    "BATCH_SIZE = 32\n",
    "TRAIN_SIZE = 256 # fix size of train set sot that we have batches of same size\n",
    "PATIENCE = 10\n",
    "\n",
    "# parameters for Matplotlib\n",
    "params = {'legend.fontsize': 'x-large',\n",
    "          'figure.figsize': (15, 8),\n",
    "          'axes.labelsize': 'x-large',\n",
    "          'axes.titlesize':'x-large',\n",
    "          'xtick.labelsize':'x-large',\n",
    "          'ytick.labelsize':'x-large'\n",
    "         }\n",
    "\n",
    "CMAP = 'coolwarm' # plt.cm.Spectral\n",
    "\n",
    "plt.rcParams.update(params)"
   ]
  },
  {
   "cell_type": "markdown",
   "metadata": {
    "id": "7bhVN20X02pN"
   },
   "source": [
    "## Generate Data Set\n",
    "Ionosphere Dataset"
   ]
  },
  {
   "cell_type": "code",
   "execution_count": 91,
   "metadata": {
    "id": "LXZ37P4G02pP"
   },
   "outputs": [
    {
     "data": {
      "text/html": [
       "<div>\n",
       "<style scoped>\n",
       "    .dataframe tbody tr th:only-of-type {\n",
       "        vertical-align: middle;\n",
       "    }\n",
       "\n",
       "    .dataframe tbody tr th {\n",
       "        vertical-align: top;\n",
       "    }\n",
       "\n",
       "    .dataframe thead th {\n",
       "        text-align: right;\n",
       "    }\n",
       "</style>\n",
       "<table border=\"1\" class=\"dataframe\">\n",
       "  <thead>\n",
       "    <tr style=\"text-align: right;\">\n",
       "      <th></th>\n",
       "      <th>0</th>\n",
       "      <th>1</th>\n",
       "      <th>2</th>\n",
       "      <th>3</th>\n",
       "      <th>4</th>\n",
       "      <th>5</th>\n",
       "      <th>6</th>\n",
       "      <th>7</th>\n",
       "      <th>8</th>\n",
       "      <th>9</th>\n",
       "      <th>...</th>\n",
       "      <th>25</th>\n",
       "      <th>26</th>\n",
       "      <th>27</th>\n",
       "      <th>28</th>\n",
       "      <th>29</th>\n",
       "      <th>30</th>\n",
       "      <th>31</th>\n",
       "      <th>32</th>\n",
       "      <th>33</th>\n",
       "      <th>34</th>\n",
       "    </tr>\n",
       "  </thead>\n",
       "  <tbody>\n",
       "    <tr>\n",
       "      <th>0</th>\n",
       "      <td>1</td>\n",
       "      <td>0</td>\n",
       "      <td>0.99539</td>\n",
       "      <td>-0.05889</td>\n",
       "      <td>0.85243</td>\n",
       "      <td>0.02306</td>\n",
       "      <td>0.83398</td>\n",
       "      <td>-0.37708</td>\n",
       "      <td>1.00000</td>\n",
       "      <td>0.03760</td>\n",
       "      <td>...</td>\n",
       "      <td>-0.51171</td>\n",
       "      <td>0.41078</td>\n",
       "      <td>-0.46168</td>\n",
       "      <td>0.21266</td>\n",
       "      <td>-0.34090</td>\n",
       "      <td>0.42267</td>\n",
       "      <td>-0.54487</td>\n",
       "      <td>0.18641</td>\n",
       "      <td>-0.45300</td>\n",
       "      <td>g</td>\n",
       "    </tr>\n",
       "    <tr>\n",
       "      <th>1</th>\n",
       "      <td>1</td>\n",
       "      <td>0</td>\n",
       "      <td>1.00000</td>\n",
       "      <td>-0.18829</td>\n",
       "      <td>0.93035</td>\n",
       "      <td>-0.36156</td>\n",
       "      <td>-0.10868</td>\n",
       "      <td>-0.93597</td>\n",
       "      <td>1.00000</td>\n",
       "      <td>-0.04549</td>\n",
       "      <td>...</td>\n",
       "      <td>-0.26569</td>\n",
       "      <td>-0.20468</td>\n",
       "      <td>-0.18401</td>\n",
       "      <td>-0.19040</td>\n",
       "      <td>-0.11593</td>\n",
       "      <td>-0.16626</td>\n",
       "      <td>-0.06288</td>\n",
       "      <td>-0.13738</td>\n",
       "      <td>-0.02447</td>\n",
       "      <td>b</td>\n",
       "    </tr>\n",
       "    <tr>\n",
       "      <th>2</th>\n",
       "      <td>1</td>\n",
       "      <td>0</td>\n",
       "      <td>1.00000</td>\n",
       "      <td>-0.03365</td>\n",
       "      <td>1.00000</td>\n",
       "      <td>0.00485</td>\n",
       "      <td>1.00000</td>\n",
       "      <td>-0.12062</td>\n",
       "      <td>0.88965</td>\n",
       "      <td>0.01198</td>\n",
       "      <td>...</td>\n",
       "      <td>-0.40220</td>\n",
       "      <td>0.58984</td>\n",
       "      <td>-0.22145</td>\n",
       "      <td>0.43100</td>\n",
       "      <td>-0.17365</td>\n",
       "      <td>0.60436</td>\n",
       "      <td>-0.24180</td>\n",
       "      <td>0.56045</td>\n",
       "      <td>-0.38238</td>\n",
       "      <td>g</td>\n",
       "    </tr>\n",
       "    <tr>\n",
       "      <th>3</th>\n",
       "      <td>1</td>\n",
       "      <td>0</td>\n",
       "      <td>1.00000</td>\n",
       "      <td>-0.45161</td>\n",
       "      <td>1.00000</td>\n",
       "      <td>1.00000</td>\n",
       "      <td>0.71216</td>\n",
       "      <td>-1.00000</td>\n",
       "      <td>0.00000</td>\n",
       "      <td>0.00000</td>\n",
       "      <td>...</td>\n",
       "      <td>0.90695</td>\n",
       "      <td>0.51613</td>\n",
       "      <td>1.00000</td>\n",
       "      <td>1.00000</td>\n",
       "      <td>-0.20099</td>\n",
       "      <td>0.25682</td>\n",
       "      <td>1.00000</td>\n",
       "      <td>-0.32382</td>\n",
       "      <td>1.00000</td>\n",
       "      <td>b</td>\n",
       "    </tr>\n",
       "    <tr>\n",
       "      <th>4</th>\n",
       "      <td>1</td>\n",
       "      <td>0</td>\n",
       "      <td>1.00000</td>\n",
       "      <td>-0.02401</td>\n",
       "      <td>0.94140</td>\n",
       "      <td>0.06531</td>\n",
       "      <td>0.92106</td>\n",
       "      <td>-0.23255</td>\n",
       "      <td>0.77152</td>\n",
       "      <td>-0.16399</td>\n",
       "      <td>...</td>\n",
       "      <td>-0.65158</td>\n",
       "      <td>0.13290</td>\n",
       "      <td>-0.53206</td>\n",
       "      <td>0.02431</td>\n",
       "      <td>-0.62197</td>\n",
       "      <td>-0.05707</td>\n",
       "      <td>-0.59573</td>\n",
       "      <td>-0.04608</td>\n",
       "      <td>-0.65697</td>\n",
       "      <td>g</td>\n",
       "    </tr>\n",
       "  </tbody>\n",
       "</table>\n",
       "<p>5 rows × 35 columns</p>\n",
       "</div>"
      ],
      "text/plain": [
       "   0   1        2        3        4        5        6        7        8   \\\n",
       "0   1   0  0.99539 -0.05889  0.85243  0.02306  0.83398 -0.37708  1.00000   \n",
       "1   1   0  1.00000 -0.18829  0.93035 -0.36156 -0.10868 -0.93597  1.00000   \n",
       "2   1   0  1.00000 -0.03365  1.00000  0.00485  1.00000 -0.12062  0.88965   \n",
       "3   1   0  1.00000 -0.45161  1.00000  1.00000  0.71216 -1.00000  0.00000   \n",
       "4   1   0  1.00000 -0.02401  0.94140  0.06531  0.92106 -0.23255  0.77152   \n",
       "\n",
       "        9   ...       25       26       27       28       29       30  \\\n",
       "0  0.03760  ... -0.51171  0.41078 -0.46168  0.21266 -0.34090  0.42267   \n",
       "1 -0.04549  ... -0.26569 -0.20468 -0.18401 -0.19040 -0.11593 -0.16626   \n",
       "2  0.01198  ... -0.40220  0.58984 -0.22145  0.43100 -0.17365  0.60436   \n",
       "3  0.00000  ...  0.90695  0.51613  1.00000  1.00000 -0.20099  0.25682   \n",
       "4 -0.16399  ... -0.65158  0.13290 -0.53206  0.02431 -0.62197 -0.05707   \n",
       "\n",
       "        31       32       33  34  \n",
       "0 -0.54487  0.18641 -0.45300   g  \n",
       "1 -0.06288 -0.13738 -0.02447   b  \n",
       "2 -0.24180  0.56045 -0.38238   g  \n",
       "3  1.00000 -0.32382  1.00000   b  \n",
       "4 -0.59573 -0.04608 -0.65697   g  \n",
       "\n",
       "[5 rows x 35 columns]"
      ]
     },
     "execution_count": 91,
     "metadata": {},
     "output_type": "execute_result"
    }
   ],
   "source": [
    "data_df = pd.read_csv('ionosphere.data', header=None)\n",
    "data_df.head()"
   ]
  },
  {
   "cell_type": "code",
   "execution_count": 92,
   "metadata": {
    "colab": {
     "base_uri": "https://localhost:8080/",
     "height": 596
    },
    "id": "PWMWQKQ702pQ",
    "outputId": "80ccd743-533a-4a5d-c009-9318021035a1",
    "scrolled": true
   },
   "outputs": [
    {
     "data": {
      "text/plain": [
       "(351, 35)"
      ]
     },
     "execution_count": 92,
     "metadata": {},
     "output_type": "execute_result"
    }
   ],
   "source": [
    "data_df.shape"
   ]
  },
  {
   "cell_type": "code",
   "execution_count": 93,
   "metadata": {},
   "outputs": [
    {
     "data": {
      "text/plain": [
       "0     0\n",
       "1     0\n",
       "2     0\n",
       "3     0\n",
       "4     0\n",
       "5     0\n",
       "6     0\n",
       "7     0\n",
       "8     0\n",
       "9     0\n",
       "10    0\n",
       "11    0\n",
       "12    0\n",
       "13    0\n",
       "14    0\n",
       "15    0\n",
       "16    0\n",
       "17    0\n",
       "18    0\n",
       "19    0\n",
       "20    0\n",
       "21    0\n",
       "22    0\n",
       "23    0\n",
       "24    0\n",
       "25    0\n",
       "26    0\n",
       "27    0\n",
       "28    0\n",
       "29    0\n",
       "30    0\n",
       "31    0\n",
       "32    0\n",
       "33    0\n",
       "34    0\n",
       "dtype: int64"
      ]
     },
     "execution_count": 93,
     "metadata": {},
     "output_type": "execute_result"
    }
   ],
   "source": [
    "data_df.isnull().sum()"
   ]
  },
  {
   "cell_type": "code",
   "execution_count": 94,
   "metadata": {},
   "outputs": [
    {
     "data": {
      "text/plain": [
       "Index([               0,                1,                2,                3,\n",
       "                      4,                5,                6,                7,\n",
       "                      8,                9,               10,               11,\n",
       "                     12,               13,               14,               15,\n",
       "                     16,               17,               18,               19,\n",
       "                     20,               21,               22,               23,\n",
       "                     24,               25,               26,               27,\n",
       "                     28,               29,               30,               31,\n",
       "                     32,               33, 'Classification'],\n",
       "      dtype='object')"
      ]
     },
     "execution_count": 94,
     "metadata": {},
     "output_type": "execute_result"
    }
   ],
   "source": [
    "data_df = data_df.rename(columns={34: 'Classification'})\n",
    "data_df.columns"
   ]
  },
  {
   "cell_type": "code",
   "execution_count": 95,
   "metadata": {},
   "outputs": [
    {
     "data": {
      "text/plain": [
       "0                 0\n",
       "1                 0\n",
       "2                 0\n",
       "3                 0\n",
       "4                 0\n",
       "5                 0\n",
       "6                 0\n",
       "7                 0\n",
       "8                 0\n",
       "9                 0\n",
       "10                0\n",
       "11                0\n",
       "12                0\n",
       "13                0\n",
       "14                0\n",
       "15                0\n",
       "16                0\n",
       "17                0\n",
       "18                0\n",
       "19                0\n",
       "20                0\n",
       "21                0\n",
       "22                0\n",
       "23                0\n",
       "24                0\n",
       "25                0\n",
       "26                0\n",
       "27                0\n",
       "28                0\n",
       "29                0\n",
       "30                0\n",
       "31                0\n",
       "32                0\n",
       "33                0\n",
       "Classification    0\n",
       "dtype: int64"
      ]
     },
     "execution_count": 95,
     "metadata": {},
     "output_type": "execute_result"
    }
   ],
   "source": [
    "data_df.isna().sum()"
   ]
  },
  {
   "cell_type": "code",
   "execution_count": 96,
   "metadata": {},
   "outputs": [
    {
     "data": {
      "text/html": [
       "<div>\n",
       "<style scoped>\n",
       "    .dataframe tbody tr th:only-of-type {\n",
       "        vertical-align: middle;\n",
       "    }\n",
       "\n",
       "    .dataframe tbody tr th {\n",
       "        vertical-align: top;\n",
       "    }\n",
       "\n",
       "    .dataframe thead th {\n",
       "        text-align: right;\n",
       "    }\n",
       "</style>\n",
       "<table border=\"1\" class=\"dataframe\">\n",
       "  <thead>\n",
       "    <tr style=\"text-align: right;\">\n",
       "      <th></th>\n",
       "      <th>0</th>\n",
       "      <th>1</th>\n",
       "      <th>2</th>\n",
       "      <th>3</th>\n",
       "      <th>4</th>\n",
       "      <th>5</th>\n",
       "      <th>6</th>\n",
       "      <th>7</th>\n",
       "      <th>8</th>\n",
       "      <th>9</th>\n",
       "      <th>...</th>\n",
       "      <th>25</th>\n",
       "      <th>26</th>\n",
       "      <th>27</th>\n",
       "      <th>28</th>\n",
       "      <th>29</th>\n",
       "      <th>30</th>\n",
       "      <th>31</th>\n",
       "      <th>32</th>\n",
       "      <th>33</th>\n",
       "      <th>Classification</th>\n",
       "    </tr>\n",
       "  </thead>\n",
       "  <tbody>\n",
       "    <tr>\n",
       "      <th>0</th>\n",
       "      <td>1</td>\n",
       "      <td>0</td>\n",
       "      <td>0.99539</td>\n",
       "      <td>-0.05889</td>\n",
       "      <td>0.85243</td>\n",
       "      <td>0.02306</td>\n",
       "      <td>0.83398</td>\n",
       "      <td>-0.37708</td>\n",
       "      <td>1.00000</td>\n",
       "      <td>0.03760</td>\n",
       "      <td>...</td>\n",
       "      <td>-0.51171</td>\n",
       "      <td>0.41078</td>\n",
       "      <td>-0.46168</td>\n",
       "      <td>0.21266</td>\n",
       "      <td>-0.34090</td>\n",
       "      <td>0.42267</td>\n",
       "      <td>-0.54487</td>\n",
       "      <td>0.18641</td>\n",
       "      <td>-0.45300</td>\n",
       "      <td>g</td>\n",
       "    </tr>\n",
       "    <tr>\n",
       "      <th>1</th>\n",
       "      <td>1</td>\n",
       "      <td>0</td>\n",
       "      <td>1.00000</td>\n",
       "      <td>-0.18829</td>\n",
       "      <td>0.93035</td>\n",
       "      <td>-0.36156</td>\n",
       "      <td>-0.10868</td>\n",
       "      <td>-0.93597</td>\n",
       "      <td>1.00000</td>\n",
       "      <td>-0.04549</td>\n",
       "      <td>...</td>\n",
       "      <td>-0.26569</td>\n",
       "      <td>-0.20468</td>\n",
       "      <td>-0.18401</td>\n",
       "      <td>-0.19040</td>\n",
       "      <td>-0.11593</td>\n",
       "      <td>-0.16626</td>\n",
       "      <td>-0.06288</td>\n",
       "      <td>-0.13738</td>\n",
       "      <td>-0.02447</td>\n",
       "      <td>b</td>\n",
       "    </tr>\n",
       "    <tr>\n",
       "      <th>2</th>\n",
       "      <td>1</td>\n",
       "      <td>0</td>\n",
       "      <td>1.00000</td>\n",
       "      <td>-0.03365</td>\n",
       "      <td>1.00000</td>\n",
       "      <td>0.00485</td>\n",
       "      <td>1.00000</td>\n",
       "      <td>-0.12062</td>\n",
       "      <td>0.88965</td>\n",
       "      <td>0.01198</td>\n",
       "      <td>...</td>\n",
       "      <td>-0.40220</td>\n",
       "      <td>0.58984</td>\n",
       "      <td>-0.22145</td>\n",
       "      <td>0.43100</td>\n",
       "      <td>-0.17365</td>\n",
       "      <td>0.60436</td>\n",
       "      <td>-0.24180</td>\n",
       "      <td>0.56045</td>\n",
       "      <td>-0.38238</td>\n",
       "      <td>g</td>\n",
       "    </tr>\n",
       "    <tr>\n",
       "      <th>3</th>\n",
       "      <td>1</td>\n",
       "      <td>0</td>\n",
       "      <td>1.00000</td>\n",
       "      <td>-0.45161</td>\n",
       "      <td>1.00000</td>\n",
       "      <td>1.00000</td>\n",
       "      <td>0.71216</td>\n",
       "      <td>-1.00000</td>\n",
       "      <td>0.00000</td>\n",
       "      <td>0.00000</td>\n",
       "      <td>...</td>\n",
       "      <td>0.90695</td>\n",
       "      <td>0.51613</td>\n",
       "      <td>1.00000</td>\n",
       "      <td>1.00000</td>\n",
       "      <td>-0.20099</td>\n",
       "      <td>0.25682</td>\n",
       "      <td>1.00000</td>\n",
       "      <td>-0.32382</td>\n",
       "      <td>1.00000</td>\n",
       "      <td>b</td>\n",
       "    </tr>\n",
       "    <tr>\n",
       "      <th>4</th>\n",
       "      <td>1</td>\n",
       "      <td>0</td>\n",
       "      <td>1.00000</td>\n",
       "      <td>-0.02401</td>\n",
       "      <td>0.94140</td>\n",
       "      <td>0.06531</td>\n",
       "      <td>0.92106</td>\n",
       "      <td>-0.23255</td>\n",
       "      <td>0.77152</td>\n",
       "      <td>-0.16399</td>\n",
       "      <td>...</td>\n",
       "      <td>-0.65158</td>\n",
       "      <td>0.13290</td>\n",
       "      <td>-0.53206</td>\n",
       "      <td>0.02431</td>\n",
       "      <td>-0.62197</td>\n",
       "      <td>-0.05707</td>\n",
       "      <td>-0.59573</td>\n",
       "      <td>-0.04608</td>\n",
       "      <td>-0.65697</td>\n",
       "      <td>g</td>\n",
       "    </tr>\n",
       "  </tbody>\n",
       "</table>\n",
       "<p>5 rows × 35 columns</p>\n",
       "</div>"
      ],
      "text/plain": [
       "   0  1        2        3        4        5        6        7        8  \\\n",
       "0  1  0  0.99539 -0.05889  0.85243  0.02306  0.83398 -0.37708  1.00000   \n",
       "1  1  0  1.00000 -0.18829  0.93035 -0.36156 -0.10868 -0.93597  1.00000   \n",
       "2  1  0  1.00000 -0.03365  1.00000  0.00485  1.00000 -0.12062  0.88965   \n",
       "3  1  0  1.00000 -0.45161  1.00000  1.00000  0.71216 -1.00000  0.00000   \n",
       "4  1  0  1.00000 -0.02401  0.94140  0.06531  0.92106 -0.23255  0.77152   \n",
       "\n",
       "         9  ...       25       26       27       28       29       30  \\\n",
       "0  0.03760  ... -0.51171  0.41078 -0.46168  0.21266 -0.34090  0.42267   \n",
       "1 -0.04549  ... -0.26569 -0.20468 -0.18401 -0.19040 -0.11593 -0.16626   \n",
       "2  0.01198  ... -0.40220  0.58984 -0.22145  0.43100 -0.17365  0.60436   \n",
       "3  0.00000  ...  0.90695  0.51613  1.00000  1.00000 -0.20099  0.25682   \n",
       "4 -0.16399  ... -0.65158  0.13290 -0.53206  0.02431 -0.62197 -0.05707   \n",
       "\n",
       "        31       32       33  Classification  \n",
       "0 -0.54487  0.18641 -0.45300               g  \n",
       "1 -0.06288 -0.13738 -0.02447               b  \n",
       "2 -0.24180  0.56045 -0.38238               g  \n",
       "3  1.00000 -0.32382  1.00000               b  \n",
       "4 -0.59573 -0.04608 -0.65697               g  \n",
       "\n",
       "[5 rows x 35 columns]"
      ]
     },
     "execution_count": 96,
     "metadata": {},
     "output_type": "execute_result"
    }
   ],
   "source": [
    "data_df.head()"
   ]
  },
  {
   "cell_type": "code",
   "execution_count": 97,
   "metadata": {},
   "outputs": [
    {
     "data": {
      "text/plain": [
       "array(['g', 'b'], dtype=object)"
      ]
     },
     "execution_count": 97,
     "metadata": {},
     "output_type": "execute_result"
    }
   ],
   "source": [
    "data_df['Classification'].unique()"
   ]
  },
  {
   "cell_type": "code",
   "execution_count": 98,
   "metadata": {},
   "outputs": [],
   "source": [
    "labels = { 'g' : 'Good', 'b': 'Bad'}"
   ]
  },
  {
   "cell_type": "code",
   "execution_count": 99,
   "metadata": {},
   "outputs": [
    {
     "data": {
      "text/plain": [
       "((351, 34), (351,))"
      ]
     },
     "execution_count": 99,
     "metadata": {},
     "output_type": "execute_result"
    }
   ],
   "source": [
    "features_df = data_df.drop('Classification', axis = 1) # drop label col\n",
    "\n",
    "label_df = data_df['Classification'] # labels\n",
    "\n",
    "features_df.shape, label_df.shape"
   ]
  },
  {
   "cell_type": "code",
   "execution_count": 100,
   "metadata": {},
   "outputs": [
    {
     "data": {
      "text/html": [
       "<div>\n",
       "<style scoped>\n",
       "    .dataframe tbody tr th:only-of-type {\n",
       "        vertical-align: middle;\n",
       "    }\n",
       "\n",
       "    .dataframe tbody tr th {\n",
       "        vertical-align: top;\n",
       "    }\n",
       "\n",
       "    .dataframe thead th {\n",
       "        text-align: right;\n",
       "    }\n",
       "</style>\n",
       "<table border=\"1\" class=\"dataframe\">\n",
       "  <thead>\n",
       "    <tr style=\"text-align: right;\">\n",
       "      <th></th>\n",
       "      <th>b</th>\n",
       "      <th>g</th>\n",
       "    </tr>\n",
       "  </thead>\n",
       "  <tbody>\n",
       "    <tr>\n",
       "      <th>0</th>\n",
       "      <td>False</td>\n",
       "      <td>True</td>\n",
       "    </tr>\n",
       "    <tr>\n",
       "      <th>1</th>\n",
       "      <td>True</td>\n",
       "      <td>False</td>\n",
       "    </tr>\n",
       "    <tr>\n",
       "      <th>2</th>\n",
       "      <td>False</td>\n",
       "      <td>True</td>\n",
       "    </tr>\n",
       "    <tr>\n",
       "      <th>3</th>\n",
       "      <td>True</td>\n",
       "      <td>False</td>\n",
       "    </tr>\n",
       "    <tr>\n",
       "      <th>4</th>\n",
       "      <td>False</td>\n",
       "      <td>True</td>\n",
       "    </tr>\n",
       "    <tr>\n",
       "      <th>...</th>\n",
       "      <td>...</td>\n",
       "      <td>...</td>\n",
       "    </tr>\n",
       "    <tr>\n",
       "      <th>346</th>\n",
       "      <td>False</td>\n",
       "      <td>True</td>\n",
       "    </tr>\n",
       "    <tr>\n",
       "      <th>347</th>\n",
       "      <td>False</td>\n",
       "      <td>True</td>\n",
       "    </tr>\n",
       "    <tr>\n",
       "      <th>348</th>\n",
       "      <td>False</td>\n",
       "      <td>True</td>\n",
       "    </tr>\n",
       "    <tr>\n",
       "      <th>349</th>\n",
       "      <td>False</td>\n",
       "      <td>True</td>\n",
       "    </tr>\n",
       "    <tr>\n",
       "      <th>350</th>\n",
       "      <td>False</td>\n",
       "      <td>True</td>\n",
       "    </tr>\n",
       "  </tbody>\n",
       "</table>\n",
       "<p>351 rows × 2 columns</p>\n",
       "</div>"
      ],
      "text/plain": [
       "         b      g\n",
       "0    False   True\n",
       "1     True  False\n",
       "2    False   True\n",
       "3     True  False\n",
       "4    False   True\n",
       "..     ...    ...\n",
       "346  False   True\n",
       "347  False   True\n",
       "348  False   True\n",
       "349  False   True\n",
       "350  False   True\n",
       "\n",
       "[351 rows x 2 columns]"
      ]
     },
     "execution_count": 100,
     "metadata": {},
     "output_type": "execute_result"
    }
   ],
   "source": [
    "label_df = pd.get_dummies(label_df)\n",
    "label_df"
   ]
  },
  {
   "cell_type": "code",
   "execution_count": 101,
   "metadata": {},
   "outputs": [
    {
     "data": {
      "text/html": [
       "<div>\n",
       "<style scoped>\n",
       "    .dataframe tbody tr th:only-of-type {\n",
       "        vertical-align: middle;\n",
       "    }\n",
       "\n",
       "    .dataframe tbody tr th {\n",
       "        vertical-align: top;\n",
       "    }\n",
       "\n",
       "    .dataframe thead th {\n",
       "        text-align: right;\n",
       "    }\n",
       "</style>\n",
       "<table border=\"1\" class=\"dataframe\">\n",
       "  <thead>\n",
       "    <tr style=\"text-align: right;\">\n",
       "      <th></th>\n",
       "      <th>b</th>\n",
       "      <th>g</th>\n",
       "    </tr>\n",
       "  </thead>\n",
       "  <tbody>\n",
       "    <tr>\n",
       "      <th>0</th>\n",
       "      <td>False</td>\n",
       "      <td>True</td>\n",
       "    </tr>\n",
       "    <tr>\n",
       "      <th>1</th>\n",
       "      <td>True</td>\n",
       "      <td>False</td>\n",
       "    </tr>\n",
       "    <tr>\n",
       "      <th>2</th>\n",
       "      <td>False</td>\n",
       "      <td>True</td>\n",
       "    </tr>\n",
       "    <tr>\n",
       "      <th>3</th>\n",
       "      <td>True</td>\n",
       "      <td>False</td>\n",
       "    </tr>\n",
       "    <tr>\n",
       "      <th>4</th>\n",
       "      <td>False</td>\n",
       "      <td>True</td>\n",
       "    </tr>\n",
       "  </tbody>\n",
       "</table>\n",
       "</div>"
      ],
      "text/plain": [
       "       b      g\n",
       "0  False   True\n",
       "1   True  False\n",
       "2  False   True\n",
       "3   True  False\n",
       "4  False   True"
      ]
     },
     "execution_count": 101,
     "metadata": {},
     "output_type": "execute_result"
    }
   ],
   "source": [
    "label_df.head()"
   ]
  },
  {
   "cell_type": "code",
   "execution_count": 102,
   "metadata": {},
   "outputs": [
    {
     "name": "stdout",
     "output_type": "stream",
     "text": [
      "(256, 34) (256, 2) (95, 34) (95, 2)\n"
     ]
    }
   ],
   "source": [
    "#  Split the data in training and test sets to measure performance of the model.\n",
    "X_train, X_test, y_train, y_test = train_test_split(features_df, label_df, \n",
    "                                                    stratify=label_df,\n",
    "                                                    train_size=TRAIN_SIZE, \n",
    "                                                    random_state=RANDOM_STATE )\n",
    "\n",
    "print (X_train.shape, y_train.shape, X_test.shape, y_test.shape)"
   ]
  },
  {
   "cell_type": "code",
   "execution_count": 103,
   "metadata": {},
   "outputs": [],
   "source": [
    "scaler = StandardScaler() # get the scaler\n",
    "\n",
    "X_train = scaler.fit_transform(X_train) # train\n",
    "X_test = scaler.transform(X_test) # test\n",
    "\n",
    "y_train = y_train.to_numpy() # array\n",
    "y_test = y_test.to_numpy() # convert to array"
   ]
  },
  {
   "cell_type": "code",
   "execution_count": 104,
   "metadata": {},
   "outputs": [
    {
     "data": {
      "text/plain": [
       "array([[ True, False],\n",
       "       [False,  True],\n",
       "       [False,  True],\n",
       "       [False,  True],\n",
       "       [False,  True],\n",
       "       [ True, False],\n",
       "       [False,  True],\n",
       "       [ True, False],\n",
       "       [ True, False],\n",
       "       [False,  True],\n",
       "       [False,  True],\n",
       "       [ True, False],\n",
       "       [ True, False],\n",
       "       [ True, False],\n",
       "       [ True, False],\n",
       "       [False,  True],\n",
       "       [False,  True],\n",
       "       [ True, False],\n",
       "       [ True, False],\n",
       "       [False,  True],\n",
       "       [False,  True],\n",
       "       [False,  True],\n",
       "       [False,  True],\n",
       "       [False,  True],\n",
       "       [False,  True],\n",
       "       [False,  True],\n",
       "       [ True, False],\n",
       "       [False,  True],\n",
       "       [False,  True],\n",
       "       [ True, False],\n",
       "       [False,  True],\n",
       "       [False,  True],\n",
       "       [False,  True],\n",
       "       [False,  True],\n",
       "       [False,  True],\n",
       "       [ True, False],\n",
       "       [False,  True],\n",
       "       [False,  True],\n",
       "       [False,  True],\n",
       "       [False,  True],\n",
       "       [ True, False],\n",
       "       [ True, False],\n",
       "       [ True, False],\n",
       "       [ True, False],\n",
       "       [ True, False],\n",
       "       [ True, False],\n",
       "       [ True, False],\n",
       "       [False,  True],\n",
       "       [False,  True],\n",
       "       [False,  True],\n",
       "       [ True, False],\n",
       "       [ True, False],\n",
       "       [False,  True],\n",
       "       [False,  True],\n",
       "       [ True, False],\n",
       "       [False,  True],\n",
       "       [False,  True],\n",
       "       [False,  True],\n",
       "       [ True, False],\n",
       "       [False,  True],\n",
       "       [ True, False],\n",
       "       [False,  True],\n",
       "       [False,  True],\n",
       "       [False,  True],\n",
       "       [False,  True],\n",
       "       [False,  True],\n",
       "       [False,  True],\n",
       "       [False,  True],\n",
       "       [False,  True],\n",
       "       [False,  True],\n",
       "       [ True, False],\n",
       "       [False,  True],\n",
       "       [False,  True],\n",
       "       [False,  True],\n",
       "       [False,  True],\n",
       "       [False,  True],\n",
       "       [False,  True],\n",
       "       [False,  True],\n",
       "       [ True, False],\n",
       "       [False,  True],\n",
       "       [ True, False],\n",
       "       [False,  True],\n",
       "       [False,  True],\n",
       "       [ True, False],\n",
       "       [ True, False],\n",
       "       [False,  True],\n",
       "       [False,  True],\n",
       "       [False,  True],\n",
       "       [ True, False],\n",
       "       [False,  True],\n",
       "       [ True, False],\n",
       "       [ True, False],\n",
       "       [ True, False],\n",
       "       [ True, False],\n",
       "       [ True, False],\n",
       "       [False,  True],\n",
       "       [False,  True],\n",
       "       [False,  True],\n",
       "       [ True, False],\n",
       "       [False,  True],\n",
       "       [False,  True],\n",
       "       [ True, False],\n",
       "       [ True, False],\n",
       "       [ True, False],\n",
       "       [False,  True],\n",
       "       [False,  True],\n",
       "       [ True, False],\n",
       "       [ True, False],\n",
       "       [ True, False],\n",
       "       [False,  True],\n",
       "       [False,  True],\n",
       "       [ True, False],\n",
       "       [False,  True],\n",
       "       [False,  True],\n",
       "       [ True, False],\n",
       "       [False,  True],\n",
       "       [ True, False],\n",
       "       [ True, False],\n",
       "       [ True, False],\n",
       "       [ True, False],\n",
       "       [ True, False],\n",
       "       [ True, False],\n",
       "       [False,  True],\n",
       "       [False,  True],\n",
       "       [False,  True],\n",
       "       [False,  True],\n",
       "       [False,  True],\n",
       "       [False,  True],\n",
       "       [ True, False],\n",
       "       [ True, False],\n",
       "       [False,  True],\n",
       "       [False,  True],\n",
       "       [ True, False],\n",
       "       [False,  True],\n",
       "       [False,  True],\n",
       "       [False,  True],\n",
       "       [False,  True],\n",
       "       [False,  True],\n",
       "       [False,  True],\n",
       "       [False,  True],\n",
       "       [False,  True],\n",
       "       [False,  True],\n",
       "       [ True, False],\n",
       "       [ True, False],\n",
       "       [ True, False],\n",
       "       [ True, False],\n",
       "       [False,  True],\n",
       "       [ True, False],\n",
       "       [False,  True],\n",
       "       [False,  True],\n",
       "       [ True, False],\n",
       "       [ True, False],\n",
       "       [False,  True],\n",
       "       [False,  True],\n",
       "       [False,  True],\n",
       "       [False,  True],\n",
       "       [ True, False],\n",
       "       [ True, False],\n",
       "       [False,  True],\n",
       "       [False,  True],\n",
       "       [False,  True],\n",
       "       [False,  True],\n",
       "       [False,  True],\n",
       "       [ True, False],\n",
       "       [False,  True],\n",
       "       [False,  True],\n",
       "       [False,  True],\n",
       "       [False,  True],\n",
       "       [ True, False],\n",
       "       [ True, False],\n",
       "       [False,  True],\n",
       "       [False,  True],\n",
       "       [ True, False],\n",
       "       [False,  True],\n",
       "       [ True, False],\n",
       "       [False,  True],\n",
       "       [False,  True],\n",
       "       [False,  True],\n",
       "       [ True, False],\n",
       "       [False,  True],\n",
       "       [False,  True],\n",
       "       [False,  True],\n",
       "       [False,  True],\n",
       "       [ True, False],\n",
       "       [False,  True],\n",
       "       [ True, False],\n",
       "       [False,  True],\n",
       "       [False,  True],\n",
       "       [False,  True],\n",
       "       [False,  True],\n",
       "       [False,  True],\n",
       "       [False,  True],\n",
       "       [False,  True],\n",
       "       [False,  True],\n",
       "       [False,  True],\n",
       "       [ True, False],\n",
       "       [False,  True],\n",
       "       [ True, False],\n",
       "       [False,  True],\n",
       "       [ True, False],\n",
       "       [False,  True],\n",
       "       [False,  True],\n",
       "       [ True, False],\n",
       "       [False,  True],\n",
       "       [ True, False],\n",
       "       [ True, False],\n",
       "       [False,  True],\n",
       "       [False,  True],\n",
       "       [False,  True],\n",
       "       [ True, False],\n",
       "       [False,  True],\n",
       "       [ True, False],\n",
       "       [False,  True],\n",
       "       [False,  True],\n",
       "       [False,  True],\n",
       "       [False,  True],\n",
       "       [ True, False],\n",
       "       [ True, False],\n",
       "       [ True, False],\n",
       "       [False,  True],\n",
       "       [False,  True],\n",
       "       [False,  True],\n",
       "       [ True, False],\n",
       "       [False,  True],\n",
       "       [False,  True],\n",
       "       [False,  True],\n",
       "       [False,  True],\n",
       "       [False,  True],\n",
       "       [False,  True],\n",
       "       [False,  True],\n",
       "       [ True, False],\n",
       "       [False,  True],\n",
       "       [ True, False],\n",
       "       [False,  True],\n",
       "       [False,  True],\n",
       "       [False,  True],\n",
       "       [False,  True],\n",
       "       [ True, False],\n",
       "       [False,  True],\n",
       "       [False,  True],\n",
       "       [False,  True],\n",
       "       [False,  True],\n",
       "       [False,  True],\n",
       "       [False,  True],\n",
       "       [ True, False],\n",
       "       [False,  True],\n",
       "       [ True, False],\n",
       "       [ True, False],\n",
       "       [False,  True],\n",
       "       [False,  True],\n",
       "       [ True, False],\n",
       "       [False,  True],\n",
       "       [False,  True],\n",
       "       [ True, False],\n",
       "       [ True, False],\n",
       "       [False,  True]])"
      ]
     },
     "execution_count": 104,
     "metadata": {},
     "output_type": "execute_result"
    }
   ],
   "source": [
    "y_train"
   ]
  },
  {
   "cell_type": "markdown",
   "metadata": {
    "id": "c7w9j7Yo02pX"
   },
   "source": [
    "## Neural Network\n",
    "\n",
    "Let's start with simple network. Our data has **two** features. Hence size of input layer will also be two. Lets code our output as two classes. The hidden layer could be of **any size**. One need to execute a handful of iterations to arrive at right size of hidden layer. For purpose of today's discussions, size of hidden layer is taken as shown below.\n",
    "<img src='../../images/dnn_nb_s05_fig1.png' width = '500' alt = 'Session 5 Figure 1'/>"
   ]
  },
  {
   "cell_type": "markdown",
   "metadata": {},
   "source": [
    "## Prepare Model:"
   ]
  },
  {
   "cell_type": "code",
   "execution_count": 105,
   "metadata": {},
   "outputs": [
    {
     "name": "stdout",
     "output_type": "stream",
     "text": [
      "Model: \"model_2\"\n",
      "_________________________________________________________________\n",
      " Layer (type)                Output Shape              Param #   \n",
      "=================================================================\n",
      " input_3 (InputLayer)        [(None, 34)]              0         \n",
      "                                                                 \n",
      " dense_6 (Dense)             (None, 18)                630       \n",
      "                                                                 \n",
      " batch_normalization_4 (Batc  (None, 18)               72        \n",
      " hNormalization)                                                 \n",
      "                                                                 \n",
      " dropout_4 (Dropout)         (None, 18)                0         \n",
      "                                                                 \n",
      " dense_7 (Dense)             (None, 9)                 171       \n",
      "                                                                 \n",
      " batch_normalization_5 (Batc  (None, 9)                36        \n",
      " hNormalization)                                                 \n",
      "                                                                 \n",
      " dropout_5 (Dropout)         (None, 9)                 0         \n",
      "                                                                 \n",
      " dense_8 (Dense)             (None, 2)                 20        \n",
      "                                                                 \n",
      "=================================================================\n",
      "Total params: 929\n",
      "Trainable params: 875\n",
      "Non-trainable params: 54\n",
      "_________________________________________________________________\n"
     ]
    }
   ],
   "source": [
    "knl_reg = tf.keras.regularizers.L2(l2 = 0.001)\n",
    "\n",
    "dor1 = 0.2\n",
    "\n",
    "# model = tf.keras.Sequential([\n",
    "    \n",
    "#     tf.keras.layers.Dense(18, #activation='swish',\n",
    "#                           kernel_regularizer = knl_reg ),\n",
    "    \n",
    "#     tf.keras.layers.BatchNormalization(),\n",
    "    \n",
    "#     #Put Activation Layer here\n",
    "#     tf.keras.layers.Activation('relu'),\n",
    "    \n",
    "#     tf.keras.layers.Dropout(rate=dor1, seed=RANDOM_STATE),\n",
    "    \n",
    "#     tf.keras.layers.Dense(9, #activation='relu',\n",
    "#                           kernel_regularizer = knl_reg ),\n",
    "    \n",
    "#     tf.keras.layers.Dense(2)\n",
    "\n",
    "# ])\n",
    "\n",
    "input_layer = tf.keras.Input(shape=(34,))\n",
    "\n",
    "x = tf.keras.layers.Dense(18, activation='relu',\n",
    "                          kernel_regularizer = knl_reg ) (input_layer)\n",
    "\n",
    "x = tf.keras.layers.BatchNormalization()(x)\n",
    "x = tf.keras.layers.Dropout(dor1)(x)\n",
    "\n",
    "x = tf.keras.layers.Dense(9, activation='relu',\n",
    "                          kernel_regularizer = knl_reg ) (x)\n",
    "\n",
    "x = tf.keras.layers.BatchNormalization()(x)\n",
    "x = tf.keras.layers.Dropout(dor1)(x)\n",
    "\n",
    "output_layer = tf.keras.layers.Dense(2) (x)\n",
    "\n",
    "model = tf.keras.Model(inputs= input_layer, outputs = output_layer)\n",
    "\n",
    "model.summary()"
   ]
  },
  {
   "cell_type": "code",
   "execution_count": 106,
   "metadata": {},
   "outputs": [],
   "source": [
    "loss_function = tf.losses.CategoricalCrossentropy(from_logits=True)"
   ]
  },
  {
   "cell_type": "code",
   "execution_count": 107,
   "metadata": {},
   "outputs": [
    {
     "data": {
      "text/plain": [
       "(1, 34)"
      ]
     },
     "execution_count": 107,
     "metadata": {},
     "output_type": "execute_result"
    }
   ],
   "source": [
    "X_train[:1].shape"
   ]
  },
  {
   "cell_type": "code",
   "execution_count": 108,
   "metadata": {
    "colab": {
     "base_uri": "https://localhost:8080/",
     "height": 613
    },
    "id": "oa8WtTI202pn",
    "outputId": "3f0ca548-7715-47c7-b4fd-fac7924bc060"
   },
   "outputs": [],
   "source": [
    "model.compile(optimizer='rmsprop', \n",
    "              loss=loss_function,\n",
    "              metrics=['accuracy'])"
   ]
  },
  {
   "cell_type": "code",
   "execution_count": 109,
   "metadata": {},
   "outputs": [],
   "source": [
    "es_check_point = tf.keras.callbacks.EarlyStopping(\n",
    "    monitor='val_loss',\n",
    "    patience=PATIENCE,\n",
    "    verbose=1,\n",
    "    restore_best_weights=True,\n",
    "    start_from_epoch=0,\n",
    ")"
   ]
  },
  {
   "cell_type": "code",
   "execution_count": 110,
   "metadata": {},
   "outputs": [],
   "source": [
    "# history = model.fit(X_train, y_train, \n",
    "#                     validation_data=[X_test, y_test],\n",
    "#                     epochs=EPOCHS,\n",
    "#                     verbose=2,\n",
    "#                     batch_size=BATCH_SIZE,\n",
    "#                     callbacks=[ es_check_point ]\n",
    "#                     )"
   ]
  },
  {
   "cell_type": "code",
   "execution_count": 111,
   "metadata": {},
   "outputs": [
    {
     "name": "stdout",
     "output_type": "stream",
     "text": [
      "Epoch 1/101\n",
      "8/8 - 2s - loss: 0.9384 - accuracy: 0.5703 - val_loss: 0.6814 - val_accuracy: 0.6421 - 2s/epoch - 204ms/step\n",
      "Epoch 2/101\n",
      "8/8 - 0s - loss: 0.7656 - accuracy: 0.6719 - val_loss: 0.6276 - val_accuracy: 0.8000 - 161ms/epoch - 20ms/step\n",
      "Epoch 3/101\n",
      "8/8 - 0s - loss: 0.8233 - accuracy: 0.6562 - val_loss: 0.5929 - val_accuracy: 0.8211 - 130ms/epoch - 16ms/step\n",
      "Epoch 4/101\n",
      "8/8 - 0s - loss: 0.6331 - accuracy: 0.7383 - val_loss: 0.5606 - val_accuracy: 0.8211 - 148ms/epoch - 19ms/step\n",
      "Epoch 5/101\n",
      "8/8 - 0s - loss: 0.5873 - accuracy: 0.7461 - val_loss: 0.5344 - val_accuracy: 0.8211 - 123ms/epoch - 15ms/step\n",
      "Epoch 6/101\n",
      "8/8 - 0s - loss: 0.6190 - accuracy: 0.7188 - val_loss: 0.5073 - val_accuracy: 0.8316 - 118ms/epoch - 15ms/step\n",
      "Epoch 7/101\n",
      "8/8 - 0s - loss: 0.6027 - accuracy: 0.7227 - val_loss: 0.4875 - val_accuracy: 0.8316 - 127ms/epoch - 16ms/step\n",
      "Epoch 8/101\n",
      "8/8 - 0s - loss: 0.5019 - accuracy: 0.7812 - val_loss: 0.4615 - val_accuracy: 0.8421 - 146ms/epoch - 18ms/step\n",
      "Epoch 9/101\n",
      "8/8 - 0s - loss: 0.4863 - accuracy: 0.8125 - val_loss: 0.4406 - val_accuracy: 0.8421 - 125ms/epoch - 16ms/step\n",
      "Epoch 10/101\n",
      "8/8 - 0s - loss: 0.4718 - accuracy: 0.8320 - val_loss: 0.4219 - val_accuracy: 0.8526 - 132ms/epoch - 17ms/step\n",
      "Epoch 11/101\n",
      "8/8 - 0s - loss: 0.4975 - accuracy: 0.8164 - val_loss: 0.4070 - val_accuracy: 0.8526 - 141ms/epoch - 18ms/step\n",
      "Epoch 12/101\n",
      "8/8 - 0s - loss: 0.4615 - accuracy: 0.8398 - val_loss: 0.3936 - val_accuracy: 0.8526 - 143ms/epoch - 18ms/step\n",
      "Epoch 13/101\n",
      "8/8 - 0s - loss: 0.4515 - accuracy: 0.8320 - val_loss: 0.3806 - val_accuracy: 0.8526 - 146ms/epoch - 18ms/step\n",
      "Epoch 14/101\n",
      "8/8 - 0s - loss: 0.4046 - accuracy: 0.8125 - val_loss: 0.3688 - val_accuracy: 0.8632 - 100ms/epoch - 13ms/step\n",
      "Epoch 15/101\n",
      "8/8 - 0s - loss: 0.4393 - accuracy: 0.8203 - val_loss: 0.3573 - val_accuracy: 0.8737 - 110ms/epoch - 14ms/step\n",
      "Epoch 16/101\n",
      "8/8 - 0s - loss: 0.4533 - accuracy: 0.8242 - val_loss: 0.3471 - val_accuracy: 0.8842 - 136ms/epoch - 17ms/step\n",
      "Epoch 17/101\n",
      "8/8 - 0s - loss: 0.4281 - accuracy: 0.8398 - val_loss: 0.3387 - val_accuracy: 0.8842 - 136ms/epoch - 17ms/step\n",
      "Epoch 18/101\n",
      "8/8 - 0s - loss: 0.3841 - accuracy: 0.8398 - val_loss: 0.3318 - val_accuracy: 0.8842 - 134ms/epoch - 17ms/step\n",
      "Epoch 19/101\n",
      "8/8 - 0s - loss: 0.3535 - accuracy: 0.8750 - val_loss: 0.3242 - val_accuracy: 0.8842 - 130ms/epoch - 16ms/step\n",
      "Epoch 20/101\n",
      "8/8 - 0s - loss: 0.3375 - accuracy: 0.8828 - val_loss: 0.3166 - val_accuracy: 0.8842 - 133ms/epoch - 17ms/step\n",
      "Epoch 21/101\n",
      "8/8 - 0s - loss: 0.3575 - accuracy: 0.8867 - val_loss: 0.3100 - val_accuracy: 0.8842 - 135ms/epoch - 17ms/step\n",
      "Epoch 22/101\n",
      "8/8 - 0s - loss: 0.3379 - accuracy: 0.8945 - val_loss: 0.3029 - val_accuracy: 0.8842 - 127ms/epoch - 16ms/step\n",
      "Epoch 23/101\n",
      "8/8 - 0s - loss: 0.3786 - accuracy: 0.8516 - val_loss: 0.2973 - val_accuracy: 0.8842 - 97ms/epoch - 12ms/step\n",
      "Epoch 24/101\n",
      "8/8 - 0s - loss: 0.3472 - accuracy: 0.8789 - val_loss: 0.2925 - val_accuracy: 0.8842 - 146ms/epoch - 18ms/step\n",
      "Epoch 25/101\n",
      "8/8 - 0s - loss: 0.3308 - accuracy: 0.9102 - val_loss: 0.2887 - val_accuracy: 0.9053 - 123ms/epoch - 15ms/step\n",
      "Epoch 26/101\n",
      "8/8 - 0s - loss: 0.3184 - accuracy: 0.8945 - val_loss: 0.2850 - val_accuracy: 0.9053 - 103ms/epoch - 13ms/step\n",
      "Epoch 27/101\n",
      "8/8 - 0s - loss: 0.3601 - accuracy: 0.8906 - val_loss: 0.2812 - val_accuracy: 0.9053 - 117ms/epoch - 15ms/step\n",
      "Epoch 28/101\n",
      "8/8 - 0s - loss: 0.3243 - accuracy: 0.9141 - val_loss: 0.2759 - val_accuracy: 0.9053 - 124ms/epoch - 15ms/step\n",
      "Epoch 29/101\n",
      "8/8 - 0s - loss: 0.3265 - accuracy: 0.8828 - val_loss: 0.2725 - val_accuracy: 0.9263 - 134ms/epoch - 17ms/step\n",
      "Epoch 30/101\n",
      "8/8 - 0s - loss: 0.2764 - accuracy: 0.9180 - val_loss: 0.2685 - val_accuracy: 0.9263 - 122ms/epoch - 15ms/step\n",
      "Epoch 31/101\n",
      "8/8 - 0s - loss: 0.3302 - accuracy: 0.8945 - val_loss: 0.2676 - val_accuracy: 0.9158 - 110ms/epoch - 14ms/step\n",
      "Epoch 32/101\n",
      "8/8 - 0s - loss: 0.3095 - accuracy: 0.8906 - val_loss: 0.2630 - val_accuracy: 0.9158 - 103ms/epoch - 13ms/step\n",
      "Epoch 33/101\n",
      "8/8 - 0s - loss: 0.3101 - accuracy: 0.8945 - val_loss: 0.2576 - val_accuracy: 0.9263 - 98ms/epoch - 12ms/step\n",
      "Epoch 34/101\n",
      "8/8 - 0s - loss: 0.2649 - accuracy: 0.9062 - val_loss: 0.2523 - val_accuracy: 0.9263 - 108ms/epoch - 14ms/step\n",
      "Epoch 35/101\n",
      "8/8 - 0s - loss: 0.2530 - accuracy: 0.9062 - val_loss: 0.2479 - val_accuracy: 0.9263 - 128ms/epoch - 16ms/step\n",
      "Epoch 36/101\n",
      "8/8 - 0s - loss: 0.2948 - accuracy: 0.9062 - val_loss: 0.2460 - val_accuracy: 0.9263 - 124ms/epoch - 15ms/step\n",
      "Epoch 37/101\n",
      "8/8 - 0s - loss: 0.2806 - accuracy: 0.9023 - val_loss: 0.2441 - val_accuracy: 0.9263 - 135ms/epoch - 17ms/step\n",
      "Epoch 38/101\n",
      "8/8 - 0s - loss: 0.2809 - accuracy: 0.8906 - val_loss: 0.2421 - val_accuracy: 0.9263 - 139ms/epoch - 17ms/step\n",
      "Epoch 39/101\n",
      "8/8 - 0s - loss: 0.2656 - accuracy: 0.8984 - val_loss: 0.2419 - val_accuracy: 0.9263 - 100ms/epoch - 13ms/step\n",
      "Epoch 40/101\n",
      "8/8 - 0s - loss: 0.2506 - accuracy: 0.9141 - val_loss: 0.2414 - val_accuracy: 0.9263 - 127ms/epoch - 16ms/step\n",
      "Epoch 41/101\n",
      "8/8 - 0s - loss: 0.2675 - accuracy: 0.8906 - val_loss: 0.2365 - val_accuracy: 0.9263 - 140ms/epoch - 18ms/step\n",
      "Epoch 42/101\n",
      "8/8 - 0s - loss: 0.3011 - accuracy: 0.9023 - val_loss: 0.2353 - val_accuracy: 0.9263 - 145ms/epoch - 18ms/step\n",
      "Epoch 43/101\n",
      "8/8 - 0s - loss: 0.2358 - accuracy: 0.9219 - val_loss: 0.2334 - val_accuracy: 0.9263 - 117ms/epoch - 15ms/step\n",
      "Epoch 44/101\n",
      "8/8 - 0s - loss: 0.2806 - accuracy: 0.9062 - val_loss: 0.2322 - val_accuracy: 0.9263 - 131ms/epoch - 16ms/step\n",
      "Epoch 45/101\n",
      "8/8 - 0s - loss: 0.2185 - accuracy: 0.9453 - val_loss: 0.2295 - val_accuracy: 0.9263 - 172ms/epoch - 21ms/step\n",
      "Epoch 46/101\n",
      "8/8 - 0s - loss: 0.3124 - accuracy: 0.9023 - val_loss: 0.2260 - val_accuracy: 0.9263 - 169ms/epoch - 21ms/step\n",
      "Epoch 47/101\n",
      "8/8 - 0s - loss: 0.2129 - accuracy: 0.9453 - val_loss: 0.2245 - val_accuracy: 0.9263 - 135ms/epoch - 17ms/step\n",
      "Epoch 48/101\n",
      "8/8 - 0s - loss: 0.2368 - accuracy: 0.9258 - val_loss: 0.2236 - val_accuracy: 0.9263 - 134ms/epoch - 17ms/step\n",
      "Epoch 49/101\n",
      "8/8 - 0s - loss: 0.2213 - accuracy: 0.9297 - val_loss: 0.2223 - val_accuracy: 0.9263 - 137ms/epoch - 17ms/step\n",
      "Epoch 50/101\n",
      "8/8 - 0s - loss: 0.2410 - accuracy: 0.9219 - val_loss: 0.2233 - val_accuracy: 0.9263 - 129ms/epoch - 16ms/step\n",
      "Epoch 51/101\n",
      "8/8 - 0s - loss: 0.2268 - accuracy: 0.9180 - val_loss: 0.2209 - val_accuracy: 0.9263 - 119ms/epoch - 15ms/step\n",
      "Epoch 52/101\n",
      "8/8 - 0s - loss: 0.2224 - accuracy: 0.9375 - val_loss: 0.2194 - val_accuracy: 0.9263 - 187ms/epoch - 23ms/step\n",
      "Epoch 53/101\n",
      "8/8 - 0s - loss: 0.2976 - accuracy: 0.8945 - val_loss: 0.2158 - val_accuracy: 0.9368 - 112ms/epoch - 14ms/step\n",
      "Epoch 54/101\n",
      "8/8 - 0s - loss: 0.2548 - accuracy: 0.9141 - val_loss: 0.2163 - val_accuracy: 0.9368 - 172ms/epoch - 21ms/step\n",
      "Epoch 55/101\n",
      "8/8 - 0s - loss: 0.2146 - accuracy: 0.9414 - val_loss: 0.2150 - val_accuracy: 0.9263 - 122ms/epoch - 15ms/step\n",
      "Epoch 56/101\n",
      "8/8 - 0s - loss: 0.2210 - accuracy: 0.9375 - val_loss: 0.2144 - val_accuracy: 0.9474 - 156ms/epoch - 20ms/step\n",
      "Epoch 57/101\n",
      "8/8 - 0s - loss: 0.2147 - accuracy: 0.9258 - val_loss: 0.2112 - val_accuracy: 0.9474 - 122ms/epoch - 15ms/step\n",
      "Epoch 58/101\n",
      "8/8 - 0s - loss: 0.2134 - accuracy: 0.9297 - val_loss: 0.2117 - val_accuracy: 0.9474 - 136ms/epoch - 17ms/step\n",
      "Epoch 59/101\n",
      "8/8 - 0s - loss: 0.2261 - accuracy: 0.9141 - val_loss: 0.2108 - val_accuracy: 0.9474 - 130ms/epoch - 16ms/step\n",
      "Epoch 60/101\n",
      "8/8 - 0s - loss: 0.2071 - accuracy: 0.9297 - val_loss: 0.2130 - val_accuracy: 0.9474 - 117ms/epoch - 15ms/step\n",
      "Epoch 61/101\n",
      "8/8 - 0s - loss: 0.2148 - accuracy: 0.9414 - val_loss: 0.2114 - val_accuracy: 0.9474 - 134ms/epoch - 17ms/step\n",
      "Epoch 62/101\n",
      "8/8 - 0s - loss: 0.1905 - accuracy: 0.9336 - val_loss: 0.2084 - val_accuracy: 0.9368 - 98ms/epoch - 12ms/step\n",
      "Epoch 63/101\n",
      "8/8 - 0s - loss: 0.2462 - accuracy: 0.9336 - val_loss: 0.2073 - val_accuracy: 0.9368 - 135ms/epoch - 17ms/step\n",
      "Epoch 64/101\n",
      "8/8 - 0s - loss: 0.2232 - accuracy: 0.9258 - val_loss: 0.2083 - val_accuracy: 0.9474 - 144ms/epoch - 18ms/step\n",
      "Epoch 65/101\n",
      "8/8 - 0s - loss: 0.2153 - accuracy: 0.9375 - val_loss: 0.2071 - val_accuracy: 0.9474 - 101ms/epoch - 13ms/step\n",
      "Epoch 66/101\n",
      "8/8 - 0s - loss: 0.2127 - accuracy: 0.9375 - val_loss: 0.2067 - val_accuracy: 0.9368 - 129ms/epoch - 16ms/step\n",
      "Epoch 67/101\n",
      "8/8 - 0s - loss: 0.2586 - accuracy: 0.9062 - val_loss: 0.2075 - val_accuracy: 0.9368 - 160ms/epoch - 20ms/step\n",
      "Epoch 68/101\n",
      "8/8 - 0s - loss: 0.2240 - accuracy: 0.9180 - val_loss: 0.2041 - val_accuracy: 0.9263 - 141ms/epoch - 18ms/step\n",
      "Epoch 69/101\n",
      "8/8 - 0s - loss: 0.1958 - accuracy: 0.9453 - val_loss: 0.2028 - val_accuracy: 0.9368 - 96ms/epoch - 12ms/step\n",
      "Epoch 70/101\n",
      "8/8 - 0s - loss: 0.1846 - accuracy: 0.9492 - val_loss: 0.2000 - val_accuracy: 0.9263 - 140ms/epoch - 17ms/step\n",
      "Epoch 71/101\n",
      "8/8 - 0s - loss: 0.1943 - accuracy: 0.9492 - val_loss: 0.2015 - val_accuracy: 0.9368 - 149ms/epoch - 19ms/step\n",
      "Epoch 72/101\n",
      "8/8 - 0s - loss: 0.2063 - accuracy: 0.9258 - val_loss: 0.2016 - val_accuracy: 0.9474 - 131ms/epoch - 16ms/step\n",
      "Epoch 73/101\n",
      "8/8 - 0s - loss: 0.1801 - accuracy: 0.9570 - val_loss: 0.1996 - val_accuracy: 0.9368 - 126ms/epoch - 16ms/step\n",
      "Epoch 74/101\n",
      "8/8 - 0s - loss: 0.2041 - accuracy: 0.9375 - val_loss: 0.1975 - val_accuracy: 0.9368 - 132ms/epoch - 17ms/step\n",
      "Epoch 75/101\n",
      "8/8 - 0s - loss: 0.1777 - accuracy: 0.9531 - val_loss: 0.1952 - val_accuracy: 0.9368 - 118ms/epoch - 15ms/step\n",
      "Epoch 76/101\n",
      "8/8 - 0s - loss: 0.1765 - accuracy: 0.9531 - val_loss: 0.1967 - val_accuracy: 0.9368 - 157ms/epoch - 20ms/step\n",
      "Epoch 77/101\n",
      "8/8 - 0s - loss: 0.1877 - accuracy: 0.9414 - val_loss: 0.1962 - val_accuracy: 0.9474 - 109ms/epoch - 14ms/step\n",
      "Epoch 78/101\n",
      "8/8 - 0s - loss: 0.1826 - accuracy: 0.9375 - val_loss: 0.1975 - val_accuracy: 0.9474 - 135ms/epoch - 17ms/step\n",
      "Epoch 79/101\n",
      "8/8 - 0s - loss: 0.2380 - accuracy: 0.9219 - val_loss: 0.1952 - val_accuracy: 0.9474 - 148ms/epoch - 19ms/step\n",
      "Epoch 80/101\n",
      "8/8 - 0s - loss: 0.1916 - accuracy: 0.9414 - val_loss: 0.1946 - val_accuracy: 0.9474 - 109ms/epoch - 14ms/step\n",
      "Epoch 81/101\n",
      "8/8 - 0s - loss: 0.1939 - accuracy: 0.9375 - val_loss: 0.1954 - val_accuracy: 0.9474 - 119ms/epoch - 15ms/step\n",
      "Epoch 82/101\n",
      "8/8 - 0s - loss: 0.1702 - accuracy: 0.9492 - val_loss: 0.1954 - val_accuracy: 0.9474 - 108ms/epoch - 14ms/step\n",
      "Epoch 83/101\n",
      "8/8 - 0s - loss: 0.2227 - accuracy: 0.9180 - val_loss: 0.1947 - val_accuracy: 0.9474 - 119ms/epoch - 15ms/step\n",
      "Epoch 84/101\n",
      "8/8 - 0s - loss: 0.1995 - accuracy: 0.9297 - val_loss: 0.1942 - val_accuracy: 0.9368 - 147ms/epoch - 18ms/step\n",
      "Epoch 85/101\n",
      "8/8 - 0s - loss: 0.1719 - accuracy: 0.9375 - val_loss: 0.1946 - val_accuracy: 0.9474 - 111ms/epoch - 14ms/step\n",
      "Epoch 86/101\n",
      "8/8 - 0s - loss: 0.1787 - accuracy: 0.9414 - val_loss: 0.1928 - val_accuracy: 0.9474 - 143ms/epoch - 18ms/step\n",
      "Epoch 87/101\n",
      "8/8 - 0s - loss: 0.1886 - accuracy: 0.9414 - val_loss: 0.1888 - val_accuracy: 0.9474 - 135ms/epoch - 17ms/step\n",
      "Epoch 88/101\n",
      "8/8 - 0s - loss: 0.1898 - accuracy: 0.9258 - val_loss: 0.1854 - val_accuracy: 0.9474 - 158ms/epoch - 20ms/step\n",
      "Epoch 89/101\n",
      "8/8 - 0s - loss: 0.1645 - accuracy: 0.9414 - val_loss: 0.1844 - val_accuracy: 0.9368 - 171ms/epoch - 21ms/step\n",
      "Epoch 90/101\n",
      "8/8 - 0s - loss: 0.1828 - accuracy: 0.9453 - val_loss: 0.1839 - val_accuracy: 0.9368 - 137ms/epoch - 17ms/step\n",
      "Epoch 91/101\n",
      "8/8 - 0s - loss: 0.1783 - accuracy: 0.9453 - val_loss: 0.1831 - val_accuracy: 0.9368 - 136ms/epoch - 17ms/step\n",
      "Epoch 92/101\n",
      "8/8 - 0s - loss: 0.1962 - accuracy: 0.9375 - val_loss: 0.1825 - val_accuracy: 0.9368 - 125ms/epoch - 16ms/step\n",
      "Epoch 93/101\n",
      "8/8 - 0s - loss: 0.1501 - accuracy: 0.9609 - val_loss: 0.1830 - val_accuracy: 0.9368 - 136ms/epoch - 17ms/step\n",
      "Epoch 94/101\n",
      "8/8 - 0s - loss: 0.1918 - accuracy: 0.9336 - val_loss: 0.1819 - val_accuracy: 0.9368 - 128ms/epoch - 16ms/step\n",
      "Epoch 95/101\n",
      "8/8 - 0s - loss: 0.1812 - accuracy: 0.9336 - val_loss: 0.1809 - val_accuracy: 0.9368 - 133ms/epoch - 17ms/step\n",
      "Epoch 96/101\n",
      "8/8 - 0s - loss: 0.1298 - accuracy: 0.9609 - val_loss: 0.1804 - val_accuracy: 0.9474 - 125ms/epoch - 16ms/step\n",
      "Epoch 97/101\n",
      "8/8 - 0s - loss: 0.1891 - accuracy: 0.9453 - val_loss: 0.1805 - val_accuracy: 0.9368 - 109ms/epoch - 14ms/step\n",
      "Epoch 98/101\n",
      "8/8 - 0s - loss: 0.1501 - accuracy: 0.9531 - val_loss: 0.1795 - val_accuracy: 0.9368 - 165ms/epoch - 21ms/step\n",
      "Epoch 99/101\n",
      "8/8 - 0s - loss: 0.1991 - accuracy: 0.9414 - val_loss: 0.1814 - val_accuracy: 0.9474 - 165ms/epoch - 21ms/step\n",
      "Epoch 100/101\n",
      "8/8 - 0s - loss: 0.1784 - accuracy: 0.9414 - val_loss: 0.1813 - val_accuracy: 0.9474 - 113ms/epoch - 14ms/step\n",
      "Epoch 101/101\n",
      "8/8 - 0s - loss: 0.1862 - accuracy: 0.9453 - val_loss: 0.1766 - val_accuracy: 0.9474 - 203ms/epoch - 25ms/step\n"
     ]
    }
   ],
   "source": [
    "history = model.fit(X_train, y_train, \n",
    "                    validation_data=[X_test, y_test],\n",
    "                    epochs=EPOCHS,\n",
    "                    verbose=2,\n",
    "                    batch_size=BATCH_SIZE\n",
    "                    )"
   ]
  },
  {
   "cell_type": "code",
   "execution_count": 112,
   "metadata": {},
   "outputs": [],
   "source": [
    "loss_df = pd.DataFrame(history.history)"
   ]
  },
  {
   "cell_type": "code",
   "execution_count": 113,
   "metadata": {},
   "outputs": [
    {
     "data": {
      "text/html": [
       "<div>\n",
       "<style scoped>\n",
       "    .dataframe tbody tr th:only-of-type {\n",
       "        vertical-align: middle;\n",
       "    }\n",
       "\n",
       "    .dataframe tbody tr th {\n",
       "        vertical-align: top;\n",
       "    }\n",
       "\n",
       "    .dataframe thead th {\n",
       "        text-align: right;\n",
       "    }\n",
       "</style>\n",
       "<table border=\"1\" class=\"dataframe\">\n",
       "  <thead>\n",
       "    <tr style=\"text-align: right;\">\n",
       "      <th></th>\n",
       "      <th>loss</th>\n",
       "      <th>accuracy</th>\n",
       "      <th>val_loss</th>\n",
       "      <th>val_accuracy</th>\n",
       "    </tr>\n",
       "  </thead>\n",
       "  <tbody>\n",
       "    <tr>\n",
       "      <th>0</th>\n",
       "      <td>0.938388</td>\n",
       "      <td>0.570312</td>\n",
       "      <td>0.681353</td>\n",
       "      <td>0.642105</td>\n",
       "    </tr>\n",
       "    <tr>\n",
       "      <th>1</th>\n",
       "      <td>0.765603</td>\n",
       "      <td>0.671875</td>\n",
       "      <td>0.627629</td>\n",
       "      <td>0.800000</td>\n",
       "    </tr>\n",
       "    <tr>\n",
       "      <th>2</th>\n",
       "      <td>0.823275</td>\n",
       "      <td>0.656250</td>\n",
       "      <td>0.592855</td>\n",
       "      <td>0.821053</td>\n",
       "    </tr>\n",
       "    <tr>\n",
       "      <th>3</th>\n",
       "      <td>0.633052</td>\n",
       "      <td>0.738281</td>\n",
       "      <td>0.560600</td>\n",
       "      <td>0.821053</td>\n",
       "    </tr>\n",
       "    <tr>\n",
       "      <th>4</th>\n",
       "      <td>0.587256</td>\n",
       "      <td>0.746094</td>\n",
       "      <td>0.534392</td>\n",
       "      <td>0.821053</td>\n",
       "    </tr>\n",
       "  </tbody>\n",
       "</table>\n",
       "</div>"
      ],
      "text/plain": [
       "       loss  accuracy  val_loss  val_accuracy\n",
       "0  0.938388  0.570312  0.681353      0.642105\n",
       "1  0.765603  0.671875  0.627629      0.800000\n",
       "2  0.823275  0.656250  0.592855      0.821053\n",
       "3  0.633052  0.738281  0.560600      0.821053\n",
       "4  0.587256  0.746094  0.534392      0.821053"
      ]
     },
     "execution_count": 113,
     "metadata": {},
     "output_type": "execute_result"
    }
   ],
   "source": [
    "loss_df.head()"
   ]
  },
  {
   "cell_type": "code",
   "execution_count": 114,
   "metadata": {},
   "outputs": [
    {
     "data": {
      "image/png": "[encoded data removed]",
      "text/plain": [
       "<Figure size 1500x800 with 1 Axes>"
      ]
     },
     "metadata": {},
     "output_type": "display_data"
    }
   ],
   "source": [
    "loss_df.plot(y = ['loss', 'val_loss']);"
   ]
  },
  {
   "cell_type": "code",
   "execution_count": 115,
   "metadata": {},
   "outputs": [
    {
     "data": {
      "image/png": "[encoded data removed]",
      "text/plain": [
       "<Figure size 1500x800 with 1 Axes>"
      ]
     },
     "metadata": {},
     "output_type": "display_data"
    }
   ],
   "source": [
    "loss_df.plot(y = ['accuracy', 'val_accuracy']);"
   ]
  },
  {
   "cell_type": "code",
   "execution_count": 116,
   "metadata": {},
   "outputs": [
    {
     "name": "stdout",
     "output_type": "stream",
     "text": [
      "8/8 [==============================] - 0s 8ms/step - loss: 0.0937 - accuracy: 0.9844\n"
     ]
    },
    {
     "data": {
      "text/plain": [
       "[0.0937090814113617, 0.984375]"
      ]
     },
     "execution_count": 116,
     "metadata": {},
     "output_type": "execute_result"
    }
   ],
   "source": [
    "model.evaluate(X_train, y_train)"
   ]
  },
  {
   "cell_type": "code",
   "execution_count": 117,
   "metadata": {},
   "outputs": [
    {
     "name": "stdout",
     "output_type": "stream",
     "text": [
      "3/3 [==============================] - 0s 4ms/step - loss: 0.1766 - accuracy: 0.9474\n"
     ]
    },
    {
     "data": {
      "text/plain": [
       "[0.17661067843437195, 0.9473684430122375]"
      ]
     },
     "execution_count": 117,
     "metadata": {},
     "output_type": "execute_result"
    }
   ],
   "source": [
    "model.evaluate(X_test, y_test)"
   ]
  },
  {
   "cell_type": "code",
   "execution_count": 118,
   "metadata": {},
   "outputs": [
    {
     "name": "stdout",
     "output_type": "stream",
     "text": [
      "8/8 [==============================] - 0s 10ms/step\n"
     ]
    }
   ],
   "source": [
    "y_pred = model.predict(X_train)"
   ]
  },
  {
   "cell_type": "code",
   "execution_count": 119,
   "metadata": {},
   "outputs": [
    {
     "data": {
      "text/plain": [
       "(256,)"
      ]
     },
     "execution_count": 119,
     "metadata": {},
     "output_type": "execute_result"
    }
   ],
   "source": [
    "np.argmax(y_pred, axis = 1).shape"
   ]
  },
  {
   "cell_type": "code",
   "execution_count": 120,
   "metadata": {},
   "outputs": [
    {
     "data": {
      "text/plain": [
       "(256, 2)"
      ]
     },
     "execution_count": 120,
     "metadata": {},
     "output_type": "execute_result"
    }
   ],
   "source": [
    "y_train.shape"
   ]
  },
  {
   "cell_type": "code",
   "execution_count": 121,
   "metadata": {},
   "outputs": [
    {
     "data": {
      "text/plain": [
       "0.984375"
      ]
     },
     "execution_count": 121,
     "metadata": {},
     "output_type": "execute_result"
    }
   ],
   "source": [
    "accuracy_score (np.argmax(y_pred, axis = 1), np.argmax(y_train, axis = 1))"
   ]
  },
  {
   "cell_type": "code",
   "execution_count": 122,
   "metadata": {},
   "outputs": [
    {
     "name": "stdout",
     "output_type": "stream",
     "text": [
      "3/3 [==============================] - 0s 25ms/step\n"
     ]
    },
    {
     "data": {
      "text/plain": [
       "0.9473684210526315"
      ]
     },
     "execution_count": 122,
     "metadata": {},
     "output_type": "execute_result"
    }
   ],
   "source": [
    "y_pred = model.predict(X_test)\n",
    "accuracy_score (np.argmax(y_pred, axis = 1), np.argmax(y_test, axis = 1))"
   ]
  },
  {
   "cell_type": "code",
   "execution_count": 123,
   "metadata": {},
   "outputs": [
    {
     "name": "stdout",
     "output_type": "stream",
     "text": [
      "Model: \"model_2\"\n",
      "_________________________________________________________________\n",
      " Layer (type)                Output Shape              Param #   \n",
      "=================================================================\n",
      " input_3 (InputLayer)        [(None, 34)]              0         \n",
      "                                                                 \n",
      " dense_6 (Dense)             (None, 18)                630       \n",
      "                                                                 \n",
      " batch_normalization_4 (Batc  (None, 18)               72        \n",
      " hNormalization)                                                 \n",
      "                                                                 \n",
      " dropout_4 (Dropout)         (None, 18)                0         \n",
      "                                                                 \n",
      " dense_7 (Dense)             (None, 9)                 171       \n",
      "                                                                 \n",
      " batch_normalization_5 (Batc  (None, 9)                36        \n",
      " hNormalization)                                                 \n",
      "                                                                 \n",
      " dropout_5 (Dropout)         (None, 9)                 0         \n",
      "                                                                 \n",
      " dense_8 (Dense)             (None, 2)                 20        \n",
      "                                                                 \n",
      "=================================================================\n",
      "Total params: 929\n",
      "Trainable params: 875\n",
      "Non-trainable params: 54\n",
      "_________________________________________________________________\n"
     ]
    }
   ],
   "source": [
    "model.summary()"
   ]
  },
  {
   "cell_type": "code",
   "execution_count": 124,
   "metadata": {},
   "outputs": [
    {
     "data": {
      "image/png": "[encoded data removed]",
      "text/plain": [
       "<Figure size 1500x600 with 2 Axes>"
      ]
     },
     "metadata": {},
     "output_type": "display_data"
    }
   ],
   "source": [
    "fig, axes = plt.subplots(1,2 , figsize = (15,6))\n",
    "\n",
    "l_range = 50\n",
    "\n",
    "ax = axes[0]\n",
    "y1 = loss_df.columns[0]\n",
    "y2 = loss_df.columns[2]\n",
    "\n",
    "loss_df.plot( y = [y1, y2], ax = ax)\n",
    "\n",
    "# little beautification\n",
    "txtstr = \"Errors: \\n  Start : {:7.4f}\\n   End : {:7.4f}\".format(loss_df.iloc[0][y1],\n",
    "                                                                loss_df.iloc[-1][y2]) #text to plot\n",
    "\n",
    "# properties  matplotlib.patch.Patch \n",
    "props = dict(boxstyle='round', facecolor='aqua', alpha=0.5)\n",
    "\n",
    "# place a text box in upper left in axes coords\n",
    "\n",
    "ax.text(0.6, 0.95, txtstr, transform=ax.transAxes, fontsize=14,\n",
    "        verticalalignment='top', bbox=props)\n",
    "\n",
    "ax.set_xlabel(\"Epochs\")\n",
    "ax.set_ylabel(\"Error\")\n",
    "ax.set_title('Overall')\n",
    "ax.grid();\n",
    "\n",
    "ax = axes[1]\n",
    "y1 = loss_df.columns[1]\n",
    "y2 = loss_df.columns[3]\n",
    "loss_df[-l_range:].plot( y = [y1, y2], ax = ax)\n",
    "\n",
    "# little beautification\n",
    "txtstr = \"Errors: \\n  Start : {:7.4f}\\n   End : {:7.4f}\".format(loss_df.iloc[0][y1],\n",
    "                                                                loss_df.iloc[-1][y2]) #text to plot\n",
    "\n",
    "# place a text box in upper left in axes coords\n",
    "\n",
    "ax.text(0.6, 0.95, txtstr, transform=ax.transAxes, fontsize=14,\n",
    "        verticalalignment='top', bbox=props)\n",
    "\n",
    "ax.set_xlabel(\"Epochs\")\n",
    "ax.set_ylabel(\"Metrics\")\n",
    "ax.set_title(y1.capitalize())\n",
    "ax.grid();\n",
    "plt.tight_layout()"
   ]
  },
  {
   "cell_type": "code",
   "execution_count": 125,
   "metadata": {},
   "outputs": [
    {
     "data": {
      "text/html": [
       "<div>\n",
       "<style scoped>\n",
       "    .dataframe tbody tr th:only-of-type {\n",
       "        vertical-align: middle;\n",
       "    }\n",
       "\n",
       "    .dataframe tbody tr th {\n",
       "        vertical-align: top;\n",
       "    }\n",
       "\n",
       "    .dataframe thead th {\n",
       "        text-align: right;\n",
       "    }\n",
       "</style>\n",
       "<table border=\"1\" class=\"dataframe\">\n",
       "  <thead>\n",
       "    <tr style=\"text-align: right;\">\n",
       "      <th></th>\n",
       "      <th>loss</th>\n",
       "      <th>accuracy</th>\n",
       "      <th>val_loss</th>\n",
       "      <th>val_accuracy</th>\n",
       "    </tr>\n",
       "  </thead>\n",
       "  <tbody>\n",
       "    <tr>\n",
       "      <th>100</th>\n",
       "      <td>0.186186</td>\n",
       "      <td>0.945312</td>\n",
       "      <td>0.176611</td>\n",
       "      <td>0.947368</td>\n",
       "    </tr>\n",
       "  </tbody>\n",
       "</table>\n",
       "</div>"
      ],
      "text/plain": [
       "         loss  accuracy  val_loss  val_accuracy\n",
       "100  0.186186  0.945312  0.176611      0.947368"
      ]
     },
     "execution_count": 125,
     "metadata": {},
     "output_type": "execute_result"
    }
   ],
   "source": [
    "loss_df[loss_df['val_loss'] == loss_df['val_loss'].min()]"
   ]
  },
  {
   "cell_type": "code",
   "execution_count": 126,
   "metadata": {},
   "outputs": [],
   "source": [
    "es_check_point = tf.keras.callbacks.EarlyStopping(\n",
    "    monitor='val_loss',\n",
    "    patience=PATIENCE,\n",
    "    verbose=1,\n",
    "    restore_best_weights=True,\n",
    "    start_from_epoch=0,\n",
    ")\n"
   ]
  },
  {
   "cell_type": "code",
   "execution_count": 127,
   "metadata": {},
   "outputs": [
    {
     "name": "stdout",
     "output_type": "stream",
     "text": [
      "Epoch 1/101\n",
      "8/8 - 0s - loss: 0.1245 - accuracy: 0.9688 - val_loss: 0.1789 - val_accuracy: 0.9474 - 319ms/epoch - 40ms/step\n",
      "Epoch 2/101\n",
      "8/8 - 0s - loss: 0.1248 - accuracy: 0.9609 - val_loss: 0.1825 - val_accuracy: 0.9474 - 161ms/epoch - 20ms/step\n",
      "Epoch 3/101\n",
      "8/8 - 0s - loss: 0.1552 - accuracy: 0.9609 - val_loss: 0.1860 - val_accuracy: 0.9474 - 157ms/epoch - 20ms/step\n",
      "Epoch 4/101\n",
      "8/8 - 0s - loss: 0.1663 - accuracy: 0.9570 - val_loss: 0.1849 - val_accuracy: 0.9474 - 165ms/epoch - 21ms/step\n",
      "Epoch 5/101\n",
      "8/8 - 0s - loss: 0.1497 - accuracy: 0.9570 - val_loss: 0.1829 - val_accuracy: 0.9474 - 143ms/epoch - 18ms/step\n",
      "Epoch 6/101\n",
      "8/8 - 0s - loss: 0.1393 - accuracy: 0.9570 - val_loss: 0.1858 - val_accuracy: 0.9474 - 150ms/epoch - 19ms/step\n",
      "Epoch 7/101\n",
      "8/8 - 0s - loss: 0.1340 - accuracy: 0.9609 - val_loss: 0.1849 - val_accuracy: 0.9474 - 148ms/epoch - 18ms/step\n",
      "Epoch 8/101\n",
      "8/8 - 0s - loss: 0.1666 - accuracy: 0.9375 - val_loss: 0.1837 - val_accuracy: 0.9474 - 153ms/epoch - 19ms/step\n",
      "Epoch 9/101\n",
      "8/8 - 0s - loss: 0.1545 - accuracy: 0.9531 - val_loss: 0.1843 - val_accuracy: 0.9474 - 116ms/epoch - 15ms/step\n",
      "Epoch 10/101\n",
      "8/8 - 0s - loss: 0.1261 - accuracy: 0.9648 - val_loss: 0.1842 - val_accuracy: 0.9474 - 141ms/epoch - 18ms/step\n",
      "Epoch 11/101\n",
      "8/8 - 0s - loss: 0.1266 - accuracy: 0.9492 - val_loss: 0.1783 - val_accuracy: 0.9474 - 135ms/epoch - 17ms/step\n",
      "Epoch 12/101\n",
      "8/8 - 0s - loss: 0.1357 - accuracy: 0.9648 - val_loss: 0.1774 - val_accuracy: 0.9474 - 114ms/epoch - 14ms/step\n",
      "Epoch 13/101\n",
      "8/8 - 0s - loss: 0.1402 - accuracy: 0.9688 - val_loss: 0.1792 - val_accuracy: 0.9368 - 144ms/epoch - 18ms/step\n",
      "Epoch 14/101\n",
      "8/8 - 0s - loss: 0.1767 - accuracy: 0.9492 - val_loss: 0.1784 - val_accuracy: 0.9368 - 146ms/epoch - 18ms/step\n",
      "Epoch 15/101\n",
      "8/8 - 0s - loss: 0.1677 - accuracy: 0.9531 - val_loss: 0.1741 - val_accuracy: 0.9579 - 144ms/epoch - 18ms/step\n",
      "Epoch 16/101\n",
      "8/8 - 0s - loss: 0.1343 - accuracy: 0.9688 - val_loss: 0.1764 - val_accuracy: 0.9579 - 156ms/epoch - 19ms/step\n",
      "Epoch 17/101\n",
      "8/8 - 0s - loss: 0.1246 - accuracy: 0.9766 - val_loss: 0.1762 - val_accuracy: 0.9474 - 119ms/epoch - 15ms/step\n",
      "Epoch 18/101\n",
      "8/8 - 0s - loss: 0.1202 - accuracy: 0.9727 - val_loss: 0.1748 - val_accuracy: 0.9579 - 155ms/epoch - 19ms/step\n",
      "Epoch 19/101\n",
      "8/8 - 0s - loss: 0.1636 - accuracy: 0.9531 - val_loss: 0.1762 - val_accuracy: 0.9368 - 131ms/epoch - 16ms/step\n",
      "Epoch 20/101\n",
      "8/8 - 0s - loss: 0.1514 - accuracy: 0.9688 - val_loss: 0.1771 - val_accuracy: 0.9368 - 153ms/epoch - 19ms/step\n",
      "Epoch 21/101\n",
      "8/8 - 0s - loss: 0.1299 - accuracy: 0.9727 - val_loss: 0.1834 - val_accuracy: 0.9368 - 117ms/epoch - 15ms/step\n",
      "Epoch 22/101\n",
      "8/8 - 0s - loss: 0.1254 - accuracy: 0.9531 - val_loss: 0.1821 - val_accuracy: 0.9368 - 129ms/epoch - 16ms/step\n",
      "Epoch 23/101\n",
      "8/8 - 0s - loss: 0.1105 - accuracy: 0.9766 - val_loss: 0.1776 - val_accuracy: 0.9368 - 128ms/epoch - 16ms/step\n",
      "Epoch 24/101\n",
      "8/8 - 0s - loss: 0.1368 - accuracy: 0.9727 - val_loss: 0.1779 - val_accuracy: 0.9368 - 164ms/epoch - 20ms/step\n",
      "Epoch 25/101\n",
      "Restoring model weights from the end of the best epoch: 15.\n",
      "8/8 - 0s - loss: 0.1245 - accuracy: 0.9727 - val_loss: 0.1823 - val_accuracy: 0.9368 - 159ms/epoch - 20ms/step\n",
      "Epoch 25: early stopping\n"
     ]
    }
   ],
   "source": [
    "history = model.fit(X_train, y_train, \n",
    "                    validation_data=[X_test, y_test],\n",
    "                    epochs=EPOCHS,\n",
    "                    verbose=2,\n",
    "                    batch_size=BATCH_SIZE,\n",
    "                    callbacks=[ es_check_point ]\n",
    "                    )"
   ]
  },
  {
   "cell_type": "code",
   "execution_count": 128,
   "metadata": {},
   "outputs": [
    {
     "name": "stdout",
     "output_type": "stream",
     "text": [
      "8/8 [==============================] - 0s 5ms/step - loss: 0.0832 - accuracy: 0.9844\n"
     ]
    },
    {
     "data": {
      "text/plain": [
       "[0.08315473794937134, 0.984375]"
      ]
     },
     "execution_count": 128,
     "metadata": {},
     "output_type": "execute_result"
    }
   ],
   "source": [
    "model.evaluate(X_train, y_train)"
   ]
  },
  {
   "cell_type": "code",
   "execution_count": 129,
   "metadata": {},
   "outputs": [
    {
     "name": "stdout",
     "output_type": "stream",
     "text": [
      "3/3 [==============================] - 0s 15ms/step - loss: 0.1741 - accuracy: 0.9579\n"
     ]
    },
    {
     "data": {
      "text/plain": [
       "[0.17410114407539368, 0.9578947424888611]"
      ]
     },
     "execution_count": 129,
     "metadata": {},
     "output_type": "execute_result"
    }
   ],
   "source": [
    "model.evaluate(X_test, y_test)"
   ]
  }
 ],
 "metadata": {
  "accelerator": "GPU",
  "colab": {
   "name": "S05a_one_hidden_layer_with_tanh_wip.ipynb",
   "provenance": []
  },
  "kernelspec": {
   "display_name": "Python 3 (ipykernel)",
   "language": "python",
   "name": "python3"
  },
  "language_info": {
   "codemirror_mode": {
    "name": "ipython",
    "version": 3
   },
   "file_extension": ".py",
   "mimetype": "text/x-python",
   "name": "python",
   "nbconvert_exporter": "python",
   "pygments_lexer": "ipython3",
   "version": "3.11.5"
  }
 },
 "nbformat": 4,
 "nbformat_minor": 4
}
