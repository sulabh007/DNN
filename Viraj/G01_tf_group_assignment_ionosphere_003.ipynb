{
 "cells": [
  {
   "cell_type": "code",
   "execution_count": 309,
   "metadata": {
    "id": "kFZRpLpK02pB"
   },
   "outputs": [],
   "source": [
    "#!/usr/bin/env python\n",
    "# -*- coding: utf-8 -*-"
   ]
  },
  {
   "cell_type": "markdown",
   "metadata": {
    "id": "deSnZmVy02pF"
   },
   "source": [
    "\n",
    "\n",
    "# Deep Neural Networks\n",
    "\n",
    "## Assignment\n",
    "### Neural Network with :\n",
    "\n",
    "- **Ionosphere**\n",
    "- **binary-class**"
   ]
  },
  {
   "cell_type": "code",
   "execution_count": 310,
   "metadata": {
    "id": "rt0pfyeA02pK"
   },
   "outputs": [],
   "source": [
    "###-----------------\n",
    "### Import Libraries\n",
    "###-----------------\n",
    "\n",
    "import os\n",
    "import numpy as np\n",
    "import pandas as pd\n",
    "import matplotlib.pyplot as plt\n",
    "from sklearn import datasets\n",
    "from collections.abc import Callable\n",
    "from typing import Literal\n",
    "from sklearn.model_selection import train_test_split\n",
    "from sklearn.metrics import accuracy_score, confusion_matrix, classification_report, ConfusionMatrixDisplay\n",
    "from sklearn.preprocessing import StandardScaler\n",
    "import tensorflow as tf \n",
    "%matplotlib inline"
   ]
  },
  {
   "cell_type": "code",
   "execution_count": 311,
   "metadata": {},
   "outputs": [],
   "source": [
    "# gpus = tf.config.list_physical_devices('GPU')\n",
    "\n",
    "# try:\n",
    "#     for g in gpus:\n",
    "#         tf.config.experimental.set_memory_growth(g, True)\n",
    "#     logical_gpus = tf.config.list_logical_devices('GPU')\n",
    "#     print (len(gpus), 'Phusical GPUs', len(logical_gpus), 'Logical GPUs')\n",
    "# except:\n",
    "#     print ('invalid device')"
   ]
  },
  {
   "cell_type": "code",
   "execution_count": 312,
   "metadata": {
    "id": "__T9cczP02pL"
   },
   "outputs": [],
   "source": [
    "###----------------\n",
    "### Some parameters\n",
    "###----------------\n",
    "\n",
    "inpDir = '../../input'\n",
    "outDir = '../output'\n",
    "subDir = 'ionosphere'\n",
    "modelDir = '.../models'\n",
    "\n",
    "RANDOM_STATE = 24 # REMEMBER: to remove at the time of promotion to production\n",
    "np.random.seed(RANDOM_STATE) # Set Random Seed for reproducible  results\n",
    "\n",
    "EPOCHS = 101 # number of epochs\n",
    "ALPHA = 0.01 # learning rate\n",
    "NUM_SAMPLES = 1280 # How many samples we want to generate \n",
    "NOISE = 0.2 # Noise to be introduced in the data\n",
    "TEST_SIZE = 0.2\n",
    "BATCH_SIZE = 32\n",
    "TRAIN_SIZE = 256 # fix size of train set sot that we have batches of same size\n",
    "PATIENCE = 10\n",
    "\n",
    "# parameters for Matplotlib\n",
    "params = {'legend.fontsize': 'x-large',\n",
    "          'figure.figsize': (15, 8),\n",
    "          'axes.labelsize': 'x-large',\n",
    "          'axes.titlesize':'x-large',\n",
    "          'xtick.labelsize':'x-large',\n",
    "          'ytick.labelsize':'x-large'\n",
    "         }\n",
    "\n",
    "CMAP = 'coolwarm' # plt.cm.Spectral\n",
    "\n",
    "plt.rcParams.update(params)"
   ]
  },
  {
   "cell_type": "markdown",
   "metadata": {
    "id": "7bhVN20X02pN"
   },
   "source": [
    "## Generate Data Set\n",
    "Ionosphere Dataset"
   ]
  },
  {
   "cell_type": "code",
   "execution_count": 313,
   "metadata": {
    "id": "LXZ37P4G02pP"
   },
   "outputs": [
    {
     "data": {
      "text/html": [
       "<div>\n",
       "<style scoped>\n",
       "    .dataframe tbody tr th:only-of-type {\n",
       "        vertical-align: middle;\n",
       "    }\n",
       "\n",
       "    .dataframe tbody tr th {\n",
       "        vertical-align: top;\n",
       "    }\n",
       "\n",
       "    .dataframe thead th {\n",
       "        text-align: right;\n",
       "    }\n",
       "</style>\n",
       "<table border=\"1\" class=\"dataframe\">\n",
       "  <thead>\n",
       "    <tr style=\"text-align: right;\">\n",
       "      <th></th>\n",
       "      <th>0</th>\n",
       "      <th>1</th>\n",
       "      <th>2</th>\n",
       "      <th>3</th>\n",
       "      <th>4</th>\n",
       "      <th>5</th>\n",
       "      <th>6</th>\n",
       "      <th>7</th>\n",
       "      <th>8</th>\n",
       "      <th>9</th>\n",
       "      <th>...</th>\n",
       "      <th>25</th>\n",
       "      <th>26</th>\n",
       "      <th>27</th>\n",
       "      <th>28</th>\n",
       "      <th>29</th>\n",
       "      <th>30</th>\n",
       "      <th>31</th>\n",
       "      <th>32</th>\n",
       "      <th>33</th>\n",
       "      <th>34</th>\n",
       "    </tr>\n",
       "  </thead>\n",
       "  <tbody>\n",
       "    <tr>\n",
       "      <th>0</th>\n",
       "      <td>1</td>\n",
       "      <td>0</td>\n",
       "      <td>0.99539</td>\n",
       "      <td>-0.05889</td>\n",
       "      <td>0.85243</td>\n",
       "      <td>0.02306</td>\n",
       "      <td>0.83398</td>\n",
       "      <td>-0.37708</td>\n",
       "      <td>1.00000</td>\n",
       "      <td>0.03760</td>\n",
       "      <td>...</td>\n",
       "      <td>-0.51171</td>\n",
       "      <td>0.41078</td>\n",
       "      <td>-0.46168</td>\n",
       "      <td>0.21266</td>\n",
       "      <td>-0.34090</td>\n",
       "      <td>0.42267</td>\n",
       "      <td>-0.54487</td>\n",
       "      <td>0.18641</td>\n",
       "      <td>-0.45300</td>\n",
       "      <td>g</td>\n",
       "    </tr>\n",
       "    <tr>\n",
       "      <th>1</th>\n",
       "      <td>1</td>\n",
       "      <td>0</td>\n",
       "      <td>1.00000</td>\n",
       "      <td>-0.18829</td>\n",
       "      <td>0.93035</td>\n",
       "      <td>-0.36156</td>\n",
       "      <td>-0.10868</td>\n",
       "      <td>-0.93597</td>\n",
       "      <td>1.00000</td>\n",
       "      <td>-0.04549</td>\n",
       "      <td>...</td>\n",
       "      <td>-0.26569</td>\n",
       "      <td>-0.20468</td>\n",
       "      <td>-0.18401</td>\n",
       "      <td>-0.19040</td>\n",
       "      <td>-0.11593</td>\n",
       "      <td>-0.16626</td>\n",
       "      <td>-0.06288</td>\n",
       "      <td>-0.13738</td>\n",
       "      <td>-0.02447</td>\n",
       "      <td>b</td>\n",
       "    </tr>\n",
       "    <tr>\n",
       "      <th>2</th>\n",
       "      <td>1</td>\n",
       "      <td>0</td>\n",
       "      <td>1.00000</td>\n",
       "      <td>-0.03365</td>\n",
       "      <td>1.00000</td>\n",
       "      <td>0.00485</td>\n",
       "      <td>1.00000</td>\n",
       "      <td>-0.12062</td>\n",
       "      <td>0.88965</td>\n",
       "      <td>0.01198</td>\n",
       "      <td>...</td>\n",
       "      <td>-0.40220</td>\n",
       "      <td>0.58984</td>\n",
       "      <td>-0.22145</td>\n",
       "      <td>0.43100</td>\n",
       "      <td>-0.17365</td>\n",
       "      <td>0.60436</td>\n",
       "      <td>-0.24180</td>\n",
       "      <td>0.56045</td>\n",
       "      <td>-0.38238</td>\n",
       "      <td>g</td>\n",
       "    </tr>\n",
       "    <tr>\n",
       "      <th>3</th>\n",
       "      <td>1</td>\n",
       "      <td>0</td>\n",
       "      <td>1.00000</td>\n",
       "      <td>-0.45161</td>\n",
       "      <td>1.00000</td>\n",
       "      <td>1.00000</td>\n",
       "      <td>0.71216</td>\n",
       "      <td>-1.00000</td>\n",
       "      <td>0.00000</td>\n",
       "      <td>0.00000</td>\n",
       "      <td>...</td>\n",
       "      <td>0.90695</td>\n",
       "      <td>0.51613</td>\n",
       "      <td>1.00000</td>\n",
       "      <td>1.00000</td>\n",
       "      <td>-0.20099</td>\n",
       "      <td>0.25682</td>\n",
       "      <td>1.00000</td>\n",
       "      <td>-0.32382</td>\n",
       "      <td>1.00000</td>\n",
       "      <td>b</td>\n",
       "    </tr>\n",
       "    <tr>\n",
       "      <th>4</th>\n",
       "      <td>1</td>\n",
       "      <td>0</td>\n",
       "      <td>1.00000</td>\n",
       "      <td>-0.02401</td>\n",
       "      <td>0.94140</td>\n",
       "      <td>0.06531</td>\n",
       "      <td>0.92106</td>\n",
       "      <td>-0.23255</td>\n",
       "      <td>0.77152</td>\n",
       "      <td>-0.16399</td>\n",
       "      <td>...</td>\n",
       "      <td>-0.65158</td>\n",
       "      <td>0.13290</td>\n",
       "      <td>-0.53206</td>\n",
       "      <td>0.02431</td>\n",
       "      <td>-0.62197</td>\n",
       "      <td>-0.05707</td>\n",
       "      <td>-0.59573</td>\n",
       "      <td>-0.04608</td>\n",
       "      <td>-0.65697</td>\n",
       "      <td>g</td>\n",
       "    </tr>\n",
       "  </tbody>\n",
       "</table>\n",
       "<p>5 rows × 35 columns</p>\n",
       "</div>"
      ],
      "text/plain": [
       "   0   1        2        3        4        5        6        7        8   \\\n",
       "0   1   0  0.99539 -0.05889  0.85243  0.02306  0.83398 -0.37708  1.00000   \n",
       "1   1   0  1.00000 -0.18829  0.93035 -0.36156 -0.10868 -0.93597  1.00000   \n",
       "2   1   0  1.00000 -0.03365  1.00000  0.00485  1.00000 -0.12062  0.88965   \n",
       "3   1   0  1.00000 -0.45161  1.00000  1.00000  0.71216 -1.00000  0.00000   \n",
       "4   1   0  1.00000 -0.02401  0.94140  0.06531  0.92106 -0.23255  0.77152   \n",
       "\n",
       "        9   ...       25       26       27       28       29       30  \\\n",
       "0  0.03760  ... -0.51171  0.41078 -0.46168  0.21266 -0.34090  0.42267   \n",
       "1 -0.04549  ... -0.26569 -0.20468 -0.18401 -0.19040 -0.11593 -0.16626   \n",
       "2  0.01198  ... -0.40220  0.58984 -0.22145  0.43100 -0.17365  0.60436   \n",
       "3  0.00000  ...  0.90695  0.51613  1.00000  1.00000 -0.20099  0.25682   \n",
       "4 -0.16399  ... -0.65158  0.13290 -0.53206  0.02431 -0.62197 -0.05707   \n",
       "\n",
       "        31       32       33  34  \n",
       "0 -0.54487  0.18641 -0.45300   g  \n",
       "1 -0.06288 -0.13738 -0.02447   b  \n",
       "2 -0.24180  0.56045 -0.38238   g  \n",
       "3  1.00000 -0.32382  1.00000   b  \n",
       "4 -0.59573 -0.04608 -0.65697   g  \n",
       "\n",
       "[5 rows x 35 columns]"
      ]
     },
     "execution_count": 313,
     "metadata": {},
     "output_type": "execute_result"
    }
   ],
   "source": [
    "data_df = pd.read_csv('ionosphere.data', header=None)\n",
    "data_df.head()"
   ]
  },
  {
   "cell_type": "code",
   "execution_count": 314,
   "metadata": {
    "colab": {
     "base_uri": "https://localhost:8080/",
     "height": 596
    },
    "id": "PWMWQKQ702pQ",
    "outputId": "80ccd743-533a-4a5d-c009-9318021035a1",
    "scrolled": true
   },
   "outputs": [
    {
     "data": {
      "text/plain": [
       "(351, 35)"
      ]
     },
     "execution_count": 314,
     "metadata": {},
     "output_type": "execute_result"
    }
   ],
   "source": [
    "data_df.shape"
   ]
  },
  {
   "cell_type": "code",
   "execution_count": 315,
   "metadata": {},
   "outputs": [
    {
     "data": {
      "text/plain": [
       "0     0\n",
       "1     0\n",
       "2     0\n",
       "3     0\n",
       "4     0\n",
       "5     0\n",
       "6     0\n",
       "7     0\n",
       "8     0\n",
       "9     0\n",
       "10    0\n",
       "11    0\n",
       "12    0\n",
       "13    0\n",
       "14    0\n",
       "15    0\n",
       "16    0\n",
       "17    0\n",
       "18    0\n",
       "19    0\n",
       "20    0\n",
       "21    0\n",
       "22    0\n",
       "23    0\n",
       "24    0\n",
       "25    0\n",
       "26    0\n",
       "27    0\n",
       "28    0\n",
       "29    0\n",
       "30    0\n",
       "31    0\n",
       "32    0\n",
       "33    0\n",
       "34    0\n",
       "dtype: int64"
      ]
     },
     "execution_count": 315,
     "metadata": {},
     "output_type": "execute_result"
    }
   ],
   "source": [
    "data_df.isnull().sum()"
   ]
  },
  {
   "cell_type": "code",
   "execution_count": 316,
   "metadata": {},
   "outputs": [
    {
     "data": {
      "text/plain": [
       "Index([               0,                1,                2,                3,\n",
       "                      4,                5,                6,                7,\n",
       "                      8,                9,               10,               11,\n",
       "                     12,               13,               14,               15,\n",
       "                     16,               17,               18,               19,\n",
       "                     20,               21,               22,               23,\n",
       "                     24,               25,               26,               27,\n",
       "                     28,               29,               30,               31,\n",
       "                     32,               33, 'Classification'],\n",
       "      dtype='object')"
      ]
     },
     "execution_count": 316,
     "metadata": {},
     "output_type": "execute_result"
    }
   ],
   "source": [
    "data_df = data_df.rename(columns={34: 'Classification'})\n",
    "data_df.columns"
   ]
  },
  {
   "cell_type": "code",
   "execution_count": 317,
   "metadata": {},
   "outputs": [
    {
     "data": {
      "text/plain": [
       "0                 0\n",
       "1                 0\n",
       "2                 0\n",
       "3                 0\n",
       "4                 0\n",
       "5                 0\n",
       "6                 0\n",
       "7                 0\n",
       "8                 0\n",
       "9                 0\n",
       "10                0\n",
       "11                0\n",
       "12                0\n",
       "13                0\n",
       "14                0\n",
       "15                0\n",
       "16                0\n",
       "17                0\n",
       "18                0\n",
       "19                0\n",
       "20                0\n",
       "21                0\n",
       "22                0\n",
       "23                0\n",
       "24                0\n",
       "25                0\n",
       "26                0\n",
       "27                0\n",
       "28                0\n",
       "29                0\n",
       "30                0\n",
       "31                0\n",
       "32                0\n",
       "33                0\n",
       "Classification    0\n",
       "dtype: int64"
      ]
     },
     "execution_count": 317,
     "metadata": {},
     "output_type": "execute_result"
    }
   ],
   "source": [
    "data_df.isna().sum()"
   ]
  },
  {
   "cell_type": "code",
   "execution_count": 318,
   "metadata": {},
   "outputs": [
    {
     "data": {
      "text/html": [
       "<div>\n",
       "<style scoped>\n",
       "    .dataframe tbody tr th:only-of-type {\n",
       "        vertical-align: middle;\n",
       "    }\n",
       "\n",
       "    .dataframe tbody tr th {\n",
       "        vertical-align: top;\n",
       "    }\n",
       "\n",
       "    .dataframe thead th {\n",
       "        text-align: right;\n",
       "    }\n",
       "</style>\n",
       "<table border=\"1\" class=\"dataframe\">\n",
       "  <thead>\n",
       "    <tr style=\"text-align: right;\">\n",
       "      <th></th>\n",
       "      <th>0</th>\n",
       "      <th>1</th>\n",
       "      <th>2</th>\n",
       "      <th>3</th>\n",
       "      <th>4</th>\n",
       "      <th>5</th>\n",
       "      <th>6</th>\n",
       "      <th>7</th>\n",
       "      <th>8</th>\n",
       "      <th>9</th>\n",
       "      <th>...</th>\n",
       "      <th>25</th>\n",
       "      <th>26</th>\n",
       "      <th>27</th>\n",
       "      <th>28</th>\n",
       "      <th>29</th>\n",
       "      <th>30</th>\n",
       "      <th>31</th>\n",
       "      <th>32</th>\n",
       "      <th>33</th>\n",
       "      <th>Classification</th>\n",
       "    </tr>\n",
       "  </thead>\n",
       "  <tbody>\n",
       "    <tr>\n",
       "      <th>0</th>\n",
       "      <td>1</td>\n",
       "      <td>0</td>\n",
       "      <td>0.99539</td>\n",
       "      <td>-0.05889</td>\n",
       "      <td>0.85243</td>\n",
       "      <td>0.02306</td>\n",
       "      <td>0.83398</td>\n",
       "      <td>-0.37708</td>\n",
       "      <td>1.00000</td>\n",
       "      <td>0.03760</td>\n",
       "      <td>...</td>\n",
       "      <td>-0.51171</td>\n",
       "      <td>0.41078</td>\n",
       "      <td>-0.46168</td>\n",
       "      <td>0.21266</td>\n",
       "      <td>-0.34090</td>\n",
       "      <td>0.42267</td>\n",
       "      <td>-0.54487</td>\n",
       "      <td>0.18641</td>\n",
       "      <td>-0.45300</td>\n",
       "      <td>g</td>\n",
       "    </tr>\n",
       "    <tr>\n",
       "      <th>1</th>\n",
       "      <td>1</td>\n",
       "      <td>0</td>\n",
       "      <td>1.00000</td>\n",
       "      <td>-0.18829</td>\n",
       "      <td>0.93035</td>\n",
       "      <td>-0.36156</td>\n",
       "      <td>-0.10868</td>\n",
       "      <td>-0.93597</td>\n",
       "      <td>1.00000</td>\n",
       "      <td>-0.04549</td>\n",
       "      <td>...</td>\n",
       "      <td>-0.26569</td>\n",
       "      <td>-0.20468</td>\n",
       "      <td>-0.18401</td>\n",
       "      <td>-0.19040</td>\n",
       "      <td>-0.11593</td>\n",
       "      <td>-0.16626</td>\n",
       "      <td>-0.06288</td>\n",
       "      <td>-0.13738</td>\n",
       "      <td>-0.02447</td>\n",
       "      <td>b</td>\n",
       "    </tr>\n",
       "    <tr>\n",
       "      <th>2</th>\n",
       "      <td>1</td>\n",
       "      <td>0</td>\n",
       "      <td>1.00000</td>\n",
       "      <td>-0.03365</td>\n",
       "      <td>1.00000</td>\n",
       "      <td>0.00485</td>\n",
       "      <td>1.00000</td>\n",
       "      <td>-0.12062</td>\n",
       "      <td>0.88965</td>\n",
       "      <td>0.01198</td>\n",
       "      <td>...</td>\n",
       "      <td>-0.40220</td>\n",
       "      <td>0.58984</td>\n",
       "      <td>-0.22145</td>\n",
       "      <td>0.43100</td>\n",
       "      <td>-0.17365</td>\n",
       "      <td>0.60436</td>\n",
       "      <td>-0.24180</td>\n",
       "      <td>0.56045</td>\n",
       "      <td>-0.38238</td>\n",
       "      <td>g</td>\n",
       "    </tr>\n",
       "    <tr>\n",
       "      <th>3</th>\n",
       "      <td>1</td>\n",
       "      <td>0</td>\n",
       "      <td>1.00000</td>\n",
       "      <td>-0.45161</td>\n",
       "      <td>1.00000</td>\n",
       "      <td>1.00000</td>\n",
       "      <td>0.71216</td>\n",
       "      <td>-1.00000</td>\n",
       "      <td>0.00000</td>\n",
       "      <td>0.00000</td>\n",
       "      <td>...</td>\n",
       "      <td>0.90695</td>\n",
       "      <td>0.51613</td>\n",
       "      <td>1.00000</td>\n",
       "      <td>1.00000</td>\n",
       "      <td>-0.20099</td>\n",
       "      <td>0.25682</td>\n",
       "      <td>1.00000</td>\n",
       "      <td>-0.32382</td>\n",
       "      <td>1.00000</td>\n",
       "      <td>b</td>\n",
       "    </tr>\n",
       "    <tr>\n",
       "      <th>4</th>\n",
       "      <td>1</td>\n",
       "      <td>0</td>\n",
       "      <td>1.00000</td>\n",
       "      <td>-0.02401</td>\n",
       "      <td>0.94140</td>\n",
       "      <td>0.06531</td>\n",
       "      <td>0.92106</td>\n",
       "      <td>-0.23255</td>\n",
       "      <td>0.77152</td>\n",
       "      <td>-0.16399</td>\n",
       "      <td>...</td>\n",
       "      <td>-0.65158</td>\n",
       "      <td>0.13290</td>\n",
       "      <td>-0.53206</td>\n",
       "      <td>0.02431</td>\n",
       "      <td>-0.62197</td>\n",
       "      <td>-0.05707</td>\n",
       "      <td>-0.59573</td>\n",
       "      <td>-0.04608</td>\n",
       "      <td>-0.65697</td>\n",
       "      <td>g</td>\n",
       "    </tr>\n",
       "  </tbody>\n",
       "</table>\n",
       "<p>5 rows × 35 columns</p>\n",
       "</div>"
      ],
      "text/plain": [
       "   0  1        2        3        4        5        6        7        8  \\\n",
       "0  1  0  0.99539 -0.05889  0.85243  0.02306  0.83398 -0.37708  1.00000   \n",
       "1  1  0  1.00000 -0.18829  0.93035 -0.36156 -0.10868 -0.93597  1.00000   \n",
       "2  1  0  1.00000 -0.03365  1.00000  0.00485  1.00000 -0.12062  0.88965   \n",
       "3  1  0  1.00000 -0.45161  1.00000  1.00000  0.71216 -1.00000  0.00000   \n",
       "4  1  0  1.00000 -0.02401  0.94140  0.06531  0.92106 -0.23255  0.77152   \n",
       "\n",
       "         9  ...       25       26       27       28       29       30  \\\n",
       "0  0.03760  ... -0.51171  0.41078 -0.46168  0.21266 -0.34090  0.42267   \n",
       "1 -0.04549  ... -0.26569 -0.20468 -0.18401 -0.19040 -0.11593 -0.16626   \n",
       "2  0.01198  ... -0.40220  0.58984 -0.22145  0.43100 -0.17365  0.60436   \n",
       "3  0.00000  ...  0.90695  0.51613  1.00000  1.00000 -0.20099  0.25682   \n",
       "4 -0.16399  ... -0.65158  0.13290 -0.53206  0.02431 -0.62197 -0.05707   \n",
       "\n",
       "        31       32       33  Classification  \n",
       "0 -0.54487  0.18641 -0.45300               g  \n",
       "1 -0.06288 -0.13738 -0.02447               b  \n",
       "2 -0.24180  0.56045 -0.38238               g  \n",
       "3  1.00000 -0.32382  1.00000               b  \n",
       "4 -0.59573 -0.04608 -0.65697               g  \n",
       "\n",
       "[5 rows x 35 columns]"
      ]
     },
     "execution_count": 318,
     "metadata": {},
     "output_type": "execute_result"
    }
   ],
   "source": [
    "data_df.head()"
   ]
  },
  {
   "cell_type": "code",
   "execution_count": 319,
   "metadata": {},
   "outputs": [
    {
     "data": {
      "text/plain": [
       "array(['g', 'b'], dtype=object)"
      ]
     },
     "execution_count": 319,
     "metadata": {},
     "output_type": "execute_result"
    }
   ],
   "source": [
    "data_df['Classification'].unique()"
   ]
  },
  {
   "cell_type": "code",
   "execution_count": 320,
   "metadata": {},
   "outputs": [],
   "source": [
    "labels = { 'g' : 'Good', 'b': 'Bad'}"
   ]
  },
  {
   "cell_type": "code",
   "execution_count": 321,
   "metadata": {},
   "outputs": [
    {
     "data": {
      "text/plain": [
       "((351, 34), (351,))"
      ]
     },
     "execution_count": 321,
     "metadata": {},
     "output_type": "execute_result"
    }
   ],
   "source": [
    "features_df = data_df.drop('Classification', axis = 1) # drop label col\n",
    "\n",
    "label_df = data_df['Classification'] # labels\n",
    "\n",
    "features_df.shape, label_df.shape"
   ]
  },
  {
   "cell_type": "code",
   "execution_count": 322,
   "metadata": {},
   "outputs": [
    {
     "data": {
      "text/html": [
       "<div>\n",
       "<style scoped>\n",
       "    .dataframe tbody tr th:only-of-type {\n",
       "        vertical-align: middle;\n",
       "    }\n",
       "\n",
       "    .dataframe tbody tr th {\n",
       "        vertical-align: top;\n",
       "    }\n",
       "\n",
       "    .dataframe thead th {\n",
       "        text-align: right;\n",
       "    }\n",
       "</style>\n",
       "<table border=\"1\" class=\"dataframe\">\n",
       "  <thead>\n",
       "    <tr style=\"text-align: right;\">\n",
       "      <th></th>\n",
       "      <th>b</th>\n",
       "      <th>g</th>\n",
       "    </tr>\n",
       "  </thead>\n",
       "  <tbody>\n",
       "    <tr>\n",
       "      <th>0</th>\n",
       "      <td>False</td>\n",
       "      <td>True</td>\n",
       "    </tr>\n",
       "    <tr>\n",
       "      <th>1</th>\n",
       "      <td>True</td>\n",
       "      <td>False</td>\n",
       "    </tr>\n",
       "    <tr>\n",
       "      <th>2</th>\n",
       "      <td>False</td>\n",
       "      <td>True</td>\n",
       "    </tr>\n",
       "    <tr>\n",
       "      <th>3</th>\n",
       "      <td>True</td>\n",
       "      <td>False</td>\n",
       "    </tr>\n",
       "    <tr>\n",
       "      <th>4</th>\n",
       "      <td>False</td>\n",
       "      <td>True</td>\n",
       "    </tr>\n",
       "    <tr>\n",
       "      <th>...</th>\n",
       "      <td>...</td>\n",
       "      <td>...</td>\n",
       "    </tr>\n",
       "    <tr>\n",
       "      <th>346</th>\n",
       "      <td>False</td>\n",
       "      <td>True</td>\n",
       "    </tr>\n",
       "    <tr>\n",
       "      <th>347</th>\n",
       "      <td>False</td>\n",
       "      <td>True</td>\n",
       "    </tr>\n",
       "    <tr>\n",
       "      <th>348</th>\n",
       "      <td>False</td>\n",
       "      <td>True</td>\n",
       "    </tr>\n",
       "    <tr>\n",
       "      <th>349</th>\n",
       "      <td>False</td>\n",
       "      <td>True</td>\n",
       "    </tr>\n",
       "    <tr>\n",
       "      <th>350</th>\n",
       "      <td>False</td>\n",
       "      <td>True</td>\n",
       "    </tr>\n",
       "  </tbody>\n",
       "</table>\n",
       "<p>351 rows × 2 columns</p>\n",
       "</div>"
      ],
      "text/plain": [
       "         b      g\n",
       "0    False   True\n",
       "1     True  False\n",
       "2    False   True\n",
       "3     True  False\n",
       "4    False   True\n",
       "..     ...    ...\n",
       "346  False   True\n",
       "347  False   True\n",
       "348  False   True\n",
       "349  False   True\n",
       "350  False   True\n",
       "\n",
       "[351 rows x 2 columns]"
      ]
     },
     "execution_count": 322,
     "metadata": {},
     "output_type": "execute_result"
    }
   ],
   "source": [
    "label_df = pd.get_dummies(label_df)\n",
    "label_df"
   ]
  },
  {
   "cell_type": "code",
   "execution_count": 323,
   "metadata": {},
   "outputs": [
    {
     "data": {
      "text/html": [
       "<div>\n",
       "<style scoped>\n",
       "    .dataframe tbody tr th:only-of-type {\n",
       "        vertical-align: middle;\n",
       "    }\n",
       "\n",
       "    .dataframe tbody tr th {\n",
       "        vertical-align: top;\n",
       "    }\n",
       "\n",
       "    .dataframe thead th {\n",
       "        text-align: right;\n",
       "    }\n",
       "</style>\n",
       "<table border=\"1\" class=\"dataframe\">\n",
       "  <thead>\n",
       "    <tr style=\"text-align: right;\">\n",
       "      <th></th>\n",
       "      <th>b</th>\n",
       "      <th>g</th>\n",
       "    </tr>\n",
       "  </thead>\n",
       "  <tbody>\n",
       "    <tr>\n",
       "      <th>0</th>\n",
       "      <td>False</td>\n",
       "      <td>True</td>\n",
       "    </tr>\n",
       "    <tr>\n",
       "      <th>1</th>\n",
       "      <td>True</td>\n",
       "      <td>False</td>\n",
       "    </tr>\n",
       "    <tr>\n",
       "      <th>2</th>\n",
       "      <td>False</td>\n",
       "      <td>True</td>\n",
       "    </tr>\n",
       "    <tr>\n",
       "      <th>3</th>\n",
       "      <td>True</td>\n",
       "      <td>False</td>\n",
       "    </tr>\n",
       "    <tr>\n",
       "      <th>4</th>\n",
       "      <td>False</td>\n",
       "      <td>True</td>\n",
       "    </tr>\n",
       "  </tbody>\n",
       "</table>\n",
       "</div>"
      ],
      "text/plain": [
       "       b      g\n",
       "0  False   True\n",
       "1   True  False\n",
       "2  False   True\n",
       "3   True  False\n",
       "4  False   True"
      ]
     },
     "execution_count": 323,
     "metadata": {},
     "output_type": "execute_result"
    }
   ],
   "source": [
    "label_df.head()"
   ]
  },
  {
   "cell_type": "code",
   "execution_count": 324,
   "metadata": {},
   "outputs": [
    {
     "name": "stdout",
     "output_type": "stream",
     "text": [
      "(256, 34) (256, 2) (95, 34) (95, 2)\n"
     ]
    }
   ],
   "source": [
    "#  Split the data in training and test sets to measure performance of the model.\n",
    "X_train, X_test, y_train, y_test = train_test_split(features_df, label_df, \n",
    "                                                    stratify=label_df,\n",
    "                                                    train_size=TRAIN_SIZE, \n",
    "                                                    random_state=RANDOM_STATE )\n",
    "\n",
    "print (X_train.shape, y_train.shape, X_test.shape, y_test.shape)"
   ]
  },
  {
   "cell_type": "code",
   "execution_count": 325,
   "metadata": {},
   "outputs": [],
   "source": [
    "scaler = StandardScaler() # get the scaler\n",
    "\n",
    "X_train = scaler.fit_transform(X_train) # train\n",
    "X_test = scaler.transform(X_test) # test\n",
    "\n",
    "y_train = y_train.to_numpy() # array\n",
    "y_test = y_test.to_numpy() # convert to array"
   ]
  },
  {
   "cell_type": "code",
   "execution_count": 326,
   "metadata": {},
   "outputs": [
    {
     "data": {
      "text/plain": [
       "array([[ True, False],\n",
       "       [False,  True],\n",
       "       [False,  True],\n",
       "       [False,  True],\n",
       "       [False,  True],\n",
       "       [ True, False],\n",
       "       [False,  True],\n",
       "       [ True, False],\n",
       "       [ True, False],\n",
       "       [False,  True],\n",
       "       [False,  True],\n",
       "       [ True, False],\n",
       "       [ True, False],\n",
       "       [ True, False],\n",
       "       [ True, False],\n",
       "       [False,  True],\n",
       "       [False,  True],\n",
       "       [ True, False],\n",
       "       [ True, False],\n",
       "       [False,  True],\n",
       "       [False,  True],\n",
       "       [False,  True],\n",
       "       [False,  True],\n",
       "       [False,  True],\n",
       "       [False,  True],\n",
       "       [False,  True],\n",
       "       [ True, False],\n",
       "       [False,  True],\n",
       "       [False,  True],\n",
       "       [ True, False],\n",
       "       [False,  True],\n",
       "       [False,  True],\n",
       "       [False,  True],\n",
       "       [False,  True],\n",
       "       [False,  True],\n",
       "       [ True, False],\n",
       "       [False,  True],\n",
       "       [False,  True],\n",
       "       [False,  True],\n",
       "       [False,  True],\n",
       "       [ True, False],\n",
       "       [ True, False],\n",
       "       [ True, False],\n",
       "       [ True, False],\n",
       "       [ True, False],\n",
       "       [ True, False],\n",
       "       [ True, False],\n",
       "       [False,  True],\n",
       "       [False,  True],\n",
       "       [False,  True],\n",
       "       [ True, False],\n",
       "       [ True, False],\n",
       "       [False,  True],\n",
       "       [False,  True],\n",
       "       [ True, False],\n",
       "       [False,  True],\n",
       "       [False,  True],\n",
       "       [False,  True],\n",
       "       [ True, False],\n",
       "       [False,  True],\n",
       "       [ True, False],\n",
       "       [False,  True],\n",
       "       [False,  True],\n",
       "       [False,  True],\n",
       "       [False,  True],\n",
       "       [False,  True],\n",
       "       [False,  True],\n",
       "       [False,  True],\n",
       "       [False,  True],\n",
       "       [False,  True],\n",
       "       [ True, False],\n",
       "       [False,  True],\n",
       "       [False,  True],\n",
       "       [False,  True],\n",
       "       [False,  True],\n",
       "       [False,  True],\n",
       "       [False,  True],\n",
       "       [False,  True],\n",
       "       [ True, False],\n",
       "       [False,  True],\n",
       "       [ True, False],\n",
       "       [False,  True],\n",
       "       [False,  True],\n",
       "       [ True, False],\n",
       "       [ True, False],\n",
       "       [False,  True],\n",
       "       [False,  True],\n",
       "       [False,  True],\n",
       "       [ True, False],\n",
       "       [False,  True],\n",
       "       [ True, False],\n",
       "       [ True, False],\n",
       "       [ True, False],\n",
       "       [ True, False],\n",
       "       [ True, False],\n",
       "       [False,  True],\n",
       "       [False,  True],\n",
       "       [False,  True],\n",
       "       [ True, False],\n",
       "       [False,  True],\n",
       "       [False,  True],\n",
       "       [ True, False],\n",
       "       [ True, False],\n",
       "       [ True, False],\n",
       "       [False,  True],\n",
       "       [False,  True],\n",
       "       [ True, False],\n",
       "       [ True, False],\n",
       "       [ True, False],\n",
       "       [False,  True],\n",
       "       [False,  True],\n",
       "       [ True, False],\n",
       "       [False,  True],\n",
       "       [False,  True],\n",
       "       [ True, False],\n",
       "       [False,  True],\n",
       "       [ True, False],\n",
       "       [ True, False],\n",
       "       [ True, False],\n",
       "       [ True, False],\n",
       "       [ True, False],\n",
       "       [ True, False],\n",
       "       [False,  True],\n",
       "       [False,  True],\n",
       "       [False,  True],\n",
       "       [False,  True],\n",
       "       [False,  True],\n",
       "       [False,  True],\n",
       "       [ True, False],\n",
       "       [ True, False],\n",
       "       [False,  True],\n",
       "       [False,  True],\n",
       "       [ True, False],\n",
       "       [False,  True],\n",
       "       [False,  True],\n",
       "       [False,  True],\n",
       "       [False,  True],\n",
       "       [False,  True],\n",
       "       [False,  True],\n",
       "       [False,  True],\n",
       "       [False,  True],\n",
       "       [False,  True],\n",
       "       [ True, False],\n",
       "       [ True, False],\n",
       "       [ True, False],\n",
       "       [ True, False],\n",
       "       [False,  True],\n",
       "       [ True, False],\n",
       "       [False,  True],\n",
       "       [False,  True],\n",
       "       [ True, False],\n",
       "       [ True, False],\n",
       "       [False,  True],\n",
       "       [False,  True],\n",
       "       [False,  True],\n",
       "       [False,  True],\n",
       "       [ True, False],\n",
       "       [ True, False],\n",
       "       [False,  True],\n",
       "       [False,  True],\n",
       "       [False,  True],\n",
       "       [False,  True],\n",
       "       [False,  True],\n",
       "       [ True, False],\n",
       "       [False,  True],\n",
       "       [False,  True],\n",
       "       [False,  True],\n",
       "       [False,  True],\n",
       "       [ True, False],\n",
       "       [ True, False],\n",
       "       [False,  True],\n",
       "       [False,  True],\n",
       "       [ True, False],\n",
       "       [False,  True],\n",
       "       [ True, False],\n",
       "       [False,  True],\n",
       "       [False,  True],\n",
       "       [False,  True],\n",
       "       [ True, False],\n",
       "       [False,  True],\n",
       "       [False,  True],\n",
       "       [False,  True],\n",
       "       [False,  True],\n",
       "       [ True, False],\n",
       "       [False,  True],\n",
       "       [ True, False],\n",
       "       [False,  True],\n",
       "       [False,  True],\n",
       "       [False,  True],\n",
       "       [False,  True],\n",
       "       [False,  True],\n",
       "       [False,  True],\n",
       "       [False,  True],\n",
       "       [False,  True],\n",
       "       [False,  True],\n",
       "       [ True, False],\n",
       "       [False,  True],\n",
       "       [ True, False],\n",
       "       [False,  True],\n",
       "       [ True, False],\n",
       "       [False,  True],\n",
       "       [False,  True],\n",
       "       [ True, False],\n",
       "       [False,  True],\n",
       "       [ True, False],\n",
       "       [ True, False],\n",
       "       [False,  True],\n",
       "       [False,  True],\n",
       "       [False,  True],\n",
       "       [ True, False],\n",
       "       [False,  True],\n",
       "       [ True, False],\n",
       "       [False,  True],\n",
       "       [False,  True],\n",
       "       [False,  True],\n",
       "       [False,  True],\n",
       "       [ True, False],\n",
       "       [ True, False],\n",
       "       [ True, False],\n",
       "       [False,  True],\n",
       "       [False,  True],\n",
       "       [False,  True],\n",
       "       [ True, False],\n",
       "       [False,  True],\n",
       "       [False,  True],\n",
       "       [False,  True],\n",
       "       [False,  True],\n",
       "       [False,  True],\n",
       "       [False,  True],\n",
       "       [False,  True],\n",
       "       [ True, False],\n",
       "       [False,  True],\n",
       "       [ True, False],\n",
       "       [False,  True],\n",
       "       [False,  True],\n",
       "       [False,  True],\n",
       "       [False,  True],\n",
       "       [ True, False],\n",
       "       [False,  True],\n",
       "       [False,  True],\n",
       "       [False,  True],\n",
       "       [False,  True],\n",
       "       [False,  True],\n",
       "       [False,  True],\n",
       "       [ True, False],\n",
       "       [False,  True],\n",
       "       [ True, False],\n",
       "       [ True, False],\n",
       "       [False,  True],\n",
       "       [False,  True],\n",
       "       [ True, False],\n",
       "       [False,  True],\n",
       "       [False,  True],\n",
       "       [ True, False],\n",
       "       [ True, False],\n",
       "       [False,  True]])"
      ]
     },
     "execution_count": 326,
     "metadata": {},
     "output_type": "execute_result"
    }
   ],
   "source": [
    "y_train"
   ]
  },
  {
   "cell_type": "markdown",
   "metadata": {
    "id": "c7w9j7Yo02pX"
   },
   "source": [
    "## Neural Network\n",
    "\n",
    "Let's start with simple network. Our data has **two** features. Hence size of input layer will also be two. Lets code our output as two classes. The hidden layer could be of **any size**. One need to execute a handful of iterations to arrive at right size of hidden layer. For purpose of today's discussions, size of hidden layer is taken as shown below.\n",
    "<img src='../../images/dnn_nb_s05_fig1.png' width = '500' alt = 'Session 5 Figure 1'/>"
   ]
  },
  {
   "cell_type": "markdown",
   "metadata": {},
   "source": [
    "## Prepare Model:"
   ]
  },
  {
   "cell_type": "code",
   "execution_count": 327,
   "metadata": {},
   "outputs": [
    {
     "name": "stdout",
     "output_type": "stream",
     "text": [
      "Model: \"model_7\"\n",
      "_________________________________________________________________\n",
      " Layer (type)                Output Shape              Param #   \n",
      "=================================================================\n",
      " input_8 (InputLayer)        [(None, 34)]              0         \n",
      "                                                                 \n",
      " dense_21 (Dense)            (None, 18)                630       \n",
      "                                                                 \n",
      " batch_normalization_3 (Batc  (None, 18)               72        \n",
      " hNormalization)                                                 \n",
      "                                                                 \n",
      " dropout_7 (Dropout)         (None, 18)                0         \n",
      "                                                                 \n",
      " dense_22 (Dense)            (None, 9)                 171       \n",
      "                                                                 \n",
      " batch_normalization_4 (Batc  (None, 9)                36        \n",
      " hNormalization)                                                 \n",
      "                                                                 \n",
      " dropout_8 (Dropout)         (None, 9)                 0         \n",
      "                                                                 \n",
      " dense_23 (Dense)            (None, 2)                 20        \n",
      "                                                                 \n",
      "=================================================================\n",
      "Total params: 929\n",
      "Trainable params: 875\n",
      "Non-trainable params: 54\n",
      "_________________________________________________________________\n"
     ]
    }
   ],
   "source": [
    "knl_reg = tf.keras.regularizers.L2(l2 = 0.001)\n",
    "\n",
    "dor1 = 0.1\n",
    "\n",
    "# model = tf.keras.Sequential([\n",
    "    \n",
    "#     tf.keras.layers.Dense(18, #activation='swish',\n",
    "#                           kernel_regularizer = knl_reg ),\n",
    "    \n",
    "#     tf.keras.layers.BatchNormalization(),\n",
    "    \n",
    "#     #Put Activation Layer here\n",
    "#     tf.keras.layers.Activation('relu'),\n",
    "    \n",
    "#     tf.keras.layers.Dropout(rate=dor1, seed=RANDOM_STATE),\n",
    "    \n",
    "#     tf.keras.layers.Dense(9, #activation='relu',\n",
    "#                           kernel_regularizer = knl_reg ),\n",
    "    \n",
    "#     tf.keras.layers.Dense(2)\n",
    "\n",
    "# ])\n",
    "\n",
    "input_layer = tf.keras.Input(shape=(34,))\n",
    "\n",
    "x = tf.keras.layers.Dense(18, activation='relu',\n",
    "                          kernel_regularizer = knl_reg ) (input_layer)\n",
    "\n",
    "x = tf.keras.layers.BatchNormalization()(x)\n",
    "x = tf.keras.layers.Dropout(dor1)(x)\n",
    "\n",
    "x = tf.keras.layers.Dense(9, activation='relu',\n",
    "                          kernel_regularizer = knl_reg ) (x)\n",
    "\n",
    "x = tf.keras.layers.BatchNormalization()(x)\n",
    "x = tf.keras.layers.Dropout(dor1)(x)\n",
    "\n",
    "output_layer = tf.keras.layers.Dense(2) (x)\n",
    "\n",
    "model = tf.keras.Model(inputs= input_layer, outputs = output_layer)\n",
    "\n",
    "model.summary()"
   ]
  },
  {
   "cell_type": "code",
   "execution_count": 328,
   "metadata": {},
   "outputs": [],
   "source": [
    "loss_function = tf.losses.CategoricalCrossentropy(from_logits=True)"
   ]
  },
  {
   "cell_type": "code",
   "execution_count": 329,
   "metadata": {},
   "outputs": [
    {
     "data": {
      "text/plain": [
       "(1, 34)"
      ]
     },
     "execution_count": 329,
     "metadata": {},
     "output_type": "execute_result"
    }
   ],
   "source": [
    "X_train[:1].shape"
   ]
  },
  {
   "cell_type": "code",
   "execution_count": 330,
   "metadata": {},
   "outputs": [
    {
     "data": {
      "text/plain": [
       "<tf.Tensor: shape=(1, 2), dtype=float32, numpy=array([[-0.2968693 , -0.26043642]], dtype=float32)>"
      ]
     },
     "execution_count": 330,
     "metadata": {},
     "output_type": "execute_result"
    }
   ],
   "source": [
    "predict = model(X_train[:1])\n",
    "predict"
   ]
  },
  {
   "cell_type": "code",
   "execution_count": 331,
   "metadata": {},
   "outputs": [
    {
     "data": {
      "text/plain": [
       "-0.5573057"
      ]
     },
     "execution_count": 331,
     "metadata": {},
     "output_type": "execute_result"
    }
   ],
   "source": [
    "predict.numpy().sum()"
   ]
  },
  {
   "cell_type": "code",
   "execution_count": 332,
   "metadata": {},
   "outputs": [
    {
     "data": {
      "text/plain": [
       "1.0"
      ]
     },
     "execution_count": 332,
     "metadata": {},
     "output_type": "execute_result"
    }
   ],
   "source": [
    "tf.nn.softmax(predict).numpy().sum()"
   ]
  },
  {
   "cell_type": "code",
   "execution_count": 333,
   "metadata": {
    "colab": {
     "base_uri": "https://localhost:8080/",
     "height": 613
    },
    "id": "oa8WtTI202pn",
    "outputId": "3f0ca548-7715-47c7-b4fd-fac7924bc060"
   },
   "outputs": [],
   "source": [
    "model.compile(optimizer='adam', \n",
    "              loss=loss_function,\n",
    "              metrics=['accuracy'])"
   ]
  },
  {
   "cell_type": "code",
   "execution_count": 334,
   "metadata": {},
   "outputs": [
    {
     "name": "stdout",
     "output_type": "stream",
     "text": [
      "Epoch 1/101\n",
      "8/8 - 2s - loss: 0.9002 - accuracy: 0.6094 - val_loss: 0.7842 - val_accuracy: 0.7053 - 2s/epoch - 242ms/step\n",
      "Epoch 2/101\n",
      "8/8 - 0s - loss: 0.8085 - accuracy: 0.6562 - val_loss: 0.7325 - val_accuracy: 0.7158 - 135ms/epoch - 17ms/step\n",
      "Epoch 3/101\n",
      "8/8 - 0s - loss: 0.7417 - accuracy: 0.6641 - val_loss: 0.6863 - val_accuracy: 0.7263 - 173ms/epoch - 22ms/step\n",
      "Epoch 4/101\n",
      "8/8 - 0s - loss: 0.7261 - accuracy: 0.6914 - val_loss: 0.6443 - val_accuracy: 0.7474 - 156ms/epoch - 20ms/step\n",
      "Epoch 5/101\n",
      "8/8 - 0s - loss: 0.6574 - accuracy: 0.7148 - val_loss: 0.6035 - val_accuracy: 0.7474 - 162ms/epoch - 20ms/step\n",
      "Epoch 6/101\n",
      "8/8 - 0s - loss: 0.6524 - accuracy: 0.6719 - val_loss: 0.5670 - val_accuracy: 0.8000 - 154ms/epoch - 19ms/step\n",
      "Epoch 7/101\n",
      "8/8 - 0s - loss: 0.5458 - accuracy: 0.7969 - val_loss: 0.5332 - val_accuracy: 0.8421 - 138ms/epoch - 17ms/step\n",
      "Epoch 8/101\n",
      "8/8 - 0s - loss: 0.4951 - accuracy: 0.7852 - val_loss: 0.5033 - val_accuracy: 0.8526 - 142ms/epoch - 18ms/step\n",
      "Epoch 9/101\n",
      "8/8 - 0s - loss: 0.5022 - accuracy: 0.7930 - val_loss: 0.4774 - val_accuracy: 0.8632 - 140ms/epoch - 17ms/step\n",
      "Epoch 10/101\n",
      "8/8 - 0s - loss: 0.4361 - accuracy: 0.8398 - val_loss: 0.4546 - val_accuracy: 0.8947 - 133ms/epoch - 17ms/step\n",
      "Epoch 11/101\n",
      "8/8 - 0s - loss: 0.4412 - accuracy: 0.8281 - val_loss: 0.4349 - val_accuracy: 0.8947 - 101ms/epoch - 13ms/step\n",
      "Epoch 12/101\n",
      "8/8 - 0s - loss: 0.4333 - accuracy: 0.8516 - val_loss: 0.4172 - val_accuracy: 0.8947 - 132ms/epoch - 16ms/step\n",
      "Epoch 13/101\n",
      "8/8 - 0s - loss: 0.4358 - accuracy: 0.8125 - val_loss: 0.4016 - val_accuracy: 0.8947 - 124ms/epoch - 15ms/step\n",
      "Epoch 14/101\n",
      "8/8 - 0s - loss: 0.3996 - accuracy: 0.8633 - val_loss: 0.3878 - val_accuracy: 0.8947 - 112ms/epoch - 14ms/step\n",
      "Epoch 15/101\n",
      "8/8 - 0s - loss: 0.4050 - accuracy: 0.8477 - val_loss: 0.3740 - val_accuracy: 0.9053 - 133ms/epoch - 17ms/step\n",
      "Epoch 16/101\n",
      "8/8 - 0s - loss: 0.4071 - accuracy: 0.8438 - val_loss: 0.3617 - val_accuracy: 0.9158 - 122ms/epoch - 15ms/step\n",
      "Epoch 17/101\n",
      "8/8 - 0s - loss: 0.3823 - accuracy: 0.8633 - val_loss: 0.3489 - val_accuracy: 0.9158 - 128ms/epoch - 16ms/step\n",
      "Epoch 18/101\n",
      "8/8 - 0s - loss: 0.3604 - accuracy: 0.8633 - val_loss: 0.3376 - val_accuracy: 0.9158 - 99ms/epoch - 12ms/step\n",
      "Epoch 19/101\n",
      "8/8 - 0s - loss: 0.3607 - accuracy: 0.8672 - val_loss: 0.3272 - val_accuracy: 0.9158 - 96ms/epoch - 12ms/step\n",
      "Epoch 20/101\n",
      "8/8 - 0s - loss: 0.3287 - accuracy: 0.8945 - val_loss: 0.3186 - val_accuracy: 0.9158 - 141ms/epoch - 18ms/step\n",
      "Epoch 21/101\n",
      "8/8 - 0s - loss: 0.3381 - accuracy: 0.8906 - val_loss: 0.3102 - val_accuracy: 0.9158 - 144ms/epoch - 18ms/step\n",
      "Epoch 22/101\n",
      "8/8 - 0s - loss: 0.3470 - accuracy: 0.8633 - val_loss: 0.3030 - val_accuracy: 0.9263 - 126ms/epoch - 16ms/step\n",
      "Epoch 23/101\n",
      "8/8 - 0s - loss: 0.3638 - accuracy: 0.8516 - val_loss: 0.2966 - val_accuracy: 0.9263 - 120ms/epoch - 15ms/step\n",
      "Epoch 24/101\n",
      "8/8 - 0s - loss: 0.3227 - accuracy: 0.8906 - val_loss: 0.2897 - val_accuracy: 0.9263 - 135ms/epoch - 17ms/step\n",
      "Epoch 25/101\n",
      "8/8 - 0s - loss: 0.3187 - accuracy: 0.8945 - val_loss: 0.2830 - val_accuracy: 0.9263 - 107ms/epoch - 13ms/step\n",
      "Epoch 26/101\n",
      "8/8 - 0s - loss: 0.3202 - accuracy: 0.8906 - val_loss: 0.2764 - val_accuracy: 0.9368 - 101ms/epoch - 13ms/step\n",
      "Epoch 27/101\n",
      "8/8 - 0s - loss: 0.3108 - accuracy: 0.8945 - val_loss: 0.2695 - val_accuracy: 0.9368 - 119ms/epoch - 15ms/step\n",
      "Epoch 28/101\n",
      "8/8 - 0s - loss: 0.3150 - accuracy: 0.8672 - val_loss: 0.2629 - val_accuracy: 0.9368 - 133ms/epoch - 17ms/step\n",
      "Epoch 29/101\n",
      "8/8 - 0s - loss: 0.3135 - accuracy: 0.8750 - val_loss: 0.2577 - val_accuracy: 0.9368 - 128ms/epoch - 16ms/step\n",
      "Epoch 30/101\n",
      "8/8 - 0s - loss: 0.2981 - accuracy: 0.8984 - val_loss: 0.2535 - val_accuracy: 0.9368 - 138ms/epoch - 17ms/step\n",
      "Epoch 31/101\n",
      "8/8 - 0s - loss: 0.2768 - accuracy: 0.9062 - val_loss: 0.2492 - val_accuracy: 0.9368 - 140ms/epoch - 18ms/step\n",
      "Epoch 32/101\n",
      "8/8 - 0s - loss: 0.3101 - accuracy: 0.8750 - val_loss: 0.2457 - val_accuracy: 0.9368 - 158ms/epoch - 20ms/step\n",
      "Epoch 33/101\n",
      "8/8 - 0s - loss: 0.2773 - accuracy: 0.9258 - val_loss: 0.2420 - val_accuracy: 0.9368 - 119ms/epoch - 15ms/step\n",
      "Epoch 34/101\n",
      "8/8 - 0s - loss: 0.2567 - accuracy: 0.9141 - val_loss: 0.2387 - val_accuracy: 0.9368 - 114ms/epoch - 14ms/step\n",
      "Epoch 35/101\n",
      "8/8 - 0s - loss: 0.2602 - accuracy: 0.9141 - val_loss: 0.2348 - val_accuracy: 0.9368 - 97ms/epoch - 12ms/step\n",
      "Epoch 36/101\n",
      "8/8 - 0s - loss: 0.2345 - accuracy: 0.9414 - val_loss: 0.2311 - val_accuracy: 0.9368 - 116ms/epoch - 14ms/step\n",
      "Epoch 37/101\n",
      "8/8 - 0s - loss: 0.2790 - accuracy: 0.9141 - val_loss: 0.2269 - val_accuracy: 0.9368 - 119ms/epoch - 15ms/step\n",
      "Epoch 38/101\n",
      "8/8 - 0s - loss: 0.2251 - accuracy: 0.9453 - val_loss: 0.2235 - val_accuracy: 0.9368 - 123ms/epoch - 15ms/step\n",
      "Epoch 39/101\n",
      "8/8 - 0s - loss: 0.2650 - accuracy: 0.8984 - val_loss: 0.2206 - val_accuracy: 0.9368 - 100ms/epoch - 13ms/step\n",
      "Epoch 40/101\n",
      "8/8 - 0s - loss: 0.2696 - accuracy: 0.9102 - val_loss: 0.2186 - val_accuracy: 0.9368 - 104ms/epoch - 13ms/step\n",
      "Epoch 41/101\n",
      "8/8 - 0s - loss: 0.2613 - accuracy: 0.9180 - val_loss: 0.2162 - val_accuracy: 0.9368 - 90ms/epoch - 11ms/step\n",
      "Epoch 42/101\n",
      "8/8 - 0s - loss: 0.2295 - accuracy: 0.9297 - val_loss: 0.2141 - val_accuracy: 0.9368 - 98ms/epoch - 12ms/step\n",
      "Epoch 43/101\n",
      "8/8 - 0s - loss: 0.2428 - accuracy: 0.9180 - val_loss: 0.2116 - val_accuracy: 0.9368 - 108ms/epoch - 14ms/step\n",
      "Epoch 44/101\n",
      "8/8 - 0s - loss: 0.2642 - accuracy: 0.9180 - val_loss: 0.2090 - val_accuracy: 0.9368 - 118ms/epoch - 15ms/step\n",
      "Epoch 45/101\n",
      "8/8 - 0s - loss: 0.2192 - accuracy: 0.9258 - val_loss: 0.2071 - val_accuracy: 0.9368 - 132ms/epoch - 17ms/step\n",
      "Epoch 46/101\n",
      "8/8 - 0s - loss: 0.2361 - accuracy: 0.9297 - val_loss: 0.2063 - val_accuracy: 0.9368 - 106ms/epoch - 13ms/step\n",
      "Epoch 47/101\n",
      "8/8 - 0s - loss: 0.2236 - accuracy: 0.9414 - val_loss: 0.2051 - val_accuracy: 0.9368 - 105ms/epoch - 13ms/step\n",
      "Epoch 48/101\n",
      "8/8 - 0s - loss: 0.2282 - accuracy: 0.9297 - val_loss: 0.2040 - val_accuracy: 0.9368 - 108ms/epoch - 13ms/step\n",
      "Epoch 49/101\n",
      "8/8 - 0s - loss: 0.2280 - accuracy: 0.9297 - val_loss: 0.2044 - val_accuracy: 0.9368 - 127ms/epoch - 16ms/step\n",
      "Epoch 50/101\n",
      "8/8 - 0s - loss: 0.2293 - accuracy: 0.9219 - val_loss: 0.2031 - val_accuracy: 0.9368 - 118ms/epoch - 15ms/step\n",
      "Epoch 51/101\n",
      "8/8 - 0s - loss: 0.2051 - accuracy: 0.9414 - val_loss: 0.2001 - val_accuracy: 0.9368 - 111ms/epoch - 14ms/step\n",
      "Epoch 52/101\n",
      "8/8 - 0s - loss: 0.1819 - accuracy: 0.9688 - val_loss: 0.1978 - val_accuracy: 0.9368 - 113ms/epoch - 14ms/step\n",
      "Epoch 53/101\n",
      "8/8 - 0s - loss: 0.2032 - accuracy: 0.9258 - val_loss: 0.1961 - val_accuracy: 0.9368 - 105ms/epoch - 13ms/step\n",
      "Epoch 54/101\n",
      "8/8 - 0s - loss: 0.1897 - accuracy: 0.9609 - val_loss: 0.1949 - val_accuracy: 0.9368 - 97ms/epoch - 12ms/step\n",
      "Epoch 55/101\n",
      "8/8 - 0s - loss: 0.2273 - accuracy: 0.9336 - val_loss: 0.1925 - val_accuracy: 0.9368 - 103ms/epoch - 13ms/step\n",
      "Epoch 56/101\n",
      "8/8 - 0s - loss: 0.1832 - accuracy: 0.9570 - val_loss: 0.1903 - val_accuracy: 0.9474 - 106ms/epoch - 13ms/step\n",
      "Epoch 57/101\n",
      "8/8 - 0s - loss: 0.2081 - accuracy: 0.9258 - val_loss: 0.1878 - val_accuracy: 0.9368 - 101ms/epoch - 13ms/step\n",
      "Epoch 58/101\n",
      "8/8 - 0s - loss: 0.1834 - accuracy: 0.9453 - val_loss: 0.1860 - val_accuracy: 0.9368 - 90ms/epoch - 11ms/step\n",
      "Epoch 59/101\n",
      "8/8 - 0s - loss: 0.2307 - accuracy: 0.9336 - val_loss: 0.1854 - val_accuracy: 0.9474 - 102ms/epoch - 13ms/step\n",
      "Epoch 60/101\n",
      "8/8 - 0s - loss: 0.1725 - accuracy: 0.9570 - val_loss: 0.1836 - val_accuracy: 0.9474 - 113ms/epoch - 14ms/step\n",
      "Epoch 61/101\n",
      "8/8 - 0s - loss: 0.2032 - accuracy: 0.9258 - val_loss: 0.1817 - val_accuracy: 0.9474 - 96ms/epoch - 12ms/step\n",
      "Epoch 62/101\n",
      "8/8 - 0s - loss: 0.1993 - accuracy: 0.9609 - val_loss: 0.1811 - val_accuracy: 0.9474 - 125ms/epoch - 16ms/step\n",
      "Epoch 63/101\n",
      "8/8 - 0s - loss: 0.1709 - accuracy: 0.9414 - val_loss: 0.1796 - val_accuracy: 0.9474 - 90ms/epoch - 11ms/step\n",
      "Epoch 64/101\n",
      "8/8 - 0s - loss: 0.2150 - accuracy: 0.9297 - val_loss: 0.1769 - val_accuracy: 0.9474 - 93ms/epoch - 12ms/step\n",
      "Epoch 65/101\n",
      "8/8 - 0s - loss: 0.1688 - accuracy: 0.9570 - val_loss: 0.1767 - val_accuracy: 0.9474 - 114ms/epoch - 14ms/step\n",
      "Epoch 66/101\n",
      "8/8 - 0s - loss: 0.1719 - accuracy: 0.9570 - val_loss: 0.1769 - val_accuracy: 0.9474 - 121ms/epoch - 15ms/step\n",
      "Epoch 67/101\n",
      "8/8 - 0s - loss: 0.1566 - accuracy: 0.9570 - val_loss: 0.1770 - val_accuracy: 0.9579 - 134ms/epoch - 17ms/step\n",
      "Epoch 68/101\n",
      "8/8 - 0s - loss: 0.1807 - accuracy: 0.9453 - val_loss: 0.1745 - val_accuracy: 0.9579 - 144ms/epoch - 18ms/step\n",
      "Epoch 69/101\n",
      "8/8 - 0s - loss: 0.1497 - accuracy: 0.9648 - val_loss: 0.1709 - val_accuracy: 0.9684 - 115ms/epoch - 14ms/step\n",
      "Epoch 70/101\n",
      "8/8 - 0s - loss: 0.1534 - accuracy: 0.9648 - val_loss: 0.1694 - val_accuracy: 0.9684 - 107ms/epoch - 13ms/step\n",
      "Epoch 71/101\n",
      "8/8 - 0s - loss: 0.1758 - accuracy: 0.9453 - val_loss: 0.1680 - val_accuracy: 0.9684 - 128ms/epoch - 16ms/step\n",
      "Epoch 72/101\n",
      "8/8 - 0s - loss: 0.1650 - accuracy: 0.9531 - val_loss: 0.1668 - val_accuracy: 0.9579 - 118ms/epoch - 15ms/step\n",
      "Epoch 73/101\n",
      "8/8 - 0s - loss: 0.1406 - accuracy: 0.9727 - val_loss: 0.1674 - val_accuracy: 0.9579 - 127ms/epoch - 16ms/step\n",
      "Epoch 74/101\n",
      "8/8 - 0s - loss: 0.1772 - accuracy: 0.9453 - val_loss: 0.1680 - val_accuracy: 0.9579 - 125ms/epoch - 16ms/step\n",
      "Epoch 75/101\n",
      "8/8 - 0s - loss: 0.1725 - accuracy: 0.9531 - val_loss: 0.1654 - val_accuracy: 0.9579 - 131ms/epoch - 16ms/step\n",
      "Epoch 76/101\n",
      "8/8 - 0s - loss: 0.1454 - accuracy: 0.9648 - val_loss: 0.1627 - val_accuracy: 0.9579 - 134ms/epoch - 17ms/step\n",
      "Epoch 77/101\n",
      "8/8 - 0s - loss: 0.1640 - accuracy: 0.9492 - val_loss: 0.1621 - val_accuracy: 0.9579 - 138ms/epoch - 17ms/step\n",
      "Epoch 78/101\n",
      "8/8 - 0s - loss: 0.1812 - accuracy: 0.9453 - val_loss: 0.1639 - val_accuracy: 0.9579 - 122ms/epoch - 15ms/step\n",
      "Epoch 79/101\n",
      "8/8 - 0s - loss: 0.1652 - accuracy: 0.9453 - val_loss: 0.1636 - val_accuracy: 0.9579 - 100ms/epoch - 13ms/step\n",
      "Epoch 80/101\n",
      "8/8 - 0s - loss: 0.1594 - accuracy: 0.9609 - val_loss: 0.1639 - val_accuracy: 0.9579 - 105ms/epoch - 13ms/step\n",
      "Epoch 81/101\n",
      "8/8 - 0s - loss: 0.1395 - accuracy: 0.9609 - val_loss: 0.1633 - val_accuracy: 0.9579 - 100ms/epoch - 13ms/step\n",
      "Epoch 82/101\n",
      "8/8 - 0s - loss: 0.1493 - accuracy: 0.9727 - val_loss: 0.1619 - val_accuracy: 0.9579 - 97ms/epoch - 12ms/step\n",
      "Epoch 83/101\n",
      "8/8 - 0s - loss: 0.1749 - accuracy: 0.9492 - val_loss: 0.1605 - val_accuracy: 0.9684 - 89ms/epoch - 11ms/step\n",
      "Epoch 84/101\n",
      "8/8 - 0s - loss: 0.1703 - accuracy: 0.9609 - val_loss: 0.1591 - val_accuracy: 0.9684 - 104ms/epoch - 13ms/step\n",
      "Epoch 85/101\n",
      "8/8 - 0s - loss: 0.1437 - accuracy: 0.9688 - val_loss: 0.1603 - val_accuracy: 0.9684 - 89ms/epoch - 11ms/step\n",
      "Epoch 86/101\n",
      "8/8 - 0s - loss: 0.1415 - accuracy: 0.9688 - val_loss: 0.1617 - val_accuracy: 0.9684 - 102ms/epoch - 13ms/step\n",
      "Epoch 87/101\n",
      "8/8 - 0s - loss: 0.1517 - accuracy: 0.9609 - val_loss: 0.1591 - val_accuracy: 0.9579 - 102ms/epoch - 13ms/step\n",
      "Epoch 88/101\n",
      "8/8 - 0s - loss: 0.1239 - accuracy: 0.9609 - val_loss: 0.1578 - val_accuracy: 0.9579 - 108ms/epoch - 14ms/step\n",
      "Epoch 89/101\n",
      "8/8 - 0s - loss: 0.1482 - accuracy: 0.9688 - val_loss: 0.1578 - val_accuracy: 0.9579 - 133ms/epoch - 17ms/step\n",
      "Epoch 90/101\n",
      "8/8 - 0s - loss: 0.1289 - accuracy: 0.9688 - val_loss: 0.1602 - val_accuracy: 0.9684 - 105ms/epoch - 13ms/step\n",
      "Epoch 91/101\n",
      "8/8 - 0s - loss: 0.1386 - accuracy: 0.9727 - val_loss: 0.1598 - val_accuracy: 0.9579 - 116ms/epoch - 14ms/step\n",
      "Epoch 92/101\n",
      "8/8 - 0s - loss: 0.1352 - accuracy: 0.9688 - val_loss: 0.1572 - val_accuracy: 0.9579 - 122ms/epoch - 15ms/step\n",
      "Epoch 93/101\n",
      "8/8 - 0s - loss: 0.1409 - accuracy: 0.9492 - val_loss: 0.1560 - val_accuracy: 0.9579 - 143ms/epoch - 18ms/step\n",
      "Epoch 94/101\n",
      "8/8 - 0s - loss: 0.1517 - accuracy: 0.9688 - val_loss: 0.1543 - val_accuracy: 0.9579 - 116ms/epoch - 15ms/step\n",
      "Epoch 95/101\n",
      "8/8 - 0s - loss: 0.1338 - accuracy: 0.9727 - val_loss: 0.1548 - val_accuracy: 0.9579 - 98ms/epoch - 12ms/step\n",
      "Epoch 96/101\n",
      "8/8 - 0s - loss: 0.1599 - accuracy: 0.9453 - val_loss: 0.1575 - val_accuracy: 0.9579 - 114ms/epoch - 14ms/step\n",
      "Epoch 97/101\n",
      "8/8 - 0s - loss: 0.1420 - accuracy: 0.9492 - val_loss: 0.1550 - val_accuracy: 0.9579 - 139ms/epoch - 17ms/step\n",
      "Epoch 98/101\n",
      "8/8 - 0s - loss: 0.1488 - accuracy: 0.9766 - val_loss: 0.1518 - val_accuracy: 0.9579 - 126ms/epoch - 16ms/step\n",
      "Epoch 99/101\n",
      "8/8 - 0s - loss: 0.1476 - accuracy: 0.9570 - val_loss: 0.1528 - val_accuracy: 0.9579 - 113ms/epoch - 14ms/step\n",
      "Epoch 100/101\n",
      "8/8 - 0s - loss: 0.1303 - accuracy: 0.9648 - val_loss: 0.1569 - val_accuracy: 0.9579 - 118ms/epoch - 15ms/step\n",
      "Epoch 101/101\n",
      "8/8 - 0s - loss: 0.1313 - accuracy: 0.9688 - val_loss: 0.1570 - val_accuracy: 0.9579 - 147ms/epoch - 18ms/step\n"
     ]
    }
   ],
   "source": [
    "history = model.fit(X_train, y_train, \n",
    "                    validation_data=[X_test, y_test],\n",
    "                    epochs=EPOCHS,\n",
    "                    verbose=2,\n",
    "                    batch_size=BATCH_SIZE\n",
    "                    )"
   ]
  },
  {
   "cell_type": "code",
   "execution_count": 335,
   "metadata": {},
   "outputs": [],
   "source": [
    "loss_df = pd.DataFrame(history.history)"
   ]
  },
  {
   "cell_type": "code",
   "execution_count": 336,
   "metadata": {},
   "outputs": [
    {
     "data": {
      "text/html": [
       "<div>\n",
       "<style scoped>\n",
       "    .dataframe tbody tr th:only-of-type {\n",
       "        vertical-align: middle;\n",
       "    }\n",
       "\n",
       "    .dataframe tbody tr th {\n",
       "        vertical-align: top;\n",
       "    }\n",
       "\n",
       "    .dataframe thead th {\n",
       "        text-align: right;\n",
       "    }\n",
       "</style>\n",
       "<table border=\"1\" class=\"dataframe\">\n",
       "  <thead>\n",
       "    <tr style=\"text-align: right;\">\n",
       "      <th></th>\n",
       "      <th>loss</th>\n",
       "      <th>accuracy</th>\n",
       "      <th>val_loss</th>\n",
       "      <th>val_accuracy</th>\n",
       "    </tr>\n",
       "  </thead>\n",
       "  <tbody>\n",
       "    <tr>\n",
       "      <th>0</th>\n",
       "      <td>0.900191</td>\n",
       "      <td>0.609375</td>\n",
       "      <td>0.784174</td>\n",
       "      <td>0.705263</td>\n",
       "    </tr>\n",
       "    <tr>\n",
       "      <th>1</th>\n",
       "      <td>0.808533</td>\n",
       "      <td>0.656250</td>\n",
       "      <td>0.732513</td>\n",
       "      <td>0.715789</td>\n",
       "    </tr>\n",
       "    <tr>\n",
       "      <th>2</th>\n",
       "      <td>0.741733</td>\n",
       "      <td>0.664062</td>\n",
       "      <td>0.686332</td>\n",
       "      <td>0.726316</td>\n",
       "    </tr>\n",
       "    <tr>\n",
       "      <th>3</th>\n",
       "      <td>0.726117</td>\n",
       "      <td>0.691406</td>\n",
       "      <td>0.644290</td>\n",
       "      <td>0.747368</td>\n",
       "    </tr>\n",
       "    <tr>\n",
       "      <th>4</th>\n",
       "      <td>0.657389</td>\n",
       "      <td>0.714844</td>\n",
       "      <td>0.603491</td>\n",
       "      <td>0.747368</td>\n",
       "    </tr>\n",
       "  </tbody>\n",
       "</table>\n",
       "</div>"
      ],
      "text/plain": [
       "       loss  accuracy  val_loss  val_accuracy\n",
       "0  0.900191  0.609375  0.784174      0.705263\n",
       "1  0.808533  0.656250  0.732513      0.715789\n",
       "2  0.741733  0.664062  0.686332      0.726316\n",
       "3  0.726117  0.691406  0.644290      0.747368\n",
       "4  0.657389  0.714844  0.603491      0.747368"
      ]
     },
     "execution_count": 336,
     "metadata": {},
     "output_type": "execute_result"
    }
   ],
   "source": [
    "loss_df.head()"
   ]
  },
  {
   "cell_type": "code",
   "execution_count": 337,
   "metadata": {},
   "outputs": [
    {
     "data": {
      "image/png": "[encoded data removed]",
      "text/plain": [
       "<Figure size 1500x800 with 1 Axes>"
      ]
     },
     "metadata": {},
     "output_type": "display_data"
    }
   ],
   "source": [
    "loss_df.plot(y = ['loss', 'val_loss']);"
   ]
  },
  {
   "cell_type": "code",
   "execution_count": 338,
   "metadata": {},
   "outputs": [
    {
     "data": {
      "image/png": "[encoded data removed]",
      "text/plain": [
       "<Figure size 1500x800 with 1 Axes>"
      ]
     },
     "metadata": {},
     "output_type": "display_data"
    }
   ],
   "source": [
    "loss_df.plot(y = ['accuracy', 'val_accuracy']);"
   ]
  },
  {
   "cell_type": "code",
   "execution_count": 339,
   "metadata": {},
   "outputs": [
    {
     "name": "stdout",
     "output_type": "stream",
     "text": [
      "8/8 [==============================] - 0s 5ms/step - loss: 0.0823 - accuracy: 0.9883\n"
     ]
    },
    {
     "data": {
      "text/plain": [
       "[0.08228813111782074, 0.98828125]"
      ]
     },
     "execution_count": 339,
     "metadata": {},
     "output_type": "execute_result"
    }
   ],
   "source": [
    "model.evaluate(X_train, y_train)"
   ]
  },
  {
   "cell_type": "code",
   "execution_count": 340,
   "metadata": {},
   "outputs": [
    {
     "name": "stdout",
     "output_type": "stream",
     "text": [
      "3/3 [==============================] - 0s 33ms/step - loss: 0.1570 - accuracy: 0.9579\n"
     ]
    },
    {
     "data": {
      "text/plain": [
       "[0.15698421001434326, 0.9578947424888611]"
      ]
     },
     "execution_count": 340,
     "metadata": {},
     "output_type": "execute_result"
    }
   ],
   "source": [
    "model.evaluate(X_test, y_test)"
   ]
  },
  {
   "cell_type": "code",
   "execution_count": 341,
   "metadata": {},
   "outputs": [
    {
     "name": "stdout",
     "output_type": "stream",
     "text": [
      "8/8 [==============================] - 0s 11ms/step\n"
     ]
    }
   ],
   "source": [
    "y_pred = model.predict(X_train)"
   ]
  },
  {
   "cell_type": "code",
   "execution_count": 342,
   "metadata": {},
   "outputs": [
    {
     "data": {
      "text/plain": [
       "(256,)"
      ]
     },
     "execution_count": 342,
     "metadata": {},
     "output_type": "execute_result"
    }
   ],
   "source": [
    "np.argmax(y_pred, axis = 1).shape"
   ]
  },
  {
   "cell_type": "code",
   "execution_count": 343,
   "metadata": {},
   "outputs": [
    {
     "data": {
      "text/plain": [
       "(256, 2)"
      ]
     },
     "execution_count": 343,
     "metadata": {},
     "output_type": "execute_result"
    }
   ],
   "source": [
    "y_train.shape"
   ]
  },
  {
   "cell_type": "code",
   "execution_count": 344,
   "metadata": {},
   "outputs": [
    {
     "data": {
      "text/plain": [
       "0.98828125"
      ]
     },
     "execution_count": 344,
     "metadata": {},
     "output_type": "execute_result"
    }
   ],
   "source": [
    "accuracy_score (np.argmax(y_pred, axis = 1), np.argmax(y_train, axis = 1))"
   ]
  },
  {
   "cell_type": "code",
   "execution_count": 345,
   "metadata": {},
   "outputs": [
    {
     "name": "stdout",
     "output_type": "stream",
     "text": [
      "3/3 [==============================] - 0s 18ms/step\n"
     ]
    },
    {
     "data": {
      "text/plain": [
       "0.9578947368421052"
      ]
     },
     "execution_count": 345,
     "metadata": {},
     "output_type": "execute_result"
    }
   ],
   "source": [
    "y_pred = model.predict(X_test)\n",
    "accuracy_score (np.argmax(y_pred, axis = 1), np.argmax(y_test, axis = 1))"
   ]
  },
  {
   "cell_type": "code",
   "execution_count": 346,
   "metadata": {},
   "outputs": [
    {
     "name": "stdout",
     "output_type": "stream",
     "text": [
      "Model: \"model_7\"\n",
      "_________________________________________________________________\n",
      " Layer (type)                Output Shape              Param #   \n",
      "=================================================================\n",
      " input_8 (InputLayer)        [(None, 34)]              0         \n",
      "                                                                 \n",
      " dense_21 (Dense)            (None, 18)                630       \n",
      "                                                                 \n",
      " batch_normalization_3 (Batc  (None, 18)               72        \n",
      " hNormalization)                                                 \n",
      "                                                                 \n",
      " dropout_7 (Dropout)         (None, 18)                0         \n",
      "                                                                 \n",
      " dense_22 (Dense)            (None, 9)                 171       \n",
      "                                                                 \n",
      " batch_normalization_4 (Batc  (None, 9)                36        \n",
      " hNormalization)                                                 \n",
      "                                                                 \n",
      " dropout_8 (Dropout)         (None, 9)                 0         \n",
      "                                                                 \n",
      " dense_23 (Dense)            (None, 2)                 20        \n",
      "                                                                 \n",
      "=================================================================\n",
      "Total params: 929\n",
      "Trainable params: 875\n",
      "Non-trainable params: 54\n",
      "_________________________________________________________________\n"
     ]
    }
   ],
   "source": [
    "model.summary()"
   ]
  },
  {
   "cell_type": "code",
   "execution_count": 347,
   "metadata": {},
   "outputs": [
    {
     "data": {
      "image/png": "[encoded data removed]",
      "text/plain": [
       "<Figure size 1500x600 with 2 Axes>"
      ]
     },
     "metadata": {},
     "output_type": "display_data"
    }
   ],
   "source": [
    "fig, axes = plt.subplots(1,2 , figsize = (15,6))\n",
    "\n",
    "l_range = 50\n",
    "\n",
    "ax = axes[0]\n",
    "y1 = loss_df.columns[0]\n",
    "y2 = loss_df.columns[2]\n",
    "\n",
    "loss_df.plot( y = [y1, y2], ax = ax)\n",
    "\n",
    "# little beautification\n",
    "txtstr = \"Errors: \\n  Start : {:7.4f}\\n   End : {:7.4f}\".format(loss_df.iloc[0][y1],\n",
    "                                                                loss_df.iloc[-1][y2]) #text to plot\n",
    "\n",
    "# properties  matplotlib.patch.Patch \n",
    "props = dict(boxstyle='round', facecolor='aqua', alpha=0.5)\n",
    "\n",
    "# place a text box in upper left in axes coords\n",
    "\n",
    "ax.text(0.6, 0.95, txtstr, transform=ax.transAxes, fontsize=14,\n",
    "        verticalalignment='top', bbox=props)\n",
    "\n",
    "ax.set_xlabel(\"Epochs\")\n",
    "ax.set_ylabel(\"Error\")\n",
    "ax.set_title('Overall')\n",
    "ax.grid();\n",
    "\n",
    "ax = axes[1]\n",
    "y1 = loss_df.columns[1]\n",
    "y2 = loss_df.columns[3]\n",
    "loss_df[-l_range:].plot( y = [y1, y2], ax = ax)\n",
    "\n",
    "# little beautification\n",
    "txtstr = \"Errors: \\n  Start : {:7.4f}\\n   End : {:7.4f}\".format(loss_df.iloc[0][y1],\n",
    "                                                                loss_df.iloc[-1][y2]) #text to plot\n",
    "\n",
    "# place a text box in upper left in axes coords\n",
    "\n",
    "ax.text(0.6, 0.95, txtstr, transform=ax.transAxes, fontsize=14,\n",
    "        verticalalignment='top', bbox=props)\n",
    "\n",
    "ax.set_xlabel(\"Epochs\")\n",
    "ax.set_ylabel(\"Metrics\")\n",
    "ax.set_title(y1.capitalize())\n",
    "ax.grid();\n",
    "plt.tight_layout()"
   ]
  },
  {
   "cell_type": "code",
   "execution_count": 348,
   "metadata": {},
   "outputs": [
    {
     "data": {
      "text/html": [
       "<div>\n",
       "<style scoped>\n",
       "    .dataframe tbody tr th:only-of-type {\n",
       "        vertical-align: middle;\n",
       "    }\n",
       "\n",
       "    .dataframe tbody tr th {\n",
       "        vertical-align: top;\n",
       "    }\n",
       "\n",
       "    .dataframe thead th {\n",
       "        text-align: right;\n",
       "    }\n",
       "</style>\n",
       "<table border=\"1\" class=\"dataframe\">\n",
       "  <thead>\n",
       "    <tr style=\"text-align: right;\">\n",
       "      <th></th>\n",
       "      <th>loss</th>\n",
       "      <th>accuracy</th>\n",
       "      <th>val_loss</th>\n",
       "      <th>val_accuracy</th>\n",
       "    </tr>\n",
       "  </thead>\n",
       "  <tbody>\n",
       "    <tr>\n",
       "      <th>97</th>\n",
       "      <td>0.148832</td>\n",
       "      <td>0.976562</td>\n",
       "      <td>0.151774</td>\n",
       "      <td>0.957895</td>\n",
       "    </tr>\n",
       "  </tbody>\n",
       "</table>\n",
       "</div>"
      ],
      "text/plain": [
       "        loss  accuracy  val_loss  val_accuracy\n",
       "97  0.148832  0.976562  0.151774      0.957895"
      ]
     },
     "execution_count": 348,
     "metadata": {},
     "output_type": "execute_result"
    }
   ],
   "source": [
    "loss_df[loss_df['val_loss'] == loss_df['val_loss'].min()]"
   ]
  },
  {
   "cell_type": "code",
   "execution_count": 349,
   "metadata": {},
   "outputs": [],
   "source": [
    "es_check_point = tf.keras.callbacks.EarlyStopping(\n",
    "    monitor='val_loss',\n",
    "    patience=PATIENCE,\n",
    "    verbose=1,\n",
    "    restore_best_weights=True,\n",
    "    start_from_epoch=0,\n",
    ")\n"
   ]
  },
  {
   "cell_type": "code",
   "execution_count": 350,
   "metadata": {},
   "outputs": [
    {
     "name": "stdout",
     "output_type": "stream",
     "text": [
      "Epoch 1/101\n",
      "8/8 - 0s - loss: 0.1238 - accuracy: 0.9688 - val_loss: 0.1540 - val_accuracy: 0.9579 - 307ms/epoch - 38ms/step\n",
      "Epoch 2/101\n",
      "8/8 - 0s - loss: 0.0941 - accuracy: 0.9844 - val_loss: 0.1531 - val_accuracy: 0.9579 - 159ms/epoch - 20ms/step\n",
      "Epoch 3/101\n",
      "8/8 - 0s - loss: 0.1556 - accuracy: 0.9531 - val_loss: 0.1529 - val_accuracy: 0.9579 - 154ms/epoch - 19ms/step\n",
      "Epoch 4/101\n",
      "8/8 - 0s - loss: 0.1391 - accuracy: 0.9531 - val_loss: 0.1516 - val_accuracy: 0.9579 - 291ms/epoch - 36ms/step\n",
      "Epoch 5/101\n",
      "8/8 - 0s - loss: 0.1017 - accuracy: 0.9844 - val_loss: 0.1516 - val_accuracy: 0.9579 - 187ms/epoch - 23ms/step\n",
      "Epoch 6/101\n",
      "8/8 - 0s - loss: 0.1055 - accuracy: 0.9844 - val_loss: 0.1535 - val_accuracy: 0.9579 - 159ms/epoch - 20ms/step\n",
      "Epoch 7/101\n",
      "8/8 - 0s - loss: 0.1415 - accuracy: 0.9609 - val_loss: 0.1570 - val_accuracy: 0.9579 - 111ms/epoch - 14ms/step\n",
      "Epoch 8/101\n",
      "8/8 - 0s - loss: 0.1128 - accuracy: 0.9688 - val_loss: 0.1598 - val_accuracy: 0.9579 - 144ms/epoch - 18ms/step\n",
      "Epoch 9/101\n",
      "8/8 - 0s - loss: 0.1584 - accuracy: 0.9531 - val_loss: 0.1586 - val_accuracy: 0.9579 - 202ms/epoch - 25ms/step\n",
      "Epoch 10/101\n",
      "8/8 - 0s - loss: 0.1145 - accuracy: 0.9766 - val_loss: 0.1554 - val_accuracy: 0.9579 - 180ms/epoch - 23ms/step\n",
      "Epoch 11/101\n",
      "8/8 - 0s - loss: 0.1116 - accuracy: 0.9727 - val_loss: 0.1533 - val_accuracy: 0.9579 - 129ms/epoch - 16ms/step\n",
      "Epoch 12/101\n",
      "8/8 - 0s - loss: 0.1118 - accuracy: 0.9766 - val_loss: 0.1524 - val_accuracy: 0.9579 - 177ms/epoch - 22ms/step\n",
      "Epoch 13/101\n",
      "8/8 - 0s - loss: 0.0951 - accuracy: 0.9766 - val_loss: 0.1510 - val_accuracy: 0.9579 - 150ms/epoch - 19ms/step\n",
      "Epoch 14/101\n",
      "8/8 - 0s - loss: 0.1539 - accuracy: 0.9648 - val_loss: 0.1514 - val_accuracy: 0.9684 - 125ms/epoch - 16ms/step\n",
      "Epoch 15/101\n",
      "8/8 - 0s - loss: 0.0918 - accuracy: 0.9883 - val_loss: 0.1502 - val_accuracy: 0.9684 - 106ms/epoch - 13ms/step\n",
      "Epoch 16/101\n",
      "8/8 - 0s - loss: 0.1163 - accuracy: 0.9570 - val_loss: 0.1474 - val_accuracy: 0.9579 - 149ms/epoch - 19ms/step\n",
      "Epoch 17/101\n",
      "8/8 - 0s - loss: 0.0995 - accuracy: 0.9844 - val_loss: 0.1430 - val_accuracy: 0.9684 - 117ms/epoch - 15ms/step\n",
      "Epoch 18/101\n",
      "8/8 - 0s - loss: 0.1122 - accuracy: 0.9727 - val_loss: 0.1396 - val_accuracy: 0.9684 - 112ms/epoch - 14ms/step\n",
      "Epoch 19/101\n",
      "8/8 - 0s - loss: 0.0911 - accuracy: 0.9727 - val_loss: 0.1376 - val_accuracy: 0.9684 - 149ms/epoch - 19ms/step\n",
      "Epoch 20/101\n",
      "8/8 - 0s - loss: 0.0972 - accuracy: 0.9883 - val_loss: 0.1385 - val_accuracy: 0.9684 - 156ms/epoch - 20ms/step\n",
      "Epoch 21/101\n",
      "8/8 - 0s - loss: 0.0809 - accuracy: 0.9883 - val_loss: 0.1417 - val_accuracy: 0.9684 - 119ms/epoch - 15ms/step\n",
      "Epoch 22/101\n",
      "8/8 - 0s - loss: 0.1040 - accuracy: 0.9688 - val_loss: 0.1407 - val_accuracy: 0.9684 - 118ms/epoch - 15ms/step\n",
      "Epoch 23/101\n",
      "8/8 - 0s - loss: 0.1122 - accuracy: 0.9805 - val_loss: 0.1405 - val_accuracy: 0.9684 - 140ms/epoch - 17ms/step\n",
      "Epoch 24/101\n",
      "8/8 - 0s - loss: 0.1189 - accuracy: 0.9766 - val_loss: 0.1416 - val_accuracy: 0.9684 - 144ms/epoch - 18ms/step\n",
      "Epoch 25/101\n",
      "8/8 - 0s - loss: 0.0924 - accuracy: 0.9844 - val_loss: 0.1414 - val_accuracy: 0.9684 - 160ms/epoch - 20ms/step\n",
      "Epoch 26/101\n",
      "8/8 - 0s - loss: 0.1503 - accuracy: 0.9531 - val_loss: 0.1414 - val_accuracy: 0.9684 - 151ms/epoch - 19ms/step\n",
      "Epoch 27/101\n",
      "8/8 - 0s - loss: 0.0815 - accuracy: 0.9844 - val_loss: 0.1432 - val_accuracy: 0.9684 - 153ms/epoch - 19ms/step\n",
      "Epoch 28/101\n",
      "8/8 - 0s - loss: 0.1112 - accuracy: 0.9688 - val_loss: 0.1434 - val_accuracy: 0.9684 - 141ms/epoch - 18ms/step\n",
      "Epoch 29/101\n",
      "Restoring model weights from the end of the best epoch: 19.\n",
      "8/8 - 0s - loss: 0.0944 - accuracy: 0.9727 - val_loss: 0.1443 - val_accuracy: 0.9684 - 127ms/epoch - 16ms/step\n",
      "Epoch 29: early stopping\n"
     ]
    }
   ],
   "source": [
    "history = model.fit(X_train, y_train, \n",
    "                    validation_data=[X_test, y_test],\n",
    "                    epochs=EPOCHS,\n",
    "                    verbose=2,\n",
    "                    batch_size=BATCH_SIZE,\n",
    "                    callbacks=[ es_check_point ]\n",
    "                    )"
   ]
  },
  {
   "cell_type": "code",
   "execution_count": 351,
   "metadata": {},
   "outputs": [
    {
     "name": "stdout",
     "output_type": "stream",
     "text": [
      "8/8 [==============================] - 0s 10ms/step - loss: 0.0696 - accuracy: 0.9883\n"
     ]
    },
    {
     "data": {
      "text/plain": [
       "[0.06962534040212631, 0.98828125]"
      ]
     },
     "execution_count": 351,
     "metadata": {},
     "output_type": "execute_result"
    }
   ],
   "source": [
    "model.evaluate(X_train, y_train)"
   ]
  },
  {
   "cell_type": "code",
   "execution_count": 352,
   "metadata": {},
   "outputs": [
    {
     "name": "stdout",
     "output_type": "stream",
     "text": [
      "3/3 [==============================] - 0s 11ms/step - loss: 0.1376 - accuracy: 0.9684\n"
     ]
    },
    {
     "data": {
      "text/plain": [
       "[0.13758541643619537, 0.9684210419654846]"
      ]
     },
     "execution_count": 352,
     "metadata": {},
     "output_type": "execute_result"
    }
   ],
   "source": [
    "model.evaluate(X_test, y_test)"
   ]
  }
 ],
 "metadata": {
  "accelerator": "GPU",
  "colab": {
   "name": "S05a_one_hidden_layer_with_tanh_wip.ipynb",
   "provenance": []
  },
  "kernelspec": {
   "display_name": "Python 3 (ipykernel)",
   "language": "python",
   "name": "python3"
  },
  "language_info": {
   "codemirror_mode": {
    "name": "ipython",
    "version": 3
   },
   "file_extension": ".py",
   "mimetype": "text/x-python",
   "name": "python",
   "nbconvert_exporter": "python",
   "pygments_lexer": "ipython3",
   "version": "3.11.5"
  }
 },
 "nbformat": 4,
 "nbformat_minor": 4
}
