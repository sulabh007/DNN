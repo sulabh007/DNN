{
 "cells": [
  {
   "cell_type": "code",
   "execution_count": 785,
   "metadata": {
    "id": "kFZRpLpK02pB"
   },
   "outputs": [],
   "source": [
    "#!/usr/bin/env python\n",
    "# -*- coding: utf-8 -*-"
   ]
  },
  {
   "cell_type": "markdown",
   "metadata": {
    "id": "deSnZmVy02pF"
   },
   "source": [
    "\n",
    "\n",
    "# Deep Neural Networks\n",
    "\n",
    "## Assignment\n",
    "### Neural Network with :\n",
    "\n",
    "- **Ionosphere**\n",
    "- **binary-class**"
   ]
  },
  {
   "cell_type": "code",
   "execution_count": 786,
   "metadata": {
    "id": "rt0pfyeA02pK"
   },
   "outputs": [],
   "source": [
    "###-----------------\n",
    "### Import Libraries\n",
    "###-----------------\n",
    "\n",
    "import os\n",
    "import numpy as np\n",
    "import pandas as pd\n",
    "import matplotlib.pyplot as plt\n",
    "from sklearn import datasets\n",
    "from collections.abc import Callable\n",
    "from typing import Literal\n",
    "from sklearn.model_selection import train_test_split\n",
    "from sklearn.metrics import accuracy_score, confusion_matrix, classification_report, ConfusionMatrixDisplay\n",
    "from sklearn.preprocessing import StandardScaler\n",
    "import tensorflow as tf \n",
    "%matplotlib inline"
   ]
  },
  {
   "cell_type": "code",
   "execution_count": 787,
   "metadata": {},
   "outputs": [],
   "source": [
    "# gpus = tf.config.list_physical_devices('GPU')\n",
    "\n",
    "# try:\n",
    "#     for g in gpus:\n",
    "#         tf.config.experimental.set_memory_growth(g, True)\n",
    "#     logical_gpus = tf.config.list_logical_devices('GPU')\n",
    "#     print (len(gpus), 'Phusical GPUs', len(logical_gpus), 'Logical GPUs')\n",
    "# except:\n",
    "#     print ('invalid device')"
   ]
  },
  {
   "cell_type": "code",
   "execution_count": 788,
   "metadata": {
    "id": "__T9cczP02pL"
   },
   "outputs": [],
   "source": [
    "###----------------\n",
    "### Some parameters\n",
    "###----------------\n",
    "\n",
    "inpDir = '../../input'\n",
    "outDir = '../output'\n",
    "subDir = 'ionosphere'\n",
    "modelDir = '.../models'\n",
    "\n",
    "RANDOM_STATE = 24 # REMEMBER: to remove at the time of promotion to production\n",
    "np.random.seed(RANDOM_STATE) # Set Random Seed for reproducible  results\n",
    "\n",
    "EPOCHS = 101 # number of epochs\n",
    "ALPHA = 0.01 # learning rate\n",
    "TEST_SIZE = 0.2\n",
    "BATCH_SIZE = 32\n",
    "TRAIN_SIZE = 256 # fix size of train set sot that we have batches of same size\n",
    "PATIENCE = 10\n",
    "\n",
    "# parameters for Matplotlib\n",
    "params = {'legend.fontsize': 'x-large',\n",
    "          'figure.figsize': (15, 8),\n",
    "          'axes.labelsize': 'x-large',\n",
    "          'axes.titlesize':'x-large',\n",
    "          'xtick.labelsize':'x-large',\n",
    "          'ytick.labelsize':'x-large'\n",
    "         }\n",
    "\n",
    "CMAP = 'coolwarm' # plt.cm.Spectral\n",
    "\n",
    "plt.rcParams.update(params)"
   ]
  },
  {
   "cell_type": "markdown",
   "metadata": {
    "id": "7bhVN20X02pN"
   },
   "source": [
    "## Generate Data Set\n",
    "Ionosphere Dataset"
   ]
  },
  {
   "cell_type": "code",
   "execution_count": 789,
   "metadata": {
    "id": "LXZ37P4G02pP"
   },
   "outputs": [
    {
     "data": {
      "text/html": [
       "<div>\n",
       "<style scoped>\n",
       "    .dataframe tbody tr th:only-of-type {\n",
       "        vertical-align: middle;\n",
       "    }\n",
       "\n",
       "    .dataframe tbody tr th {\n",
       "        vertical-align: top;\n",
       "    }\n",
       "\n",
       "    .dataframe thead th {\n",
       "        text-align: right;\n",
       "    }\n",
       "</style>\n",
       "<table border=\"1\" class=\"dataframe\">\n",
       "  <thead>\n",
       "    <tr style=\"text-align: right;\">\n",
       "      <th></th>\n",
       "      <th>0</th>\n",
       "      <th>1</th>\n",
       "      <th>2</th>\n",
       "      <th>3</th>\n",
       "      <th>4</th>\n",
       "      <th>5</th>\n",
       "      <th>6</th>\n",
       "      <th>7</th>\n",
       "      <th>8</th>\n",
       "      <th>9</th>\n",
       "      <th>...</th>\n",
       "      <th>25</th>\n",
       "      <th>26</th>\n",
       "      <th>27</th>\n",
       "      <th>28</th>\n",
       "      <th>29</th>\n",
       "      <th>30</th>\n",
       "      <th>31</th>\n",
       "      <th>32</th>\n",
       "      <th>33</th>\n",
       "      <th>34</th>\n",
       "    </tr>\n",
       "  </thead>\n",
       "  <tbody>\n",
       "    <tr>\n",
       "      <th>0</th>\n",
       "      <td>1</td>\n",
       "      <td>0</td>\n",
       "      <td>0.99539</td>\n",
       "      <td>-0.05889</td>\n",
       "      <td>0.85243</td>\n",
       "      <td>0.02306</td>\n",
       "      <td>0.83398</td>\n",
       "      <td>-0.37708</td>\n",
       "      <td>1.00000</td>\n",
       "      <td>0.03760</td>\n",
       "      <td>...</td>\n",
       "      <td>-0.51171</td>\n",
       "      <td>0.41078</td>\n",
       "      <td>-0.46168</td>\n",
       "      <td>0.21266</td>\n",
       "      <td>-0.34090</td>\n",
       "      <td>0.42267</td>\n",
       "      <td>-0.54487</td>\n",
       "      <td>0.18641</td>\n",
       "      <td>-0.45300</td>\n",
       "      <td>g</td>\n",
       "    </tr>\n",
       "    <tr>\n",
       "      <th>1</th>\n",
       "      <td>1</td>\n",
       "      <td>0</td>\n",
       "      <td>1.00000</td>\n",
       "      <td>-0.18829</td>\n",
       "      <td>0.93035</td>\n",
       "      <td>-0.36156</td>\n",
       "      <td>-0.10868</td>\n",
       "      <td>-0.93597</td>\n",
       "      <td>1.00000</td>\n",
       "      <td>-0.04549</td>\n",
       "      <td>...</td>\n",
       "      <td>-0.26569</td>\n",
       "      <td>-0.20468</td>\n",
       "      <td>-0.18401</td>\n",
       "      <td>-0.19040</td>\n",
       "      <td>-0.11593</td>\n",
       "      <td>-0.16626</td>\n",
       "      <td>-0.06288</td>\n",
       "      <td>-0.13738</td>\n",
       "      <td>-0.02447</td>\n",
       "      <td>b</td>\n",
       "    </tr>\n",
       "    <tr>\n",
       "      <th>2</th>\n",
       "      <td>1</td>\n",
       "      <td>0</td>\n",
       "      <td>1.00000</td>\n",
       "      <td>-0.03365</td>\n",
       "      <td>1.00000</td>\n",
       "      <td>0.00485</td>\n",
       "      <td>1.00000</td>\n",
       "      <td>-0.12062</td>\n",
       "      <td>0.88965</td>\n",
       "      <td>0.01198</td>\n",
       "      <td>...</td>\n",
       "      <td>-0.40220</td>\n",
       "      <td>0.58984</td>\n",
       "      <td>-0.22145</td>\n",
       "      <td>0.43100</td>\n",
       "      <td>-0.17365</td>\n",
       "      <td>0.60436</td>\n",
       "      <td>-0.24180</td>\n",
       "      <td>0.56045</td>\n",
       "      <td>-0.38238</td>\n",
       "      <td>g</td>\n",
       "    </tr>\n",
       "    <tr>\n",
       "      <th>3</th>\n",
       "      <td>1</td>\n",
       "      <td>0</td>\n",
       "      <td>1.00000</td>\n",
       "      <td>-0.45161</td>\n",
       "      <td>1.00000</td>\n",
       "      <td>1.00000</td>\n",
       "      <td>0.71216</td>\n",
       "      <td>-1.00000</td>\n",
       "      <td>0.00000</td>\n",
       "      <td>0.00000</td>\n",
       "      <td>...</td>\n",
       "      <td>0.90695</td>\n",
       "      <td>0.51613</td>\n",
       "      <td>1.00000</td>\n",
       "      <td>1.00000</td>\n",
       "      <td>-0.20099</td>\n",
       "      <td>0.25682</td>\n",
       "      <td>1.00000</td>\n",
       "      <td>-0.32382</td>\n",
       "      <td>1.00000</td>\n",
       "      <td>b</td>\n",
       "    </tr>\n",
       "    <tr>\n",
       "      <th>4</th>\n",
       "      <td>1</td>\n",
       "      <td>0</td>\n",
       "      <td>1.00000</td>\n",
       "      <td>-0.02401</td>\n",
       "      <td>0.94140</td>\n",
       "      <td>0.06531</td>\n",
       "      <td>0.92106</td>\n",
       "      <td>-0.23255</td>\n",
       "      <td>0.77152</td>\n",
       "      <td>-0.16399</td>\n",
       "      <td>...</td>\n",
       "      <td>-0.65158</td>\n",
       "      <td>0.13290</td>\n",
       "      <td>-0.53206</td>\n",
       "      <td>0.02431</td>\n",
       "      <td>-0.62197</td>\n",
       "      <td>-0.05707</td>\n",
       "      <td>-0.59573</td>\n",
       "      <td>-0.04608</td>\n",
       "      <td>-0.65697</td>\n",
       "      <td>g</td>\n",
       "    </tr>\n",
       "  </tbody>\n",
       "</table>\n",
       "<p>5 rows × 35 columns</p>\n",
       "</div>"
      ],
      "text/plain": [
       "   0   1        2        3        4        5        6        7        8   \\\n",
       "0   1   0  0.99539 -0.05889  0.85243  0.02306  0.83398 -0.37708  1.00000   \n",
       "1   1   0  1.00000 -0.18829  0.93035 -0.36156 -0.10868 -0.93597  1.00000   \n",
       "2   1   0  1.00000 -0.03365  1.00000  0.00485  1.00000 -0.12062  0.88965   \n",
       "3   1   0  1.00000 -0.45161  1.00000  1.00000  0.71216 -1.00000  0.00000   \n",
       "4   1   0  1.00000 -0.02401  0.94140  0.06531  0.92106 -0.23255  0.77152   \n",
       "\n",
       "        9   ...       25       26       27       28       29       30  \\\n",
       "0  0.03760  ... -0.51171  0.41078 -0.46168  0.21266 -0.34090  0.42267   \n",
       "1 -0.04549  ... -0.26569 -0.20468 -0.18401 -0.19040 -0.11593 -0.16626   \n",
       "2  0.01198  ... -0.40220  0.58984 -0.22145  0.43100 -0.17365  0.60436   \n",
       "3  0.00000  ...  0.90695  0.51613  1.00000  1.00000 -0.20099  0.25682   \n",
       "4 -0.16399  ... -0.65158  0.13290 -0.53206  0.02431 -0.62197 -0.05707   \n",
       "\n",
       "        31       32       33  34  \n",
       "0 -0.54487  0.18641 -0.45300   g  \n",
       "1 -0.06288 -0.13738 -0.02447   b  \n",
       "2 -0.24180  0.56045 -0.38238   g  \n",
       "3  1.00000 -0.32382  1.00000   b  \n",
       "4 -0.59573 -0.04608 -0.65697   g  \n",
       "\n",
       "[5 rows x 35 columns]"
      ]
     },
     "execution_count": 789,
     "metadata": {},
     "output_type": "execute_result"
    }
   ],
   "source": [
    "data_df = pd.read_csv('ionosphere.data', header=None)\n",
    "data_df.head()"
   ]
  },
  {
   "cell_type": "code",
   "execution_count": 790,
   "metadata": {
    "colab": {
     "base_uri": "https://localhost:8080/",
     "height": 596
    },
    "id": "PWMWQKQ702pQ",
    "outputId": "80ccd743-533a-4a5d-c009-9318021035a1",
    "scrolled": true
   },
   "outputs": [
    {
     "data": {
      "text/plain": [
       "(351, 35)"
      ]
     },
     "execution_count": 790,
     "metadata": {},
     "output_type": "execute_result"
    }
   ],
   "source": [
    "data_df.shape"
   ]
  },
  {
   "cell_type": "code",
   "execution_count": 791,
   "metadata": {},
   "outputs": [
    {
     "data": {
      "text/plain": [
       "0     0\n",
       "1     0\n",
       "2     0\n",
       "3     0\n",
       "4     0\n",
       "5     0\n",
       "6     0\n",
       "7     0\n",
       "8     0\n",
       "9     0\n",
       "10    0\n",
       "11    0\n",
       "12    0\n",
       "13    0\n",
       "14    0\n",
       "15    0\n",
       "16    0\n",
       "17    0\n",
       "18    0\n",
       "19    0\n",
       "20    0\n",
       "21    0\n",
       "22    0\n",
       "23    0\n",
       "24    0\n",
       "25    0\n",
       "26    0\n",
       "27    0\n",
       "28    0\n",
       "29    0\n",
       "30    0\n",
       "31    0\n",
       "32    0\n",
       "33    0\n",
       "34    0\n",
       "dtype: int64"
      ]
     },
     "execution_count": 791,
     "metadata": {},
     "output_type": "execute_result"
    }
   ],
   "source": [
    "data_df.isnull().sum()"
   ]
  },
  {
   "cell_type": "code",
   "execution_count": 792,
   "metadata": {},
   "outputs": [
    {
     "data": {
      "text/plain": [
       "Index([               0,                1,                2,                3,\n",
       "                      4,                5,                6,                7,\n",
       "                      8,                9,               10,               11,\n",
       "                     12,               13,               14,               15,\n",
       "                     16,               17,               18,               19,\n",
       "                     20,               21,               22,               23,\n",
       "                     24,               25,               26,               27,\n",
       "                     28,               29,               30,               31,\n",
       "                     32,               33, 'Classification'],\n",
       "      dtype='object')"
      ]
     },
     "execution_count": 792,
     "metadata": {},
     "output_type": "execute_result"
    }
   ],
   "source": [
    "data_df = data_df.rename(columns={34: 'Classification'})\n",
    "data_df.columns"
   ]
  },
  {
   "cell_type": "code",
   "execution_count": 793,
   "metadata": {},
   "outputs": [
    {
     "data": {
      "text/plain": [
       "0                 0\n",
       "1                 0\n",
       "2                 0\n",
       "3                 0\n",
       "4                 0\n",
       "5                 0\n",
       "6                 0\n",
       "7                 0\n",
       "8                 0\n",
       "9                 0\n",
       "10                0\n",
       "11                0\n",
       "12                0\n",
       "13                0\n",
       "14                0\n",
       "15                0\n",
       "16                0\n",
       "17                0\n",
       "18                0\n",
       "19                0\n",
       "20                0\n",
       "21                0\n",
       "22                0\n",
       "23                0\n",
       "24                0\n",
       "25                0\n",
       "26                0\n",
       "27                0\n",
       "28                0\n",
       "29                0\n",
       "30                0\n",
       "31                0\n",
       "32                0\n",
       "33                0\n",
       "Classification    0\n",
       "dtype: int64"
      ]
     },
     "execution_count": 793,
     "metadata": {},
     "output_type": "execute_result"
    }
   ],
   "source": [
    "data_df.isna().sum()"
   ]
  },
  {
   "cell_type": "code",
   "execution_count": 794,
   "metadata": {},
   "outputs": [
    {
     "data": {
      "text/html": [
       "<div>\n",
       "<style scoped>\n",
       "    .dataframe tbody tr th:only-of-type {\n",
       "        vertical-align: middle;\n",
       "    }\n",
       "\n",
       "    .dataframe tbody tr th {\n",
       "        vertical-align: top;\n",
       "    }\n",
       "\n",
       "    .dataframe thead th {\n",
       "        text-align: right;\n",
       "    }\n",
       "</style>\n",
       "<table border=\"1\" class=\"dataframe\">\n",
       "  <thead>\n",
       "    <tr style=\"text-align: right;\">\n",
       "      <th></th>\n",
       "      <th>0</th>\n",
       "      <th>1</th>\n",
       "      <th>2</th>\n",
       "      <th>3</th>\n",
       "      <th>4</th>\n",
       "      <th>5</th>\n",
       "      <th>6</th>\n",
       "      <th>7</th>\n",
       "      <th>8</th>\n",
       "      <th>9</th>\n",
       "      <th>...</th>\n",
       "      <th>25</th>\n",
       "      <th>26</th>\n",
       "      <th>27</th>\n",
       "      <th>28</th>\n",
       "      <th>29</th>\n",
       "      <th>30</th>\n",
       "      <th>31</th>\n",
       "      <th>32</th>\n",
       "      <th>33</th>\n",
       "      <th>Classification</th>\n",
       "    </tr>\n",
       "  </thead>\n",
       "  <tbody>\n",
       "    <tr>\n",
       "      <th>0</th>\n",
       "      <td>1</td>\n",
       "      <td>0</td>\n",
       "      <td>0.99539</td>\n",
       "      <td>-0.05889</td>\n",
       "      <td>0.85243</td>\n",
       "      <td>0.02306</td>\n",
       "      <td>0.83398</td>\n",
       "      <td>-0.37708</td>\n",
       "      <td>1.00000</td>\n",
       "      <td>0.03760</td>\n",
       "      <td>...</td>\n",
       "      <td>-0.51171</td>\n",
       "      <td>0.41078</td>\n",
       "      <td>-0.46168</td>\n",
       "      <td>0.21266</td>\n",
       "      <td>-0.34090</td>\n",
       "      <td>0.42267</td>\n",
       "      <td>-0.54487</td>\n",
       "      <td>0.18641</td>\n",
       "      <td>-0.45300</td>\n",
       "      <td>g</td>\n",
       "    </tr>\n",
       "    <tr>\n",
       "      <th>1</th>\n",
       "      <td>1</td>\n",
       "      <td>0</td>\n",
       "      <td>1.00000</td>\n",
       "      <td>-0.18829</td>\n",
       "      <td>0.93035</td>\n",
       "      <td>-0.36156</td>\n",
       "      <td>-0.10868</td>\n",
       "      <td>-0.93597</td>\n",
       "      <td>1.00000</td>\n",
       "      <td>-0.04549</td>\n",
       "      <td>...</td>\n",
       "      <td>-0.26569</td>\n",
       "      <td>-0.20468</td>\n",
       "      <td>-0.18401</td>\n",
       "      <td>-0.19040</td>\n",
       "      <td>-0.11593</td>\n",
       "      <td>-0.16626</td>\n",
       "      <td>-0.06288</td>\n",
       "      <td>-0.13738</td>\n",
       "      <td>-0.02447</td>\n",
       "      <td>b</td>\n",
       "    </tr>\n",
       "    <tr>\n",
       "      <th>2</th>\n",
       "      <td>1</td>\n",
       "      <td>0</td>\n",
       "      <td>1.00000</td>\n",
       "      <td>-0.03365</td>\n",
       "      <td>1.00000</td>\n",
       "      <td>0.00485</td>\n",
       "      <td>1.00000</td>\n",
       "      <td>-0.12062</td>\n",
       "      <td>0.88965</td>\n",
       "      <td>0.01198</td>\n",
       "      <td>...</td>\n",
       "      <td>-0.40220</td>\n",
       "      <td>0.58984</td>\n",
       "      <td>-0.22145</td>\n",
       "      <td>0.43100</td>\n",
       "      <td>-0.17365</td>\n",
       "      <td>0.60436</td>\n",
       "      <td>-0.24180</td>\n",
       "      <td>0.56045</td>\n",
       "      <td>-0.38238</td>\n",
       "      <td>g</td>\n",
       "    </tr>\n",
       "    <tr>\n",
       "      <th>3</th>\n",
       "      <td>1</td>\n",
       "      <td>0</td>\n",
       "      <td>1.00000</td>\n",
       "      <td>-0.45161</td>\n",
       "      <td>1.00000</td>\n",
       "      <td>1.00000</td>\n",
       "      <td>0.71216</td>\n",
       "      <td>-1.00000</td>\n",
       "      <td>0.00000</td>\n",
       "      <td>0.00000</td>\n",
       "      <td>...</td>\n",
       "      <td>0.90695</td>\n",
       "      <td>0.51613</td>\n",
       "      <td>1.00000</td>\n",
       "      <td>1.00000</td>\n",
       "      <td>-0.20099</td>\n",
       "      <td>0.25682</td>\n",
       "      <td>1.00000</td>\n",
       "      <td>-0.32382</td>\n",
       "      <td>1.00000</td>\n",
       "      <td>b</td>\n",
       "    </tr>\n",
       "    <tr>\n",
       "      <th>4</th>\n",
       "      <td>1</td>\n",
       "      <td>0</td>\n",
       "      <td>1.00000</td>\n",
       "      <td>-0.02401</td>\n",
       "      <td>0.94140</td>\n",
       "      <td>0.06531</td>\n",
       "      <td>0.92106</td>\n",
       "      <td>-0.23255</td>\n",
       "      <td>0.77152</td>\n",
       "      <td>-0.16399</td>\n",
       "      <td>...</td>\n",
       "      <td>-0.65158</td>\n",
       "      <td>0.13290</td>\n",
       "      <td>-0.53206</td>\n",
       "      <td>0.02431</td>\n",
       "      <td>-0.62197</td>\n",
       "      <td>-0.05707</td>\n",
       "      <td>-0.59573</td>\n",
       "      <td>-0.04608</td>\n",
       "      <td>-0.65697</td>\n",
       "      <td>g</td>\n",
       "    </tr>\n",
       "  </tbody>\n",
       "</table>\n",
       "<p>5 rows × 35 columns</p>\n",
       "</div>"
      ],
      "text/plain": [
       "   0  1        2        3        4        5        6        7        8  \\\n",
       "0  1  0  0.99539 -0.05889  0.85243  0.02306  0.83398 -0.37708  1.00000   \n",
       "1  1  0  1.00000 -0.18829  0.93035 -0.36156 -0.10868 -0.93597  1.00000   \n",
       "2  1  0  1.00000 -0.03365  1.00000  0.00485  1.00000 -0.12062  0.88965   \n",
       "3  1  0  1.00000 -0.45161  1.00000  1.00000  0.71216 -1.00000  0.00000   \n",
       "4  1  0  1.00000 -0.02401  0.94140  0.06531  0.92106 -0.23255  0.77152   \n",
       "\n",
       "         9  ...       25       26       27       28       29       30  \\\n",
       "0  0.03760  ... -0.51171  0.41078 -0.46168  0.21266 -0.34090  0.42267   \n",
       "1 -0.04549  ... -0.26569 -0.20468 -0.18401 -0.19040 -0.11593 -0.16626   \n",
       "2  0.01198  ... -0.40220  0.58984 -0.22145  0.43100 -0.17365  0.60436   \n",
       "3  0.00000  ...  0.90695  0.51613  1.00000  1.00000 -0.20099  0.25682   \n",
       "4 -0.16399  ... -0.65158  0.13290 -0.53206  0.02431 -0.62197 -0.05707   \n",
       "\n",
       "        31       32       33  Classification  \n",
       "0 -0.54487  0.18641 -0.45300               g  \n",
       "1 -0.06288 -0.13738 -0.02447               b  \n",
       "2 -0.24180  0.56045 -0.38238               g  \n",
       "3  1.00000 -0.32382  1.00000               b  \n",
       "4 -0.59573 -0.04608 -0.65697               g  \n",
       "\n",
       "[5 rows x 35 columns]"
      ]
     },
     "execution_count": 794,
     "metadata": {},
     "output_type": "execute_result"
    }
   ],
   "source": [
    "data_df.head()"
   ]
  },
  {
   "cell_type": "code",
   "execution_count": 795,
   "metadata": {},
   "outputs": [
    {
     "data": {
      "text/plain": [
       "array(['g', 'b'], dtype=object)"
      ]
     },
     "execution_count": 795,
     "metadata": {},
     "output_type": "execute_result"
    }
   ],
   "source": [
    "data_df['Classification'].unique()"
   ]
  },
  {
   "cell_type": "code",
   "execution_count": 796,
   "metadata": {},
   "outputs": [],
   "source": [
    "labels = { 'g' : 'Good', 'b': 'Bad'}"
   ]
  },
  {
   "cell_type": "code",
   "execution_count": 797,
   "metadata": {},
   "outputs": [
    {
     "data": {
      "text/plain": [
       "((351, 34), (351,))"
      ]
     },
     "execution_count": 797,
     "metadata": {},
     "output_type": "execute_result"
    }
   ],
   "source": [
    "features_df = data_df.drop('Classification', axis = 1) # drop label col\n",
    "\n",
    "label_df = data_df['Classification'] # labels\n",
    "\n",
    "features_df.shape, label_df.shape"
   ]
  },
  {
   "cell_type": "code",
   "execution_count": 798,
   "metadata": {},
   "outputs": [
    {
     "data": {
      "text/html": [
       "<div>\n",
       "<style scoped>\n",
       "    .dataframe tbody tr th:only-of-type {\n",
       "        vertical-align: middle;\n",
       "    }\n",
       "\n",
       "    .dataframe tbody tr th {\n",
       "        vertical-align: top;\n",
       "    }\n",
       "\n",
       "    .dataframe thead th {\n",
       "        text-align: right;\n",
       "    }\n",
       "</style>\n",
       "<table border=\"1\" class=\"dataframe\">\n",
       "  <thead>\n",
       "    <tr style=\"text-align: right;\">\n",
       "      <th></th>\n",
       "      <th>b</th>\n",
       "      <th>g</th>\n",
       "    </tr>\n",
       "  </thead>\n",
       "  <tbody>\n",
       "    <tr>\n",
       "      <th>0</th>\n",
       "      <td>False</td>\n",
       "      <td>True</td>\n",
       "    </tr>\n",
       "    <tr>\n",
       "      <th>1</th>\n",
       "      <td>True</td>\n",
       "      <td>False</td>\n",
       "    </tr>\n",
       "    <tr>\n",
       "      <th>2</th>\n",
       "      <td>False</td>\n",
       "      <td>True</td>\n",
       "    </tr>\n",
       "    <tr>\n",
       "      <th>3</th>\n",
       "      <td>True</td>\n",
       "      <td>False</td>\n",
       "    </tr>\n",
       "    <tr>\n",
       "      <th>4</th>\n",
       "      <td>False</td>\n",
       "      <td>True</td>\n",
       "    </tr>\n",
       "    <tr>\n",
       "      <th>...</th>\n",
       "      <td>...</td>\n",
       "      <td>...</td>\n",
       "    </tr>\n",
       "    <tr>\n",
       "      <th>346</th>\n",
       "      <td>False</td>\n",
       "      <td>True</td>\n",
       "    </tr>\n",
       "    <tr>\n",
       "      <th>347</th>\n",
       "      <td>False</td>\n",
       "      <td>True</td>\n",
       "    </tr>\n",
       "    <tr>\n",
       "      <th>348</th>\n",
       "      <td>False</td>\n",
       "      <td>True</td>\n",
       "    </tr>\n",
       "    <tr>\n",
       "      <th>349</th>\n",
       "      <td>False</td>\n",
       "      <td>True</td>\n",
       "    </tr>\n",
       "    <tr>\n",
       "      <th>350</th>\n",
       "      <td>False</td>\n",
       "      <td>True</td>\n",
       "    </tr>\n",
       "  </tbody>\n",
       "</table>\n",
       "<p>351 rows × 2 columns</p>\n",
       "</div>"
      ],
      "text/plain": [
       "         b      g\n",
       "0    False   True\n",
       "1     True  False\n",
       "2    False   True\n",
       "3     True  False\n",
       "4    False   True\n",
       "..     ...    ...\n",
       "346  False   True\n",
       "347  False   True\n",
       "348  False   True\n",
       "349  False   True\n",
       "350  False   True\n",
       "\n",
       "[351 rows x 2 columns]"
      ]
     },
     "execution_count": 798,
     "metadata": {},
     "output_type": "execute_result"
    }
   ],
   "source": [
    "label_df = pd.get_dummies(label_df)\n",
    "label_df"
   ]
  },
  {
   "cell_type": "code",
   "execution_count": 799,
   "metadata": {},
   "outputs": [
    {
     "data": {
      "text/html": [
       "<div>\n",
       "<style scoped>\n",
       "    .dataframe tbody tr th:only-of-type {\n",
       "        vertical-align: middle;\n",
       "    }\n",
       "\n",
       "    .dataframe tbody tr th {\n",
       "        vertical-align: top;\n",
       "    }\n",
       "\n",
       "    .dataframe thead th {\n",
       "        text-align: right;\n",
       "    }\n",
       "</style>\n",
       "<table border=\"1\" class=\"dataframe\">\n",
       "  <thead>\n",
       "    <tr style=\"text-align: right;\">\n",
       "      <th></th>\n",
       "      <th>b</th>\n",
       "      <th>g</th>\n",
       "    </tr>\n",
       "  </thead>\n",
       "  <tbody>\n",
       "    <tr>\n",
       "      <th>0</th>\n",
       "      <td>False</td>\n",
       "      <td>True</td>\n",
       "    </tr>\n",
       "    <tr>\n",
       "      <th>1</th>\n",
       "      <td>True</td>\n",
       "      <td>False</td>\n",
       "    </tr>\n",
       "    <tr>\n",
       "      <th>2</th>\n",
       "      <td>False</td>\n",
       "      <td>True</td>\n",
       "    </tr>\n",
       "    <tr>\n",
       "      <th>3</th>\n",
       "      <td>True</td>\n",
       "      <td>False</td>\n",
       "    </tr>\n",
       "    <tr>\n",
       "      <th>4</th>\n",
       "      <td>False</td>\n",
       "      <td>True</td>\n",
       "    </tr>\n",
       "  </tbody>\n",
       "</table>\n",
       "</div>"
      ],
      "text/plain": [
       "       b      g\n",
       "0  False   True\n",
       "1   True  False\n",
       "2  False   True\n",
       "3   True  False\n",
       "4  False   True"
      ]
     },
     "execution_count": 799,
     "metadata": {},
     "output_type": "execute_result"
    }
   ],
   "source": [
    "label_df.head()"
   ]
  },
  {
   "cell_type": "code",
   "execution_count": 800,
   "metadata": {},
   "outputs": [
    {
     "name": "stdout",
     "output_type": "stream",
     "text": [
      "(256, 34) (256, 2) (95, 34) (95, 2)\n"
     ]
    }
   ],
   "source": [
    "#  Split the data in training and test sets to measure performance of the model.\n",
    "X_train, X_test, y_train, y_test = train_test_split(features_df, label_df, \n",
    "                                                    stratify=label_df,\n",
    "                                                    train_size=TRAIN_SIZE, \n",
    "                                                    random_state=RANDOM_STATE )\n",
    "\n",
    "print (X_train.shape, y_train.shape, X_test.shape, y_test.shape)"
   ]
  },
  {
   "cell_type": "code",
   "execution_count": 801,
   "metadata": {},
   "outputs": [],
   "source": [
    "scaler = StandardScaler() # get the scaler\n",
    "\n",
    "X_train = scaler.fit_transform(X_train) # train\n",
    "X_test = scaler.transform(X_test) # test\n",
    "\n",
    "y_train = y_train.to_numpy() # array\n",
    "y_test = y_test.to_numpy() # convert to array"
   ]
  },
  {
   "cell_type": "code",
   "execution_count": 802,
   "metadata": {},
   "outputs": [
    {
     "data": {
      "text/plain": [
       "array([[ True, False],\n",
       "       [False,  True],\n",
       "       [False,  True],\n",
       "       [False,  True],\n",
       "       [False,  True],\n",
       "       [ True, False],\n",
       "       [False,  True],\n",
       "       [ True, False],\n",
       "       [ True, False],\n",
       "       [False,  True],\n",
       "       [False,  True],\n",
       "       [ True, False],\n",
       "       [ True, False],\n",
       "       [ True, False],\n",
       "       [ True, False],\n",
       "       [False,  True],\n",
       "       [False,  True],\n",
       "       [ True, False],\n",
       "       [ True, False],\n",
       "       [False,  True],\n",
       "       [False,  True],\n",
       "       [False,  True],\n",
       "       [False,  True],\n",
       "       [False,  True],\n",
       "       [False,  True],\n",
       "       [False,  True],\n",
       "       [ True, False],\n",
       "       [False,  True],\n",
       "       [False,  True],\n",
       "       [ True, False],\n",
       "       [False,  True],\n",
       "       [False,  True],\n",
       "       [False,  True],\n",
       "       [False,  True],\n",
       "       [False,  True],\n",
       "       [ True, False],\n",
       "       [False,  True],\n",
       "       [False,  True],\n",
       "       [False,  True],\n",
       "       [False,  True],\n",
       "       [ True, False],\n",
       "       [ True, False],\n",
       "       [ True, False],\n",
       "       [ True, False],\n",
       "       [ True, False],\n",
       "       [ True, False],\n",
       "       [ True, False],\n",
       "       [False,  True],\n",
       "       [False,  True],\n",
       "       [False,  True],\n",
       "       [ True, False],\n",
       "       [ True, False],\n",
       "       [False,  True],\n",
       "       [False,  True],\n",
       "       [ True, False],\n",
       "       [False,  True],\n",
       "       [False,  True],\n",
       "       [False,  True],\n",
       "       [ True, False],\n",
       "       [False,  True],\n",
       "       [ True, False],\n",
       "       [False,  True],\n",
       "       [False,  True],\n",
       "       [False,  True],\n",
       "       [False,  True],\n",
       "       [False,  True],\n",
       "       [False,  True],\n",
       "       [False,  True],\n",
       "       [False,  True],\n",
       "       [False,  True],\n",
       "       [ True, False],\n",
       "       [False,  True],\n",
       "       [False,  True],\n",
       "       [False,  True],\n",
       "       [False,  True],\n",
       "       [False,  True],\n",
       "       [False,  True],\n",
       "       [False,  True],\n",
       "       [ True, False],\n",
       "       [False,  True],\n",
       "       [ True, False],\n",
       "       [False,  True],\n",
       "       [False,  True],\n",
       "       [ True, False],\n",
       "       [ True, False],\n",
       "       [False,  True],\n",
       "       [False,  True],\n",
       "       [False,  True],\n",
       "       [ True, False],\n",
       "       [False,  True],\n",
       "       [ True, False],\n",
       "       [ True, False],\n",
       "       [ True, False],\n",
       "       [ True, False],\n",
       "       [ True, False],\n",
       "       [False,  True],\n",
       "       [False,  True],\n",
       "       [False,  True],\n",
       "       [ True, False],\n",
       "       [False,  True],\n",
       "       [False,  True],\n",
       "       [ True, False],\n",
       "       [ True, False],\n",
       "       [ True, False],\n",
       "       [False,  True],\n",
       "       [False,  True],\n",
       "       [ True, False],\n",
       "       [ True, False],\n",
       "       [ True, False],\n",
       "       [False,  True],\n",
       "       [False,  True],\n",
       "       [ True, False],\n",
       "       [False,  True],\n",
       "       [False,  True],\n",
       "       [ True, False],\n",
       "       [False,  True],\n",
       "       [ True, False],\n",
       "       [ True, False],\n",
       "       [ True, False],\n",
       "       [ True, False],\n",
       "       [ True, False],\n",
       "       [ True, False],\n",
       "       [False,  True],\n",
       "       [False,  True],\n",
       "       [False,  True],\n",
       "       [False,  True],\n",
       "       [False,  True],\n",
       "       [False,  True],\n",
       "       [ True, False],\n",
       "       [ True, False],\n",
       "       [False,  True],\n",
       "       [False,  True],\n",
       "       [ True, False],\n",
       "       [False,  True],\n",
       "       [False,  True],\n",
       "       [False,  True],\n",
       "       [False,  True],\n",
       "       [False,  True],\n",
       "       [False,  True],\n",
       "       [False,  True],\n",
       "       [False,  True],\n",
       "       [False,  True],\n",
       "       [ True, False],\n",
       "       [ True, False],\n",
       "       [ True, False],\n",
       "       [ True, False],\n",
       "       [False,  True],\n",
       "       [ True, False],\n",
       "       [False,  True],\n",
       "       [False,  True],\n",
       "       [ True, False],\n",
       "       [ True, False],\n",
       "       [False,  True],\n",
       "       [False,  True],\n",
       "       [False,  True],\n",
       "       [False,  True],\n",
       "       [ True, False],\n",
       "       [ True, False],\n",
       "       [False,  True],\n",
       "       [False,  True],\n",
       "       [False,  True],\n",
       "       [False,  True],\n",
       "       [False,  True],\n",
       "       [ True, False],\n",
       "       [False,  True],\n",
       "       [False,  True],\n",
       "       [False,  True],\n",
       "       [False,  True],\n",
       "       [ True, False],\n",
       "       [ True, False],\n",
       "       [False,  True],\n",
       "       [False,  True],\n",
       "       [ True, False],\n",
       "       [False,  True],\n",
       "       [ True, False],\n",
       "       [False,  True],\n",
       "       [False,  True],\n",
       "       [False,  True],\n",
       "       [ True, False],\n",
       "       [False,  True],\n",
       "       [False,  True],\n",
       "       [False,  True],\n",
       "       [False,  True],\n",
       "       [ True, False],\n",
       "       [False,  True],\n",
       "       [ True, False],\n",
       "       [False,  True],\n",
       "       [False,  True],\n",
       "       [False,  True],\n",
       "       [False,  True],\n",
       "       [False,  True],\n",
       "       [False,  True],\n",
       "       [False,  True],\n",
       "       [False,  True],\n",
       "       [False,  True],\n",
       "       [ True, False],\n",
       "       [False,  True],\n",
       "       [ True, False],\n",
       "       [False,  True],\n",
       "       [ True, False],\n",
       "       [False,  True],\n",
       "       [False,  True],\n",
       "       [ True, False],\n",
       "       [False,  True],\n",
       "       [ True, False],\n",
       "       [ True, False],\n",
       "       [False,  True],\n",
       "       [False,  True],\n",
       "       [False,  True],\n",
       "       [ True, False],\n",
       "       [False,  True],\n",
       "       [ True, False],\n",
       "       [False,  True],\n",
       "       [False,  True],\n",
       "       [False,  True],\n",
       "       [False,  True],\n",
       "       [ True, False],\n",
       "       [ True, False],\n",
       "       [ True, False],\n",
       "       [False,  True],\n",
       "       [False,  True],\n",
       "       [False,  True],\n",
       "       [ True, False],\n",
       "       [False,  True],\n",
       "       [False,  True],\n",
       "       [False,  True],\n",
       "       [False,  True],\n",
       "       [False,  True],\n",
       "       [False,  True],\n",
       "       [False,  True],\n",
       "       [ True, False],\n",
       "       [False,  True],\n",
       "       [ True, False],\n",
       "       [False,  True],\n",
       "       [False,  True],\n",
       "       [False,  True],\n",
       "       [False,  True],\n",
       "       [ True, False],\n",
       "       [False,  True],\n",
       "       [False,  True],\n",
       "       [False,  True],\n",
       "       [False,  True],\n",
       "       [False,  True],\n",
       "       [False,  True],\n",
       "       [ True, False],\n",
       "       [False,  True],\n",
       "       [ True, False],\n",
       "       [ True, False],\n",
       "       [False,  True],\n",
       "       [False,  True],\n",
       "       [ True, False],\n",
       "       [False,  True],\n",
       "       [False,  True],\n",
       "       [ True, False],\n",
       "       [ True, False],\n",
       "       [False,  True]])"
      ]
     },
     "execution_count": 802,
     "metadata": {},
     "output_type": "execute_result"
    }
   ],
   "source": [
    "y_train"
   ]
  },
  {
   "cell_type": "markdown",
   "metadata": {
    "id": "c7w9j7Yo02pX"
   },
   "source": [
    "## Neural Network\n",
    "\n",
    "Let's start with simple network. Our data has **two** features. Hence size of input layer will also be two. Lets code our output as two classes. The hidden layer could be of **any size**. One need to execute a handful of iterations to arrive at right size of hidden layer. For purpose of today's discussions, size of hidden layer is taken as shown below.\n",
    "<img src='../../images/dnn_nb_s05_fig1.png' width = '500' alt = 'Session 5 Figure 1'/>"
   ]
  },
  {
   "cell_type": "markdown",
   "metadata": {},
   "source": [
    "## Prepare Model:"
   ]
  },
  {
   "cell_type": "code",
   "execution_count": 803,
   "metadata": {},
   "outputs": [
    {
     "name": "stdout",
     "output_type": "stream",
     "text": [
      "Model: \"model_17\"\n",
      "_________________________________________________________________\n",
      " Layer (type)                Output Shape              Param #   \n",
      "=================================================================\n",
      " input_19 (InputLayer)       [(None, 34)]              0         \n",
      "                                                                 \n",
      " dense_52 (Dense)            (None, 18)                630       \n",
      "                                                                 \n",
      " batch_normalization_34 (Bat  (None, 18)               72        \n",
      " chNormalization)                                                \n",
      "                                                                 \n",
      " dropout_34 (Dropout)        (None, 18)                0         \n",
      "                                                                 \n",
      " dense_53 (Dense)            (None, 9)                 171       \n",
      "                                                                 \n",
      " batch_normalization_35 (Bat  (None, 9)                36        \n",
      " chNormalization)                                                \n",
      "                                                                 \n",
      " dropout_35 (Dropout)        (None, 9)                 0         \n",
      "                                                                 \n",
      " dense_54 (Dense)            (None, 2)                 20        \n",
      "                                                                 \n",
      "=================================================================\n",
      "Total params: 929\n",
      "Trainable params: 875\n",
      "Non-trainable params: 54\n",
      "_________________________________________________________________\n"
     ]
    }
   ],
   "source": [
    "knl_reg = tf.keras.regularizers.L2(l2 = 0.001)\n",
    "\n",
    "dor1 = 0.1\n",
    "\n",
    "# model = tf.keras.Sequential([\n",
    "    \n",
    "#     tf.keras.layers.Dense(18, #activation='swish',\n",
    "#                           kernel_regularizer = knl_reg ),\n",
    "    \n",
    "#     tf.keras.layers.BatchNormalization(),\n",
    "    \n",
    "#     #Put Activation Layer here\n",
    "#     tf.keras.layers.Activation('relu'),\n",
    "    \n",
    "#     tf.keras.layers.Dropout(rate=dor1, seed=RANDOM_STATE),\n",
    "    \n",
    "#     tf.keras.layers.Dense(9, #activation='relu',\n",
    "#                           kernel_regularizer = knl_reg ),\n",
    "    \n",
    "#     tf.keras.layers.Dense(2)\n",
    "\n",
    "# ])\n",
    "\n",
    "input_layer = tf.keras.Input(shape=(34,))\n",
    "\n",
    "x = tf.keras.layers.Dense(18, activation='relu',\n",
    "                          kernel_regularizer = knl_reg ) (input_layer)\n",
    "\n",
    "x = tf.keras.layers.BatchNormalization()(x)\n",
    "x = tf.keras.layers.Dropout(dor1)(x)\n",
    "\n",
    "x = tf.keras.layers.Dense(9, activation='relu',\n",
    "                          kernel_regularizer = knl_reg ) (x)\n",
    "\n",
    "x = tf.keras.layers.BatchNormalization()(x)\n",
    "x = tf.keras.layers.Dropout(dor1)(x)\n",
    "\n",
    "output_layer = tf.keras.layers.Dense(2) (x)\n",
    "\n",
    "model = tf.keras.Model(inputs= input_layer, outputs = output_layer)\n",
    "\n",
    "model.summary()"
   ]
  },
  {
   "cell_type": "code",
   "execution_count": 804,
   "metadata": {},
   "outputs": [],
   "source": [
    "loss_function = tf.losses.CategoricalCrossentropy(from_logits=True)"
   ]
  },
  {
   "cell_type": "code",
   "execution_count": 805,
   "metadata": {},
   "outputs": [
    {
     "data": {
      "text/plain": [
       "(1, 34)"
      ]
     },
     "execution_count": 805,
     "metadata": {},
     "output_type": "execute_result"
    }
   ],
   "source": [
    "X_train[:1].shape"
   ]
  },
  {
   "cell_type": "code",
   "execution_count": 806,
   "metadata": {},
   "outputs": [
    {
     "data": {
      "text/plain": [
       "<tf.Tensor: shape=(1, 2), dtype=float32, numpy=array([[-0.10699638,  0.39125815]], dtype=float32)>"
      ]
     },
     "execution_count": 806,
     "metadata": {},
     "output_type": "execute_result"
    }
   ],
   "source": [
    "predict = model(X_train[:1])\n",
    "predict"
   ]
  },
  {
   "cell_type": "code",
   "execution_count": 807,
   "metadata": {},
   "outputs": [
    {
     "data": {
      "text/plain": [
       "0.28426176"
      ]
     },
     "execution_count": 807,
     "metadata": {},
     "output_type": "execute_result"
    }
   ],
   "source": [
    "predict.numpy().sum()"
   ]
  },
  {
   "cell_type": "code",
   "execution_count": 808,
   "metadata": {},
   "outputs": [
    {
     "data": {
      "text/plain": [
       "1.0"
      ]
     },
     "execution_count": 808,
     "metadata": {},
     "output_type": "execute_result"
    }
   ],
   "source": [
    "tf.nn.softmax(predict).numpy().sum()"
   ]
  },
  {
   "cell_type": "code",
   "execution_count": 809,
   "metadata": {},
   "outputs": [
    {
     "name": "stdout",
     "output_type": "stream",
     "text": [
      "\u001b[0;31mSignature:\u001b[0m\n",
      "\u001b[0mmodel\u001b[0m\u001b[0;34m.\u001b[0m\u001b[0mcompile\u001b[0m\u001b[0;34m(\u001b[0m\u001b[0;34m\u001b[0m\n",
      "\u001b[0;34m\u001b[0m    \u001b[0moptimizer\u001b[0m\u001b[0;34m=\u001b[0m\u001b[0;34m'rmsprop'\u001b[0m\u001b[0;34m,\u001b[0m\u001b[0;34m\u001b[0m\n",
      "\u001b[0;34m\u001b[0m    \u001b[0mloss\u001b[0m\u001b[0;34m=\u001b[0m\u001b[0;32mNone\u001b[0m\u001b[0;34m,\u001b[0m\u001b[0;34m\u001b[0m\n",
      "\u001b[0;34m\u001b[0m    \u001b[0mmetrics\u001b[0m\u001b[0;34m=\u001b[0m\u001b[0;32mNone\u001b[0m\u001b[0;34m,\u001b[0m\u001b[0;34m\u001b[0m\n",
      "\u001b[0;34m\u001b[0m    \u001b[0mloss_weights\u001b[0m\u001b[0;34m=\u001b[0m\u001b[0;32mNone\u001b[0m\u001b[0;34m,\u001b[0m\u001b[0;34m\u001b[0m\n",
      "\u001b[0;34m\u001b[0m    \u001b[0mweighted_metrics\u001b[0m\u001b[0;34m=\u001b[0m\u001b[0;32mNone\u001b[0m\u001b[0;34m,\u001b[0m\u001b[0;34m\u001b[0m\n",
      "\u001b[0;34m\u001b[0m    \u001b[0mrun_eagerly\u001b[0m\u001b[0;34m=\u001b[0m\u001b[0;32mNone\u001b[0m\u001b[0;34m,\u001b[0m\u001b[0;34m\u001b[0m\n",
      "\u001b[0;34m\u001b[0m    \u001b[0msteps_per_execution\u001b[0m\u001b[0;34m=\u001b[0m\u001b[0;32mNone\u001b[0m\u001b[0;34m,\u001b[0m\u001b[0;34m\u001b[0m\n",
      "\u001b[0;34m\u001b[0m    \u001b[0mjit_compile\u001b[0m\u001b[0;34m=\u001b[0m\u001b[0;32mNone\u001b[0m\u001b[0;34m,\u001b[0m\u001b[0;34m\u001b[0m\n",
      "\u001b[0;34m\u001b[0m    \u001b[0;34m**\u001b[0m\u001b[0mkwargs\u001b[0m\u001b[0;34m,\u001b[0m\u001b[0;34m\u001b[0m\n",
      "\u001b[0;34m\u001b[0m\u001b[0;34m)\u001b[0m\u001b[0;34m\u001b[0m\u001b[0;34m\u001b[0m\u001b[0m\n",
      "\u001b[0;31mDocstring:\u001b[0m\n",
      "Configures the model for training.\n",
      "\n",
      "Example:\n",
      "\n",
      "```python\n",
      "model.compile(optimizer=tf.keras.optimizers.Adam(learning_rate=1e-3),\n",
      "              loss=tf.keras.losses.BinaryCrossentropy(),\n",
      "              metrics=[tf.keras.metrics.BinaryAccuracy(),\n",
      "                       tf.keras.metrics.FalseNegatives()])\n",
      "```\n",
      "\n",
      "Args:\n",
      "    optimizer: String (name of optimizer) or optimizer instance. See\n",
      "      `tf.keras.optimizers`.\n",
      "    loss: Loss function. May be a string (name of loss function), or\n",
      "      a `tf.keras.losses.Loss` instance. See `tf.keras.losses`. A loss\n",
      "      function is any callable with the signature `loss = fn(y_true,\n",
      "      y_pred)`, where `y_true` are the ground truth values, and\n",
      "      `y_pred` are the model's predictions.\n",
      "      `y_true` should have shape\n",
      "      `(batch_size, d0, .. dN)` (except in the case of\n",
      "      sparse loss functions such as\n",
      "      sparse categorical crossentropy which expects integer arrays of\n",
      "      shape `(batch_size, d0, .. dN-1)`).\n",
      "      `y_pred` should have shape `(batch_size, d0, .. dN)`.\n",
      "      The loss function should return a float tensor.\n",
      "      If a custom `Loss` instance is\n",
      "      used and reduction is set to `None`, return value has shape\n",
      "      `(batch_size, d0, .. dN-1)` i.e. per-sample or per-timestep loss\n",
      "      values; otherwise, it is a scalar. If the model has multiple\n",
      "      outputs, you can use a different loss on each output by passing a\n",
      "      dictionary or a list of losses. The loss value that will be\n",
      "      minimized by the model will then be the sum of all individual\n",
      "      losses, unless `loss_weights` is specified.\n",
      "    metrics: List of metrics to be evaluated by the model during\n",
      "      training and testing. Each of this can be a string (name of a\n",
      "      built-in function), function or a `tf.keras.metrics.Metric`\n",
      "      instance. See `tf.keras.metrics`. Typically you will use\n",
      "      `metrics=['accuracy']`.\n",
      "      A function is any callable with the signature `result = fn(y_true,\n",
      "      y_pred)`. To specify different metrics for different outputs of a\n",
      "      multi-output model, you could also pass a dictionary, such as\n",
      "      `metrics={'output_a':'accuracy', 'output_b':['accuracy', 'mse']}`.\n",
      "      You can also pass a list to specify a metric or a list of metrics\n",
      "      for each output, such as\n",
      "      `metrics=[['accuracy'], ['accuracy', 'mse']]`\n",
      "      or `metrics=['accuracy', ['accuracy', 'mse']]`. When you pass the\n",
      "      strings 'accuracy' or 'acc', we convert this to one of\n",
      "      `tf.keras.metrics.BinaryAccuracy`,\n",
      "      `tf.keras.metrics.CategoricalAccuracy`,\n",
      "      `tf.keras.metrics.SparseCategoricalAccuracy` based on the shapes\n",
      "      of the targets and of the model output. We do a similar\n",
      "      conversion for the strings 'crossentropy' and 'ce' as well.\n",
      "      The metrics passed here are evaluated without sample weighting; if\n",
      "      you would like sample weighting to apply, you can specify your\n",
      "      metrics via the `weighted_metrics` argument instead.\n",
      "    loss_weights: Optional list or dictionary specifying scalar\n",
      "      coefficients (Python floats) to weight the loss contributions of\n",
      "      different model outputs. The loss value that will be minimized by\n",
      "      the model will then be the *weighted sum* of all individual\n",
      "      losses, weighted by the `loss_weights` coefficients.  If a list,\n",
      "      it is expected to have a 1:1 mapping to the model's outputs. If a\n",
      "      dict, it is expected to map output names (strings) to scalar\n",
      "      coefficients.\n",
      "    weighted_metrics: List of metrics to be evaluated and weighted by\n",
      "      `sample_weight` or `class_weight` during training and testing.\n",
      "    run_eagerly: Bool. Defaults to `False`. If `True`, this `Model`'s\n",
      "      logic will not be wrapped in a `tf.function`. Recommended to leave\n",
      "      this as `None` unless your `Model` cannot be run inside a\n",
      "      `tf.function`. `run_eagerly=True` is not supported when using\n",
      "      `tf.distribute.experimental.ParameterServerStrategy`.\n",
      "    steps_per_execution: Int. Defaults to 1. The number of batches to\n",
      "      run during each `tf.function` call. Running multiple batches\n",
      "      inside a single `tf.function` call can greatly improve performance\n",
      "      on TPUs or small models with a large Python overhead. At most, one\n",
      "      full epoch will be run each execution. If a number larger than the\n",
      "      size of the epoch is passed, the execution will be truncated to\n",
      "      the size of the epoch. Note that if `steps_per_execution` is set\n",
      "      to `N`, `Callback.on_batch_begin` and `Callback.on_batch_end`\n",
      "      methods will only be called every `N` batches (i.e. before/after\n",
      "      each `tf.function` execution).\n",
      "    jit_compile: If `True`, compile the model training step with XLA.\n",
      "      [XLA](https://www.tensorflow.org/xla) is an optimizing compiler\n",
      "      for machine learning.\n",
      "      `jit_compile` is not enabled for by default.\n",
      "      Note that `jit_compile=True`\n",
      "      may not necessarily work for all models.\n",
      "      For more information on supported operations please refer to the\n",
      "      [XLA documentation](https://www.tensorflow.org/xla).\n",
      "      Also refer to\n",
      "      [known XLA issues](https://www.tensorflow.org/xla/known_issues)\n",
      "      for more details.\n",
      "    **kwargs: Arguments supported for backwards compatibility only.\n",
      "\u001b[0;31mFile:\u001b[0m      ~/Documents/Machine Learning/.conda/lib/python3.11/site-packages/keras/engine/training.py\n",
      "\u001b[0;31mType:\u001b[0m      method"
     ]
    }
   ],
   "source": [
    "model.compile?"
   ]
  },
  {
   "cell_type": "code",
   "execution_count": 810,
   "metadata": {
    "colab": {
     "base_uri": "https://localhost:8080/",
     "height": 613
    },
    "id": "oa8WtTI202pn",
    "outputId": "3f0ca548-7715-47c7-b4fd-fac7924bc060"
   },
   "outputs": [],
   "source": [
    "model.compile(optimizer='rmsprop', \n",
    "              loss=loss_function,\n",
    "              metrics=['accuracy'])"
   ]
  },
  {
   "cell_type": "code",
   "execution_count": 811,
   "metadata": {},
   "outputs": [
    {
     "name": "stdout",
     "output_type": "stream",
     "text": [
      "Epoch 1/101\n",
      "8/8 - 2s - loss: 0.8729 - accuracy: 0.5352 - val_loss: 0.6339 - val_accuracy: 0.7263 - 2s/epoch - 199ms/step\n",
      "Epoch 2/101\n",
      "8/8 - 0s - loss: 0.7331 - accuracy: 0.5898 - val_loss: 0.5896 - val_accuracy: 0.7579 - 134ms/epoch - 17ms/step\n",
      "Epoch 3/101\n",
      "8/8 - 0s - loss: 0.6876 - accuracy: 0.6484 - val_loss: 0.5505 - val_accuracy: 0.7684 - 172ms/epoch - 21ms/step\n",
      "Epoch 4/101\n",
      "8/8 - 0s - loss: 0.5866 - accuracy: 0.7383 - val_loss: 0.5199 - val_accuracy: 0.7895 - 157ms/epoch - 20ms/step\n",
      "Epoch 5/101\n",
      "8/8 - 0s - loss: 0.5378 - accuracy: 0.7383 - val_loss: 0.4915 - val_accuracy: 0.8105 - 161ms/epoch - 20ms/step\n",
      "Epoch 6/101\n",
      "8/8 - 0s - loss: 0.5331 - accuracy: 0.7539 - val_loss: 0.4625 - val_accuracy: 0.8421 - 108ms/epoch - 14ms/step\n",
      "Epoch 7/101\n",
      "8/8 - 0s - loss: 0.4773 - accuracy: 0.7773 - val_loss: 0.4348 - val_accuracy: 0.8526 - 120ms/epoch - 15ms/step\n",
      "Epoch 8/101\n",
      "8/8 - 0s - loss: 0.4759 - accuracy: 0.8047 - val_loss: 0.4078 - val_accuracy: 0.8632 - 121ms/epoch - 15ms/step\n",
      "Epoch 9/101\n",
      "8/8 - 0s - loss: 0.4043 - accuracy: 0.8359 - val_loss: 0.3872 - val_accuracy: 0.8737 - 103ms/epoch - 13ms/step\n",
      "Epoch 10/101\n",
      "8/8 - 0s - loss: 0.4174 - accuracy: 0.8125 - val_loss: 0.3650 - val_accuracy: 0.8842 - 144ms/epoch - 18ms/step\n",
      "Epoch 11/101\n",
      "8/8 - 0s - loss: 0.3765 - accuracy: 0.8711 - val_loss: 0.3469 - val_accuracy: 0.8947 - 121ms/epoch - 15ms/step\n",
      "Epoch 12/101\n",
      "8/8 - 0s - loss: 0.3623 - accuracy: 0.8633 - val_loss: 0.3251 - val_accuracy: 0.9053 - 121ms/epoch - 15ms/step\n",
      "Epoch 13/101\n",
      "8/8 - 0s - loss: 0.3944 - accuracy: 0.8516 - val_loss: 0.3122 - val_accuracy: 0.9053 - 139ms/epoch - 17ms/step\n",
      "Epoch 14/101\n",
      "8/8 - 0s - loss: 0.3237 - accuracy: 0.8594 - val_loss: 0.3016 - val_accuracy: 0.9053 - 143ms/epoch - 18ms/step\n",
      "Epoch 15/101\n",
      "8/8 - 0s - loss: 0.3159 - accuracy: 0.8945 - val_loss: 0.2858 - val_accuracy: 0.9053 - 170ms/epoch - 21ms/step\n",
      "Epoch 16/101\n",
      "8/8 - 0s - loss: 0.3139 - accuracy: 0.8828 - val_loss: 0.2794 - val_accuracy: 0.9158 - 101ms/epoch - 13ms/step\n",
      "Epoch 17/101\n",
      "8/8 - 0s - loss: 0.2950 - accuracy: 0.9062 - val_loss: 0.2656 - val_accuracy: 0.9158 - 113ms/epoch - 14ms/step\n",
      "Epoch 18/101\n",
      "8/8 - 0s - loss: 0.2671 - accuracy: 0.9062 - val_loss: 0.2548 - val_accuracy: 0.9158 - 106ms/epoch - 13ms/step\n",
      "Epoch 19/101\n",
      "8/8 - 0s - loss: 0.2717 - accuracy: 0.9219 - val_loss: 0.2485 - val_accuracy: 0.9158 - 87ms/epoch - 11ms/step\n",
      "Epoch 20/101\n",
      "8/8 - 0s - loss: 0.2686 - accuracy: 0.9062 - val_loss: 0.2431 - val_accuracy: 0.9158 - 105ms/epoch - 13ms/step\n",
      "Epoch 21/101\n",
      "8/8 - 0s - loss: 0.2501 - accuracy: 0.9219 - val_loss: 0.2355 - val_accuracy: 0.9158 - 91ms/epoch - 11ms/step\n",
      "Epoch 22/101\n",
      "8/8 - 0s - loss: 0.2521 - accuracy: 0.9219 - val_loss: 0.2287 - val_accuracy: 0.9158 - 100ms/epoch - 12ms/step\n",
      "Epoch 23/101\n",
      "8/8 - 0s - loss: 0.2456 - accuracy: 0.9258 - val_loss: 0.2243 - val_accuracy: 0.9158 - 116ms/epoch - 14ms/step\n",
      "Epoch 24/101\n",
      "8/8 - 0s - loss: 0.2287 - accuracy: 0.9258 - val_loss: 0.2200 - val_accuracy: 0.9263 - 108ms/epoch - 13ms/step\n",
      "Epoch 25/101\n",
      "8/8 - 0s - loss: 0.2413 - accuracy: 0.9336 - val_loss: 0.2152 - val_accuracy: 0.9263 - 105ms/epoch - 13ms/step\n",
      "Epoch 26/101\n",
      "8/8 - 0s - loss: 0.2133 - accuracy: 0.9492 - val_loss: 0.2142 - val_accuracy: 0.9263 - 102ms/epoch - 13ms/step\n",
      "Epoch 27/101\n",
      "8/8 - 0s - loss: 0.2279 - accuracy: 0.9297 - val_loss: 0.2118 - val_accuracy: 0.9263 - 95ms/epoch - 12ms/step\n",
      "Epoch 28/101\n",
      "8/8 - 0s - loss: 0.2034 - accuracy: 0.9336 - val_loss: 0.2095 - val_accuracy: 0.9263 - 96ms/epoch - 12ms/step\n",
      "Epoch 29/101\n",
      "8/8 - 0s - loss: 0.1920 - accuracy: 0.9414 - val_loss: 0.2095 - val_accuracy: 0.9263 - 102ms/epoch - 13ms/step\n",
      "Epoch 30/101\n",
      "8/8 - 0s - loss: 0.2039 - accuracy: 0.9453 - val_loss: 0.2087 - val_accuracy: 0.9263 - 104ms/epoch - 13ms/step\n",
      "Epoch 31/101\n",
      "8/8 - 0s - loss: 0.1773 - accuracy: 0.9570 - val_loss: 0.2068 - val_accuracy: 0.9368 - 120ms/epoch - 15ms/step\n",
      "Epoch 32/101\n",
      "8/8 - 0s - loss: 0.2180 - accuracy: 0.9258 - val_loss: 0.2076 - val_accuracy: 0.9368 - 100ms/epoch - 12ms/step\n",
      "Epoch 33/101\n",
      "8/8 - 0s - loss: 0.2169 - accuracy: 0.9258 - val_loss: 0.2080 - val_accuracy: 0.9368 - 114ms/epoch - 14ms/step\n",
      "Epoch 34/101\n",
      "8/8 - 0s - loss: 0.2067 - accuracy: 0.9336 - val_loss: 0.2033 - val_accuracy: 0.9368 - 113ms/epoch - 14ms/step\n",
      "Epoch 35/101\n",
      "8/8 - 0s - loss: 0.1923 - accuracy: 0.9414 - val_loss: 0.1993 - val_accuracy: 0.9368 - 143ms/epoch - 18ms/step\n",
      "Epoch 36/101\n",
      "8/8 - 0s - loss: 0.1622 - accuracy: 0.9453 - val_loss: 0.2003 - val_accuracy: 0.9368 - 106ms/epoch - 13ms/step\n",
      "Epoch 37/101\n",
      "8/8 - 0s - loss: 0.1908 - accuracy: 0.9414 - val_loss: 0.2011 - val_accuracy: 0.9368 - 114ms/epoch - 14ms/step\n",
      "Epoch 38/101\n",
      "8/8 - 0s - loss: 0.1982 - accuracy: 0.9375 - val_loss: 0.1994 - val_accuracy: 0.9368 - 135ms/epoch - 17ms/step\n",
      "Epoch 39/101\n",
      "8/8 - 0s - loss: 0.1475 - accuracy: 0.9531 - val_loss: 0.1999 - val_accuracy: 0.9368 - 102ms/epoch - 13ms/step\n",
      "Epoch 40/101\n",
      "8/8 - 0s - loss: 0.1856 - accuracy: 0.9375 - val_loss: 0.1986 - val_accuracy: 0.9368 - 107ms/epoch - 13ms/step\n",
      "Epoch 41/101\n",
      "8/8 - 0s - loss: 0.1828 - accuracy: 0.9414 - val_loss: 0.1975 - val_accuracy: 0.9368 - 130ms/epoch - 16ms/step\n",
      "Epoch 42/101\n",
      "8/8 - 0s - loss: 0.1616 - accuracy: 0.9492 - val_loss: 0.1967 - val_accuracy: 0.9368 - 133ms/epoch - 17ms/step\n",
      "Epoch 43/101\n",
      "8/8 - 0s - loss: 0.1836 - accuracy: 0.9453 - val_loss: 0.1984 - val_accuracy: 0.9368 - 121ms/epoch - 15ms/step\n",
      "Epoch 44/101\n",
      "8/8 - 0s - loss: 0.1676 - accuracy: 0.9453 - val_loss: 0.1967 - val_accuracy: 0.9368 - 135ms/epoch - 17ms/step\n",
      "Epoch 45/101\n",
      "8/8 - 0s - loss: 0.1434 - accuracy: 0.9688 - val_loss: 0.1936 - val_accuracy: 0.9368 - 102ms/epoch - 13ms/step\n",
      "Epoch 46/101\n",
      "8/8 - 0s - loss: 0.1527 - accuracy: 0.9609 - val_loss: 0.1946 - val_accuracy: 0.9368 - 109ms/epoch - 14ms/step\n",
      "Epoch 47/101\n",
      "8/8 - 0s - loss: 0.1584 - accuracy: 0.9609 - val_loss: 0.1929 - val_accuracy: 0.9368 - 98ms/epoch - 12ms/step\n",
      "Epoch 48/101\n",
      "8/8 - 0s - loss: 0.1359 - accuracy: 0.9609 - val_loss: 0.1944 - val_accuracy: 0.9474 - 140ms/epoch - 17ms/step\n",
      "Epoch 49/101\n",
      "8/8 - 0s - loss: 0.1800 - accuracy: 0.9375 - val_loss: 0.1917 - val_accuracy: 0.9474 - 125ms/epoch - 16ms/step\n",
      "Epoch 50/101\n",
      "8/8 - 0s - loss: 0.1635 - accuracy: 0.9570 - val_loss: 0.1898 - val_accuracy: 0.9474 - 126ms/epoch - 16ms/step\n",
      "Epoch 51/101\n",
      "8/8 - 0s - loss: 0.1553 - accuracy: 0.9570 - val_loss: 0.1882 - val_accuracy: 0.9474 - 124ms/epoch - 16ms/step\n",
      "Epoch 52/101\n",
      "8/8 - 0s - loss: 0.1410 - accuracy: 0.9648 - val_loss: 0.1900 - val_accuracy: 0.9474 - 102ms/epoch - 13ms/step\n",
      "Epoch 53/101\n",
      "8/8 - 0s - loss: 0.1617 - accuracy: 0.9609 - val_loss: 0.1911 - val_accuracy: 0.9474 - 97ms/epoch - 12ms/step\n",
      "Epoch 54/101\n",
      "8/8 - 0s - loss: 0.1705 - accuracy: 0.9531 - val_loss: 0.1861 - val_accuracy: 0.9474 - 145ms/epoch - 18ms/step\n",
      "Epoch 55/101\n",
      "8/8 - 0s - loss: 0.1246 - accuracy: 0.9688 - val_loss: 0.1832 - val_accuracy: 0.9474 - 113ms/epoch - 14ms/step\n",
      "Epoch 56/101\n",
      "8/8 - 0s - loss: 0.1757 - accuracy: 0.9414 - val_loss: 0.1790 - val_accuracy: 0.9474 - 137ms/epoch - 17ms/step\n",
      "Epoch 57/101\n",
      "8/8 - 0s - loss: 0.1364 - accuracy: 0.9531 - val_loss: 0.1780 - val_accuracy: 0.9474 - 109ms/epoch - 14ms/step\n",
      "Epoch 58/101\n",
      "8/8 - 0s - loss: 0.1260 - accuracy: 0.9609 - val_loss: 0.1786 - val_accuracy: 0.9474 - 154ms/epoch - 19ms/step\n",
      "Epoch 59/101\n",
      "8/8 - 0s - loss: 0.1212 - accuracy: 0.9688 - val_loss: 0.1782 - val_accuracy: 0.9579 - 138ms/epoch - 17ms/step\n",
      "Epoch 60/101\n",
      "8/8 - 0s - loss: 0.1729 - accuracy: 0.9492 - val_loss: 0.1792 - val_accuracy: 0.9579 - 119ms/epoch - 15ms/step\n",
      "Epoch 61/101\n",
      "8/8 - 0s - loss: 0.1375 - accuracy: 0.9727 - val_loss: 0.1808 - val_accuracy: 0.9579 - 154ms/epoch - 19ms/step\n",
      "Epoch 62/101\n",
      "8/8 - 0s - loss: 0.1150 - accuracy: 0.9766 - val_loss: 0.1801 - val_accuracy: 0.9579 - 131ms/epoch - 16ms/step\n",
      "Epoch 63/101\n",
      "8/8 - 0s - loss: 0.1437 - accuracy: 0.9492 - val_loss: 0.1742 - val_accuracy: 0.9474 - 122ms/epoch - 15ms/step\n",
      "Epoch 64/101\n",
      "8/8 - 0s - loss: 0.1300 - accuracy: 0.9648 - val_loss: 0.1727 - val_accuracy: 0.9474 - 121ms/epoch - 15ms/step\n",
      "Epoch 65/101\n",
      "8/8 - 0s - loss: 0.1568 - accuracy: 0.9531 - val_loss: 0.1767 - val_accuracy: 0.9579 - 112ms/epoch - 14ms/step\n",
      "Epoch 66/101\n",
      "8/8 - 0s - loss: 0.1608 - accuracy: 0.9492 - val_loss: 0.1771 - val_accuracy: 0.9579 - 136ms/epoch - 17ms/step\n",
      "Epoch 67/101\n",
      "8/8 - 0s - loss: 0.1270 - accuracy: 0.9648 - val_loss: 0.1774 - val_accuracy: 0.9579 - 162ms/epoch - 20ms/step\n",
      "Epoch 68/101\n",
      "8/8 - 0s - loss: 0.1099 - accuracy: 0.9648 - val_loss: 0.1764 - val_accuracy: 0.9579 - 128ms/epoch - 16ms/step\n",
      "Epoch 69/101\n",
      "8/8 - 0s - loss: 0.1489 - accuracy: 0.9414 - val_loss: 0.1763 - val_accuracy: 0.9579 - 125ms/epoch - 16ms/step\n",
      "Epoch 70/101\n",
      "8/8 - 0s - loss: 0.1598 - accuracy: 0.9492 - val_loss: 0.1739 - val_accuracy: 0.9474 - 119ms/epoch - 15ms/step\n",
      "Epoch 71/101\n",
      "8/8 - 0s - loss: 0.1201 - accuracy: 0.9648 - val_loss: 0.1752 - val_accuracy: 0.9579 - 130ms/epoch - 16ms/step\n",
      "Epoch 72/101\n",
      "8/8 - 0s - loss: 0.1051 - accuracy: 0.9727 - val_loss: 0.1743 - val_accuracy: 0.9579 - 118ms/epoch - 15ms/step\n",
      "Epoch 73/101\n",
      "8/8 - 0s - loss: 0.1344 - accuracy: 0.9648 - val_loss: 0.1722 - val_accuracy: 0.9579 - 117ms/epoch - 15ms/step\n",
      "Epoch 74/101\n",
      "8/8 - 0s - loss: 0.1119 - accuracy: 0.9688 - val_loss: 0.1703 - val_accuracy: 0.9684 - 131ms/epoch - 16ms/step\n",
      "Epoch 75/101\n",
      "8/8 - 0s - loss: 0.0915 - accuracy: 0.9805 - val_loss: 0.1715 - val_accuracy: 0.9579 - 101ms/epoch - 13ms/step\n",
      "Epoch 76/101\n",
      "8/8 - 0s - loss: 0.1140 - accuracy: 0.9805 - val_loss: 0.1697 - val_accuracy: 0.9579 - 132ms/epoch - 17ms/step\n",
      "Epoch 77/101\n",
      "8/8 - 0s - loss: 0.1235 - accuracy: 0.9766 - val_loss: 0.1697 - val_accuracy: 0.9684 - 124ms/epoch - 16ms/step\n",
      "Epoch 78/101\n",
      "8/8 - 0s - loss: 0.1142 - accuracy: 0.9766 - val_loss: 0.1689 - val_accuracy: 0.9684 - 121ms/epoch - 15ms/step\n",
      "Epoch 79/101\n",
      "8/8 - 0s - loss: 0.1101 - accuracy: 0.9844 - val_loss: 0.1719 - val_accuracy: 0.9579 - 93ms/epoch - 12ms/step\n",
      "Epoch 80/101\n",
      "8/8 - 0s - loss: 0.1292 - accuracy: 0.9648 - val_loss: 0.1702 - val_accuracy: 0.9579 - 98ms/epoch - 12ms/step\n",
      "Epoch 81/101\n",
      "8/8 - 0s - loss: 0.1108 - accuracy: 0.9805 - val_loss: 0.1704 - val_accuracy: 0.9579 - 125ms/epoch - 16ms/step\n",
      "Epoch 82/101\n",
      "8/8 - 0s - loss: 0.1196 - accuracy: 0.9805 - val_loss: 0.1732 - val_accuracy: 0.9579 - 146ms/epoch - 18ms/step\n",
      "Epoch 83/101\n",
      "8/8 - 0s - loss: 0.0932 - accuracy: 0.9805 - val_loss: 0.1712 - val_accuracy: 0.9684 - 125ms/epoch - 16ms/step\n",
      "Epoch 84/101\n",
      "8/8 - 0s - loss: 0.0904 - accuracy: 0.9844 - val_loss: 0.1689 - val_accuracy: 0.9579 - 172ms/epoch - 21ms/step\n",
      "Epoch 85/101\n",
      "8/8 - 0s - loss: 0.0955 - accuracy: 0.9766 - val_loss: 0.1648 - val_accuracy: 0.9684 - 166ms/epoch - 21ms/step\n",
      "Epoch 86/101\n",
      "8/8 - 0s - loss: 0.0896 - accuracy: 0.9922 - val_loss: 0.1668 - val_accuracy: 0.9684 - 144ms/epoch - 18ms/step\n",
      "Epoch 87/101\n",
      "8/8 - 0s - loss: 0.1208 - accuracy: 0.9688 - val_loss: 0.1672 - val_accuracy: 0.9789 - 110ms/epoch - 14ms/step\n",
      "Epoch 88/101\n",
      "8/8 - 0s - loss: 0.1224 - accuracy: 0.9648 - val_loss: 0.1681 - val_accuracy: 0.9579 - 115ms/epoch - 14ms/step\n",
      "Epoch 89/101\n",
      "8/8 - 0s - loss: 0.0933 - accuracy: 0.9766 - val_loss: 0.1683 - val_accuracy: 0.9684 - 117ms/epoch - 15ms/step\n",
      "Epoch 90/101\n",
      "8/8 - 0s - loss: 0.0770 - accuracy: 0.9883 - val_loss: 0.1705 - val_accuracy: 0.9684 - 101ms/epoch - 13ms/step\n",
      "Epoch 91/101\n",
      "8/8 - 0s - loss: 0.0878 - accuracy: 0.9805 - val_loss: 0.1717 - val_accuracy: 0.9684 - 121ms/epoch - 15ms/step\n",
      "Epoch 92/101\n",
      "8/8 - 0s - loss: 0.0973 - accuracy: 0.9727 - val_loss: 0.1707 - val_accuracy: 0.9789 - 117ms/epoch - 15ms/step\n",
      "Epoch 93/101\n",
      "8/8 - 0s - loss: 0.0897 - accuracy: 0.9766 - val_loss: 0.1693 - val_accuracy: 0.9684 - 115ms/epoch - 14ms/step\n",
      "Epoch 94/101\n",
      "8/8 - 0s - loss: 0.1014 - accuracy: 0.9805 - val_loss: 0.1683 - val_accuracy: 0.9684 - 107ms/epoch - 13ms/step\n",
      "Epoch 95/101\n",
      "8/8 - 0s - loss: 0.1112 - accuracy: 0.9805 - val_loss: 0.1683 - val_accuracy: 0.9684 - 109ms/epoch - 14ms/step\n",
      "Epoch 96/101\n",
      "8/8 - 0s - loss: 0.1336 - accuracy: 0.9648 - val_loss: 0.1664 - val_accuracy: 0.9684 - 110ms/epoch - 14ms/step\n",
      "Epoch 97/101\n",
      "8/8 - 0s - loss: 0.0813 - accuracy: 0.9883 - val_loss: 0.1685 - val_accuracy: 0.9579 - 114ms/epoch - 14ms/step\n",
      "Epoch 98/101\n",
      "8/8 - 0s - loss: 0.0954 - accuracy: 0.9766 - val_loss: 0.1652 - val_accuracy: 0.9684 - 129ms/epoch - 16ms/step\n",
      "Epoch 99/101\n",
      "8/8 - 0s - loss: 0.0860 - accuracy: 0.9844 - val_loss: 0.1652 - val_accuracy: 0.9684 - 130ms/epoch - 16ms/step\n",
      "Epoch 100/101\n",
      "8/8 - 0s - loss: 0.1007 - accuracy: 0.9727 - val_loss: 0.1651 - val_accuracy: 0.9579 - 132ms/epoch - 16ms/step\n",
      "Epoch 101/101\n",
      "8/8 - 0s - loss: 0.0989 - accuracy: 0.9766 - val_loss: 0.1652 - val_accuracy: 0.9684 - 113ms/epoch - 14ms/step\n"
     ]
    }
   ],
   "source": [
    "history = model.fit(X_train, y_train, \n",
    "                    validation_data=[X_test, y_test],\n",
    "                    epochs=EPOCHS,\n",
    "                    verbose=2,\n",
    "                    batch_size=BATCH_SIZE\n",
    "                    )"
   ]
  },
  {
   "cell_type": "code",
   "execution_count": 812,
   "metadata": {},
   "outputs": [],
   "source": [
    "loss_df = pd.DataFrame(history.history)"
   ]
  },
  {
   "cell_type": "code",
   "execution_count": 813,
   "metadata": {},
   "outputs": [
    {
     "data": {
      "text/html": [
       "<div>\n",
       "<style scoped>\n",
       "    .dataframe tbody tr th:only-of-type {\n",
       "        vertical-align: middle;\n",
       "    }\n",
       "\n",
       "    .dataframe tbody tr th {\n",
       "        vertical-align: top;\n",
       "    }\n",
       "\n",
       "    .dataframe thead th {\n",
       "        text-align: right;\n",
       "    }\n",
       "</style>\n",
       "<table border=\"1\" class=\"dataframe\">\n",
       "  <thead>\n",
       "    <tr style=\"text-align: right;\">\n",
       "      <th></th>\n",
       "      <th>loss</th>\n",
       "      <th>accuracy</th>\n",
       "      <th>val_loss</th>\n",
       "      <th>val_accuracy</th>\n",
       "    </tr>\n",
       "  </thead>\n",
       "  <tbody>\n",
       "    <tr>\n",
       "      <th>0</th>\n",
       "      <td>0.872887</td>\n",
       "      <td>0.535156</td>\n",
       "      <td>0.633917</td>\n",
       "      <td>0.726316</td>\n",
       "    </tr>\n",
       "    <tr>\n",
       "      <th>1</th>\n",
       "      <td>0.733099</td>\n",
       "      <td>0.589844</td>\n",
       "      <td>0.589639</td>\n",
       "      <td>0.757895</td>\n",
       "    </tr>\n",
       "    <tr>\n",
       "      <th>2</th>\n",
       "      <td>0.687624</td>\n",
       "      <td>0.648438</td>\n",
       "      <td>0.550533</td>\n",
       "      <td>0.768421</td>\n",
       "    </tr>\n",
       "    <tr>\n",
       "      <th>3</th>\n",
       "      <td>0.586597</td>\n",
       "      <td>0.738281</td>\n",
       "      <td>0.519932</td>\n",
       "      <td>0.789474</td>\n",
       "    </tr>\n",
       "    <tr>\n",
       "      <th>4</th>\n",
       "      <td>0.537792</td>\n",
       "      <td>0.738281</td>\n",
       "      <td>0.491547</td>\n",
       "      <td>0.810526</td>\n",
       "    </tr>\n",
       "  </tbody>\n",
       "</table>\n",
       "</div>"
      ],
      "text/plain": [
       "       loss  accuracy  val_loss  val_accuracy\n",
       "0  0.872887  0.535156  0.633917      0.726316\n",
       "1  0.733099  0.589844  0.589639      0.757895\n",
       "2  0.687624  0.648438  0.550533      0.768421\n",
       "3  0.586597  0.738281  0.519932      0.789474\n",
       "4  0.537792  0.738281  0.491547      0.810526"
      ]
     },
     "execution_count": 813,
     "metadata": {},
     "output_type": "execute_result"
    }
   ],
   "source": [
    "loss_df.head()"
   ]
  },
  {
   "cell_type": "code",
   "execution_count": 814,
   "metadata": {},
   "outputs": [
    {
     "data": {
      "image/png": "[encoded data removed]",
      "text/plain": [
       "<Figure size 1500x800 with 1 Axes>"
      ]
     },
     "metadata": {},
     "output_type": "display_data"
    }
   ],
   "source": [
    "loss_df.plot(y = ['loss', 'val_loss']);"
   ]
  },
  {
   "cell_type": "code",
   "execution_count": 815,
   "metadata": {},
   "outputs": [
    {
     "data": {
      "image/png": "[encoded data removed]",
      "text/plain": [
       "<Figure size 1500x800 with 1 Axes>"
      ]
     },
     "metadata": {},
     "output_type": "display_data"
    }
   ],
   "source": [
    "loss_df.plot(y = ['accuracy', 'val_accuracy']);"
   ]
  },
  {
   "cell_type": "code",
   "execution_count": 816,
   "metadata": {},
   "outputs": [
    {
     "name": "stdout",
     "output_type": "stream",
     "text": [
      "8/8 [==============================] - 0s 9ms/step - loss: 0.0563 - accuracy: 0.9961\n"
     ]
    },
    {
     "data": {
      "text/plain": [
       "[0.05626126006245613, 0.99609375]"
      ]
     },
     "execution_count": 816,
     "metadata": {},
     "output_type": "execute_result"
    }
   ],
   "source": [
    "model.evaluate(X_train, y_train)"
   ]
  },
  {
   "cell_type": "code",
   "execution_count": 817,
   "metadata": {},
   "outputs": [
    {
     "name": "stdout",
     "output_type": "stream",
     "text": [
      "3/3 [==============================] - 0s 16ms/step - loss: 0.1652 - accuracy: 0.9684\n"
     ]
    },
    {
     "data": {
      "text/plain": [
       "[0.16520895063877106, 0.9684210419654846]"
      ]
     },
     "execution_count": 817,
     "metadata": {},
     "output_type": "execute_result"
    }
   ],
   "source": [
    "model.evaluate(X_test, y_test)"
   ]
  },
  {
   "cell_type": "code",
   "execution_count": 818,
   "metadata": {},
   "outputs": [
    {
     "name": "stdout",
     "output_type": "stream",
     "text": [
      "8/8 [==============================] - 0s 8ms/step\n"
     ]
    }
   ],
   "source": [
    "y_pred = model.predict(X_train)"
   ]
  },
  {
   "cell_type": "code",
   "execution_count": 819,
   "metadata": {},
   "outputs": [
    {
     "data": {
      "text/plain": [
       "(256,)"
      ]
     },
     "execution_count": 819,
     "metadata": {},
     "output_type": "execute_result"
    }
   ],
   "source": [
    "np.argmax(y_pred, axis = 1).shape"
   ]
  },
  {
   "cell_type": "code",
   "execution_count": 820,
   "metadata": {},
   "outputs": [
    {
     "data": {
      "text/plain": [
       "(256, 2)"
      ]
     },
     "execution_count": 820,
     "metadata": {},
     "output_type": "execute_result"
    }
   ],
   "source": [
    "y_train.shape"
   ]
  },
  {
   "cell_type": "code",
   "execution_count": 821,
   "metadata": {},
   "outputs": [
    {
     "data": {
      "text/plain": [
       "0.99609375"
      ]
     },
     "execution_count": 821,
     "metadata": {},
     "output_type": "execute_result"
    }
   ],
   "source": [
    "accuracy_score (np.argmax(y_pred, axis = 1), np.argmax(y_train, axis = 1))"
   ]
  },
  {
   "cell_type": "code",
   "execution_count": 822,
   "metadata": {},
   "outputs": [
    {
     "name": "stdout",
     "output_type": "stream",
     "text": [
      "3/3 [==============================] - 0s 13ms/step\n"
     ]
    },
    {
     "data": {
      "text/plain": [
       "0.968421052631579"
      ]
     },
     "execution_count": 822,
     "metadata": {},
     "output_type": "execute_result"
    }
   ],
   "source": [
    "y_pred = model.predict(X_test)\n",
    "accuracy_score (np.argmax(y_pred, axis = 1), np.argmax(y_test, axis = 1))"
   ]
  },
  {
   "cell_type": "code",
   "execution_count": 823,
   "metadata": {},
   "outputs": [
    {
     "name": "stdout",
     "output_type": "stream",
     "text": [
      "Model: \"model_17\"\n",
      "_________________________________________________________________\n",
      " Layer (type)                Output Shape              Param #   \n",
      "=================================================================\n",
      " input_19 (InputLayer)       [(None, 34)]              0         \n",
      "                                                                 \n",
      " dense_52 (Dense)            (None, 18)                630       \n",
      "                                                                 \n",
      " batch_normalization_34 (Bat  (None, 18)               72        \n",
      " chNormalization)                                                \n",
      "                                                                 \n",
      " dropout_34 (Dropout)        (None, 18)                0         \n",
      "                                                                 \n",
      " dense_53 (Dense)            (None, 9)                 171       \n",
      "                                                                 \n",
      " batch_normalization_35 (Bat  (None, 9)                36        \n",
      " chNormalization)                                                \n",
      "                                                                 \n",
      " dropout_35 (Dropout)        (None, 9)                 0         \n",
      "                                                                 \n",
      " dense_54 (Dense)            (None, 2)                 20        \n",
      "                                                                 \n",
      "=================================================================\n",
      "Total params: 929\n",
      "Trainable params: 875\n",
      "Non-trainable params: 54\n",
      "_________________________________________________________________\n"
     ]
    }
   ],
   "source": [
    "model.summary()"
   ]
  },
  {
   "cell_type": "code",
   "execution_count": 824,
   "metadata": {},
   "outputs": [
    {
     "data": {
      "image/png": "[encoded data removed]",
      "text/plain": [
       "<Figure size 1500x600 with 2 Axes>"
      ]
     },
     "metadata": {},
     "output_type": "display_data"
    }
   ],
   "source": [
    "fig, axes = plt.subplots(1,2 , figsize = (15,6))\n",
    "\n",
    "l_range = 50\n",
    "\n",
    "ax = axes[0]\n",
    "y1 = loss_df.columns[0]\n",
    "y2 = loss_df.columns[2]\n",
    "\n",
    "loss_df.plot( y = [y1, y2], ax = ax)\n",
    "\n",
    "# little beautification\n",
    "txtstr = \"Errors: \\n  Start : {:7.4f}\\n   End : {:7.4f}\".format(loss_df.iloc[0][y1],\n",
    "                                                                loss_df.iloc[-1][y2]) #text to plot\n",
    "\n",
    "# properties  matplotlib.patch.Patch \n",
    "props = dict(boxstyle='round', facecolor='aqua', alpha=0.5)\n",
    "\n",
    "# place a text box in upper left in axes coords\n",
    "\n",
    "ax.text(0.6, 0.95, txtstr, transform=ax.transAxes, fontsize=14,\n",
    "        verticalalignment='top', bbox=props)\n",
    "\n",
    "ax.set_xlabel(\"Epochs\")\n",
    "ax.set_ylabel(\"Error\")\n",
    "ax.set_title('Overall')\n",
    "ax.grid();\n",
    "\n",
    "ax = axes[1]\n",
    "y1 = loss_df.columns[1]\n",
    "y2 = loss_df.columns[3]\n",
    "loss_df[-l_range:].plot( y = [y1, y2], ax = ax)\n",
    "\n",
    "# little beautification\n",
    "txtstr = \"Errors: \\n  Start : {:7.4f}\\n   End : {:7.4f}\".format(loss_df.iloc[0][y1],\n",
    "                                                                loss_df.iloc[-1][y2]) #text to plot\n",
    "\n",
    "# place a text box in upper left in axes coords\n",
    "\n",
    "ax.text(0.6, 0.95, txtstr, transform=ax.transAxes, fontsize=14,\n",
    "        verticalalignment='top', bbox=props)\n",
    "\n",
    "ax.set_xlabel(\"Epochs\")\n",
    "ax.set_ylabel(\"Metrics\")\n",
    "ax.set_title(y1.capitalize())\n",
    "ax.grid();\n",
    "plt.tight_layout()"
   ]
  },
  {
   "cell_type": "code",
   "execution_count": 825,
   "metadata": {},
   "outputs": [
    {
     "data": {
      "text/html": [
       "<div>\n",
       "<style scoped>\n",
       "    .dataframe tbody tr th:only-of-type {\n",
       "        vertical-align: middle;\n",
       "    }\n",
       "\n",
       "    .dataframe tbody tr th {\n",
       "        vertical-align: top;\n",
       "    }\n",
       "\n",
       "    .dataframe thead th {\n",
       "        text-align: right;\n",
       "    }\n",
       "</style>\n",
       "<table border=\"1\" class=\"dataframe\">\n",
       "  <thead>\n",
       "    <tr style=\"text-align: right;\">\n",
       "      <th></th>\n",
       "      <th>loss</th>\n",
       "      <th>accuracy</th>\n",
       "      <th>val_loss</th>\n",
       "      <th>val_accuracy</th>\n",
       "    </tr>\n",
       "  </thead>\n",
       "  <tbody>\n",
       "    <tr>\n",
       "      <th>84</th>\n",
       "      <td>0.095455</td>\n",
       "      <td>0.976562</td>\n",
       "      <td>0.164787</td>\n",
       "      <td>0.968421</td>\n",
       "    </tr>\n",
       "  </tbody>\n",
       "</table>\n",
       "</div>"
      ],
      "text/plain": [
       "        loss  accuracy  val_loss  val_accuracy\n",
       "84  0.095455  0.976562  0.164787      0.968421"
      ]
     },
     "execution_count": 825,
     "metadata": {},
     "output_type": "execute_result"
    }
   ],
   "source": [
    "loss_df[loss_df['val_loss'] == loss_df['val_loss'].min()]"
   ]
  },
  {
   "cell_type": "code",
   "execution_count": 826,
   "metadata": {},
   "outputs": [],
   "source": [
    "es_check_point = tf.keras.callbacks.EarlyStopping(\n",
    "    monitor='val_loss',\n",
    "    patience=PATIENCE,\n",
    "    verbose=1,\n",
    "    restore_best_weights=True,\n",
    "    start_from_epoch=0,\n",
    ")\n"
   ]
  },
  {
   "cell_type": "code",
   "execution_count": 827,
   "metadata": {},
   "outputs": [
    {
     "name": "stdout",
     "output_type": "stream",
     "text": [
      "Epoch 1/101\n",
      "8/8 - 0s - loss: 0.1044 - accuracy: 0.9688 - val_loss: 0.1695 - val_accuracy: 0.9684 - 269ms/epoch - 34ms/step\n",
      "Epoch 2/101\n",
      "8/8 - 0s - loss: 0.1015 - accuracy: 0.9727 - val_loss: 0.1708 - val_accuracy: 0.9684 - 142ms/epoch - 18ms/step\n",
      "Epoch 3/101\n",
      "8/8 - 0s - loss: 0.0631 - accuracy: 0.9883 - val_loss: 0.1723 - val_accuracy: 0.9684 - 135ms/epoch - 17ms/step\n",
      "Epoch 4/101\n",
      "8/8 - 0s - loss: 0.0845 - accuracy: 0.9688 - val_loss: 0.1686 - val_accuracy: 0.9684 - 169ms/epoch - 21ms/step\n",
      "Epoch 5/101\n",
      "8/8 - 0s - loss: 0.0831 - accuracy: 0.9727 - val_loss: 0.1726 - val_accuracy: 0.9684 - 122ms/epoch - 15ms/step\n",
      "Epoch 6/101\n",
      "8/8 - 0s - loss: 0.0822 - accuracy: 0.9805 - val_loss: 0.1713 - val_accuracy: 0.9579 - 141ms/epoch - 18ms/step\n",
      "Epoch 7/101\n",
      "8/8 - 0s - loss: 0.1372 - accuracy: 0.9609 - val_loss: 0.1733 - val_accuracy: 0.9684 - 190ms/epoch - 24ms/step\n",
      "Epoch 8/101\n",
      "8/8 - 0s - loss: 0.1025 - accuracy: 0.9688 - val_loss: 0.1728 - val_accuracy: 0.9684 - 144ms/epoch - 18ms/step\n",
      "Epoch 9/101\n",
      "8/8 - 0s - loss: 0.0617 - accuracy: 0.9922 - val_loss: 0.1688 - val_accuracy: 0.9789 - 186ms/epoch - 23ms/step\n",
      "Epoch 10/101\n",
      "8/8 - 0s - loss: 0.1062 - accuracy: 0.9688 - val_loss: 0.1735 - val_accuracy: 0.9579 - 145ms/epoch - 18ms/step\n",
      "Epoch 11/101\n",
      "8/8 - 0s - loss: 0.0986 - accuracy: 0.9766 - val_loss: 0.1693 - val_accuracy: 0.9684 - 153ms/epoch - 19ms/step\n",
      "Epoch 12/101\n",
      "8/8 - 0s - loss: 0.1713 - accuracy: 0.9688 - val_loss: 0.1675 - val_accuracy: 0.9579 - 145ms/epoch - 18ms/step\n",
      "Epoch 13/101\n",
      "8/8 - 0s - loss: 0.0820 - accuracy: 0.9922 - val_loss: 0.1658 - val_accuracy: 0.9684 - 146ms/epoch - 18ms/step\n",
      "Epoch 14/101\n",
      "8/8 - 0s - loss: 0.0736 - accuracy: 0.9805 - val_loss: 0.1721 - val_accuracy: 0.9474 - 149ms/epoch - 19ms/step\n",
      "Epoch 15/101\n",
      "8/8 - 0s - loss: 0.0822 - accuracy: 0.9688 - val_loss: 0.1722 - val_accuracy: 0.9474 - 129ms/epoch - 16ms/step\n",
      "Epoch 16/101\n",
      "8/8 - 0s - loss: 0.0871 - accuracy: 0.9883 - val_loss: 0.1672 - val_accuracy: 0.9579 - 160ms/epoch - 20ms/step\n",
      "Epoch 17/101\n",
      "8/8 - 0s - loss: 0.1008 - accuracy: 0.9844 - val_loss: 0.1702 - val_accuracy: 0.9684 - 105ms/epoch - 13ms/step\n",
      "Epoch 18/101\n",
      "8/8 - 0s - loss: 0.0754 - accuracy: 0.9805 - val_loss: 0.1800 - val_accuracy: 0.9474 - 158ms/epoch - 20ms/step\n",
      "Epoch 19/101\n",
      "8/8 - 0s - loss: 0.0623 - accuracy: 0.9922 - val_loss: 0.1807 - val_accuracy: 0.9579 - 151ms/epoch - 19ms/step\n",
      "Epoch 20/101\n",
      "8/8 - 0s - loss: 0.0826 - accuracy: 0.9805 - val_loss: 0.1710 - val_accuracy: 0.9579 - 98ms/epoch - 12ms/step\n",
      "Epoch 21/101\n",
      "8/8 - 0s - loss: 0.0788 - accuracy: 0.9805 - val_loss: 0.1761 - val_accuracy: 0.9474 - 140ms/epoch - 18ms/step\n",
      "Epoch 22/101\n",
      "8/8 - 0s - loss: 0.1027 - accuracy: 0.9688 - val_loss: 0.1756 - val_accuracy: 0.9474 - 90ms/epoch - 11ms/step\n",
      "Epoch 23/101\n",
      "Restoring model weights from the end of the best epoch: 13.\n",
      "8/8 - 0s - loss: 0.0622 - accuracy: 0.9844 - val_loss: 0.1715 - val_accuracy: 0.9579 - 138ms/epoch - 17ms/step\n",
      "Epoch 23: early stopping\n"
     ]
    }
   ],
   "source": [
    "history = model.fit(X_train, y_train, \n",
    "                    validation_data=[X_test, y_test],\n",
    "                    epochs=EPOCHS,\n",
    "                    verbose=2,\n",
    "                    batch_size=BATCH_SIZE,\n",
    "                    callbacks=[ es_check_point ]\n",
    "                    )"
   ]
  },
  {
   "cell_type": "code",
   "execution_count": 828,
   "metadata": {},
   "outputs": [
    {
     "name": "stdout",
     "output_type": "stream",
     "text": [
      "8/8 [==============================] - 0s 4ms/step - loss: 0.0516 - accuracy: 0.9961\n"
     ]
    },
    {
     "data": {
      "text/plain": [
       "[0.05164308100938797, 0.99609375]"
      ]
     },
     "execution_count": 828,
     "metadata": {},
     "output_type": "execute_result"
    }
   ],
   "source": [
    "model.evaluate(X_train, y_train)"
   ]
  },
  {
   "cell_type": "code",
   "execution_count": 829,
   "metadata": {},
   "outputs": [
    {
     "name": "stdout",
     "output_type": "stream",
     "text": [
      "3/3 [==============================] - 0s 9ms/step - loss: 0.1658 - accuracy: 0.9684\n"
     ]
    },
    {
     "data": {
      "text/plain": [
       "[0.16583438217639923, 0.9684210419654846]"
      ]
     },
     "execution_count": 829,
     "metadata": {},
     "output_type": "execute_result"
    }
   ],
   "source": [
    "model.evaluate(X_test, y_test)"
   ]
  }
 ],
 "metadata": {
  "accelerator": "GPU",
  "colab": {
   "name": "S05a_one_hidden_layer_with_tanh_wip.ipynb",
   "provenance": []
  },
  "kernelspec": {
   "display_name": "Python 3 (ipykernel)",
   "language": "python",
   "name": "python3"
  },
  "language_info": {
   "codemirror_mode": {
    "name": "ipython",
    "version": 3
   },
   "file_extension": ".py",
   "mimetype": "text/x-python",
   "name": "python",
   "nbconvert_exporter": "python",
   "pygments_lexer": "ipython3",
   "version": "3.11.5"
  }
 },
 "nbformat": 4,
 "nbformat_minor": 4
}
