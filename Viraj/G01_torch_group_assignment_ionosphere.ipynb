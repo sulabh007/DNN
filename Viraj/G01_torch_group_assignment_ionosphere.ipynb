{
 "cells": [
  {
   "cell_type": "markdown",
   "metadata": {
    "id": "deSnZmVy02pF"
   },
   "source": [
    "\n",
    "# Deep Neural Networks\n",
    "\n",
    "## Assignment\n",
    "### Neural Network with :\n",
    "\n",
    "- **Ionosphere**\n",
    "- **binary-class**"
   ]
  },
  {
   "cell_type": "code",
   "execution_count": 29,
   "metadata": {
    "id": "rt0pfyeA02pK"
   },
   "outputs": [],
   "source": [
    "###-----------------\n",
    "### Import Libraries\n",
    "###-----------------\n",
    "\n",
    "import os\n",
    "import numpy as np\n",
    "import pandas as pd\n",
    "import matplotlib.pyplot as plt\n",
    "\n",
    "from collections.abc import Callable\n",
    "from typing import Literal\n",
    "\n",
    "from sklearn import datasets\n",
    "from sklearn.model_selection import train_test_split\n",
    "from sklearn.metrics import accuracy_score, confusion_matrix, classification_report, ConfusionMatrixDisplay\n",
    "from sklearn.preprocessing import StandardScaler\n",
    "\n",
    "import torch\n",
    "import torch.nn as nn\n",
    "import torch.nn.functional as F\n",
    "from torch.autograd import Variable\n",
    "\n",
    "%matplotlib inline"
   ]
  },
  {
   "cell_type": "code",
   "execution_count": 30,
   "metadata": {
    "id": "__T9cczP02pL"
   },
   "outputs": [],
   "source": [
    "###----------------\n",
    "### Some parameters\n",
    "###----------------\n",
    "\n",
    "inpDir = '../../input'\n",
    "outDir = '../output'\n",
    "subDir = 'Ionosphere'\n",
    "\n",
    "RANDOM_STATE = 24 # REMEMBER: to remove at the time of promotion to production\n",
    "np.random.seed(RANDOM_STATE) # Set Random Seed for reproducible  results\n",
    "\n",
    "EPOCHS = 5001 # number of epochs\n",
    "ALPHA = 0.001 # learning rate\n",
    "NUM_SAMPLES = 1280 # How many samples we want to generate \n",
    "NOISE = 0.2 # Noise to be introduced in the data\n",
    "TEST_SIZE = 0.2\n",
    "\n",
    "# parameters for Matplotlib\n",
    "params = {'legend.fontsize': 'x-large',\n",
    "          'figure.figsize': (15, 8),\n",
    "          'axes.labelsize': 'x-large',\n",
    "          'axes.titlesize':'x-large',\n",
    "          'xtick.labelsize':'x-large',\n",
    "          'ytick.labelsize':'x-large'\n",
    "         }\n",
    "\n",
    "CMAP = 'coolwarm' # plt.cm.Spectral\n",
    "\n",
    "plt.rcParams.update(params)"
   ]
  },
  {
   "cell_type": "markdown",
   "metadata": {
    "id": "7bhVN20X02pN"
   },
   "source": [
    "## Generate Data Set\n",
    "Ionosphere Dataset"
   ]
  },
  {
   "cell_type": "code",
   "execution_count": 31,
   "metadata": {
    "id": "LXZ37P4G02pP"
   },
   "outputs": [
    {
     "data": {
      "text/html": [
       "<div>\n",
       "<style scoped>\n",
       "    .dataframe tbody tr th:only-of-type {\n",
       "        vertical-align: middle;\n",
       "    }\n",
       "\n",
       "    .dataframe tbody tr th {\n",
       "        vertical-align: top;\n",
       "    }\n",
       "\n",
       "    .dataframe thead th {\n",
       "        text-align: right;\n",
       "    }\n",
       "</style>\n",
       "<table border=\"1\" class=\"dataframe\">\n",
       "  <thead>\n",
       "    <tr style=\"text-align: right;\">\n",
       "      <th></th>\n",
       "      <th>0</th>\n",
       "      <th>1</th>\n",
       "      <th>2</th>\n",
       "      <th>3</th>\n",
       "      <th>4</th>\n",
       "      <th>5</th>\n",
       "      <th>6</th>\n",
       "      <th>7</th>\n",
       "      <th>8</th>\n",
       "      <th>9</th>\n",
       "      <th>...</th>\n",
       "      <th>25</th>\n",
       "      <th>26</th>\n",
       "      <th>27</th>\n",
       "      <th>28</th>\n",
       "      <th>29</th>\n",
       "      <th>30</th>\n",
       "      <th>31</th>\n",
       "      <th>32</th>\n",
       "      <th>33</th>\n",
       "      <th>34</th>\n",
       "    </tr>\n",
       "  </thead>\n",
       "  <tbody>\n",
       "    <tr>\n",
       "      <th>0</th>\n",
       "      <td>1</td>\n",
       "      <td>0</td>\n",
       "      <td>0.99539</td>\n",
       "      <td>-0.05889</td>\n",
       "      <td>0.85243</td>\n",
       "      <td>0.02306</td>\n",
       "      <td>0.83398</td>\n",
       "      <td>-0.37708</td>\n",
       "      <td>1.00000</td>\n",
       "      <td>0.03760</td>\n",
       "      <td>...</td>\n",
       "      <td>-0.51171</td>\n",
       "      <td>0.41078</td>\n",
       "      <td>-0.46168</td>\n",
       "      <td>0.21266</td>\n",
       "      <td>-0.34090</td>\n",
       "      <td>0.42267</td>\n",
       "      <td>-0.54487</td>\n",
       "      <td>0.18641</td>\n",
       "      <td>-0.45300</td>\n",
       "      <td>g</td>\n",
       "    </tr>\n",
       "    <tr>\n",
       "      <th>1</th>\n",
       "      <td>1</td>\n",
       "      <td>0</td>\n",
       "      <td>1.00000</td>\n",
       "      <td>-0.18829</td>\n",
       "      <td>0.93035</td>\n",
       "      <td>-0.36156</td>\n",
       "      <td>-0.10868</td>\n",
       "      <td>-0.93597</td>\n",
       "      <td>1.00000</td>\n",
       "      <td>-0.04549</td>\n",
       "      <td>...</td>\n",
       "      <td>-0.26569</td>\n",
       "      <td>-0.20468</td>\n",
       "      <td>-0.18401</td>\n",
       "      <td>-0.19040</td>\n",
       "      <td>-0.11593</td>\n",
       "      <td>-0.16626</td>\n",
       "      <td>-0.06288</td>\n",
       "      <td>-0.13738</td>\n",
       "      <td>-0.02447</td>\n",
       "      <td>b</td>\n",
       "    </tr>\n",
       "    <tr>\n",
       "      <th>2</th>\n",
       "      <td>1</td>\n",
       "      <td>0</td>\n",
       "      <td>1.00000</td>\n",
       "      <td>-0.03365</td>\n",
       "      <td>1.00000</td>\n",
       "      <td>0.00485</td>\n",
       "      <td>1.00000</td>\n",
       "      <td>-0.12062</td>\n",
       "      <td>0.88965</td>\n",
       "      <td>0.01198</td>\n",
       "      <td>...</td>\n",
       "      <td>-0.40220</td>\n",
       "      <td>0.58984</td>\n",
       "      <td>-0.22145</td>\n",
       "      <td>0.43100</td>\n",
       "      <td>-0.17365</td>\n",
       "      <td>0.60436</td>\n",
       "      <td>-0.24180</td>\n",
       "      <td>0.56045</td>\n",
       "      <td>-0.38238</td>\n",
       "      <td>g</td>\n",
       "    </tr>\n",
       "    <tr>\n",
       "      <th>3</th>\n",
       "      <td>1</td>\n",
       "      <td>0</td>\n",
       "      <td>1.00000</td>\n",
       "      <td>-0.45161</td>\n",
       "      <td>1.00000</td>\n",
       "      <td>1.00000</td>\n",
       "      <td>0.71216</td>\n",
       "      <td>-1.00000</td>\n",
       "      <td>0.00000</td>\n",
       "      <td>0.00000</td>\n",
       "      <td>...</td>\n",
       "      <td>0.90695</td>\n",
       "      <td>0.51613</td>\n",
       "      <td>1.00000</td>\n",
       "      <td>1.00000</td>\n",
       "      <td>-0.20099</td>\n",
       "      <td>0.25682</td>\n",
       "      <td>1.00000</td>\n",
       "      <td>-0.32382</td>\n",
       "      <td>1.00000</td>\n",
       "      <td>b</td>\n",
       "    </tr>\n",
       "    <tr>\n",
       "      <th>4</th>\n",
       "      <td>1</td>\n",
       "      <td>0</td>\n",
       "      <td>1.00000</td>\n",
       "      <td>-0.02401</td>\n",
       "      <td>0.94140</td>\n",
       "      <td>0.06531</td>\n",
       "      <td>0.92106</td>\n",
       "      <td>-0.23255</td>\n",
       "      <td>0.77152</td>\n",
       "      <td>-0.16399</td>\n",
       "      <td>...</td>\n",
       "      <td>-0.65158</td>\n",
       "      <td>0.13290</td>\n",
       "      <td>-0.53206</td>\n",
       "      <td>0.02431</td>\n",
       "      <td>-0.62197</td>\n",
       "      <td>-0.05707</td>\n",
       "      <td>-0.59573</td>\n",
       "      <td>-0.04608</td>\n",
       "      <td>-0.65697</td>\n",
       "      <td>g</td>\n",
       "    </tr>\n",
       "  </tbody>\n",
       "</table>\n",
       "<p>5 rows × 35 columns</p>\n",
       "</div>"
      ],
      "text/plain": [
       "   0   1        2        3        4        5        6        7        8   \\\n",
       "0   1   0  0.99539 -0.05889  0.85243  0.02306  0.83398 -0.37708  1.00000   \n",
       "1   1   0  1.00000 -0.18829  0.93035 -0.36156 -0.10868 -0.93597  1.00000   \n",
       "2   1   0  1.00000 -0.03365  1.00000  0.00485  1.00000 -0.12062  0.88965   \n",
       "3   1   0  1.00000 -0.45161  1.00000  1.00000  0.71216 -1.00000  0.00000   \n",
       "4   1   0  1.00000 -0.02401  0.94140  0.06531  0.92106 -0.23255  0.77152   \n",
       "\n",
       "        9   ...       25       26       27       28       29       30  \\\n",
       "0  0.03760  ... -0.51171  0.41078 -0.46168  0.21266 -0.34090  0.42267   \n",
       "1 -0.04549  ... -0.26569 -0.20468 -0.18401 -0.19040 -0.11593 -0.16626   \n",
       "2  0.01198  ... -0.40220  0.58984 -0.22145  0.43100 -0.17365  0.60436   \n",
       "3  0.00000  ...  0.90695  0.51613  1.00000  1.00000 -0.20099  0.25682   \n",
       "4 -0.16399  ... -0.65158  0.13290 -0.53206  0.02431 -0.62197 -0.05707   \n",
       "\n",
       "        31       32       33  34  \n",
       "0 -0.54487  0.18641 -0.45300   g  \n",
       "1 -0.06288 -0.13738 -0.02447   b  \n",
       "2 -0.24180  0.56045 -0.38238   g  \n",
       "3  1.00000 -0.32382  1.00000   b  \n",
       "4 -0.59573 -0.04608 -0.65697   g  \n",
       "\n",
       "[5 rows x 35 columns]"
      ]
     },
     "execution_count": 31,
     "metadata": {},
     "output_type": "execute_result"
    }
   ],
   "source": [
    "data_df = pd.read_csv('ionosphere.data', header=None)\n",
    "data_df.head()"
   ]
  },
  {
   "cell_type": "code",
   "execution_count": 32,
   "metadata": {},
   "outputs": [
    {
     "data": {
      "text/plain": [
       "(351, 35)"
      ]
     },
     "execution_count": 32,
     "metadata": {},
     "output_type": "execute_result"
    }
   ],
   "source": [
    "data_df.shape"
   ]
  },
  {
   "cell_type": "code",
   "execution_count": 33,
   "metadata": {},
   "outputs": [
    {
     "data": {
      "text/plain": [
       "0     0\n",
       "1     0\n",
       "2     0\n",
       "3     0\n",
       "4     0\n",
       "5     0\n",
       "6     0\n",
       "7     0\n",
       "8     0\n",
       "9     0\n",
       "10    0\n",
       "11    0\n",
       "12    0\n",
       "13    0\n",
       "14    0\n",
       "15    0\n",
       "16    0\n",
       "17    0\n",
       "18    0\n",
       "19    0\n",
       "20    0\n",
       "21    0\n",
       "22    0\n",
       "23    0\n",
       "24    0\n",
       "25    0\n",
       "26    0\n",
       "27    0\n",
       "28    0\n",
       "29    0\n",
       "30    0\n",
       "31    0\n",
       "32    0\n",
       "33    0\n",
       "34    0\n",
       "dtype: int64"
      ]
     },
     "execution_count": 33,
     "metadata": {},
     "output_type": "execute_result"
    }
   ],
   "source": [
    "data_df.isnull().sum()"
   ]
  },
  {
   "cell_type": "code",
   "execution_count": 34,
   "metadata": {},
   "outputs": [
    {
     "data": {
      "text/plain": [
       "Index([               0,                1,                2,                3,\n",
       "                      4,                5,                6,                7,\n",
       "                      8,                9,               10,               11,\n",
       "                     12,               13,               14,               15,\n",
       "                     16,               17,               18,               19,\n",
       "                     20,               21,               22,               23,\n",
       "                     24,               25,               26,               27,\n",
       "                     28,               29,               30,               31,\n",
       "                     32,               33, 'Classification'],\n",
       "      dtype='object')"
      ]
     },
     "execution_count": 34,
     "metadata": {},
     "output_type": "execute_result"
    }
   ],
   "source": [
    "data_df = data_df.rename(columns={34: 'Classification'})\n",
    "data_df.columns"
   ]
  },
  {
   "cell_type": "code",
   "execution_count": 35,
   "metadata": {},
   "outputs": [
    {
     "data": {
      "text/plain": [
       "0                 0\n",
       "1                 0\n",
       "2                 0\n",
       "3                 0\n",
       "4                 0\n",
       "5                 0\n",
       "6                 0\n",
       "7                 0\n",
       "8                 0\n",
       "9                 0\n",
       "10                0\n",
       "11                0\n",
       "12                0\n",
       "13                0\n",
       "14                0\n",
       "15                0\n",
       "16                0\n",
       "17                0\n",
       "18                0\n",
       "19                0\n",
       "20                0\n",
       "21                0\n",
       "22                0\n",
       "23                0\n",
       "24                0\n",
       "25                0\n",
       "26                0\n",
       "27                0\n",
       "28                0\n",
       "29                0\n",
       "30                0\n",
       "31                0\n",
       "32                0\n",
       "33                0\n",
       "Classification    0\n",
       "dtype: int64"
      ]
     },
     "execution_count": 35,
     "metadata": {},
     "output_type": "execute_result"
    }
   ],
   "source": [
    "data_df.isna().sum()"
   ]
  },
  {
   "cell_type": "code",
   "execution_count": 36,
   "metadata": {},
   "outputs": [
    {
     "data": {
      "text/html": [
       "<div>\n",
       "<style scoped>\n",
       "    .dataframe tbody tr th:only-of-type {\n",
       "        vertical-align: middle;\n",
       "    }\n",
       "\n",
       "    .dataframe tbody tr th {\n",
       "        vertical-align: top;\n",
       "    }\n",
       "\n",
       "    .dataframe thead th {\n",
       "        text-align: right;\n",
       "    }\n",
       "</style>\n",
       "<table border=\"1\" class=\"dataframe\">\n",
       "  <thead>\n",
       "    <tr style=\"text-align: right;\">\n",
       "      <th></th>\n",
       "      <th>0</th>\n",
       "      <th>1</th>\n",
       "      <th>2</th>\n",
       "      <th>3</th>\n",
       "      <th>4</th>\n",
       "      <th>5</th>\n",
       "      <th>6</th>\n",
       "      <th>7</th>\n",
       "      <th>8</th>\n",
       "      <th>9</th>\n",
       "      <th>...</th>\n",
       "      <th>25</th>\n",
       "      <th>26</th>\n",
       "      <th>27</th>\n",
       "      <th>28</th>\n",
       "      <th>29</th>\n",
       "      <th>30</th>\n",
       "      <th>31</th>\n",
       "      <th>32</th>\n",
       "      <th>33</th>\n",
       "      <th>Classification</th>\n",
       "    </tr>\n",
       "  </thead>\n",
       "  <tbody>\n",
       "    <tr>\n",
       "      <th>0</th>\n",
       "      <td>1</td>\n",
       "      <td>0</td>\n",
       "      <td>0.99539</td>\n",
       "      <td>-0.05889</td>\n",
       "      <td>0.85243</td>\n",
       "      <td>0.02306</td>\n",
       "      <td>0.83398</td>\n",
       "      <td>-0.37708</td>\n",
       "      <td>1.00000</td>\n",
       "      <td>0.03760</td>\n",
       "      <td>...</td>\n",
       "      <td>-0.51171</td>\n",
       "      <td>0.41078</td>\n",
       "      <td>-0.46168</td>\n",
       "      <td>0.21266</td>\n",
       "      <td>-0.34090</td>\n",
       "      <td>0.42267</td>\n",
       "      <td>-0.54487</td>\n",
       "      <td>0.18641</td>\n",
       "      <td>-0.45300</td>\n",
       "      <td>g</td>\n",
       "    </tr>\n",
       "    <tr>\n",
       "      <th>1</th>\n",
       "      <td>1</td>\n",
       "      <td>0</td>\n",
       "      <td>1.00000</td>\n",
       "      <td>-0.18829</td>\n",
       "      <td>0.93035</td>\n",
       "      <td>-0.36156</td>\n",
       "      <td>-0.10868</td>\n",
       "      <td>-0.93597</td>\n",
       "      <td>1.00000</td>\n",
       "      <td>-0.04549</td>\n",
       "      <td>...</td>\n",
       "      <td>-0.26569</td>\n",
       "      <td>-0.20468</td>\n",
       "      <td>-0.18401</td>\n",
       "      <td>-0.19040</td>\n",
       "      <td>-0.11593</td>\n",
       "      <td>-0.16626</td>\n",
       "      <td>-0.06288</td>\n",
       "      <td>-0.13738</td>\n",
       "      <td>-0.02447</td>\n",
       "      <td>b</td>\n",
       "    </tr>\n",
       "    <tr>\n",
       "      <th>2</th>\n",
       "      <td>1</td>\n",
       "      <td>0</td>\n",
       "      <td>1.00000</td>\n",
       "      <td>-0.03365</td>\n",
       "      <td>1.00000</td>\n",
       "      <td>0.00485</td>\n",
       "      <td>1.00000</td>\n",
       "      <td>-0.12062</td>\n",
       "      <td>0.88965</td>\n",
       "      <td>0.01198</td>\n",
       "      <td>...</td>\n",
       "      <td>-0.40220</td>\n",
       "      <td>0.58984</td>\n",
       "      <td>-0.22145</td>\n",
       "      <td>0.43100</td>\n",
       "      <td>-0.17365</td>\n",
       "      <td>0.60436</td>\n",
       "      <td>-0.24180</td>\n",
       "      <td>0.56045</td>\n",
       "      <td>-0.38238</td>\n",
       "      <td>g</td>\n",
       "    </tr>\n",
       "    <tr>\n",
       "      <th>3</th>\n",
       "      <td>1</td>\n",
       "      <td>0</td>\n",
       "      <td>1.00000</td>\n",
       "      <td>-0.45161</td>\n",
       "      <td>1.00000</td>\n",
       "      <td>1.00000</td>\n",
       "      <td>0.71216</td>\n",
       "      <td>-1.00000</td>\n",
       "      <td>0.00000</td>\n",
       "      <td>0.00000</td>\n",
       "      <td>...</td>\n",
       "      <td>0.90695</td>\n",
       "      <td>0.51613</td>\n",
       "      <td>1.00000</td>\n",
       "      <td>1.00000</td>\n",
       "      <td>-0.20099</td>\n",
       "      <td>0.25682</td>\n",
       "      <td>1.00000</td>\n",
       "      <td>-0.32382</td>\n",
       "      <td>1.00000</td>\n",
       "      <td>b</td>\n",
       "    </tr>\n",
       "    <tr>\n",
       "      <th>4</th>\n",
       "      <td>1</td>\n",
       "      <td>0</td>\n",
       "      <td>1.00000</td>\n",
       "      <td>-0.02401</td>\n",
       "      <td>0.94140</td>\n",
       "      <td>0.06531</td>\n",
       "      <td>0.92106</td>\n",
       "      <td>-0.23255</td>\n",
       "      <td>0.77152</td>\n",
       "      <td>-0.16399</td>\n",
       "      <td>...</td>\n",
       "      <td>-0.65158</td>\n",
       "      <td>0.13290</td>\n",
       "      <td>-0.53206</td>\n",
       "      <td>0.02431</td>\n",
       "      <td>-0.62197</td>\n",
       "      <td>-0.05707</td>\n",
       "      <td>-0.59573</td>\n",
       "      <td>-0.04608</td>\n",
       "      <td>-0.65697</td>\n",
       "      <td>g</td>\n",
       "    </tr>\n",
       "  </tbody>\n",
       "</table>\n",
       "<p>5 rows × 35 columns</p>\n",
       "</div>"
      ],
      "text/plain": [
       "   0  1        2        3        4        5        6        7        8  \\\n",
       "0  1  0  0.99539 -0.05889  0.85243  0.02306  0.83398 -0.37708  1.00000   \n",
       "1  1  0  1.00000 -0.18829  0.93035 -0.36156 -0.10868 -0.93597  1.00000   \n",
       "2  1  0  1.00000 -0.03365  1.00000  0.00485  1.00000 -0.12062  0.88965   \n",
       "3  1  0  1.00000 -0.45161  1.00000  1.00000  0.71216 -1.00000  0.00000   \n",
       "4  1  0  1.00000 -0.02401  0.94140  0.06531  0.92106 -0.23255  0.77152   \n",
       "\n",
       "         9  ...       25       26       27       28       29       30  \\\n",
       "0  0.03760  ... -0.51171  0.41078 -0.46168  0.21266 -0.34090  0.42267   \n",
       "1 -0.04549  ... -0.26569 -0.20468 -0.18401 -0.19040 -0.11593 -0.16626   \n",
       "2  0.01198  ... -0.40220  0.58984 -0.22145  0.43100 -0.17365  0.60436   \n",
       "3  0.00000  ...  0.90695  0.51613  1.00000  1.00000 -0.20099  0.25682   \n",
       "4 -0.16399  ... -0.65158  0.13290 -0.53206  0.02431 -0.62197 -0.05707   \n",
       "\n",
       "        31       32       33  Classification  \n",
       "0 -0.54487  0.18641 -0.45300               g  \n",
       "1 -0.06288 -0.13738 -0.02447               b  \n",
       "2 -0.24180  0.56045 -0.38238               g  \n",
       "3  1.00000 -0.32382  1.00000               b  \n",
       "4 -0.59573 -0.04608 -0.65697               g  \n",
       "\n",
       "[5 rows x 35 columns]"
      ]
     },
     "execution_count": 36,
     "metadata": {},
     "output_type": "execute_result"
    }
   ],
   "source": [
    "data_df.head()"
   ]
  },
  {
   "cell_type": "code",
   "execution_count": 37,
   "metadata": {},
   "outputs": [
    {
     "data": {
      "text/plain": [
       "array(['g', 'b'], dtype=object)"
      ]
     },
     "execution_count": 37,
     "metadata": {},
     "output_type": "execute_result"
    }
   ],
   "source": [
    "data_df['Classification'].unique()"
   ]
  },
  {
   "cell_type": "code",
   "execution_count": 38,
   "metadata": {},
   "outputs": [],
   "source": [
    "labels = { 'g' : 'Good', 'b': 'Bad'}"
   ]
  },
  {
   "cell_type": "code",
   "execution_count": 39,
   "metadata": {},
   "outputs": [
    {
     "data": {
      "text/plain": [
       "((351, 34), (351,))"
      ]
     },
     "execution_count": 39,
     "metadata": {},
     "output_type": "execute_result"
    }
   ],
   "source": [
    "features_df = data_df.drop('Classification', axis = 1) # drop label col\n",
    "\n",
    "label_df = data_df['Classification'] # labels\n",
    "\n",
    "features_df.shape, label_df.shape"
   ]
  },
  {
   "cell_type": "code",
   "execution_count": 40,
   "metadata": {},
   "outputs": [
    {
     "data": {
      "text/html": [
       "<div>\n",
       "<style scoped>\n",
       "    .dataframe tbody tr th:only-of-type {\n",
       "        vertical-align: middle;\n",
       "    }\n",
       "\n",
       "    .dataframe tbody tr th {\n",
       "        vertical-align: top;\n",
       "    }\n",
       "\n",
       "    .dataframe thead th {\n",
       "        text-align: right;\n",
       "    }\n",
       "</style>\n",
       "<table border=\"1\" class=\"dataframe\">\n",
       "  <thead>\n",
       "    <tr style=\"text-align: right;\">\n",
       "      <th></th>\n",
       "      <th>b</th>\n",
       "      <th>g</th>\n",
       "    </tr>\n",
       "  </thead>\n",
       "  <tbody>\n",
       "    <tr>\n",
       "      <th>0</th>\n",
       "      <td>False</td>\n",
       "      <td>True</td>\n",
       "    </tr>\n",
       "    <tr>\n",
       "      <th>1</th>\n",
       "      <td>True</td>\n",
       "      <td>False</td>\n",
       "    </tr>\n",
       "    <tr>\n",
       "      <th>2</th>\n",
       "      <td>False</td>\n",
       "      <td>True</td>\n",
       "    </tr>\n",
       "    <tr>\n",
       "      <th>3</th>\n",
       "      <td>True</td>\n",
       "      <td>False</td>\n",
       "    </tr>\n",
       "    <tr>\n",
       "      <th>4</th>\n",
       "      <td>False</td>\n",
       "      <td>True</td>\n",
       "    </tr>\n",
       "    <tr>\n",
       "      <th>...</th>\n",
       "      <td>...</td>\n",
       "      <td>...</td>\n",
       "    </tr>\n",
       "    <tr>\n",
       "      <th>346</th>\n",
       "      <td>False</td>\n",
       "      <td>True</td>\n",
       "    </tr>\n",
       "    <tr>\n",
       "      <th>347</th>\n",
       "      <td>False</td>\n",
       "      <td>True</td>\n",
       "    </tr>\n",
       "    <tr>\n",
       "      <th>348</th>\n",
       "      <td>False</td>\n",
       "      <td>True</td>\n",
       "    </tr>\n",
       "    <tr>\n",
       "      <th>349</th>\n",
       "      <td>False</td>\n",
       "      <td>True</td>\n",
       "    </tr>\n",
       "    <tr>\n",
       "      <th>350</th>\n",
       "      <td>False</td>\n",
       "      <td>True</td>\n",
       "    </tr>\n",
       "  </tbody>\n",
       "</table>\n",
       "<p>351 rows × 2 columns</p>\n",
       "</div>"
      ],
      "text/plain": [
       "         b      g\n",
       "0    False   True\n",
       "1     True  False\n",
       "2    False   True\n",
       "3     True  False\n",
       "4    False   True\n",
       "..     ...    ...\n",
       "346  False   True\n",
       "347  False   True\n",
       "348  False   True\n",
       "349  False   True\n",
       "350  False   True\n",
       "\n",
       "[351 rows x 2 columns]"
      ]
     },
     "execution_count": 40,
     "metadata": {},
     "output_type": "execute_result"
    }
   ],
   "source": [
    "label_df = pd.get_dummies(label_df)\n",
    "label_df"
   ]
  },
  {
   "cell_type": "code",
   "execution_count": 41,
   "metadata": {},
   "outputs": [
    {
     "name": "stdout",
     "output_type": "stream",
     "text": [
      "(280, 34) (280, 2) (71, 34) (71, 2)\n"
     ]
    }
   ],
   "source": [
    "#  Split the data in training and test sets to measure performance of the model.\n",
    "X_train, X_test, y_train, y_test = train_test_split(features_df, label_df, \n",
    "                                                    stratify=label_df,\n",
    "                                                    test_size=TEST_SIZE, \n",
    "                                                    random_state=RANDOM_STATE )\n",
    "\n",
    "print (X_train.shape, y_train.shape, X_test.shape, y_test.shape)"
   ]
  },
  {
   "cell_type": "code",
   "execution_count": 42,
   "metadata": {},
   "outputs": [],
   "source": [
    "scaler = StandardScaler() # get the scaler\n",
    "\n",
    "X_train = scaler.fit_transform(X_train) # train\n",
    "X_test = scaler.transform(X_test) # test\n",
    "\n",
    "y_train = y_train.to_numpy() # array\n",
    "y_test = y_test.to_numpy() # convert to array"
   ]
  },
  {
   "cell_type": "code",
   "execution_count": 43,
   "metadata": {},
   "outputs": [
    {
     "data": {
      "text/plain": [
       "array([[False,  True],\n",
       "       [False,  True],\n",
       "       [ True, False],\n",
       "       [ True, False],\n",
       "       [False,  True],\n",
       "       [False,  True],\n",
       "       [False,  True],\n",
       "       [ True, False],\n",
       "       [False,  True],\n",
       "       [False,  True],\n",
       "       [False,  True],\n",
       "       [ True, False],\n",
       "       [False,  True],\n",
       "       [ True, False],\n",
       "       [False,  True],\n",
       "       [False,  True],\n",
       "       [False,  True],\n",
       "       [False,  True],\n",
       "       [False,  True],\n",
       "       [ True, False],\n",
       "       [ True, False],\n",
       "       [ True, False],\n",
       "       [False,  True],\n",
       "       [ True, False],\n",
       "       [False,  True],\n",
       "       [ True, False],\n",
       "       [ True, False],\n",
       "       [False,  True],\n",
       "       [False,  True],\n",
       "       [False,  True],\n",
       "       [False,  True],\n",
       "       [ True, False],\n",
       "       [False,  True],\n",
       "       [False,  True],\n",
       "       [False,  True],\n",
       "       [ True, False],\n",
       "       [ True, False],\n",
       "       [ True, False],\n",
       "       [False,  True],\n",
       "       [ True, False],\n",
       "       [False,  True],\n",
       "       [False,  True],\n",
       "       [False,  True],\n",
       "       [ True, False],\n",
       "       [False,  True],\n",
       "       [ True, False],\n",
       "       [False,  True],\n",
       "       [False,  True],\n",
       "       [False,  True],\n",
       "       [False,  True],\n",
       "       [ True, False],\n",
       "       [False,  True],\n",
       "       [False,  True],\n",
       "       [ True, False],\n",
       "       [ True, False],\n",
       "       [False,  True],\n",
       "       [False,  True],\n",
       "       [False,  True],\n",
       "       [False,  True],\n",
       "       [False,  True],\n",
       "       [False,  True],\n",
       "       [False,  True],\n",
       "       [False,  True],\n",
       "       [ True, False],\n",
       "       [ True, False],\n",
       "       [ True, False],\n",
       "       [False,  True],\n",
       "       [False,  True],\n",
       "       [ True, False],\n",
       "       [False,  True],\n",
       "       [ True, False],\n",
       "       [False,  True],\n",
       "       [False,  True],\n",
       "       [False,  True],\n",
       "       [False,  True],\n",
       "       [ True, False],\n",
       "       [False,  True],\n",
       "       [False,  True],\n",
       "       [False,  True],\n",
       "       [False,  True],\n",
       "       [ True, False],\n",
       "       [False,  True],\n",
       "       [False,  True],\n",
       "       [ True, False],\n",
       "       [False,  True],\n",
       "       [False,  True],\n",
       "       [False,  True],\n",
       "       [False,  True],\n",
       "       [False,  True],\n",
       "       [False,  True],\n",
       "       [False,  True],\n",
       "       [False,  True],\n",
       "       [False,  True],\n",
       "       [False,  True],\n",
       "       [False,  True],\n",
       "       [False,  True],\n",
       "       [ True, False],\n",
       "       [False,  True],\n",
       "       [ True, False],\n",
       "       [ True, False],\n",
       "       [False,  True],\n",
       "       [ True, False],\n",
       "       [ True, False],\n",
       "       [ True, False],\n",
       "       [ True, False],\n",
       "       [False,  True],\n",
       "       [False,  True],\n",
       "       [ True, False],\n",
       "       [ True, False],\n",
       "       [False,  True],\n",
       "       [False,  True],\n",
       "       [ True, False],\n",
       "       [False,  True],\n",
       "       [False,  True],\n",
       "       [False,  True],\n",
       "       [ True, False],\n",
       "       [ True, False],\n",
       "       [False,  True],\n",
       "       [ True, False],\n",
       "       [False,  True],\n",
       "       [False,  True],\n",
       "       [False,  True],\n",
       "       [ True, False],\n",
       "       [False,  True],\n",
       "       [ True, False],\n",
       "       [False,  True],\n",
       "       [False,  True],\n",
       "       [ True, False],\n",
       "       [False,  True],\n",
       "       [ True, False],\n",
       "       [ True, False],\n",
       "       [ True, False],\n",
       "       [ True, False],\n",
       "       [False,  True],\n",
       "       [False,  True],\n",
       "       [False,  True],\n",
       "       [ True, False],\n",
       "       [ True, False],\n",
       "       [False,  True],\n",
       "       [ True, False],\n",
       "       [ True, False],\n",
       "       [False,  True],\n",
       "       [False,  True],\n",
       "       [False,  True],\n",
       "       [False,  True],\n",
       "       [False,  True],\n",
       "       [False,  True],\n",
       "       [False,  True],\n",
       "       [False,  True],\n",
       "       [False,  True],\n",
       "       [ True, False],\n",
       "       [False,  True],\n",
       "       [False,  True],\n",
       "       [False,  True],\n",
       "       [False,  True],\n",
       "       [False,  True],\n",
       "       [False,  True],\n",
       "       [False,  True],\n",
       "       [False,  True],\n",
       "       [ True, False],\n",
       "       [ True, False],\n",
       "       [ True, False],\n",
       "       [ True, False],\n",
       "       [False,  True],\n",
       "       [False,  True],\n",
       "       [ True, False],\n",
       "       [False,  True],\n",
       "       [ True, False],\n",
       "       [False,  True],\n",
       "       [ True, False],\n",
       "       [False,  True],\n",
       "       [False,  True],\n",
       "       [False,  True],\n",
       "       [ True, False],\n",
       "       [False,  True],\n",
       "       [False,  True],\n",
       "       [False,  True],\n",
       "       [False,  True],\n",
       "       [ True, False],\n",
       "       [False,  True],\n",
       "       [False,  True],\n",
       "       [False,  True],\n",
       "       [False,  True],\n",
       "       [False,  True],\n",
       "       [False,  True],\n",
       "       [False,  True],\n",
       "       [ True, False],\n",
       "       [False,  True],\n",
       "       [False,  True],\n",
       "       [False,  True],\n",
       "       [False,  True],\n",
       "       [ True, False],\n",
       "       [ True, False],\n",
       "       [False,  True],\n",
       "       [False,  True],\n",
       "       [ True, False],\n",
       "       [False,  True],\n",
       "       [ True, False],\n",
       "       [False,  True],\n",
       "       [ True, False],\n",
       "       [False,  True],\n",
       "       [ True, False],\n",
       "       [ True, False],\n",
       "       [False,  True],\n",
       "       [ True, False],\n",
       "       [False,  True],\n",
       "       [ True, False],\n",
       "       [False,  True],\n",
       "       [False,  True],\n",
       "       [False,  True],\n",
       "       [False,  True],\n",
       "       [False,  True],\n",
       "       [ True, False],\n",
       "       [ True, False],\n",
       "       [ True, False],\n",
       "       [False,  True],\n",
       "       [False,  True],\n",
       "       [False,  True],\n",
       "       [False,  True],\n",
       "       [False,  True],\n",
       "       [False,  True],\n",
       "       [ True, False],\n",
       "       [False,  True],\n",
       "       [False,  True],\n",
       "       [False,  True],\n",
       "       [ True, False],\n",
       "       [False,  True],\n",
       "       [ True, False],\n",
       "       [False,  True],\n",
       "       [ True, False],\n",
       "       [False,  True],\n",
       "       [False,  True],\n",
       "       [ True, False],\n",
       "       [False,  True],\n",
       "       [False,  True],\n",
       "       [False,  True],\n",
       "       [ True, False],\n",
       "       [False,  True],\n",
       "       [False,  True],\n",
       "       [ True, False],\n",
       "       [False,  True],\n",
       "       [ True, False],\n",
       "       [False,  True],\n",
       "       [ True, False],\n",
       "       [False,  True],\n",
       "       [ True, False],\n",
       "       [ True, False],\n",
       "       [ True, False],\n",
       "       [False,  True],\n",
       "       [False,  True],\n",
       "       [False,  True],\n",
       "       [False,  True],\n",
       "       [ True, False],\n",
       "       [ True, False],\n",
       "       [ True, False],\n",
       "       [ True, False],\n",
       "       [ True, False],\n",
       "       [False,  True],\n",
       "       [ True, False],\n",
       "       [False,  True],\n",
       "       [False,  True],\n",
       "       [ True, False],\n",
       "       [False,  True],\n",
       "       [False,  True],\n",
       "       [ True, False],\n",
       "       [False,  True],\n",
       "       [ True, False],\n",
       "       [ True, False],\n",
       "       [ True, False],\n",
       "       [ True, False],\n",
       "       [False,  True],\n",
       "       [ True, False],\n",
       "       [False,  True],\n",
       "       [False,  True],\n",
       "       [False,  True],\n",
       "       [False,  True],\n",
       "       [False,  True],\n",
       "       [False,  True],\n",
       "       [False,  True],\n",
       "       [False,  True]])"
      ]
     },
     "execution_count": 43,
     "metadata": {},
     "output_type": "execute_result"
    }
   ],
   "source": [
    "y_train"
   ]
  },
  {
   "cell_type": "code",
   "execution_count": 44,
   "metadata": {},
   "outputs": [
    {
     "data": {
      "text/plain": [
       "'12.1'"
      ]
     },
     "execution_count": 44,
     "metadata": {},
     "output_type": "execute_result"
    }
   ],
   "source": [
    "torch.version.cuda"
   ]
  },
  {
   "cell_type": "code",
   "execution_count": 45,
   "metadata": {},
   "outputs": [],
   "source": [
    "#torch.cuda.current_device()"
   ]
  },
  {
   "cell_type": "code",
   "execution_count": 46,
   "metadata": {},
   "outputs": [],
   "source": [
    "#torch.cuda.get_device_name(torch.cuda.current_device())"
   ]
  },
  {
   "cell_type": "code",
   "execution_count": 47,
   "metadata": {},
   "outputs": [
    {
     "data": {
      "text/plain": [
       "'cpu'"
      ]
     },
     "execution_count": 47,
     "metadata": {},
     "output_type": "execute_result"
    }
   ],
   "source": [
    "device = 'cuda' if torch.cuda.is_available() else 'cpu'\n",
    "device"
   ]
  },
  {
   "cell_type": "code",
   "execution_count": 48,
   "metadata": {},
   "outputs": [
    {
     "data": {
      "text/plain": [
       "(280, 34)"
      ]
     },
     "execution_count": 48,
     "metadata": {},
     "output_type": "execute_result"
    }
   ],
   "source": [
    "X_train.shape"
   ]
  },
  {
   "cell_type": "code",
   "execution_count": 49,
   "metadata": {},
   "outputs": [
    {
     "name": "stdout",
     "output_type": "stream",
     "text": [
      "\u001b[0;31mInit signature:\u001b[0m\n",
      "\u001b[0mnn\u001b[0m\u001b[0;34m.\u001b[0m\u001b[0mBatchNorm1d\u001b[0m\u001b[0;34m(\u001b[0m\u001b[0;34m\u001b[0m\n",
      "\u001b[0;34m\u001b[0m    \u001b[0mnum_features\u001b[0m\u001b[0;34m:\u001b[0m \u001b[0mint\u001b[0m\u001b[0;34m,\u001b[0m\u001b[0;34m\u001b[0m\n",
      "\u001b[0;34m\u001b[0m    \u001b[0meps\u001b[0m\u001b[0;34m:\u001b[0m \u001b[0mfloat\u001b[0m \u001b[0;34m=\u001b[0m \u001b[0;36m1e-05\u001b[0m\u001b[0;34m,\u001b[0m\u001b[0;34m\u001b[0m\n",
      "\u001b[0;34m\u001b[0m    \u001b[0mmomentum\u001b[0m\u001b[0;34m:\u001b[0m \u001b[0mfloat\u001b[0m \u001b[0;34m=\u001b[0m \u001b[0;36m0.1\u001b[0m\u001b[0;34m,\u001b[0m\u001b[0;34m\u001b[0m\n",
      "\u001b[0;34m\u001b[0m    \u001b[0maffine\u001b[0m\u001b[0;34m:\u001b[0m \u001b[0mbool\u001b[0m \u001b[0;34m=\u001b[0m \u001b[0;32mTrue\u001b[0m\u001b[0;34m,\u001b[0m\u001b[0;34m\u001b[0m\n",
      "\u001b[0;34m\u001b[0m    \u001b[0mtrack_running_stats\u001b[0m\u001b[0;34m:\u001b[0m \u001b[0mbool\u001b[0m \u001b[0;34m=\u001b[0m \u001b[0;32mTrue\u001b[0m\u001b[0;34m,\u001b[0m\u001b[0;34m\u001b[0m\n",
      "\u001b[0;34m\u001b[0m    \u001b[0mdevice\u001b[0m\u001b[0;34m=\u001b[0m\u001b[0;32mNone\u001b[0m\u001b[0;34m,\u001b[0m\u001b[0;34m\u001b[0m\n",
      "\u001b[0;34m\u001b[0m    \u001b[0mdtype\u001b[0m\u001b[0;34m=\u001b[0m\u001b[0;32mNone\u001b[0m\u001b[0;34m,\u001b[0m\u001b[0;34m\u001b[0m\n",
      "\u001b[0;34m\u001b[0m\u001b[0;34m)\u001b[0m \u001b[0;34m->\u001b[0m \u001b[0;32mNone\u001b[0m\u001b[0;34m\u001b[0m\u001b[0;34m\u001b[0m\u001b[0m\n",
      "\u001b[0;31mDocstring:\u001b[0m     \n",
      "Applies Batch Normalization over a 2D or 3D input as described in the paper\n",
      "`Batch Normalization: Accelerating Deep Network Training by Reducing\n",
      "Internal Covariate Shift <https://arxiv.org/abs/1502.03167>`__ .\n",
      "\n",
      ".. math::\n",
      "\n",
      "    y = \\frac{x - \\mathrm{E}[x]}{\\sqrt{\\mathrm{Var}[x] + \\epsilon}} * \\gamma + \\beta\n",
      "\n",
      "The mean and standard-deviation are calculated per-dimension over\n",
      "the mini-batches and :math:`\\gamma` and :math:`\\beta` are learnable parameter vectors\n",
      "of size `C` (where `C` is the number of features or channels of the input). By default, the\n",
      "elements of :math:`\\gamma` are set to 1 and the elements of :math:`\\beta` are set to 0.\n",
      "At train time in the forward pass, the standard-deviation is calculated via the biased estimator,\n",
      "equivalent to ``torch.var(input, unbiased=False)``. However, the value stored in the\n",
      "moving average of the standard-deviation is calculated via the unbiased  estimator, equivalent to\n",
      "``torch.var(input, unbiased=True)``.\n",
      "\n",
      "Also by default, during training this layer keeps running estimates of its\n",
      "computed mean and variance, which are then used for normalization during\n",
      "evaluation. The running estimates are kept with a default :attr:`momentum`\n",
      "of 0.1.\n",
      "\n",
      "If :attr:`track_running_stats` is set to ``False``, this layer then does not\n",
      "keep running estimates, and batch statistics are instead used during\n",
      "evaluation time as well.\n",
      "\n",
      ".. note::\n",
      "    This :attr:`momentum` argument is different from one used in optimizer\n",
      "    classes and the conventional notion of momentum. Mathematically, the\n",
      "    update rule for running statistics here is\n",
      "    :math:`\\hat{x}_\\text{new} = (1 - \\text{momentum}) \\times \\hat{x} + \\text{momentum} \\times x_t`,\n",
      "    where :math:`\\hat{x}` is the estimated statistic and :math:`x_t` is the\n",
      "    new observed value.\n",
      "\n",
      "Because the Batch Normalization is done over the `C` dimension, computing statistics\n",
      "on `(N, L)` slices, it's common terminology to call this Temporal Batch Normalization.\n",
      "\n",
      "Args:\n",
      "    num_features: number of features or channels :math:`C` of the input\n",
      "    eps: a value added to the denominator for numerical stability.\n",
      "        Default: 1e-5\n",
      "    momentum: the value used for the running_mean and running_var\n",
      "        computation. Can be set to ``None`` for cumulative moving average\n",
      "        (i.e. simple average). Default: 0.1\n",
      "    affine: a boolean value that when set to ``True``, this module has\n",
      "        learnable affine parameters. Default: ``True``\n",
      "    track_running_stats: a boolean value that when set to ``True``, this\n",
      "        module tracks the running mean and variance, and when set to ``False``,\n",
      "        this module does not track such statistics, and initializes statistics\n",
      "        buffers :attr:`running_mean` and :attr:`running_var` as ``None``.\n",
      "        When these buffers are ``None``, this module always uses batch statistics.\n",
      "        in both training and eval modes. Default: ``True``\n",
      "\n",
      "Shape:\n",
      "    - Input: :math:`(N, C)` or :math:`(N, C, L)`, where :math:`N` is the batch size,\n",
      "      :math:`C` is the number of features or channels, and :math:`L` is the sequence length\n",
      "    - Output: :math:`(N, C)` or :math:`(N, C, L)` (same shape as input)\n",
      "\n",
      "Examples::\n",
      "\n",
      "    >>> # With Learnable Parameters\n",
      "    >>> m = nn.BatchNorm1d(100)\n",
      "    >>> # Without Learnable Parameters\n",
      "    >>> m = nn.BatchNorm1d(100, affine=False)\n",
      "    >>> input = torch.randn(20, 100)\n",
      "    >>> output = m(input)\n",
      "\u001b[0;31mInit docstring:\u001b[0m Initializes internal Module state, shared by both nn.Module and ScriptModule.\n",
      "\u001b[0;31mFile:\u001b[0m           ~/Documents/Machine Learning/.conda/lib/python3.11/site-packages/torch/nn/modules/batchnorm.py\n",
      "\u001b[0;31mType:\u001b[0m           type\n",
      "\u001b[0;31mSubclasses:\u001b[0m     "
     ]
    }
   ],
   "source": [
    "nn.BatchNorm1d?"
   ]
  },
  {
   "cell_type": "code",
   "execution_count": 50,
   "metadata": {},
   "outputs": [],
   "source": [
    "class Model(nn.Module):\n",
    "\n",
    "    def __init__ (self, input_dim):\n",
    "\n",
    "        super (Model, self).__init__()\n",
    "\n",
    "        self.layer1 = nn.Linear(input_dim, 34)\n",
    "        \n",
    "        self.bn1 = nn.BatchNorm1d(34) #added Batch Norm\n",
    "        \n",
    "        self.drop_out = nn.Dropout(0.05) #add drop out\n",
    "        \n",
    "        self.layer2 = nn.Linear(34, 16)\n",
    "        \n",
    "        self.layer3 = nn.Linear(16, 2)\n",
    "\n",
    "    def forward(self, x):\n",
    "\n",
    "        x = F.silu(self.bn1(self.layer1(x)) ) # layer 1\n",
    "\n",
    "        x=self.drop_out(x)\n",
    "        \n",
    "        x = F.silu(self.bn1(self.layer2(x)) ) # layer 2\n",
    "\n",
    "        x = F.softmax( self.layer3(x), dim = 1 ) # layer 3\n",
    "\n",
    "        return x"
   ]
  },
  {
   "cell_type": "code",
   "execution_count": 51,
   "metadata": {},
   "outputs": [
    {
     "name": "stdout",
     "output_type": "stream",
     "text": [
      "Model(\n",
      "  (layer1): Linear(in_features=34, out_features=34, bias=True)\n",
      "  (bn1): BatchNorm1d(34, eps=1e-05, momentum=0.1, affine=True, track_running_stats=True)\n",
      "  (drop_out): Dropout(p=0.05, inplace=False)\n",
      "  (layer2): Linear(in_features=34, out_features=16, bias=True)\n",
      "  (layer3): Linear(in_features=16, out_features=2, bias=True)\n",
      ")\n"
     ]
    }
   ],
   "source": [
    "model = Model(X_train.shape[1]).to(device)\n",
    "print(model)"
   ]
  },
  {
   "cell_type": "code",
   "execution_count": 52,
   "metadata": {
    "scrolled": true
   },
   "outputs": [
    {
     "data": {
      "text/plain": [
       "[Parameter containing:\n",
       " tensor([[ 0.1161, -0.0235,  0.1414,  ..., -0.0923, -0.0615, -0.0120],\n",
       "         [ 0.0548, -0.0817,  0.1583,  ..., -0.0271,  0.0877,  0.1539],\n",
       "         [ 0.1490, -0.0299, -0.1144,  ...,  0.0394,  0.0374,  0.1403],\n",
       "         ...,\n",
       "         [-0.1412, -0.0856, -0.1408,  ...,  0.0821,  0.1398, -0.0241],\n",
       "         [ 0.1519, -0.0947,  0.0138,  ...,  0.1491, -0.0441,  0.0390],\n",
       "         [-0.0665, -0.1623,  0.0631,  ...,  0.0459, -0.1004, -0.0976]],\n",
       "        requires_grad=True),\n",
       " Parameter containing:\n",
       " tensor([ 0.1469, -0.1256, -0.1200,  0.1695,  0.0671, -0.0900,  0.1663,  0.1392,\n",
       "          0.0704, -0.0434,  0.1702, -0.1033,  0.1480, -0.0013,  0.0226,  0.1597,\n",
       "         -0.0910, -0.0775,  0.1619,  0.1353, -0.0287,  0.0877, -0.0469, -0.1117,\n",
       "         -0.0740, -0.1656, -0.1066,  0.0123,  0.0861,  0.0887, -0.0025, -0.1615,\n",
       "          0.0190,  0.0897], requires_grad=True),\n",
       " Parameter containing:\n",
       " tensor([1., 1., 1., 1., 1., 1., 1., 1., 1., 1., 1., 1., 1., 1., 1., 1., 1., 1.,\n",
       "         1., 1., 1., 1., 1., 1., 1., 1., 1., 1., 1., 1., 1., 1., 1., 1.],\n",
       "        requires_grad=True),\n",
       " Parameter containing:\n",
       " tensor([0., 0., 0., 0., 0., 0., 0., 0., 0., 0., 0., 0., 0., 0., 0., 0., 0., 0., 0., 0., 0., 0., 0., 0.,\n",
       "         0., 0., 0., 0., 0., 0., 0., 0., 0., 0.], requires_grad=True),\n",
       " Parameter containing:\n",
       " tensor([[-1.4005e-01, -2.8436e-02,  2.5899e-02,  1.2273e-02,  5.2538e-02,\n",
       "           7.1036e-02,  1.6078e-01, -1.3130e-01, -1.0344e-01, -8.4358e-02,\n",
       "          -1.1943e-01, -1.6373e-01,  3.9719e-02,  9.7310e-02,  1.4504e-01,\n",
       "          -7.1539e-02, -1.7023e-01, -9.9646e-02,  1.5010e-01,  1.3695e-02,\n",
       "           2.3997e-02,  1.6918e-01, -1.5949e-01,  1.6077e-01, -9.7197e-03,\n",
       "           5.6791e-02, -9.3906e-02, -4.2829e-02, -1.5795e-01, -8.7668e-02,\n",
       "           1.0187e-01, -7.6306e-02,  1.4836e-01,  5.9029e-02],\n",
       "         [ 1.6717e-01, -3.2021e-02,  1.5726e-01, -1.6296e-02, -1.1314e-01,\n",
       "          -1.2585e-01,  1.3478e-01, -1.7078e-01,  7.0854e-02,  1.3217e-01,\n",
       "          -1.2113e-01, -9.8067e-02,  1.5984e-01,  1.4404e-02,  1.5431e-01,\n",
       "          -8.4905e-03, -4.2077e-02, -1.4492e-01, -4.5192e-02,  1.6349e-01,\n",
       "          -8.6407e-02, -1.1741e-01,  4.8926e-02, -1.4728e-01, -1.4432e-01,\n",
       "          -1.5397e-01,  1.4834e-01,  4.3702e-02, -7.5603e-03,  6.9611e-02,\n",
       "           1.1602e-01, -1.0120e-01, -9.9257e-02, -4.7029e-02],\n",
       "         [ 1.6978e-01,  1.5561e-01,  2.9213e-02, -1.3195e-01, -1.4000e-01,\n",
       "          -2.3947e-02,  1.1059e-01, -9.8155e-02,  8.4232e-02, -4.9986e-03,\n",
       "           1.1477e-01, -8.0535e-02,  1.8468e-02, -2.4184e-02, -1.0867e-02,\n",
       "           4.8664e-02, -3.0547e-02,  1.6284e-01, -2.3203e-03,  7.0980e-02,\n",
       "          -7.2786e-02, -8.1484e-02, -1.1309e-01,  1.1422e-01, -3.0121e-03,\n",
       "           9.9861e-02,  5.3323e-02,  1.2253e-01,  1.6981e-01,  6.4184e-02,\n",
       "           7.8622e-02,  1.3824e-01, -5.8553e-02,  9.0124e-02],\n",
       "         [ 8.5400e-02, -1.0102e-02, -1.2479e-01, -1.2898e-01, -1.4911e-01,\n",
       "           1.4142e-01, -1.2038e-01, -5.6452e-02,  1.1556e-01, -6.5025e-02,\n",
       "          -3.1008e-02, -4.0054e-02,  4.4536e-02, -1.4820e-01, -1.2423e-01,\n",
       "           1.0789e-01,  8.9395e-02,  3.2843e-02,  1.0102e-01,  8.3178e-02,\n",
       "           1.5157e-01,  1.3985e-02,  1.1167e-01, -1.1738e-01,  1.3527e-01,\n",
       "          -1.1048e-01, -1.6054e-01,  4.9877e-02,  8.9633e-02, -1.1403e-02,\n",
       "          -5.5589e-02,  3.3737e-02,  5.5352e-02, -1.0488e-01],\n",
       "         [-1.1336e-01, -1.6202e-01, -1.1029e-01,  1.8148e-02, -1.0439e-01,\n",
       "          -1.1672e-01, -1.6256e-01, -2.4991e-02,  1.1007e-02,  1.2526e-01,\n",
       "           2.2966e-02,  1.1532e-01,  5.6075e-02,  1.2707e-01,  1.5906e-01,\n",
       "          -1.0044e-01, -1.6199e-01,  1.5336e-01, -9.5789e-02,  1.2680e-01,\n",
       "           7.8911e-02,  1.7166e-03, -1.9372e-02,  1.2369e-01, -1.4301e-01,\n",
       "          -2.2161e-02,  1.0354e-01, -6.2841e-02,  1.1565e-01,  4.1114e-02,\n",
       "          -1.7108e-01, -3.5016e-02, -1.2888e-01, -1.5931e-01],\n",
       "         [ 1.5101e-01, -7.5957e-03, -1.5365e-02, -1.6472e-01, -3.9635e-02,\n",
       "          -6.9843e-02, -7.0739e-02,  1.4247e-01, -1.1280e-01, -2.9943e-02,\n",
       "          -9.9268e-02,  1.5272e-01,  1.3519e-01, -1.1942e-01,  6.4458e-02,\n",
       "           9.3464e-02,  8.6245e-02,  1.6192e-01, -8.8796e-02,  1.6433e-01,\n",
       "          -7.6636e-02, -1.5183e-01, -1.6275e-01, -1.3280e-01,  1.2681e-01,\n",
       "          -2.9881e-02, -1.0214e-02, -1.6524e-02, -1.0005e-01,  7.7910e-02,\n",
       "          -1.7088e-01,  1.0322e-01,  4.4844e-02, -1.6319e-01],\n",
       "         [ 4.6430e-02,  8.0709e-02, -1.6602e-01,  1.1470e-01, -1.3752e-01,\n",
       "          -5.5130e-02, -1.7070e-03, -5.1992e-03,  1.7149e-01, -8.2557e-02,\n",
       "           6.8373e-03,  1.2221e-01,  1.2622e-02,  1.1741e-01, -7.9986e-02,\n",
       "           1.2725e-02, -1.3307e-01, -2.4424e-02, -1.4587e-01, -9.0468e-02,\n",
       "          -9.6843e-02, -1.1817e-01,  4.9658e-02,  1.3876e-01, -1.3560e-01,\n",
       "          -1.2760e-02, -3.5197e-02, -1.3567e-01, -1.5159e-01, -1.0652e-01,\n",
       "           1.4308e-01, -1.1416e-01, -5.7431e-02, -1.5698e-01],\n",
       "         [-7.8960e-02, -1.6730e-01,  1.8428e-02, -4.8393e-02,  2.5271e-02,\n",
       "           1.4679e-01, -1.2605e-01, -1.3338e-01, -7.7445e-03, -6.2004e-02,\n",
       "          -6.6293e-02,  5.8125e-02,  6.3442e-02,  1.6798e-01, -1.1544e-01,\n",
       "          -1.0037e-01,  1.3240e-01,  3.4684e-02,  1.1058e-01, -1.4951e-01,\n",
       "           5.2025e-02, -1.4131e-01,  4.2224e-02,  1.4056e-01,  9.4813e-02,\n",
       "           1.0791e-01, -7.6647e-02,  4.4333e-02,  6.2988e-02,  7.1199e-02,\n",
       "          -5.0178e-02, -1.3886e-01, -2.7306e-02,  1.3615e-01],\n",
       "         [-7.4017e-02,  1.4942e-01,  3.3816e-02, -1.6246e-01,  1.3561e-01,\n",
       "          -1.3713e-01,  1.4201e-04, -5.1147e-02,  8.6145e-02, -5.1422e-02,\n",
       "          -6.4905e-02, -6.8756e-02, -5.0237e-02, -7.1105e-02, -7.4264e-03,\n",
       "           1.5916e-01, -1.2121e-01, -1.1656e-01,  1.1119e-01,  4.0355e-03,\n",
       "          -1.1238e-01, -3.9707e-02, -2.1548e-02,  1.3558e-01, -1.5893e-01,\n",
       "           1.5109e-01, -5.4924e-02, -1.5153e-01, -2.4170e-03,  9.1027e-02,\n",
       "           7.2813e-02,  1.2781e-01, -1.1511e-02, -5.7356e-02],\n",
       "         [-5.8574e-02,  1.4883e-01,  9.8210e-02,  1.0122e-01, -8.1986e-02,\n",
       "           1.0128e-01,  7.7523e-02,  5.9260e-02, -9.2664e-02,  1.4393e-01,\n",
       "           1.3683e-01,  1.3226e-01,  1.0967e-01, -8.7331e-02,  7.0371e-02,\n",
       "           1.6540e-01, -3.7840e-02,  9.6519e-02, -4.9804e-02,  1.2960e-01,\n",
       "          -6.0861e-02, -9.7382e-02, -1.7119e-01,  1.4807e-01, -1.6283e-01,\n",
       "          -1.5104e-01,  1.3766e-01, -1.2295e-01, -9.6931e-02,  8.6320e-02,\n",
       "           1.8036e-02,  5.6963e-02, -4.4956e-02,  1.5998e-01],\n",
       "         [-1.5374e-02, -9.2899e-02, -1.1488e-01, -3.7074e-02, -6.1585e-02,\n",
       "          -1.1430e-02, -3.8187e-02,  2.2787e-02,  1.5604e-01,  5.2804e-02,\n",
       "           7.4457e-02,  6.8915e-02,  1.4334e-01, -1.3978e-02, -1.6233e-01,\n",
       "          -7.7992e-03, -9.7584e-02,  8.2773e-02,  1.2944e-02, -3.7133e-02,\n",
       "           1.7023e-02,  1.3100e-02,  7.6973e-02,  4.1780e-02,  8.8570e-02,\n",
       "          -1.3816e-01, -3.7397e-02, -1.6099e-01,  1.6908e-01, -1.5068e-01,\n",
       "           1.6516e-01, -1.2042e-01,  3.9552e-02,  4.9551e-02],\n",
       "         [-5.7161e-02,  2.6022e-02,  1.4934e-01,  1.4626e-02,  1.4446e-01,\n",
       "           2.3577e-02,  9.9136e-02, -1.6247e-01,  5.7171e-02, -1.3350e-01,\n",
       "           9.4594e-03,  5.9420e-02,  6.5637e-02,  1.3776e-01,  1.0677e-01,\n",
       "           9.0674e-02, -1.7349e-02,  1.1760e-01, -1.7224e-02, -3.0281e-02,\n",
       "          -2.1874e-02,  1.6400e-01,  8.1164e-03, -1.6684e-01, -1.3555e-01,\n",
       "           1.1887e-01, -7.3438e-02, -3.2851e-02,  1.1999e-01,  6.3060e-02,\n",
       "          -8.4135e-02,  8.8020e-02,  1.4739e-01, -3.1641e-02],\n",
       "         [ 1.0627e-01,  5.3260e-02,  1.2401e-01,  7.9377e-02,  1.4547e-01,\n",
       "           2.5483e-03,  1.2885e-01, -6.8828e-03, -2.1780e-02, -3.2546e-02,\n",
       "          -9.4217e-03,  1.1347e-01, -9.1149e-02,  1.1134e-01,  1.4582e-01,\n",
       "          -1.3791e-01, -1.6030e-01,  1.4641e-01,  4.2698e-02,  1.3385e-01,\n",
       "          -9.1322e-02, -6.5998e-02,  1.2982e-01,  5.7878e-02,  2.0188e-02,\n",
       "           2.6593e-02, -1.1479e-01,  1.7045e-01,  1.6434e-01,  2.5775e-02,\n",
       "          -8.8389e-02,  8.0583e-02,  1.1021e-01, -7.7869e-02],\n",
       "         [ 1.0734e-01, -5.1053e-02, -2.0818e-02, -1.3771e-01,  1.0176e-01,\n",
       "          -9.9290e-02, -8.4590e-02,  3.8025e-02,  6.2444e-02, -1.6007e-01,\n",
       "           1.6451e-01, -4.1566e-03,  1.1753e-01, -1.3644e-01,  1.7112e-01,\n",
       "          -1.1676e-02,  1.3657e-01,  3.4810e-04,  2.0685e-02, -1.1709e-01,\n",
       "          -1.9681e-02,  9.0874e-02,  8.0385e-02, -7.9299e-02,  8.9286e-02,\n",
       "           3.1059e-02,  6.9292e-02,  3.4920e-02, -6.1201e-02, -1.4793e-01,\n",
       "           1.5775e-01,  9.6830e-03, -8.7162e-02,  8.2672e-02],\n",
       "         [ 7.6440e-02,  1.0009e-03,  8.9232e-02, -9.3345e-02,  1.6355e-01,\n",
       "           1.1544e-01,  9.8202e-03, -5.1258e-03, -1.3434e-01, -2.8895e-03,\n",
       "          -1.4173e-01, -1.1939e-01, -1.9410e-02,  8.9532e-02,  4.5754e-02,\n",
       "           1.6128e-01,  1.4942e-01, -7.2831e-02,  1.1956e-01,  4.6063e-02,\n",
       "          -1.2174e-01, -6.2747e-02, -1.2686e-01,  7.9765e-02,  1.3536e-01,\n",
       "          -1.7699e-02,  1.3908e-02, -6.2417e-02, -4.8062e-02,  6.9149e-02,\n",
       "           1.4954e-01, -1.7707e-02, -1.4993e-03,  7.0920e-02],\n",
       "         [ 4.5120e-02,  1.3773e-01, -6.9528e-02, -1.1569e-01,  7.6148e-02,\n",
       "           1.5867e-01, -4.7010e-02,  5.7792e-02,  1.2477e-01,  1.4676e-01,\n",
       "           8.2884e-02, -1.3644e-01,  1.4711e-01,  2.5156e-02, -4.3962e-02,\n",
       "           9.8472e-02,  5.1416e-02,  1.5973e-01,  1.8207e-02,  3.0536e-02,\n",
       "           9.4389e-02, -1.0095e-01, -1.4573e-01, -9.9431e-02, -1.0484e-01,\n",
       "           9.7256e-02, -4.1331e-02,  7.1533e-02, -2.4811e-02,  4.7619e-04,\n",
       "          -1.4383e-01, -1.3749e-02, -1.3289e-01,  1.6228e-02]],\n",
       "        requires_grad=True),\n",
       " Parameter containing:\n",
       " tensor([ 0.1304,  0.0151, -0.1455, -0.0611,  0.1325,  0.0292, -0.1531,  0.0501,\n",
       "          0.0906, -0.0630,  0.1373, -0.0059,  0.1596,  0.0334,  0.0020,  0.1270],\n",
       "        requires_grad=True),\n",
       " Parameter containing:\n",
       " tensor([[-0.0109,  0.0125,  0.1683,  0.1909, -0.2346,  0.2433, -0.1792,  0.0838,\n",
       "           0.2006,  0.0448,  0.0875, -0.0696, -0.1514, -0.0836,  0.1448, -0.0335],\n",
       "         [-0.1668, -0.0555,  0.1431, -0.2469,  0.0015, -0.2197,  0.0140,  0.0890,\n",
       "           0.2219, -0.0453,  0.1658, -0.0870,  0.2228,  0.0721, -0.1089, -0.1375]],\n",
       "        requires_grad=True),\n",
       " Parameter containing:\n",
       " tensor([ 0.1976, -0.2005], requires_grad=True)]"
      ]
     },
     "execution_count": 52,
     "metadata": {},
     "output_type": "execute_result"
    }
   ],
   "source": [
    "list(model.parameters())"
   ]
  },
  {
   "cell_type": "code",
   "execution_count": 53,
   "metadata": {},
   "outputs": [
    {
     "name": "stdout",
     "output_type": "stream",
     "text": [
      " Number of parameters 8\n"
     ]
    }
   ],
   "source": [
    "print (f' Number of parameters {len(list(model.parameters()))}')"
   ]
  },
  {
   "cell_type": "code",
   "execution_count": 54,
   "metadata": {},
   "outputs": [
    {
     "name": "stdout",
     "output_type": "stream",
     "text": [
      " Layer 1 Weights torch.Size([34, 34])\n",
      " Layer 1 Bias    torch.Size([34])\n",
      " Layer 2 Weights torch.Size([34])\n",
      " Layer 2 Bias    torch.Size([34])\n"
     ]
    }
   ],
   "source": [
    "print (f' Layer 1 Weights {(list(model.parameters())[0].shape)}')\n",
    "print (f' Layer 1 Bias    {(list(model.parameters())[1].shape)}')\n",
    "print (f' Layer 2 Weights {(list(model.parameters())[2].shape)}')\n",
    "print (f' Layer 2 Bias    {(list(model.parameters())[3].shape)}')"
   ]
  },
  {
   "cell_type": "code",
   "execution_count": 55,
   "metadata": {},
   "outputs": [],
   "source": [
    "train_X = Variable(torch.Tensor(X_train)).to(device)\n",
    "train_y = Variable(torch.Tensor(y_train)).to(device)\n",
    "test_X  = Variable(torch.Tensor(X_test)).to(device)\n",
    "test_y  = Variable(torch.Tensor(y_test)).to(device)"
   ]
  },
  {
   "cell_type": "code",
   "execution_count": 56,
   "metadata": {
    "scrolled": true
   },
   "outputs": [
    {
     "ename": "RuntimeError",
     "evalue": "running_mean should contain 16 elements not 34",
     "output_type": "error",
     "traceback": [
      "\u001b[0;31m---------------------------------------------------------------------------\u001b[0m",
      "\u001b[0;31mRuntimeError\u001b[0m                              Traceback (most recent call last)",
      "\u001b[1;32m/home/dai/Documents/DNN/Assignments/Group Assignment/A07_torch_group_assignment_ionosphere.ipynb Cell 30\u001b[0m line \u001b[0;36m2\n\u001b[1;32m     <a href='vscode-notebook-cell:/home/dai/Documents/DNN/Assignments/Group%20Assignment/A07_torch_group_assignment_ionosphere.ipynb#X41sZmlsZQ%3D%3D?line=16'>17</a>\u001b[0m \u001b[39mfor\u001b[39;00m epoch \u001b[39min\u001b[39;00m \u001b[39mrange\u001b[39m (EPOCHS):\n\u001b[1;32m     <a href='vscode-notebook-cell:/home/dai/Documents/DNN/Assignments/Group%20Assignment/A07_torch_group_assignment_ionosphere.ipynb#X41sZmlsZQ%3D%3D?line=18'>19</a>\u001b[0m     model\u001b[39m.\u001b[39mtrain() \u001b[39m# Set the mode\u001b[39;00m\n\u001b[0;32m---> <a href='vscode-notebook-cell:/home/dai/Documents/DNN/Assignments/Group%20Assignment/A07_torch_group_assignment_ionosphere.ipynb#X41sZmlsZQ%3D%3D?line=20'>21</a>\u001b[0m     predict_prob \u001b[39m=\u001b[39m model(train_X)\n\u001b[1;32m     <a href='vscode-notebook-cell:/home/dai/Documents/DNN/Assignments/Group%20Assignment/A07_torch_group_assignment_ionosphere.ipynb#X41sZmlsZQ%3D%3D?line=22'>23</a>\u001b[0m     curr_loss \u001b[39m=\u001b[39m loss_fn(predict_prob, train_y)\n\u001b[1;32m     <a href='vscode-notebook-cell:/home/dai/Documents/DNN/Assignments/Group%20Assignment/A07_torch_group_assignment_ionosphere.ipynb#X41sZmlsZQ%3D%3D?line=24'>25</a>\u001b[0m     \u001b[39m###----------\u001b[39;00m\n\u001b[1;32m     <a href='vscode-notebook-cell:/home/dai/Documents/DNN/Assignments/Group%20Assignment/A07_torch_group_assignment_ionosphere.ipynb#X41sZmlsZQ%3D%3D?line=25'>26</a>\u001b[0m     \u001b[39m### Back prop\u001b[39;00m\n\u001b[1;32m     <a href='vscode-notebook-cell:/home/dai/Documents/DNN/Assignments/Group%20Assignment/A07_torch_group_assignment_ionosphere.ipynb#X41sZmlsZQ%3D%3D?line=26'>27</a>\u001b[0m     \u001b[39m###----------\u001b[39;00m\n",
      "File \u001b[0;32m~/Documents/Machine Learning/.conda/lib/python3.11/site-packages/torch/nn/modules/module.py:1518\u001b[0m, in \u001b[0;36mModule._wrapped_call_impl\u001b[0;34m(self, *args, **kwargs)\u001b[0m\n\u001b[1;32m   1516\u001b[0m     \u001b[39mreturn\u001b[39;00m \u001b[39mself\u001b[39m\u001b[39m.\u001b[39m_compiled_call_impl(\u001b[39m*\u001b[39margs, \u001b[39m*\u001b[39m\u001b[39m*\u001b[39mkwargs)  \u001b[39m# type: ignore[misc]\u001b[39;00m\n\u001b[1;32m   1517\u001b[0m \u001b[39melse\u001b[39;00m:\n\u001b[0;32m-> 1518\u001b[0m     \u001b[39mreturn\u001b[39;00m \u001b[39mself\u001b[39;49m\u001b[39m.\u001b[39;49m_call_impl(\u001b[39m*\u001b[39;49margs, \u001b[39m*\u001b[39;49m\u001b[39m*\u001b[39;49mkwargs)\n",
      "File \u001b[0;32m~/Documents/Machine Learning/.conda/lib/python3.11/site-packages/torch/nn/modules/module.py:1527\u001b[0m, in \u001b[0;36mModule._call_impl\u001b[0;34m(self, *args, **kwargs)\u001b[0m\n\u001b[1;32m   1522\u001b[0m \u001b[39m# If we don't have any hooks, we want to skip the rest of the logic in\u001b[39;00m\n\u001b[1;32m   1523\u001b[0m \u001b[39m# this function, and just call forward.\u001b[39;00m\n\u001b[1;32m   1524\u001b[0m \u001b[39mif\u001b[39;00m \u001b[39mnot\u001b[39;00m (\u001b[39mself\u001b[39m\u001b[39m.\u001b[39m_backward_hooks \u001b[39mor\u001b[39;00m \u001b[39mself\u001b[39m\u001b[39m.\u001b[39m_backward_pre_hooks \u001b[39mor\u001b[39;00m \u001b[39mself\u001b[39m\u001b[39m.\u001b[39m_forward_hooks \u001b[39mor\u001b[39;00m \u001b[39mself\u001b[39m\u001b[39m.\u001b[39m_forward_pre_hooks\n\u001b[1;32m   1525\u001b[0m         \u001b[39mor\u001b[39;00m _global_backward_pre_hooks \u001b[39mor\u001b[39;00m _global_backward_hooks\n\u001b[1;32m   1526\u001b[0m         \u001b[39mor\u001b[39;00m _global_forward_hooks \u001b[39mor\u001b[39;00m _global_forward_pre_hooks):\n\u001b[0;32m-> 1527\u001b[0m     \u001b[39mreturn\u001b[39;00m forward_call(\u001b[39m*\u001b[39;49margs, \u001b[39m*\u001b[39;49m\u001b[39m*\u001b[39;49mkwargs)\n\u001b[1;32m   1529\u001b[0m \u001b[39mtry\u001b[39;00m:\n\u001b[1;32m   1530\u001b[0m     result \u001b[39m=\u001b[39m \u001b[39mNone\u001b[39;00m\n",
      "\u001b[1;32m/home/dai/Documents/DNN/Assignments/Group Assignment/A07_torch_group_assignment_ionosphere.ipynb Cell 30\u001b[0m line \u001b[0;36m2\n\u001b[1;32m     <a href='vscode-notebook-cell:/home/dai/Documents/DNN/Assignments/Group%20Assignment/A07_torch_group_assignment_ionosphere.ipynb#X41sZmlsZQ%3D%3D?line=18'>19</a>\u001b[0m x \u001b[39m=\u001b[39m F\u001b[39m.\u001b[39msilu(\u001b[39mself\u001b[39m\u001b[39m.\u001b[39mbn1(\u001b[39mself\u001b[39m\u001b[39m.\u001b[39mlayer1(x)) ) \u001b[39m# layer 1\u001b[39;00m\n\u001b[1;32m     <a href='vscode-notebook-cell:/home/dai/Documents/DNN/Assignments/Group%20Assignment/A07_torch_group_assignment_ionosphere.ipynb#X41sZmlsZQ%3D%3D?line=20'>21</a>\u001b[0m x\u001b[39m=\u001b[39m\u001b[39mself\u001b[39m\u001b[39m.\u001b[39mdrop_out(x)\n\u001b[0;32m---> <a href='vscode-notebook-cell:/home/dai/Documents/DNN/Assignments/Group%20Assignment/A07_torch_group_assignment_ionosphere.ipynb#X41sZmlsZQ%3D%3D?line=22'>23</a>\u001b[0m x \u001b[39m=\u001b[39m F\u001b[39m.\u001b[39msilu(\u001b[39mself\u001b[39;49m\u001b[39m.\u001b[39;49mbn1(\u001b[39mself\u001b[39;49m\u001b[39m.\u001b[39;49mlayer2(x)) ) \u001b[39m# layer 2\u001b[39;00m\n\u001b[1;32m     <a href='vscode-notebook-cell:/home/dai/Documents/DNN/Assignments/Group%20Assignment/A07_torch_group_assignment_ionosphere.ipynb#X41sZmlsZQ%3D%3D?line=24'>25</a>\u001b[0m x \u001b[39m=\u001b[39m F\u001b[39m.\u001b[39msoftmax( \u001b[39mself\u001b[39m\u001b[39m.\u001b[39mlayer3(x), dim \u001b[39m=\u001b[39m \u001b[39m1\u001b[39m ) \u001b[39m# layer 3\u001b[39;00m\n\u001b[1;32m     <a href='vscode-notebook-cell:/home/dai/Documents/DNN/Assignments/Group%20Assignment/A07_torch_group_assignment_ionosphere.ipynb#X41sZmlsZQ%3D%3D?line=26'>27</a>\u001b[0m \u001b[39mreturn\u001b[39;00m x\n",
      "File \u001b[0;32m~/Documents/Machine Learning/.conda/lib/python3.11/site-packages/torch/nn/modules/module.py:1518\u001b[0m, in \u001b[0;36mModule._wrapped_call_impl\u001b[0;34m(self, *args, **kwargs)\u001b[0m\n\u001b[1;32m   1516\u001b[0m     \u001b[39mreturn\u001b[39;00m \u001b[39mself\u001b[39m\u001b[39m.\u001b[39m_compiled_call_impl(\u001b[39m*\u001b[39margs, \u001b[39m*\u001b[39m\u001b[39m*\u001b[39mkwargs)  \u001b[39m# type: ignore[misc]\u001b[39;00m\n\u001b[1;32m   1517\u001b[0m \u001b[39melse\u001b[39;00m:\n\u001b[0;32m-> 1518\u001b[0m     \u001b[39mreturn\u001b[39;00m \u001b[39mself\u001b[39;49m\u001b[39m.\u001b[39;49m_call_impl(\u001b[39m*\u001b[39;49margs, \u001b[39m*\u001b[39;49m\u001b[39m*\u001b[39;49mkwargs)\n",
      "File \u001b[0;32m~/Documents/Machine Learning/.conda/lib/python3.11/site-packages/torch/nn/modules/module.py:1527\u001b[0m, in \u001b[0;36mModule._call_impl\u001b[0;34m(self, *args, **kwargs)\u001b[0m\n\u001b[1;32m   1522\u001b[0m \u001b[39m# If we don't have any hooks, we want to skip the rest of the logic in\u001b[39;00m\n\u001b[1;32m   1523\u001b[0m \u001b[39m# this function, and just call forward.\u001b[39;00m\n\u001b[1;32m   1524\u001b[0m \u001b[39mif\u001b[39;00m \u001b[39mnot\u001b[39;00m (\u001b[39mself\u001b[39m\u001b[39m.\u001b[39m_backward_hooks \u001b[39mor\u001b[39;00m \u001b[39mself\u001b[39m\u001b[39m.\u001b[39m_backward_pre_hooks \u001b[39mor\u001b[39;00m \u001b[39mself\u001b[39m\u001b[39m.\u001b[39m_forward_hooks \u001b[39mor\u001b[39;00m \u001b[39mself\u001b[39m\u001b[39m.\u001b[39m_forward_pre_hooks\n\u001b[1;32m   1525\u001b[0m         \u001b[39mor\u001b[39;00m _global_backward_pre_hooks \u001b[39mor\u001b[39;00m _global_backward_hooks\n\u001b[1;32m   1526\u001b[0m         \u001b[39mor\u001b[39;00m _global_forward_hooks \u001b[39mor\u001b[39;00m _global_forward_pre_hooks):\n\u001b[0;32m-> 1527\u001b[0m     \u001b[39mreturn\u001b[39;00m forward_call(\u001b[39m*\u001b[39;49margs, \u001b[39m*\u001b[39;49m\u001b[39m*\u001b[39;49mkwargs)\n\u001b[1;32m   1529\u001b[0m \u001b[39mtry\u001b[39;00m:\n\u001b[1;32m   1530\u001b[0m     result \u001b[39m=\u001b[39m \u001b[39mNone\u001b[39;00m\n",
      "File \u001b[0;32m~/Documents/Machine Learning/.conda/lib/python3.11/site-packages/torch/nn/modules/batchnorm.py:171\u001b[0m, in \u001b[0;36m_BatchNorm.forward\u001b[0;34m(self, input)\u001b[0m\n\u001b[1;32m    164\u001b[0m     bn_training \u001b[39m=\u001b[39m (\u001b[39mself\u001b[39m\u001b[39m.\u001b[39mrunning_mean \u001b[39mis\u001b[39;00m \u001b[39mNone\u001b[39;00m) \u001b[39mand\u001b[39;00m (\u001b[39mself\u001b[39m\u001b[39m.\u001b[39mrunning_var \u001b[39mis\u001b[39;00m \u001b[39mNone\u001b[39;00m)\n\u001b[1;32m    166\u001b[0m \u001b[39m\u001b[39m\u001b[39mr\u001b[39m\u001b[39m\"\"\"\u001b[39;00m\n\u001b[1;32m    167\u001b[0m \u001b[39mBuffers are only updated if they are to be tracked and we are in training mode. Thus they only need to be\u001b[39;00m\n\u001b[1;32m    168\u001b[0m \u001b[39mpassed when the update should occur (i.e. in training mode when they are tracked), or when buffer stats are\u001b[39;00m\n\u001b[1;32m    169\u001b[0m \u001b[39mused for normalization (i.e. in eval mode when buffers are not None).\u001b[39;00m\n\u001b[1;32m    170\u001b[0m \u001b[39m\"\"\"\u001b[39;00m\n\u001b[0;32m--> 171\u001b[0m \u001b[39mreturn\u001b[39;00m F\u001b[39m.\u001b[39;49mbatch_norm(\n\u001b[1;32m    172\u001b[0m     \u001b[39minput\u001b[39;49m,\n\u001b[1;32m    173\u001b[0m     \u001b[39m# If buffers are not to be tracked, ensure that they won't be updated\u001b[39;49;00m\n\u001b[1;32m    174\u001b[0m     \u001b[39mself\u001b[39;49m\u001b[39m.\u001b[39;49mrunning_mean\n\u001b[1;32m    175\u001b[0m     \u001b[39mif\u001b[39;49;00m \u001b[39mnot\u001b[39;49;00m \u001b[39mself\u001b[39;49m\u001b[39m.\u001b[39;49mtraining \u001b[39mor\u001b[39;49;00m \u001b[39mself\u001b[39;49m\u001b[39m.\u001b[39;49mtrack_running_stats\n\u001b[1;32m    176\u001b[0m     \u001b[39melse\u001b[39;49;00m \u001b[39mNone\u001b[39;49;00m,\n\u001b[1;32m    177\u001b[0m     \u001b[39mself\u001b[39;49m\u001b[39m.\u001b[39;49mrunning_var \u001b[39mif\u001b[39;49;00m \u001b[39mnot\u001b[39;49;00m \u001b[39mself\u001b[39;49m\u001b[39m.\u001b[39;49mtraining \u001b[39mor\u001b[39;49;00m \u001b[39mself\u001b[39;49m\u001b[39m.\u001b[39;49mtrack_running_stats \u001b[39melse\u001b[39;49;00m \u001b[39mNone\u001b[39;49;00m,\n\u001b[1;32m    178\u001b[0m     \u001b[39mself\u001b[39;49m\u001b[39m.\u001b[39;49mweight,\n\u001b[1;32m    179\u001b[0m     \u001b[39mself\u001b[39;49m\u001b[39m.\u001b[39;49mbias,\n\u001b[1;32m    180\u001b[0m     bn_training,\n\u001b[1;32m    181\u001b[0m     exponential_average_factor,\n\u001b[1;32m    182\u001b[0m     \u001b[39mself\u001b[39;49m\u001b[39m.\u001b[39;49meps,\n\u001b[1;32m    183\u001b[0m )\n",
      "File \u001b[0;32m~/Documents/Machine Learning/.conda/lib/python3.11/site-packages/torch/nn/functional.py:2478\u001b[0m, in \u001b[0;36mbatch_norm\u001b[0;34m(input, running_mean, running_var, weight, bias, training, momentum, eps)\u001b[0m\n\u001b[1;32m   2475\u001b[0m \u001b[39mif\u001b[39;00m training:\n\u001b[1;32m   2476\u001b[0m     _verify_batch_size(\u001b[39minput\u001b[39m\u001b[39m.\u001b[39msize())\n\u001b[0;32m-> 2478\u001b[0m \u001b[39mreturn\u001b[39;00m torch\u001b[39m.\u001b[39;49mbatch_norm(\n\u001b[1;32m   2479\u001b[0m     \u001b[39minput\u001b[39;49m, weight, bias, running_mean, running_var, training, momentum, eps, torch\u001b[39m.\u001b[39;49mbackends\u001b[39m.\u001b[39;49mcudnn\u001b[39m.\u001b[39;49menabled\n\u001b[1;32m   2480\u001b[0m )\n",
      "\u001b[0;31mRuntimeError\u001b[0m: running_mean should contain 16 elements not 34"
     ]
    }
   ],
   "source": [
    "loss_fn = nn.CrossEntropyLoss()\n",
    "\n",
    "loss = []\n",
    "tloss = []\n",
    "n_epoch  = []\n",
    "acc = []\n",
    "tacc = []\n",
    "\n",
    "optimizer = torch.optim.Adam(model.parameters(),\n",
    "                             lr = ALPHA,\n",
    "                             weight_decay=1e-5 # L2 regularization\n",
    "                             ) # optimizer\n",
    "\n",
    "\n",
    "# Iteration\n",
    "\n",
    "for epoch in range (EPOCHS):\n",
    "\n",
    "    model.train() # Set the mode\n",
    "    \n",
    "    predict_prob = model(train_X)\n",
    "    \n",
    "    curr_loss = loss_fn(predict_prob, train_y)\n",
    "\n",
    "    ###----------\n",
    "    ### Back prop\n",
    "    ###----------\n",
    "    optimizer.zero_grad()\n",
    "    curr_loss.backward()\n",
    "    optimizer.step()\n",
    "    ###-----------------\n",
    "\n",
    "    loss.append ( curr_loss.data.item() )\n",
    "    \n",
    "    _, y_pred = torch.max(predict_prob, 1)\n",
    "    \n",
    "    curr_acc = accuracy_score(y_train.argmax(axis = 1), y_pred.data.cpu())\n",
    "    \n",
    "    acc.append(curr_acc)\n",
    "    \n",
    "    model.eval()\n",
    "    \n",
    "    pred_prob_tst = model(test_X)\n",
    "    \n",
    "    tcurr_loss = loss_fn(pred_prob_tst, test_y)\n",
    "    \n",
    "    tloss.append(tcurr_loss.data.item())\n",
    "    \n",
    "    _, y_pred = torch.max(pred_prob_tst, 1)\n",
    "    \n",
    "    curr_acc_ts = accuracy_score(y_test.argmax(axis = 1), y_pred.data.cpu())\n",
    "    \n",
    "    tacc.append(curr_acc_ts)\n",
    "    \n",
    "    n_epoch.append(epoch)\n",
    "\n",
    "    if epoch%100 == 0:\n",
    "        print (f'epoch: {epoch} --- Loss {curr_loss.data.item():.3f}/{tcurr_loss.data.item():.3f}', end = '')\n",
    "        print (f'--- Acc {curr_acc:.3f}/{curr_acc_ts:.3f}')"
   ]
  },
  {
   "cell_type": "code",
   "execution_count": null,
   "metadata": {
    "colab": {
     "base_uri": "https://localhost:8080/"
    },
    "id": "ySgcvDEA02pm",
    "outputId": "ebd9e235-1c7a-4692-9b8a-4355d3eee050",
    "scrolled": true
   },
   "outputs": [
    {
     "data": {
      "text/plain": [
       "[Parameter containing:\n",
       " tensor([[-2.3052e-02, -5.5942e-38, -5.8578e-02,  ...,  1.6199e-02,\n",
       "           9.6483e-02, -7.0558e-02],\n",
       "         [ 2.0990e-02,  5.0923e-38, -8.4636e-02,  ..., -1.7530e-01,\n",
       "          -7.2439e-02,  6.5509e-02],\n",
       "         [ 3.1568e-02,  4.6066e-38, -9.4870e-02,  ..., -1.3507e-01,\n",
       "           5.6587e-02,  2.6846e-03],\n",
       "         ...,\n",
       "         [ 1.7531e-01,  2.3105e-38, -1.1650e-01,  ..., -8.4734e-02,\n",
       "           8.1571e-02, -1.1723e-02],\n",
       "         [-3.1549e-02,  8.2634e-39, -1.4914e-01,  ..., -2.9633e-02,\n",
       "          -1.0387e-01,  2.0291e-01],\n",
       "         [-9.0762e-02, -1.7267e-38, -1.1192e-01,  ...,  5.8974e-02,\n",
       "           2.1393e-02,  2.0416e-02]], requires_grad=True),\n",
       " Parameter containing:\n",
       " tensor([ 9.3590e-07, -7.3155e-07, -2.9700e-07, -1.4588e-08, -1.0616e-07,\n",
       "         -6.9076e-07, -9.8735e-07,  2.7609e-06,  2.0592e-07, -2.0769e-07,\n",
       "         -1.7922e-07, -1.3302e-06, -1.4080e-07,  3.8404e-07, -2.1864e-06,\n",
       "         -8.1425e-07, -3.1637e-08, -6.4407e-07,  8.7356e-07,  2.9839e-07,\n",
       "          9.2370e-07, -1.6459e-07,  9.5677e-07,  6.5612e-07, -8.2257e-07,\n",
       "          4.2296e-07, -7.4417e-07,  2.3811e-07,  7.4757e-07, -2.4502e-07,\n",
       "          1.2423e-07,  8.3262e-07, -1.7158e-07,  4.5559e-07],\n",
       "        requires_grad=True),\n",
       " Parameter containing:\n",
       " tensor([1.7390, 1.8713, 1.9839, 0.8854, 1.4202, 1.7413, 2.1198, 2.0528, 1.8742,\n",
       "         2.0060, 1.5821, 2.1746, 2.0292, 1.9084, 1.4471, 1.7203, 0.7073, 1.6695,\n",
       "         1.2668, 1.1408, 1.9739, 1.8001, 1.7581, 1.5808, 1.6154, 1.2745, 1.4295,\n",
       "         2.2471, 1.3769, 1.5448, 1.3879, 1.3405, 2.0428, 1.7943],\n",
       "        requires_grad=True),\n",
       " Parameter containing:\n",
       " tensor([-2.3013e-01, -3.6887e-03,  5.0578e-01,  1.8553e-01,  1.8858e-01,\n",
       "         -2.5166e-01, -2.3376e-01, -3.0449e-01,  4.1099e-01, -1.2064e-01,\n",
       "          3.5295e-01, -1.6243e-04, -3.4769e-02,  4.0831e-01,  2.6343e-01,\n",
       "         -1.9523e-01,  2.1435e-01, -2.2970e-01,  3.3698e-01,  2.5089e-01,\n",
       "          2.6928e-01,  1.9122e-02,  5.0575e-01,  3.6637e-01,  3.3254e-01,\n",
       "          3.0284e-01,  3.9014e-01, -1.8010e-01,  1.9989e-01,  4.4060e-01,\n",
       "          2.9237e-01,  5.6982e-01, -1.0376e-01,  5.7551e-02],\n",
       "        requires_grad=True),\n",
       " Parameter containing:\n",
       " tensor([[ 0.5485,  0.4555, -0.4877, -0.1838, -0.4255,  0.4412,  0.6869,  0.4104,\n",
       "          -0.5709,  0.6108, -0.3070,  0.7261,  0.4253, -0.5905, -0.4932,  0.4887,\n",
       "          -0.0246,  0.5247, -0.2370, -0.3068, -0.5868,  0.5908, -0.5445, -0.4955,\n",
       "          -0.3689, -0.2977, -0.4808,  0.7061, -0.3312, -0.3839, -0.3196, -0.3174,\n",
       "           0.7621,  0.3791],\n",
       "         [-0.5326, -0.4771,  0.3087,  0.0672,  0.2706, -0.3862, -0.4558, -0.5654,\n",
       "           0.6879, -0.7225,  0.4113, -0.4871, -0.7013,  0.5404,  0.4562, -0.5286,\n",
       "           0.1741, -0.6140,  0.3869,  0.3396,  0.3879, -0.5304,  0.4947,  0.2823,\n",
       "           0.4939,  0.3311,  0.4964, -0.8907,  0.3752,  0.5740,  0.3054,  0.3568,\n",
       "          -0.7982, -0.5140]], requires_grad=True),\n",
       " Parameter containing:\n",
       " tensor([-0.2670,  0.2370], requires_grad=True)]"
      ]
     },
     "execution_count": 86,
     "metadata": {},
     "output_type": "execute_result"
    }
   ],
   "source": [
    "list(model.parameters())"
   ]
  },
  {
   "cell_type": "code",
   "execution_count": null,
   "metadata": {
    "colab": {
     "base_uri": "https://localhost:8080/",
     "height": 613
    },
    "id": "oa8WtTI202pn",
    "outputId": "3f0ca548-7715-47c7-b4fd-fac7924bc060"
   },
   "outputs": [],
   "source": [
    "loss_df = pd.DataFrame({'epoch': n_epoch, \n",
    "                        'loss': loss, \n",
    "                        'test loss': tloss,\n",
    "                        'acc': acc, \n",
    "                        'test acc': tacc\n",
    "                       })"
   ]
  },
  {
   "cell_type": "code",
   "execution_count": null,
   "metadata": {},
   "outputs": [
    {
     "data": {
      "text/html": [
       "<div>\n",
       "<style scoped>\n",
       "    .dataframe tbody tr th:only-of-type {\n",
       "        vertical-align: middle;\n",
       "    }\n",
       "\n",
       "    .dataframe tbody tr th {\n",
       "        vertical-align: top;\n",
       "    }\n",
       "\n",
       "    .dataframe thead th {\n",
       "        text-align: right;\n",
       "    }\n",
       "</style>\n",
       "<table border=\"1\" class=\"dataframe\">\n",
       "  <thead>\n",
       "    <tr style=\"text-align: right;\">\n",
       "      <th></th>\n",
       "      <th>epoch</th>\n",
       "      <th>loss</th>\n",
       "      <th>test loss</th>\n",
       "      <th>acc</th>\n",
       "      <th>test acc</th>\n",
       "    </tr>\n",
       "  </thead>\n",
       "  <tbody>\n",
       "    <tr>\n",
       "      <th>0</th>\n",
       "      <td>0</td>\n",
       "      <td>0.677736</td>\n",
       "      <td>0.672557</td>\n",
       "      <td>0.657143</td>\n",
       "      <td>0.704225</td>\n",
       "    </tr>\n",
       "    <tr>\n",
       "      <th>1</th>\n",
       "      <td>1</td>\n",
       "      <td>0.671190</td>\n",
       "      <td>0.668145</td>\n",
       "      <td>0.646429</td>\n",
       "      <td>0.690141</td>\n",
       "    </tr>\n",
       "    <tr>\n",
       "      <th>2</th>\n",
       "      <td>2</td>\n",
       "      <td>0.665070</td>\n",
       "      <td>0.663530</td>\n",
       "      <td>0.660714</td>\n",
       "      <td>0.732394</td>\n",
       "    </tr>\n",
       "    <tr>\n",
       "      <th>3</th>\n",
       "      <td>3</td>\n",
       "      <td>0.658185</td>\n",
       "      <td>0.658713</td>\n",
       "      <td>0.685714</td>\n",
       "      <td>0.746479</td>\n",
       "    </tr>\n",
       "    <tr>\n",
       "      <th>4</th>\n",
       "      <td>4</td>\n",
       "      <td>0.653759</td>\n",
       "      <td>0.653680</td>\n",
       "      <td>0.700000</td>\n",
       "      <td>0.760563</td>\n",
       "    </tr>\n",
       "  </tbody>\n",
       "</table>\n",
       "</div>"
      ],
      "text/plain": [
       "   epoch      loss  test loss       acc  test acc\n",
       "0      0  0.677736   0.672557  0.657143  0.704225\n",
       "1      1  0.671190   0.668145  0.646429  0.690141\n",
       "2      2  0.665070   0.663530  0.660714  0.732394\n",
       "3      3  0.658185   0.658713  0.685714  0.746479\n",
       "4      4  0.653759   0.653680  0.700000  0.760563"
      ]
     },
     "execution_count": 88,
     "metadata": {},
     "output_type": "execute_result"
    }
   ],
   "source": [
    "loss_df.head()"
   ]
  },
  {
   "cell_type": "code",
   "execution_count": null,
   "metadata": {},
   "outputs": [
    {
     "data": {
      "image/png": "[encoded data removed]",
      "text/plain": [
       "<Figure size 1500x800 with 1 Axes>"
      ]
     },
     "metadata": {},
     "output_type": "display_data"
    }
   ],
   "source": [
    "loss_df.plot(x = 'epoch', y = ['loss', 'test loss']);"
   ]
  },
  {
   "cell_type": "code",
   "execution_count": null,
   "metadata": {},
   "outputs": [
    {
     "data": {
      "image/png": "[encoded data removed]",
      "text/plain": [
       "<Figure size 1500x800 with 1 Axes>"
      ]
     },
     "metadata": {},
     "output_type": "display_data"
    }
   ],
   "source": [
    "loss_df.plot(x = 'epoch', y = ['acc', 'test acc']);"
   ]
  },
  {
   "cell_type": "markdown",
   "metadata": {},
   "source": [
    "### Test Data"
   ]
  },
  {
   "cell_type": "code",
   "execution_count": null,
   "metadata": {
    "colab": {
     "base_uri": "https://localhost:8080/"
    },
    "id": "ALSrXj1y02pp",
    "outputId": "85d712a1-a35e-4f4f-9075-10c6013b8b48"
   },
   "outputs": [
    {
     "name": "stdout",
     "output_type": "stream",
     "text": [
      "Accuracy score on Test Data :  0.9014\n"
     ]
    }
   ],
   "source": [
    "pred_prob = model(test_X)\n",
    "_, y_pred = torch.max(pred_prob, 1)\n",
    "    \n",
    "curr_acc_ts = accuracy_score(y_test.argmax(axis = 1), y_pred.data.cpu())\n",
    "\n",
    "print(f'Accuracy score on Test Data : {curr_acc_ts: .4f}')"
   ]
  },
  {
   "cell_type": "code",
   "execution_count": null,
   "metadata": {
    "colab": {
     "base_uri": "https://localhost:8080/"
    },
    "id": "2-9J2srK02pp",
    "outputId": "d53e6cdf-9108-48f1-a812-8a8d32529912"
   },
   "outputs": [
    {
     "name": "stdout",
     "output_type": "stream",
     "text": [
      "              precision    recall  f1-score   support\n",
      "\n",
      "           0       1.00      0.72      0.84        25\n",
      "           1       0.87      1.00      0.93        46\n",
      "\n",
      "    accuracy                           0.90        71\n",
      "   macro avg       0.93      0.86      0.88        71\n",
      "weighted avg       0.91      0.90      0.90        71\n",
      "\n"
     ]
    }
   ],
   "source": [
    "print(classification_report(np.argmax(y_test, axis = 1), y_pred))"
   ]
  },
  {
   "cell_type": "code",
   "execution_count": null,
   "metadata": {},
   "outputs": [
    {
     "data": {
      "text/plain": [
       "array([[18,  7],\n",
       "       [ 0, 46]])"
      ]
     },
     "execution_count": 93,
     "metadata": {},
     "output_type": "execute_result"
    }
   ],
   "source": [
    "## Confusion Matrix helps\n",
    "\n",
    "cm  = confusion_matrix(np.argmax(y_test, axis = 1), y_pred)\n",
    "cm"
   ]
  },
  {
   "cell_type": "code",
   "execution_count": null,
   "metadata": {},
   "outputs": [
    {
     "data": {
      "image/png": "[encoded data removed]",
      "text/plain": [
       "<Figure size 400x400 with 1 Axes>"
      ]
     },
     "metadata": {},
     "output_type": "display_data"
    }
   ],
   "source": [
    "disp = ConfusionMatrixDisplay(confusion_matrix=cm,\n",
    "                              display_labels = labels.values())\n",
    "\n",
    "fig, ax = plt.subplots(figsize = (4,4))\n",
    "\n",
    "disp.plot(ax = ax, cmap = 'Blues', colorbar=False)\n",
    "\n",
    "plt.show();"
   ]
  },
  {
   "cell_type": "code",
   "execution_count": null,
   "metadata": {},
   "outputs": [],
   "source": []
  },
  {
   "cell_type": "code",
   "execution_count": null,
   "metadata": {},
   "outputs": [],
   "source": []
  }
 ],
 "metadata": {
  "accelerator": "GPU",
  "colab": {
   "name": "S05a_one_hidden_layer_with_tanh_wip.ipynb",
   "provenance": []
  },
  "kernelspec": {
   "display_name": "Python 3 (ipykernel)",
   "language": "python",
   "name": "python3"
  },
  "language_info": {
   "codemirror_mode": {
    "name": "ipython",
    "version": 3
   },
   "file_extension": ".py",
   "mimetype": "text/x-python",
   "name": "python",
   "nbconvert_exporter": "python",
   "pygments_lexer": "ipython3",
   "version": "3.11.5"
  }
 },
 "nbformat": 4,
 "nbformat_minor": 4
}
