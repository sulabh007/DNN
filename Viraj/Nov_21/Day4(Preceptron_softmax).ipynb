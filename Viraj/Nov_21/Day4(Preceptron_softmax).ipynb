{
 "cells": [
  {
   "cell_type": "code",
   "execution_count": 1,
   "metadata": {},
   "outputs": [],
   "source": [
    "###-----------------\n",
    "### Import Libraries\n",
    "###-----------------\n",
    "\n",
    "import numpy as np\n",
    "import pandas as pd\n",
    "import matplotlib.pyplot as plt\n",
    "\n",
    "import seaborn as sns\n",
    "\n",
    "from sklearn import datasets\n",
    "from sklearn.metrics import accuracy_score, confusion_matrix, ConfusionMatrixDisplay\n",
    "from sklearn.model_selection import train_test_split\n",
    "%matplotlib inline"
   ]
  },
  {
   "cell_type": "code",
   "execution_count": 2,
   "metadata": {},
   "outputs": [],
   "source": [
    "###----------------\n",
    "### Some parameters\n",
    "###----------------\n",
    "\n",
    "Random_state = 24 # REMEMBER: to remove at the time of promotion to production\n",
    "np.random.seed(Random_state)\n",
    "rng = np.random.default_rng(seed = Random_state) # Set Random Seed for reproducible  results\n",
    "\n",
    "NOISE = 0.2\n",
    "EPOCHS = 200  # number of epochs\n",
    "ALPHA = 0.1  # learning rate\n",
    "N_SAMPLES = 1000\n",
    "TEST_SIZE = 0.2\n",
    "# parameters for Matplotlib\n",
    "params = {'legend.fontsize': 'medium',\n",
    "          'figure.figsize': (15, 6),\n",
    "          'axes.labelsize': 'large',\n",
    "          'axes.titlesize':'large',\n",
    "          'xtick.labelsize':'large',\n",
    "          'ytick.labelsize':'large'\n",
    "         }\n",
    "\n",
    "plt.rcParams.update(params)\n",
    "\n",
    "CMAP = plt.cm.coolwarm\n",
    "plt.style.use('seaborn-v0_8-darkgrid') # plt.style.use('ggplot')"
   ]
  },
  {
   "cell_type": "code",
   "execution_count": 3,
   "metadata": {},
   "outputs": [
    {
     "data": {
      "text/plain": [
       "((1000, 2), (1000,))"
      ]
     },
     "execution_count": 3,
     "metadata": {},
     "output_type": "execute_result"
    }
   ],
   "source": [
    "X ,y = datasets.make_moons(n_samples=N_SAMPLES,\n",
    "                           shuffle=True,\n",
    "                           noise=NOISE,\n",
    "                           random_state=Random_state)\n",
    "\n",
    "X.shape,y.shape"
   ]
  },
  {
   "cell_type": "code",
   "execution_count": 4,
   "metadata": {},
   "outputs": [
    {
     "data": {
      "text/plain": [
       "((1000, 2), (1000, 2))"
      ]
     },
     "execution_count": 4,
     "metadata": {},
     "output_type": "execute_result"
    }
   ],
   "source": [
    "y=pd.get_dummies(y).to_numpy()\n",
    "X.shape,y.shape"
   ]
  },
  {
   "cell_type": "code",
   "execution_count": 5,
   "metadata": {},
   "outputs": [],
   "source": [
    "X_train, X_test ,y_train, y_test =train_test_split(X,y,random_state=Random_state,stratify=y,test_size=TEST_SIZE )\n",
    "\n"
   ]
  },
  {
   "cell_type": "markdown",
   "metadata": {},
   "source": [
    "## Multilayer Perceptron using  SoftMax at output layer and Tanh as a activation function at hidden layer"
   ]
  },
  {
   "cell_type": "markdown",
   "metadata": {},
   "source": [
    "### Tanh Activation"
   ]
  },
  {
   "cell_type": "code",
   "execution_count": 6,
   "metadata": {},
   "outputs": [],
   "source": [
    "def fn_actv(z):\n",
    "    return np.tanh(z)\n",
    "\n",
    "def fn_actv_prime(a):\n",
    "    return 1-np.tanh(a)**2\n"
   ]
  },
  {
   "cell_type": "markdown",
   "metadata": {},
   "source": [
    "# Softamx Acitivation"
   ]
  },
  {
   "cell_type": "code",
   "execution_count": 7,
   "metadata": {},
   "outputs": [],
   "source": [
    "\n",
    "def fn_softmax(z):\n",
    "    exp_sc = np.exp(z)\n",
    "    return (exp_sc/np.sum(exp_sc,axis=1,keepdims=True))"
   ]
  },
  {
   "cell_type": "code",
   "execution_count": 8,
   "metadata": {},
   "outputs": [
    {
     "data": {
      "text/plain": [
       "array([[9.51747406e-01, 4.73847131e-02, 8.67881295e-04],\n",
       "       [2.06106005e-09, 4.53978686e-05, 9.99954600e-01]])"
      ]
     },
     "execution_count": 8,
     "metadata": {},
     "output_type": "execute_result"
    }
   ],
   "source": [
    "pred = fn_softmax(np.array([[8,5,1],[-10,0,10]]))\n",
    "pred"
   ]
  },
  {
   "cell_type": "code",
   "execution_count": 9,
   "metadata": {},
   "outputs": [
    {
     "data": {
      "text/plain": [
       "array([1., 1.])"
      ]
     },
     "execution_count": 9,
     "metadata": {},
     "output_type": "execute_result"
    }
   ],
   "source": [
    "pred.sum(axis=1)"
   ]
  },
  {
   "cell_type": "markdown",
   "metadata": {},
   "source": [
    "# Loss Calculation"
   ]
  },
  {
   "cell_type": "code",
   "execution_count": 10,
   "metadata": {},
   "outputs": [],
   "source": [
    "def calculate_loss(model,X,y):\n",
    "    w1,w2,b1,b2 = model['W1'],model['W2'],model['b1'],model['b2']\n",
    "    m = X.shape[0]\n",
    "            #Layer 1\n",
    "    z1 = X.dot(w1)+b1\n",
    "    a1 = fn_actv(z1)\n",
    "            \n",
    "            #Layer 2\n",
    "    z2 = a1.dot(w2)+b2\n",
    "    a2 = fn_softmax(z2)\n",
    "\n",
    "    data_loss = -(y*np.log(a2)+ (1-y)*np.log(1-a2)).sum()\n",
    "\n",
    "    return  1./m*data_loss"
   ]
  },
  {
   "cell_type": "markdown",
   "metadata": {},
   "source": [
    "### Prediciton"
   ]
  },
  {
   "cell_type": "code",
   "execution_count": 11,
   "metadata": {},
   "outputs": [],
   "source": [
    "def predict(model,X):\n",
    "    \n",
    "    w1,w2,b1,b2 = model['W1'],model['W2'],model['b1'],model['b2']\n",
    "            \n",
    "            #Layer 1\n",
    "    z1 = X.dot(w1)+b1\n",
    "    a1 = fn_actv(z1)\n",
    "            \n",
    "            #Layer 2\n",
    "    z2 = a1.dot(w2)+b2\n",
    "    a2 = fn_softmax(z2)\n",
    "    return np.argmax(a2,axis=1)"
   ]
  },
  {
   "cell_type": "code",
   "execution_count": 12,
   "metadata": {},
   "outputs": [],
   "source": [
    "nn_input_dim =X_train.shape[1]\n",
    "nn_hdim = 4\n",
    "nn_output_dim=1\n",
    "hist={}"
   ]
  },
  {
   "cell_type": "markdown",
   "metadata": {},
   "source": [
    "# Training"
   ]
  },
  {
   "cell_type": "code",
   "execution_count": 13,
   "metadata": {},
   "outputs": [],
   "source": [
    "def build_model(X,y, alpha=ALPHA, n_epoch=EPOCHS):\n",
    "    w1 = np.random.rand(nn_input_dim,nn_hdim)/np.sqrt(nn_input_dim)\n",
    "    w2 = np.random.rand(nn_hdim,nn_output_dim)/np.sqrt(nn_input_dim)\n",
    "\n",
    "    b1 = np.zeros((1,nn_hdim)) \n",
    "    b2 = np.zeros((1,nn_output_dim)) \n",
    "\n",
    "    curr_loss=0\n",
    "    loss ,epoch =[],[]\n",
    "    m=X.shape[0]\n",
    "    errors=[]\n",
    "    for i in range(n_epoch):\n",
    "        #forward propagation\n",
    "            \n",
    "        #Layer 1train\n",
    "        z1 = X.dot(w1)+b1\n",
    "        a1 = fn_actv(z1)\n",
    "                \n",
    "                #Layer 2\n",
    "        z2 = a1.dot(w2)+b2\n",
    "        a2 = fn_softmax(z2)\n",
    "\n",
    "        #######################\n",
    "        #Back propagation       \n",
    "        #Layer 2\n",
    "        dz2 = a2-y\n",
    "        #print(dz2)\n",
    "        assert(z2.shape == dz2.shape),f'error z2 {z2.shape}/{dz2.shape})'\n",
    "\n",
    "        dw2 =( a1.T).dot(dz2)\n",
    "        assert(w2.shape == dw2.shape),f'error w2 {w2.shape}/{dw2.shape}'\n",
    "\n",
    "        db2 =np.sum(dz2,axis=0,keepdims=True)\n",
    "        assert(b2.shape == db2.shape),f'error b2 {b2.shape}/{db2.shape}'\n",
    "\n",
    "        da1 = dz2.dot(w2.T)\n",
    "\n",
    "        #Layer 1\n",
    "        dz1 = da1*fn_actv_prime(z1)\n",
    "\n",
    "        dw1 =( X.T).dot(dz1)\n",
    "        assert(w1.shape == dw1.shape),f'error w1 {w1.shape}/{dw1.shape}'\n",
    "\n",
    "        db1 =np.sum(dz1,axis=0,keepdims=True)\n",
    "        assert(b1.shape == db1.shape),f'error b1 {b1.shape}/{db1.shape}'\n",
    "\n",
    "        w1 += -alpha*dw1/m #gradient update\n",
    "        w2 += -alpha*dw2/m #gradient update\n",
    "        b1 += -alpha*db1/m #gradient update\n",
    "        b2 += -alpha*db2/m #gradient update\n",
    "\n",
    "        model = {'W1':w1, 'W2':w2,'b1':b1,'b2':b2 }\n",
    "\n",
    "        if i%100==0:\n",
    "            curr_loss = calculate_loss(model,X,y)\n",
    "            loss.append(curr_loss)\n",
    "            epoch.append(i)\n",
    "        \n",
    "        \n",
    "        hist['loss']=loss\n",
    "        hist['epochs']=epoch\n",
    "    return model"
   ]
  },
  {
   "cell_type": "code",
   "execution_count": 14,
   "metadata": {},
   "outputs": [
    {
     "ename": "AssertionError",
     "evalue": "error z2 (800, 1)/(800, 2))",
     "output_type": "error",
     "traceback": [
      "\u001b[0;31m---------------------------------------------------------------------------\u001b[0m",
      "\u001b[0;31mAssertionError\u001b[0m                            Traceback (most recent call last)",
      "\u001b[1;32m/home/dai/Documents/DNN/Nov21_DNN/Day4(Preceptron_softmax).ipynb Cell 20\u001b[0m line \u001b[0;36m1\n\u001b[0;32m----> <a href='vscode-notebook-cell:/home/dai/Documents/DNN/Nov21_DNN/Day4%28Preceptron_softmax%29.ipynb#X25sZmlsZQ%3D%3D?line=0'>1</a>\u001b[0m model \u001b[39m=\u001b[39m build_model(X_train,y_train)\n",
      "\u001b[1;32m/home/dai/Documents/DNN/Nov21_DNN/Day4(Preceptron_softmax).ipynb Cell 20\u001b[0m line \u001b[0;36m2\n\u001b[1;32m     <a href='vscode-notebook-cell:/home/dai/Documents/DNN/Nov21_DNN/Day4%28Preceptron_softmax%29.ipynb#X25sZmlsZQ%3D%3D?line=25'>26</a>\u001b[0m dz2 \u001b[39m=\u001b[39m a2\u001b[39m-\u001b[39my\n\u001b[1;32m     <a href='vscode-notebook-cell:/home/dai/Documents/DNN/Nov21_DNN/Day4%28Preceptron_softmax%29.ipynb#X25sZmlsZQ%3D%3D?line=26'>27</a>\u001b[0m \u001b[39m#print(dz2)\u001b[39;00m\n\u001b[0;32m---> <a href='vscode-notebook-cell:/home/dai/Documents/DNN/Nov21_DNN/Day4%28Preceptron_softmax%29.ipynb#X25sZmlsZQ%3D%3D?line=27'>28</a>\u001b[0m \u001b[39massert\u001b[39;00m(z2\u001b[39m.\u001b[39mshape \u001b[39m==\u001b[39m dz2\u001b[39m.\u001b[39mshape),\u001b[39mf\u001b[39m\u001b[39m'\u001b[39m\u001b[39merror z2 \u001b[39m\u001b[39m{\u001b[39;00mz2\u001b[39m.\u001b[39mshape\u001b[39m}\u001b[39;00m\u001b[39m/\u001b[39m\u001b[39m{\u001b[39;00mdz2\u001b[39m.\u001b[39mshape\u001b[39m}\u001b[39;00m\u001b[39m)\u001b[39m\u001b[39m'\u001b[39m\n\u001b[1;32m     <a href='vscode-notebook-cell:/home/dai/Documents/DNN/Nov21_DNN/Day4%28Preceptron_softmax%29.ipynb#X25sZmlsZQ%3D%3D?line=29'>30</a>\u001b[0m dw2 \u001b[39m=\u001b[39m( a1\u001b[39m.\u001b[39mT)\u001b[39m.\u001b[39mdot(dz2)\n\u001b[1;32m     <a href='vscode-notebook-cell:/home/dai/Documents/DNN/Nov21_DNN/Day4%28Preceptron_softmax%29.ipynb#X25sZmlsZQ%3D%3D?line=30'>31</a>\u001b[0m \u001b[39massert\u001b[39;00m(w2\u001b[39m.\u001b[39mshape \u001b[39m==\u001b[39m dw2\u001b[39m.\u001b[39mshape),\u001b[39mf\u001b[39m\u001b[39m'\u001b[39m\u001b[39merror w2 \u001b[39m\u001b[39m{\u001b[39;00mw2\u001b[39m.\u001b[39mshape\u001b[39m}\u001b[39;00m\u001b[39m/\u001b[39m\u001b[39m{\u001b[39;00mdw2\u001b[39m.\u001b[39mshape\u001b[39m}\u001b[39;00m\u001b[39m'\u001b[39m\n",
      "\u001b[0;31mAssertionError\u001b[0m: error z2 (800, 1)/(800, 2))"
     ]
    }
   ],
   "source": [
    "model = build_model(X_train,y_train)"
   ]
  },
  {
   "cell_type": "code",
   "execution_count": null,
   "metadata": {},
   "outputs": [],
   "source": [
    "def fn_plot_decision_boundary(predict,X_tr,y_tr,X_ts,y_ts):\n",
    "    \n",
    "    # initialize the figure\n",
    "    fig, ax = plt.subplots(figsize = (8,5))\n",
    "   \n",
    "    \n",
    "    # Range of X values (First feature)\n",
    "    x_min, x_max = X_tr[:, 0].min() - 0.05, X_tr[:, 0].max() + 0.05\n",
    "    \n",
    "    # Range of Y values (Second feature)\n",
    "    y_min, y_max = X_tr[:, 1].min() - 0.05, X_tr[:, 1].max() + 0.05\n",
    "    \n",
    "    h=0.01\n",
    "    # Create a grid to evaluate the object function\n",
    "    xx, yy = np.meshgrid(np.arange(x_min, x_max, h),\n",
    "                         np.arange(y_min, y_max, h))\n",
    "    \n",
    "    z= predict((np.c_[xx.ravel(),yy.ravel()]))\n",
    "\n",
    "    z=z.reshape(xx.shape)\n",
    "    fig = plt.figure()\n",
    "    ax = fig.add_axes(111)\n",
    "    ax.contourf(xx,yy,z,camp=CMAP,)\n",
    "    ax.scatter(X_tr[:,0],X_tr[:,1],c=np.argmax(y_tr,axis=1),s=30,edgecolor='k',cmap=plt.cm.coolwarm)\n",
    "    ax.scatter(X_ts[:,0],X_ts[:,1],c=np.argmax(y_ts,axis=1),s=30,marker='*',edgecolor='k',cmap=plt.cm.inferno)"
   ]
  },
  {
   "cell_type": "code",
   "execution_count": null,
   "metadata": {},
   "outputs": [],
   "source": [
    "fn_plot_decision_boundary(lambda x:predict(model,x),X_train,y_train,X_test,y_test)"
   ]
  },
  {
   "cell_type": "code",
   "execution_count": null,
   "metadata": {},
   "outputs": [],
   "source": []
  }
 ],
 "metadata": {
  "kernelspec": {
   "display_name": "base",
   "language": "python",
   "name": "python3"
  },
  "language_info": {
   "codemirror_mode": {
    "name": "ipython",
    "version": 3
   },
   "file_extension": ".py",
   "mimetype": "text/x-python",
   "name": "python",
   "nbconvert_exporter": "python",
   "pygments_lexer": "ipython3",
   "version": "3.11.5"
  }
 },
 "nbformat": 4,
 "nbformat_minor": 2
}
