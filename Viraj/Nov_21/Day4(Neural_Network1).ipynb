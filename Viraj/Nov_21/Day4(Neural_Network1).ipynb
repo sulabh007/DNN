{
 "cells": [
  {
   "cell_type": "code",
   "execution_count": 57,
   "metadata": {},
   "outputs": [],
   "source": [
    "###-----------------\n",
    "### Import Libraries\n",
    "###-----------------\n",
    "\n",
    "import numpy as np\n",
    "import pandas as pd\n",
    "import matplotlib.pyplot as plt\n",
    "\n",
    "import seaborn as sns\n",
    "\n",
    "from sklearn import datasets\n",
    "from sklearn.metrics import accuracy_score, confusion_matrix, ConfusionMatrixDisplay\n",
    "from sklearn.model_selection import train_test_split\n",
    "%matplotlib inline"
   ]
  },
  {
   "cell_type": "code",
   "execution_count": 58,
   "metadata": {},
   "outputs": [],
   "source": [
    "###----------------\n",
    "### Some parameters\n",
    "###----------------\n",
    "\n",
    "Sharma_sir_state = 24 # REMEMBER: to remove at the time of promotion to production\n",
    "np.random.seed(Sharma_sir_state)\n",
    "rng = np.random.default_rng(seed = Sharma_sir_state) # Set Random Seed for reproducible  results\n",
    "\n",
    "NOISE = 0.2\n",
    "EPOCHS = 200  # number of epochs\n",
    "ALPHA = 0.1  # learning rate\n",
    "N_SAMPLES = 1000\n",
    "TEST_SIZE = 0.2\n",
    "# parameters for Matplotlib\n",
    "params = {'legend.fontsize': 'medium',\n",
    "          'figure.figsize': (15, 6),\n",
    "          'axes.labelsize': 'large',\n",
    "          'axes.titlesize':'large',\n",
    "          'xtick.labelsize':'large',\n",
    "          'ytick.labelsize':'large'\n",
    "         }\n",
    "\n",
    "plt.rcParams.update(params)\n",
    "\n",
    "CMAP = plt.cm.coolwarm\n",
    "plt.style.use('seaborn-v0_8-darkgrid') # plt.style.use('ggplot')"
   ]
  },
  {
   "cell_type": "code",
   "execution_count": 59,
   "metadata": {},
   "outputs": [
    {
     "data": {
      "text/plain": [
       "((1000, 2), (1000,))"
      ]
     },
     "execution_count": 59,
     "metadata": {},
     "output_type": "execute_result"
    }
   ],
   "source": [
    "X ,y = datasets.make_moons(n_samples=N_SAMPLES,\n",
    "                           shuffle=True,\n",
    "                           noise=NOISE,\n",
    "                           random_state=Sharma_sir_state)\n",
    "\n",
    "X.shape,y.shape"
   ]
  },
  {
   "cell_type": "code",
   "execution_count": 60,
   "metadata": {},
   "outputs": [],
   "source": [
    "X_train, X_test ,y_train, y_test =train_test_split(X,y,random_state=Sharma_sir_state,stratify=y,test_size=TEST_SIZE )\n",
    "\n",
    "y_train = y_train.reshape(-1,1)"
   ]
  },
  {
   "cell_type": "markdown",
   "metadata": {},
   "source": [
    "## Multilayer Perceptron using Tanh as a activation function at hidden layer and sigmoid at output layer "
   ]
  },
  {
   "cell_type": "markdown",
   "metadata": {},
   "source": [
    "### Tanh Activation"
   ]
  },
  {
   "cell_type": "code",
   "execution_count": 61,
   "metadata": {},
   "outputs": [],
   "source": [
    "def fn_actv(z):\n",
    "    return np.tanh(z)\n",
    "\n",
    "def fn_actv_prime(a):\n",
    "    return 1-np.tanh(a)**2\n"
   ]
  },
  {
   "cell_type": "markdown",
   "metadata": {},
   "source": [
    "### Sigmoid Acitivation"
   ]
  },
  {
   "cell_type": "code",
   "execution_count": 62,
   "metadata": {},
   "outputs": [],
   "source": [
    "\n",
    "def fn_sigmoid(z):\n",
    "    return (1/(1+np.exp(-z)))"
   ]
  },
  {
   "cell_type": "markdown",
   "metadata": {},
   "source": [
    "# Loss Calculation"
   ]
  },
  {
   "cell_type": "code",
   "execution_count": 63,
   "metadata": {},
   "outputs": [],
   "source": [
    "def calculate_loss(model,X,y):\n",
    "    w1,w2,b1,b2 = model['W1'],model['W2'],model['b1'],model['b2']\n",
    "    m = X.shape[0]\n",
    "            #Layer 1\n",
    "    z1 = X.dot(w1)+b1\n",
    "    a1 = fn_actv(z1)\n",
    "            \n",
    "            #Layer 2\n",
    "    z2 = a1.dot(w2)+b2\n",
    "    a2 = fn_sigmoid(z2)\n",
    "\n",
    "    data_loss = -(y*np.log(a2)).sum()\n",
    "\n",
    "    return data_loss * 1./m"
   ]
  },
  {
   "cell_type": "markdown",
   "metadata": {},
   "source": [
    "### Prediciton"
   ]
  },
  {
   "cell_type": "code",
   "execution_count": 64,
   "metadata": {},
   "outputs": [],
   "source": [
    "\n",
    "def predict(model,X):\n",
    "    \n",
    "    w1,w2,b1,b2 = model['W1'],model['W2'],model['b1'],model['b2']\n",
    "            \n",
    "            #Layer 1\n",
    "    z1 = X.dot(w1)+b1\n",
    "    a1 = fn_actv(z1)\n",
    "            \n",
    "            #Layer 2\n",
    "    z2 = a1.dot(w2)+b2\n",
    "    a2 = fn_sigmoid(z2)\n",
    "    return a2>=0.5"
   ]
  },
  {
   "cell_type": "code",
   "execution_count": 65,
   "metadata": {},
   "outputs": [],
   "source": [
    "nn_input_dim =X_train.shape[1]\n",
    "nn_hdim = 4\n",
    "nn_output_dim=1\n",
    "hist={}"
   ]
  },
  {
   "cell_type": "markdown",
   "metadata": {},
   "source": [
    "# Training"
   ]
  },
  {
   "cell_type": "code",
   "execution_count": 68,
   "metadata": {},
   "outputs": [],
   "source": [
    "def build_model(X,y, alpha=ALPHA, n_epoch=EPOCHS):\n",
    "    w1 = np.random.rand(nn_input_dim,nn_hdim)/np.sqrt(nn_input_dim)\n",
    "    w2 = np.random.rand(nn_hdim,nn_output_dim)/np.sqrt(nn_input_dim)\n",
    "\n",
    "    b1 = np.zeros((1,nn_hdim)) \n",
    "    b2 = np.zeros((1,nn_output_dim)) \n",
    "\n",
    "    curr_loss=0\n",
    "    loss ,epoch =[],[]\n",
    "    m=X.shape[0]\n",
    "    errors=[]\n",
    "    for i in range(n_epoch):\n",
    "        #forward propagation\n",
    "            \n",
    "        #Layer 1 train\n",
    "        z1 = X.dot(w1)+b1\n",
    "        a1 = fn_actv(z1)\n",
    "                \n",
    "        #Layer 2\n",
    "        z2 = a1.dot(w2)+b2\n",
    "        a2 = fn_sigmoid(z2)\n",
    "\n",
    "        #######################\n",
    "        #Back propagation       \n",
    "        #Layer 2\n",
    "        dz2 = a2-y\n",
    "        #print(dz2)\n",
    "        assert(z2.shape == dz2.shape),f'error z2 {z2.shape}/{dz2.shape})'\n",
    "\n",
    "        dw2 =( a1.T).dot(dz2)\n",
    "        assert(w2.shape == dw2.shape),f'error w2 {w2.shape}/{dw2.shape}'\n",
    "\n",
    "        db2 =np.sum(dz2,axis=0,keepdims=True)\n",
    "        assert(b2.shape == db2.shape),f'error b2 {b2.shape}/{db2.shape}'\n",
    "\n",
    "        da1 = dz2.dot(w2.T)\n",
    "\n",
    "        #Layer 1\n",
    "        dz1 = da1*fn_actv_prime(z1)\n",
    "\n",
    "        dw1 =( X.T).dot(dz1)\n",
    "        assert(w1.shape == dw1.shape),f'error w1 {w1.shape}/{dw1.shape}'\n",
    "\n",
    "        db1 =np.sum(dz1,axis=0,keepdims=True)\n",
    "        assert(b1.shape == db1.shape),f'error b1 {b1.shape}/{db1.shape}'\n",
    "\n",
    "        w1 += -alpha*dw1/m #gradient update\n",
    "        w2 += -alpha*dw2/m #gradient update\n",
    "        b1 += -alpha*db1/m #gradient update\n",
    "        b2 += -alpha*db2/m #gradient update\n",
    "\n",
    "        model ={'W1':w1, 'W2':w2,'b1':b1,'b2':b2 }\n",
    "\n",
    "        if i%100==0:\n",
    "            curr_loss = calculate_loss(model,X,y)\n",
    "            loss.append(curr_loss)\n",
    "            epoch.append(i)\n",
    "        \n",
    "        \n",
    "        hist['loss']=loss\n",
    "        hist['epochs']=epoch\n",
    "    return model"
   ]
  },
  {
   "cell_type": "code",
   "execution_count": 69,
   "metadata": {},
   "outputs": [],
   "source": [
    "model = build_model(X_train,y_train)"
   ]
  },
  {
   "cell_type": "code",
   "execution_count": null,
   "metadata": {},
   "outputs": [],
   "source": []
  },
  {
   "cell_type": "code",
   "execution_count": 70,
   "metadata": {},
   "outputs": [
    {
     "ename": "NameError",
     "evalue": "name 'weights' is not defined",
     "output_type": "error",
     "traceback": [
      "\u001b[0;31m---------------------------------------------------------------------------\u001b[0m",
      "\u001b[0;31mNameError\u001b[0m                                 Traceback (most recent call last)",
      "\u001b[1;32m/home/dai/KP_Module/DNN(Deep Neural Network)/Practise/Day4(Neural_Network1).ipynb Cell 18\u001b[0m line \u001b[0;36m3\n\u001b[1;32m      <a href='vscode-notebook-cell:/home/dai/KP_Module/DNN%28Deep%20Neural%20Network%29/Practise/Day4%28Neural_Network1%29.ipynb#X65sZmlsZQ%3D%3D?line=0'>1</a>\u001b[0m \u001b[39mdef\u001b[39;00m \u001b[39mfn_plot_decision_boundry\u001b[39m(X_tr:np\u001b[39m.\u001b[39mndarray,\n\u001b[1;32m      <a href='vscode-notebook-cell:/home/dai/KP_Module/DNN%28Deep%20Neural%20Network%29/Practise/Day4%28Neural_Network1%29.ipynb#X65sZmlsZQ%3D%3D?line=1'>2</a>\u001b[0m                              x_ts:np\u001b[39m.\u001b[39mndarray,\n\u001b[0;32m----> <a href='vscode-notebook-cell:/home/dai/KP_Module/DNN%28Deep%20Neural%20Network%29/Practise/Day4%28Neural_Network1%29.ipynb#X65sZmlsZQ%3D%3D?line=2'>3</a>\u001b[0m                              wts:np\u001b[39m.\u001b[39mndarray\u001b[39m=\u001b[39mweights):\n\u001b[1;32m      <a href='vscode-notebook-cell:/home/dai/KP_Module/DNN%28Deep%20Neural%20Network%29/Practise/Day4%28Neural_Network1%29.ipynb#X65sZmlsZQ%3D%3D?line=3'>4</a>\u001b[0m     fig,ax \u001b[39m=\u001b[39m plt\u001b[39m.\u001b[39msubplots()\n\u001b[1;32m      <a href='vscode-notebook-cell:/home/dai/KP_Module/DNN%28Deep%20Neural%20Network%29/Practise/Day4%28Neural_Network1%29.ipynb#X65sZmlsZQ%3D%3D?line=4'>5</a>\u001b[0m     dm\u001b[39m=\u001b[39m\u001b[39m0.05\u001b[39m\n",
      "\u001b[0;31mNameError\u001b[0m: name 'weights' is not defined"
     ]
    }
   ],
   "source": [
    "def fn_plot_decision_boundary(predict,X_tr,y_tr,X_ts,y_ts):\n",
    "    \n",
    "    # initialize the figure\n",
    "    fig, ax = plt.subplots(figsize = (8,5))\n",
    "   \n",
    "    \n",
    "    # Range of X values (First feature)\n",
    "    x_min, x_max = X_tr[:, 0].min() - 0.05, X_tr[:, 0].max() + 0.05\n",
    "    \n",
    "    # Range of Y values (Second feature)\n",
    "    y_min, y_max = X_tr[:, 1].min() - 0.05, X_tr[:, 1].max() + 0.05\n",
    "    \n",
    "    h=0.01\n",
    "    # Create a grid to evaluate the object function\n",
    "    xx, yy = np.meshgrid(np.arange(x_min, x_max, h),\n",
    "                         np.arange(y_min, y_max, h))\n",
    "    \n",
    "    z= predict((np.c_[xx.ravel(),yy.ravel()]))\n",
    "\n",
    "    z=z.reshape(xx.shape)\n",
    "    fig = plt.figure()\n",
    "    ax = fig.add_axes(111)\n",
    "    ax.contourf(xx,yy,z,camp=CMAP,)\n",
    "    \n",
    "    # Iterate over rows\n",
    "    for row in (XX):\n",
    "\n",
    "        y_p = predict(row, weights)\n",
    "        y_pred.append(y_p)\n",
    "        \n",
    "    Z = np.array(y_pred).reshape(xx.shape)\n",
    "\n",
    "    ax.contourf(xx, yy, Z, alpha=0.6, cmap=plt.cm.Paired)\n",
    "    ax.scatter(X[:, 0], X[:, 1], c=X[:, 2],\n",
    "                                  s=20, edgecolor='k', cmap=plt.cm.bwr)\n",
    "    ax.set_title('Decision Boundary')\n",
    "\n",
    "    ax.set_xlabel('A')\n",
    "    ax.set_ylabel('B')\n",
    "    plt.show()"
   ]
  },
  {
   "cell_type": "code",
   "execution_count": null,
   "metadata": {},
   "outputs": [],
   "source": []
  },
  {
   "cell_type": "code",
   "execution_count": null,
   "metadata": {},
   "outputs": [],
   "source": []
  },
  {
   "cell_type": "code",
   "execution_count": null,
   "metadata": {},
   "outputs": [],
   "source": []
  },
  {
   "cell_type": "code",
   "execution_count": null,
   "metadata": {},
   "outputs": [],
   "source": []
  },
  {
   "cell_type": "code",
   "execution_count": null,
   "metadata": {},
   "outputs": [],
   "source": []
  },
  {
   "cell_type": "code",
   "execution_count": null,
   "metadata": {},
   "outputs": [],
   "source": [
    "# plotting the errors\n",
    "\n",
    "fig ,ax = plt.subplots()\n",
    "ax.plot(errors)\n"
   ]
  },
  {
   "cell_type": "markdown",
   "metadata": {},
   "source": [
    "accuraccy on Training Data"
   ]
  },
  {
   "cell_type": "code",
   "execution_count": null,
   "metadata": {},
   "outputs": [],
   "source": [
    "predictions = []\n",
    "\n",
    "for row in data_train:\n",
    "    prediction = predict(row,weights)\n",
    "    predictions.append(prediction)"
   ]
  },
  {
   "cell_type": "code",
   "execution_count": null,
   "metadata": {},
   "outputs": [],
   "source": [
    "accuracy_score(data_train[:,-1],predictions)"
   ]
  },
  {
   "cell_type": "markdown",
   "metadata": {},
   "source": [
    "Accuraccy On Test Set"
   ]
  },
  {
   "cell_type": "code",
   "execution_count": null,
   "metadata": {},
   "outputs": [],
   "source": [
    "predictions1 = []\n",
    "\n",
    "for row in data_test:\n",
    "    prediction = predict(row,weights)\n",
    "    predictions1.append(prediction)"
   ]
  },
  {
   "cell_type": "code",
   "execution_count": null,
   "metadata": {},
   "outputs": [],
   "source": [
    "accuracy_score(data_test[:,-1],predictions1)"
   ]
  },
  {
   "cell_type": "markdown",
   "metadata": {},
   "source": [
    "Confusion on Train Set  #no need to calculate"
   ]
  },
  {
   "cell_type": "code",
   "execution_count": null,
   "metadata": {},
   "outputs": [],
   "source": [
    "cm = confusion_matrix(data_train[:,-1],predictions)\n",
    "cm"
   ]
  },
  {
   "cell_type": "markdown",
   "metadata": {},
   "source": [
    "Confusion Matrix On Test Set"
   ]
  },
  {
   "cell_type": "code",
   "execution_count": null,
   "metadata": {},
   "outputs": [],
   "source": [
    "cm = confusion_matrix(data_test[:,-1],predictions1)\n",
    "cm"
   ]
  },
  {
   "cell_type": "code",
   "execution_count": null,
   "metadata": {},
   "outputs": [],
   "source": [
    "disp = ConfusionMatrixDisplay(confusion_matrix=cm,display_labels=[0,1])\n",
    "disp.plot(cmap='Reds',colorbar=False)\n",
    "plt.grid()\n",
    "# plt.show()"
   ]
  },
  {
   "cell_type": "code",
   "execution_count": null,
   "metadata": {},
   "outputs": [],
   "source": []
  }
 ],
 "metadata": {
  "kernelspec": {
   "display_name": "base",
   "language": "python",
   "name": "python3"
  },
  "language_info": {
   "codemirror_mode": {
    "name": "ipython",
    "version": 3
   },
   "file_extension": ".py",
   "mimetype": "text/x-python",
   "name": "python",
   "nbconvert_exporter": "python",
   "pygments_lexer": "ipython3",
   "version": "3.11.5"
  }
 },
 "nbformat": 4,
 "nbformat_minor": 2
}
