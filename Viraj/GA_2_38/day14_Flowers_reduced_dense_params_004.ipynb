{
  "cells": [
    {
      "cell_type": "code",
      "execution_count": 2,
      "metadata": {
        "id": "IRk3lm27eQMz"
      },
      "outputs": [
        {
          "name": "stderr",
          "output_type": "stream",
          "text": [
            "2023-12-17 13:23:42.515169: E tensorflow/compiler/xla/stream_executor/cuda/cuda_dnn.cc:9342] Unable to register cuDNN factory: Attempting to register factory for plugin cuDNN when one has already been registered\n",
            "2023-12-17 13:23:42.515240: E tensorflow/compiler/xla/stream_executor/cuda/cuda_fft.cc:609] Unable to register cuFFT factory: Attempting to register factory for plugin cuFFT when one has already been registered\n",
            "2023-12-17 13:23:42.515973: E tensorflow/compiler/xla/stream_executor/cuda/cuda_blas.cc:1518] Unable to register cuBLAS factory: Attempting to register factory for plugin cuBLAS when one has already been registered\n",
            "2023-12-17 13:23:42.579679: I tensorflow/core/platform/cpu_feature_guard.cc:182] This TensorFlow binary is optimized to use available CPU instructions in performance-critical operations.\n",
            "To enable the following instructions: AVX2 FMA, in other operations, rebuild TensorFlow with the appropriate compiler flags.\n"
          ]
        }
      ],
      "source": [
        "###-----------------\n",
        "### Import Libraries\n",
        "###-----------------\n",
        "\n",
        "import os\n",
        "import numpy as np\n",
        "import pandas as pd\n",
        "import matplotlib.pyplot as plt\n",
        "import pathlib\n",
        "\n",
        "from collections.abc import Callable\n",
        "from typing import Literal\n",
        "\n",
        "import tensorflow as tf\n",
        "from datetime import datetime\n",
        "\n",
        "from sklearn import datasets\n",
        "from sklearn.model_selection import train_test_split\n",
        "from sklearn.preprocessing import StandardScaler\n",
        "\n",
        "%matplotlib inline"
      ]
    },
    {
      "cell_type": "code",
      "execution_count": 3,
      "metadata": {},
      "outputs": [
        {
          "name": "stdout",
          "output_type": "stream",
          "text": [
            "1 Phusical GPUs 1 Logical GPUs\n"
          ]
        },
        {
          "name": "stderr",
          "output_type": "stream",
          "text": [
            "2023-12-17 13:23:45.725852: I tensorflow/compiler/xla/stream_executor/cuda/cuda_gpu_executor.cc:894] successful NUMA node read from SysFS had negative value (-1), but there must be at least one NUMA node, so returning NUMA node zero. See more at https://github.com/torvalds/linux/blob/v6.0/Documentation/ABI/testing/sysfs-bus-pci#L344-L355\n",
            "2023-12-17 13:23:45.738573: I tensorflow/compiler/xla/stream_executor/cuda/cuda_gpu_executor.cc:894] successful NUMA node read from SysFS had negative value (-1), but there must be at least one NUMA node, so returning NUMA node zero. See more at https://github.com/torvalds/linux/blob/v6.0/Documentation/ABI/testing/sysfs-bus-pci#L344-L355\n",
            "2023-12-17 13:23:45.738724: I tensorflow/compiler/xla/stream_executor/cuda/cuda_gpu_executor.cc:894] successful NUMA node read from SysFS had negative value (-1), but there must be at least one NUMA node, so returning NUMA node zero. See more at https://github.com/torvalds/linux/blob/v6.0/Documentation/ABI/testing/sysfs-bus-pci#L344-L355\n",
            "2023-12-17 13:23:45.740133: I tensorflow/compiler/xla/stream_executor/cuda/cuda_gpu_executor.cc:894] successful NUMA node read from SysFS had negative value (-1), but there must be at least one NUMA node, so returning NUMA node zero. See more at https://github.com/torvalds/linux/blob/v6.0/Documentation/ABI/testing/sysfs-bus-pci#L344-L355\n",
            "2023-12-17 13:23:45.740293: I tensorflow/compiler/xla/stream_executor/cuda/cuda_gpu_executor.cc:894] successful NUMA node read from SysFS had negative value (-1), but there must be at least one NUMA node, so returning NUMA node zero. See more at https://github.com/torvalds/linux/blob/v6.0/Documentation/ABI/testing/sysfs-bus-pci#L344-L355\n",
            "2023-12-17 13:23:45.740408: I tensorflow/compiler/xla/stream_executor/cuda/cuda_gpu_executor.cc:894] successful NUMA node read from SysFS had negative value (-1), but there must be at least one NUMA node, so returning NUMA node zero. See more at https://github.com/torvalds/linux/blob/v6.0/Documentation/ABI/testing/sysfs-bus-pci#L344-L355\n",
            "2023-12-17 13:23:45.793835: I tensorflow/compiler/xla/stream_executor/cuda/cuda_gpu_executor.cc:894] successful NUMA node read from SysFS had negative value (-1), but there must be at least one NUMA node, so returning NUMA node zero. See more at https://github.com/torvalds/linux/blob/v6.0/Documentation/ABI/testing/sysfs-bus-pci#L344-L355\n",
            "2023-12-17 13:23:45.794076: I tensorflow/compiler/xla/stream_executor/cuda/cuda_gpu_executor.cc:894] successful NUMA node read from SysFS had negative value (-1), but there must be at least one NUMA node, so returning NUMA node zero. See more at https://github.com/torvalds/linux/blob/v6.0/Documentation/ABI/testing/sysfs-bus-pci#L344-L355\n",
            "2023-12-17 13:23:45.794209: I tensorflow/compiler/xla/stream_executor/cuda/cuda_gpu_executor.cc:894] successful NUMA node read from SysFS had negative value (-1), but there must be at least one NUMA node, so returning NUMA node zero. See more at https://github.com/torvalds/linux/blob/v6.0/Documentation/ABI/testing/sysfs-bus-pci#L344-L355\n",
            "2023-12-17 13:23:45.794311: I tensorflow/core/common_runtime/gpu/gpu_device.cc:1886] Created device /job:localhost/replica:0/task:0/device:GPU:0 with 2798 MB memory:  -> device: 0, name: NVIDIA GeForce GTX 1650, pci bus id: 0000:01:00.0, compute capability: 7.5\n"
          ]
        }
      ],
      "source": [
        "gpus = tf.config.list_physical_devices('GPU')\n",
        "\n",
        "try:\n",
        "    for g in gpus:\n",
        "        tf.config.experimental.set_memory_growth(g, True)\n",
        "    logical_gpus = tf.config.list_logical_devices('GPU')\n",
        "    print (len(gpus), 'Phusical GPUs', len(logical_gpus), 'Logical GPUs')\n",
        "except:\n",
        "    print ('invalid device')"
      ]
    },
    {
      "cell_type": "code",
      "execution_count": 4,
      "metadata": {
        "id": "J4Q2mR67eQM2"
      },
      "outputs": [],
      "source": [
        "###----------------\n",
        "### Some parameters\n",
        "###----------------\n",
        "\n",
        "inpDir = '/home/user/Videos/LAB_PC/Documents/DNN/7.DNN/input'\n",
        "outDir = '/home/user/Videos/LAB_PC/Documents/DNN/7.DNN/output/model'\n",
        "modelDir=\"flowermodel\"\n",
        "subDir = 'flower_photos'\n",
        "altName= \"cnn_base\"\n",
        "valDir = 'flowers_validation'\n",
        "\n",
        "RANDOM_STATE = 24 # REMEMBER: to remove at the time of promotion to production\n",
        "np.random.seed(RANDOM_STATE) # Set Random Seed for reproducible  results\n",
        "\n",
        "EPOCHS = 500 # number of epochs\n",
        "ALPHA = 0.001 # learning rate\n",
        "NUM_SAMPLES = 1280 # How many samples we want to generate\n",
        "NOISE = 0.2 # Noise to be introduced in the data\n",
        "TEST_SIZE = 0.2\n",
        "BATCH_SIZE = 8\n",
        "PATIENCE = 25\n",
        "FACTOR_LR = .5\n",
        "LR_PATIENCE = 2\n",
        "IMG_HEIGHT = 170\n",
        "IMG_WIDTH = 170\n",
        "\n",
        "# parameters for Matplotlib\n",
        "params = {'legend.fontsize': 'x-large',\n",
        "          'figure.figsize': (15, 8),\n",
        "          'axes.labelsize': 'x-large',\n",
        "          'axes.titlesize':'x-large',\n",
        "          'xtick.labelsize':'x-large',\n",
        "          'ytick.labelsize':'x-large'\n",
        "         }\n",
        "\n",
        "CMAP = 'coolwarm' # plt.cm.Spectral\n",
        "\n",
        "plt.rcParams.update(params)"
      ]
    },
    {
      "cell_type": "code",
      "execution_count": 5,
      "metadata": {
        "id": "7PqWfwucefJB"
      },
      "outputs": [],
      "source": [
        "# dataset_url=\"https://storage.googleapis.com/download.tensorflow.org/example_images/flower_photos.tgz\"\n",
        "# data_dir=tf.keras.utils.get_file(origin=dataset_url,fname=\"flower_photos\",untar=True)\n",
        "# data_dir=pathlib.Path(data_dir)"
      ]
    },
    {
      "cell_type": "code",
      "execution_count": 6,
      "metadata": {},
      "outputs": [
        {
          "data": {
            "text/plain": [
              "'/home/user/Videos/LAB_PC/Documents/DNN/7.DNN/input/flower_photos'"
            ]
          },
          "execution_count": 6,
          "metadata": {},
          "output_type": "execute_result"
        }
      ],
      "source": [
        "data_dir = os.path.join(inpDir, subDir)\n",
        "data_dir"
      ]
    },
    {
      "cell_type": "code",
      "execution_count": 7,
      "metadata": {
        "id": "KSk9qHu9fxQS"
      },
      "outputs": [],
      "source": [
        "def fn_plot_label(tr_ds,ts_ds):\n",
        "    plt.figure(figsize=(15,6)) #instantiate the figure\n",
        "    plt.subplot(1,2,1)   # first out of 2\n",
        "    train_labels=tf.concat([lbl for img,lbl in tr_ds],axis=0).numpy() # get the labels\n",
        "    unique,_,counts=tf.unique_with_counts(train_labels)  # get counts\n",
        "    # print(unique)\n",
        "    # plt.bar(unique,counts,align=\"center\",color=\"DarkBlue\") #barplot\n",
        "    plt.bar(range(len(unique)),counts,align=\"center\",color=\"DarkBlue\") #barplot counts\n",
        "    plt.xticks(range(len(unique)),[class_names[i.numpy()] for i in unique])\n",
        "    plt.title(\"Training Set\")\n",
        "\n",
        "    plt.subplot(1,2,2)\n",
        "    test_labels=tf.concat([lbl for img,lbl in ts_ds],axis=0).numpy()\n",
        "    unique,_,counts=tf.unique_with_counts(test_labels)\n",
        "    plt.bar(range(len(unique)),counts,align=\"center\",color=\"Orange\")\n",
        "    plt.xticks(range(len(unique)),[class_names[i.numpy()] for i in unique])\n",
        "    plt.title(\"Test Set\")"
      ]
    },
    {
      "cell_type": "code",
      "execution_count": null,
      "metadata": {
        "id": "KL43CiI7fxOf"
      },
      "outputs": [],
      "source": []
    },
    {
      "cell_type": "markdown",
      "metadata": {
        "id": "tBi-RDEeeQM4"
      },
      "source": [
        "## using flowers data"
      ]
    },
    {
      "cell_type": "code",
      "execution_count": 8,
      "metadata": {
        "id": "sdvGE4aLeQM6"
      },
      "outputs": [],
      "source": [
        "#converting to dataset from directory\n"
      ]
    },
    {
      "cell_type": "code",
      "execution_count": 9,
      "metadata": {
        "colab": {
          "base_uri": "https://localhost:8080/"
        },
        "id": "RakTz4CveQM6",
        "outputId": "abbb3913-f006-4659-e6b5-e0c7b8885194"
      },
      "outputs": [
        {
          "data": {
            "text/plain": [
              "['tulips', 'roses', 'LICENSE.txt', 'sunflowers', 'dandelion', 'daisy']"
            ]
          },
          "execution_count": 9,
          "metadata": {},
          "output_type": "execute_result"
        }
      ],
      "source": [
        "os.listdir(data_dir)\n"
      ]
    },
    {
      "cell_type": "code",
      "execution_count": 10,
      "metadata": {
        "colab": {
          "base_uri": "https://localhost:8080/"
        },
        "id": "FbniVy94eQM7",
        "outputId": "99d7e110-b7f4-4bc4-af21-a1b44571b4d1"
      },
      "outputs": [
        {
          "name": "stdout",
          "output_type": "stream",
          "text": [
            "Found 3670 files belonging to 5 classes.\n",
            "Using 2936 files for training.\n"
          ]
        },
        {
          "name": "stderr",
          "output_type": "stream",
          "text": [
            "2023-12-17 13:23:46.192783: I tensorflow/tsl/platform/default/subprocess.cc:304] Start cannot spawn child process: No such file or directory\n"
          ]
        },
        {
          "name": "stdout",
          "output_type": "stream",
          "text": [
            "Found 3670 files belonging to 5 classes.\n",
            "Using 734 files for validation.\n"
          ]
        }
      ],
      "source": [
        "#creating training data\n",
        "train_ds=tf.keras.preprocessing.image_dataset_from_directory(\n",
        "    data_dir, #path to the directory\n",
        "    validation_split=TEST_SIZE,  # what ratio of validation set\n",
        "    subset='training', #purpose\n",
        "    seed=RANDOM_STATE,\n",
        "    image_size=[IMG_HEIGHT,IMG_WIDTH],  ## @@ WHAT!\n",
        "    batch_size=BATCH_SIZE\n",
        ")\n",
        "\n",
        "#create Test data\n",
        "test_ds=tf.keras.preprocessing.image_dataset_from_directory(\n",
        "    data_dir, #path to the directory\n",
        "    validation_split=TEST_SIZE,  # what ratio of validation set\n",
        "    subset='validation', #purpose\n",
        "    seed=RANDOM_STATE,\n",
        "    image_size=[IMG_HEIGHT,IMG_WIDTH],  ## @@ WHAT!   # the framework will sqeeze the images to this resolution by itself\n",
        "    batch_size=BATCH_SIZE\n",
        ")"
      ]
    },
    {
      "cell_type": "code",
      "execution_count": 11,
      "metadata": {
        "colab": {
          "base_uri": "https://localhost:8080/"
        },
        "id": "wI3yTRhReQM7",
        "outputId": "aecb6f7c-aa47-4364-dc17-726a593ef749"
      },
      "outputs": [
        {
          "data": {
            "text/plain": [
              "['daisy', 'dandelion', 'roses', 'sunflowers', 'tulips']"
            ]
          },
          "execution_count": 11,
          "metadata": {},
          "output_type": "execute_result"
        }
      ],
      "source": [
        "#is it picking class names\n",
        "class_names=train_ds.class_names\n",
        "class_names"
      ]
    },
    {
      "cell_type": "code",
      "execution_count": 12,
      "metadata": {
        "id": "4XSZ3O1LeQM9"
      },
      "outputs": [],
      "source": [
        "input_shape=(IMG_HEIGHT,IMG_WIDTH,3)"
      ]
    },
    {
      "cell_type": "markdown",
      "metadata": {
        "id": "AnZt0YGPeQM-"
      },
      "source": [
        "## Random Zoom"
      ]
    },
    {
      "cell_type": "code",
      "execution_count": 13,
      "metadata": {
        "id": "0NhaWBIyeQM_"
      },
      "outputs": [],
      "source": [
        "# what do you think can be taken as a starting point?\n",
        "# output number is frozen = num_classes\n",
        "# approach - Let's start from the base (last conv layer) say (4*4) then move back based on our architecture we want to build and reach the start point from there, take that size as input\n",
        "# Other approaches - mode of all image sizes, min images's size\n",
        "# if images are of lesser dimensions then random zoom should resize them to our required size\n",
        "\n",
        "\n",
        "# conv layer is kind of averaging over th eimage with filter and summing that up\n",
        "# max pool tells what is most significant you have"
      ]
    },
    {
      "cell_type": "code",
      "execution_count": 14,
      "metadata": {
        "id": "x2d99y9bjcs6"
      },
      "outputs": [],
      "source": [
        "# model= tf.keras.Sequential([tf.keras.layers.Rescaling(1/255.), #convert b/w 0 and 1\n",
        "\n",
        "#                             #conv part\n",
        "#                                 #input (170x170x3)\n",
        "#                             tf.keras.layers.Conv2D(8,(3,3)),  # 168*168*8\n",
        "#                             tf.keras.layers.BatchNormalization(),\n",
        "#                             tf.keras.layers.Activation('relu'),\n",
        "#                             tf.keras.layers.Dropout(rate = .1),\n",
        "\n",
        "\n",
        "#                             tf.keras.layers.Conv2D(8,(3,3)),  # 168*168*8\n",
        "#                             tf.keras.layers.BatchNormalization(),\n",
        "#                             tf.keras.layers.Activation('relu'),\n",
        "#                             tf.keras.layers.Dropout(rate = .1),\n",
        "\n",
        "#                             tf.keras.layers.Conv2D(8,(3,3)),  # 168*168*8\n",
        "#                             tf.keras.layers.BatchNormalization(),\n",
        "#                             tf.keras.layers.Activation('relu'),\n",
        "#                             tf.keras.layers.Dropout(rate = .1),\n",
        "\n",
        "\n",
        "#                             tf.keras.layers.Conv2D(8,(3,3)),  # 168*168*8\n",
        "#                             tf.keras.layers.BatchNormalization(),\n",
        "#                             tf.keras.layers.Activation('relu'),\n",
        "#                             tf.keras.layers.Dropout(rate = .1),\n",
        "#                             tf.keras.layers.MaxPool2D(2,2), # 1\n",
        "\n",
        "#                             # tf.keras.layers.Conv2D(16,(3,3),activation='relu'),  #\n",
        "#                             # tf.keras.layers.MaxPool2D(2,2), #\n",
        "\n",
        "#                             tf.keras.layers.Conv2D(32,(3,3)),  # 40*40*32\n",
        "#                             tf.keras.layers.BatchNormalization(),\n",
        "#                             tf.keras.layers.Activation('relu'),\n",
        "#                             tf.keras.layers.Dropout(rate = .1),\n",
        "#                             tf.keras.layers.MaxPool2D(4,4), # 10x10x32\n",
        "\n",
        "#                             # tf.keras.layers.Conv2D(64,(3,3),activation='relu'),  #\n",
        "#                             # tf.keras.layers.MaxPool2D(2,2), #\n",
        "\n",
        "#                             tf.keras.layers.Conv2D(128,(3,3)),  # 8*8*128\n",
        "#                             tf.keras.layers.BatchNormalization(),\n",
        "#                             tf.keras.layers.Activation('relu'),\n",
        "#                             tf.keras.layers.Dropout(rate = .1),\n",
        "#                             tf.keras.layers.MaxPool2D(8,8), # 1x1x128\n",
        "\n",
        "#                             # tf.keras.layers.Conv2D(256,(3,3),activation='relu'),  #\n",
        "#                             #Head part\n",
        "#                             tf.keras.layers.Flatten() , #Flatten\n",
        "#                             tf.keras.layers.Dense(128,activation=\"relu\"), #Dense 1  #256\n",
        "#                             tf.keras.layers.Dense(64,activation=\"relu\"), #Dense 1  #256\n",
        "#                             tf.keras.layers.Dense(32,activation=\"relu\"), #Dense 1  #256\n",
        "#                             tf.keras.layers.Dense(16,activation=\"relu\"), #Dense 1  #256\n",
        "#                             tf.keras.layers.Dense(5) #output  #Head\n",
        "#                             ])\n",
        "\n",
        "#   # accuracy: 0.7888"
      ]
    },
    {
      "cell_type": "code",
      "execution_count": 15,
      "metadata": {
        "id": "yKfVSei6eQM_"
      },
      "outputs": [],
      "source": [
        "# model= tf.keras.Sequential([tf.keras.layers.Rescaling(1/255.), #convert b/w 0 and 1\n",
        "\n",
        "#                             #conv part\n",
        "#                                 #input (170x170x3)\n",
        "#                             tf.keras.layers.Conv2D(8,(3,3)),  # 168*168*8\n",
        "#                             tf.keras.layers.BatchNormalization(),\n",
        "#                             tf.keras.layers.Activation('relu'),\n",
        "#                             tf.keras.layers.Dropout(rate = .1),\n",
        "#                             tf.keras.layers.MaxPool2D(4,4), # 42x42x8\n",
        "\n",
        "#                             # tf.keras.layers.Conv2D(16,(3,3),activation='relu'),  #\n",
        "#                             # tf.keras.layers.MaxPool2D(2,2), #\n",
        "\n",
        "#                             tf.keras.layers.Conv2D(32,(3,3)),  # 40*40*32\n",
        "#                             tf.keras.layers.BatchNormalization(),\n",
        "#                             tf.keras.layers.Activation('relu'),\n",
        "#                             tf.keras.layers.Dropout(rate = .1),\n",
        "#                             tf.keras.layers.MaxPool2D(4,4), # 10x10x32\n",
        "\n",
        "#                             # tf.keras.layers.Conv2D(64,(3,3),activation='relu'),  #\n",
        "#                             # tf.keras.layers.MaxPool2D(2,2), #\n",
        "\n",
        "#                             tf.keras.layers.Conv2D(128,(3,3)),  # 8*8*128\n",
        "#                             tf.keras.layers.BatchNormalization(),\n",
        "#                             tf.keras.layers.Activation('relu'),\n",
        "#                             tf.keras.layers.Dropout(rate = .1),\n",
        "#                             tf.keras.layers.MaxPool2D(8,8), # 1x1x128\n",
        "\n",
        "#                             # tf.keras.layers.Conv2D(256,(3,3),activation='relu'),  #\n",
        "#                             #Head part\n",
        "#                             tf.keras.layers.Flatten() , #Flatten\n",
        "#                             tf.keras.layers.Dense(32,activation=\"relu\"), #Dense 1  #256\n",
        "#                             tf.keras.layers.Dense(5) #output  #Head\n",
        "#                             ])\n",
        "\n",
        "# #   accuracy: 0.7984"
      ]
    },
    {
      "cell_type": "code",
      "execution_count": 16,
      "metadata": {
        "id": "U_LrD9e3azgl"
      },
      "outputs": [],
      "source": [
        "data_augmentation = tf.keras.Sequential([\n",
        "  tf.keras.layers.RandomFlip(\"horizontal_and_vertical\"),\n",
        "  tf.keras.layers.RandomRotation((-.3,0.3))\n",
        "])"
      ]
    },
    {
      "cell_type": "code",
      "execution_count": 17,
      "metadata": {
        "id": "fOAREweg99oX"
      },
      "outputs": [],
      "source": [
        "model= tf.keras.Sequential([tf.keras.layers.Rescaling(1/255.), #convert b/w 0 and 1\n",
        "                            # data_augmentation,\n",
        "\n",
        "                            #conv part\n",
        "                                #input (170x170x3)\n",
        "                            tf.keras.layers.Conv2D(8,(3,3)),  # 168*168*8\n",
        "                            tf.keras.layers.BatchNormalization(),\n",
        "                            tf.keras.layers.Activation('relu'),\n",
        "                            # tf.keras.layers.Dropout(rate = .1),\n",
        "                            tf.keras.layers.MaxPool2D(4,4), # 42x42x8\n",
        "\n",
        "                            # tf.keras.layers.Conv2D(16,(3,3),activation='relu'),  #\n",
        "                            # tf.keras.layers.MaxPool2D(2,2), #\n",
        "\n",
        "                            tf.keras.layers.Conv2D(32,(3,3)),  # 40*40*32\n",
        "                            tf.keras.layers.BatchNormalization(),\n",
        "                            tf.keras.layers.Activation('relu'),\n",
        "                            # tf.keras.layers.Dropout(rate = .1),\n",
        "                            tf.keras.layers.MaxPool2D(4,4), # 10x10x32\n",
        "\n",
        "                            # tf.keras.layers.Conv2D(64,(3,3),activation='relu'),  #\n",
        "                            # tf.keras.layers.MaxPool2D(2,2), #\n",
        "\n",
        "                            tf.keras.layers.Conv2D(128,(3,3)),  # 8*8*128\n",
        "                            tf.keras.layers.BatchNormalization(),\n",
        "                            tf.keras.layers.Activation('relu'),\n",
        "                            tf.keras.layers.Dropout(rate = .1),\n",
        "                            tf.keras.layers.MaxPool2D(8,8), # 1x1x128\n",
        "\n",
        "                            # tf.keras.layers.Conv2D(256,(3,3),activation='relu'),  #\n",
        "                            #Head part\n",
        "                            tf.keras.layers.Flatten() , #Flatten\n",
        "                            tf.keras.layers.Dropout(rate = .1),\n",
        "                            tf.keras.layers.Dense(32), #Dense 1  #256\n",
        "                            tf.keras.layers.BatchNormalization(),\n",
        "                            tf.keras.layers.Activation('relu'),\n",
        "                            tf.keras.layers.Dropout(rate = .1),\n",
        "                            tf.keras.layers.Dense(5) #output  #Head\n",
        "                            ])\n",
        "\n",
        "#   accuracy: 0.7984"
      ]
    },
    {
      "cell_type": "code",
      "execution_count": 18,
      "metadata": {
        "id": "-8RHip2peQNA"
      },
      "outputs": [],
      "source": [
        "loss_fn=tf.keras.losses.SparseCategoricalCrossentropy(from_logits=True)\n",
        "optim=tf.keras.optimizers.Adam(learning_rate=ALPHA)\n",
        "model.compile(optimizer=optim, loss=loss_fn, metrics=['accuracy'])"
      ]
    },
    {
      "cell_type": "code",
      "execution_count": 19,
      "metadata": {
        "colab": {
          "base_uri": "https://localhost:8080/"
        },
        "id": "TbA6oK2owa4a",
        "outputId": "cfaac282-47d8-4a42-8406-609dd3a3d868"
      },
      "outputs": [],
      "source": [
        "# from google.colab import drive\n",
        "# drive.mount('/content/drive')"
      ]
    },
    {
      "cell_type": "code",
      "execution_count": 20,
      "metadata": {
        "id": "aEJBsl3meQNA"
      },
      "outputs": [],
      "source": [
        "checkpointPath = outDir+os.path.join(modelDir,altName)+'/van'\n",
        "\n",
        "mcp_point = tf.keras.callbacks.ModelCheckpoint(filepath=checkpointPath,\n",
        "                                                       save_weights_only = True,\n",
        "                                                       save_best_only = True,\n",
        "                                                       monitor = 'val_loss',\n",
        "                                                       verbose = 1\n",
        ")\n",
        "\n",
        "es_point = tf.keras.callbacks.EarlyStopping(monitor='val_loss',\n",
        "                                                        patience=PATIENCE,\n",
        "                                                        verbose=1,\n",
        "                                                        restore_best_weights=True,\n",
        "                                                        start_from_epoch=0,\n",
        ")\n",
        "\n",
        "lr_decay = tf.keras.callbacks.ReduceLROnPlateau(monitor='val_loss',\n",
        "                                                factor=FACTOR_LR,\n",
        "                                                patience=LR_PATIENCE,\n",
        "                                                verbose=1,\n",
        "                                                mode='auto'\n",
        ")"
      ]
    },
    {
      "cell_type": "code",
      "execution_count": 21,
      "metadata": {
        "colab": {
          "base_uri": "https://localhost:8080/",
          "height": 35
        },
        "id": "CoC8RW8TeQNA",
        "outputId": "33ec19d8-3b74-40c3-d521-0c0eb4992f1f"
      },
      "outputs": [
        {
          "data": {
            "text/plain": [
              "'/home/user/Videos/LAB_PC/Documents/DNN/7.DNN/output/modelflowermodel/cnn_base/van'"
            ]
          },
          "execution_count": 21,
          "metadata": {},
          "output_type": "execute_result"
        }
      ],
      "source": [
        "checkpointPath"
      ]
    },
    {
      "cell_type": "code",
      "execution_count": 22,
      "metadata": {
        "colab": {
          "base_uri": "https://localhost:8080/"
        },
        "id": "oYBwXln-eQNA",
        "outputId": "c007b566-792e-4a1f-efe7-e8566930c897"
      },
      "outputs": [
        {
          "name": "stdout",
          "output_type": "stream",
          "text": [
            "Epoch 1/500\n"
          ]
        },
        {
          "name": "stderr",
          "output_type": "stream",
          "text": [
            "2023-12-17 13:23:48.283668: E tensorflow/core/grappler/optimizers/meta_optimizer.cc:961] layout failed: INVALID_ARGUMENT: Size of values 0 does not match size of permutation 4 @ fanin shape insequential_1/dropout/dropout/SelectV2-2-TransposeNHWCToNCHW-LayoutOptimizer\n",
            "2023-12-17 13:23:48.469893: I tensorflow/compiler/xla/stream_executor/cuda/cuda_dnn.cc:442] Loaded cuDNN version 8700\n",
            "2023-12-17 13:23:48.612210: I tensorflow/tsl/platform/default/subprocess.cc:304] Start cannot spawn child process: No such file or directory\n",
            "2023-12-17 13:23:49.650790: I tensorflow/compiler/xla/service/service.cc:168] XLA service 0x7f04b30d6650 initialized for platform CUDA (this does not guarantee that XLA will be used). Devices:\n",
            "2023-12-17 13:23:49.650816: I tensorflow/compiler/xla/service/service.cc:176]   StreamExecutor device (0): NVIDIA GeForce GTX 1650, Compute Capability 7.5\n",
            "2023-12-17 13:23:49.656731: I tensorflow/compiler/mlir/tensorflow/utils/dump_mlir_util.cc:269] disabling MLIR crash reproducer, set env var `MLIR_CRASH_REPRODUCER_DIRECTORY` to enable.\n",
            "2023-12-17 13:23:49.738694: I ./tensorflow/compiler/jit/device_compiler.h:186] Compiled cluster using XLA!  This line is logged at most once for the lifetime of the process.\n"
          ]
        },
        {
          "name": "stdout",
          "output_type": "stream",
          "text": [
            "362/367 [============================>.] - ETA: 0s - loss: 1.2153 - accuracy: 0.5062\n",
            "Epoch 1: val_loss improved from inf to 1.40240, saving model to /home/user/Videos/LAB_PC/Documents/DNN/7.DNN/output/modelflowermodel/cnn_base/van\n",
            "367/367 [==============================] - 8s 13ms/step - loss: 1.2124 - accuracy: 0.5068 - val_loss: 1.4024 - val_accuracy: 0.4264 - lr: 0.0010\n",
            "Epoch 2/500\n",
            "366/367 [============================>.] - ETA: 0s - loss: 0.9944 - accuracy: 0.6100\n",
            "Epoch 2: val_loss improved from 1.40240 to 1.05673, saving model to /home/user/Videos/LAB_PC/Documents/DNN/7.DNN/output/modelflowermodel/cnn_base/van\n",
            "367/367 [==============================] - 4s 11ms/step - loss: 0.9934 - accuracy: 0.6104 - val_loss: 1.0567 - val_accuracy: 0.6035 - lr: 0.0010\n",
            "Epoch 3/500\n",
            "364/367 [============================>.] - ETA: 0s - loss: 0.9229 - accuracy: 0.6398\n",
            "Epoch 3: val_loss improved from 1.05673 to 0.92069, saving model to /home/user/Videos/LAB_PC/Documents/DNN/7.DNN/output/modelflowermodel/cnn_base/van\n",
            "367/367 [==============================] - 4s 11ms/step - loss: 0.9239 - accuracy: 0.6396 - val_loss: 0.9207 - val_accuracy: 0.6294 - lr: 0.0010\n",
            "Epoch 4/500\n",
            "365/367 [============================>.] - ETA: 0s - loss: 0.8585 - accuracy: 0.6740\n",
            "Epoch 4: val_loss did not improve from 0.92069\n",
            "367/367 [==============================] - 4s 12ms/step - loss: 0.8596 - accuracy: 0.6734 - val_loss: 0.9339 - val_accuracy: 0.6308 - lr: 0.0010\n",
            "Epoch 5/500\n",
            "364/367 [============================>.] - ETA: 0s - loss: 0.8246 - accuracy: 0.6889\n",
            "Epoch 5: val_loss improved from 0.92069 to 0.78148, saving model to /home/user/Videos/LAB_PC/Documents/DNN/7.DNN/output/modelflowermodel/cnn_base/van\n",
            "367/367 [==============================] - 5s 13ms/step - loss: 0.8256 - accuracy: 0.6880 - val_loss: 0.7815 - val_accuracy: 0.7180 - lr: 0.0010\n",
            "Epoch 6/500\n",
            "367/367 [==============================] - ETA: 0s - loss: 0.7746 - accuracy: 0.7067\n",
            "Epoch 6: val_loss did not improve from 0.78148\n",
            "367/367 [==============================] - 4s 12ms/step - loss: 0.7746 - accuracy: 0.7067 - val_loss: 1.0073 - val_accuracy: 0.6226 - lr: 0.0010\n",
            "Epoch 7/500\n",
            "367/367 [==============================] - ETA: 0s - loss: 0.7578 - accuracy: 0.7248\n",
            "Epoch 7: val_loss improved from 0.78148 to 0.75450, saving model to /home/user/Videos/LAB_PC/Documents/DNN/7.DNN/output/modelflowermodel/cnn_base/van\n",
            "367/367 [==============================] - 4s 12ms/step - loss: 0.7578 - accuracy: 0.7248 - val_loss: 0.7545 - val_accuracy: 0.7207 - lr: 0.0010\n",
            "Epoch 8/500\n",
            "366/367 [============================>.] - ETA: 0s - loss: 0.6969 - accuracy: 0.7432\n",
            "Epoch 8: val_loss did not improve from 0.75450\n",
            "367/367 [==============================] - 4s 12ms/step - loss: 0.6981 - accuracy: 0.7425 - val_loss: 0.8407 - val_accuracy: 0.6635 - lr: 0.0010\n",
            "Epoch 9/500\n",
            "366/367 [============================>.] - ETA: 0s - loss: 0.6824 - accuracy: 0.7490\n",
            "Epoch 9: ReduceLROnPlateau reducing learning rate to 0.0005000000237487257.\n",
            "\n",
            "Epoch 9: val_loss did not improve from 0.75450\n",
            "367/367 [==============================] - 4s 12ms/step - loss: 0.6830 - accuracy: 0.7486 - val_loss: 0.8677 - val_accuracy: 0.6812 - lr: 0.0010\n",
            "Epoch 10/500\n",
            "365/367 [============================>.] - ETA: 0s - loss: 0.6387 - accuracy: 0.7668\n",
            "Epoch 10: val_loss improved from 0.75450 to 0.66672, saving model to /home/user/Videos/LAB_PC/Documents/DNN/7.DNN/output/modelflowermodel/cnn_base/van\n",
            "367/367 [==============================] - 5s 12ms/step - loss: 0.6409 - accuracy: 0.7657 - val_loss: 0.6667 - val_accuracy: 0.7561 - lr: 5.0000e-04\n",
            "Epoch 11/500\n",
            "362/367 [============================>.] - ETA: 0s - loss: 0.6047 - accuracy: 0.7762\n",
            "Epoch 11: val_loss did not improve from 0.66672\n",
            "367/367 [==============================] - 5s 12ms/step - loss: 0.6056 - accuracy: 0.7769 - val_loss: 0.7495 - val_accuracy: 0.7316 - lr: 5.0000e-04\n",
            "Epoch 12/500\n",
            "366/367 [============================>.] - ETA: 0s - loss: 0.5636 - accuracy: 0.8002\n",
            "Epoch 12: ReduceLROnPlateau reducing learning rate to 0.0002500000118743628.\n",
            "\n",
            "Epoch 12: val_loss did not improve from 0.66672\n",
            "367/367 [==============================] - 5s 15ms/step - loss: 0.5650 - accuracy: 0.7997 - val_loss: 0.7172 - val_accuracy: 0.7330 - lr: 5.0000e-04\n",
            "Epoch 13/500\n",
            "363/367 [============================>.] - ETA: 0s - loss: 0.5462 - accuracy: 0.8003\n",
            "Epoch 13: val_loss improved from 0.66672 to 0.63010, saving model to /home/user/Videos/LAB_PC/Documents/DNN/7.DNN/output/modelflowermodel/cnn_base/van\n",
            "367/367 [==============================] - 5s 13ms/step - loss: 0.5465 - accuracy: 0.8004 - val_loss: 0.6301 - val_accuracy: 0.7793 - lr: 2.5000e-04\n",
            "Epoch 14/500\n",
            "367/367 [==============================] - ETA: 0s - loss: 0.5125 - accuracy: 0.8134\n",
            "Epoch 14: val_loss did not improve from 0.63010\n",
            "367/367 [==============================] - 4s 11ms/step - loss: 0.5125 - accuracy: 0.8134 - val_loss: 0.6320 - val_accuracy: 0.7834 - lr: 2.5000e-04\n",
            "Epoch 15/500\n",
            "362/367 [============================>.] - ETA: 0s - loss: 0.4892 - accuracy: 0.8201\n",
            "Epoch 15: val_loss improved from 0.63010 to 0.60101, saving model to /home/user/Videos/LAB_PC/Documents/DNN/7.DNN/output/modelflowermodel/cnn_base/van\n",
            "367/367 [==============================] - 4s 10ms/step - loss: 0.4888 - accuracy: 0.8202 - val_loss: 0.6010 - val_accuracy: 0.7725 - lr: 2.5000e-04\n",
            "Epoch 16/500\n",
            "367/367 [==============================] - ETA: 0s - loss: 0.5046 - accuracy: 0.8164\n",
            "Epoch 16: val_loss did not improve from 0.60101\n",
            "367/367 [==============================] - 4s 11ms/step - loss: 0.5046 - accuracy: 0.8164 - val_loss: 0.6131 - val_accuracy: 0.7752 - lr: 2.5000e-04\n",
            "Epoch 17/500\n",
            "366/367 [============================>.] - ETA: 0s - loss: 0.4795 - accuracy: 0.8286\n",
            "Epoch 17: ReduceLROnPlateau reducing learning rate to 0.0001250000059371814.\n",
            "\n",
            "Epoch 17: val_loss did not improve from 0.60101\n",
            "367/367 [==============================] - 4s 11ms/step - loss: 0.4786 - accuracy: 0.8290 - val_loss: 0.7448 - val_accuracy: 0.7480 - lr: 2.5000e-04\n",
            "Epoch 18/500\n",
            "363/367 [============================>.] - ETA: 0s - loss: 0.4623 - accuracy: 0.8330\n",
            "Epoch 18: val_loss improved from 0.60101 to 0.58960, saving model to /home/user/Videos/LAB_PC/Documents/DNN/7.DNN/output/modelflowermodel/cnn_base/van\n",
            "367/367 [==============================] - 4s 11ms/step - loss: 0.4644 - accuracy: 0.8324 - val_loss: 0.5896 - val_accuracy: 0.7970 - lr: 1.2500e-04\n",
            "Epoch 19/500\n",
            "365/367 [============================>.] - ETA: 0s - loss: 0.4579 - accuracy: 0.8353\n",
            "Epoch 19: val_loss did not improve from 0.58960\n",
            "367/367 [==============================] - 4s 10ms/step - loss: 0.4597 - accuracy: 0.8345 - val_loss: 0.5985 - val_accuracy: 0.7943 - lr: 1.2500e-04\n",
            "Epoch 20/500\n",
            "365/367 [============================>.] - ETA: 0s - loss: 0.4439 - accuracy: 0.8370\n",
            "Epoch 20: ReduceLROnPlateau reducing learning rate to 6.25000029685907e-05.\n",
            "\n",
            "Epoch 20: val_loss did not improve from 0.58960\n",
            "367/367 [==============================] - 4s 11ms/step - loss: 0.4428 - accuracy: 0.8379 - val_loss: 0.5971 - val_accuracy: 0.7956 - lr: 1.2500e-04\n",
            "Epoch 21/500\n",
            "365/367 [============================>.] - ETA: 0s - loss: 0.4212 - accuracy: 0.8555\n",
            "Epoch 21: val_loss improved from 0.58960 to 0.57807, saving model to /home/user/Videos/LAB_PC/Documents/DNN/7.DNN/output/modelflowermodel/cnn_base/van\n",
            "367/367 [==============================] - 4s 10ms/step - loss: 0.4215 - accuracy: 0.8556 - val_loss: 0.5781 - val_accuracy: 0.7929 - lr: 6.2500e-05\n",
            "Epoch 22/500\n",
            "363/367 [============================>.] - ETA: 0s - loss: 0.4301 - accuracy: 0.8499\n",
            "Epoch 22: val_loss improved from 0.57807 to 0.57466, saving model to /home/user/Videos/LAB_PC/Documents/DNN/7.DNN/output/modelflowermodel/cnn_base/van\n",
            "367/367 [==============================] - 4s 10ms/step - loss: 0.4321 - accuracy: 0.8484 - val_loss: 0.5747 - val_accuracy: 0.8025 - lr: 6.2500e-05\n",
            "Epoch 23/500\n",
            "362/367 [============================>.] - ETA: 0s - loss: 0.4238 - accuracy: 0.8512\n",
            "Epoch 23: val_loss did not improve from 0.57466\n",
            "367/367 [==============================] - 4s 10ms/step - loss: 0.4239 - accuracy: 0.8505 - val_loss: 0.5802 - val_accuracy: 0.7888 - lr: 6.2500e-05\n",
            "Epoch 24/500\n",
            "363/367 [============================>.] - ETA: 0s - loss: 0.4139 - accuracy: 0.8488\n",
            "Epoch 24: val_loss improved from 0.57466 to 0.55998, saving model to /home/user/Videos/LAB_PC/Documents/DNN/7.DNN/output/modelflowermodel/cnn_base/van\n",
            "367/367 [==============================] - 4s 10ms/step - loss: 0.4170 - accuracy: 0.8481 - val_loss: 0.5600 - val_accuracy: 0.8147 - lr: 6.2500e-05\n",
            "Epoch 25/500\n",
            "365/367 [============================>.] - ETA: 0s - loss: 0.3958 - accuracy: 0.8651\n",
            "Epoch 25: val_loss did not improve from 0.55998\n",
            "367/367 [==============================] - 4s 11ms/step - loss: 0.3963 - accuracy: 0.8651 - val_loss: 0.5808 - val_accuracy: 0.7916 - lr: 6.2500e-05\n",
            "Epoch 26/500\n",
            "367/367 [==============================] - ETA: 0s - loss: 0.3916 - accuracy: 0.8621\n",
            "Epoch 26: ReduceLROnPlateau reducing learning rate to 3.125000148429535e-05.\n",
            "\n",
            "Epoch 26: val_loss did not improve from 0.55998\n",
            "367/367 [==============================] - 4s 11ms/step - loss: 0.3916 - accuracy: 0.8621 - val_loss: 0.5679 - val_accuracy: 0.8079 - lr: 6.2500e-05\n",
            "Epoch 27/500\n",
            "363/367 [============================>.] - ETA: 0s - loss: 0.3946 - accuracy: 0.8554\n",
            "Epoch 27: val_loss did not improve from 0.55998\n",
            "367/367 [==============================] - 4s 10ms/step - loss: 0.3955 - accuracy: 0.8552 - val_loss: 0.5632 - val_accuracy: 0.8065 - lr: 3.1250e-05\n",
            "Epoch 28/500\n",
            "363/367 [============================>.] - ETA: 0s - loss: 0.3968 - accuracy: 0.8567\n",
            "Epoch 28: ReduceLROnPlateau reducing learning rate to 1.5625000742147677e-05.\n",
            "\n",
            "Epoch 28: val_loss did not improve from 0.55998\n",
            "367/367 [==============================] - 4s 11ms/step - loss: 0.3968 - accuracy: 0.8566 - val_loss: 0.5685 - val_accuracy: 0.8052 - lr: 3.1250e-05\n",
            "Epoch 29/500\n",
            "363/367 [============================>.] - ETA: 0s - loss: 0.3951 - accuracy: 0.8654\n",
            "Epoch 29: val_loss did not improve from 0.55998\n",
            "367/367 [==============================] - 4s 11ms/step - loss: 0.3954 - accuracy: 0.8658 - val_loss: 0.5656 - val_accuracy: 0.8106 - lr: 1.5625e-05\n",
            "Epoch 30/500\n",
            "367/367 [==============================] - ETA: 0s - loss: 0.3896 - accuracy: 0.8678\n",
            "Epoch 30: ReduceLROnPlateau reducing learning rate to 7.812500371073838e-06.\n",
            "\n",
            "Epoch 30: val_loss did not improve from 0.55998\n",
            "367/367 [==============================] - 5s 13ms/step - loss: 0.3896 - accuracy: 0.8678 - val_loss: 0.5658 - val_accuracy: 0.8106 - lr: 1.5625e-05\n",
            "Epoch 31/500\n",
            "362/367 [============================>.] - ETA: 0s - loss: 0.4008 - accuracy: 0.8557\n",
            "Epoch 31: val_loss did not improve from 0.55998\n",
            "367/367 [==============================] - 4s 12ms/step - loss: 0.4023 - accuracy: 0.8559 - val_loss: 0.5682 - val_accuracy: 0.8093 - lr: 7.8125e-06\n",
            "Epoch 32/500\n",
            "364/367 [============================>.] - ETA: 0s - loss: 0.4126 - accuracy: 0.8568\n",
            "Epoch 32: ReduceLROnPlateau reducing learning rate to 3.906250185536919e-06.\n",
            "\n",
            "Epoch 32: val_loss did not improve from 0.55998\n",
            "367/367 [==============================] - 4s 11ms/step - loss: 0.4116 - accuracy: 0.8569 - val_loss: 0.5693 - val_accuracy: 0.8120 - lr: 7.8125e-06\n",
            "Epoch 33/500\n",
            "365/367 [============================>.] - ETA: 0s - loss: 0.3819 - accuracy: 0.8692\n",
            "Epoch 33: val_loss did not improve from 0.55998\n",
            "367/367 [==============================] - 4s 12ms/step - loss: 0.3830 - accuracy: 0.8685 - val_loss: 0.5714 - val_accuracy: 0.8079 - lr: 3.9063e-06\n",
            "Epoch 34/500\n",
            "364/367 [============================>.] - ETA: 0s - loss: 0.3978 - accuracy: 0.8520\n",
            "Epoch 34: ReduceLROnPlateau reducing learning rate to 1.9531250927684596e-06.\n",
            "\n",
            "Epoch 34: val_loss did not improve from 0.55998\n",
            "367/367 [==============================] - 4s 12ms/step - loss: 0.3989 - accuracy: 0.8512 - val_loss: 0.5672 - val_accuracy: 0.8093 - lr: 3.9063e-06\n",
            "Epoch 35/500\n",
            "367/367 [==============================] - ETA: 0s - loss: 0.3955 - accuracy: 0.8539\n",
            "Epoch 35: val_loss did not improve from 0.55998\n",
            "367/367 [==============================] - 4s 11ms/step - loss: 0.3955 - accuracy: 0.8539 - val_loss: 0.5669 - val_accuracy: 0.8093 - lr: 1.9531e-06\n",
            "Epoch 36/500\n",
            "365/367 [============================>.] - ETA: 0s - loss: 0.3953 - accuracy: 0.8620\n",
            "Epoch 36: ReduceLROnPlateau reducing learning rate to 9.765625463842298e-07.\n",
            "\n",
            "Epoch 36: val_loss did not improve from 0.55998\n",
            "367/367 [==============================] - 4s 11ms/step - loss: 0.3959 - accuracy: 0.8617 - val_loss: 0.5683 - val_accuracy: 0.8093 - lr: 1.9531e-06\n",
            "Epoch 37/500\n",
            "363/367 [============================>.] - ETA: 0s - loss: 0.3897 - accuracy: 0.8602\n",
            "Epoch 37: val_loss did not improve from 0.55998\n",
            "367/367 [==============================] - 4s 11ms/step - loss: 0.3894 - accuracy: 0.8607 - val_loss: 0.5699 - val_accuracy: 0.8106 - lr: 9.7656e-07\n",
            "Epoch 38/500\n",
            "367/367 [==============================] - ETA: 0s - loss: 0.4057 - accuracy: 0.8515\n",
            "Epoch 38: ReduceLROnPlateau reducing learning rate to 4.882812731921149e-07.\n",
            "\n",
            "Epoch 38: val_loss did not improve from 0.55998\n",
            "367/367 [==============================] - 4s 11ms/step - loss: 0.4057 - accuracy: 0.8515 - val_loss: 0.5687 - val_accuracy: 0.8093 - lr: 9.7656e-07\n",
            "Epoch 39/500\n",
            "367/367 [==============================] - ETA: 0s - loss: 0.3949 - accuracy: 0.8692\n",
            "Epoch 39: val_loss did not improve from 0.55998\n",
            "367/367 [==============================] - 4s 11ms/step - loss: 0.3949 - accuracy: 0.8692 - val_loss: 0.5660 - val_accuracy: 0.8065 - lr: 4.8828e-07\n",
            "Epoch 40/500\n",
            "367/367 [==============================] - ETA: 0s - loss: 0.3966 - accuracy: 0.8648\n",
            "Epoch 40: ReduceLROnPlateau reducing learning rate to 2.4414063659605745e-07.\n",
            "\n",
            "Epoch 40: val_loss did not improve from 0.55998\n",
            "367/367 [==============================] - 4s 11ms/step - loss: 0.3966 - accuracy: 0.8648 - val_loss: 0.5651 - val_accuracy: 0.8106 - lr: 4.8828e-07\n",
            "Epoch 41/500\n",
            "364/367 [============================>.] - ETA: 0s - loss: 0.3968 - accuracy: 0.8565\n",
            "Epoch 41: val_loss did not improve from 0.55998\n",
            "367/367 [==============================] - 4s 11ms/step - loss: 0.3983 - accuracy: 0.8559 - val_loss: 0.5667 - val_accuracy: 0.8106 - lr: 2.4414e-07\n",
            "Epoch 42/500\n",
            "365/367 [============================>.] - ETA: 0s - loss: 0.3935 - accuracy: 0.8592\n",
            "Epoch 42: ReduceLROnPlateau reducing learning rate to 1.2207031829802872e-07.\n",
            "\n",
            "Epoch 42: val_loss did not improve from 0.55998\n",
            "367/367 [==============================] - 4s 11ms/step - loss: 0.3952 - accuracy: 0.8593 - val_loss: 0.5660 - val_accuracy: 0.8052 - lr: 2.4414e-07\n",
            "Epoch 43/500\n",
            "365/367 [============================>.] - ETA: 0s - loss: 0.3970 - accuracy: 0.8671\n",
            "Epoch 43: val_loss did not improve from 0.55998\n",
            "367/367 [==============================] - 4s 11ms/step - loss: 0.3976 - accuracy: 0.8668 - val_loss: 0.5669 - val_accuracy: 0.8065 - lr: 1.2207e-07\n",
            "Epoch 44/500\n",
            "366/367 [============================>.] - ETA: 0s - loss: 0.3957 - accuracy: 0.8589\n",
            "Epoch 44: ReduceLROnPlateau reducing learning rate to 6.103515914901436e-08.\n",
            "\n",
            "Epoch 44: val_loss did not improve from 0.55998\n",
            "367/367 [==============================] - 5s 13ms/step - loss: 0.3962 - accuracy: 0.8587 - val_loss: 0.5662 - val_accuracy: 0.8079 - lr: 1.2207e-07\n",
            "Epoch 45/500\n",
            "364/367 [============================>.] - ETA: 0s - loss: 0.3885 - accuracy: 0.8599\n",
            "Epoch 45: val_loss did not improve from 0.55998\n",
            "367/367 [==============================] - 4s 12ms/step - loss: 0.3922 - accuracy: 0.8587 - val_loss: 0.5674 - val_accuracy: 0.8106 - lr: 6.1035e-08\n",
            "Epoch 46/500\n",
            "366/367 [============================>.] - ETA: 0s - loss: 0.3958 - accuracy: 0.8589\n",
            "Epoch 46: ReduceLROnPlateau reducing learning rate to 3.051757957450718e-08.\n",
            "\n",
            "Epoch 46: val_loss did not improve from 0.55998\n",
            "367/367 [==============================] - 5s 13ms/step - loss: 0.3955 - accuracy: 0.8593 - val_loss: 0.5683 - val_accuracy: 0.8106 - lr: 6.1035e-08\n",
            "Epoch 47/500\n",
            "362/367 [============================>.] - ETA: 0s - loss: 0.3983 - accuracy: 0.8650\n",
            "Epoch 47: val_loss did not improve from 0.55998\n",
            "367/367 [==============================] - 4s 11ms/step - loss: 0.3997 - accuracy: 0.8651 - val_loss: 0.5671 - val_accuracy: 0.8093 - lr: 3.0518e-08\n",
            "Epoch 48/500\n",
            "367/367 [==============================] - ETA: 0s - loss: 0.4144 - accuracy: 0.8498\n",
            "Epoch 48: ReduceLROnPlateau reducing learning rate to 1.525878978725359e-08.\n",
            "\n",
            "Epoch 48: val_loss did not improve from 0.55998\n",
            "367/367 [==============================] - 4s 11ms/step - loss: 0.4144 - accuracy: 0.8498 - val_loss: 0.5682 - val_accuracy: 0.8106 - lr: 3.0518e-08\n",
            "Epoch 49/500\n",
            "366/367 [============================>.] - ETA: 0s - loss: 0.3897 - accuracy: 0.8576Restoring model weights from the end of the best epoch: 24.\n",
            "\n",
            "Epoch 49: val_loss did not improve from 0.55998\n",
            "367/367 [==============================] - 4s 11ms/step - loss: 0.3899 - accuracy: 0.8576 - val_loss: 0.5645 - val_accuracy: 0.8093 - lr: 1.5259e-08\n",
            "Epoch 49: early stopping\n"
          ]
        }
      ],
      "source": [
        "history=model.fit(train_ds,validation_data=test_ds,\n",
        "                  epochs=EPOCHS,\n",
        "                  verbose=1,\n",
        "                  batch_size=BATCH_SIZE,\n",
        "                  callbacks=[es_point,lr_decay,mcp_point])"
      ]
    },
    {
      "cell_type": "code",
      "execution_count": 23,
      "metadata": {
        "colab": {
          "base_uri": "https://localhost:8080/"
        },
        "id": "cvZtHAqceQNB",
        "outputId": "f29408e3-d3b4-4c4b-e719-75593aa4260d"
      },
      "outputs": [
        {
          "name": "stdout",
          "output_type": "stream",
          "text": [
            "Model: \"sequential_1\"\n",
            "_________________________________________________________________\n",
            " Layer (type)                Output Shape              Param #   \n",
            "=================================================================\n",
            " rescaling (Rescaling)       (None, 170, 170, 3)       0         \n",
            "                                                                 \n",
            " conv2d (Conv2D)             (None, 168, 168, 8)       224       \n",
            "                                                                 \n",
            " batch_normalization (Batch  (None, 168, 168, 8)       32        \n",
            " Normalization)                                                  \n",
            "                                                                 \n",
            " activation (Activation)     (None, 168, 168, 8)       0         \n",
            "                                                                 \n",
            " max_pooling2d (MaxPooling2  (None, 42, 42, 8)         0         \n",
            " D)                                                              \n",
            "                                                                 \n",
            " conv2d_1 (Conv2D)           (None, 40, 40, 32)        2336      \n",
            "                                                                 \n",
            " batch_normalization_1 (Bat  (None, 40, 40, 32)        128       \n",
            " chNormalization)                                                \n",
            "                                                                 \n",
            " activation_1 (Activation)   (None, 40, 40, 32)        0         \n",
            "                                                                 \n",
            " max_pooling2d_1 (MaxPoolin  (None, 10, 10, 32)        0         \n",
            " g2D)                                                            \n",
            "                                                                 \n",
            " conv2d_2 (Conv2D)           (None, 8, 8, 128)         36992     \n",
            "                                                                 \n",
            " batch_normalization_2 (Bat  (None, 8, 8, 128)         512       \n",
            " chNormalization)                                                \n",
            "                                                                 \n",
            " activation_2 (Activation)   (None, 8, 8, 128)         0         \n",
            "                                                                 \n",
            " dropout (Dropout)           (None, 8, 8, 128)         0         \n",
            "                                                                 \n",
            " max_pooling2d_2 (MaxPoolin  (None, 1, 1, 128)         0         \n",
            " g2D)                                                            \n",
            "                                                                 \n",
            " flatten (Flatten)           (None, 128)               0         \n",
            "                                                                 \n",
            " dropout_1 (Dropout)         (None, 128)               0         \n",
            "                                                                 \n",
            " dense (Dense)               (None, 32)                4128      \n",
            "                                                                 \n",
            " batch_normalization_3 (Bat  (None, 32)                128       \n",
            " chNormalization)                                                \n",
            "                                                                 \n",
            " activation_3 (Activation)   (None, 32)                0         \n",
            "                                                                 \n",
            " dropout_2 (Dropout)         (None, 32)                0         \n",
            "                                                                 \n",
            " dense_1 (Dense)             (None, 5)                 165       \n",
            "                                                                 \n",
            "=================================================================\n",
            "Total params: 44645 (174.39 KB)\n",
            "Trainable params: 44245 (172.83 KB)\n",
            "Non-trainable params: 400 (1.56 KB)\n",
            "_________________________________________________________________\n"
          ]
        }
      ],
      "source": [
        "model.summary()"
      ]
    },
    {
      "cell_type": "code",
      "execution_count": 24,
      "metadata": {
        "colab": {
          "base_uri": "https://localhost:8080/",
          "height": 1000
        },
        "id": "doolCYxXeQNB",
        "outputId": "fab6163a-9744-4e95-fad3-30bf7d23adc4"
      },
      "outputs": [
        {
          "data": {
            "text/html": [
              "<div>\n",
              "<style scoped>\n",
              "    .dataframe tbody tr th:only-of-type {\n",
              "        vertical-align: middle;\n",
              "    }\n",
              "\n",
              "    .dataframe tbody tr th {\n",
              "        vertical-align: top;\n",
              "    }\n",
              "\n",
              "    .dataframe thead th {\n",
              "        text-align: right;\n",
              "    }\n",
              "</style>\n",
              "<table border=\"1\" class=\"dataframe\">\n",
              "  <thead>\n",
              "    <tr style=\"text-align: right;\">\n",
              "      <th></th>\n",
              "      <th>loss</th>\n",
              "      <th>accuracy</th>\n",
              "      <th>val_loss</th>\n",
              "      <th>val_accuracy</th>\n",
              "      <th>lr</th>\n",
              "    </tr>\n",
              "  </thead>\n",
              "  <tbody>\n",
              "    <tr>\n",
              "      <th>0</th>\n",
              "      <td>1.212370</td>\n",
              "      <td>0.506812</td>\n",
              "      <td>1.402403</td>\n",
              "      <td>0.426431</td>\n",
              "      <td>1.000000e-03</td>\n",
              "    </tr>\n",
              "    <tr>\n",
              "      <th>1</th>\n",
              "      <td>0.993433</td>\n",
              "      <td>0.610354</td>\n",
              "      <td>1.056726</td>\n",
              "      <td>0.603542</td>\n",
              "      <td>1.000000e-03</td>\n",
              "    </tr>\n",
              "    <tr>\n",
              "      <th>2</th>\n",
              "      <td>0.923858</td>\n",
              "      <td>0.639646</td>\n",
              "      <td>0.920695</td>\n",
              "      <td>0.629428</td>\n",
              "      <td>1.000000e-03</td>\n",
              "    </tr>\n",
              "    <tr>\n",
              "      <th>3</th>\n",
              "      <td>0.859582</td>\n",
              "      <td>0.673365</td>\n",
              "      <td>0.933944</td>\n",
              "      <td>0.630790</td>\n",
              "      <td>1.000000e-03</td>\n",
              "    </tr>\n",
              "    <tr>\n",
              "      <th>4</th>\n",
              "      <td>0.825552</td>\n",
              "      <td>0.688011</td>\n",
              "      <td>0.781476</td>\n",
              "      <td>0.717984</td>\n",
              "      <td>1.000000e-03</td>\n",
              "    </tr>\n",
              "    <tr>\n",
              "      <th>5</th>\n",
              "      <td>0.774554</td>\n",
              "      <td>0.706744</td>\n",
              "      <td>1.007298</td>\n",
              "      <td>0.622616</td>\n",
              "      <td>1.000000e-03</td>\n",
              "    </tr>\n",
              "    <tr>\n",
              "      <th>6</th>\n",
              "      <td>0.757750</td>\n",
              "      <td>0.724796</td>\n",
              "      <td>0.754501</td>\n",
              "      <td>0.720708</td>\n",
              "      <td>1.000000e-03</td>\n",
              "    </tr>\n",
              "    <tr>\n",
              "      <th>7</th>\n",
              "      <td>0.698123</td>\n",
              "      <td>0.742507</td>\n",
              "      <td>0.840737</td>\n",
              "      <td>0.663488</td>\n",
              "      <td>1.000000e-03</td>\n",
              "    </tr>\n",
              "    <tr>\n",
              "      <th>8</th>\n",
              "      <td>0.682978</td>\n",
              "      <td>0.748638</td>\n",
              "      <td>0.867722</td>\n",
              "      <td>0.681199</td>\n",
              "      <td>1.000000e-03</td>\n",
              "    </tr>\n",
              "    <tr>\n",
              "      <th>9</th>\n",
              "      <td>0.640898</td>\n",
              "      <td>0.765668</td>\n",
              "      <td>0.666716</td>\n",
              "      <td>0.756131</td>\n",
              "      <td>5.000000e-04</td>\n",
              "    </tr>\n",
              "    <tr>\n",
              "      <th>10</th>\n",
              "      <td>0.605600</td>\n",
              "      <td>0.776907</td>\n",
              "      <td>0.749458</td>\n",
              "      <td>0.731608</td>\n",
              "      <td>5.000000e-04</td>\n",
              "    </tr>\n",
              "    <tr>\n",
              "      <th>11</th>\n",
              "      <td>0.564985</td>\n",
              "      <td>0.799727</td>\n",
              "      <td>0.717165</td>\n",
              "      <td>0.732970</td>\n",
              "      <td>5.000000e-04</td>\n",
              "    </tr>\n",
              "    <tr>\n",
              "      <th>12</th>\n",
              "      <td>0.546468</td>\n",
              "      <td>0.800409</td>\n",
              "      <td>0.630100</td>\n",
              "      <td>0.779292</td>\n",
              "      <td>2.500000e-04</td>\n",
              "    </tr>\n",
              "    <tr>\n",
              "      <th>13</th>\n",
              "      <td>0.512498</td>\n",
              "      <td>0.813352</td>\n",
              "      <td>0.632050</td>\n",
              "      <td>0.783379</td>\n",
              "      <td>2.500000e-04</td>\n",
              "    </tr>\n",
              "    <tr>\n",
              "      <th>14</th>\n",
              "      <td>0.488761</td>\n",
              "      <td>0.820163</td>\n",
              "      <td>0.601007</td>\n",
              "      <td>0.772480</td>\n",
              "      <td>2.500000e-04</td>\n",
              "    </tr>\n",
              "    <tr>\n",
              "      <th>15</th>\n",
              "      <td>0.504589</td>\n",
              "      <td>0.816417</td>\n",
              "      <td>0.613129</td>\n",
              "      <td>0.775204</td>\n",
              "      <td>2.500000e-04</td>\n",
              "    </tr>\n",
              "    <tr>\n",
              "      <th>16</th>\n",
              "      <td>0.478600</td>\n",
              "      <td>0.829019</td>\n",
              "      <td>0.744809</td>\n",
              "      <td>0.747956</td>\n",
              "      <td>2.500000e-04</td>\n",
              "    </tr>\n",
              "    <tr>\n",
              "      <th>17</th>\n",
              "      <td>0.464446</td>\n",
              "      <td>0.832425</td>\n",
              "      <td>0.589601</td>\n",
              "      <td>0.797003</td>\n",
              "      <td>1.250000e-04</td>\n",
              "    </tr>\n",
              "    <tr>\n",
              "      <th>18</th>\n",
              "      <td>0.459665</td>\n",
              "      <td>0.834469</td>\n",
              "      <td>0.598543</td>\n",
              "      <td>0.794278</td>\n",
              "      <td>1.250000e-04</td>\n",
              "    </tr>\n",
              "    <tr>\n",
              "      <th>19</th>\n",
              "      <td>0.442803</td>\n",
              "      <td>0.837875</td>\n",
              "      <td>0.597064</td>\n",
              "      <td>0.795640</td>\n",
              "      <td>1.250000e-04</td>\n",
              "    </tr>\n",
              "    <tr>\n",
              "      <th>20</th>\n",
              "      <td>0.421544</td>\n",
              "      <td>0.855586</td>\n",
              "      <td>0.578074</td>\n",
              "      <td>0.792916</td>\n",
              "      <td>6.250000e-05</td>\n",
              "    </tr>\n",
              "    <tr>\n",
              "      <th>21</th>\n",
              "      <td>0.432118</td>\n",
              "      <td>0.848433</td>\n",
              "      <td>0.574660</td>\n",
              "      <td>0.802452</td>\n",
              "      <td>6.250000e-05</td>\n",
              "    </tr>\n",
              "    <tr>\n",
              "      <th>22</th>\n",
              "      <td>0.423892</td>\n",
              "      <td>0.850477</td>\n",
              "      <td>0.580176</td>\n",
              "      <td>0.788828</td>\n",
              "      <td>6.250000e-05</td>\n",
              "    </tr>\n",
              "    <tr>\n",
              "      <th>23</th>\n",
              "      <td>0.417040</td>\n",
              "      <td>0.848093</td>\n",
              "      <td>0.559984</td>\n",
              "      <td>0.814714</td>\n",
              "      <td>6.250000e-05</td>\n",
              "    </tr>\n",
              "    <tr>\n",
              "      <th>24</th>\n",
              "      <td>0.396267</td>\n",
              "      <td>0.865123</td>\n",
              "      <td>0.580774</td>\n",
              "      <td>0.791553</td>\n",
              "      <td>6.250000e-05</td>\n",
              "    </tr>\n",
              "    <tr>\n",
              "      <th>25</th>\n",
              "      <td>0.391646</td>\n",
              "      <td>0.862057</td>\n",
              "      <td>0.567936</td>\n",
              "      <td>0.807902</td>\n",
              "      <td>6.250000e-05</td>\n",
              "    </tr>\n",
              "    <tr>\n",
              "      <th>26</th>\n",
              "      <td>0.395534</td>\n",
              "      <td>0.855245</td>\n",
              "      <td>0.563191</td>\n",
              "      <td>0.806540</td>\n",
              "      <td>3.125000e-05</td>\n",
              "    </tr>\n",
              "    <tr>\n",
              "      <th>27</th>\n",
              "      <td>0.396818</td>\n",
              "      <td>0.856608</td>\n",
              "      <td>0.568540</td>\n",
              "      <td>0.805177</td>\n",
              "      <td>3.125000e-05</td>\n",
              "    </tr>\n",
              "    <tr>\n",
              "      <th>28</th>\n",
              "      <td>0.395428</td>\n",
              "      <td>0.865804</td>\n",
              "      <td>0.565631</td>\n",
              "      <td>0.810627</td>\n",
              "      <td>1.562500e-05</td>\n",
              "    </tr>\n",
              "    <tr>\n",
              "      <th>29</th>\n",
              "      <td>0.389602</td>\n",
              "      <td>0.867847</td>\n",
              "      <td>0.565846</td>\n",
              "      <td>0.810627</td>\n",
              "      <td>1.562500e-05</td>\n",
              "    </tr>\n",
              "    <tr>\n",
              "      <th>30</th>\n",
              "      <td>0.402273</td>\n",
              "      <td>0.855926</td>\n",
              "      <td>0.568211</td>\n",
              "      <td>0.809264</td>\n",
              "      <td>7.812500e-06</td>\n",
              "    </tr>\n",
              "    <tr>\n",
              "      <th>31</th>\n",
              "      <td>0.411633</td>\n",
              "      <td>0.856948</td>\n",
              "      <td>0.569324</td>\n",
              "      <td>0.811989</td>\n",
              "      <td>7.812500e-06</td>\n",
              "    </tr>\n",
              "    <tr>\n",
              "      <th>32</th>\n",
              "      <td>0.383037</td>\n",
              "      <td>0.868529</td>\n",
              "      <td>0.571374</td>\n",
              "      <td>0.807902</td>\n",
              "      <td>3.906250e-06</td>\n",
              "    </tr>\n",
              "    <tr>\n",
              "      <th>33</th>\n",
              "      <td>0.398862</td>\n",
              "      <td>0.851158</td>\n",
              "      <td>0.567231</td>\n",
              "      <td>0.809264</td>\n",
              "      <td>3.906250e-06</td>\n",
              "    </tr>\n",
              "    <tr>\n",
              "      <th>34</th>\n",
              "      <td>0.395535</td>\n",
              "      <td>0.853883</td>\n",
              "      <td>0.566857</td>\n",
              "      <td>0.809264</td>\n",
              "      <td>1.953125e-06</td>\n",
              "    </tr>\n",
              "    <tr>\n",
              "      <th>35</th>\n",
              "      <td>0.395898</td>\n",
              "      <td>0.861717</td>\n",
              "      <td>0.568279</td>\n",
              "      <td>0.809264</td>\n",
              "      <td>1.953125e-06</td>\n",
              "    </tr>\n",
              "    <tr>\n",
              "      <th>36</th>\n",
              "      <td>0.389448</td>\n",
              "      <td>0.860695</td>\n",
              "      <td>0.569912</td>\n",
              "      <td>0.810627</td>\n",
              "      <td>9.765625e-07</td>\n",
              "    </tr>\n",
              "    <tr>\n",
              "      <th>37</th>\n",
              "      <td>0.405728</td>\n",
              "      <td>0.851499</td>\n",
              "      <td>0.568684</td>\n",
              "      <td>0.809264</td>\n",
              "      <td>9.765625e-07</td>\n",
              "    </tr>\n",
              "    <tr>\n",
              "      <th>38</th>\n",
              "      <td>0.394888</td>\n",
              "      <td>0.869210</td>\n",
              "      <td>0.565973</td>\n",
              "      <td>0.806540</td>\n",
              "      <td>4.882813e-07</td>\n",
              "    </tr>\n",
              "    <tr>\n",
              "      <th>39</th>\n",
              "      <td>0.396617</td>\n",
              "      <td>0.864782</td>\n",
              "      <td>0.565125</td>\n",
              "      <td>0.810627</td>\n",
              "      <td>4.882813e-07</td>\n",
              "    </tr>\n",
              "    <tr>\n",
              "      <th>40</th>\n",
              "      <td>0.398281</td>\n",
              "      <td>0.855926</td>\n",
              "      <td>0.566741</td>\n",
              "      <td>0.810627</td>\n",
              "      <td>2.441406e-07</td>\n",
              "    </tr>\n",
              "    <tr>\n",
              "      <th>41</th>\n",
              "      <td>0.395178</td>\n",
              "      <td>0.859332</td>\n",
              "      <td>0.566050</td>\n",
              "      <td>0.805177</td>\n",
              "      <td>2.441406e-07</td>\n",
              "    </tr>\n",
              "    <tr>\n",
              "      <th>42</th>\n",
              "      <td>0.397577</td>\n",
              "      <td>0.866826</td>\n",
              "      <td>0.566910</td>\n",
              "      <td>0.806540</td>\n",
              "      <td>1.220703e-07</td>\n",
              "    </tr>\n",
              "    <tr>\n",
              "      <th>43</th>\n",
              "      <td>0.396174</td>\n",
              "      <td>0.858651</td>\n",
              "      <td>0.566242</td>\n",
              "      <td>0.807902</td>\n",
              "      <td>1.220703e-07</td>\n",
              "    </tr>\n",
              "    <tr>\n",
              "      <th>44</th>\n",
              "      <td>0.392191</td>\n",
              "      <td>0.858651</td>\n",
              "      <td>0.567407</td>\n",
              "      <td>0.810627</td>\n",
              "      <td>6.103516e-08</td>\n",
              "    </tr>\n",
              "    <tr>\n",
              "      <th>45</th>\n",
              "      <td>0.395485</td>\n",
              "      <td>0.859332</td>\n",
              "      <td>0.568279</td>\n",
              "      <td>0.810627</td>\n",
              "      <td>6.103516e-08</td>\n",
              "    </tr>\n",
              "    <tr>\n",
              "      <th>46</th>\n",
              "      <td>0.399684</td>\n",
              "      <td>0.865123</td>\n",
              "      <td>0.567072</td>\n",
              "      <td>0.809264</td>\n",
              "      <td>3.051758e-08</td>\n",
              "    </tr>\n",
              "    <tr>\n",
              "      <th>47</th>\n",
              "      <td>0.414416</td>\n",
              "      <td>0.849796</td>\n",
              "      <td>0.568218</td>\n",
              "      <td>0.810627</td>\n",
              "      <td>3.051758e-08</td>\n",
              "    </tr>\n",
              "    <tr>\n",
              "      <th>48</th>\n",
              "      <td>0.389922</td>\n",
              "      <td>0.857629</td>\n",
              "      <td>0.564508</td>\n",
              "      <td>0.809264</td>\n",
              "      <td>1.525879e-08</td>\n",
              "    </tr>\n",
              "  </tbody>\n",
              "</table>\n",
              "</div>"
            ],
            "text/plain": [
              "        loss  accuracy  val_loss  val_accuracy            lr\n",
              "0   1.212370  0.506812  1.402403      0.426431  1.000000e-03\n",
              "1   0.993433  0.610354  1.056726      0.603542  1.000000e-03\n",
              "2   0.923858  0.639646  0.920695      0.629428  1.000000e-03\n",
              "3   0.859582  0.673365  0.933944      0.630790  1.000000e-03\n",
              "4   0.825552  0.688011  0.781476      0.717984  1.000000e-03\n",
              "5   0.774554  0.706744  1.007298      0.622616  1.000000e-03\n",
              "6   0.757750  0.724796  0.754501      0.720708  1.000000e-03\n",
              "7   0.698123  0.742507  0.840737      0.663488  1.000000e-03\n",
              "8   0.682978  0.748638  0.867722      0.681199  1.000000e-03\n",
              "9   0.640898  0.765668  0.666716      0.756131  5.000000e-04\n",
              "10  0.605600  0.776907  0.749458      0.731608  5.000000e-04\n",
              "11  0.564985  0.799727  0.717165      0.732970  5.000000e-04\n",
              "12  0.546468  0.800409  0.630100      0.779292  2.500000e-04\n",
              "13  0.512498  0.813352  0.632050      0.783379  2.500000e-04\n",
              "14  0.488761  0.820163  0.601007      0.772480  2.500000e-04\n",
              "15  0.504589  0.816417  0.613129      0.775204  2.500000e-04\n",
              "16  0.478600  0.829019  0.744809      0.747956  2.500000e-04\n",
              "17  0.464446  0.832425  0.589601      0.797003  1.250000e-04\n",
              "18  0.459665  0.834469  0.598543      0.794278  1.250000e-04\n",
              "19  0.442803  0.837875  0.597064      0.795640  1.250000e-04\n",
              "20  0.421544  0.855586  0.578074      0.792916  6.250000e-05\n",
              "21  0.432118  0.848433  0.574660      0.802452  6.250000e-05\n",
              "22  0.423892  0.850477  0.580176      0.788828  6.250000e-05\n",
              "23  0.417040  0.848093  0.559984      0.814714  6.250000e-05\n",
              "24  0.396267  0.865123  0.580774      0.791553  6.250000e-05\n",
              "25  0.391646  0.862057  0.567936      0.807902  6.250000e-05\n",
              "26  0.395534  0.855245  0.563191      0.806540  3.125000e-05\n",
              "27  0.396818  0.856608  0.568540      0.805177  3.125000e-05\n",
              "28  0.395428  0.865804  0.565631      0.810627  1.562500e-05\n",
              "29  0.389602  0.867847  0.565846      0.810627  1.562500e-05\n",
              "30  0.402273  0.855926  0.568211      0.809264  7.812500e-06\n",
              "31  0.411633  0.856948  0.569324      0.811989  7.812500e-06\n",
              "32  0.383037  0.868529  0.571374      0.807902  3.906250e-06\n",
              "33  0.398862  0.851158  0.567231      0.809264  3.906250e-06\n",
              "34  0.395535  0.853883  0.566857      0.809264  1.953125e-06\n",
              "35  0.395898  0.861717  0.568279      0.809264  1.953125e-06\n",
              "36  0.389448  0.860695  0.569912      0.810627  9.765625e-07\n",
              "37  0.405728  0.851499  0.568684      0.809264  9.765625e-07\n",
              "38  0.394888  0.869210  0.565973      0.806540  4.882813e-07\n",
              "39  0.396617  0.864782  0.565125      0.810627  4.882813e-07\n",
              "40  0.398281  0.855926  0.566741      0.810627  2.441406e-07\n",
              "41  0.395178  0.859332  0.566050      0.805177  2.441406e-07\n",
              "42  0.397577  0.866826  0.566910      0.806540  1.220703e-07\n",
              "43  0.396174  0.858651  0.566242      0.807902  1.220703e-07\n",
              "44  0.392191  0.858651  0.567407      0.810627  6.103516e-08\n",
              "45  0.395485  0.859332  0.568279      0.810627  6.103516e-08\n",
              "46  0.399684  0.865123  0.567072      0.809264  3.051758e-08\n",
              "47  0.414416  0.849796  0.568218      0.810627  3.051758e-08\n",
              "48  0.389922  0.857629  0.564508      0.809264  1.525879e-08"
            ]
          },
          "execution_count": 24,
          "metadata": {},
          "output_type": "execute_result"
        }
      ],
      "source": [
        "res_df=pd.DataFrame(history.history)\n",
        "res_df"
      ]
    },
    {
      "cell_type": "code",
      "execution_count": 25,
      "metadata": {
        "id": "cfxhPRi6eQNB"
      },
      "outputs": [],
      "source": [
        "###-----------------------------------\n",
        "### Function to plot Loss Curve\n",
        "###-----------------------------------\n",
        "\n",
        "    ###-----------------------------------\n",
        "### Function to plot Loss Curve\n",
        "###-----------------------------------\n",
        "\n",
        "def plot_tf_hist(hist_df):\n",
        "    '''    Args:\n",
        "      hist_df : pandas Dataframe with four columns\n",
        "                For 'x' values, we will use index\n",
        "    '''\n",
        "    fig, axes = plt.subplots(1,2 , figsize = (15,6))\n",
        "\n",
        "    # properties  matplotlib.patch.Patch\n",
        "    props = dict(boxstyle='round', facecolor='aqua', alpha=0.4)\n",
        "    facecolor = 'cyan'\n",
        "    fontsize=12\n",
        "\n",
        "    # Get columns by index to eliminate any column naming error\n",
        "    y1 = hist_df.columns[0]\n",
        "    y2 = hist_df.columns[1]\n",
        "    y3 = hist_df.columns[2]\n",
        "    y4 = hist_df.columns[3]\n",
        "\n",
        "    # Where was min loss\n",
        "    best = hist_df[hist_df[y3] == hist_df[y3].min()]\n",
        "\n",
        "    ax = axes[0]\n",
        "\n",
        "    hist_df.plot(y = [y1,y3], ax = ax, colormap=CMAP)\n",
        "\n",
        "\n",
        "    # little beautification\n",
        "    txtFmt = \"{}: \\n  train: {:6.4f}\\n   test: {:6.4f}\"\n",
        "    txtstr = txtFmt.format(y1.capitalize(),\n",
        "                           hist_df.iloc[-1][y1],\n",
        "                           hist_df.iloc[-1][y3]) #text to plot\n",
        "\n",
        "    # place a text box in upper middle in axes coords\n",
        "    ax.text(0.3, 0.95, txtstr, transform=ax.transAxes, fontsize=fontsize,\n",
        "            verticalalignment='top', bbox=props)\n",
        "\n",
        "    # Mark arrow at lowest\n",
        "    ax.annotate(f'Min: {best[y3].to_numpy()[0]:6.4f}', # text to print\n",
        "                xy=(best.index.to_numpy(), best[y3].to_numpy()[0]), # Arrow start\n",
        "                xytext=(best.index.to_numpy()-1, best[y3].to_numpy()[0]), # location of text\n",
        "                fontsize=fontsize, va='bottom', ha='right',bbox=props, # beautification of text\n",
        "                arrowprops=dict(facecolor=facecolor, shrink=0.05)) # arrow\n",
        "\n",
        "    # Draw vertical line at best value\n",
        "    ax.axvline(x = best.index.to_numpy(), color = 'green', linestyle='-.', lw = 3);\n",
        "\n",
        "    ax.set_xlabel(\"Epochs\")\n",
        "    ax.set_ylabel(y1.capitalize())\n",
        "    ax.set_title('Errors')\n",
        "    ax.grid();\n",
        "    ax.legend(loc = 'upper left') # model legend to upper left\n",
        "\n",
        "    ax = axes[1]\n",
        "\n",
        "    hist_df.plot( y = [y2, y4], ax = ax, colormap=CMAP)\n",
        "\n",
        "    # little beautification\n",
        "    txtFmt = \"{}: \\n  train: {:6.4f}\\n  test:  {:6.4f}\"\n",
        "    txtstr = txtFmt.format(y2.capitalize(),\n",
        "                           hist_df.iloc[-1][y2],\n",
        "                           hist_df.iloc[-1][y4]) #text to plot\n",
        "\n",
        "    # place a text box in upper middle in axes coords\n",
        "    ax.text(0.3, 0.2, txtstr, transform=ax.transAxes, fontsize=fontsize,\n",
        "            verticalalignment='top', bbox=props)\n",
        "\n",
        "    # Mark arrow at lowest\n",
        "    ax.annotate(f'Best: {best[y4].to_numpy()[0]:6.4f}', # text to print\n",
        "                xy=(best.index.to_numpy(), best[y4].to_numpy()[0]), # Arrow start\n",
        "                xytext=(best.index.to_numpy()-1, best[y4].to_numpy()[0]), # location of text\n",
        "                fontsize=fontsize, va='bottom', ha='right',bbox=props, # beautification of text\n",
        "                arrowprops=dict(facecolor=facecolor, shrink=0.05)) # arrow\n",
        "\n",
        "\n",
        "    # Draw vertical line at best value\n",
        "    ax.axvline(x = best.index.to_numpy(), color = 'green', linestyle='-.', lw = 3);\n",
        "\n",
        "    ax.set_xlabel(\"Epochs\")\n",
        "    ax.set_ylabel(y2.capitalize())\n",
        "    ax.grid()\n",
        "    ax.legend(loc = 'lower left')\n",
        "\n",
        "    plt.tight_layout()"
      ]
    },
    {
      "cell_type": "code",
      "execution_count": 26,
      "metadata": {
        "colab": {
          "base_uri": "https://localhost:8080/",
          "height": 607
        },
        "id": "eACZz8g2eQNC",
        "outputId": "9eab0d52-8e8c-425e-cca6-b0734b124ae5"
      },
      "outputs": [
        {
          "data": {
            "image/png": "[encoded data removed]",
            "text/plain": [
              "<Figure size 1500x600 with 2 Axes>"
            ]
          },
          "metadata": {},
          "output_type": "display_data"
        }
      ],
      "source": [
        "plot_tf_hist(res_df)"
      ]
    },
    {
      "cell_type": "markdown",
      "metadata": {
        "id": "J6t8ITvmeQNC"
      },
      "source": [
        "## Testing preds"
      ]
    },
    {
      "cell_type": "code",
      "execution_count": 27,
      "metadata": {
        "colab": {
          "base_uri": "https://localhost:8080/"
        },
        "id": "xMwdzTEbeQNC",
        "outputId": "53d7a39b-5a38-446e-89f7-7fa67b4673ed"
      },
      "outputs": [
        {
          "name": "stdout",
          "output_type": "stream",
          "text": [
            "92/92 - 0s - loss: 0.5600 - accuracy: 0.8147 - 428ms/epoch - 5ms/step\n"
          ]
        }
      ],
      "source": [
        "test_loss,test_acc=model.evaluate(test_ds,verbose=2)"
      ]
    },
    {
      "cell_type": "code",
      "execution_count": 28,
      "metadata": {
        "colab": {
          "base_uri": "https://localhost:8080/",
          "height": 81
        },
        "id": "NTO5NvH_eQNC",
        "outputId": "b90ec251-237c-4bbd-f88a-b99eb1f18d1c"
      },
      "outputs": [
        {
          "data": {
            "text/html": [
              "<div>\n",
              "<style scoped>\n",
              "    .dataframe tbody tr th:only-of-type {\n",
              "        vertical-align: middle;\n",
              "    }\n",
              "\n",
              "    .dataframe tbody tr th {\n",
              "        vertical-align: top;\n",
              "    }\n",
              "\n",
              "    .dataframe thead th {\n",
              "        text-align: right;\n",
              "    }\n",
              "</style>\n",
              "<table border=\"1\" class=\"dataframe\">\n",
              "  <thead>\n",
              "    <tr style=\"text-align: right;\">\n",
              "      <th></th>\n",
              "      <th>loss</th>\n",
              "      <th>accuracy</th>\n",
              "      <th>val_loss</th>\n",
              "      <th>val_accuracy</th>\n",
              "      <th>lr</th>\n",
              "    </tr>\n",
              "  </thead>\n",
              "  <tbody>\n",
              "    <tr>\n",
              "      <th>23</th>\n",
              "      <td>0.41704</td>\n",
              "      <td>0.848093</td>\n",
              "      <td>0.559984</td>\n",
              "      <td>0.814714</td>\n",
              "      <td>0.000063</td>\n",
              "    </tr>\n",
              "  </tbody>\n",
              "</table>\n",
              "</div>"
            ],
            "text/plain": [
              "       loss  accuracy  val_loss  val_accuracy        lr\n",
              "23  0.41704  0.848093  0.559984      0.814714  0.000063"
            ]
          },
          "execution_count": 28,
          "metadata": {},
          "output_type": "execute_result"
        }
      ],
      "source": [
        "res_df[res_df['val_loss'] == res_df['val_loss'].min()]"
      ]
    },
    {
      "cell_type": "code",
      "execution_count": 29,
      "metadata": {},
      "outputs": [
        {
          "data": {
            "text/plain": [
              "'/home/user/Videos/LAB_PC/Documents/DNN/7.DNN/input/flowers_validation'"
            ]
          },
          "execution_count": 29,
          "metadata": {},
          "output_type": "execute_result"
        }
      ],
      "source": [
        "val_dir = os.path.join(inpDir, valDir)\n",
        "val_dir"
      ]
    },
    {
      "cell_type": "code",
      "execution_count": 30,
      "metadata": {},
      "outputs": [
        {
          "data": {
            "text/plain": [
              "['tulips', 'roses', 'sunflowers', 'dandelion', 'daisy']"
            ]
          },
          "execution_count": 30,
          "metadata": {},
          "output_type": "execute_result"
        }
      ],
      "source": [
        "os.listdir(val_dir)"
      ]
    },
    {
      "cell_type": "code",
      "execution_count": 32,
      "metadata": {},
      "outputs": [
        {
          "name": "stdout",
          "output_type": "stream",
          "text": [
            "Found 328 files belonging to 5 classes.\n"
          ]
        }
      ],
      "source": [
        "val_ds = tf.keras.preprocessing.image_dataset_from_directory(\n",
        "    val_dir, \n",
        "    validation_split=None,\n",
        "    seed=RANDOM_STATE,\n",
        "    image_size=[IMG_HEIGHT,IMG_WIDTH],\n",
        "    batch_size=BATCH_SIZE\n",
        ")"
      ]
    },
    {
      "cell_type": "code",
      "execution_count": 43,
      "metadata": {},
      "outputs": [
        {
          "name": "stdout",
          "output_type": "stream",
          "text": [
            "41/41 [==============================] - 1s 10ms/step - loss: 0.6576 - accuracy: 0.7744\n"
          ]
        },
        {
          "data": {
            "text/plain": [
              "(0.6576, 0.7744)"
            ]
          },
          "execution_count": 43,
          "metadata": {},
          "output_type": "execute_result"
        }
      ],
      "source": [
        "model.evaluate(val_ds)"
      ]
    }
  ],
  "metadata": {
    "accelerator": "GPU",
    "colab": {
      "gpuType": "T4",
      "provenance": []
    },
    "kernelspec": {
      "display_name": "Python 3",
      "name": "python3"
    },
    "language_info": {
      "codemirror_mode": {
        "name": "ipython",
        "version": 3
      },
      "file_extension": ".py",
      "mimetype": "text/x-python",
      "name": "python",
      "nbconvert_exporter": "python",
      "pygments_lexer": "ipython3",
      "version": "3.10.12"
    }
  },
  "nbformat": 4,
  "nbformat_minor": 0
}
