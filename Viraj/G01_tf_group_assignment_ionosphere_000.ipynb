{
 "cells": [
  {
   "cell_type": "code",
   "execution_count": 188,
   "metadata": {
    "id": "kFZRpLpK02pB"
   },
   "outputs": [],
   "source": [
    "#!/usr/bin/env python\n",
    "# -*- coding: utf-8 -*-"
   ]
  },
  {
   "cell_type": "markdown",
   "metadata": {
    "id": "deSnZmVy02pF"
   },
   "source": [
    "\n",
    "\n",
    "# Deep Neural Networks\n",
    "\n",
    "## Assignment\n",
    "### Neural Network with :\n",
    "\n",
    "- **Ionosphere**\n",
    "- **binary-class**"
   ]
  },
  {
   "cell_type": "code",
   "execution_count": 189,
   "metadata": {
    "id": "rt0pfyeA02pK"
   },
   "outputs": [],
   "source": [
    "###-----------------\n",
    "### Import Libraries\n",
    "###-----------------\n",
    "\n",
    "import os\n",
    "import numpy as np\n",
    "import pandas as pd\n",
    "import matplotlib.pyplot as plt\n",
    "from sklearn import datasets\n",
    "from collections.abc import Callable\n",
    "from typing import Literal\n",
    "from sklearn.model_selection import train_test_split\n",
    "from sklearn.metrics import accuracy_score, confusion_matrix, classification_report, ConfusionMatrixDisplay\n",
    "from sklearn.preprocessing import StandardScaler\n",
    "import tensorflow as tf \n",
    "%matplotlib inline"
   ]
  },
  {
   "cell_type": "code",
   "execution_count": 190,
   "metadata": {},
   "outputs": [],
   "source": [
    "# gpus = tf.config.list_physical_devices('GPU')\n",
    "\n",
    "# try:\n",
    "#     for g in gpus:\n",
    "#         tf.config.experimental.set_memory_growth(g, True)\n",
    "#     logical_gpus = tf.config.list_logical_devices('GPU')\n",
    "#     print (len(gpus), 'Phusical GPUs', len(logical_gpus), 'Logical GPUs')\n",
    "# except:\n",
    "#     print ('invalid device')"
   ]
  },
  {
   "cell_type": "code",
   "execution_count": 191,
   "metadata": {
    "id": "__T9cczP02pL"
   },
   "outputs": [],
   "source": [
    "###----------------\n",
    "### Some parameters\n",
    "###----------------\n",
    "\n",
    "inpDir = '../../input'\n",
    "outDir = '../output'\n",
    "subDir = 'ionosphere'\n",
    "modelDir = '.../models'\n",
    "\n",
    "RANDOM_STATE = 24 # REMEMBER: to remove at the time of promotion to production\n",
    "np.random.seed(RANDOM_STATE) # Set Random Seed for reproducible  results\n",
    "\n",
    "EPOCHS = 101 # number of epochs\n",
    "ALPHA = 0.1 # learning rate\n",
    "NUM_SAMPLES = 1280 # How many samples we want to generate \n",
    "NOISE = 0.2 # Noise to be introduced in the data\n",
    "TEST_SIZE = 0.2\n",
    "BATCH_SIZE = 32\n",
    "TRAIN_SIZE = 14496 # fix size of train set sot that we have batches of same size\n",
    "PATIENCE = 10\n",
    "\n",
    "# parameters for Matplotlib\n",
    "params = {'legend.fontsize': 'x-large',\n",
    "          'figure.figsize': (15, 8),\n",
    "          'axes.labelsize': 'x-large',\n",
    "          'axes.titlesize':'x-large',\n",
    "          'xtick.labelsize':'x-large',\n",
    "          'ytick.labelsize':'x-large'\n",
    "         }\n",
    "\n",
    "CMAP = 'coolwarm' # plt.cm.Spectral\n",
    "\n",
    "plt.rcParams.update(params)"
   ]
  },
  {
   "cell_type": "markdown",
   "metadata": {
    "id": "7bhVN20X02pN"
   },
   "source": [
    "## Generate Data Set\n",
    "Ionosphere Dataset"
   ]
  },
  {
   "cell_type": "code",
   "execution_count": 192,
   "metadata": {
    "id": "LXZ37P4G02pP"
   },
   "outputs": [
    {
     "data": {
      "text/html": [
       "<div>\n",
       "<style scoped>\n",
       "    .dataframe tbody tr th:only-of-type {\n",
       "        vertical-align: middle;\n",
       "    }\n",
       "\n",
       "    .dataframe tbody tr th {\n",
       "        vertical-align: top;\n",
       "    }\n",
       "\n",
       "    .dataframe thead th {\n",
       "        text-align: right;\n",
       "    }\n",
       "</style>\n",
       "<table border=\"1\" class=\"dataframe\">\n",
       "  <thead>\n",
       "    <tr style=\"text-align: right;\">\n",
       "      <th></th>\n",
       "      <th>0</th>\n",
       "      <th>1</th>\n",
       "      <th>2</th>\n",
       "      <th>3</th>\n",
       "      <th>4</th>\n",
       "      <th>5</th>\n",
       "      <th>6</th>\n",
       "      <th>7</th>\n",
       "      <th>8</th>\n",
       "      <th>9</th>\n",
       "      <th>...</th>\n",
       "      <th>25</th>\n",
       "      <th>26</th>\n",
       "      <th>27</th>\n",
       "      <th>28</th>\n",
       "      <th>29</th>\n",
       "      <th>30</th>\n",
       "      <th>31</th>\n",
       "      <th>32</th>\n",
       "      <th>33</th>\n",
       "      <th>34</th>\n",
       "    </tr>\n",
       "  </thead>\n",
       "  <tbody>\n",
       "    <tr>\n",
       "      <th>0</th>\n",
       "      <td>1</td>\n",
       "      <td>0</td>\n",
       "      <td>0.99539</td>\n",
       "      <td>-0.05889</td>\n",
       "      <td>0.85243</td>\n",
       "      <td>0.02306</td>\n",
       "      <td>0.83398</td>\n",
       "      <td>-0.37708</td>\n",
       "      <td>1.00000</td>\n",
       "      <td>0.03760</td>\n",
       "      <td>...</td>\n",
       "      <td>-0.51171</td>\n",
       "      <td>0.41078</td>\n",
       "      <td>-0.46168</td>\n",
       "      <td>0.21266</td>\n",
       "      <td>-0.34090</td>\n",
       "      <td>0.42267</td>\n",
       "      <td>-0.54487</td>\n",
       "      <td>0.18641</td>\n",
       "      <td>-0.45300</td>\n",
       "      <td>g</td>\n",
       "    </tr>\n",
       "    <tr>\n",
       "      <th>1</th>\n",
       "      <td>1</td>\n",
       "      <td>0</td>\n",
       "      <td>1.00000</td>\n",
       "      <td>-0.18829</td>\n",
       "      <td>0.93035</td>\n",
       "      <td>-0.36156</td>\n",
       "      <td>-0.10868</td>\n",
       "      <td>-0.93597</td>\n",
       "      <td>1.00000</td>\n",
       "      <td>-0.04549</td>\n",
       "      <td>...</td>\n",
       "      <td>-0.26569</td>\n",
       "      <td>-0.20468</td>\n",
       "      <td>-0.18401</td>\n",
       "      <td>-0.19040</td>\n",
       "      <td>-0.11593</td>\n",
       "      <td>-0.16626</td>\n",
       "      <td>-0.06288</td>\n",
       "      <td>-0.13738</td>\n",
       "      <td>-0.02447</td>\n",
       "      <td>b</td>\n",
       "    </tr>\n",
       "    <tr>\n",
       "      <th>2</th>\n",
       "      <td>1</td>\n",
       "      <td>0</td>\n",
       "      <td>1.00000</td>\n",
       "      <td>-0.03365</td>\n",
       "      <td>1.00000</td>\n",
       "      <td>0.00485</td>\n",
       "      <td>1.00000</td>\n",
       "      <td>-0.12062</td>\n",
       "      <td>0.88965</td>\n",
       "      <td>0.01198</td>\n",
       "      <td>...</td>\n",
       "      <td>-0.40220</td>\n",
       "      <td>0.58984</td>\n",
       "      <td>-0.22145</td>\n",
       "      <td>0.43100</td>\n",
       "      <td>-0.17365</td>\n",
       "      <td>0.60436</td>\n",
       "      <td>-0.24180</td>\n",
       "      <td>0.56045</td>\n",
       "      <td>-0.38238</td>\n",
       "      <td>g</td>\n",
       "    </tr>\n",
       "    <tr>\n",
       "      <th>3</th>\n",
       "      <td>1</td>\n",
       "      <td>0</td>\n",
       "      <td>1.00000</td>\n",
       "      <td>-0.45161</td>\n",
       "      <td>1.00000</td>\n",
       "      <td>1.00000</td>\n",
       "      <td>0.71216</td>\n",
       "      <td>-1.00000</td>\n",
       "      <td>0.00000</td>\n",
       "      <td>0.00000</td>\n",
       "      <td>...</td>\n",
       "      <td>0.90695</td>\n",
       "      <td>0.51613</td>\n",
       "      <td>1.00000</td>\n",
       "      <td>1.00000</td>\n",
       "      <td>-0.20099</td>\n",
       "      <td>0.25682</td>\n",
       "      <td>1.00000</td>\n",
       "      <td>-0.32382</td>\n",
       "      <td>1.00000</td>\n",
       "      <td>b</td>\n",
       "    </tr>\n",
       "    <tr>\n",
       "      <th>4</th>\n",
       "      <td>1</td>\n",
       "      <td>0</td>\n",
       "      <td>1.00000</td>\n",
       "      <td>-0.02401</td>\n",
       "      <td>0.94140</td>\n",
       "      <td>0.06531</td>\n",
       "      <td>0.92106</td>\n",
       "      <td>-0.23255</td>\n",
       "      <td>0.77152</td>\n",
       "      <td>-0.16399</td>\n",
       "      <td>...</td>\n",
       "      <td>-0.65158</td>\n",
       "      <td>0.13290</td>\n",
       "      <td>-0.53206</td>\n",
       "      <td>0.02431</td>\n",
       "      <td>-0.62197</td>\n",
       "      <td>-0.05707</td>\n",
       "      <td>-0.59573</td>\n",
       "      <td>-0.04608</td>\n",
       "      <td>-0.65697</td>\n",
       "      <td>g</td>\n",
       "    </tr>\n",
       "  </tbody>\n",
       "</table>\n",
       "<p>5 rows × 35 columns</p>\n",
       "</div>"
      ],
      "text/plain": [
       "   0   1        2        3        4        5        6        7        8   \\\n",
       "0   1   0  0.99539 -0.05889  0.85243  0.02306  0.83398 -0.37708  1.00000   \n",
       "1   1   0  1.00000 -0.18829  0.93035 -0.36156 -0.10868 -0.93597  1.00000   \n",
       "2   1   0  1.00000 -0.03365  1.00000  0.00485  1.00000 -0.12062  0.88965   \n",
       "3   1   0  1.00000 -0.45161  1.00000  1.00000  0.71216 -1.00000  0.00000   \n",
       "4   1   0  1.00000 -0.02401  0.94140  0.06531  0.92106 -0.23255  0.77152   \n",
       "\n",
       "        9   ...       25       26       27       28       29       30  \\\n",
       "0  0.03760  ... -0.51171  0.41078 -0.46168  0.21266 -0.34090  0.42267   \n",
       "1 -0.04549  ... -0.26569 -0.20468 -0.18401 -0.19040 -0.11593 -0.16626   \n",
       "2  0.01198  ... -0.40220  0.58984 -0.22145  0.43100 -0.17365  0.60436   \n",
       "3  0.00000  ...  0.90695  0.51613  1.00000  1.00000 -0.20099  0.25682   \n",
       "4 -0.16399  ... -0.65158  0.13290 -0.53206  0.02431 -0.62197 -0.05707   \n",
       "\n",
       "        31       32       33  34  \n",
       "0 -0.54487  0.18641 -0.45300   g  \n",
       "1 -0.06288 -0.13738 -0.02447   b  \n",
       "2 -0.24180  0.56045 -0.38238   g  \n",
       "3  1.00000 -0.32382  1.00000   b  \n",
       "4 -0.59573 -0.04608 -0.65697   g  \n",
       "\n",
       "[5 rows x 35 columns]"
      ]
     },
     "execution_count": 192,
     "metadata": {},
     "output_type": "execute_result"
    }
   ],
   "source": [
    "data_df = pd.read_csv('ionosphere.data', header=None)\n",
    "data_df.head()"
   ]
  },
  {
   "cell_type": "code",
   "execution_count": 193,
   "metadata": {
    "colab": {
     "base_uri": "https://localhost:8080/",
     "height": 596
    },
    "id": "PWMWQKQ702pQ",
    "outputId": "80ccd743-533a-4a5d-c009-9318021035a1",
    "scrolled": true
   },
   "outputs": [
    {
     "data": {
      "text/plain": [
       "(351, 35)"
      ]
     },
     "execution_count": 193,
     "metadata": {},
     "output_type": "execute_result"
    }
   ],
   "source": [
    "data_df.shape"
   ]
  },
  {
   "cell_type": "code",
   "execution_count": 194,
   "metadata": {},
   "outputs": [
    {
     "data": {
      "text/plain": [
       "0     0\n",
       "1     0\n",
       "2     0\n",
       "3     0\n",
       "4     0\n",
       "5     0\n",
       "6     0\n",
       "7     0\n",
       "8     0\n",
       "9     0\n",
       "10    0\n",
       "11    0\n",
       "12    0\n",
       "13    0\n",
       "14    0\n",
       "15    0\n",
       "16    0\n",
       "17    0\n",
       "18    0\n",
       "19    0\n",
       "20    0\n",
       "21    0\n",
       "22    0\n",
       "23    0\n",
       "24    0\n",
       "25    0\n",
       "26    0\n",
       "27    0\n",
       "28    0\n",
       "29    0\n",
       "30    0\n",
       "31    0\n",
       "32    0\n",
       "33    0\n",
       "34    0\n",
       "dtype: int64"
      ]
     },
     "execution_count": 194,
     "metadata": {},
     "output_type": "execute_result"
    }
   ],
   "source": [
    "data_df.isnull().sum()"
   ]
  },
  {
   "cell_type": "code",
   "execution_count": 195,
   "metadata": {},
   "outputs": [
    {
     "data": {
      "text/plain": [
       "Index([               0,                1,                2,                3,\n",
       "                      4,                5,                6,                7,\n",
       "                      8,                9,               10,               11,\n",
       "                     12,               13,               14,               15,\n",
       "                     16,               17,               18,               19,\n",
       "                     20,               21,               22,               23,\n",
       "                     24,               25,               26,               27,\n",
       "                     28,               29,               30,               31,\n",
       "                     32,               33, 'Classification'],\n",
       "      dtype='object')"
      ]
     },
     "execution_count": 195,
     "metadata": {},
     "output_type": "execute_result"
    }
   ],
   "source": [
    "data_df = data_df.rename(columns={34: 'Classification'})\n",
    "data_df.columns"
   ]
  },
  {
   "cell_type": "code",
   "execution_count": 196,
   "metadata": {},
   "outputs": [
    {
     "data": {
      "text/plain": [
       "0                 0\n",
       "1                 0\n",
       "2                 0\n",
       "3                 0\n",
       "4                 0\n",
       "5                 0\n",
       "6                 0\n",
       "7                 0\n",
       "8                 0\n",
       "9                 0\n",
       "10                0\n",
       "11                0\n",
       "12                0\n",
       "13                0\n",
       "14                0\n",
       "15                0\n",
       "16                0\n",
       "17                0\n",
       "18                0\n",
       "19                0\n",
       "20                0\n",
       "21                0\n",
       "22                0\n",
       "23                0\n",
       "24                0\n",
       "25                0\n",
       "26                0\n",
       "27                0\n",
       "28                0\n",
       "29                0\n",
       "30                0\n",
       "31                0\n",
       "32                0\n",
       "33                0\n",
       "Classification    0\n",
       "dtype: int64"
      ]
     },
     "execution_count": 196,
     "metadata": {},
     "output_type": "execute_result"
    }
   ],
   "source": [
    "data_df.isna().sum()"
   ]
  },
  {
   "cell_type": "code",
   "execution_count": 197,
   "metadata": {},
   "outputs": [
    {
     "data": {
      "text/html": [
       "<div>\n",
       "<style scoped>\n",
       "    .dataframe tbody tr th:only-of-type {\n",
       "        vertical-align: middle;\n",
       "    }\n",
       "\n",
       "    .dataframe tbody tr th {\n",
       "        vertical-align: top;\n",
       "    }\n",
       "\n",
       "    .dataframe thead th {\n",
       "        text-align: right;\n",
       "    }\n",
       "</style>\n",
       "<table border=\"1\" class=\"dataframe\">\n",
       "  <thead>\n",
       "    <tr style=\"text-align: right;\">\n",
       "      <th></th>\n",
       "      <th>0</th>\n",
       "      <th>1</th>\n",
       "      <th>2</th>\n",
       "      <th>3</th>\n",
       "      <th>4</th>\n",
       "      <th>5</th>\n",
       "      <th>6</th>\n",
       "      <th>7</th>\n",
       "      <th>8</th>\n",
       "      <th>9</th>\n",
       "      <th>...</th>\n",
       "      <th>25</th>\n",
       "      <th>26</th>\n",
       "      <th>27</th>\n",
       "      <th>28</th>\n",
       "      <th>29</th>\n",
       "      <th>30</th>\n",
       "      <th>31</th>\n",
       "      <th>32</th>\n",
       "      <th>33</th>\n",
       "      <th>Classification</th>\n",
       "    </tr>\n",
       "  </thead>\n",
       "  <tbody>\n",
       "    <tr>\n",
       "      <th>0</th>\n",
       "      <td>1</td>\n",
       "      <td>0</td>\n",
       "      <td>0.99539</td>\n",
       "      <td>-0.05889</td>\n",
       "      <td>0.85243</td>\n",
       "      <td>0.02306</td>\n",
       "      <td>0.83398</td>\n",
       "      <td>-0.37708</td>\n",
       "      <td>1.00000</td>\n",
       "      <td>0.03760</td>\n",
       "      <td>...</td>\n",
       "      <td>-0.51171</td>\n",
       "      <td>0.41078</td>\n",
       "      <td>-0.46168</td>\n",
       "      <td>0.21266</td>\n",
       "      <td>-0.34090</td>\n",
       "      <td>0.42267</td>\n",
       "      <td>-0.54487</td>\n",
       "      <td>0.18641</td>\n",
       "      <td>-0.45300</td>\n",
       "      <td>g</td>\n",
       "    </tr>\n",
       "    <tr>\n",
       "      <th>1</th>\n",
       "      <td>1</td>\n",
       "      <td>0</td>\n",
       "      <td>1.00000</td>\n",
       "      <td>-0.18829</td>\n",
       "      <td>0.93035</td>\n",
       "      <td>-0.36156</td>\n",
       "      <td>-0.10868</td>\n",
       "      <td>-0.93597</td>\n",
       "      <td>1.00000</td>\n",
       "      <td>-0.04549</td>\n",
       "      <td>...</td>\n",
       "      <td>-0.26569</td>\n",
       "      <td>-0.20468</td>\n",
       "      <td>-0.18401</td>\n",
       "      <td>-0.19040</td>\n",
       "      <td>-0.11593</td>\n",
       "      <td>-0.16626</td>\n",
       "      <td>-0.06288</td>\n",
       "      <td>-0.13738</td>\n",
       "      <td>-0.02447</td>\n",
       "      <td>b</td>\n",
       "    </tr>\n",
       "    <tr>\n",
       "      <th>2</th>\n",
       "      <td>1</td>\n",
       "      <td>0</td>\n",
       "      <td>1.00000</td>\n",
       "      <td>-0.03365</td>\n",
       "      <td>1.00000</td>\n",
       "      <td>0.00485</td>\n",
       "      <td>1.00000</td>\n",
       "      <td>-0.12062</td>\n",
       "      <td>0.88965</td>\n",
       "      <td>0.01198</td>\n",
       "      <td>...</td>\n",
       "      <td>-0.40220</td>\n",
       "      <td>0.58984</td>\n",
       "      <td>-0.22145</td>\n",
       "      <td>0.43100</td>\n",
       "      <td>-0.17365</td>\n",
       "      <td>0.60436</td>\n",
       "      <td>-0.24180</td>\n",
       "      <td>0.56045</td>\n",
       "      <td>-0.38238</td>\n",
       "      <td>g</td>\n",
       "    </tr>\n",
       "    <tr>\n",
       "      <th>3</th>\n",
       "      <td>1</td>\n",
       "      <td>0</td>\n",
       "      <td>1.00000</td>\n",
       "      <td>-0.45161</td>\n",
       "      <td>1.00000</td>\n",
       "      <td>1.00000</td>\n",
       "      <td>0.71216</td>\n",
       "      <td>-1.00000</td>\n",
       "      <td>0.00000</td>\n",
       "      <td>0.00000</td>\n",
       "      <td>...</td>\n",
       "      <td>0.90695</td>\n",
       "      <td>0.51613</td>\n",
       "      <td>1.00000</td>\n",
       "      <td>1.00000</td>\n",
       "      <td>-0.20099</td>\n",
       "      <td>0.25682</td>\n",
       "      <td>1.00000</td>\n",
       "      <td>-0.32382</td>\n",
       "      <td>1.00000</td>\n",
       "      <td>b</td>\n",
       "    </tr>\n",
       "    <tr>\n",
       "      <th>4</th>\n",
       "      <td>1</td>\n",
       "      <td>0</td>\n",
       "      <td>1.00000</td>\n",
       "      <td>-0.02401</td>\n",
       "      <td>0.94140</td>\n",
       "      <td>0.06531</td>\n",
       "      <td>0.92106</td>\n",
       "      <td>-0.23255</td>\n",
       "      <td>0.77152</td>\n",
       "      <td>-0.16399</td>\n",
       "      <td>...</td>\n",
       "      <td>-0.65158</td>\n",
       "      <td>0.13290</td>\n",
       "      <td>-0.53206</td>\n",
       "      <td>0.02431</td>\n",
       "      <td>-0.62197</td>\n",
       "      <td>-0.05707</td>\n",
       "      <td>-0.59573</td>\n",
       "      <td>-0.04608</td>\n",
       "      <td>-0.65697</td>\n",
       "      <td>g</td>\n",
       "    </tr>\n",
       "  </tbody>\n",
       "</table>\n",
       "<p>5 rows × 35 columns</p>\n",
       "</div>"
      ],
      "text/plain": [
       "   0  1        2        3        4        5        6        7        8  \\\n",
       "0  1  0  0.99539 -0.05889  0.85243  0.02306  0.83398 -0.37708  1.00000   \n",
       "1  1  0  1.00000 -0.18829  0.93035 -0.36156 -0.10868 -0.93597  1.00000   \n",
       "2  1  0  1.00000 -0.03365  1.00000  0.00485  1.00000 -0.12062  0.88965   \n",
       "3  1  0  1.00000 -0.45161  1.00000  1.00000  0.71216 -1.00000  0.00000   \n",
       "4  1  0  1.00000 -0.02401  0.94140  0.06531  0.92106 -0.23255  0.77152   \n",
       "\n",
       "         9  ...       25       26       27       28       29       30  \\\n",
       "0  0.03760  ... -0.51171  0.41078 -0.46168  0.21266 -0.34090  0.42267   \n",
       "1 -0.04549  ... -0.26569 -0.20468 -0.18401 -0.19040 -0.11593 -0.16626   \n",
       "2  0.01198  ... -0.40220  0.58984 -0.22145  0.43100 -0.17365  0.60436   \n",
       "3  0.00000  ...  0.90695  0.51613  1.00000  1.00000 -0.20099  0.25682   \n",
       "4 -0.16399  ... -0.65158  0.13290 -0.53206  0.02431 -0.62197 -0.05707   \n",
       "\n",
       "        31       32       33  Classification  \n",
       "0 -0.54487  0.18641 -0.45300               g  \n",
       "1 -0.06288 -0.13738 -0.02447               b  \n",
       "2 -0.24180  0.56045 -0.38238               g  \n",
       "3  1.00000 -0.32382  1.00000               b  \n",
       "4 -0.59573 -0.04608 -0.65697               g  \n",
       "\n",
       "[5 rows x 35 columns]"
      ]
     },
     "execution_count": 197,
     "metadata": {},
     "output_type": "execute_result"
    }
   ],
   "source": [
    "data_df.head()"
   ]
  },
  {
   "cell_type": "code",
   "execution_count": 198,
   "metadata": {},
   "outputs": [
    {
     "data": {
      "text/plain": [
       "array(['g', 'b'], dtype=object)"
      ]
     },
     "execution_count": 198,
     "metadata": {},
     "output_type": "execute_result"
    }
   ],
   "source": [
    "data_df['Classification'].unique()"
   ]
  },
  {
   "cell_type": "code",
   "execution_count": 199,
   "metadata": {},
   "outputs": [],
   "source": [
    "labels = { 'g' : 'Good', 'b': 'Bad'}"
   ]
  },
  {
   "cell_type": "code",
   "execution_count": 200,
   "metadata": {},
   "outputs": [
    {
     "data": {
      "text/plain": [
       "((351, 34), (351,))"
      ]
     },
     "execution_count": 200,
     "metadata": {},
     "output_type": "execute_result"
    }
   ],
   "source": [
    "features_df = data_df.drop('Classification', axis = 1) # drop label col\n",
    "\n",
    "label_df = data_df['Classification'] # labels\n",
    "\n",
    "features_df.shape, label_df.shape"
   ]
  },
  {
   "cell_type": "code",
   "execution_count": 201,
   "metadata": {},
   "outputs": [
    {
     "data": {
      "text/html": [
       "<div>\n",
       "<style scoped>\n",
       "    .dataframe tbody tr th:only-of-type {\n",
       "        vertical-align: middle;\n",
       "    }\n",
       "\n",
       "    .dataframe tbody tr th {\n",
       "        vertical-align: top;\n",
       "    }\n",
       "\n",
       "    .dataframe thead th {\n",
       "        text-align: right;\n",
       "    }\n",
       "</style>\n",
       "<table border=\"1\" class=\"dataframe\">\n",
       "  <thead>\n",
       "    <tr style=\"text-align: right;\">\n",
       "      <th></th>\n",
       "      <th>b</th>\n",
       "      <th>g</th>\n",
       "    </tr>\n",
       "  </thead>\n",
       "  <tbody>\n",
       "    <tr>\n",
       "      <th>0</th>\n",
       "      <td>False</td>\n",
       "      <td>True</td>\n",
       "    </tr>\n",
       "    <tr>\n",
       "      <th>1</th>\n",
       "      <td>True</td>\n",
       "      <td>False</td>\n",
       "    </tr>\n",
       "    <tr>\n",
       "      <th>2</th>\n",
       "      <td>False</td>\n",
       "      <td>True</td>\n",
       "    </tr>\n",
       "    <tr>\n",
       "      <th>3</th>\n",
       "      <td>True</td>\n",
       "      <td>False</td>\n",
       "    </tr>\n",
       "    <tr>\n",
       "      <th>4</th>\n",
       "      <td>False</td>\n",
       "      <td>True</td>\n",
       "    </tr>\n",
       "    <tr>\n",
       "      <th>...</th>\n",
       "      <td>...</td>\n",
       "      <td>...</td>\n",
       "    </tr>\n",
       "    <tr>\n",
       "      <th>346</th>\n",
       "      <td>False</td>\n",
       "      <td>True</td>\n",
       "    </tr>\n",
       "    <tr>\n",
       "      <th>347</th>\n",
       "      <td>False</td>\n",
       "      <td>True</td>\n",
       "    </tr>\n",
       "    <tr>\n",
       "      <th>348</th>\n",
       "      <td>False</td>\n",
       "      <td>True</td>\n",
       "    </tr>\n",
       "    <tr>\n",
       "      <th>349</th>\n",
       "      <td>False</td>\n",
       "      <td>True</td>\n",
       "    </tr>\n",
       "    <tr>\n",
       "      <th>350</th>\n",
       "      <td>False</td>\n",
       "      <td>True</td>\n",
       "    </tr>\n",
       "  </tbody>\n",
       "</table>\n",
       "<p>351 rows × 2 columns</p>\n",
       "</div>"
      ],
      "text/plain": [
       "         b      g\n",
       "0    False   True\n",
       "1     True  False\n",
       "2    False   True\n",
       "3     True  False\n",
       "4    False   True\n",
       "..     ...    ...\n",
       "346  False   True\n",
       "347  False   True\n",
       "348  False   True\n",
       "349  False   True\n",
       "350  False   True\n",
       "\n",
       "[351 rows x 2 columns]"
      ]
     },
     "execution_count": 201,
     "metadata": {},
     "output_type": "execute_result"
    }
   ],
   "source": [
    "label_df = pd.get_dummies(label_df)\n",
    "label_df"
   ]
  },
  {
   "cell_type": "code",
   "execution_count": 202,
   "metadata": {},
   "outputs": [
    {
     "data": {
      "text/html": [
       "<div>\n",
       "<style scoped>\n",
       "    .dataframe tbody tr th:only-of-type {\n",
       "        vertical-align: middle;\n",
       "    }\n",
       "\n",
       "    .dataframe tbody tr th {\n",
       "        vertical-align: top;\n",
       "    }\n",
       "\n",
       "    .dataframe thead th {\n",
       "        text-align: right;\n",
       "    }\n",
       "</style>\n",
       "<table border=\"1\" class=\"dataframe\">\n",
       "  <thead>\n",
       "    <tr style=\"text-align: right;\">\n",
       "      <th></th>\n",
       "      <th>b</th>\n",
       "      <th>g</th>\n",
       "    </tr>\n",
       "  </thead>\n",
       "  <tbody>\n",
       "    <tr>\n",
       "      <th>0</th>\n",
       "      <td>False</td>\n",
       "      <td>True</td>\n",
       "    </tr>\n",
       "    <tr>\n",
       "      <th>1</th>\n",
       "      <td>True</td>\n",
       "      <td>False</td>\n",
       "    </tr>\n",
       "    <tr>\n",
       "      <th>2</th>\n",
       "      <td>False</td>\n",
       "      <td>True</td>\n",
       "    </tr>\n",
       "    <tr>\n",
       "      <th>3</th>\n",
       "      <td>True</td>\n",
       "      <td>False</td>\n",
       "    </tr>\n",
       "    <tr>\n",
       "      <th>4</th>\n",
       "      <td>False</td>\n",
       "      <td>True</td>\n",
       "    </tr>\n",
       "  </tbody>\n",
       "</table>\n",
       "</div>"
      ],
      "text/plain": [
       "       b      g\n",
       "0  False   True\n",
       "1   True  False\n",
       "2  False   True\n",
       "3   True  False\n",
       "4  False   True"
      ]
     },
     "execution_count": 202,
     "metadata": {},
     "output_type": "execute_result"
    }
   ],
   "source": [
    "label_df.head()"
   ]
  },
  {
   "cell_type": "code",
   "execution_count": 203,
   "metadata": {},
   "outputs": [
    {
     "name": "stdout",
     "output_type": "stream",
     "text": [
      "(280, 34) (280, 2) (71, 34) (71, 2)\n"
     ]
    }
   ],
   "source": [
    "#  Split the data in training and test sets to measure performance of the model.\n",
    "X_train, X_test, y_train, y_test = train_test_split(features_df, label_df, \n",
    "                                                    stratify=label_df,\n",
    "                                                    test_size=TEST_SIZE, \n",
    "                                                    random_state=RANDOM_STATE )\n",
    "\n",
    "print (X_train.shape, y_train.shape, X_test.shape, y_test.shape)"
   ]
  },
  {
   "cell_type": "code",
   "execution_count": 204,
   "metadata": {},
   "outputs": [],
   "source": [
    "scaler = StandardScaler() # get the scaler\n",
    "\n",
    "X_train = scaler.fit_transform(X_train) # train\n",
    "X_test = scaler.transform(X_test) # test\n",
    "\n",
    "y_train = y_train.to_numpy() # array\n",
    "y_test = y_test.to_numpy() # convert to array"
   ]
  },
  {
   "cell_type": "code",
   "execution_count": 205,
   "metadata": {},
   "outputs": [
    {
     "data": {
      "text/plain": [
       "array([[False,  True],\n",
       "       [False,  True],\n",
       "       [ True, False],\n",
       "       [ True, False],\n",
       "       [False,  True],\n",
       "       [False,  True],\n",
       "       [False,  True],\n",
       "       [ True, False],\n",
       "       [False,  True],\n",
       "       [False,  True],\n",
       "       [False,  True],\n",
       "       [ True, False],\n",
       "       [False,  True],\n",
       "       [ True, False],\n",
       "       [False,  True],\n",
       "       [False,  True],\n",
       "       [False,  True],\n",
       "       [False,  True],\n",
       "       [False,  True],\n",
       "       [ True, False],\n",
       "       [ True, False],\n",
       "       [ True, False],\n",
       "       [False,  True],\n",
       "       [ True, False],\n",
       "       [False,  True],\n",
       "       [ True, False],\n",
       "       [ True, False],\n",
       "       [False,  True],\n",
       "       [False,  True],\n",
       "       [False,  True],\n",
       "       [False,  True],\n",
       "       [ True, False],\n",
       "       [False,  True],\n",
       "       [False,  True],\n",
       "       [False,  True],\n",
       "       [ True, False],\n",
       "       [ True, False],\n",
       "       [ True, False],\n",
       "       [False,  True],\n",
       "       [ True, False],\n",
       "       [False,  True],\n",
       "       [False,  True],\n",
       "       [False,  True],\n",
       "       [ True, False],\n",
       "       [False,  True],\n",
       "       [ True, False],\n",
       "       [False,  True],\n",
       "       [False,  True],\n",
       "       [False,  True],\n",
       "       [False,  True],\n",
       "       [ True, False],\n",
       "       [False,  True],\n",
       "       [False,  True],\n",
       "       [ True, False],\n",
       "       [ True, False],\n",
       "       [False,  True],\n",
       "       [False,  True],\n",
       "       [False,  True],\n",
       "       [False,  True],\n",
       "       [False,  True],\n",
       "       [False,  True],\n",
       "       [False,  True],\n",
       "       [False,  True],\n",
       "       [ True, False],\n",
       "       [ True, False],\n",
       "       [ True, False],\n",
       "       [False,  True],\n",
       "       [False,  True],\n",
       "       [ True, False],\n",
       "       [False,  True],\n",
       "       [ True, False],\n",
       "       [False,  True],\n",
       "       [False,  True],\n",
       "       [False,  True],\n",
       "       [False,  True],\n",
       "       [ True, False],\n",
       "       [False,  True],\n",
       "       [False,  True],\n",
       "       [False,  True],\n",
       "       [False,  True],\n",
       "       [ True, False],\n",
       "       [False,  True],\n",
       "       [False,  True],\n",
       "       [ True, False],\n",
       "       [False,  True],\n",
       "       [False,  True],\n",
       "       [False,  True],\n",
       "       [False,  True],\n",
       "       [False,  True],\n",
       "       [False,  True],\n",
       "       [False,  True],\n",
       "       [False,  True],\n",
       "       [False,  True],\n",
       "       [False,  True],\n",
       "       [False,  True],\n",
       "       [False,  True],\n",
       "       [ True, False],\n",
       "       [False,  True],\n",
       "       [ True, False],\n",
       "       [ True, False],\n",
       "       [False,  True],\n",
       "       [ True, False],\n",
       "       [ True, False],\n",
       "       [ True, False],\n",
       "       [ True, False],\n",
       "       [False,  True],\n",
       "       [False,  True],\n",
       "       [ True, False],\n",
       "       [ True, False],\n",
       "       [False,  True],\n",
       "       [False,  True],\n",
       "       [ True, False],\n",
       "       [False,  True],\n",
       "       [False,  True],\n",
       "       [False,  True],\n",
       "       [ True, False],\n",
       "       [ True, False],\n",
       "       [False,  True],\n",
       "       [ True, False],\n",
       "       [False,  True],\n",
       "       [False,  True],\n",
       "       [False,  True],\n",
       "       [ True, False],\n",
       "       [False,  True],\n",
       "       [ True, False],\n",
       "       [False,  True],\n",
       "       [False,  True],\n",
       "       [ True, False],\n",
       "       [False,  True],\n",
       "       [ True, False],\n",
       "       [ True, False],\n",
       "       [ True, False],\n",
       "       [ True, False],\n",
       "       [False,  True],\n",
       "       [False,  True],\n",
       "       [False,  True],\n",
       "       [ True, False],\n",
       "       [ True, False],\n",
       "       [False,  True],\n",
       "       [ True, False],\n",
       "       [ True, False],\n",
       "       [False,  True],\n",
       "       [False,  True],\n",
       "       [False,  True],\n",
       "       [False,  True],\n",
       "       [False,  True],\n",
       "       [False,  True],\n",
       "       [False,  True],\n",
       "       [False,  True],\n",
       "       [False,  True],\n",
       "       [ True, False],\n",
       "       [False,  True],\n",
       "       [False,  True],\n",
       "       [False,  True],\n",
       "       [False,  True],\n",
       "       [False,  True],\n",
       "       [False,  True],\n",
       "       [False,  True],\n",
       "       [False,  True],\n",
       "       [ True, False],\n",
       "       [ True, False],\n",
       "       [ True, False],\n",
       "       [ True, False],\n",
       "       [False,  True],\n",
       "       [False,  True],\n",
       "       [ True, False],\n",
       "       [False,  True],\n",
       "       [ True, False],\n",
       "       [False,  True],\n",
       "       [ True, False],\n",
       "       [False,  True],\n",
       "       [False,  True],\n",
       "       [False,  True],\n",
       "       [ True, False],\n",
       "       [False,  True],\n",
       "       [False,  True],\n",
       "       [False,  True],\n",
       "       [False,  True],\n",
       "       [ True, False],\n",
       "       [False,  True],\n",
       "       [False,  True],\n",
       "       [False,  True],\n",
       "       [False,  True],\n",
       "       [False,  True],\n",
       "       [False,  True],\n",
       "       [False,  True],\n",
       "       [ True, False],\n",
       "       [False,  True],\n",
       "       [False,  True],\n",
       "       [False,  True],\n",
       "       [False,  True],\n",
       "       [ True, False],\n",
       "       [ True, False],\n",
       "       [False,  True],\n",
       "       [False,  True],\n",
       "       [ True, False],\n",
       "       [False,  True],\n",
       "       [ True, False],\n",
       "       [False,  True],\n",
       "       [ True, False],\n",
       "       [False,  True],\n",
       "       [ True, False],\n",
       "       [ True, False],\n",
       "       [False,  True],\n",
       "       [ True, False],\n",
       "       [False,  True],\n",
       "       [ True, False],\n",
       "       [False,  True],\n",
       "       [False,  True],\n",
       "       [False,  True],\n",
       "       [False,  True],\n",
       "       [False,  True],\n",
       "       [ True, False],\n",
       "       [ True, False],\n",
       "       [ True, False],\n",
       "       [False,  True],\n",
       "       [False,  True],\n",
       "       [False,  True],\n",
       "       [False,  True],\n",
       "       [False,  True],\n",
       "       [False,  True],\n",
       "       [ True, False],\n",
       "       [False,  True],\n",
       "       [False,  True],\n",
       "       [False,  True],\n",
       "       [ True, False],\n",
       "       [False,  True],\n",
       "       [ True, False],\n",
       "       [False,  True],\n",
       "       [ True, False],\n",
       "       [False,  True],\n",
       "       [False,  True],\n",
       "       [ True, False],\n",
       "       [False,  True],\n",
       "       [False,  True],\n",
       "       [False,  True],\n",
       "       [ True, False],\n",
       "       [False,  True],\n",
       "       [False,  True],\n",
       "       [ True, False],\n",
       "       [False,  True],\n",
       "       [ True, False],\n",
       "       [False,  True],\n",
       "       [ True, False],\n",
       "       [False,  True],\n",
       "       [ True, False],\n",
       "       [ True, False],\n",
       "       [ True, False],\n",
       "       [False,  True],\n",
       "       [False,  True],\n",
       "       [False,  True],\n",
       "       [False,  True],\n",
       "       [ True, False],\n",
       "       [ True, False],\n",
       "       [ True, False],\n",
       "       [ True, False],\n",
       "       [ True, False],\n",
       "       [False,  True],\n",
       "       [ True, False],\n",
       "       [False,  True],\n",
       "       [False,  True],\n",
       "       [ True, False],\n",
       "       [False,  True],\n",
       "       [False,  True],\n",
       "       [ True, False],\n",
       "       [False,  True],\n",
       "       [ True, False],\n",
       "       [ True, False],\n",
       "       [ True, False],\n",
       "       [ True, False],\n",
       "       [False,  True],\n",
       "       [ True, False],\n",
       "       [False,  True],\n",
       "       [False,  True],\n",
       "       [False,  True],\n",
       "       [False,  True],\n",
       "       [False,  True],\n",
       "       [False,  True],\n",
       "       [False,  True],\n",
       "       [False,  True]])"
      ]
     },
     "execution_count": 205,
     "metadata": {},
     "output_type": "execute_result"
    }
   ],
   "source": [
    "y_train"
   ]
  },
  {
   "cell_type": "markdown",
   "metadata": {
    "id": "c7w9j7Yo02pX"
   },
   "source": [
    "## Neural Network\n",
    "\n",
    "Let's start with simple network. Our data has **two** features. Hence size of input layer will also be two. Lets code our output as two classes. The hidden layer could be of **any size**. One need to execute a handful of iterations to arrive at right size of hidden layer. For purpose of today's discussions, size of hidden layer is taken as shown below.\n",
    "<img src='../../images/dnn_nb_s05_fig1.png' width = '500' alt = 'Session 5 Figure 1'/>"
   ]
  },
  {
   "cell_type": "markdown",
   "metadata": {},
   "source": [
    "## Prepare Model:"
   ]
  },
  {
   "cell_type": "code",
   "execution_count": 206,
   "metadata": {},
   "outputs": [
    {
     "name": "stdout",
     "output_type": "stream",
     "text": [
      "Model: \"model_6\"\n",
      "_________________________________________________________________\n",
      " Layer (type)                Output Shape              Param #   \n",
      "=================================================================\n",
      " input_7 (InputLayer)        [(None, 34)]              0         \n",
      "                                                                 \n",
      " dense_18 (Dense)            (None, 18)                630       \n",
      "                                                                 \n",
      " dense_19 (Dense)            (None, 9)                 171       \n",
      "                                                                 \n",
      " dense_20 (Dense)            (None, 2)                 20        \n",
      "                                                                 \n",
      "=================================================================\n",
      "Total params: 821\n",
      "Trainable params: 821\n",
      "Non-trainable params: 0\n",
      "_________________________________________________________________\n"
     ]
    }
   ],
   "source": [
    "knl_reg = tf.keras.regularizers.L2(l2 = 0.001)\n",
    "\n",
    "dor1 = 0.05\n",
    "\n",
    "'''model = tf.keras.Sequential([\n",
    "    \n",
    "    tf.keras.layers.Dense(18, #activation='swish',\n",
    "                          kernel_regularizer = knl_reg ),\n",
    "    \n",
    "    tf.keras.layers.BatchNormalization(),\n",
    "    \n",
    "    #Put Activation Layer here\n",
    "    tf.keras.layers.Activation('relu'),\n",
    "    \n",
    "    tf.keras.layers.Dropout(rate=dor1, seed=RANDOM_STATE),\n",
    "    \n",
    "    tf.keras.layers.Dense(4)\n",
    "\n",
    "])'''\n",
    "\n",
    "input_layer = tf.keras.Input(shape=(34,))\n",
    "\n",
    "x = tf.keras.layers.Dense(18, activation='swish',\n",
    "                          kernel_regularizer = knl_reg ) (input_layer)\n",
    "\n",
    "x = tf.keras.layers.Dense(9, activation='swish',\n",
    "                          kernel_regularizer = knl_reg ) (x)\n",
    "\n",
    "output_layer = tf.keras.layers.Dense(2) (x)\n",
    "\n",
    "model = tf.keras.Model(inputs= input_layer, outputs = output_layer)\n",
    "\n",
    "model.summary()"
   ]
  },
  {
   "cell_type": "code",
   "execution_count": 207,
   "metadata": {},
   "outputs": [],
   "source": [
    "loss_function = tf.losses.CategoricalCrossentropy(from_logits=True)"
   ]
  },
  {
   "cell_type": "code",
   "execution_count": 208,
   "metadata": {},
   "outputs": [
    {
     "data": {
      "text/plain": [
       "(1, 34)"
      ]
     },
     "execution_count": 208,
     "metadata": {},
     "output_type": "execute_result"
    }
   ],
   "source": [
    "X_train[:1].shape"
   ]
  },
  {
   "cell_type": "code",
   "execution_count": 209,
   "metadata": {},
   "outputs": [
    {
     "data": {
      "text/plain": [
       "<tf.Tensor: shape=(1, 2), dtype=float32, numpy=array([[ 0.2037918 , -0.06132164]], dtype=float32)>"
      ]
     },
     "execution_count": 209,
     "metadata": {},
     "output_type": "execute_result"
    }
   ],
   "source": [
    "predict = model(X_train[:1])\n",
    "predict"
   ]
  },
  {
   "cell_type": "code",
   "execution_count": 210,
   "metadata": {},
   "outputs": [
    {
     "data": {
      "text/plain": [
       "0.14247015"
      ]
     },
     "execution_count": 210,
     "metadata": {},
     "output_type": "execute_result"
    }
   ],
   "source": [
    "predict.numpy().sum()"
   ]
  },
  {
   "cell_type": "code",
   "execution_count": 211,
   "metadata": {},
   "outputs": [
    {
     "data": {
      "text/plain": [
       "1.0"
      ]
     },
     "execution_count": 211,
     "metadata": {},
     "output_type": "execute_result"
    }
   ],
   "source": [
    "tf.nn.softmax(predict).numpy().sum()"
   ]
  },
  {
   "cell_type": "code",
   "execution_count": 212,
   "metadata": {
    "colab": {
     "base_uri": "https://localhost:8080/",
     "height": 613
    },
    "id": "oa8WtTI202pn",
    "outputId": "3f0ca548-7715-47c7-b4fd-fac7924bc060"
   },
   "outputs": [],
   "source": [
    "model.compile(optimizer='adam', \n",
    "              loss=loss_function,\n",
    "              metrics=['accuracy'])"
   ]
  },
  {
   "cell_type": "code",
   "execution_count": 213,
   "metadata": {},
   "outputs": [
    {
     "name": "stdout",
     "output_type": "stream",
     "text": [
      "Epoch 1/101\n",
      "9/9 - 1s - loss: 0.6662 - accuracy: 0.5071 - val_loss: 0.6676 - val_accuracy: 0.6197 - 1s/epoch - 153ms/step\n",
      "Epoch 2/101\n",
      "9/9 - 0s - loss: 0.6134 - accuracy: 0.7000 - val_loss: 0.6268 - val_accuracy: 0.7606 - 230ms/epoch - 26ms/step\n",
      "Epoch 3/101\n",
      "9/9 - 0s - loss: 0.5721 - accuracy: 0.8000 - val_loss: 0.5901 - val_accuracy: 0.8028 - 152ms/epoch - 17ms/step\n",
      "Epoch 4/101\n",
      "9/9 - 0s - loss: 0.5355 - accuracy: 0.8286 - val_loss: 0.5553 - val_accuracy: 0.8028 - 141ms/epoch - 16ms/step\n",
      "Epoch 5/101\n",
      "9/9 - 0s - loss: 0.5044 - accuracy: 0.8500 - val_loss: 0.5228 - val_accuracy: 0.8310 - 121ms/epoch - 13ms/step\n",
      "Epoch 6/101\n",
      "9/9 - 0s - loss: 0.4751 - accuracy: 0.8571 - val_loss: 0.4926 - val_accuracy: 0.8592 - 165ms/epoch - 18ms/step\n",
      "Epoch 7/101\n",
      "9/9 - 0s - loss: 0.4510 - accuracy: 0.8679 - val_loss: 0.4615 - val_accuracy: 0.8592 - 160ms/epoch - 18ms/step\n",
      "Epoch 8/101\n",
      "9/9 - 0s - loss: 0.4275 - accuracy: 0.8714 - val_loss: 0.4342 - val_accuracy: 0.8732 - 124ms/epoch - 14ms/step\n",
      "Epoch 9/101\n",
      "9/9 - 0s - loss: 0.4069 - accuracy: 0.8714 - val_loss: 0.4081 - val_accuracy: 0.9155 - 110ms/epoch - 12ms/step\n",
      "Epoch 10/101\n",
      "9/9 - 0s - loss: 0.3867 - accuracy: 0.8714 - val_loss: 0.3866 - val_accuracy: 0.9155 - 103ms/epoch - 11ms/step\n",
      "Epoch 11/101\n",
      "9/9 - 0s - loss: 0.3690 - accuracy: 0.8821 - val_loss: 0.3661 - val_accuracy: 0.9155 - 124ms/epoch - 14ms/step\n",
      "Epoch 12/101\n",
      "9/9 - 0s - loss: 0.3520 - accuracy: 0.8857 - val_loss: 0.3480 - val_accuracy: 0.9155 - 93ms/epoch - 10ms/step\n",
      "Epoch 13/101\n",
      "9/9 - 0s - loss: 0.3368 - accuracy: 0.8857 - val_loss: 0.3340 - val_accuracy: 0.9155 - 105ms/epoch - 12ms/step\n",
      "Epoch 14/101\n",
      "9/9 - 0s - loss: 0.3213 - accuracy: 0.9036 - val_loss: 0.3196 - val_accuracy: 0.9155 - 88ms/epoch - 10ms/step\n",
      "Epoch 15/101\n",
      "9/9 - 0s - loss: 0.3078 - accuracy: 0.9036 - val_loss: 0.3072 - val_accuracy: 0.9296 - 124ms/epoch - 14ms/step\n",
      "Epoch 16/101\n",
      "9/9 - 0s - loss: 0.2957 - accuracy: 0.9071 - val_loss: 0.2961 - val_accuracy: 0.9296 - 122ms/epoch - 14ms/step\n",
      "Epoch 17/101\n",
      "9/9 - 0s - loss: 0.2829 - accuracy: 0.9071 - val_loss: 0.2863 - val_accuracy: 0.9296 - 107ms/epoch - 12ms/step\n",
      "Epoch 18/101\n",
      "9/9 - 0s - loss: 0.2720 - accuracy: 0.9143 - val_loss: 0.2776 - val_accuracy: 0.9296 - 102ms/epoch - 11ms/step\n",
      "Epoch 19/101\n",
      "9/9 - 0s - loss: 0.2621 - accuracy: 0.9214 - val_loss: 0.2690 - val_accuracy: 0.9296 - 128ms/epoch - 14ms/step\n",
      "Epoch 20/101\n",
      "9/9 - 0s - loss: 0.2530 - accuracy: 0.9214 - val_loss: 0.2623 - val_accuracy: 0.9296 - 126ms/epoch - 14ms/step\n",
      "Epoch 21/101\n",
      "9/9 - 0s - loss: 0.2442 - accuracy: 0.9250 - val_loss: 0.2558 - val_accuracy: 0.9296 - 122ms/epoch - 14ms/step\n",
      "Epoch 22/101\n",
      "9/9 - 0s - loss: 0.2365 - accuracy: 0.9250 - val_loss: 0.2499 - val_accuracy: 0.9296 - 150ms/epoch - 17ms/step\n",
      "Epoch 23/101\n",
      "9/9 - 0s - loss: 0.2286 - accuracy: 0.9286 - val_loss: 0.2445 - val_accuracy: 0.9296 - 101ms/epoch - 11ms/step\n",
      "Epoch 24/101\n",
      "9/9 - 0s - loss: 0.2215 - accuracy: 0.9286 - val_loss: 0.2392 - val_accuracy: 0.9155 - 122ms/epoch - 14ms/step\n",
      "Epoch 25/101\n",
      "9/9 - 0s - loss: 0.2150 - accuracy: 0.9321 - val_loss: 0.2348 - val_accuracy: 0.9296 - 103ms/epoch - 11ms/step\n",
      "Epoch 26/101\n",
      "9/9 - 0s - loss: 0.2088 - accuracy: 0.9393 - val_loss: 0.2297 - val_accuracy: 0.9296 - 137ms/epoch - 15ms/step\n",
      "Epoch 27/101\n",
      "9/9 - 0s - loss: 0.2026 - accuracy: 0.9393 - val_loss: 0.2252 - val_accuracy: 0.9296 - 133ms/epoch - 15ms/step\n",
      "Epoch 28/101\n",
      "9/9 - 0s - loss: 0.1971 - accuracy: 0.9429 - val_loss: 0.2220 - val_accuracy: 0.9296 - 127ms/epoch - 14ms/step\n",
      "Epoch 29/101\n",
      "9/9 - 0s - loss: 0.1913 - accuracy: 0.9464 - val_loss: 0.2189 - val_accuracy: 0.9296 - 131ms/epoch - 15ms/step\n",
      "Epoch 30/101\n",
      "9/9 - 0s - loss: 0.1863 - accuracy: 0.9500 - val_loss: 0.2144 - val_accuracy: 0.9296 - 112ms/epoch - 12ms/step\n",
      "Epoch 31/101\n",
      "9/9 - 0s - loss: 0.1824 - accuracy: 0.9500 - val_loss: 0.2106 - val_accuracy: 0.9296 - 162ms/epoch - 18ms/step\n",
      "Epoch 32/101\n",
      "9/9 - 0s - loss: 0.1766 - accuracy: 0.9536 - val_loss: 0.2083 - val_accuracy: 0.9437 - 179ms/epoch - 20ms/step\n",
      "Epoch 33/101\n",
      "9/9 - 0s - loss: 0.1722 - accuracy: 0.9643 - val_loss: 0.2065 - val_accuracy: 0.9437 - 145ms/epoch - 16ms/step\n",
      "Epoch 34/101\n",
      "9/9 - 0s - loss: 0.1681 - accuracy: 0.9643 - val_loss: 0.2052 - val_accuracy: 0.9437 - 113ms/epoch - 13ms/step\n",
      "Epoch 35/101\n",
      "9/9 - 0s - loss: 0.1641 - accuracy: 0.9643 - val_loss: 0.2042 - val_accuracy: 0.9437 - 129ms/epoch - 14ms/step\n",
      "Epoch 36/101\n",
      "9/9 - 0s - loss: 0.1604 - accuracy: 0.9750 - val_loss: 0.2016 - val_accuracy: 0.9437 - 97ms/epoch - 11ms/step\n",
      "Epoch 37/101\n",
      "9/9 - 0s - loss: 0.1569 - accuracy: 0.9750 - val_loss: 0.1999 - val_accuracy: 0.9296 - 97ms/epoch - 11ms/step\n",
      "Epoch 38/101\n",
      "9/9 - 0s - loss: 0.1534 - accuracy: 0.9750 - val_loss: 0.1967 - val_accuracy: 0.9296 - 148ms/epoch - 16ms/step\n",
      "Epoch 39/101\n",
      "9/9 - 0s - loss: 0.1504 - accuracy: 0.9750 - val_loss: 0.1952 - val_accuracy: 0.9296 - 121ms/epoch - 13ms/step\n",
      "Epoch 40/101\n",
      "9/9 - 0s - loss: 0.1474 - accuracy: 0.9750 - val_loss: 0.1968 - val_accuracy: 0.9296 - 93ms/epoch - 10ms/step\n",
      "Epoch 41/101\n",
      "9/9 - 0s - loss: 0.1447 - accuracy: 0.9750 - val_loss: 0.1954 - val_accuracy: 0.9296 - 109ms/epoch - 12ms/step\n",
      "Epoch 42/101\n",
      "9/9 - 0s - loss: 0.1416 - accuracy: 0.9750 - val_loss: 0.1966 - val_accuracy: 0.9155 - 118ms/epoch - 13ms/step\n",
      "Epoch 43/101\n",
      "9/9 - 0s - loss: 0.1395 - accuracy: 0.9750 - val_loss: 0.2012 - val_accuracy: 0.9155 - 156ms/epoch - 17ms/step\n",
      "Epoch 44/101\n",
      "9/9 - 0s - loss: 0.1369 - accuracy: 0.9750 - val_loss: 0.2028 - val_accuracy: 0.9155 - 129ms/epoch - 14ms/step\n",
      "Epoch 45/101\n",
      "9/9 - 0s - loss: 0.1351 - accuracy: 0.9750 - val_loss: 0.2034 - val_accuracy: 0.9155 - 137ms/epoch - 15ms/step\n",
      "Epoch 46/101\n",
      "9/9 - 0s - loss: 0.1323 - accuracy: 0.9750 - val_loss: 0.2062 - val_accuracy: 0.9155 - 103ms/epoch - 11ms/step\n",
      "Epoch 47/101\n",
      "9/9 - 0s - loss: 0.1302 - accuracy: 0.9750 - val_loss: 0.2082 - val_accuracy: 0.9155 - 104ms/epoch - 12ms/step\n",
      "Epoch 48/101\n",
      "9/9 - 0s - loss: 0.1282 - accuracy: 0.9750 - val_loss: 0.2087 - val_accuracy: 0.9155 - 100ms/epoch - 11ms/step\n",
      "Epoch 49/101\n",
      "9/9 - 0s - loss: 0.1264 - accuracy: 0.9750 - val_loss: 0.2102 - val_accuracy: 0.9155 - 108ms/epoch - 12ms/step\n",
      "Epoch 50/101\n",
      "9/9 - 0s - loss: 0.1246 - accuracy: 0.9750 - val_loss: 0.2138 - val_accuracy: 0.9155 - 91ms/epoch - 10ms/step\n",
      "Epoch 51/101\n",
      "9/9 - 0s - loss: 0.1227 - accuracy: 0.9750 - val_loss: 0.2203 - val_accuracy: 0.9155 - 100ms/epoch - 11ms/step\n",
      "Epoch 52/101\n",
      "9/9 - 0s - loss: 0.1210 - accuracy: 0.9786 - val_loss: 0.2235 - val_accuracy: 0.9155 - 124ms/epoch - 14ms/step\n",
      "Epoch 53/101\n",
      "9/9 - 0s - loss: 0.1194 - accuracy: 0.9786 - val_loss: 0.2267 - val_accuracy: 0.9155 - 126ms/epoch - 14ms/step\n",
      "Epoch 54/101\n",
      "9/9 - 0s - loss: 0.1177 - accuracy: 0.9786 - val_loss: 0.2303 - val_accuracy: 0.9155 - 128ms/epoch - 14ms/step\n",
      "Epoch 55/101\n",
      "9/9 - 0s - loss: 0.1163 - accuracy: 0.9786 - val_loss: 0.2348 - val_accuracy: 0.9296 - 118ms/epoch - 13ms/step\n",
      "Epoch 56/101\n",
      "9/9 - 0s - loss: 0.1148 - accuracy: 0.9786 - val_loss: 0.2382 - val_accuracy: 0.9296 - 157ms/epoch - 17ms/step\n",
      "Epoch 57/101\n",
      "9/9 - 0s - loss: 0.1129 - accuracy: 0.9786 - val_loss: 0.2424 - val_accuracy: 0.9296 - 147ms/epoch - 16ms/step\n",
      "Epoch 58/101\n",
      "9/9 - 0s - loss: 0.1117 - accuracy: 0.9821 - val_loss: 0.2483 - val_accuracy: 0.9296 - 139ms/epoch - 15ms/step\n",
      "Epoch 59/101\n",
      "9/9 - 0s - loss: 0.1102 - accuracy: 0.9821 - val_loss: 0.2518 - val_accuracy: 0.9296 - 157ms/epoch - 17ms/step\n",
      "Epoch 60/101\n",
      "9/9 - 0s - loss: 0.1089 - accuracy: 0.9821 - val_loss: 0.2577 - val_accuracy: 0.9296 - 153ms/epoch - 17ms/step\n",
      "Epoch 61/101\n",
      "9/9 - 0s - loss: 0.1074 - accuracy: 0.9821 - val_loss: 0.2623 - val_accuracy: 0.9296 - 151ms/epoch - 17ms/step\n",
      "Epoch 62/101\n",
      "9/9 - 0s - loss: 0.1060 - accuracy: 0.9821 - val_loss: 0.2658 - val_accuracy: 0.9296 - 131ms/epoch - 15ms/step\n",
      "Epoch 63/101\n",
      "9/9 - 0s - loss: 0.1047 - accuracy: 0.9821 - val_loss: 0.2715 - val_accuracy: 0.9296 - 121ms/epoch - 13ms/step\n",
      "Epoch 64/101\n",
      "9/9 - 0s - loss: 0.1040 - accuracy: 0.9821 - val_loss: 0.2765 - val_accuracy: 0.9296 - 137ms/epoch - 15ms/step\n",
      "Epoch 65/101\n",
      "9/9 - 0s - loss: 0.1026 - accuracy: 0.9857 - val_loss: 0.2795 - val_accuracy: 0.9296 - 118ms/epoch - 13ms/step\n",
      "Epoch 66/101\n",
      "9/9 - 0s - loss: 0.1013 - accuracy: 0.9857 - val_loss: 0.2865 - val_accuracy: 0.9296 - 132ms/epoch - 15ms/step\n",
      "Epoch 67/101\n",
      "9/9 - 0s - loss: 0.1001 - accuracy: 0.9857 - val_loss: 0.2923 - val_accuracy: 0.9296 - 121ms/epoch - 13ms/step\n",
      "Epoch 68/101\n",
      "9/9 - 0s - loss: 0.0990 - accuracy: 0.9857 - val_loss: 0.2936 - val_accuracy: 0.9296 - 155ms/epoch - 17ms/step\n",
      "Epoch 69/101\n",
      "9/9 - 0s - loss: 0.0982 - accuracy: 0.9857 - val_loss: 0.2994 - val_accuracy: 0.9155 - 139ms/epoch - 15ms/step\n",
      "Epoch 70/101\n",
      "9/9 - 0s - loss: 0.0969 - accuracy: 0.9857 - val_loss: 0.3057 - val_accuracy: 0.9155 - 132ms/epoch - 15ms/step\n",
      "Epoch 71/101\n",
      "9/9 - 0s - loss: 0.0961 - accuracy: 0.9857 - val_loss: 0.3125 - val_accuracy: 0.9155 - 159ms/epoch - 18ms/step\n",
      "Epoch 72/101\n",
      "9/9 - 0s - loss: 0.0951 - accuracy: 0.9857 - val_loss: 0.3171 - val_accuracy: 0.9155 - 142ms/epoch - 16ms/step\n",
      "Epoch 73/101\n",
      "9/9 - 0s - loss: 0.0939 - accuracy: 0.9857 - val_loss: 0.3198 - val_accuracy: 0.9155 - 147ms/epoch - 16ms/step\n",
      "Epoch 74/101\n",
      "9/9 - 0s - loss: 0.0931 - accuracy: 0.9857 - val_loss: 0.3231 - val_accuracy: 0.9155 - 122ms/epoch - 14ms/step\n",
      "Epoch 75/101\n",
      "9/9 - 0s - loss: 0.0921 - accuracy: 0.9857 - val_loss: 0.3277 - val_accuracy: 0.9155 - 143ms/epoch - 16ms/step\n",
      "Epoch 76/101\n",
      "9/9 - 0s - loss: 0.0914 - accuracy: 0.9857 - val_loss: 0.3344 - val_accuracy: 0.9155 - 137ms/epoch - 15ms/step\n",
      "Epoch 77/101\n",
      "9/9 - 0s - loss: 0.0906 - accuracy: 0.9857 - val_loss: 0.3414 - val_accuracy: 0.9155 - 96ms/epoch - 11ms/step\n",
      "Epoch 78/101\n",
      "9/9 - 0s - loss: 0.0900 - accuracy: 0.9857 - val_loss: 0.3463 - val_accuracy: 0.9155 - 107ms/epoch - 12ms/step\n",
      "Epoch 79/101\n",
      "9/9 - 0s - loss: 0.0892 - accuracy: 0.9857 - val_loss: 0.3517 - val_accuracy: 0.9155 - 115ms/epoch - 13ms/step\n",
      "Epoch 80/101\n",
      "9/9 - 0s - loss: 0.0884 - accuracy: 0.9857 - val_loss: 0.3521 - val_accuracy: 0.9155 - 143ms/epoch - 16ms/step\n",
      "Epoch 81/101\n",
      "9/9 - 0s - loss: 0.0876 - accuracy: 0.9857 - val_loss: 0.3601 - val_accuracy: 0.9155 - 106ms/epoch - 12ms/step\n",
      "Epoch 82/101\n",
      "9/9 - 0s - loss: 0.0865 - accuracy: 0.9857 - val_loss: 0.3631 - val_accuracy: 0.9155 - 139ms/epoch - 15ms/step\n",
      "Epoch 83/101\n",
      "9/9 - 0s - loss: 0.0864 - accuracy: 0.9857 - val_loss: 0.3676 - val_accuracy: 0.9155 - 123ms/epoch - 14ms/step\n",
      "Epoch 84/101\n",
      "9/9 - 0s - loss: 0.0852 - accuracy: 0.9857 - val_loss: 0.3715 - val_accuracy: 0.9155 - 120ms/epoch - 13ms/step\n",
      "Epoch 85/101\n",
      "9/9 - 0s - loss: 0.0846 - accuracy: 0.9857 - val_loss: 0.3756 - val_accuracy: 0.9155 - 149ms/epoch - 17ms/step\n",
      "Epoch 86/101\n",
      "9/9 - 0s - loss: 0.0838 - accuracy: 0.9857 - val_loss: 0.3818 - val_accuracy: 0.9155 - 130ms/epoch - 14ms/step\n",
      "Epoch 87/101\n",
      "9/9 - 0s - loss: 0.0833 - accuracy: 0.9857 - val_loss: 0.3885 - val_accuracy: 0.9155 - 108ms/epoch - 12ms/step\n",
      "Epoch 88/101\n",
      "9/9 - 0s - loss: 0.0826 - accuracy: 0.9893 - val_loss: 0.3900 - val_accuracy: 0.9155 - 145ms/epoch - 16ms/step\n",
      "Epoch 89/101\n",
      "9/9 - 0s - loss: 0.0818 - accuracy: 0.9893 - val_loss: 0.3953 - val_accuracy: 0.9155 - 85ms/epoch - 9ms/step\n",
      "Epoch 90/101\n",
      "9/9 - 0s - loss: 0.0812 - accuracy: 0.9893 - val_loss: 0.3990 - val_accuracy: 0.9155 - 89ms/epoch - 10ms/step\n",
      "Epoch 91/101\n",
      "9/9 - 0s - loss: 0.0807 - accuracy: 0.9893 - val_loss: 0.4057 - val_accuracy: 0.9155 - 132ms/epoch - 15ms/step\n",
      "Epoch 92/101\n",
      "9/9 - 0s - loss: 0.0803 - accuracy: 0.9893 - val_loss: 0.4103 - val_accuracy: 0.9155 - 134ms/epoch - 15ms/step\n",
      "Epoch 93/101\n",
      "9/9 - 0s - loss: 0.0795 - accuracy: 0.9893 - val_loss: 0.4149 - val_accuracy: 0.9155 - 131ms/epoch - 15ms/step\n",
      "Epoch 94/101\n",
      "9/9 - 0s - loss: 0.0793 - accuracy: 0.9893 - val_loss: 0.4193 - val_accuracy: 0.9155 - 116ms/epoch - 13ms/step\n",
      "Epoch 95/101\n",
      "9/9 - 0s - loss: 0.0784 - accuracy: 0.9893 - val_loss: 0.4240 - val_accuracy: 0.9155 - 101ms/epoch - 11ms/step\n",
      "Epoch 96/101\n",
      "9/9 - 0s - loss: 0.0780 - accuracy: 0.9893 - val_loss: 0.4274 - val_accuracy: 0.9155 - 118ms/epoch - 13ms/step\n",
      "Epoch 97/101\n",
      "9/9 - 0s - loss: 0.0777 - accuracy: 0.9893 - val_loss: 0.4318 - val_accuracy: 0.9155 - 147ms/epoch - 16ms/step\n",
      "Epoch 98/101\n",
      "9/9 - 0s - loss: 0.0774 - accuracy: 0.9929 - val_loss: 0.4362 - val_accuracy: 0.9296 - 119ms/epoch - 13ms/step\n",
      "Epoch 99/101\n",
      "9/9 - 0s - loss: 0.0766 - accuracy: 0.9929 - val_loss: 0.4410 - val_accuracy: 0.9155 - 154ms/epoch - 17ms/step\n",
      "Epoch 100/101\n",
      "9/9 - 0s - loss: 0.0761 - accuracy: 0.9929 - val_loss: 0.4438 - val_accuracy: 0.9155 - 110ms/epoch - 12ms/step\n",
      "Epoch 101/101\n",
      "9/9 - 0s - loss: 0.0757 - accuracy: 0.9929 - val_loss: 0.4483 - val_accuracy: 0.9155 - 129ms/epoch - 14ms/step\n"
     ]
    }
   ],
   "source": [
    "history = model.fit(X_train, y_train, \n",
    "                    validation_data=[X_test, y_test],\n",
    "                    epochs=EPOCHS,\n",
    "                    verbose=2,\n",
    "                    batch_size=BATCH_SIZE\n",
    "                    )"
   ]
  },
  {
   "cell_type": "code",
   "execution_count": 214,
   "metadata": {},
   "outputs": [],
   "source": [
    "loss_df = pd.DataFrame(history.history)"
   ]
  },
  {
   "cell_type": "code",
   "execution_count": 215,
   "metadata": {},
   "outputs": [
    {
     "data": {
      "image/png": "[encoded data removed]",
      "text/plain": [
       "<Figure size 1500x800 with 1 Axes>"
      ]
     },
     "metadata": {},
     "output_type": "display_data"
    }
   ],
   "source": [
    "loss_df.plot(y = ['loss', 'val_loss']);"
   ]
  },
  {
   "cell_type": "code",
   "execution_count": 216,
   "metadata": {},
   "outputs": [
    {
     "data": {
      "image/png": "[encoded data removed]",
      "text/plain": [
       "<Figure size 1500x800 with 1 Axes>"
      ]
     },
     "metadata": {},
     "output_type": "display_data"
    }
   ],
   "source": [
    "loss_df.plot(y = ['accuracy', 'val_accuracy']);"
   ]
  },
  {
   "cell_type": "code",
   "execution_count": 217,
   "metadata": {},
   "outputs": [
    {
     "name": "stdout",
     "output_type": "stream",
     "text": [
      "5/9 [===============>..............] - ETA: 0s - loss: 0.0864 - accuracy: 0.9937"
     ]
    },
    {
     "name": "stdout",
     "output_type": "stream",
     "text": [
      "9/9 [==============================] - 0s 14ms/step - loss: 0.0751 - accuracy: 0.9929\n"
     ]
    },
    {
     "data": {
      "text/plain": [
       "[0.07507888972759247, 0.9928571581840515]"
      ]
     },
     "execution_count": 217,
     "metadata": {},
     "output_type": "execute_result"
    }
   ],
   "source": [
    "model.evaluate(X_train, y_train)"
   ]
  },
  {
   "cell_type": "code",
   "execution_count": 218,
   "metadata": {},
   "outputs": [
    {
     "name": "stdout",
     "output_type": "stream",
     "text": [
      "3/3 [==============================] - 0s 10ms/step - loss: 0.4483 - accuracy: 0.9155\n"
     ]
    },
    {
     "data": {
      "text/plain": [
       "[0.4482569098472595, 0.9154929518699646]"
      ]
     },
     "execution_count": 218,
     "metadata": {},
     "output_type": "execute_result"
    }
   ],
   "source": [
    "model.evaluate(X_test, y_test)"
   ]
  },
  {
   "cell_type": "code",
   "execution_count": 219,
   "metadata": {},
   "outputs": [
    {
     "name": "stdout",
     "output_type": "stream",
     "text": [
      "1/9 [==>...........................] - ETA: 0s"
     ]
    },
    {
     "name": "stdout",
     "output_type": "stream",
     "text": [
      "9/9 [==============================] - 0s 16ms/step\n"
     ]
    }
   ],
   "source": [
    "y_pred = model.predict(X_train)"
   ]
  },
  {
   "cell_type": "code",
   "execution_count": 220,
   "metadata": {},
   "outputs": [
    {
     "data": {
      "text/plain": [
       "(280,)"
      ]
     },
     "execution_count": 220,
     "metadata": {},
     "output_type": "execute_result"
    }
   ],
   "source": [
    "np.argmax(y_pred, axis = 1).shape"
   ]
  },
  {
   "cell_type": "code",
   "execution_count": 221,
   "metadata": {},
   "outputs": [
    {
     "data": {
      "text/plain": [
       "(280, 2)"
      ]
     },
     "execution_count": 221,
     "metadata": {},
     "output_type": "execute_result"
    }
   ],
   "source": [
    "y_train.shape"
   ]
  },
  {
   "cell_type": "code",
   "execution_count": 222,
   "metadata": {},
   "outputs": [
    {
     "data": {
      "text/plain": [
       "0.9928571428571429"
      ]
     },
     "execution_count": 222,
     "metadata": {},
     "output_type": "execute_result"
    }
   ],
   "source": [
    "accuracy_score (np.argmax(y_pred, axis = 1), np.argmax(y_train, axis = 1))"
   ]
  },
  {
   "cell_type": "code",
   "execution_count": 223,
   "metadata": {},
   "outputs": [
    {
     "name": "stdout",
     "output_type": "stream",
     "text": [
      "3/3 [==============================] - 0s 18ms/step\n"
     ]
    },
    {
     "data": {
      "text/plain": [
       "0.9154929577464789"
      ]
     },
     "execution_count": 223,
     "metadata": {},
     "output_type": "execute_result"
    }
   ],
   "source": [
    "y_pred = model.predict(X_test)\n",
    "accuracy_score (np.argmax(y_pred, axis = 1), np.argmax(y_test, axis = 1))"
   ]
  },
  {
   "cell_type": "code",
   "execution_count": 224,
   "metadata": {},
   "outputs": [
    {
     "name": "stdout",
     "output_type": "stream",
     "text": [
      "Model: \"model_6\"\n",
      "_________________________________________________________________\n",
      " Layer (type)                Output Shape              Param #   \n",
      "=================================================================\n",
      " input_7 (InputLayer)        [(None, 34)]              0         \n",
      "                                                                 \n",
      " dense_18 (Dense)            (None, 18)                630       \n",
      "                                                                 \n",
      " dense_19 (Dense)            (None, 9)                 171       \n",
      "                                                                 \n",
      " dense_20 (Dense)            (None, 2)                 20        \n",
      "                                                                 \n",
      "=================================================================\n",
      "Total params: 821\n",
      "Trainable params: 821\n",
      "Non-trainable params: 0\n",
      "_________________________________________________________________\n"
     ]
    }
   ],
   "source": [
    "model.summary()"
   ]
  },
  {
   "cell_type": "code",
   "execution_count": 225,
   "metadata": {},
   "outputs": [
    {
     "data": {
      "image/png": "[encoded data removed]",
      "text/plain": [
       "<Figure size 1500x600 with 2 Axes>"
      ]
     },
     "metadata": {},
     "output_type": "display_data"
    }
   ],
   "source": [
    "fig, axes = plt.subplots(1,2 , figsize = (15,6))\n",
    "\n",
    "l_range = 50\n",
    "\n",
    "ax = axes[0]\n",
    "y1 = loss_df.columns[0]\n",
    "y2 = loss_df.columns[2]\n",
    "\n",
    "loss_df.plot( y = [y1, y2], ax = ax)\n",
    "\n",
    "# little beautification\n",
    "txtstr = \"Errors: \\n  Start : {:7.4f}\\n   End : {:7.4f}\".format(loss_df.iloc[0][y1],\n",
    "                                                                loss_df.iloc[-1][y2]) #text to plot\n",
    "\n",
    "# properties  matplotlib.patch.Patch \n",
    "props = dict(boxstyle='round', facecolor='aqua', alpha=0.5)\n",
    "\n",
    "# place a text box in upper left in axes coords\n",
    "\n",
    "ax.text(0.6, 0.95, txtstr, transform=ax.transAxes, fontsize=14,\n",
    "        verticalalignment='top', bbox=props)\n",
    "\n",
    "ax.set_xlabel(\"Epochs\")\n",
    "ax.set_ylabel(\"Error\")\n",
    "ax.set_title('Overall')\n",
    "ax.grid();\n",
    "\n",
    "ax = axes[1]\n",
    "y1 = loss_df.columns[1]\n",
    "y2 = loss_df.columns[3]\n",
    "loss_df[-l_range:].plot( y = [y1, y2], ax = ax)\n",
    "\n",
    "# little beautification\n",
    "txtstr = \"Errors: \\n  Start : {:7.4f}\\n   End : {:7.4f}\".format(loss_df.iloc[0][y1],\n",
    "                                                                loss_df.iloc[-1][y2]) #text to plot\n",
    "\n",
    "# place a text box in upper left in axes coords\n",
    "\n",
    "ax.text(0.6, 0.95, txtstr, transform=ax.transAxes, fontsize=14,\n",
    "        verticalalignment='top', bbox=props)\n",
    "\n",
    "ax.set_xlabel(\"Epochs\")\n",
    "ax.set_ylabel(\"Metrics\")\n",
    "ax.set_title(y1.capitalize())\n",
    "ax.grid();\n",
    "plt.tight_layout()"
   ]
  },
  {
   "cell_type": "code",
   "execution_count": 226,
   "metadata": {},
   "outputs": [
    {
     "data": {
      "text/html": [
       "<div>\n",
       "<style scoped>\n",
       "    .dataframe tbody tr th:only-of-type {\n",
       "        vertical-align: middle;\n",
       "    }\n",
       "\n",
       "    .dataframe tbody tr th {\n",
       "        vertical-align: top;\n",
       "    }\n",
       "\n",
       "    .dataframe thead th {\n",
       "        text-align: right;\n",
       "    }\n",
       "</style>\n",
       "<table border=\"1\" class=\"dataframe\">\n",
       "  <thead>\n",
       "    <tr style=\"text-align: right;\">\n",
       "      <th></th>\n",
       "      <th>loss</th>\n",
       "      <th>accuracy</th>\n",
       "      <th>val_loss</th>\n",
       "      <th>val_accuracy</th>\n",
       "    </tr>\n",
       "  </thead>\n",
       "  <tbody>\n",
       "    <tr>\n",
       "      <th>38</th>\n",
       "      <td>0.150447</td>\n",
       "      <td>0.975</td>\n",
       "      <td>0.195159</td>\n",
       "      <td>0.929577</td>\n",
       "    </tr>\n",
       "  </tbody>\n",
       "</table>\n",
       "</div>"
      ],
      "text/plain": [
       "        loss  accuracy  val_loss  val_accuracy\n",
       "38  0.150447     0.975  0.195159      0.929577"
      ]
     },
     "execution_count": 226,
     "metadata": {},
     "output_type": "execute_result"
    }
   ],
   "source": [
    "loss_df[loss_df['val_loss'] == loss_df['val_loss'].min()]"
   ]
  },
  {
   "cell_type": "code",
   "execution_count": 227,
   "metadata": {},
   "outputs": [
    {
     "data": {
      "text/plain": [
       "'.../models/ionosphere'"
      ]
     },
     "execution_count": 227,
     "metadata": {},
     "output_type": "execute_result"
    }
   ],
   "source": [
    "# Chceckpoint\n",
    "checkpointPath = os.path.join(modelDir, subDir)\n",
    "checkpointPath"
   ]
  },
  {
   "cell_type": "code",
   "execution_count": 228,
   "metadata": {},
   "outputs": [],
   "source": [
    "model_check_point = tf.keras.callbacks.ModelCheckpoint(\n",
    "    filepath = checkpointPath,\n",
    "    save_weights_only = True,\n",
    "    save_best_only = True,\n",
    "    monitor = 'val_loss',\n",
    "    verbose = 1\n",
    ")\n",
    "\n",
    "es_check_point = tf.keras.callbacks.EarlyStopping(\n",
    "    monitor='val_loss',\n",
    "    patience=PATIENCE,\n",
    "    verbose=1,\n",
    "    restore_best_weights=True,\n",
    "    start_from_epoch=0,\n",
    ")\n"
   ]
  },
  {
   "cell_type": "code",
   "execution_count": 229,
   "metadata": {},
   "outputs": [
    {
     "name": "stdout",
     "output_type": "stream",
     "text": [
      "Epoch 1/101\n",
      "\n",
      "Epoch 1: val_loss improved from inf to 0.45270, saving model to .../models/ionosphere\n",
      "9/9 - 0s - loss: 0.0751 - accuracy: 0.9929 - val_loss: 0.4527 - val_accuracy: 0.9155 - 305ms/epoch - 34ms/step\n",
      "Epoch 2/101\n",
      "\n",
      "Epoch 2: val_loss did not improve from 0.45270\n",
      "9/9 - 0s - loss: 0.0747 - accuracy: 0.9929 - val_loss: 0.4565 - val_accuracy: 0.9155 - 159ms/epoch - 18ms/step\n",
      "Epoch 3/101\n",
      "\n",
      "Epoch 3: val_loss did not improve from 0.45270\n",
      "9/9 - 0s - loss: 0.0744 - accuracy: 0.9929 - val_loss: 0.4617 - val_accuracy: 0.9155 - 140ms/epoch - 16ms/step\n",
      "Epoch 4/101\n",
      "\n",
      "Epoch 4: val_loss did not improve from 0.45270\n",
      "9/9 - 0s - loss: 0.0740 - accuracy: 0.9929 - val_loss: 0.4671 - val_accuracy: 0.9155 - 141ms/epoch - 16ms/step\n",
      "Epoch 5/101\n",
      "\n",
      "Epoch 5: val_loss did not improve from 0.45270\n",
      "9/9 - 0s - loss: 0.0738 - accuracy: 0.9929 - val_loss: 0.4707 - val_accuracy: 0.9155 - 132ms/epoch - 15ms/step\n",
      "Epoch 6/101\n",
      "\n",
      "Epoch 6: val_loss did not improve from 0.45270\n",
      "9/9 - 0s - loss: 0.0730 - accuracy: 0.9929 - val_loss: 0.4752 - val_accuracy: 0.9155 - 154ms/epoch - 17ms/step\n",
      "Epoch 7/101\n",
      "\n",
      "Epoch 7: val_loss did not improve from 0.45270\n",
      "9/9 - 0s - loss: 0.0725 - accuracy: 0.9929 - val_loss: 0.4796 - val_accuracy: 0.9296 - 176ms/epoch - 20ms/step\n",
      "Epoch 8/101\n",
      "\n",
      "Epoch 8: val_loss did not improve from 0.45270\n",
      "9/9 - 0s - loss: 0.0724 - accuracy: 0.9929 - val_loss: 0.4815 - val_accuracy: 0.9296 - 131ms/epoch - 15ms/step\n",
      "Epoch 9/101\n",
      "\n",
      "Epoch 9: val_loss did not improve from 0.45270\n",
      "9/9 - 0s - loss: 0.0720 - accuracy: 0.9929 - val_loss: 0.4856 - val_accuracy: 0.9155 - 154ms/epoch - 17ms/step\n",
      "Epoch 10/101\n",
      "\n",
      "Epoch 10: val_loss did not improve from 0.45270\n",
      "9/9 - 0s - loss: 0.0717 - accuracy: 0.9929 - val_loss: 0.4887 - val_accuracy: 0.9296 - 117ms/epoch - 13ms/step\n",
      "Epoch 11/101\n",
      "\n",
      "Epoch 11: val_loss did not improve from 0.45270\n",
      "Restoring model weights from the end of the best epoch: 1.\n",
      "9/9 - 0s - loss: 0.0712 - accuracy: 0.9929 - val_loss: 0.4946 - val_accuracy: 0.9155 - 132ms/epoch - 15ms/step\n",
      "Epoch 11: early stopping\n"
     ]
    }
   ],
   "source": [
    "history = model.fit(X_train, y_train, \n",
    "                    validation_data=[X_test, y_test],\n",
    "                    epochs=EPOCHS,\n",
    "                    verbose=2,\n",
    "                    batch_size=BATCH_SIZE,\n",
    "                    callbacks=[model_check_point, es_check_point ]\n",
    "                    )"
   ]
  },
  {
   "cell_type": "code",
   "execution_count": 230,
   "metadata": {},
   "outputs": [
    {
     "name": "stderr",
     "output_type": "stream",
     "text": [
      "WARNING:absl:Found untraced functions such as _update_step_xla while saving (showing 1 of 1). These functions will not be directly callable after loading.\n"
     ]
    },
    {
     "name": "stdout",
     "output_type": "stream",
     "text": [
      "INFO:tensorflow:Assets written to: .../models/ionosphere/vanila/assets\n"
     ]
    },
    {
     "name": "stderr",
     "output_type": "stream",
     "text": [
      "INFO:tensorflow:Assets written to: .../models/ionosphere/vanila/assets\n"
     ]
    }
   ],
   "source": [
    "savePath = os.path.join(modelDir, subDir, 'vanila')\n",
    "tf.keras.models.save_model(model, savePath)"
   ]
  },
  {
   "cell_type": "code",
   "execution_count": 231,
   "metadata": {},
   "outputs": [],
   "source": [
    "del model"
   ]
  },
  {
   "cell_type": "code",
   "execution_count": 232,
   "metadata": {},
   "outputs": [
    {
     "ename": "NameError",
     "evalue": "name 'model' is not defined",
     "output_type": "error",
     "traceback": [
      "\u001b[0;31m---------------------------------------------------------------------------\u001b[0m",
      "\u001b[0;31mNameError\u001b[0m                                 Traceback (most recent call last)",
      "\u001b[1;32m/home/dai/Documents/DNN/Assignments/Group Assignment/A07_tf_group_assignment_ionosphere.ipynb Cell 49\u001b[0m line \u001b[0;36m1\n\u001b[0;32m----> <a href='vscode-notebook-cell:/home/dai/Documents/DNN/Assignments/Group%20Assignment/A07_tf_group_assignment_ionosphere.ipynb#Y105sZmlsZQ%3D%3D?line=0'>1</a>\u001b[0m model\u001b[39m.\u001b[39msummary()\n",
      "\u001b[0;31mNameError\u001b[0m: name 'model' is not defined"
     ]
    }
   ],
   "source": [
    "model.summary()"
   ]
  },
  {
   "cell_type": "code",
   "execution_count": null,
   "metadata": {},
   "outputs": [
    {
     "name": "stdout",
     "output_type": "stream",
     "text": [
      "Model: \"model\"\n",
      "_________________________________________________________________\n",
      " Layer (type)                Output Shape              Param #   \n",
      "=================================================================\n",
      " input_1 (InputLayer)        [(None, 33)]              0         \n",
      "                                                                 \n",
      " dense (Dense)               (None, 18)                612       \n",
      "                                                                 \n",
      " dense_1 (Dense)             (None, 9)                 171       \n",
      "                                                                 \n",
      " dense_2 (Dense)             (None, 4)                 40        \n",
      "                                                                 \n",
      "=================================================================\n",
      "Total params: 823\n",
      "Trainable params: 823\n",
      "Non-trainable params: 0\n",
      "_________________________________________________________________\n"
     ]
    }
   ],
   "source": [
    "model1 = tf.keras.models.load_model(savePath)\n",
    "model1.summary()"
   ]
  },
  {
   "cell_type": "code",
   "execution_count": null,
   "metadata": {},
   "outputs": [
    {
     "name": "stdout",
     "output_type": "stream",
     "text": [
      "Model: \"model_1\"\n",
      "_________________________________________________________________\n",
      " Layer (type)                Output Shape              Param #   \n",
      "=================================================================\n",
      " input_2 (InputLayer)        [(None, 33)]              0         \n",
      "                                                                 \n",
      " dense_3 (Dense)             (None, 18)                612       \n",
      "                                                                 \n",
      " dense_4 (Dense)             (None, 9)                 171       \n",
      "                                                                 \n",
      " dense_5 (Dense)             (None, 4)                 40        \n",
      "                                                                 \n",
      "=================================================================\n",
      "Total params: 823\n",
      "Trainable params: 823\n",
      "Non-trainable params: 0\n",
      "_________________________________________________________________\n"
     ]
    }
   ],
   "source": [
    "input_layer = tf.keras.Input(shape=(33,))\n",
    "\n",
    "x = tf.keras.layers.Dense(18, activation='swish',\n",
    "                          kernel_regularizer = knl_reg ) (input_layer)\n",
    "\n",
    "x = tf.keras.layers.Dense(9, activation='swish',\n",
    "                          kernel_regularizer = knl_reg ) (x)\n",
    "\n",
    "output_layer = tf.keras.layers.Dense(4) (x)\n",
    "\n",
    "model = tf.keras.Model(inputs= input_layer, outputs = output_layer)\n",
    "\n",
    "model.summary()"
   ]
  },
  {
   "cell_type": "code",
   "execution_count": null,
   "metadata": {},
   "outputs": [
    {
     "data": {
      "text/plain": [
       "<tensorflow.python.checkpoint.checkpoint.CheckpointLoadStatus at 0x7fbb8495dfd0>"
      ]
     },
     "execution_count": 44,
     "metadata": {},
     "output_type": "execute_result"
    }
   ],
   "source": [
    "model.load_weights(checkpointPath)"
   ]
  },
  {
   "cell_type": "code",
   "execution_count": null,
   "metadata": {},
   "outputs": [
    {
     "name": "stdout",
     "output_type": "stream",
     "text": [
      "Model: \"model_1\"\n",
      "_________________________________________________________________\n",
      " Layer (type)                Output Shape              Param #   \n",
      "=================================================================\n",
      " input_2 (InputLayer)        [(None, 33)]              0         \n",
      "                                                                 \n",
      " dense_3 (Dense)             (None, 18)                612       \n",
      "                                                                 \n",
      " dense_4 (Dense)             (None, 9)                 171       \n",
      "                                                                 \n",
      " dense_5 (Dense)             (None, 4)                 40        \n",
      "                                                                 \n",
      "=================================================================\n",
      "Total params: 823\n",
      "Trainable params: 823\n",
      "Non-trainable params: 0\n",
      "_________________________________________________________________\n"
     ]
    }
   ],
   "source": [
    "model.summary()"
   ]
  },
  {
   "cell_type": "code",
   "execution_count": null,
   "metadata": {},
   "outputs": [
    {
     "name": "stdout",
     "output_type": "stream",
     "text": [
      "115/115 [==============================] - 1s 4ms/step - loss: 0.3032 - accuracy: 0.8751\n"
     ]
    },
    {
     "data": {
      "text/plain": [
       "[0.3031790852546692, 0.875102698802948]"
      ]
     },
     "execution_count": 47,
     "metadata": {},
     "output_type": "execute_result"
    }
   ],
   "source": [
    "model.compile(optimizer='adam', \n",
    "              loss=loss_function,\n",
    "              metrics=['accuracy'])\n",
    "\n",
    "model.evaluate(X_test, y_test)"
   ]
  }
 ],
 "metadata": {
  "accelerator": "GPU",
  "colab": {
   "name": "S05a_one_hidden_layer_with_tanh_wip.ipynb",
   "provenance": []
  },
  "kernelspec": {
   "display_name": "Python 3 (ipykernel)",
   "language": "python",
   "name": "python3"
  },
  "language_info": {
   "codemirror_mode": {
    "name": "ipython",
    "version": 3
   },
   "file_extension": ".py",
   "mimetype": "text/x-python",
   "name": "python",
   "nbconvert_exporter": "python",
   "pygments_lexer": "ipython3",
   "version": "3.11.5"
  }
 },
 "nbformat": 4,
 "nbformat_minor": 4
}
