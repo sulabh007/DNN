{
 "cells": [
  {
   "cell_type": "code",
   "execution_count": 839,
   "metadata": {
    "id": "kFZRpLpK02pB"
   },
   "outputs": [],
   "source": [
    "#!/usr/bin/env python\n",
    "# -*- coding: utf-8 -*-"
   ]
  },
  {
   "cell_type": "markdown",
   "metadata": {
    "id": "deSnZmVy02pF"
   },
   "source": [
    "\n",
    "\n",
    "# Deep Neural Networks\n",
    "\n",
    "## Assignment\n",
    "### Neural Network with :\n",
    "\n",
    "- **Ionosphere**\n",
    "- **binary-class**"
   ]
  },
  {
   "cell_type": "code",
   "execution_count": 840,
   "metadata": {
    "id": "rt0pfyeA02pK"
   },
   "outputs": [],
   "source": [
    "###-----------------\n",
    "### Import Libraries\n",
    "###-----------------\n",
    "\n",
    "import os\n",
    "import numpy as np\n",
    "import pandas as pd\n",
    "import matplotlib.pyplot as plt\n",
    "from sklearn import datasets\n",
    "from collections.abc import Callable\n",
    "from typing import Literal\n",
    "from sklearn.model_selection import train_test_split\n",
    "from sklearn.metrics import accuracy_score, confusion_matrix, classification_report, ConfusionMatrixDisplay\n",
    "from sklearn.preprocessing import StandardScaler\n",
    "import tensorflow as tf \n",
    "%matplotlib inline"
   ]
  },
  {
   "cell_type": "code",
   "execution_count": 841,
   "metadata": {},
   "outputs": [],
   "source": [
    "# gpus = tf.config.list_physical_devices('GPU')\n",
    "\n",
    "# try:\n",
    "#     for g in gpus:\n",
    "#         tf.config.experimental.set_memory_growth(g, True)\n",
    "#     logical_gpus = tf.config.list_logical_devices('GPU')\n",
    "#     print (len(gpus), 'Phusical GPUs', len(logical_gpus), 'Logical GPUs')\n",
    "# except:\n",
    "#     print ('invalid device')"
   ]
  },
  {
   "cell_type": "code",
   "execution_count": 842,
   "metadata": {
    "id": "__T9cczP02pL"
   },
   "outputs": [],
   "source": [
    "###----------------\n",
    "### Some parameters\n",
    "###----------------\n",
    "\n",
    "inpDir = '../../input'\n",
    "outDir = '../output'\n",
    "subDir = 'ionosphere'\n",
    "modelDir = '.../models'\n",
    "\n",
    "RANDOM_STATE = 24 # REMEMBER: to remove at the time of promotion to production\n",
    "np.random.seed(RANDOM_STATE) # Set Random Seed for reproducible  results\n",
    "\n",
    "EPOCHS = 101 # number of epochs\n",
    "ALPHA = 0.01 # learning rate\n",
    "NUM_SAMPLES = 1280 # How many samples we want to generate \n",
    "NOISE = 0.2 # Noise to be introduced in the data\n",
    "TEST_SIZE = 0.2\n",
    "BATCH_SIZE = 32\n",
    "TRAIN_SIZE = 256 # fix size of train set sot that we have batches of same size\n",
    "PATIENCE = 10\n",
    "\n",
    "# parameters for Matplotlib\n",
    "params = {'legend.fontsize': 'x-large',\n",
    "          'figure.figsize': (15, 8),\n",
    "          'axes.labelsize': 'x-large',\n",
    "          'axes.titlesize':'x-large',\n",
    "          'xtick.labelsize':'x-large',\n",
    "          'ytick.labelsize':'x-large'\n",
    "         }\n",
    "\n",
    "CMAP = 'coolwarm' # plt.cm.Spectral\n",
    "\n",
    "plt.rcParams.update(params)"
   ]
  },
  {
   "cell_type": "markdown",
   "metadata": {
    "id": "7bhVN20X02pN"
   },
   "source": [
    "## Generate Data Set\n",
    "Ionosphere Dataset"
   ]
  },
  {
   "cell_type": "code",
   "execution_count": 843,
   "metadata": {
    "id": "LXZ37P4G02pP"
   },
   "outputs": [
    {
     "data": {
      "text/html": [
       "<div>\n",
       "<style scoped>\n",
       "    .dataframe tbody tr th:only-of-type {\n",
       "        vertical-align: middle;\n",
       "    }\n",
       "\n",
       "    .dataframe tbody tr th {\n",
       "        vertical-align: top;\n",
       "    }\n",
       "\n",
       "    .dataframe thead th {\n",
       "        text-align: right;\n",
       "    }\n",
       "</style>\n",
       "<table border=\"1\" class=\"dataframe\">\n",
       "  <thead>\n",
       "    <tr style=\"text-align: right;\">\n",
       "      <th></th>\n",
       "      <th>0</th>\n",
       "      <th>1</th>\n",
       "      <th>2</th>\n",
       "      <th>3</th>\n",
       "      <th>4</th>\n",
       "      <th>5</th>\n",
       "      <th>6</th>\n",
       "      <th>7</th>\n",
       "      <th>8</th>\n",
       "      <th>9</th>\n",
       "      <th>...</th>\n",
       "      <th>25</th>\n",
       "      <th>26</th>\n",
       "      <th>27</th>\n",
       "      <th>28</th>\n",
       "      <th>29</th>\n",
       "      <th>30</th>\n",
       "      <th>31</th>\n",
       "      <th>32</th>\n",
       "      <th>33</th>\n",
       "      <th>34</th>\n",
       "    </tr>\n",
       "  </thead>\n",
       "  <tbody>\n",
       "    <tr>\n",
       "      <th>0</th>\n",
       "      <td>1</td>\n",
       "      <td>0</td>\n",
       "      <td>0.99539</td>\n",
       "      <td>-0.05889</td>\n",
       "      <td>0.85243</td>\n",
       "      <td>0.02306</td>\n",
       "      <td>0.83398</td>\n",
       "      <td>-0.37708</td>\n",
       "      <td>1.00000</td>\n",
       "      <td>0.03760</td>\n",
       "      <td>...</td>\n",
       "      <td>-0.51171</td>\n",
       "      <td>0.41078</td>\n",
       "      <td>-0.46168</td>\n",
       "      <td>0.21266</td>\n",
       "      <td>-0.34090</td>\n",
       "      <td>0.42267</td>\n",
       "      <td>-0.54487</td>\n",
       "      <td>0.18641</td>\n",
       "      <td>-0.45300</td>\n",
       "      <td>g</td>\n",
       "    </tr>\n",
       "    <tr>\n",
       "      <th>1</th>\n",
       "      <td>1</td>\n",
       "      <td>0</td>\n",
       "      <td>1.00000</td>\n",
       "      <td>-0.18829</td>\n",
       "      <td>0.93035</td>\n",
       "      <td>-0.36156</td>\n",
       "      <td>-0.10868</td>\n",
       "      <td>-0.93597</td>\n",
       "      <td>1.00000</td>\n",
       "      <td>-0.04549</td>\n",
       "      <td>...</td>\n",
       "      <td>-0.26569</td>\n",
       "      <td>-0.20468</td>\n",
       "      <td>-0.18401</td>\n",
       "      <td>-0.19040</td>\n",
       "      <td>-0.11593</td>\n",
       "      <td>-0.16626</td>\n",
       "      <td>-0.06288</td>\n",
       "      <td>-0.13738</td>\n",
       "      <td>-0.02447</td>\n",
       "      <td>b</td>\n",
       "    </tr>\n",
       "    <tr>\n",
       "      <th>2</th>\n",
       "      <td>1</td>\n",
       "      <td>0</td>\n",
       "      <td>1.00000</td>\n",
       "      <td>-0.03365</td>\n",
       "      <td>1.00000</td>\n",
       "      <td>0.00485</td>\n",
       "      <td>1.00000</td>\n",
       "      <td>-0.12062</td>\n",
       "      <td>0.88965</td>\n",
       "      <td>0.01198</td>\n",
       "      <td>...</td>\n",
       "      <td>-0.40220</td>\n",
       "      <td>0.58984</td>\n",
       "      <td>-0.22145</td>\n",
       "      <td>0.43100</td>\n",
       "      <td>-0.17365</td>\n",
       "      <td>0.60436</td>\n",
       "      <td>-0.24180</td>\n",
       "      <td>0.56045</td>\n",
       "      <td>-0.38238</td>\n",
       "      <td>g</td>\n",
       "    </tr>\n",
       "    <tr>\n",
       "      <th>3</th>\n",
       "      <td>1</td>\n",
       "      <td>0</td>\n",
       "      <td>1.00000</td>\n",
       "      <td>-0.45161</td>\n",
       "      <td>1.00000</td>\n",
       "      <td>1.00000</td>\n",
       "      <td>0.71216</td>\n",
       "      <td>-1.00000</td>\n",
       "      <td>0.00000</td>\n",
       "      <td>0.00000</td>\n",
       "      <td>...</td>\n",
       "      <td>0.90695</td>\n",
       "      <td>0.51613</td>\n",
       "      <td>1.00000</td>\n",
       "      <td>1.00000</td>\n",
       "      <td>-0.20099</td>\n",
       "      <td>0.25682</td>\n",
       "      <td>1.00000</td>\n",
       "      <td>-0.32382</td>\n",
       "      <td>1.00000</td>\n",
       "      <td>b</td>\n",
       "    </tr>\n",
       "    <tr>\n",
       "      <th>4</th>\n",
       "      <td>1</td>\n",
       "      <td>0</td>\n",
       "      <td>1.00000</td>\n",
       "      <td>-0.02401</td>\n",
       "      <td>0.94140</td>\n",
       "      <td>0.06531</td>\n",
       "      <td>0.92106</td>\n",
       "      <td>-0.23255</td>\n",
       "      <td>0.77152</td>\n",
       "      <td>-0.16399</td>\n",
       "      <td>...</td>\n",
       "      <td>-0.65158</td>\n",
       "      <td>0.13290</td>\n",
       "      <td>-0.53206</td>\n",
       "      <td>0.02431</td>\n",
       "      <td>-0.62197</td>\n",
       "      <td>-0.05707</td>\n",
       "      <td>-0.59573</td>\n",
       "      <td>-0.04608</td>\n",
       "      <td>-0.65697</td>\n",
       "      <td>g</td>\n",
       "    </tr>\n",
       "  </tbody>\n",
       "</table>\n",
       "<p>5 rows × 35 columns</p>\n",
       "</div>"
      ],
      "text/plain": [
       "   0   1        2        3        4        5        6        7        8   \\\n",
       "0   1   0  0.99539 -0.05889  0.85243  0.02306  0.83398 -0.37708  1.00000   \n",
       "1   1   0  1.00000 -0.18829  0.93035 -0.36156 -0.10868 -0.93597  1.00000   \n",
       "2   1   0  1.00000 -0.03365  1.00000  0.00485  1.00000 -0.12062  0.88965   \n",
       "3   1   0  1.00000 -0.45161  1.00000  1.00000  0.71216 -1.00000  0.00000   \n",
       "4   1   0  1.00000 -0.02401  0.94140  0.06531  0.92106 -0.23255  0.77152   \n",
       "\n",
       "        9   ...       25       26       27       28       29       30  \\\n",
       "0  0.03760  ... -0.51171  0.41078 -0.46168  0.21266 -0.34090  0.42267   \n",
       "1 -0.04549  ... -0.26569 -0.20468 -0.18401 -0.19040 -0.11593 -0.16626   \n",
       "2  0.01198  ... -0.40220  0.58984 -0.22145  0.43100 -0.17365  0.60436   \n",
       "3  0.00000  ...  0.90695  0.51613  1.00000  1.00000 -0.20099  0.25682   \n",
       "4 -0.16399  ... -0.65158  0.13290 -0.53206  0.02431 -0.62197 -0.05707   \n",
       "\n",
       "        31       32       33  34  \n",
       "0 -0.54487  0.18641 -0.45300   g  \n",
       "1 -0.06288 -0.13738 -0.02447   b  \n",
       "2 -0.24180  0.56045 -0.38238   g  \n",
       "3  1.00000 -0.32382  1.00000   b  \n",
       "4 -0.59573 -0.04608 -0.65697   g  \n",
       "\n",
       "[5 rows x 35 columns]"
      ]
     },
     "execution_count": 843,
     "metadata": {},
     "output_type": "execute_result"
    }
   ],
   "source": [
    "data_df = pd.read_csv('ionosphere.data', header=None)\n",
    "data_df.head()"
   ]
  },
  {
   "cell_type": "code",
   "execution_count": 844,
   "metadata": {
    "colab": {
     "base_uri": "https://localhost:8080/",
     "height": 596
    },
    "id": "PWMWQKQ702pQ",
    "outputId": "80ccd743-533a-4a5d-c009-9318021035a1",
    "scrolled": true
   },
   "outputs": [
    {
     "data": {
      "text/plain": [
       "(351, 35)"
      ]
     },
     "execution_count": 844,
     "metadata": {},
     "output_type": "execute_result"
    }
   ],
   "source": [
    "data_df.shape"
   ]
  },
  {
   "cell_type": "code",
   "execution_count": 845,
   "metadata": {},
   "outputs": [
    {
     "data": {
      "text/plain": [
       "0     0\n",
       "1     0\n",
       "2     0\n",
       "3     0\n",
       "4     0\n",
       "5     0\n",
       "6     0\n",
       "7     0\n",
       "8     0\n",
       "9     0\n",
       "10    0\n",
       "11    0\n",
       "12    0\n",
       "13    0\n",
       "14    0\n",
       "15    0\n",
       "16    0\n",
       "17    0\n",
       "18    0\n",
       "19    0\n",
       "20    0\n",
       "21    0\n",
       "22    0\n",
       "23    0\n",
       "24    0\n",
       "25    0\n",
       "26    0\n",
       "27    0\n",
       "28    0\n",
       "29    0\n",
       "30    0\n",
       "31    0\n",
       "32    0\n",
       "33    0\n",
       "34    0\n",
       "dtype: int64"
      ]
     },
     "execution_count": 845,
     "metadata": {},
     "output_type": "execute_result"
    }
   ],
   "source": [
    "data_df.isnull().sum()"
   ]
  },
  {
   "cell_type": "code",
   "execution_count": 846,
   "metadata": {},
   "outputs": [
    {
     "data": {
      "text/plain": [
       "Index([               0,                1,                2,                3,\n",
       "                      4,                5,                6,                7,\n",
       "                      8,                9,               10,               11,\n",
       "                     12,               13,               14,               15,\n",
       "                     16,               17,               18,               19,\n",
       "                     20,               21,               22,               23,\n",
       "                     24,               25,               26,               27,\n",
       "                     28,               29,               30,               31,\n",
       "                     32,               33, 'Classification'],\n",
       "      dtype='object')"
      ]
     },
     "execution_count": 846,
     "metadata": {},
     "output_type": "execute_result"
    }
   ],
   "source": [
    "data_df = data_df.rename(columns={34: 'Classification'})\n",
    "data_df.columns"
   ]
  },
  {
   "cell_type": "code",
   "execution_count": 847,
   "metadata": {},
   "outputs": [
    {
     "data": {
      "text/plain": [
       "0                 0\n",
       "1                 0\n",
       "2                 0\n",
       "3                 0\n",
       "4                 0\n",
       "5                 0\n",
       "6                 0\n",
       "7                 0\n",
       "8                 0\n",
       "9                 0\n",
       "10                0\n",
       "11                0\n",
       "12                0\n",
       "13                0\n",
       "14                0\n",
       "15                0\n",
       "16                0\n",
       "17                0\n",
       "18                0\n",
       "19                0\n",
       "20                0\n",
       "21                0\n",
       "22                0\n",
       "23                0\n",
       "24                0\n",
       "25                0\n",
       "26                0\n",
       "27                0\n",
       "28                0\n",
       "29                0\n",
       "30                0\n",
       "31                0\n",
       "32                0\n",
       "33                0\n",
       "Classification    0\n",
       "dtype: int64"
      ]
     },
     "execution_count": 847,
     "metadata": {},
     "output_type": "execute_result"
    }
   ],
   "source": [
    "data_df.isna().sum()"
   ]
  },
  {
   "cell_type": "code",
   "execution_count": 848,
   "metadata": {},
   "outputs": [
    {
     "data": {
      "text/html": [
       "<div>\n",
       "<style scoped>\n",
       "    .dataframe tbody tr th:only-of-type {\n",
       "        vertical-align: middle;\n",
       "    }\n",
       "\n",
       "    .dataframe tbody tr th {\n",
       "        vertical-align: top;\n",
       "    }\n",
       "\n",
       "    .dataframe thead th {\n",
       "        text-align: right;\n",
       "    }\n",
       "</style>\n",
       "<table border=\"1\" class=\"dataframe\">\n",
       "  <thead>\n",
       "    <tr style=\"text-align: right;\">\n",
       "      <th></th>\n",
       "      <th>0</th>\n",
       "      <th>1</th>\n",
       "      <th>2</th>\n",
       "      <th>3</th>\n",
       "      <th>4</th>\n",
       "      <th>5</th>\n",
       "      <th>6</th>\n",
       "      <th>7</th>\n",
       "      <th>8</th>\n",
       "      <th>9</th>\n",
       "      <th>...</th>\n",
       "      <th>25</th>\n",
       "      <th>26</th>\n",
       "      <th>27</th>\n",
       "      <th>28</th>\n",
       "      <th>29</th>\n",
       "      <th>30</th>\n",
       "      <th>31</th>\n",
       "      <th>32</th>\n",
       "      <th>33</th>\n",
       "      <th>Classification</th>\n",
       "    </tr>\n",
       "  </thead>\n",
       "  <tbody>\n",
       "    <tr>\n",
       "      <th>0</th>\n",
       "      <td>1</td>\n",
       "      <td>0</td>\n",
       "      <td>0.99539</td>\n",
       "      <td>-0.05889</td>\n",
       "      <td>0.85243</td>\n",
       "      <td>0.02306</td>\n",
       "      <td>0.83398</td>\n",
       "      <td>-0.37708</td>\n",
       "      <td>1.00000</td>\n",
       "      <td>0.03760</td>\n",
       "      <td>...</td>\n",
       "      <td>-0.51171</td>\n",
       "      <td>0.41078</td>\n",
       "      <td>-0.46168</td>\n",
       "      <td>0.21266</td>\n",
       "      <td>-0.34090</td>\n",
       "      <td>0.42267</td>\n",
       "      <td>-0.54487</td>\n",
       "      <td>0.18641</td>\n",
       "      <td>-0.45300</td>\n",
       "      <td>g</td>\n",
       "    </tr>\n",
       "    <tr>\n",
       "      <th>1</th>\n",
       "      <td>1</td>\n",
       "      <td>0</td>\n",
       "      <td>1.00000</td>\n",
       "      <td>-0.18829</td>\n",
       "      <td>0.93035</td>\n",
       "      <td>-0.36156</td>\n",
       "      <td>-0.10868</td>\n",
       "      <td>-0.93597</td>\n",
       "      <td>1.00000</td>\n",
       "      <td>-0.04549</td>\n",
       "      <td>...</td>\n",
       "      <td>-0.26569</td>\n",
       "      <td>-0.20468</td>\n",
       "      <td>-0.18401</td>\n",
       "      <td>-0.19040</td>\n",
       "      <td>-0.11593</td>\n",
       "      <td>-0.16626</td>\n",
       "      <td>-0.06288</td>\n",
       "      <td>-0.13738</td>\n",
       "      <td>-0.02447</td>\n",
       "      <td>b</td>\n",
       "    </tr>\n",
       "    <tr>\n",
       "      <th>2</th>\n",
       "      <td>1</td>\n",
       "      <td>0</td>\n",
       "      <td>1.00000</td>\n",
       "      <td>-0.03365</td>\n",
       "      <td>1.00000</td>\n",
       "      <td>0.00485</td>\n",
       "      <td>1.00000</td>\n",
       "      <td>-0.12062</td>\n",
       "      <td>0.88965</td>\n",
       "      <td>0.01198</td>\n",
       "      <td>...</td>\n",
       "      <td>-0.40220</td>\n",
       "      <td>0.58984</td>\n",
       "      <td>-0.22145</td>\n",
       "      <td>0.43100</td>\n",
       "      <td>-0.17365</td>\n",
       "      <td>0.60436</td>\n",
       "      <td>-0.24180</td>\n",
       "      <td>0.56045</td>\n",
       "      <td>-0.38238</td>\n",
       "      <td>g</td>\n",
       "    </tr>\n",
       "    <tr>\n",
       "      <th>3</th>\n",
       "      <td>1</td>\n",
       "      <td>0</td>\n",
       "      <td>1.00000</td>\n",
       "      <td>-0.45161</td>\n",
       "      <td>1.00000</td>\n",
       "      <td>1.00000</td>\n",
       "      <td>0.71216</td>\n",
       "      <td>-1.00000</td>\n",
       "      <td>0.00000</td>\n",
       "      <td>0.00000</td>\n",
       "      <td>...</td>\n",
       "      <td>0.90695</td>\n",
       "      <td>0.51613</td>\n",
       "      <td>1.00000</td>\n",
       "      <td>1.00000</td>\n",
       "      <td>-0.20099</td>\n",
       "      <td>0.25682</td>\n",
       "      <td>1.00000</td>\n",
       "      <td>-0.32382</td>\n",
       "      <td>1.00000</td>\n",
       "      <td>b</td>\n",
       "    </tr>\n",
       "    <tr>\n",
       "      <th>4</th>\n",
       "      <td>1</td>\n",
       "      <td>0</td>\n",
       "      <td>1.00000</td>\n",
       "      <td>-0.02401</td>\n",
       "      <td>0.94140</td>\n",
       "      <td>0.06531</td>\n",
       "      <td>0.92106</td>\n",
       "      <td>-0.23255</td>\n",
       "      <td>0.77152</td>\n",
       "      <td>-0.16399</td>\n",
       "      <td>...</td>\n",
       "      <td>-0.65158</td>\n",
       "      <td>0.13290</td>\n",
       "      <td>-0.53206</td>\n",
       "      <td>0.02431</td>\n",
       "      <td>-0.62197</td>\n",
       "      <td>-0.05707</td>\n",
       "      <td>-0.59573</td>\n",
       "      <td>-0.04608</td>\n",
       "      <td>-0.65697</td>\n",
       "      <td>g</td>\n",
       "    </tr>\n",
       "  </tbody>\n",
       "</table>\n",
       "<p>5 rows × 35 columns</p>\n",
       "</div>"
      ],
      "text/plain": [
       "   0  1        2        3        4        5        6        7        8  \\\n",
       "0  1  0  0.99539 -0.05889  0.85243  0.02306  0.83398 -0.37708  1.00000   \n",
       "1  1  0  1.00000 -0.18829  0.93035 -0.36156 -0.10868 -0.93597  1.00000   \n",
       "2  1  0  1.00000 -0.03365  1.00000  0.00485  1.00000 -0.12062  0.88965   \n",
       "3  1  0  1.00000 -0.45161  1.00000  1.00000  0.71216 -1.00000  0.00000   \n",
       "4  1  0  1.00000 -0.02401  0.94140  0.06531  0.92106 -0.23255  0.77152   \n",
       "\n",
       "         9  ...       25       26       27       28       29       30  \\\n",
       "0  0.03760  ... -0.51171  0.41078 -0.46168  0.21266 -0.34090  0.42267   \n",
       "1 -0.04549  ... -0.26569 -0.20468 -0.18401 -0.19040 -0.11593 -0.16626   \n",
       "2  0.01198  ... -0.40220  0.58984 -0.22145  0.43100 -0.17365  0.60436   \n",
       "3  0.00000  ...  0.90695  0.51613  1.00000  1.00000 -0.20099  0.25682   \n",
       "4 -0.16399  ... -0.65158  0.13290 -0.53206  0.02431 -0.62197 -0.05707   \n",
       "\n",
       "        31       32       33  Classification  \n",
       "0 -0.54487  0.18641 -0.45300               g  \n",
       "1 -0.06288 -0.13738 -0.02447               b  \n",
       "2 -0.24180  0.56045 -0.38238               g  \n",
       "3  1.00000 -0.32382  1.00000               b  \n",
       "4 -0.59573 -0.04608 -0.65697               g  \n",
       "\n",
       "[5 rows x 35 columns]"
      ]
     },
     "execution_count": 848,
     "metadata": {},
     "output_type": "execute_result"
    }
   ],
   "source": [
    "data_df.head()"
   ]
  },
  {
   "cell_type": "code",
   "execution_count": 849,
   "metadata": {},
   "outputs": [
    {
     "data": {
      "text/plain": [
       "array(['g', 'b'], dtype=object)"
      ]
     },
     "execution_count": 849,
     "metadata": {},
     "output_type": "execute_result"
    }
   ],
   "source": [
    "data_df['Classification'].unique()"
   ]
  },
  {
   "cell_type": "code",
   "execution_count": 850,
   "metadata": {},
   "outputs": [],
   "source": [
    "labels = { 'g' : 'Good', 'b': 'Bad'}"
   ]
  },
  {
   "cell_type": "code",
   "execution_count": 851,
   "metadata": {},
   "outputs": [
    {
     "data": {
      "text/plain": [
       "((351, 34), (351,))"
      ]
     },
     "execution_count": 851,
     "metadata": {},
     "output_type": "execute_result"
    }
   ],
   "source": [
    "features_df = data_df.drop('Classification', axis = 1) # drop label col\n",
    "\n",
    "label_df = data_df['Classification'] # labels\n",
    "\n",
    "features_df.shape, label_df.shape"
   ]
  },
  {
   "cell_type": "code",
   "execution_count": 852,
   "metadata": {},
   "outputs": [
    {
     "data": {
      "text/html": [
       "<div>\n",
       "<style scoped>\n",
       "    .dataframe tbody tr th:only-of-type {\n",
       "        vertical-align: middle;\n",
       "    }\n",
       "\n",
       "    .dataframe tbody tr th {\n",
       "        vertical-align: top;\n",
       "    }\n",
       "\n",
       "    .dataframe thead th {\n",
       "        text-align: right;\n",
       "    }\n",
       "</style>\n",
       "<table border=\"1\" class=\"dataframe\">\n",
       "  <thead>\n",
       "    <tr style=\"text-align: right;\">\n",
       "      <th></th>\n",
       "      <th>b</th>\n",
       "      <th>g</th>\n",
       "    </tr>\n",
       "  </thead>\n",
       "  <tbody>\n",
       "    <tr>\n",
       "      <th>0</th>\n",
       "      <td>False</td>\n",
       "      <td>True</td>\n",
       "    </tr>\n",
       "    <tr>\n",
       "      <th>1</th>\n",
       "      <td>True</td>\n",
       "      <td>False</td>\n",
       "    </tr>\n",
       "    <tr>\n",
       "      <th>2</th>\n",
       "      <td>False</td>\n",
       "      <td>True</td>\n",
       "    </tr>\n",
       "    <tr>\n",
       "      <th>3</th>\n",
       "      <td>True</td>\n",
       "      <td>False</td>\n",
       "    </tr>\n",
       "    <tr>\n",
       "      <th>4</th>\n",
       "      <td>False</td>\n",
       "      <td>True</td>\n",
       "    </tr>\n",
       "    <tr>\n",
       "      <th>...</th>\n",
       "      <td>...</td>\n",
       "      <td>...</td>\n",
       "    </tr>\n",
       "    <tr>\n",
       "      <th>346</th>\n",
       "      <td>False</td>\n",
       "      <td>True</td>\n",
       "    </tr>\n",
       "    <tr>\n",
       "      <th>347</th>\n",
       "      <td>False</td>\n",
       "      <td>True</td>\n",
       "    </tr>\n",
       "    <tr>\n",
       "      <th>348</th>\n",
       "      <td>False</td>\n",
       "      <td>True</td>\n",
       "    </tr>\n",
       "    <tr>\n",
       "      <th>349</th>\n",
       "      <td>False</td>\n",
       "      <td>True</td>\n",
       "    </tr>\n",
       "    <tr>\n",
       "      <th>350</th>\n",
       "      <td>False</td>\n",
       "      <td>True</td>\n",
       "    </tr>\n",
       "  </tbody>\n",
       "</table>\n",
       "<p>351 rows × 2 columns</p>\n",
       "</div>"
      ],
      "text/plain": [
       "         b      g\n",
       "0    False   True\n",
       "1     True  False\n",
       "2    False   True\n",
       "3     True  False\n",
       "4    False   True\n",
       "..     ...    ...\n",
       "346  False   True\n",
       "347  False   True\n",
       "348  False   True\n",
       "349  False   True\n",
       "350  False   True\n",
       "\n",
       "[351 rows x 2 columns]"
      ]
     },
     "execution_count": 852,
     "metadata": {},
     "output_type": "execute_result"
    }
   ],
   "source": [
    "label_df = pd.get_dummies(label_df)\n",
    "label_df"
   ]
  },
  {
   "cell_type": "code",
   "execution_count": 853,
   "metadata": {},
   "outputs": [
    {
     "data": {
      "text/html": [
       "<div>\n",
       "<style scoped>\n",
       "    .dataframe tbody tr th:only-of-type {\n",
       "        vertical-align: middle;\n",
       "    }\n",
       "\n",
       "    .dataframe tbody tr th {\n",
       "        vertical-align: top;\n",
       "    }\n",
       "\n",
       "    .dataframe thead th {\n",
       "        text-align: right;\n",
       "    }\n",
       "</style>\n",
       "<table border=\"1\" class=\"dataframe\">\n",
       "  <thead>\n",
       "    <tr style=\"text-align: right;\">\n",
       "      <th></th>\n",
       "      <th>b</th>\n",
       "      <th>g</th>\n",
       "    </tr>\n",
       "  </thead>\n",
       "  <tbody>\n",
       "    <tr>\n",
       "      <th>0</th>\n",
       "      <td>False</td>\n",
       "      <td>True</td>\n",
       "    </tr>\n",
       "    <tr>\n",
       "      <th>1</th>\n",
       "      <td>True</td>\n",
       "      <td>False</td>\n",
       "    </tr>\n",
       "    <tr>\n",
       "      <th>2</th>\n",
       "      <td>False</td>\n",
       "      <td>True</td>\n",
       "    </tr>\n",
       "    <tr>\n",
       "      <th>3</th>\n",
       "      <td>True</td>\n",
       "      <td>False</td>\n",
       "    </tr>\n",
       "    <tr>\n",
       "      <th>4</th>\n",
       "      <td>False</td>\n",
       "      <td>True</td>\n",
       "    </tr>\n",
       "  </tbody>\n",
       "</table>\n",
       "</div>"
      ],
      "text/plain": [
       "       b      g\n",
       "0  False   True\n",
       "1   True  False\n",
       "2  False   True\n",
       "3   True  False\n",
       "4  False   True"
      ]
     },
     "execution_count": 853,
     "metadata": {},
     "output_type": "execute_result"
    }
   ],
   "source": [
    "label_df.head()"
   ]
  },
  {
   "cell_type": "code",
   "execution_count": 854,
   "metadata": {},
   "outputs": [
    {
     "name": "stdout",
     "output_type": "stream",
     "text": [
      "(256, 34) (256, 2) (95, 34) (95, 2)\n"
     ]
    }
   ],
   "source": [
    "#  Split the data in training and test sets to measure performance of the model.\n",
    "X_train, X_test, y_train, y_test = train_test_split(features_df, label_df, \n",
    "                                                    stratify=label_df,\n",
    "                                                    train_size=TRAIN_SIZE, \n",
    "                                                    random_state=RANDOM_STATE )\n",
    "\n",
    "print (X_train.shape, y_train.shape, X_test.shape, y_test.shape)"
   ]
  },
  {
   "cell_type": "code",
   "execution_count": 855,
   "metadata": {},
   "outputs": [],
   "source": [
    "scaler = StandardScaler() # get the scaler\n",
    "\n",
    "X_train = scaler.fit_transform(X_train) # train\n",
    "X_test = scaler.transform(X_test) # test\n",
    "\n",
    "y_train = y_train.to_numpy() # array\n",
    "y_test = y_test.to_numpy() # convert to array"
   ]
  },
  {
   "cell_type": "code",
   "execution_count": 856,
   "metadata": {},
   "outputs": [
    {
     "data": {
      "text/plain": [
       "array([[ True, False],\n",
       "       [False,  True],\n",
       "       [False,  True],\n",
       "       [False,  True],\n",
       "       [False,  True],\n",
       "       [ True, False],\n",
       "       [False,  True],\n",
       "       [ True, False],\n",
       "       [ True, False],\n",
       "       [False,  True],\n",
       "       [False,  True],\n",
       "       [ True, False],\n",
       "       [ True, False],\n",
       "       [ True, False],\n",
       "       [ True, False],\n",
       "       [False,  True],\n",
       "       [False,  True],\n",
       "       [ True, False],\n",
       "       [ True, False],\n",
       "       [False,  True],\n",
       "       [False,  True],\n",
       "       [False,  True],\n",
       "       [False,  True],\n",
       "       [False,  True],\n",
       "       [False,  True],\n",
       "       [False,  True],\n",
       "       [ True, False],\n",
       "       [False,  True],\n",
       "       [False,  True],\n",
       "       [ True, False],\n",
       "       [False,  True],\n",
       "       [False,  True],\n",
       "       [False,  True],\n",
       "       [False,  True],\n",
       "       [False,  True],\n",
       "       [ True, False],\n",
       "       [False,  True],\n",
       "       [False,  True],\n",
       "       [False,  True],\n",
       "       [False,  True],\n",
       "       [ True, False],\n",
       "       [ True, False],\n",
       "       [ True, False],\n",
       "       [ True, False],\n",
       "       [ True, False],\n",
       "       [ True, False],\n",
       "       [ True, False],\n",
       "       [False,  True],\n",
       "       [False,  True],\n",
       "       [False,  True],\n",
       "       [ True, False],\n",
       "       [ True, False],\n",
       "       [False,  True],\n",
       "       [False,  True],\n",
       "       [ True, False],\n",
       "       [False,  True],\n",
       "       [False,  True],\n",
       "       [False,  True],\n",
       "       [ True, False],\n",
       "       [False,  True],\n",
       "       [ True, False],\n",
       "       [False,  True],\n",
       "       [False,  True],\n",
       "       [False,  True],\n",
       "       [False,  True],\n",
       "       [False,  True],\n",
       "       [False,  True],\n",
       "       [False,  True],\n",
       "       [False,  True],\n",
       "       [False,  True],\n",
       "       [ True, False],\n",
       "       [False,  True],\n",
       "       [False,  True],\n",
       "       [False,  True],\n",
       "       [False,  True],\n",
       "       [False,  True],\n",
       "       [False,  True],\n",
       "       [False,  True],\n",
       "       [ True, False],\n",
       "       [False,  True],\n",
       "       [ True, False],\n",
       "       [False,  True],\n",
       "       [False,  True],\n",
       "       [ True, False],\n",
       "       [ True, False],\n",
       "       [False,  True],\n",
       "       [False,  True],\n",
       "       [False,  True],\n",
       "       [ True, False],\n",
       "       [False,  True],\n",
       "       [ True, False],\n",
       "       [ True, False],\n",
       "       [ True, False],\n",
       "       [ True, False],\n",
       "       [ True, False],\n",
       "       [False,  True],\n",
       "       [False,  True],\n",
       "       [False,  True],\n",
       "       [ True, False],\n",
       "       [False,  True],\n",
       "       [False,  True],\n",
       "       [ True, False],\n",
       "       [ True, False],\n",
       "       [ True, False],\n",
       "       [False,  True],\n",
       "       [False,  True],\n",
       "       [ True, False],\n",
       "       [ True, False],\n",
       "       [ True, False],\n",
       "       [False,  True],\n",
       "       [False,  True],\n",
       "       [ True, False],\n",
       "       [False,  True],\n",
       "       [False,  True],\n",
       "       [ True, False],\n",
       "       [False,  True],\n",
       "       [ True, False],\n",
       "       [ True, False],\n",
       "       [ True, False],\n",
       "       [ True, False],\n",
       "       [ True, False],\n",
       "       [ True, False],\n",
       "       [False,  True],\n",
       "       [False,  True],\n",
       "       [False,  True],\n",
       "       [False,  True],\n",
       "       [False,  True],\n",
       "       [False,  True],\n",
       "       [ True, False],\n",
       "       [ True, False],\n",
       "       [False,  True],\n",
       "       [False,  True],\n",
       "       [ True, False],\n",
       "       [False,  True],\n",
       "       [False,  True],\n",
       "       [False,  True],\n",
       "       [False,  True],\n",
       "       [False,  True],\n",
       "       [False,  True],\n",
       "       [False,  True],\n",
       "       [False,  True],\n",
       "       [False,  True],\n",
       "       [ True, False],\n",
       "       [ True, False],\n",
       "       [ True, False],\n",
       "       [ True, False],\n",
       "       [False,  True],\n",
       "       [ True, False],\n",
       "       [False,  True],\n",
       "       [False,  True],\n",
       "       [ True, False],\n",
       "       [ True, False],\n",
       "       [False,  True],\n",
       "       [False,  True],\n",
       "       [False,  True],\n",
       "       [False,  True],\n",
       "       [ True, False],\n",
       "       [ True, False],\n",
       "       [False,  True],\n",
       "       [False,  True],\n",
       "       [False,  True],\n",
       "       [False,  True],\n",
       "       [False,  True],\n",
       "       [ True, False],\n",
       "       [False,  True],\n",
       "       [False,  True],\n",
       "       [False,  True],\n",
       "       [False,  True],\n",
       "       [ True, False],\n",
       "       [ True, False],\n",
       "       [False,  True],\n",
       "       [False,  True],\n",
       "       [ True, False],\n",
       "       [False,  True],\n",
       "       [ True, False],\n",
       "       [False,  True],\n",
       "       [False,  True],\n",
       "       [False,  True],\n",
       "       [ True, False],\n",
       "       [False,  True],\n",
       "       [False,  True],\n",
       "       [False,  True],\n",
       "       [False,  True],\n",
       "       [ True, False],\n",
       "       [False,  True],\n",
       "       [ True, False],\n",
       "       [False,  True],\n",
       "       [False,  True],\n",
       "       [False,  True],\n",
       "       [False,  True],\n",
       "       [False,  True],\n",
       "       [False,  True],\n",
       "       [False,  True],\n",
       "       [False,  True],\n",
       "       [False,  True],\n",
       "       [ True, False],\n",
       "       [False,  True],\n",
       "       [ True, False],\n",
       "       [False,  True],\n",
       "       [ True, False],\n",
       "       [False,  True],\n",
       "       [False,  True],\n",
       "       [ True, False],\n",
       "       [False,  True],\n",
       "       [ True, False],\n",
       "       [ True, False],\n",
       "       [False,  True],\n",
       "       [False,  True],\n",
       "       [False,  True],\n",
       "       [ True, False],\n",
       "       [False,  True],\n",
       "       [ True, False],\n",
       "       [False,  True],\n",
       "       [False,  True],\n",
       "       [False,  True],\n",
       "       [False,  True],\n",
       "       [ True, False],\n",
       "       [ True, False],\n",
       "       [ True, False],\n",
       "       [False,  True],\n",
       "       [False,  True],\n",
       "       [False,  True],\n",
       "       [ True, False],\n",
       "       [False,  True],\n",
       "       [False,  True],\n",
       "       [False,  True],\n",
       "       [False,  True],\n",
       "       [False,  True],\n",
       "       [False,  True],\n",
       "       [False,  True],\n",
       "       [ True, False],\n",
       "       [False,  True],\n",
       "       [ True, False],\n",
       "       [False,  True],\n",
       "       [False,  True],\n",
       "       [False,  True],\n",
       "       [False,  True],\n",
       "       [ True, False],\n",
       "       [False,  True],\n",
       "       [False,  True],\n",
       "       [False,  True],\n",
       "       [False,  True],\n",
       "       [False,  True],\n",
       "       [False,  True],\n",
       "       [ True, False],\n",
       "       [False,  True],\n",
       "       [ True, False],\n",
       "       [ True, False],\n",
       "       [False,  True],\n",
       "       [False,  True],\n",
       "       [ True, False],\n",
       "       [False,  True],\n",
       "       [False,  True],\n",
       "       [ True, False],\n",
       "       [ True, False],\n",
       "       [False,  True]])"
      ]
     },
     "execution_count": 856,
     "metadata": {},
     "output_type": "execute_result"
    }
   ],
   "source": [
    "y_train"
   ]
  },
  {
   "cell_type": "markdown",
   "metadata": {
    "id": "c7w9j7Yo02pX"
   },
   "source": [
    "## Neural Network\n",
    "\n",
    "Let's start with simple network. Our data has **two** features. Hence size of input layer will also be two. Lets code our output as two classes. The hidden layer could be of **any size**. One need to execute a handful of iterations to arrive at right size of hidden layer. For purpose of today's discussions, size of hidden layer is taken as shown below.\n",
    "<img src='../../images/dnn_nb_s05_fig1.png' width = '500' alt = 'Session 5 Figure 1'/>"
   ]
  },
  {
   "cell_type": "markdown",
   "metadata": {},
   "source": [
    "## Prepare Model:"
   ]
  },
  {
   "cell_type": "code",
   "execution_count": 857,
   "metadata": {},
   "outputs": [
    {
     "name": "stdout",
     "output_type": "stream",
     "text": [
      "Model: \"model_11\"\n",
      "_________________________________________________________________\n",
      " Layer (type)                Output Shape              Param #   \n",
      "=================================================================\n",
      " input_16 (InputLayer)       [(None, 34)]              0         \n",
      "                                                                 \n",
      " dense_65 (Dense)            (None, 18)                630       \n",
      "                                                                 \n",
      " dense_66 (Dense)            (None, 9)                 171       \n",
      "                                                                 \n",
      " dropout_23 (Dropout)        (None, 9)                 0         \n",
      "                                                                 \n",
      " dense_67 (Dense)            (None, 2)                 20        \n",
      "                                                                 \n",
      "=================================================================\n",
      "Total params: 821\n",
      "Trainable params: 821\n",
      "Non-trainable params: 0\n",
      "_________________________________________________________________\n"
     ]
    }
   ],
   "source": [
    "knl_reg = tf.keras.regularizers.L2(l2 = 0.001)\n",
    "\n",
    "dor1 = 0.1\n",
    "\n",
    "# model = tf.keras.Sequential([\n",
    "    \n",
    "#     tf.keras.layers.Dense(18, #activation='swish',\n",
    "#                           kernel_regularizer = knl_reg ),\n",
    "    \n",
    "#     tf.keras.layers.BatchNormalization(),\n",
    "    \n",
    "#     #Put Activation Layer here\n",
    "#     tf.keras.layers.Activation('relu'),\n",
    "    \n",
    "#     tf.keras.layers.Dropout(rate=dor1, seed=RANDOM_STATE),\n",
    "    \n",
    "#     tf.keras.layers.Dense(9, #activation='relu',\n",
    "#                           kernel_regularizer = knl_reg ),\n",
    "    \n",
    "#     tf.keras.layers.Dense(2)\n",
    "\n",
    "# ])\n",
    "\n",
    "input_layer = tf.keras.Input(shape=(34,))\n",
    "\n",
    "x = tf.keras.layers.Dense(18, activation='relu',\n",
    "                          kernel_regularizer = knl_reg ) (input_layer)\n",
    "\n",
    "\n",
    "\n",
    "x = tf.keras.layers.Dense(9, activation='relu',\n",
    "                          kernel_regularizer = knl_reg ) (x)\n",
    "\n",
    "x = tf.keras.layers.Dropout(dor1)(x)\n",
    "\n",
    "output_layer = tf.keras.layers.Dense(2) (x)\n",
    "\n",
    "model = tf.keras.Model(inputs= input_layer, outputs = output_layer)\n",
    "\n",
    "model.summary()"
   ]
  },
  {
   "cell_type": "code",
   "execution_count": 858,
   "metadata": {},
   "outputs": [],
   "source": [
    "loss_function = tf.losses.CategoricalCrossentropy(from_logits=True)"
   ]
  },
  {
   "cell_type": "code",
   "execution_count": 859,
   "metadata": {},
   "outputs": [
    {
     "data": {
      "text/plain": [
       "(1, 34)"
      ]
     },
     "execution_count": 859,
     "metadata": {},
     "output_type": "execute_result"
    }
   ],
   "source": [
    "X_train[:1].shape"
   ]
  },
  {
   "cell_type": "code",
   "execution_count": 860,
   "metadata": {},
   "outputs": [
    {
     "data": {
      "text/plain": [
       "<tf.Tensor: shape=(1, 2), dtype=float32, numpy=array([[-0.11232097,  0.07072587]], dtype=float32)>"
      ]
     },
     "execution_count": 860,
     "metadata": {},
     "output_type": "execute_result"
    }
   ],
   "source": [
    "predict = model(X_train[:1])\n",
    "predict"
   ]
  },
  {
   "cell_type": "code",
   "execution_count": 861,
   "metadata": {},
   "outputs": [
    {
     "data": {
      "text/plain": [
       "-0.04159511"
      ]
     },
     "execution_count": 861,
     "metadata": {},
     "output_type": "execute_result"
    }
   ],
   "source": [
    "predict.numpy().sum()"
   ]
  },
  {
   "cell_type": "code",
   "execution_count": 862,
   "metadata": {},
   "outputs": [
    {
     "data": {
      "text/plain": [
       "1.0"
      ]
     },
     "execution_count": 862,
     "metadata": {},
     "output_type": "execute_result"
    }
   ],
   "source": [
    "tf.nn.softmax(predict).numpy().sum()"
   ]
  },
  {
   "cell_type": "code",
   "execution_count": 863,
   "metadata": {
    "colab": {
     "base_uri": "https://localhost:8080/",
     "height": 613
    },
    "id": "oa8WtTI202pn",
    "outputId": "3f0ca548-7715-47c7-b4fd-fac7924bc060"
   },
   "outputs": [],
   "source": [
    "model.compile(optimizer='adam', \n",
    "              loss=loss_function,\n",
    "              metrics=['accuracy'])"
   ]
  },
  {
   "cell_type": "code",
   "execution_count": 864,
   "metadata": {},
   "outputs": [
    {
     "name": "stdout",
     "output_type": "stream",
     "text": [
      "Epoch 1/101\n",
      "8/8 - 1s - loss: 0.9429 - accuracy: 0.3008 - val_loss: 0.8319 - val_accuracy: 0.3053 - 1s/epoch - 161ms/step\n",
      "Epoch 2/101\n",
      "8/8 - 0s - loss: 0.8255 - accuracy: 0.3438 - val_loss: 0.7712 - val_accuracy: 0.3263 - 157ms/epoch - 20ms/step\n",
      "Epoch 3/101\n",
      "8/8 - 0s - loss: 0.7837 - accuracy: 0.3906 - val_loss: 0.7289 - val_accuracy: 0.3895 - 130ms/epoch - 16ms/step\n",
      "Epoch 4/101\n",
      "8/8 - 0s - loss: 0.7180 - accuracy: 0.4727 - val_loss: 0.6971 - val_accuracy: 0.4526 - 145ms/epoch - 18ms/step\n",
      "Epoch 5/101\n",
      "8/8 - 0s - loss: 0.6906 - accuracy: 0.5664 - val_loss: 0.6703 - val_accuracy: 0.5579 - 136ms/epoch - 17ms/step\n",
      "Epoch 6/101\n",
      "8/8 - 0s - loss: 0.6646 - accuracy: 0.6406 - val_loss: 0.6490 - val_accuracy: 0.7263 - 118ms/epoch - 15ms/step\n",
      "Epoch 7/101\n",
      "8/8 - 0s - loss: 0.6384 - accuracy: 0.7227 - val_loss: 0.6322 - val_accuracy: 0.8000 - 154ms/epoch - 19ms/step\n",
      "Epoch 8/101\n",
      "8/8 - 0s - loss: 0.6245 - accuracy: 0.8086 - val_loss: 0.6179 - val_accuracy: 0.8421 - 160ms/epoch - 20ms/step\n",
      "Epoch 9/101\n",
      "8/8 - 0s - loss: 0.6035 - accuracy: 0.8477 - val_loss: 0.6033 - val_accuracy: 0.8632 - 133ms/epoch - 17ms/step\n",
      "Epoch 10/101\n",
      "8/8 - 0s - loss: 0.5901 - accuracy: 0.8750 - val_loss: 0.5882 - val_accuracy: 0.8737 - 109ms/epoch - 14ms/step\n",
      "Epoch 11/101\n",
      "8/8 - 0s - loss: 0.5715 - accuracy: 0.8906 - val_loss: 0.5746 - val_accuracy: 0.8737 - 119ms/epoch - 15ms/step\n",
      "Epoch 12/101\n",
      "8/8 - 0s - loss: 0.5640 - accuracy: 0.8828 - val_loss: 0.5615 - val_accuracy: 0.8737 - 122ms/epoch - 15ms/step\n",
      "Epoch 13/101\n",
      "8/8 - 0s - loss: 0.5553 - accuracy: 0.8750 - val_loss: 0.5482 - val_accuracy: 0.8737 - 129ms/epoch - 16ms/step\n",
      "Epoch 14/101\n",
      "8/8 - 0s - loss: 0.5403 - accuracy: 0.8906 - val_loss: 0.5346 - val_accuracy: 0.8526 - 125ms/epoch - 16ms/step\n",
      "Epoch 15/101\n",
      "8/8 - 0s - loss: 0.5256 - accuracy: 0.8867 - val_loss: 0.5215 - val_accuracy: 0.8421 - 134ms/epoch - 17ms/step\n",
      "Epoch 16/101\n",
      "8/8 - 0s - loss: 0.5069 - accuracy: 0.8984 - val_loss: 0.5093 - val_accuracy: 0.8421 - 122ms/epoch - 15ms/step\n",
      "Epoch 17/101\n",
      "8/8 - 0s - loss: 0.4914 - accuracy: 0.9102 - val_loss: 0.4973 - val_accuracy: 0.8526 - 112ms/epoch - 14ms/step\n",
      "Epoch 18/101\n",
      "8/8 - 0s - loss: 0.4831 - accuracy: 0.9141 - val_loss: 0.4847 - val_accuracy: 0.8632 - 134ms/epoch - 17ms/step\n",
      "Epoch 19/101\n",
      "8/8 - 0s - loss: 0.4561 - accuracy: 0.9258 - val_loss: 0.4720 - val_accuracy: 0.8737 - 110ms/epoch - 14ms/step\n",
      "Epoch 20/101\n",
      "8/8 - 0s - loss: 0.4544 - accuracy: 0.9180 - val_loss: 0.4606 - val_accuracy: 0.8737 - 119ms/epoch - 15ms/step\n",
      "Epoch 21/101\n",
      "8/8 - 0s - loss: 0.4353 - accuracy: 0.9102 - val_loss: 0.4508 - val_accuracy: 0.8842 - 94ms/epoch - 12ms/step\n",
      "Epoch 22/101\n",
      "8/8 - 0s - loss: 0.4248 - accuracy: 0.9258 - val_loss: 0.4428 - val_accuracy: 0.8842 - 96ms/epoch - 12ms/step\n",
      "Epoch 23/101\n",
      "8/8 - 0s - loss: 0.4218 - accuracy: 0.9219 - val_loss: 0.4349 - val_accuracy: 0.8842 - 83ms/epoch - 10ms/step\n",
      "Epoch 24/101\n",
      "8/8 - 0s - loss: 0.4100 - accuracy: 0.9141 - val_loss: 0.4278 - val_accuracy: 0.8842 - 79ms/epoch - 10ms/step\n",
      "Epoch 25/101\n",
      "8/8 - 0s - loss: 0.3943 - accuracy: 0.9336 - val_loss: 0.4221 - val_accuracy: 0.8947 - 79ms/epoch - 10ms/step\n",
      "Epoch 26/101\n",
      "8/8 - 0s - loss: 0.3987 - accuracy: 0.9180 - val_loss: 0.4161 - val_accuracy: 0.8947 - 103ms/epoch - 13ms/step\n",
      "Epoch 27/101\n",
      "8/8 - 0s - loss: 0.3959 - accuracy: 0.9180 - val_loss: 0.4106 - val_accuracy: 0.8947 - 98ms/epoch - 12ms/step\n",
      "Epoch 28/101\n",
      "8/8 - 0s - loss: 0.3805 - accuracy: 0.9297 - val_loss: 0.4055 - val_accuracy: 0.8947 - 98ms/epoch - 12ms/step\n",
      "Epoch 29/101\n",
      "8/8 - 0s - loss: 0.3696 - accuracy: 0.9375 - val_loss: 0.4004 - val_accuracy: 0.8947 - 94ms/epoch - 12ms/step\n",
      "Epoch 30/101\n",
      "8/8 - 0s - loss: 0.3724 - accuracy: 0.9375 - val_loss: 0.3956 - val_accuracy: 0.9053 - 93ms/epoch - 12ms/step\n",
      "Epoch 31/101\n",
      "8/8 - 0s - loss: 0.3609 - accuracy: 0.9375 - val_loss: 0.3912 - val_accuracy: 0.9053 - 131ms/epoch - 16ms/step\n",
      "Epoch 32/101\n",
      "8/8 - 0s - loss: 0.3613 - accuracy: 0.9414 - val_loss: 0.3872 - val_accuracy: 0.9158 - 119ms/epoch - 15ms/step\n",
      "Epoch 33/101\n",
      "8/8 - 0s - loss: 0.3497 - accuracy: 0.9414 - val_loss: 0.3837 - val_accuracy: 0.9158 - 144ms/epoch - 18ms/step\n",
      "Epoch 34/101\n",
      "8/8 - 0s - loss: 0.3520 - accuracy: 0.9375 - val_loss: 0.3807 - val_accuracy: 0.9158 - 147ms/epoch - 18ms/step\n",
      "Epoch 35/101\n",
      "8/8 - 0s - loss: 0.3459 - accuracy: 0.9453 - val_loss: 0.3775 - val_accuracy: 0.9158 - 110ms/epoch - 14ms/step\n",
      "Epoch 36/101\n",
      "8/8 - 0s - loss: 0.3465 - accuracy: 0.9375 - val_loss: 0.3747 - val_accuracy: 0.9158 - 130ms/epoch - 16ms/step\n",
      "Epoch 37/101\n",
      "8/8 - 0s - loss: 0.3401 - accuracy: 0.9375 - val_loss: 0.3720 - val_accuracy: 0.9158 - 110ms/epoch - 14ms/step\n",
      "Epoch 38/101\n",
      "8/8 - 0s - loss: 0.3317 - accuracy: 0.9414 - val_loss: 0.3696 - val_accuracy: 0.9158 - 127ms/epoch - 16ms/step\n",
      "Epoch 39/101\n",
      "8/8 - 0s - loss: 0.3250 - accuracy: 0.9492 - val_loss: 0.3661 - val_accuracy: 0.9158 - 126ms/epoch - 16ms/step\n",
      "Epoch 40/101\n",
      "8/8 - 0s - loss: 0.3234 - accuracy: 0.9414 - val_loss: 0.3623 - val_accuracy: 0.9158 - 174ms/epoch - 22ms/step\n",
      "Epoch 41/101\n",
      "8/8 - 0s - loss: 0.3193 - accuracy: 0.9414 - val_loss: 0.3582 - val_accuracy: 0.9158 - 185ms/epoch - 23ms/step\n",
      "Epoch 42/101\n",
      "8/8 - 0s - loss: 0.3141 - accuracy: 0.9453 - val_loss: 0.3566 - val_accuracy: 0.9158 - 117ms/epoch - 15ms/step\n",
      "Epoch 43/101\n",
      "8/8 - 0s - loss: 0.3091 - accuracy: 0.9492 - val_loss: 0.3535 - val_accuracy: 0.9158 - 108ms/epoch - 14ms/step\n",
      "Epoch 44/101\n",
      "8/8 - 0s - loss: 0.3104 - accuracy: 0.9453 - val_loss: 0.3505 - val_accuracy: 0.9158 - 106ms/epoch - 13ms/step\n",
      "Epoch 45/101\n",
      "8/8 - 0s - loss: 0.3039 - accuracy: 0.9570 - val_loss: 0.3493 - val_accuracy: 0.9158 - 127ms/epoch - 16ms/step\n",
      "Epoch 46/101\n",
      "8/8 - 0s - loss: 0.2979 - accuracy: 0.9531 - val_loss: 0.3461 - val_accuracy: 0.9158 - 134ms/epoch - 17ms/step\n",
      "Epoch 47/101\n",
      "8/8 - 0s - loss: 0.3088 - accuracy: 0.9453 - val_loss: 0.3443 - val_accuracy: 0.9158 - 110ms/epoch - 14ms/step\n",
      "Epoch 48/101\n",
      "8/8 - 0s - loss: 0.2952 - accuracy: 0.9531 - val_loss: 0.3412 - val_accuracy: 0.9158 - 129ms/epoch - 16ms/step\n",
      "Epoch 49/101\n",
      "8/8 - 0s - loss: 0.2879 - accuracy: 0.9531 - val_loss: 0.3394 - val_accuracy: 0.9263 - 102ms/epoch - 13ms/step\n",
      "Epoch 50/101\n",
      "8/8 - 0s - loss: 0.2785 - accuracy: 0.9531 - val_loss: 0.3364 - val_accuracy: 0.9263 - 132ms/epoch - 17ms/step\n",
      "Epoch 51/101\n",
      "8/8 - 0s - loss: 0.2776 - accuracy: 0.9609 - val_loss: 0.3338 - val_accuracy: 0.9368 - 150ms/epoch - 19ms/step\n",
      "Epoch 52/101\n",
      "8/8 - 0s - loss: 0.2743 - accuracy: 0.9570 - val_loss: 0.3322 - val_accuracy: 0.9368 - 146ms/epoch - 18ms/step\n",
      "Epoch 53/101\n",
      "8/8 - 0s - loss: 0.2727 - accuracy: 0.9609 - val_loss: 0.3309 - val_accuracy: 0.9368 - 99ms/epoch - 12ms/step\n",
      "Epoch 54/101\n",
      "8/8 - 0s - loss: 0.2690 - accuracy: 0.9570 - val_loss: 0.3278 - val_accuracy: 0.9368 - 119ms/epoch - 15ms/step\n",
      "Epoch 55/101\n",
      "8/8 - 0s - loss: 0.2696 - accuracy: 0.9531 - val_loss: 0.3291 - val_accuracy: 0.9263 - 106ms/epoch - 13ms/step\n",
      "Epoch 56/101\n",
      "8/8 - 0s - loss: 0.2621 - accuracy: 0.9609 - val_loss: 0.3290 - val_accuracy: 0.9263 - 103ms/epoch - 13ms/step\n",
      "Epoch 57/101\n",
      "8/8 - 0s - loss: 0.2591 - accuracy: 0.9609 - val_loss: 0.3270 - val_accuracy: 0.9263 - 129ms/epoch - 16ms/step\n",
      "Epoch 58/101\n",
      "8/8 - 0s - loss: 0.2636 - accuracy: 0.9570 - val_loss: 0.3237 - val_accuracy: 0.9368 - 124ms/epoch - 15ms/step\n",
      "Epoch 59/101\n",
      "8/8 - 0s - loss: 0.2671 - accuracy: 0.9609 - val_loss: 0.3206 - val_accuracy: 0.9368 - 110ms/epoch - 14ms/step\n",
      "Epoch 60/101\n",
      "8/8 - 0s - loss: 0.2504 - accuracy: 0.9648 - val_loss: 0.3182 - val_accuracy: 0.9368 - 110ms/epoch - 14ms/step\n",
      "Epoch 61/101\n",
      "8/8 - 0s - loss: 0.2572 - accuracy: 0.9570 - val_loss: 0.3169 - val_accuracy: 0.9368 - 154ms/epoch - 19ms/step\n",
      "Epoch 62/101\n",
      "8/8 - 0s - loss: 0.2495 - accuracy: 0.9688 - val_loss: 0.3157 - val_accuracy: 0.9368 - 173ms/epoch - 22ms/step\n",
      "Epoch 63/101\n",
      "8/8 - 0s - loss: 0.2405 - accuracy: 0.9688 - val_loss: 0.3131 - val_accuracy: 0.9368 - 140ms/epoch - 18ms/step\n",
      "Epoch 64/101\n",
      "8/8 - 0s - loss: 0.2512 - accuracy: 0.9648 - val_loss: 0.3093 - val_accuracy: 0.9368 - 194ms/epoch - 24ms/step\n",
      "Epoch 65/101\n",
      "8/8 - 0s - loss: 0.2437 - accuracy: 0.9570 - val_loss: 0.3085 - val_accuracy: 0.9368 - 116ms/epoch - 14ms/step\n",
      "Epoch 66/101\n",
      "8/8 - 0s - loss: 0.2404 - accuracy: 0.9688 - val_loss: 0.3043 - val_accuracy: 0.9474 - 114ms/epoch - 14ms/step\n",
      "Epoch 67/101\n",
      "8/8 - 0s - loss: 0.2406 - accuracy: 0.9648 - val_loss: 0.3027 - val_accuracy: 0.9474 - 117ms/epoch - 15ms/step\n",
      "Epoch 68/101\n",
      "8/8 - 0s - loss: 0.2353 - accuracy: 0.9648 - val_loss: 0.3008 - val_accuracy: 0.9474 - 94ms/epoch - 12ms/step\n",
      "Epoch 69/101\n",
      "8/8 - 0s - loss: 0.2333 - accuracy: 0.9648 - val_loss: 0.2957 - val_accuracy: 0.9474 - 112ms/epoch - 14ms/step\n",
      "Epoch 70/101\n",
      "8/8 - 0s - loss: 0.2258 - accuracy: 0.9688 - val_loss: 0.2920 - val_accuracy: 0.9474 - 136ms/epoch - 17ms/step\n",
      "Epoch 71/101\n",
      "8/8 - 0s - loss: 0.2225 - accuracy: 0.9727 - val_loss: 0.2882 - val_accuracy: 0.9474 - 103ms/epoch - 13ms/step\n",
      "Epoch 72/101\n",
      "8/8 - 0s - loss: 0.2188 - accuracy: 0.9688 - val_loss: 0.2821 - val_accuracy: 0.9474 - 124ms/epoch - 15ms/step\n",
      "Epoch 73/101\n",
      "8/8 - 0s - loss: 0.2139 - accuracy: 0.9688 - val_loss: 0.2719 - val_accuracy: 0.9579 - 112ms/epoch - 14ms/step\n",
      "Epoch 74/101\n",
      "8/8 - 0s - loss: 0.2015 - accuracy: 0.9766 - val_loss: 0.2561 - val_accuracy: 0.9579 - 131ms/epoch - 16ms/step\n",
      "Epoch 75/101\n",
      "8/8 - 0s - loss: 0.2002 - accuracy: 0.9609 - val_loss: 0.2435 - val_accuracy: 0.9474 - 105ms/epoch - 13ms/step\n",
      "Epoch 76/101\n",
      "8/8 - 0s - loss: 0.1854 - accuracy: 0.9688 - val_loss: 0.2320 - val_accuracy: 0.9474 - 133ms/epoch - 17ms/step\n",
      "Epoch 77/101\n",
      "8/8 - 0s - loss: 0.1865 - accuracy: 0.9688 - val_loss: 0.2196 - val_accuracy: 0.9474 - 118ms/epoch - 15ms/step\n",
      "Epoch 78/101\n",
      "8/8 - 0s - loss: 0.1799 - accuracy: 0.9648 - val_loss: 0.2103 - val_accuracy: 0.9474 - 101ms/epoch - 13ms/step\n",
      "Epoch 79/101\n",
      "8/8 - 0s - loss: 0.1594 - accuracy: 0.9766 - val_loss: 0.2010 - val_accuracy: 0.9579 - 113ms/epoch - 14ms/step\n",
      "Epoch 80/101\n",
      "8/8 - 0s - loss: 0.1588 - accuracy: 0.9727 - val_loss: 0.1946 - val_accuracy: 0.9579 - 98ms/epoch - 12ms/step\n",
      "Epoch 81/101\n",
      "8/8 - 0s - loss: 0.1619 - accuracy: 0.9727 - val_loss: 0.1917 - val_accuracy: 0.9579 - 94ms/epoch - 12ms/step\n",
      "Epoch 82/101\n",
      "8/8 - 0s - loss: 0.1456 - accuracy: 0.9727 - val_loss: 0.1883 - val_accuracy: 0.9579 - 114ms/epoch - 14ms/step\n",
      "Epoch 83/101\n",
      "8/8 - 0s - loss: 0.1475 - accuracy: 0.9688 - val_loss: 0.1854 - val_accuracy: 0.9579 - 123ms/epoch - 15ms/step\n",
      "Epoch 84/101\n",
      "8/8 - 0s - loss: 0.1461 - accuracy: 0.9766 - val_loss: 0.1834 - val_accuracy: 0.9579 - 125ms/epoch - 16ms/step\n",
      "Epoch 85/101\n",
      "8/8 - 0s - loss: 0.1480 - accuracy: 0.9688 - val_loss: 0.1814 - val_accuracy: 0.9579 - 120ms/epoch - 15ms/step\n",
      "Epoch 86/101\n",
      "8/8 - 0s - loss: 0.1408 - accuracy: 0.9766 - val_loss: 0.1827 - val_accuracy: 0.9579 - 93ms/epoch - 12ms/step\n",
      "Epoch 87/101\n",
      "8/8 - 0s - loss: 0.1386 - accuracy: 0.9727 - val_loss: 0.1825 - val_accuracy: 0.9579 - 105ms/epoch - 13ms/step\n",
      "Epoch 88/101\n",
      "8/8 - 0s - loss: 0.1384 - accuracy: 0.9766 - val_loss: 0.1803 - val_accuracy: 0.9579 - 115ms/epoch - 14ms/step\n",
      "Epoch 89/101\n",
      "8/8 - 0s - loss: 0.1362 - accuracy: 0.9688 - val_loss: 0.1779 - val_accuracy: 0.9579 - 154ms/epoch - 19ms/step\n",
      "Epoch 90/101\n",
      "8/8 - 0s - loss: 0.1256 - accuracy: 0.9766 - val_loss: 0.1787 - val_accuracy: 0.9474 - 111ms/epoch - 14ms/step\n",
      "Epoch 91/101\n",
      "8/8 - 0s - loss: 0.1382 - accuracy: 0.9727 - val_loss: 0.1759 - val_accuracy: 0.9474 - 125ms/epoch - 16ms/step\n",
      "Epoch 92/101\n",
      "8/8 - 0s - loss: 0.1242 - accuracy: 0.9688 - val_loss: 0.1762 - val_accuracy: 0.9474 - 119ms/epoch - 15ms/step\n",
      "Epoch 93/101\n",
      "8/8 - 0s - loss: 0.1273 - accuracy: 0.9766 - val_loss: 0.1754 - val_accuracy: 0.9474 - 105ms/epoch - 13ms/step\n",
      "Epoch 94/101\n",
      "8/8 - 0s - loss: 0.1346 - accuracy: 0.9805 - val_loss: 0.1739 - val_accuracy: 0.9474 - 128ms/epoch - 16ms/step\n",
      "Epoch 95/101\n",
      "8/8 - 0s - loss: 0.1154 - accuracy: 0.9805 - val_loss: 0.1732 - val_accuracy: 0.9579 - 119ms/epoch - 15ms/step\n",
      "Epoch 96/101\n",
      "8/8 - 0s - loss: 0.1171 - accuracy: 0.9805 - val_loss: 0.1696 - val_accuracy: 0.9579 - 112ms/epoch - 14ms/step\n",
      "Epoch 97/101\n",
      "8/8 - 0s - loss: 0.1213 - accuracy: 0.9844 - val_loss: 0.1699 - val_accuracy: 0.9579 - 132ms/epoch - 16ms/step\n",
      "Epoch 98/101\n",
      "8/8 - 0s - loss: 0.1121 - accuracy: 0.9766 - val_loss: 0.1718 - val_accuracy: 0.9579 - 96ms/epoch - 12ms/step\n",
      "Epoch 99/101\n",
      "8/8 - 0s - loss: 0.1179 - accuracy: 0.9727 - val_loss: 0.1725 - val_accuracy: 0.9579 - 99ms/epoch - 12ms/step\n",
      "Epoch 100/101\n",
      "8/8 - 0s - loss: 0.1064 - accuracy: 0.9883 - val_loss: 0.1695 - val_accuracy: 0.9579 - 98ms/epoch - 12ms/step\n",
      "Epoch 101/101\n",
      "8/8 - 0s - loss: 0.1059 - accuracy: 0.9922 - val_loss: 0.1684 - val_accuracy: 0.9579 - 173ms/epoch - 22ms/step\n"
     ]
    }
   ],
   "source": [
    "history = model.fit(X_train, y_train, \n",
    "                    validation_data=[X_test, y_test],\n",
    "                    epochs=EPOCHS,\n",
    "                    verbose=2,\n",
    "                    batch_size=BATCH_SIZE\n",
    "                    )"
   ]
  },
  {
   "cell_type": "code",
   "execution_count": 865,
   "metadata": {},
   "outputs": [],
   "source": [
    "loss_df = pd.DataFrame(history.history)"
   ]
  },
  {
   "cell_type": "code",
   "execution_count": 866,
   "metadata": {},
   "outputs": [
    {
     "data": {
      "text/html": [
       "<div>\n",
       "<style scoped>\n",
       "    .dataframe tbody tr th:only-of-type {\n",
       "        vertical-align: middle;\n",
       "    }\n",
       "\n",
       "    .dataframe tbody tr th {\n",
       "        vertical-align: top;\n",
       "    }\n",
       "\n",
       "    .dataframe thead th {\n",
       "        text-align: right;\n",
       "    }\n",
       "</style>\n",
       "<table border=\"1\" class=\"dataframe\">\n",
       "  <thead>\n",
       "    <tr style=\"text-align: right;\">\n",
       "      <th></th>\n",
       "      <th>loss</th>\n",
       "      <th>accuracy</th>\n",
       "      <th>val_loss</th>\n",
       "      <th>val_accuracy</th>\n",
       "    </tr>\n",
       "  </thead>\n",
       "  <tbody>\n",
       "    <tr>\n",
       "      <th>0</th>\n",
       "      <td>0.942947</td>\n",
       "      <td>0.300781</td>\n",
       "      <td>0.831924</td>\n",
       "      <td>0.305263</td>\n",
       "    </tr>\n",
       "    <tr>\n",
       "      <th>1</th>\n",
       "      <td>0.825529</td>\n",
       "      <td>0.343750</td>\n",
       "      <td>0.771222</td>\n",
       "      <td>0.326316</td>\n",
       "    </tr>\n",
       "    <tr>\n",
       "      <th>2</th>\n",
       "      <td>0.783694</td>\n",
       "      <td>0.390625</td>\n",
       "      <td>0.728937</td>\n",
       "      <td>0.389474</td>\n",
       "    </tr>\n",
       "    <tr>\n",
       "      <th>3</th>\n",
       "      <td>0.718022</td>\n",
       "      <td>0.472656</td>\n",
       "      <td>0.697132</td>\n",
       "      <td>0.452632</td>\n",
       "    </tr>\n",
       "    <tr>\n",
       "      <th>4</th>\n",
       "      <td>0.690586</td>\n",
       "      <td>0.566406</td>\n",
       "      <td>0.670333</td>\n",
       "      <td>0.557895</td>\n",
       "    </tr>\n",
       "  </tbody>\n",
       "</table>\n",
       "</div>"
      ],
      "text/plain": [
       "       loss  accuracy  val_loss  val_accuracy\n",
       "0  0.942947  0.300781  0.831924      0.305263\n",
       "1  0.825529  0.343750  0.771222      0.326316\n",
       "2  0.783694  0.390625  0.728937      0.389474\n",
       "3  0.718022  0.472656  0.697132      0.452632\n",
       "4  0.690586  0.566406  0.670333      0.557895"
      ]
     },
     "execution_count": 866,
     "metadata": {},
     "output_type": "execute_result"
    }
   ],
   "source": [
    "loss_df.head()"
   ]
  },
  {
   "cell_type": "code",
   "execution_count": 867,
   "metadata": {},
   "outputs": [
    {
     "data": {
      "image/png": "[encoded data removed]",
      "text/plain": [
       "<Figure size 1500x800 with 1 Axes>"
      ]
     },
     "metadata": {},
     "output_type": "display_data"
    }
   ],
   "source": [
    "loss_df.plot(y = ['loss', 'val_loss']);"
   ]
  },
  {
   "cell_type": "code",
   "execution_count": 868,
   "metadata": {},
   "outputs": [
    {
     "data": {
      "image/png": "[encoded data removed]",
      "text/plain": [
       "<Figure size 1500x800 with 1 Axes>"
      ]
     },
     "metadata": {},
     "output_type": "display_data"
    }
   ],
   "source": [
    "loss_df.plot(y = ['accuracy', 'val_accuracy']);"
   ]
  },
  {
   "cell_type": "code",
   "execution_count": 869,
   "metadata": {},
   "outputs": [
    {
     "name": "stdout",
     "output_type": "stream",
     "text": [
      "8/8 [==============================] - 0s 12ms/step - loss: 0.0948 - accuracy: 0.9883\n"
     ]
    },
    {
     "data": {
      "text/plain": [
       "[0.09475960582494736, 0.98828125]"
      ]
     },
     "execution_count": 869,
     "metadata": {},
     "output_type": "execute_result"
    }
   ],
   "source": [
    "model.evaluate(X_train, y_train)"
   ]
  },
  {
   "cell_type": "code",
   "execution_count": 870,
   "metadata": {},
   "outputs": [
    {
     "name": "stdout",
     "output_type": "stream",
     "text": [
      "3/3 [==============================] - 0s 15ms/step - loss: 0.1684 - accuracy: 0.9579\n"
     ]
    },
    {
     "data": {
      "text/plain": [
       "[0.16841094195842743, 0.9578947424888611]"
      ]
     },
     "execution_count": 870,
     "metadata": {},
     "output_type": "execute_result"
    }
   ],
   "source": [
    "model.evaluate(X_test, y_test)"
   ]
  },
  {
   "cell_type": "code",
   "execution_count": 871,
   "metadata": {},
   "outputs": [
    {
     "name": "stdout",
     "output_type": "stream",
     "text": [
      "8/8 [==============================] - 0s 11ms/step\n"
     ]
    }
   ],
   "source": [
    "y_pred = model.predict(X_train)"
   ]
  },
  {
   "cell_type": "code",
   "execution_count": 872,
   "metadata": {},
   "outputs": [
    {
     "data": {
      "text/plain": [
       "(256,)"
      ]
     },
     "execution_count": 872,
     "metadata": {},
     "output_type": "execute_result"
    }
   ],
   "source": [
    "np.argmax(y_pred, axis = 1).shape"
   ]
  },
  {
   "cell_type": "code",
   "execution_count": 873,
   "metadata": {},
   "outputs": [
    {
     "data": {
      "text/plain": [
       "(256, 2)"
      ]
     },
     "execution_count": 873,
     "metadata": {},
     "output_type": "execute_result"
    }
   ],
   "source": [
    "y_train.shape"
   ]
  },
  {
   "cell_type": "code",
   "execution_count": 874,
   "metadata": {},
   "outputs": [
    {
     "data": {
      "text/plain": [
       "0.98828125"
      ]
     },
     "execution_count": 874,
     "metadata": {},
     "output_type": "execute_result"
    }
   ],
   "source": [
    "accuracy_score (np.argmax(y_pred, axis = 1), np.argmax(y_train, axis = 1))"
   ]
  },
  {
   "cell_type": "code",
   "execution_count": 875,
   "metadata": {},
   "outputs": [
    {
     "name": "stdout",
     "output_type": "stream",
     "text": [
      "3/3 [==============================] - 0s 4ms/step\n"
     ]
    },
    {
     "data": {
      "text/plain": [
       "0.9578947368421052"
      ]
     },
     "execution_count": 875,
     "metadata": {},
     "output_type": "execute_result"
    }
   ],
   "source": [
    "y_pred = model.predict(X_test)\n",
    "accuracy_score (np.argmax(y_pred, axis = 1), np.argmax(y_test, axis = 1))"
   ]
  },
  {
   "cell_type": "code",
   "execution_count": 876,
   "metadata": {},
   "outputs": [
    {
     "name": "stdout",
     "output_type": "stream",
     "text": [
      "Model: \"model_11\"\n",
      "_________________________________________________________________\n",
      " Layer (type)                Output Shape              Param #   \n",
      "=================================================================\n",
      " input_16 (InputLayer)       [(None, 34)]              0         \n",
      "                                                                 \n",
      " dense_65 (Dense)            (None, 18)                630       \n",
      "                                                                 \n",
      " dense_66 (Dense)            (None, 9)                 171       \n",
      "                                                                 \n",
      " dropout_23 (Dropout)        (None, 9)                 0         \n",
      "                                                                 \n",
      " dense_67 (Dense)            (None, 2)                 20        \n",
      "                                                                 \n",
      "=================================================================\n",
      "Total params: 821\n",
      "Trainable params: 821\n",
      "Non-trainable params: 0\n",
      "_________________________________________________________________\n"
     ]
    }
   ],
   "source": [
    "model.summary()"
   ]
  },
  {
   "cell_type": "code",
   "execution_count": 877,
   "metadata": {},
   "outputs": [
    {
     "data": {
      "image/png": "[encoded data removed]",
      "text/plain": [
       "<Figure size 1500x600 with 2 Axes>"
      ]
     },
     "metadata": {},
     "output_type": "display_data"
    }
   ],
   "source": [
    "fig, axes = plt.subplots(1,2 , figsize = (15,6))\n",
    "\n",
    "l_range = 50\n",
    "\n",
    "ax = axes[0]\n",
    "y1 = loss_df.columns[0]\n",
    "y2 = loss_df.columns[2]\n",
    "\n",
    "loss_df.plot( y = [y1, y2], ax = ax)\n",
    "\n",
    "# little beautification\n",
    "txtstr = \"Errors: \\n  Start : {:7.4f}\\n   End : {:7.4f}\".format(loss_df.iloc[0][y1],\n",
    "                                                                loss_df.iloc[-1][y2]) #text to plot\n",
    "\n",
    "# properties  matplotlib.patch.Patch \n",
    "props = dict(boxstyle='round', facecolor='aqua', alpha=0.5)\n",
    "\n",
    "# place a text box in upper left in axes coords\n",
    "\n",
    "ax.text(0.6, 0.95, txtstr, transform=ax.transAxes, fontsize=14,\n",
    "        verticalalignment='top', bbox=props)\n",
    "\n",
    "ax.set_xlabel(\"Epochs\")\n",
    "ax.set_ylabel(\"Error\")\n",
    "ax.set_title('Overall')\n",
    "ax.grid();\n",
    "\n",
    "ax = axes[1]\n",
    "y1 = loss_df.columns[1]\n",
    "y2 = loss_df.columns[3]\n",
    "loss_df[-l_range:].plot( y = [y1, y2], ax = ax)\n",
    "\n",
    "# little beautification\n",
    "txtstr = \"Errors: \\n  Start : {:7.4f}\\n   End : {:7.4f}\".format(loss_df.iloc[0][y1],\n",
    "                                                                loss_df.iloc[-1][y2]) #text to plot\n",
    "\n",
    "# place a text box in upper left in axes coords\n",
    "\n",
    "ax.text(0.6, 0.95, txtstr, transform=ax.transAxes, fontsize=14,\n",
    "        verticalalignment='top', bbox=props)\n",
    "\n",
    "ax.set_xlabel(\"Epochs\")\n",
    "ax.set_ylabel(\"Metrics\")\n",
    "ax.set_title(y1.capitalize())\n",
    "ax.grid();\n",
    "plt.tight_layout()"
   ]
  },
  {
   "cell_type": "code",
   "execution_count": 878,
   "metadata": {},
   "outputs": [
    {
     "data": {
      "text/html": [
       "<div>\n",
       "<style scoped>\n",
       "    .dataframe tbody tr th:only-of-type {\n",
       "        vertical-align: middle;\n",
       "    }\n",
       "\n",
       "    .dataframe tbody tr th {\n",
       "        vertical-align: top;\n",
       "    }\n",
       "\n",
       "    .dataframe thead th {\n",
       "        text-align: right;\n",
       "    }\n",
       "</style>\n",
       "<table border=\"1\" class=\"dataframe\">\n",
       "  <thead>\n",
       "    <tr style=\"text-align: right;\">\n",
       "      <th></th>\n",
       "      <th>loss</th>\n",
       "      <th>accuracy</th>\n",
       "      <th>val_loss</th>\n",
       "      <th>val_accuracy</th>\n",
       "    </tr>\n",
       "  </thead>\n",
       "  <tbody>\n",
       "    <tr>\n",
       "      <th>100</th>\n",
       "      <td>0.10586</td>\n",
       "      <td>0.992188</td>\n",
       "      <td>0.168411</td>\n",
       "      <td>0.957895</td>\n",
       "    </tr>\n",
       "  </tbody>\n",
       "</table>\n",
       "</div>"
      ],
      "text/plain": [
       "        loss  accuracy  val_loss  val_accuracy\n",
       "100  0.10586  0.992188  0.168411      0.957895"
      ]
     },
     "execution_count": 878,
     "metadata": {},
     "output_type": "execute_result"
    }
   ],
   "source": [
    "loss_df[loss_df['val_loss'] == loss_df['val_loss'].min()]"
   ]
  },
  {
   "cell_type": "code",
   "execution_count": 879,
   "metadata": {},
   "outputs": [],
   "source": [
    "es_check_point = tf.keras.callbacks.EarlyStopping(\n",
    "    monitor='val_loss',\n",
    "    patience=PATIENCE,\n",
    "    verbose=1,\n",
    "    restore_best_weights=True,\n",
    "    start_from_epoch=0,\n",
    ")\n"
   ]
  },
  {
   "cell_type": "code",
   "execution_count": 880,
   "metadata": {},
   "outputs": [
    {
     "name": "stdout",
     "output_type": "stream",
     "text": [
      "Epoch 1/101\n",
      "8/8 - 0s - loss: 0.1090 - accuracy: 0.9883 - val_loss: 0.1659 - val_accuracy: 0.9579 - 328ms/epoch - 41ms/step\n",
      "Epoch 2/101\n",
      "8/8 - 0s - loss: 0.1044 - accuracy: 0.9922 - val_loss: 0.1641 - val_accuracy: 0.9579 - 157ms/epoch - 20ms/step\n",
      "Epoch 3/101\n",
      "8/8 - 0s - loss: 0.1066 - accuracy: 0.9922 - val_loss: 0.1626 - val_accuracy: 0.9579 - 151ms/epoch - 19ms/step\n",
      "Epoch 4/101\n",
      "8/8 - 0s - loss: 0.1243 - accuracy: 0.9805 - val_loss: 0.1607 - val_accuracy: 0.9579 - 160ms/epoch - 20ms/step\n",
      "Epoch 5/101\n",
      "8/8 - 0s - loss: 0.1078 - accuracy: 0.9766 - val_loss: 0.1588 - val_accuracy: 0.9579 - 140ms/epoch - 17ms/step\n",
      "Epoch 6/101\n",
      "8/8 - 0s - loss: 0.0976 - accuracy: 0.9844 - val_loss: 0.1589 - val_accuracy: 0.9579 - 124ms/epoch - 16ms/step\n",
      "Epoch 7/101\n",
      "8/8 - 0s - loss: 0.0914 - accuracy: 0.9922 - val_loss: 0.1603 - val_accuracy: 0.9579 - 140ms/epoch - 17ms/step\n",
      "Epoch 8/101\n",
      "8/8 - 0s - loss: 0.1019 - accuracy: 0.9883 - val_loss: 0.1602 - val_accuracy: 0.9579 - 145ms/epoch - 18ms/step\n",
      "Epoch 9/101\n",
      "8/8 - 0s - loss: 0.0895 - accuracy: 0.9922 - val_loss: 0.1570 - val_accuracy: 0.9579 - 161ms/epoch - 20ms/step\n",
      "Epoch 10/101\n",
      "8/8 - 0s - loss: 0.1101 - accuracy: 0.9844 - val_loss: 0.1529 - val_accuracy: 0.9579 - 202ms/epoch - 25ms/step\n",
      "Epoch 11/101\n",
      "8/8 - 0s - loss: 0.0984 - accuracy: 0.9922 - val_loss: 0.1533 - val_accuracy: 0.9579 - 150ms/epoch - 19ms/step\n",
      "Epoch 12/101\n",
      "8/8 - 0s - loss: 0.0962 - accuracy: 0.9883 - val_loss: 0.1556 - val_accuracy: 0.9579 - 102ms/epoch - 13ms/step\n",
      "Epoch 13/101\n",
      "8/8 - 0s - loss: 0.0904 - accuracy: 0.9844 - val_loss: 0.1562 - val_accuracy: 0.9579 - 196ms/epoch - 24ms/step\n",
      "Epoch 14/101\n",
      "8/8 - 0s - loss: 0.0953 - accuracy: 0.9922 - val_loss: 0.1581 - val_accuracy: 0.9579 - 159ms/epoch - 20ms/step\n",
      "Epoch 15/101\n",
      "8/8 - 0s - loss: 0.0923 - accuracy: 0.9922 - val_loss: 0.1581 - val_accuracy: 0.9579 - 136ms/epoch - 17ms/step\n",
      "Epoch 16/101\n",
      "8/8 - 0s - loss: 0.0849 - accuracy: 0.9883 - val_loss: 0.1566 - val_accuracy: 0.9579 - 141ms/epoch - 18ms/step\n",
      "Epoch 17/101\n",
      "8/8 - 0s - loss: 0.0975 - accuracy: 0.9805 - val_loss: 0.1546 - val_accuracy: 0.9579 - 150ms/epoch - 19ms/step\n",
      "Epoch 18/101\n",
      "8/8 - 0s - loss: 0.0949 - accuracy: 0.9883 - val_loss: 0.1551 - val_accuracy: 0.9579 - 162ms/epoch - 20ms/step\n",
      "Epoch 19/101\n",
      "8/8 - 0s - loss: 0.0941 - accuracy: 0.9844 - val_loss: 0.1550 - val_accuracy: 0.9579 - 163ms/epoch - 20ms/step\n",
      "Epoch 20/101\n",
      "Restoring model weights from the end of the best epoch: 10.\n",
      "8/8 - 0s - loss: 0.0845 - accuracy: 0.9883 - val_loss: 0.1541 - val_accuracy: 0.9579 - 119ms/epoch - 15ms/step\n",
      "Epoch 20: early stopping\n"
     ]
    }
   ],
   "source": [
    "history = model.fit(X_train, y_train, \n",
    "                    validation_data=[X_test, y_test],\n",
    "                    epochs=EPOCHS,\n",
    "                    verbose=2,\n",
    "                    batch_size=BATCH_SIZE,\n",
    "                    callbacks=[ es_check_point ]\n",
    "                    )"
   ]
  },
  {
   "cell_type": "code",
   "execution_count": 881,
   "metadata": {},
   "outputs": [
    {
     "name": "stdout",
     "output_type": "stream",
     "text": [
      "8/8 [==============================] - 0s 6ms/step - loss: 0.0819 - accuracy: 0.9883\n"
     ]
    },
    {
     "data": {
      "text/plain": [
       "[0.08192507922649384, 0.98828125]"
      ]
     },
     "execution_count": 881,
     "metadata": {},
     "output_type": "execute_result"
    }
   ],
   "source": [
    "model.evaluate(X_train, y_train)"
   ]
  },
  {
   "cell_type": "code",
   "execution_count": 882,
   "metadata": {},
   "outputs": [
    {
     "name": "stdout",
     "output_type": "stream",
     "text": [
      "3/3 [==============================] - 0s 5ms/step - loss: 0.1529 - accuracy: 0.9579\n"
     ]
    },
    {
     "data": {
      "text/plain": [
       "[0.15289835631847382, 0.9578947424888611]"
      ]
     },
     "execution_count": 882,
     "metadata": {},
     "output_type": "execute_result"
    }
   ],
   "source": [
    "model.evaluate(X_test, y_test)"
   ]
  }
 ],
 "metadata": {
  "accelerator": "GPU",
  "colab": {
   "name": "S05a_one_hidden_layer_with_tanh_wip.ipynb",
   "provenance": []
  },
  "kernelspec": {
   "display_name": "Python 3 (ipykernel)",
   "language": "python",
   "name": "python3"
  },
  "language_info": {
   "codemirror_mode": {
    "name": "ipython",
    "version": 3
   },
   "file_extension": ".py",
   "mimetype": "text/x-python",
   "name": "python",
   "nbconvert_exporter": "python",
   "pygments_lexer": "ipython3",
   "version": "3.11.5"
  }
 },
 "nbformat": 4,
 "nbformat_minor": 4
}
