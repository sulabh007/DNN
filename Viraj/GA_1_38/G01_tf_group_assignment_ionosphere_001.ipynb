{
 "cells": [
  {
   "cell_type": "code",
   "execution_count": null,
   "metadata": {
    "id": "kFZRpLpK02pB"
   },
   "outputs": [],
   "source": [
    "#!/usr/bin/env python\n",
    "# -*- coding: utf-8 -*-"
   ]
  },
  {
   "cell_type": "markdown",
   "metadata": {
    "id": "deSnZmVy02pF"
   },
   "source": [
    "\n",
    "\n",
    "# Deep Neural Networks\n",
    "\n",
    "## Assignment\n",
    "### Neural Network with :\n",
    "\n",
    "- **Ionosphere**\n",
    "- **binary-class**"
   ]
  },
  {
   "cell_type": "code",
   "execution_count": null,
   "metadata": {
    "id": "rt0pfyeA02pK"
   },
   "outputs": [],
   "source": [
    "###-----------------\n",
    "### Import Libraries\n",
    "###-----------------\n",
    "\n",
    "import os\n",
    "import numpy as np\n",
    "import pandas as pd\n",
    "import matplotlib.pyplot as plt\n",
    "from sklearn import datasets\n",
    "from collections.abc import Callable\n",
    "from typing import Literal\n",
    "from sklearn.model_selection import train_test_split\n",
    "from sklearn.metrics import accuracy_score, confusion_matrix, classification_report, ConfusionMatrixDisplay\n",
    "from sklearn.preprocessing import StandardScaler\n",
    "import tensorflow as tf \n",
    "%matplotlib inline"
   ]
  },
  {
   "cell_type": "code",
   "execution_count": null,
   "metadata": {},
   "outputs": [],
   "source": [
    "# gpus = tf.config.list_physical_devices('GPU')\n",
    "\n",
    "# try:\n",
    "#     for g in gpus:\n",
    "#         tf.config.experimental.set_memory_growth(g, True)\n",
    "#     logical_gpus = tf.config.list_logical_devices('GPU')\n",
    "#     print (len(gpus), 'Phusical GPUs', len(logical_gpus), 'Logical GPUs')\n",
    "# except:\n",
    "#     print ('invalid device')"
   ]
  },
  {
   "cell_type": "code",
   "execution_count": null,
   "metadata": {
    "id": "__T9cczP02pL"
   },
   "outputs": [],
   "source": [
    "###----------------\n",
    "### Some parameters\n",
    "###----------------\n",
    "\n",
    "inpDir = '../../input'\n",
    "outDir = '../output'\n",
    "subDir = 'ionosphere'\n",
    "modelDir = '.../models'\n",
    "\n",
    "RANDOM_STATE = 24 # REMEMBER: to remove at the time of promotion to production\n",
    "np.random.seed(RANDOM_STATE) # Set Random Seed for reproducible  results\n",
    "\n",
    "EPOCHS = 101 # number of epochs\n",
    "ALPHA = 0.01 # learning rate\n",
    "NUM_SAMPLES = 1280 # How many samples we want to generate \n",
    "NOISE = 0.2 # Noise to be introduced in the data\n",
    "TEST_SIZE = 0.2\n",
    "BATCH_SIZE = 32\n",
    "TRAIN_SIZE = 256 # fix size of train set sot that we have batches of same size\n",
    "PATIENCE = 10\n",
    "\n",
    "# parameters for Matplotlib\n",
    "params = {'legend.fontsize': 'x-large',\n",
    "          'figure.figsize': (15, 8),\n",
    "          'axes.labelsize': 'x-large',\n",
    "          'axes.titlesize':'x-large',\n",
    "          'xtick.labelsize':'x-large',\n",
    "          'ytick.labelsize':'x-large'\n",
    "         }\n",
    "\n",
    "CMAP = 'coolwarm' # plt.cm.Spectral\n",
    "\n",
    "plt.rcParams.update(params)"
   ]
  },
  {
   "cell_type": "markdown",
   "metadata": {
    "id": "7bhVN20X02pN"
   },
   "source": [
    "## Generate Data Set\n",
    "Ionosphere Dataset"
   ]
  },
  {
   "cell_type": "code",
   "execution_count": null,
   "metadata": {
    "id": "LXZ37P4G02pP"
   },
   "outputs": [],
   "source": [
    "data_df = pd.read_csv('ionosphere.data', header=None)\n",
    "data_df.head()"
   ]
  },
  {
   "cell_type": "code",
   "execution_count": null,
   "metadata": {
    "colab": {
     "base_uri": "https://localhost:8080/",
     "height": 596
    },
    "id": "PWMWQKQ702pQ",
    "outputId": "80ccd743-533a-4a5d-c009-9318021035a1",
    "scrolled": true
   },
   "outputs": [],
   "source": [
    "data_df.shape"
   ]
  },
  {
   "cell_type": "code",
   "execution_count": null,
   "metadata": {},
   "outputs": [],
   "source": [
    "data_df.isnull().sum()"
   ]
  },
  {
   "cell_type": "code",
   "execution_count": null,
   "metadata": {},
   "outputs": [],
   "source": [
    "data_df = data_df.rename(columns={34: 'Classification'})\n",
    "data_df.columns"
   ]
  },
  {
   "cell_type": "code",
   "execution_count": null,
   "metadata": {},
   "outputs": [],
   "source": [
    "data_df.isna().sum()"
   ]
  },
  {
   "cell_type": "code",
   "execution_count": null,
   "metadata": {},
   "outputs": [],
   "source": [
    "data_df.head()"
   ]
  },
  {
   "cell_type": "code",
   "execution_count": null,
   "metadata": {},
   "outputs": [],
   "source": [
    "data_df['Classification'].unique()"
   ]
  },
  {
   "cell_type": "code",
   "execution_count": null,
   "metadata": {},
   "outputs": [],
   "source": [
    "labels = { 'g' : 'Good', 'b': 'Bad'}"
   ]
  },
  {
   "cell_type": "code",
   "execution_count": null,
   "metadata": {},
   "outputs": [],
   "source": [
    "features_df = data_df.drop('Classification', axis = 1) # drop label col\n",
    "\n",
    "label_df = data_df['Classification'] # labels\n",
    "\n",
    "features_df.shape, label_df.shape"
   ]
  },
  {
   "cell_type": "code",
   "execution_count": null,
   "metadata": {},
   "outputs": [],
   "source": [
    "label_df = pd.get_dummies(label_df)\n",
    "label_df"
   ]
  },
  {
   "cell_type": "code",
   "execution_count": null,
   "metadata": {},
   "outputs": [],
   "source": [
    "label_df.head()"
   ]
  },
  {
   "cell_type": "code",
   "execution_count": null,
   "metadata": {},
   "outputs": [],
   "source": [
    "#  Split the data in training and test sets to measure performance of the model.\n",
    "X_train, X_test, y_train, y_test = train_test_split(features_df, label_df, \n",
    "                                                    stratify=label_df,\n",
    "                                                    train_size=TRAIN_SIZE, \n",
    "                                                    random_state=RANDOM_STATE )\n",
    "\n",
    "print (X_train.shape, y_train.shape, X_test.shape, y_test.shape)"
   ]
  },
  {
   "cell_type": "code",
   "execution_count": null,
   "metadata": {},
   "outputs": [],
   "source": [
    "scaler = StandardScaler() # get the scaler\n",
    "\n",
    "X_train = scaler.fit_transform(X_train) # train\n",
    "X_test = scaler.transform(X_test) # test\n",
    "\n",
    "y_train = y_train.to_numpy() # array\n",
    "y_test = y_test.to_numpy() # convert to array"
   ]
  },
  {
   "cell_type": "code",
   "execution_count": null,
   "metadata": {},
   "outputs": [],
   "source": [
    "y_train"
   ]
  },
  {
   "cell_type": "markdown",
   "metadata": {
    "id": "c7w9j7Yo02pX"
   },
   "source": [
    "## Neural Network\n",
    "\n",
    "Let's start with simple network. Our data has **two** features. Hence size of input layer will also be two. Lets code our output as two classes. The hidden layer could be of **any size**. One need to execute a handful of iterations to arrive at right size of hidden layer. For purpose of today's discussions, size of hidden layer is taken as shown below.\n",
    "<img src='../../images/dnn_nb_s05_fig1.png' width = '500' alt = 'Session 5 Figure 1'/>"
   ]
  },
  {
   "cell_type": "markdown",
   "metadata": {},
   "source": [
    "## Prepare Model:"
   ]
  },
  {
   "cell_type": "code",
   "execution_count": null,
   "metadata": {},
   "outputs": [],
   "source": [
    "knl_reg = tf.keras.regularizers.L1(l1 = 0.01)\n",
    "\n",
    "dor1 = 0.05\n",
    "\n",
    "'''model = tf.keras.Sequential([\n",
    "    \n",
    "    tf.keras.layers.Dense(18, #activation='swish',\n",
    "                          kernel_regularizer = knl_reg ),\n",
    "    \n",
    "    tf.keras.layers.BatchNormalization(),\n",
    "    \n",
    "    #Put Activation Layer here\n",
    "    tf.keras.layers.Activation('relu'),\n",
    "    \n",
    "    tf.keras.layers.Dropout(rate=dor1, seed=RANDOM_STATE),\n",
    "    \n",
    "    tf.keras.layers.Dense(4)\n",
    "\n",
    "])'''\n",
    "\n",
    "input_layer = tf.keras.Input(shape=(34,))\n",
    "\n",
    "x = tf.keras.layers.Dense(18, activation='relu',\n",
    "                          kernel_regularizer = knl_reg ) (input_layer)\n",
    "\n",
    "x = tf.keras.layers.Dense(9, activation='relu',\n",
    "                          kernel_regularizer = knl_reg ) (x)\n",
    "\n",
    "output_layer = tf.keras.layers.Dense(2) (x)\n",
    "\n",
    "model = tf.keras.Model(inputs= input_layer, outputs = output_layer)\n",
    "\n",
    "model.summary()"
   ]
  },
  {
   "cell_type": "code",
   "execution_count": null,
   "metadata": {},
   "outputs": [],
   "source": [
    "loss_function = tf.losses.CategoricalCrossentropy(from_logits=True)"
   ]
  },
  {
   "cell_type": "code",
   "execution_count": null,
   "metadata": {},
   "outputs": [],
   "source": [
    "X_train[:1].shape"
   ]
  },
  {
   "cell_type": "code",
   "execution_count": null,
   "metadata": {},
   "outputs": [],
   "source": [
    "predict = model(X_train[:1])\n",
    "predict"
   ]
  },
  {
   "cell_type": "code",
   "execution_count": null,
   "metadata": {},
   "outputs": [],
   "source": [
    "predict.numpy().sum()"
   ]
  },
  {
   "cell_type": "code",
   "execution_count": null,
   "metadata": {},
   "outputs": [],
   "source": [
    "tf.nn.softmax(predict).numpy().sum()"
   ]
  },
  {
   "cell_type": "code",
   "execution_count": null,
   "metadata": {
    "colab": {
     "base_uri": "https://localhost:8080/",
     "height": 613
    },
    "id": "oa8WtTI202pn",
    "outputId": "3f0ca548-7715-47c7-b4fd-fac7924bc060"
   },
   "outputs": [],
   "source": [
    "model.compile(optimizer='adam', \n",
    "              loss=loss_function,\n",
    "              metrics=['accuracy'])"
   ]
  },
  {
   "cell_type": "code",
   "execution_count": 877,
   "metadata": {},
   "outputs": [
    {
     "name": "stdout",
     "output_type": "stream",
     "text": [
      "8/8 - 0s - loss: 0.3926 - accuracy: 0.9688 - val_loss: 0.4618 - val_accuracy: 0.9053 - 163ms/epoch - 20ms/step\n",
      "Epoch 71/101\n",
      "8/8 - 0s - loss: 0.3882 - accuracy: 0.9688 - val_loss: 0.4593 - val_accuracy: 0.8947 - 119ms/epoch - 15ms/step\n",
      "Epoch 72/101\n",
      "8/8 - 0s - loss: 0.3858 - accuracy: 0.9688 - val_loss: 0.4573 - val_accuracy: 0.9053 - 114ms/epoch - 14ms/step\n",
      "Epoch 73/101\n",
      "8/8 - 0s - loss: 0.3814 - accuracy: 0.9688 - val_loss: 0.4558 - val_accuracy: 0.8947 - 137ms/epoch - 17ms/step\n",
      "Epoch 74/101\n",
      "8/8 - 0s - loss: 0.3777 - accuracy: 0.9688 - val_loss: 0.4544 - val_accuracy: 0.8947 - 136ms/epoch - 17ms/step\n",
      "Epoch 75/101\n",
      "8/8 - 0s - loss: 0.3740 - accuracy: 0.9688 - val_loss: 0.4526 - val_accuracy: 0.8947 - 133ms/epoch - 17ms/step\n",
      "Epoch 76/101\n",
      "8/8 - 0s - loss: 0.3711 - accuracy: 0.9688 - val_loss: 0.4503 - val_accuracy: 0.8947 - 140ms/epoch - 17ms/step\n",
      "Epoch 77/101\n",
      "8/8 - 0s - loss: 0.3683 - accuracy: 0.9688 - val_loss: 0.4476 - val_accuracy: 0.8947 - 145ms/epoch - 18ms/step\n",
      "Epoch 78/101\n",
      "8/8 - 0s - loss: 0.3653 - accuracy: 0.9727 - val_loss: 0.4467 - val_accuracy: 0.8947 - 109ms/epoch - 14ms/step\n",
      "Epoch 79/101\n",
      "8/8 - 0s - loss: 0.3624 - accuracy: 0.9727 - val_loss: 0.4441 - val_accuracy: 0.8947 - 114ms/epoch - 14ms/step\n",
      "Epoch 80/101\n",
      "8/8 - 0s - loss: 0.3592 - accuracy: 0.9727 - val_loss: 0.4416 - val_accuracy: 0.8947 - 98ms/epoch - 12ms/step\n",
      "Epoch 81/101\n",
      "8/8 - 0s - loss: 0.3559 - accuracy: 0.9727 - val_loss: 0.4391 - val_accuracy: 0.8947 - 112ms/epoch - 14ms/step\n",
      "Epoch 82/101\n",
      "8/8 - 0s - loss: 0.3537 - accuracy: 0.9727 - val_loss: 0.4375 - val_accuracy: 0.8947 - 122ms/epoch - 15ms/step\n",
      "Epoch 83/101\n",
      "8/8 - 0s - loss: 0.3508 - accuracy: 0.9766 - val_loss: 0.4359 - val_accuracy: 0.8947 - 123ms/epoch - 15ms/step\n",
      "Epoch 84/101\n",
      "8/8 - 0s - loss: 0.3478 - accuracy: 0.9766 - val_loss: 0.4344 - val_accuracy: 0.8947 - 172ms/epoch - 22ms/step\n",
      "Epoch 85/101\n",
      "8/8 - 0s - loss: 0.3454 - accuracy: 0.9766 - val_loss: 0.4324 - val_accuracy: 0.8842 - 134ms/epoch - 17ms/step\n",
      "Epoch 86/101\n",
      "8/8 - 0s - loss: 0.3430 - accuracy: 0.9727 - val_loss: 0.4305 - val_accuracy: 0.8947 - 115ms/epoch - 14ms/step\n",
      "Epoch 87/101\n",
      "8/8 - 0s - loss: 0.3411 - accuracy: 0.9766 - val_loss: 0.4289 - val_accuracy: 0.8947 - 112ms/epoch - 14ms/step\n",
      "Epoch 88/101\n",
      "8/8 - 0s - loss: 0.3384 - accuracy: 0.9766 - val_loss: 0.4270 - val_accuracy: 0.8842 - 102ms/epoch - 13ms/step\n",
      "Epoch 89/101\n",
      "8/8 - 0s - loss: 0.3362 - accuracy: 0.9766 - val_loss: 0.4250 - val_accuracy: 0.8842 - 118ms/epoch - 15ms/step\n",
      "Epoch 90/101\n",
      "8/8 - 0s - loss: 0.3333 - accuracy: 0.9766 - val_loss: 0.4241 - val_accuracy: 0.8842 - 167ms/epoch - 21ms/step\n",
      "Epoch 91/101\n",
      "8/8 - 0s - loss: 0.3310 - accuracy: 0.9766 - val_loss: 0.4220 - val_accuracy: 0.8842 - 150ms/epoch - 19ms/step\n",
      "Epoch 92/101\n",
      "8/8 - 0s - loss: 0.3286 - accuracy: 0.9766 - val_loss: 0.4198 - val_accuracy: 0.8842 - 157ms/epoch - 20ms/step\n",
      "Epoch 93/101\n",
      "8/8 - 0s - loss: 0.3266 - accuracy: 0.9766 - val_loss: 0.4186 - val_accuracy: 0.8842 - 132ms/epoch - 17ms/step\n",
      "Epoch 94/101\n",
      "8/8 - 0s - loss: 0.3242 - accuracy: 0.9766 - val_loss: 0.4168 - val_accuracy: 0.8947 - 149ms/epoch - 19ms/step\n",
      "Epoch 95/101\n",
      "8/8 - 0s - loss: 0.3222 - accuracy: 0.9766 - val_loss: 0.4157 - val_accuracy: 0.8842 - 142ms/epoch - 18ms/step\n",
      "Epoch 96/101\n",
      "8/8 - 0s - loss: 0.3201 - accuracy: 0.9766 - val_loss: 0.4143 - val_accuracy: 0.9053 - 128ms/epoch - 16ms/step\n",
      "Epoch 97/101\n",
      "8/8 - 0s - loss: 0.3184 - accuracy: 0.9766 - val_loss: 0.4123 - val_accuracy: 0.8947 - 141ms/epoch - 18ms/step\n",
      "Epoch 98/101\n",
      "8/8 - 0s - loss: 0.3160 - accuracy: 0.9766 - val_loss: 0.4121 - val_accuracy: 0.9053 - 115ms/epoch - 14ms/step\n",
      "Epoch 99/101\n",
      "8/8 - 0s - loss: 0.3141 - accuracy: 0.9766 - val_loss: 0.4105 - val_accuracy: 0.9053 - 140ms/epoch - 18ms/step\n",
      "Epoch 100/101\n",
      "8/8 - 0s - loss: 0.3121 - accuracy: 0.9766 - val_loss: 0.4090 - val_accuracy: 0.8947 - 124ms/epoch - 15ms/step\n",
      "Epoch 101/101\n",
      "8/8 - 0s - loss: 0.3109 - accuracy: 0.9766 - val_loss: 0.4077 - val_accuracy: 0.9053 - 131ms/epoch - 16ms/step\n"
     ]
    }
   ],
   "source": [
    "history = model.fit(X_train, y_train, \n",
    "                    validation_data=[X_test, y_test],\n",
    "                    epochs=EPOCHS,\n",
    "                    verbose=2,\n",
    "                    batch_size=BATCH_SIZE\n",
    "                    )"
   ]
  },
  {
   "cell_type": "code",
   "execution_count": 878,
   "metadata": {},
   "outputs": [],
   "source": [
    "loss_df = pd.DataFrame(history.history)"
   ]
  },
  {
   "cell_type": "code",
   "execution_count": 879,
   "metadata": {},
   "outputs": [
    {
     "data": {
      "text/html": [
       "<div>\n",
       "<style scoped>\n",
       "    .dataframe tbody tr th:only-of-type {\n",
       "        vertical-align: middle;\n",
       "    }\n",
       "\n",
       "    .dataframe tbody tr th {\n",
       "        vertical-align: top;\n",
       "    }\n",
       "\n",
       "    .dataframe thead th {\n",
       "        text-align: right;\n",
       "    }\n",
       "</style>\n",
       "<table border=\"1\" class=\"dataframe\">\n",
       "  <thead>\n",
       "    <tr style=\"text-align: right;\">\n",
       "      <th></th>\n",
       "      <th>loss</th>\n",
       "      <th>accuracy</th>\n",
       "      <th>val_loss</th>\n",
       "      <th>val_accuracy</th>\n",
       "    </tr>\n",
       "  </thead>\n",
       "  <tbody>\n",
       "    <tr>\n",
       "      <th>0</th>\n",
       "      <td>2.080901</td>\n",
       "      <td>0.593750</td>\n",
       "      <td>2.044444</td>\n",
       "      <td>0.631579</td>\n",
       "    </tr>\n",
       "    <tr>\n",
       "      <th>1</th>\n",
       "      <td>2.020179</td>\n",
       "      <td>0.667969</td>\n",
       "      <td>1.990340</td>\n",
       "      <td>0.715789</td>\n",
       "    </tr>\n",
       "    <tr>\n",
       "      <th>2</th>\n",
       "      <td>1.963231</td>\n",
       "      <td>0.746094</td>\n",
       "      <td>1.937728</td>\n",
       "      <td>0.768421</td>\n",
       "    </tr>\n",
       "    <tr>\n",
       "      <th>3</th>\n",
       "      <td>1.908809</td>\n",
       "      <td>0.792969</td>\n",
       "      <td>1.887946</td>\n",
       "      <td>0.778947</td>\n",
       "    </tr>\n",
       "    <tr>\n",
       "      <th>4</th>\n",
       "      <td>1.858050</td>\n",
       "      <td>0.804688</td>\n",
       "      <td>1.839052</td>\n",
       "      <td>0.789474</td>\n",
       "    </tr>\n",
       "  </tbody>\n",
       "</table>\n",
       "</div>"
      ],
      "text/plain": [
       "       loss  accuracy  val_loss  val_accuracy\n",
       "0  2.080901  0.593750  2.044444      0.631579\n",
       "1  2.020179  0.667969  1.990340      0.715789\n",
       "2  1.963231  0.746094  1.937728      0.768421\n",
       "3  1.908809  0.792969  1.887946      0.778947\n",
       "4  1.858050  0.804688  1.839052      0.789474"
      ]
     },
     "execution_count": 879,
     "metadata": {},
     "output_type": "execute_result"
    }
   ],
   "source": [
    "loss_df.head()"
   ]
  },
  {
   "cell_type": "code",
   "execution_count": 880,
   "metadata": {},
   "outputs": [
    {
     "data": {
      "image/png": "[encoded data removed]",
      "text/plain": [
       "<Figure size 1500x800 with 1 Axes>"
      ]
     },
     "metadata": {},
     "output_type": "display_data"
    }
   ],
   "source": [
    "loss_df.plot(y = ['loss', 'val_loss']);"
   ]
  },
  {
   "cell_type": "code",
   "execution_count": 881,
   "metadata": {},
   "outputs": [
    {
     "data": {
      "image/png": "[encoded data removed]",
      "text/plain": [
       "<Figure size 1500x800 with 1 Axes>"
      ]
     },
     "metadata": {},
     "output_type": "display_data"
    }
   ],
   "source": [
    "loss_df.plot(y = ['accuracy', 'val_accuracy']);"
   ]
  },
  {
   "cell_type": "code",
   "execution_count": 882,
   "metadata": {},
   "outputs": [
    {
     "name": "stdout",
     "output_type": "stream",
     "text": [
      "8/8 [==============================] - 0s 7ms/step - loss: 0.3088 - accuracy: 0.9766\n"
     ]
    },
    {
     "data": {
      "text/plain": [
       "[0.3087744116783142, 0.9765625]"
      ]
     },
     "execution_count": 882,
     "metadata": {},
     "output_type": "execute_result"
    }
   ],
   "source": [
    "model.evaluate(X_train, y_train)"
   ]
  },
  {
   "cell_type": "code",
   "execution_count": 883,
   "metadata": {},
   "outputs": [
    {
     "name": "stdout",
     "output_type": "stream",
     "text": [
      "3/3 [==============================] - 0s 21ms/step - loss: 0.4077 - accuracy: 0.9053\n"
     ]
    },
    {
     "data": {
      "text/plain": [
       "[0.40772077441215515, 0.9052631855010986]"
      ]
     },
     "execution_count": 883,
     "metadata": {},
     "output_type": "execute_result"
    }
   ],
   "source": [
    "model.evaluate(X_test, y_test)"
   ]
  },
  {
   "cell_type": "code",
   "execution_count": 884,
   "metadata": {},
   "outputs": [
    {
     "name": "stdout",
     "output_type": "stream",
     "text": [
      "8/8 [==============================] - 0s 8ms/step\n"
     ]
    }
   ],
   "source": [
    "y_pred = model.predict(X_train)"
   ]
  },
  {
   "cell_type": "code",
   "execution_count": 885,
   "metadata": {},
   "outputs": [
    {
     "data": {
      "text/plain": [
       "(256,)"
      ]
     },
     "execution_count": 885,
     "metadata": {},
     "output_type": "execute_result"
    }
   ],
   "source": [
    "np.argmax(y_pred, axis = 1).shape"
   ]
  },
  {
   "cell_type": "code",
   "execution_count": 886,
   "metadata": {},
   "outputs": [
    {
     "data": {
      "text/plain": [
       "(256, 2)"
      ]
     },
     "execution_count": 886,
     "metadata": {},
     "output_type": "execute_result"
    }
   ],
   "source": [
    "y_train.shape"
   ]
  },
  {
   "cell_type": "code",
   "execution_count": 887,
   "metadata": {},
   "outputs": [
    {
     "data": {
      "text/plain": [
       "0.9765625"
      ]
     },
     "execution_count": 887,
     "metadata": {},
     "output_type": "execute_result"
    }
   ],
   "source": [
    "accuracy_score (np.argmax(y_pred, axis = 1), np.argmax(y_train, axis = 1))"
   ]
  },
  {
   "cell_type": "code",
   "execution_count": 888,
   "metadata": {},
   "outputs": [
    {
     "name": "stdout",
     "output_type": "stream",
     "text": [
      "3/3 [==============================] - 0s 7ms/step\n"
     ]
    },
    {
     "data": {
      "text/plain": [
       "0.9052631578947369"
      ]
     },
     "execution_count": 888,
     "metadata": {},
     "output_type": "execute_result"
    }
   ],
   "source": [
    "y_pred = model.predict(X_test)\n",
    "accuracy_score (np.argmax(y_pred, axis = 1), np.argmax(y_test, axis = 1))"
   ]
  },
  {
   "cell_type": "code",
   "execution_count": 889,
   "metadata": {},
   "outputs": [
    {
     "name": "stdout",
     "output_type": "stream",
     "text": [
      "Model: \"model_33\"\n",
      "_________________________________________________________________\n",
      " Layer (type)                Output Shape              Param #   \n",
      "=================================================================\n",
      " input_34 (InputLayer)       [(None, 34)]              0         \n",
      "                                                                 \n",
      " dense_99 (Dense)            (None, 18)                630       \n",
      "                                                                 \n",
      " dense_100 (Dense)           (None, 9)                 171       \n",
      "                                                                 \n",
      " dense_101 (Dense)           (None, 2)                 20        \n",
      "                                                                 \n",
      "=================================================================\n",
      "Total params: 821\n",
      "Trainable params: 821\n",
      "Non-trainable params: 0\n",
      "_________________________________________________________________\n"
     ]
    }
   ],
   "source": [
    "model.summary()"
   ]
  },
  {
   "cell_type": "code",
   "execution_count": 890,
   "metadata": {},
   "outputs": [
    {
     "data": {
      "image/png": "[encoded data removed]",
      "text/plain": [
       "<Figure size 1500x600 with 2 Axes>"
      ]
     },
     "metadata": {},
     "output_type": "display_data"
    }
   ],
   "source": [
    "fig, axes = plt.subplots(1,2 , figsize = (15,6))\n",
    "\n",
    "l_range = 50\n",
    "\n",
    "ax = axes[0]\n",
    "y1 = loss_df.columns[0]\n",
    "y2 = loss_df.columns[2]\n",
    "\n",
    "loss_df.plot( y = [y1, y2], ax = ax)\n",
    "\n",
    "# little beautification\n",
    "txtstr = \"Errors: \\n  Start : {:7.4f}\\n   End : {:7.4f}\".format(loss_df.iloc[0][y1],\n",
    "                                                                loss_df.iloc[-1][y2]) #text to plot\n",
    "\n",
    "# properties  matplotlib.patch.Patch \n",
    "props = dict(boxstyle='round', facecolor='aqua', alpha=0.5)\n",
    "\n",
    "# place a text box in upper left in axes coords\n",
    "\n",
    "ax.text(0.6, 0.95, txtstr, transform=ax.transAxes, fontsize=14,\n",
    "        verticalalignment='top', bbox=props)\n",
    "\n",
    "ax.set_xlabel(\"Epochs\")\n",
    "ax.set_ylabel(\"Error\")\n",
    "ax.set_title('Overall')\n",
    "ax.grid();\n",
    "\n",
    "ax = axes[1]\n",
    "y1 = loss_df.columns[1]\n",
    "y2 = loss_df.columns[3]\n",
    "loss_df[-l_range:].plot( y = [y1, y2], ax = ax)\n",
    "\n",
    "# little beautification\n",
    "txtstr = \"Errors: \\n  Start : {:7.4f}\\n   End : {:7.4f}\".format(loss_df.iloc[0][y1],\n",
    "                                                                loss_df.iloc[-1][y2]) #text to plot\n",
    "\n",
    "# place a text box in upper left in axes coords\n",
    "\n",
    "ax.text(0.6, 0.95, txtstr, transform=ax.transAxes, fontsize=14,\n",
    "        verticalalignment='top', bbox=props)\n",
    "\n",
    "ax.set_xlabel(\"Epochs\")\n",
    "ax.set_ylabel(\"Metrics\")\n",
    "ax.set_title(y1.capitalize())\n",
    "ax.grid();\n",
    "plt.tight_layout()"
   ]
  },
  {
   "cell_type": "code",
   "execution_count": 891,
   "metadata": {},
   "outputs": [
    {
     "data": {
      "text/html": [
       "<div>\n",
       "<style scoped>\n",
       "    .dataframe tbody tr th:only-of-type {\n",
       "        vertical-align: middle;\n",
       "    }\n",
       "\n",
       "    .dataframe tbody tr th {\n",
       "        vertical-align: top;\n",
       "    }\n",
       "\n",
       "    .dataframe thead th {\n",
       "        text-align: right;\n",
       "    }\n",
       "</style>\n",
       "<table border=\"1\" class=\"dataframe\">\n",
       "  <thead>\n",
       "    <tr style=\"text-align: right;\">\n",
       "      <th></th>\n",
       "      <th>loss</th>\n",
       "      <th>accuracy</th>\n",
       "      <th>val_loss</th>\n",
       "      <th>val_accuracy</th>\n",
       "    </tr>\n",
       "  </thead>\n",
       "  <tbody>\n",
       "    <tr>\n",
       "      <th>100</th>\n",
       "      <td>0.310937</td>\n",
       "      <td>0.976562</td>\n",
       "      <td>0.407721</td>\n",
       "      <td>0.905263</td>\n",
       "    </tr>\n",
       "  </tbody>\n",
       "</table>\n",
       "</div>"
      ],
      "text/plain": [
       "         loss  accuracy  val_loss  val_accuracy\n",
       "100  0.310937  0.976562  0.407721      0.905263"
      ]
     },
     "execution_count": 891,
     "metadata": {},
     "output_type": "execute_result"
    }
   ],
   "source": [
    "loss_df[loss_df['val_loss'] == loss_df['val_loss'].min()]"
   ]
  },
  {
   "cell_type": "code",
   "execution_count": 892,
   "metadata": {},
   "outputs": [
    {
     "data": {
      "text/plain": [
       "'.../models/ionosphere'"
      ]
     },
     "execution_count": 892,
     "metadata": {},
     "output_type": "execute_result"
    }
   ],
   "source": [
    "# Chceckpoint\n",
    "checkpointPath = os.path.join(modelDir, subDir)\n",
    "checkpointPath"
   ]
  },
  {
   "cell_type": "code",
   "execution_count": 893,
   "metadata": {},
   "outputs": [],
   "source": [
    "model_check_point = tf.keras.callbacks.ModelCheckpoint(\n",
    "    filepath = checkpointPath,\n",
    "    save_weights_only = True,\n",
    "    save_best_only = True,\n",
    "    monitor = 'val_loss',\n",
    "    verbose = 1\n",
    ")\n",
    "\n",
    "es_check_point = tf.keras.callbacks.EarlyStopping(\n",
    "    monitor='val_loss',\n",
    "    patience=PATIENCE,\n",
    "    verbose=1,\n",
    "    restore_best_weights=True,\n",
    "    start_from_epoch=0,\n",
    ")\n"
   ]
  },
  {
   "cell_type": "code",
   "execution_count": 894,
   "metadata": {},
   "outputs": [
    {
     "name": "stdout",
     "output_type": "stream",
     "text": [
      "Epoch 1/101\n",
      "\n",
      "Epoch 1: val_loss improved from inf to 0.40657, saving model to .../models/ionosphere\n",
      "8/8 - 0s - loss: 0.3088 - accuracy: 0.9766 - val_loss: 0.4066 - val_accuracy: 0.9053 - 357ms/epoch - 45ms/step\n",
      "Epoch 2/101\n",
      "\n",
      "Epoch 2: val_loss improved from 0.40657 to 0.40503, saving model to .../models/ionosphere\n",
      "8/8 - 0s - loss: 0.3074 - accuracy: 0.9766 - val_loss: 0.4050 - val_accuracy: 0.8947 - 251ms/epoch - 31ms/step\n",
      "Epoch 3/101\n",
      "\n",
      "Epoch 3: val_loss improved from 0.40503 to 0.40439, saving model to .../models/ionosphere\n",
      "8/8 - 0s - loss: 0.3057 - accuracy: 0.9766 - val_loss: 0.4044 - val_accuracy: 0.8947 - 139ms/epoch - 17ms/step\n",
      "Epoch 4/101\n",
      "\n",
      "Epoch 4: val_loss improved from 0.40439 to 0.40256, saving model to .../models/ionosphere\n",
      "8/8 - 0s - loss: 0.3044 - accuracy: 0.9766 - val_loss: 0.4026 - val_accuracy: 0.9053 - 148ms/epoch - 18ms/step\n",
      "Epoch 5/101\n",
      "\n",
      "Epoch 5: val_loss improved from 0.40256 to 0.40243, saving model to .../models/ionosphere\n",
      "8/8 - 0s - loss: 0.3026 - accuracy: 0.9766 - val_loss: 0.4024 - val_accuracy: 0.9053 - 192ms/epoch - 24ms/step\n",
      "Epoch 6/101\n",
      "\n",
      "Epoch 6: val_loss improved from 0.40243 to 0.40128, saving model to .../models/ionosphere\n",
      "8/8 - 0s - loss: 0.3007 - accuracy: 0.9766 - val_loss: 0.4013 - val_accuracy: 0.8947 - 208ms/epoch - 26ms/step\n",
      "Epoch 7/101\n",
      "\n",
      "Epoch 7: val_loss improved from 0.40128 to 0.39961, saving model to .../models/ionosphere\n",
      "8/8 - 0s - loss: 0.2995 - accuracy: 0.9766 - val_loss: 0.3996 - val_accuracy: 0.8947 - 243ms/epoch - 30ms/step\n",
      "Epoch 8/101\n",
      "\n",
      "Epoch 8: val_loss improved from 0.39961 to 0.39863, saving model to .../models/ionosphere\n",
      "8/8 - 0s - loss: 0.2977 - accuracy: 0.9766 - val_loss: 0.3986 - val_accuracy: 0.8842 - 185ms/epoch - 23ms/step\n",
      "Epoch 9/101\n",
      "\n",
      "Epoch 9: val_loss improved from 0.39863 to 0.39705, saving model to .../models/ionosphere\n",
      "8/8 - 0s - loss: 0.2965 - accuracy: 0.9766 - val_loss: 0.3971 - val_accuracy: 0.8842 - 197ms/epoch - 25ms/step\n",
      "Epoch 10/101\n",
      "\n",
      "Epoch 10: val_loss improved from 0.39705 to 0.39501, saving model to .../models/ionosphere\n",
      "8/8 - 0s - loss: 0.2947 - accuracy: 0.9766 - val_loss: 0.3950 - val_accuracy: 0.8842 - 200ms/epoch - 25ms/step\n",
      "Epoch 11/101\n",
      "\n",
      "Epoch 11: val_loss did not improve from 0.39501\n",
      "8/8 - 0s - loss: 0.2938 - accuracy: 0.9805 - val_loss: 0.3958 - val_accuracy: 0.8947 - 143ms/epoch - 18ms/step\n",
      "Epoch 12/101\n",
      "\n",
      "Epoch 12: val_loss improved from 0.39501 to 0.39320, saving model to .../models/ionosphere\n",
      "8/8 - 0s - loss: 0.2918 - accuracy: 0.9805 - val_loss: 0.3932 - val_accuracy: 0.8947 - 144ms/epoch - 18ms/step\n",
      "Epoch 13/101\n",
      "\n",
      "Epoch 13: val_loss did not improve from 0.39320\n",
      "8/8 - 0s - loss: 0.2902 - accuracy: 0.9805 - val_loss: 0.3935 - val_accuracy: 0.8947 - 99ms/epoch - 12ms/step\n",
      "Epoch 14/101\n",
      "\n",
      "Epoch 14: val_loss improved from 0.39320 to 0.39261, saving model to .../models/ionosphere\n",
      "8/8 - 0s - loss: 0.2886 - accuracy: 0.9805 - val_loss: 0.3926 - val_accuracy: 0.8947 - 203ms/epoch - 25ms/step\n",
      "Epoch 15/101\n",
      "\n",
      "Epoch 15: val_loss improved from 0.39261 to 0.39162, saving model to .../models/ionosphere\n",
      "8/8 - 0s - loss: 0.2871 - accuracy: 0.9805 - val_loss: 0.3916 - val_accuracy: 0.8947 - 135ms/epoch - 17ms/step\n",
      "Epoch 16/101\n",
      "\n",
      "Epoch 16: val_loss improved from 0.39162 to 0.39108, saving model to .../models/ionosphere\n",
      "8/8 - 0s - loss: 0.2858 - accuracy: 0.9805 - val_loss: 0.3911 - val_accuracy: 0.8947 - 211ms/epoch - 26ms/step\n",
      "Epoch 17/101\n",
      "\n",
      "Epoch 17: val_loss improved from 0.39108 to 0.39055, saving model to .../models/ionosphere\n",
      "8/8 - 0s - loss: 0.2844 - accuracy: 0.9805 - val_loss: 0.3906 - val_accuracy: 0.8947 - 235ms/epoch - 29ms/step\n",
      "Epoch 18/101\n",
      "\n",
      "Epoch 18: val_loss improved from 0.39055 to 0.38979, saving model to .../models/ionosphere\n",
      "8/8 - 0s - loss: 0.2833 - accuracy: 0.9805 - val_loss: 0.3898 - val_accuracy: 0.8947 - 206ms/epoch - 26ms/step\n",
      "Epoch 19/101\n",
      "\n",
      "Epoch 19: val_loss improved from 0.38979 to 0.38921, saving model to .../models/ionosphere\n",
      "8/8 - 0s - loss: 0.2812 - accuracy: 0.9805 - val_loss: 0.3892 - val_accuracy: 0.8947 - 196ms/epoch - 24ms/step\n",
      "Epoch 20/101\n",
      "\n",
      "Epoch 20: val_loss improved from 0.38921 to 0.38788, saving model to .../models/ionosphere\n",
      "8/8 - 0s - loss: 0.2800 - accuracy: 0.9805 - val_loss: 0.3879 - val_accuracy: 0.8947 - 200ms/epoch - 25ms/step\n",
      "Epoch 21/101\n",
      "\n",
      "Epoch 21: val_loss improved from 0.38788 to 0.38698, saving model to .../models/ionosphere\n",
      "8/8 - 0s - loss: 0.2792 - accuracy: 0.9805 - val_loss: 0.3870 - val_accuracy: 0.8947 - 186ms/epoch - 23ms/step\n",
      "Epoch 22/101\n",
      "\n",
      "Epoch 22: val_loss did not improve from 0.38698\n",
      "8/8 - 0s - loss: 0.2774 - accuracy: 0.9805 - val_loss: 0.3882 - val_accuracy: 0.8947 - 141ms/epoch - 18ms/step\n",
      "Epoch 23/101\n",
      "\n",
      "Epoch 23: val_loss improved from 0.38698 to 0.38668, saving model to .../models/ionosphere\n",
      "8/8 - 0s - loss: 0.2763 - accuracy: 0.9805 - val_loss: 0.3867 - val_accuracy: 0.8947 - 182ms/epoch - 23ms/step\n",
      "Epoch 24/101\n",
      "\n",
      "Epoch 24: val_loss improved from 0.38668 to 0.38524, saving model to .../models/ionosphere\n",
      "8/8 - 0s - loss: 0.2756 - accuracy: 0.9805 - val_loss: 0.3852 - val_accuracy: 0.8947 - 208ms/epoch - 26ms/step\n",
      "Epoch 25/101\n",
      "\n",
      "Epoch 25: val_loss did not improve from 0.38524\n",
      "8/8 - 0s - loss: 0.2750 - accuracy: 0.9805 - val_loss: 0.3859 - val_accuracy: 0.8842 - 147ms/epoch - 18ms/step\n",
      "Epoch 26/101\n",
      "\n",
      "Epoch 26: val_loss improved from 0.38524 to 0.38385, saving model to .../models/ionosphere\n",
      "8/8 - 0s - loss: 0.2724 - accuracy: 0.9805 - val_loss: 0.3838 - val_accuracy: 0.8947 - 183ms/epoch - 23ms/step\n",
      "Epoch 27/101\n",
      "\n",
      "Epoch 27: val_loss did not improve from 0.38385\n",
      "8/8 - 0s - loss: 0.2712 - accuracy: 0.9805 - val_loss: 0.3841 - val_accuracy: 0.8947 - 119ms/epoch - 15ms/step\n",
      "Epoch 28/101\n",
      "\n",
      "Epoch 28: val_loss improved from 0.38385 to 0.38299, saving model to .../models/ionosphere\n",
      "8/8 - 0s - loss: 0.2700 - accuracy: 0.9805 - val_loss: 0.3830 - val_accuracy: 0.8947 - 169ms/epoch - 21ms/step\n",
      "Epoch 29/101\n",
      "\n",
      "Epoch 29: val_loss improved from 0.38299 to 0.38156, saving model to .../models/ionosphere\n",
      "8/8 - 0s - loss: 0.2687 - accuracy: 0.9805 - val_loss: 0.3816 - val_accuracy: 0.8947 - 170ms/epoch - 21ms/step\n",
      "Epoch 30/101\n",
      "\n",
      "Epoch 30: val_loss did not improve from 0.38156\n",
      "8/8 - 0s - loss: 0.2672 - accuracy: 0.9805 - val_loss: 0.3821 - val_accuracy: 0.8947 - 138ms/epoch - 17ms/step\n",
      "Epoch 31/101\n",
      "\n",
      "Epoch 31: val_loss improved from 0.38156 to 0.38143, saving model to .../models/ionosphere\n",
      "8/8 - 0s - loss: 0.2662 - accuracy: 0.9805 - val_loss: 0.3814 - val_accuracy: 0.8947 - 149ms/epoch - 19ms/step\n",
      "Epoch 32/101\n",
      "\n",
      "Epoch 32: val_loss improved from 0.38143 to 0.37997, saving model to .../models/ionosphere\n",
      "8/8 - 0s - loss: 0.2661 - accuracy: 0.9805 - val_loss: 0.3800 - val_accuracy: 0.8947 - 188ms/epoch - 23ms/step\n",
      "Epoch 33/101\n",
      "\n",
      "Epoch 33: val_loss did not improve from 0.37997\n",
      "8/8 - 0s - loss: 0.2647 - accuracy: 0.9805 - val_loss: 0.3814 - val_accuracy: 0.8947 - 165ms/epoch - 21ms/step\n",
      "Epoch 34/101\n",
      "\n",
      "Epoch 34: val_loss did not improve from 0.37997\n",
      "8/8 - 0s - loss: 0.2633 - accuracy: 0.9805 - val_loss: 0.3819 - val_accuracy: 0.8947 - 128ms/epoch - 16ms/step\n",
      "Epoch 35/101\n",
      "\n",
      "Epoch 35: val_loss did not improve from 0.37997\n",
      "8/8 - 0s - loss: 0.2624 - accuracy: 0.9805 - val_loss: 0.3818 - val_accuracy: 0.8947 - 99ms/epoch - 12ms/step\n",
      "Epoch 36/101\n",
      "\n",
      "Epoch 36: val_loss did not improve from 0.37997\n",
      "8/8 - 0s - loss: 0.2609 - accuracy: 0.9805 - val_loss: 0.3816 - val_accuracy: 0.8947 - 93ms/epoch - 12ms/step\n",
      "Epoch 37/101\n",
      "\n",
      "Epoch 37: val_loss did not improve from 0.37997\n",
      "8/8 - 0s - loss: 0.2597 - accuracy: 0.9805 - val_loss: 0.3810 - val_accuracy: 0.8947 - 117ms/epoch - 15ms/step\n",
      "Epoch 38/101\n",
      "\n",
      "Epoch 38: val_loss did not improve from 0.37997\n",
      "8/8 - 0s - loss: 0.2587 - accuracy: 0.9805 - val_loss: 0.3815 - val_accuracy: 0.8947 - 154ms/epoch - 19ms/step\n",
      "Epoch 39/101\n",
      "\n",
      "Epoch 39: val_loss did not improve from 0.37997\n",
      "8/8 - 0s - loss: 0.2585 - accuracy: 0.9805 - val_loss: 0.3807 - val_accuracy: 0.8947 - 134ms/epoch - 17ms/step\n",
      "Epoch 40/101\n",
      "\n",
      "Epoch 40: val_loss did not improve from 0.37997\n",
      "8/8 - 0s - loss: 0.2580 - accuracy: 0.9805 - val_loss: 0.3804 - val_accuracy: 0.8947 - 120ms/epoch - 15ms/step\n",
      "Epoch 41/101\n",
      "\n",
      "Epoch 41: val_loss did not improve from 0.37997\n",
      "8/8 - 0s - loss: 0.2566 - accuracy: 0.9805 - val_loss: 0.3806 - val_accuracy: 0.8947 - 146ms/epoch - 18ms/step\n",
      "Epoch 42/101\n",
      "\n",
      "Epoch 42: val_loss did not improve from 0.37997\n",
      "Restoring model weights from the end of the best epoch: 32.\n",
      "8/8 - 0s - loss: 0.2555 - accuracy: 0.9805 - val_loss: 0.3816 - val_accuracy: 0.8947 - 140ms/epoch - 18ms/step\n",
      "Epoch 42: early stopping\n"
     ]
    }
   ],
   "source": [
    "history = model.fit(X_train, y_train, \n",
    "                    validation_data=[X_test, y_test],\n",
    "                    epochs=EPOCHS,\n",
    "                    verbose=2,\n",
    "                    batch_size=BATCH_SIZE,\n",
    "                    callbacks=[model_check_point, es_check_point ]\n",
    "                    )"
   ]
  },
  {
   "cell_type": "code",
   "execution_count": 895,
   "metadata": {},
   "outputs": [
    {
     "name": "stdout",
     "output_type": "stream",
     "text": [
      "8/8 [==============================] - 0s 7ms/step - loss: 0.2642 - accuracy: 0.9805\n"
     ]
    },
    {
     "data": {
      "text/plain": [
       "[0.26417410373687744, 0.98046875]"
      ]
     },
     "execution_count": 895,
     "metadata": {},
     "output_type": "execute_result"
    }
   ],
   "source": [
    "model.evaluate(X_train, y_train)"
   ]
  },
  {
   "cell_type": "code",
   "execution_count": 896,
   "metadata": {},
   "outputs": [
    {
     "name": "stdout",
     "output_type": "stream",
     "text": [
      "3/3 [==============================] - 0s 5ms/step - loss: 0.3800 - accuracy: 0.8947\n"
     ]
    },
    {
     "data": {
      "text/plain": [
       "[0.37996652722358704, 0.8947368264198303]"
      ]
     },
     "execution_count": 896,
     "metadata": {},
     "output_type": "execute_result"
    }
   ],
   "source": [
    "model.evaluate(X_test, y_test)"
   ]
  },
  {
   "cell_type": "code",
   "execution_count": 897,
   "metadata": {},
   "outputs": [
    {
     "name": "stderr",
     "output_type": "stream",
     "text": [
      "WARNING:absl:Found untraced functions such as _update_step_xla while saving (showing 1 of 1). These functions will not be directly callable after loading.\n"
     ]
    },
    {
     "name": "stdout",
     "output_type": "stream",
     "text": [
      "INFO:tensorflow:Assets written to: .../models/ionosphere/vanila/assets\n"
     ]
    },
    {
     "name": "stderr",
     "output_type": "stream",
     "text": [
      "INFO:tensorflow:Assets written to: .../models/ionosphere/vanila/assets\n"
     ]
    }
   ],
   "source": [
    "savePath = os.path.join(modelDir, subDir, 'vanila')\n",
    "tf.keras.models.save_model(model, savePath)"
   ]
  },
  {
   "cell_type": "code",
   "execution_count": 898,
   "metadata": {},
   "outputs": [],
   "source": [
    "del model"
   ]
  },
  {
   "cell_type": "code",
   "execution_count": 899,
   "metadata": {},
   "outputs": [],
   "source": [
    "#model.summary()"
   ]
  },
  {
   "cell_type": "code",
   "execution_count": 900,
   "metadata": {},
   "outputs": [
    {
     "name": "stdout",
     "output_type": "stream",
     "text": [
      "Model: \"model_33\"\n",
      "_________________________________________________________________\n",
      " Layer (type)                Output Shape              Param #   \n",
      "=================================================================\n",
      " input_34 (InputLayer)       [(None, 34)]              0         \n",
      "                                                                 \n",
      " dense_99 (Dense)            (None, 18)                630       \n",
      "                                                                 \n",
      " dense_100 (Dense)           (None, 9)                 171       \n",
      "                                                                 \n",
      " dense_101 (Dense)           (None, 2)                 20        \n",
      "                                                                 \n",
      "=================================================================\n",
      "Total params: 821\n",
      "Trainable params: 821\n",
      "Non-trainable params: 0\n",
      "_________________________________________________________________\n"
     ]
    }
   ],
   "source": [
    "model1 = tf.keras.models.load_model(savePath)\n",
    "model1.summary()"
   ]
  },
  {
   "cell_type": "code",
   "execution_count": 901,
   "metadata": {},
   "outputs": [
    {
     "name": "stdout",
     "output_type": "stream",
     "text": [
      "Model: \"model_34\"\n",
      "_________________________________________________________________\n",
      " Layer (type)                Output Shape              Param #   \n",
      "=================================================================\n",
      " input_35 (InputLayer)       [(None, 33)]              0         \n",
      "                                                                 \n",
      " dense_102 (Dense)           (None, 18)                612       \n",
      "                                                                 \n",
      " dense_103 (Dense)           (None, 9)                 171       \n",
      "                                                                 \n",
      " dense_104 (Dense)           (None, 2)                 20        \n",
      "                                                                 \n",
      "=================================================================\n",
      "Total params: 803\n",
      "Trainable params: 803\n",
      "Non-trainable params: 0\n",
      "_________________________________________________________________\n"
     ]
    }
   ],
   "source": [
    "input_layer = tf.keras.Input(shape=(33,))\n",
    "\n",
    "x = tf.keras.layers.Dense(18, activation='swish',\n",
    "                          kernel_regularizer = knl_reg ) (input_layer)\n",
    "\n",
    "x = tf.keras.layers.Dense(9, activation='swish',\n",
    "                          kernel_regularizer = knl_reg ) (x)\n",
    "\n",
    "output_layer = tf.keras.layers.Dense(2) (x)\n",
    "\n",
    "model = tf.keras.Model(inputs= input_layer, outputs = output_layer)\n",
    "\n",
    "model.summary()"
   ]
  },
  {
   "cell_type": "code",
   "execution_count": 902,
   "metadata": {},
   "outputs": [
    {
     "ename": "ValueError",
     "evalue": "Received incompatible tensor with shape (34, 18) when attempting to restore variable with shape (33, 18) and name dense_102/kernel:0.",
     "output_type": "error",
     "traceback": [
      "\u001b[0;31m---------------------------------------------------------------------------\u001b[0m",
      "\u001b[0;31mValueError\u001b[0m                                Traceback (most recent call last)",
      "\u001b[1;32m/home/dai/Documents/DNN/Assignments/Group Assignment/A07_tf_group_assignment_ionosphere_001.ipynb Cell 55\u001b[0m line \u001b[0;36m1\n\u001b[0;32m----> <a href='vscode-notebook-cell:/home/dai/Documents/DNN/Assignments/Group%20Assignment/A07_tf_group_assignment_ionosphere_001.ipynb#Y102sZmlsZQ%3D%3D?line=0'>1</a>\u001b[0m model\u001b[39m.\u001b[39;49mload_weights(checkpointPath)\n",
      "File \u001b[0;32m~/Documents/Machine Learning/.conda/lib/python3.11/site-packages/keras/utils/traceback_utils.py:70\u001b[0m, in \u001b[0;36mfilter_traceback.<locals>.error_handler\u001b[0;34m(*args, **kwargs)\u001b[0m\n\u001b[1;32m     67\u001b[0m     filtered_tb \u001b[39m=\u001b[39m _process_traceback_frames(e\u001b[39m.\u001b[39m__traceback__)\n\u001b[1;32m     68\u001b[0m     \u001b[39m# To get the full stack trace, call:\u001b[39;00m\n\u001b[1;32m     69\u001b[0m     \u001b[39m# `tf.debugging.disable_traceback_filtering()`\u001b[39;00m\n\u001b[0;32m---> 70\u001b[0m     \u001b[39mraise\u001b[39;00m e\u001b[39m.\u001b[39mwith_traceback(filtered_tb) \u001b[39mfrom\u001b[39;00m \u001b[39mNone\u001b[39;00m\n\u001b[1;32m     71\u001b[0m \u001b[39mfinally\u001b[39;00m:\n\u001b[1;32m     72\u001b[0m     \u001b[39mdel\u001b[39;00m filtered_tb\n",
      "File \u001b[0;32m~/Documents/Machine Learning/.conda/lib/python3.11/site-packages/tensorflow/python/ops/resource_variable_ops.py:720\u001b[0m, in \u001b[0;36mBaseResourceVariable._restore_from_tensors\u001b[0;34m(self, restored_tensors)\u001b[0m\n\u001b[1;32m    717\u001b[0m   assigned_variable \u001b[39m=\u001b[39m shape_safe_assign_variable_handle(\n\u001b[1;32m    718\u001b[0m       \u001b[39mself\u001b[39m\u001b[39m.\u001b[39mhandle, \u001b[39mself\u001b[39m\u001b[39m.\u001b[39mshape, restored_tensor)\n\u001b[1;32m    719\u001b[0m \u001b[39mexcept\u001b[39;00m \u001b[39mValueError\u001b[39;00m \u001b[39mas\u001b[39;00m e:\n\u001b[0;32m--> 720\u001b[0m   \u001b[39mraise\u001b[39;00m \u001b[39mValueError\u001b[39;00m(\n\u001b[1;32m    721\u001b[0m       \u001b[39mf\u001b[39m\u001b[39m\"\u001b[39m\u001b[39mReceived incompatible tensor with shape \u001b[39m\u001b[39m{\u001b[39;00mrestored_tensor\u001b[39m.\u001b[39mshape\u001b[39m}\u001b[39;00m\u001b[39m \u001b[39m\u001b[39m\"\u001b[39m\n\u001b[1;32m    722\u001b[0m       \u001b[39mf\u001b[39m\u001b[39m\"\u001b[39m\u001b[39mwhen attempting to restore variable with shape \u001b[39m\u001b[39m{\u001b[39;00m\u001b[39mself\u001b[39m\u001b[39m.\u001b[39mshape\u001b[39m}\u001b[39;00m\u001b[39m \u001b[39m\u001b[39m\"\u001b[39m\n\u001b[1;32m    723\u001b[0m       \u001b[39mf\u001b[39m\u001b[39m\"\u001b[39m\u001b[39mand name \u001b[39m\u001b[39m{\u001b[39;00m\u001b[39mself\u001b[39m\u001b[39m.\u001b[39mname\u001b[39m}\u001b[39;00m\u001b[39m.\u001b[39m\u001b[39m\"\u001b[39m) \u001b[39mfrom\u001b[39;00m \u001b[39me\u001b[39;00m\n\u001b[1;32m    724\u001b[0m \u001b[39mreturn\u001b[39;00m assigned_variable\n",
      "\u001b[0;31mValueError\u001b[0m: Received incompatible tensor with shape (34, 18) when attempting to restore variable with shape (33, 18) and name dense_102/kernel:0."
     ]
    }
   ],
   "source": [
    "model.load_weights(checkpointPath)"
   ]
  },
  {
   "cell_type": "code",
   "execution_count": null,
   "metadata": {},
   "outputs": [],
   "source": [
    "model.summary()"
   ]
  },
  {
   "cell_type": "code",
   "execution_count": null,
   "metadata": {},
   "outputs": [],
   "source": [
    "model.compile(optimizer='adam', \n",
    "              loss=loss_function,\n",
    "              metrics=['accuracy'])\n",
    "\n",
    "model.evaluate(X_test, y_test)"
   ]
  }
 ],
 "metadata": {
  "accelerator": "GPU",
  "colab": {
   "name": "S05a_one_hidden_layer_with_tanh_wip.ipynb",
   "provenance": []
  },
  "kernelspec": {
   "display_name": "Python 3 (ipykernel)",
   "language": "python",
   "name": "python3"
  },
  "language_info": {
   "codemirror_mode": {
    "name": "ipython",
    "version": 3
   },
   "file_extension": ".py",
   "mimetype": "text/x-python",
   "name": "python",
   "nbconvert_exporter": "python",
   "pygments_lexer": "ipython3",
   "version": "3.11.5"
  }
 },
 "nbformat": 4,
 "nbformat_minor": 4
}
