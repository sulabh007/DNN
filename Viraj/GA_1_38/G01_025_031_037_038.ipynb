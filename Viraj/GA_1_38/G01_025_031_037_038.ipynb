{
 "cells": [
  {
   "cell_type": "code",
   "execution_count": 44,
   "metadata": {
    "id": "kFZRpLpK02pB"
   },
   "outputs": [],
   "source": [
    "#!/usr/bin/env python\n",
    "# -*- coding: utf-8 -*-"
   ]
  },
  {
   "cell_type": "markdown",
   "metadata": {
    "id": "deSnZmVy02pF"
   },
   "source": [
    "\n",
    "\n",
    "# Deep Neural Networks\n",
    "\n",
    "## Assignment\n",
    "### Neural Network with :\n",
    "\n",
    "- **Ionosphere Data**\n",
    "- **Binary  Classification**"
   ]
  },
  {
   "cell_type": "markdown",
   "metadata": {},
   "source": [
    "|#|Name|PRN|\n",
    "|:-:|:-:|:-:|\n",
    "|1|Ruchir Saini|230940128025|\n",
    "|2|Sulabh Jha|230940128031|\n",
    "|3|Vikrant Verma|230940128037|\n",
    "|4|Viraj Patil|230940128038|"
   ]
  },
  {
   "cell_type": "code",
   "execution_count": 45,
   "metadata": {
    "id": "rt0pfyeA02pK"
   },
   "outputs": [],
   "source": [
    "###-----------------\n",
    "### Import Libraries\n",
    "###-----------------\n",
    "\n",
    "import os\n",
    "import numpy as np\n",
    "import pandas as pd\n",
    "import matplotlib.pyplot as plt\n",
    "from sklearn import datasets\n",
    "from collections.abc import Callable\n",
    "from typing import Literal\n",
    "from sklearn.model_selection import train_test_split\n",
    "from sklearn.metrics import accuracy_score, confusion_matrix, classification_report, ConfusionMatrixDisplay\n",
    "from sklearn.preprocessing import StandardScaler\n",
    "import tensorflow as tf \n",
    "%matplotlib inline"
   ]
  },
  {
   "cell_type": "code",
   "execution_count": 46,
   "metadata": {},
   "outputs": [],
   "source": [
    "# gpus = tf.config.list_physical_devices('GPU')\n",
    "\n",
    "# try:\n",
    "#     for g in gpus:\n",
    "#         tf.config.experimental.set_memory_growth(g, True)\n",
    "#     logical_gpus = tf.config.list_logical_devices('GPU')\n",
    "#     print (len(gpus), 'Phusical GPUs', len(logical_gpus), 'Logical GPUs')\n",
    "# except:\n",
    "#     print ('invalid device')"
   ]
  },
  {
   "cell_type": "code",
   "execution_count": 47,
   "metadata": {
    "id": "__T9cczP02pL"
   },
   "outputs": [],
   "source": [
    "###----------------\n",
    "### Some parameters\n",
    "###----------------\n",
    "\n",
    "inpDir = '../../input'\n",
    "outDir = '../output'\n",
    "subDir = 'ionosphere'\n",
    "modelDir = '.../models'\n",
    "\n",
    "RANDOM_STATE = 24 # REMEMBER: to remove at the time of promotion to production\n",
    "np.random.seed(RANDOM_STATE) # Set Random Seed for reproducible  results\n",
    "\n",
    "EPOCHS = 101 # number of epochs\n",
    "ALPHA = 0.01 # learning rate\n",
    "TEST_SIZE = 0.2\n",
    "BATCH_SIZE = 32\n",
    "TRAIN_SIZE = 256 # fix size of train set sot that we have batches of same size\n",
    "PATIENCE = 10\n",
    "\n",
    "# parameters for Matplotlib\n",
    "params = {'legend.fontsize': 'x-large',\n",
    "          'figure.figsize': (15, 8),\n",
    "          'axes.labelsize': 'x-large',\n",
    "          'axes.titlesize':'x-large',\n",
    "          'xtick.labelsize':'x-large',\n",
    "          'ytick.labelsize':'x-large'\n",
    "         }\n",
    "\n",
    "CMAP = 'coolwarm' # plt.cm.Spectral\n",
    "\n",
    "plt.rcParams.update(params)"
   ]
  },
  {
   "cell_type": "markdown",
   "metadata": {
    "id": "7bhVN20X02pN"
   },
   "source": [
    "## Generate Data Set\n",
    "Ionosphere Dataset"
   ]
  },
  {
   "cell_type": "code",
   "execution_count": 48,
   "metadata": {
    "id": "LXZ37P4G02pP"
   },
   "outputs": [
    {
     "data": {
      "text/html": [
       "<div>\n",
       "<style scoped>\n",
       "    .dataframe tbody tr th:only-of-type {\n",
       "        vertical-align: middle;\n",
       "    }\n",
       "\n",
       "    .dataframe tbody tr th {\n",
       "        vertical-align: top;\n",
       "    }\n",
       "\n",
       "    .dataframe thead th {\n",
       "        text-align: right;\n",
       "    }\n",
       "</style>\n",
       "<table border=\"1\" class=\"dataframe\">\n",
       "  <thead>\n",
       "    <tr style=\"text-align: right;\">\n",
       "      <th></th>\n",
       "      <th>0</th>\n",
       "      <th>1</th>\n",
       "      <th>2</th>\n",
       "      <th>3</th>\n",
       "      <th>4</th>\n",
       "      <th>5</th>\n",
       "      <th>6</th>\n",
       "      <th>7</th>\n",
       "      <th>8</th>\n",
       "      <th>9</th>\n",
       "      <th>...</th>\n",
       "      <th>25</th>\n",
       "      <th>26</th>\n",
       "      <th>27</th>\n",
       "      <th>28</th>\n",
       "      <th>29</th>\n",
       "      <th>30</th>\n",
       "      <th>31</th>\n",
       "      <th>32</th>\n",
       "      <th>33</th>\n",
       "      <th>34</th>\n",
       "    </tr>\n",
       "  </thead>\n",
       "  <tbody>\n",
       "    <tr>\n",
       "      <th>0</th>\n",
       "      <td>1</td>\n",
       "      <td>0</td>\n",
       "      <td>0.99539</td>\n",
       "      <td>-0.05889</td>\n",
       "      <td>0.85243</td>\n",
       "      <td>0.02306</td>\n",
       "      <td>0.83398</td>\n",
       "      <td>-0.37708</td>\n",
       "      <td>1.00000</td>\n",
       "      <td>0.03760</td>\n",
       "      <td>...</td>\n",
       "      <td>-0.51171</td>\n",
       "      <td>0.41078</td>\n",
       "      <td>-0.46168</td>\n",
       "      <td>0.21266</td>\n",
       "      <td>-0.34090</td>\n",
       "      <td>0.42267</td>\n",
       "      <td>-0.54487</td>\n",
       "      <td>0.18641</td>\n",
       "      <td>-0.45300</td>\n",
       "      <td>g</td>\n",
       "    </tr>\n",
       "    <tr>\n",
       "      <th>1</th>\n",
       "      <td>1</td>\n",
       "      <td>0</td>\n",
       "      <td>1.00000</td>\n",
       "      <td>-0.18829</td>\n",
       "      <td>0.93035</td>\n",
       "      <td>-0.36156</td>\n",
       "      <td>-0.10868</td>\n",
       "      <td>-0.93597</td>\n",
       "      <td>1.00000</td>\n",
       "      <td>-0.04549</td>\n",
       "      <td>...</td>\n",
       "      <td>-0.26569</td>\n",
       "      <td>-0.20468</td>\n",
       "      <td>-0.18401</td>\n",
       "      <td>-0.19040</td>\n",
       "      <td>-0.11593</td>\n",
       "      <td>-0.16626</td>\n",
       "      <td>-0.06288</td>\n",
       "      <td>-0.13738</td>\n",
       "      <td>-0.02447</td>\n",
       "      <td>b</td>\n",
       "    </tr>\n",
       "    <tr>\n",
       "      <th>2</th>\n",
       "      <td>1</td>\n",
       "      <td>0</td>\n",
       "      <td>1.00000</td>\n",
       "      <td>-0.03365</td>\n",
       "      <td>1.00000</td>\n",
       "      <td>0.00485</td>\n",
       "      <td>1.00000</td>\n",
       "      <td>-0.12062</td>\n",
       "      <td>0.88965</td>\n",
       "      <td>0.01198</td>\n",
       "      <td>...</td>\n",
       "      <td>-0.40220</td>\n",
       "      <td>0.58984</td>\n",
       "      <td>-0.22145</td>\n",
       "      <td>0.43100</td>\n",
       "      <td>-0.17365</td>\n",
       "      <td>0.60436</td>\n",
       "      <td>-0.24180</td>\n",
       "      <td>0.56045</td>\n",
       "      <td>-0.38238</td>\n",
       "      <td>g</td>\n",
       "    </tr>\n",
       "    <tr>\n",
       "      <th>3</th>\n",
       "      <td>1</td>\n",
       "      <td>0</td>\n",
       "      <td>1.00000</td>\n",
       "      <td>-0.45161</td>\n",
       "      <td>1.00000</td>\n",
       "      <td>1.00000</td>\n",
       "      <td>0.71216</td>\n",
       "      <td>-1.00000</td>\n",
       "      <td>0.00000</td>\n",
       "      <td>0.00000</td>\n",
       "      <td>...</td>\n",
       "      <td>0.90695</td>\n",
       "      <td>0.51613</td>\n",
       "      <td>1.00000</td>\n",
       "      <td>1.00000</td>\n",
       "      <td>-0.20099</td>\n",
       "      <td>0.25682</td>\n",
       "      <td>1.00000</td>\n",
       "      <td>-0.32382</td>\n",
       "      <td>1.00000</td>\n",
       "      <td>b</td>\n",
       "    </tr>\n",
       "    <tr>\n",
       "      <th>4</th>\n",
       "      <td>1</td>\n",
       "      <td>0</td>\n",
       "      <td>1.00000</td>\n",
       "      <td>-0.02401</td>\n",
       "      <td>0.94140</td>\n",
       "      <td>0.06531</td>\n",
       "      <td>0.92106</td>\n",
       "      <td>-0.23255</td>\n",
       "      <td>0.77152</td>\n",
       "      <td>-0.16399</td>\n",
       "      <td>...</td>\n",
       "      <td>-0.65158</td>\n",
       "      <td>0.13290</td>\n",
       "      <td>-0.53206</td>\n",
       "      <td>0.02431</td>\n",
       "      <td>-0.62197</td>\n",
       "      <td>-0.05707</td>\n",
       "      <td>-0.59573</td>\n",
       "      <td>-0.04608</td>\n",
       "      <td>-0.65697</td>\n",
       "      <td>g</td>\n",
       "    </tr>\n",
       "  </tbody>\n",
       "</table>\n",
       "<p>5 rows × 35 columns</p>\n",
       "</div>"
      ],
      "text/plain": [
       "   0   1        2        3        4        5        6        7        8   \\\n",
       "0   1   0  0.99539 -0.05889  0.85243  0.02306  0.83398 -0.37708  1.00000   \n",
       "1   1   0  1.00000 -0.18829  0.93035 -0.36156 -0.10868 -0.93597  1.00000   \n",
       "2   1   0  1.00000 -0.03365  1.00000  0.00485  1.00000 -0.12062  0.88965   \n",
       "3   1   0  1.00000 -0.45161  1.00000  1.00000  0.71216 -1.00000  0.00000   \n",
       "4   1   0  1.00000 -0.02401  0.94140  0.06531  0.92106 -0.23255  0.77152   \n",
       "\n",
       "        9   ...       25       26       27       28       29       30  \\\n",
       "0  0.03760  ... -0.51171  0.41078 -0.46168  0.21266 -0.34090  0.42267   \n",
       "1 -0.04549  ... -0.26569 -0.20468 -0.18401 -0.19040 -0.11593 -0.16626   \n",
       "2  0.01198  ... -0.40220  0.58984 -0.22145  0.43100 -0.17365  0.60436   \n",
       "3  0.00000  ...  0.90695  0.51613  1.00000  1.00000 -0.20099  0.25682   \n",
       "4 -0.16399  ... -0.65158  0.13290 -0.53206  0.02431 -0.62197 -0.05707   \n",
       "\n",
       "        31       32       33  34  \n",
       "0 -0.54487  0.18641 -0.45300   g  \n",
       "1 -0.06288 -0.13738 -0.02447   b  \n",
       "2 -0.24180  0.56045 -0.38238   g  \n",
       "3  1.00000 -0.32382  1.00000   b  \n",
       "4 -0.59573 -0.04608 -0.65697   g  \n",
       "\n",
       "[5 rows x 35 columns]"
      ]
     },
     "execution_count": 48,
     "metadata": {},
     "output_type": "execute_result"
    }
   ],
   "source": [
    "data_df = pd.read_csv('ionosphere.data', header=None)\n",
    "data_df.head()"
   ]
  },
  {
   "cell_type": "code",
   "execution_count": 49,
   "metadata": {
    "colab": {
     "base_uri": "https://localhost:8080/",
     "height": 596
    },
    "id": "PWMWQKQ702pQ",
    "outputId": "80ccd743-533a-4a5d-c009-9318021035a1",
    "scrolled": true
   },
   "outputs": [
    {
     "data": {
      "text/plain": [
       "(351, 35)"
      ]
     },
     "execution_count": 49,
     "metadata": {},
     "output_type": "execute_result"
    }
   ],
   "source": [
    "data_df.shape"
   ]
  },
  {
   "cell_type": "code",
   "execution_count": 50,
   "metadata": {},
   "outputs": [
    {
     "data": {
      "text/plain": [
       "0     0\n",
       "1     0\n",
       "2     0\n",
       "3     0\n",
       "4     0\n",
       "5     0\n",
       "6     0\n",
       "7     0\n",
       "8     0\n",
       "9     0\n",
       "10    0\n",
       "11    0\n",
       "12    0\n",
       "13    0\n",
       "14    0\n",
       "15    0\n",
       "16    0\n",
       "17    0\n",
       "18    0\n",
       "19    0\n",
       "20    0\n",
       "21    0\n",
       "22    0\n",
       "23    0\n",
       "24    0\n",
       "25    0\n",
       "26    0\n",
       "27    0\n",
       "28    0\n",
       "29    0\n",
       "30    0\n",
       "31    0\n",
       "32    0\n",
       "33    0\n",
       "34    0\n",
       "dtype: int64"
      ]
     },
     "execution_count": 50,
     "metadata": {},
     "output_type": "execute_result"
    }
   ],
   "source": [
    "data_df.isnull().sum()"
   ]
  },
  {
   "cell_type": "code",
   "execution_count": 51,
   "metadata": {},
   "outputs": [
    {
     "data": {
      "text/plain": [
       "Index([               0,                1,                2,                3,\n",
       "                      4,                5,                6,                7,\n",
       "                      8,                9,               10,               11,\n",
       "                     12,               13,               14,               15,\n",
       "                     16,               17,               18,               19,\n",
       "                     20,               21,               22,               23,\n",
       "                     24,               25,               26,               27,\n",
       "                     28,               29,               30,               31,\n",
       "                     32,               33, 'Classification'],\n",
       "      dtype='object')"
      ]
     },
     "execution_count": 51,
     "metadata": {},
     "output_type": "execute_result"
    }
   ],
   "source": [
    "data_df = data_df.rename(columns={34: 'Classification'})\n",
    "data_df.columns"
   ]
  },
  {
   "cell_type": "code",
   "execution_count": 52,
   "metadata": {},
   "outputs": [
    {
     "data": {
      "text/plain": [
       "0                 0\n",
       "1                 0\n",
       "2                 0\n",
       "3                 0\n",
       "4                 0\n",
       "5                 0\n",
       "6                 0\n",
       "7                 0\n",
       "8                 0\n",
       "9                 0\n",
       "10                0\n",
       "11                0\n",
       "12                0\n",
       "13                0\n",
       "14                0\n",
       "15                0\n",
       "16                0\n",
       "17                0\n",
       "18                0\n",
       "19                0\n",
       "20                0\n",
       "21                0\n",
       "22                0\n",
       "23                0\n",
       "24                0\n",
       "25                0\n",
       "26                0\n",
       "27                0\n",
       "28                0\n",
       "29                0\n",
       "30                0\n",
       "31                0\n",
       "32                0\n",
       "33                0\n",
       "Classification    0\n",
       "dtype: int64"
      ]
     },
     "execution_count": 52,
     "metadata": {},
     "output_type": "execute_result"
    }
   ],
   "source": [
    "data_df.isna().sum()"
   ]
  },
  {
   "cell_type": "code",
   "execution_count": 53,
   "metadata": {},
   "outputs": [
    {
     "data": {
      "text/html": [
       "<div>\n",
       "<style scoped>\n",
       "    .dataframe tbody tr th:only-of-type {\n",
       "        vertical-align: middle;\n",
       "    }\n",
       "\n",
       "    .dataframe tbody tr th {\n",
       "        vertical-align: top;\n",
       "    }\n",
       "\n",
       "    .dataframe thead th {\n",
       "        text-align: right;\n",
       "    }\n",
       "</style>\n",
       "<table border=\"1\" class=\"dataframe\">\n",
       "  <thead>\n",
       "    <tr style=\"text-align: right;\">\n",
       "      <th></th>\n",
       "      <th>0</th>\n",
       "      <th>1</th>\n",
       "      <th>2</th>\n",
       "      <th>3</th>\n",
       "      <th>4</th>\n",
       "      <th>5</th>\n",
       "      <th>6</th>\n",
       "      <th>7</th>\n",
       "      <th>8</th>\n",
       "      <th>9</th>\n",
       "      <th>...</th>\n",
       "      <th>25</th>\n",
       "      <th>26</th>\n",
       "      <th>27</th>\n",
       "      <th>28</th>\n",
       "      <th>29</th>\n",
       "      <th>30</th>\n",
       "      <th>31</th>\n",
       "      <th>32</th>\n",
       "      <th>33</th>\n",
       "      <th>Classification</th>\n",
       "    </tr>\n",
       "  </thead>\n",
       "  <tbody>\n",
       "    <tr>\n",
       "      <th>0</th>\n",
       "      <td>1</td>\n",
       "      <td>0</td>\n",
       "      <td>0.99539</td>\n",
       "      <td>-0.05889</td>\n",
       "      <td>0.85243</td>\n",
       "      <td>0.02306</td>\n",
       "      <td>0.83398</td>\n",
       "      <td>-0.37708</td>\n",
       "      <td>1.00000</td>\n",
       "      <td>0.03760</td>\n",
       "      <td>...</td>\n",
       "      <td>-0.51171</td>\n",
       "      <td>0.41078</td>\n",
       "      <td>-0.46168</td>\n",
       "      <td>0.21266</td>\n",
       "      <td>-0.34090</td>\n",
       "      <td>0.42267</td>\n",
       "      <td>-0.54487</td>\n",
       "      <td>0.18641</td>\n",
       "      <td>-0.45300</td>\n",
       "      <td>g</td>\n",
       "    </tr>\n",
       "    <tr>\n",
       "      <th>1</th>\n",
       "      <td>1</td>\n",
       "      <td>0</td>\n",
       "      <td>1.00000</td>\n",
       "      <td>-0.18829</td>\n",
       "      <td>0.93035</td>\n",
       "      <td>-0.36156</td>\n",
       "      <td>-0.10868</td>\n",
       "      <td>-0.93597</td>\n",
       "      <td>1.00000</td>\n",
       "      <td>-0.04549</td>\n",
       "      <td>...</td>\n",
       "      <td>-0.26569</td>\n",
       "      <td>-0.20468</td>\n",
       "      <td>-0.18401</td>\n",
       "      <td>-0.19040</td>\n",
       "      <td>-0.11593</td>\n",
       "      <td>-0.16626</td>\n",
       "      <td>-0.06288</td>\n",
       "      <td>-0.13738</td>\n",
       "      <td>-0.02447</td>\n",
       "      <td>b</td>\n",
       "    </tr>\n",
       "    <tr>\n",
       "      <th>2</th>\n",
       "      <td>1</td>\n",
       "      <td>0</td>\n",
       "      <td>1.00000</td>\n",
       "      <td>-0.03365</td>\n",
       "      <td>1.00000</td>\n",
       "      <td>0.00485</td>\n",
       "      <td>1.00000</td>\n",
       "      <td>-0.12062</td>\n",
       "      <td>0.88965</td>\n",
       "      <td>0.01198</td>\n",
       "      <td>...</td>\n",
       "      <td>-0.40220</td>\n",
       "      <td>0.58984</td>\n",
       "      <td>-0.22145</td>\n",
       "      <td>0.43100</td>\n",
       "      <td>-0.17365</td>\n",
       "      <td>0.60436</td>\n",
       "      <td>-0.24180</td>\n",
       "      <td>0.56045</td>\n",
       "      <td>-0.38238</td>\n",
       "      <td>g</td>\n",
       "    </tr>\n",
       "    <tr>\n",
       "      <th>3</th>\n",
       "      <td>1</td>\n",
       "      <td>0</td>\n",
       "      <td>1.00000</td>\n",
       "      <td>-0.45161</td>\n",
       "      <td>1.00000</td>\n",
       "      <td>1.00000</td>\n",
       "      <td>0.71216</td>\n",
       "      <td>-1.00000</td>\n",
       "      <td>0.00000</td>\n",
       "      <td>0.00000</td>\n",
       "      <td>...</td>\n",
       "      <td>0.90695</td>\n",
       "      <td>0.51613</td>\n",
       "      <td>1.00000</td>\n",
       "      <td>1.00000</td>\n",
       "      <td>-0.20099</td>\n",
       "      <td>0.25682</td>\n",
       "      <td>1.00000</td>\n",
       "      <td>-0.32382</td>\n",
       "      <td>1.00000</td>\n",
       "      <td>b</td>\n",
       "    </tr>\n",
       "    <tr>\n",
       "      <th>4</th>\n",
       "      <td>1</td>\n",
       "      <td>0</td>\n",
       "      <td>1.00000</td>\n",
       "      <td>-0.02401</td>\n",
       "      <td>0.94140</td>\n",
       "      <td>0.06531</td>\n",
       "      <td>0.92106</td>\n",
       "      <td>-0.23255</td>\n",
       "      <td>0.77152</td>\n",
       "      <td>-0.16399</td>\n",
       "      <td>...</td>\n",
       "      <td>-0.65158</td>\n",
       "      <td>0.13290</td>\n",
       "      <td>-0.53206</td>\n",
       "      <td>0.02431</td>\n",
       "      <td>-0.62197</td>\n",
       "      <td>-0.05707</td>\n",
       "      <td>-0.59573</td>\n",
       "      <td>-0.04608</td>\n",
       "      <td>-0.65697</td>\n",
       "      <td>g</td>\n",
       "    </tr>\n",
       "  </tbody>\n",
       "</table>\n",
       "<p>5 rows × 35 columns</p>\n",
       "</div>"
      ],
      "text/plain": [
       "   0  1        2        3        4        5        6        7        8  \\\n",
       "0  1  0  0.99539 -0.05889  0.85243  0.02306  0.83398 -0.37708  1.00000   \n",
       "1  1  0  1.00000 -0.18829  0.93035 -0.36156 -0.10868 -0.93597  1.00000   \n",
       "2  1  0  1.00000 -0.03365  1.00000  0.00485  1.00000 -0.12062  0.88965   \n",
       "3  1  0  1.00000 -0.45161  1.00000  1.00000  0.71216 -1.00000  0.00000   \n",
       "4  1  0  1.00000 -0.02401  0.94140  0.06531  0.92106 -0.23255  0.77152   \n",
       "\n",
       "         9  ...       25       26       27       28       29       30  \\\n",
       "0  0.03760  ... -0.51171  0.41078 -0.46168  0.21266 -0.34090  0.42267   \n",
       "1 -0.04549  ... -0.26569 -0.20468 -0.18401 -0.19040 -0.11593 -0.16626   \n",
       "2  0.01198  ... -0.40220  0.58984 -0.22145  0.43100 -0.17365  0.60436   \n",
       "3  0.00000  ...  0.90695  0.51613  1.00000  1.00000 -0.20099  0.25682   \n",
       "4 -0.16399  ... -0.65158  0.13290 -0.53206  0.02431 -0.62197 -0.05707   \n",
       "\n",
       "        31       32       33  Classification  \n",
       "0 -0.54487  0.18641 -0.45300               g  \n",
       "1 -0.06288 -0.13738 -0.02447               b  \n",
       "2 -0.24180  0.56045 -0.38238               g  \n",
       "3  1.00000 -0.32382  1.00000               b  \n",
       "4 -0.59573 -0.04608 -0.65697               g  \n",
       "\n",
       "[5 rows x 35 columns]"
      ]
     },
     "execution_count": 53,
     "metadata": {},
     "output_type": "execute_result"
    }
   ],
   "source": [
    "data_df.head()"
   ]
  },
  {
   "cell_type": "code",
   "execution_count": 54,
   "metadata": {},
   "outputs": [
    {
     "data": {
      "text/plain": [
       "array(['g', 'b'], dtype=object)"
      ]
     },
     "execution_count": 54,
     "metadata": {},
     "output_type": "execute_result"
    }
   ],
   "source": [
    "data_df['Classification'].unique()"
   ]
  },
  {
   "cell_type": "code",
   "execution_count": 55,
   "metadata": {},
   "outputs": [],
   "source": [
    "labels = { 'g' : 'Good', 'b': 'Bad'}"
   ]
  },
  {
   "cell_type": "code",
   "execution_count": 56,
   "metadata": {},
   "outputs": [
    {
     "data": {
      "text/plain": [
       "((351, 34), (351,))"
      ]
     },
     "execution_count": 56,
     "metadata": {},
     "output_type": "execute_result"
    }
   ],
   "source": [
    "features_df = data_df.drop('Classification', axis = 1) # drop label col\n",
    "\n",
    "label_df = data_df['Classification'] # labels\n",
    "\n",
    "features_df.shape, label_df.shape"
   ]
  },
  {
   "cell_type": "code",
   "execution_count": 57,
   "metadata": {},
   "outputs": [
    {
     "data": {
      "text/html": [
       "<div>\n",
       "<style scoped>\n",
       "    .dataframe tbody tr th:only-of-type {\n",
       "        vertical-align: middle;\n",
       "    }\n",
       "\n",
       "    .dataframe tbody tr th {\n",
       "        vertical-align: top;\n",
       "    }\n",
       "\n",
       "    .dataframe thead th {\n",
       "        text-align: right;\n",
       "    }\n",
       "</style>\n",
       "<table border=\"1\" class=\"dataframe\">\n",
       "  <thead>\n",
       "    <tr style=\"text-align: right;\">\n",
       "      <th></th>\n",
       "      <th>b</th>\n",
       "      <th>g</th>\n",
       "    </tr>\n",
       "  </thead>\n",
       "  <tbody>\n",
       "    <tr>\n",
       "      <th>0</th>\n",
       "      <td>False</td>\n",
       "      <td>True</td>\n",
       "    </tr>\n",
       "    <tr>\n",
       "      <th>1</th>\n",
       "      <td>True</td>\n",
       "      <td>False</td>\n",
       "    </tr>\n",
       "    <tr>\n",
       "      <th>2</th>\n",
       "      <td>False</td>\n",
       "      <td>True</td>\n",
       "    </tr>\n",
       "    <tr>\n",
       "      <th>3</th>\n",
       "      <td>True</td>\n",
       "      <td>False</td>\n",
       "    </tr>\n",
       "    <tr>\n",
       "      <th>4</th>\n",
       "      <td>False</td>\n",
       "      <td>True</td>\n",
       "    </tr>\n",
       "    <tr>\n",
       "      <th>...</th>\n",
       "      <td>...</td>\n",
       "      <td>...</td>\n",
       "    </tr>\n",
       "    <tr>\n",
       "      <th>346</th>\n",
       "      <td>False</td>\n",
       "      <td>True</td>\n",
       "    </tr>\n",
       "    <tr>\n",
       "      <th>347</th>\n",
       "      <td>False</td>\n",
       "      <td>True</td>\n",
       "    </tr>\n",
       "    <tr>\n",
       "      <th>348</th>\n",
       "      <td>False</td>\n",
       "      <td>True</td>\n",
       "    </tr>\n",
       "    <tr>\n",
       "      <th>349</th>\n",
       "      <td>False</td>\n",
       "      <td>True</td>\n",
       "    </tr>\n",
       "    <tr>\n",
       "      <th>350</th>\n",
       "      <td>False</td>\n",
       "      <td>True</td>\n",
       "    </tr>\n",
       "  </tbody>\n",
       "</table>\n",
       "<p>351 rows × 2 columns</p>\n",
       "</div>"
      ],
      "text/plain": [
       "         b      g\n",
       "0    False   True\n",
       "1     True  False\n",
       "2    False   True\n",
       "3     True  False\n",
       "4    False   True\n",
       "..     ...    ...\n",
       "346  False   True\n",
       "347  False   True\n",
       "348  False   True\n",
       "349  False   True\n",
       "350  False   True\n",
       "\n",
       "[351 rows x 2 columns]"
      ]
     },
     "execution_count": 57,
     "metadata": {},
     "output_type": "execute_result"
    }
   ],
   "source": [
    "label_df = pd.get_dummies(label_df)\n",
    "label_df"
   ]
  },
  {
   "cell_type": "code",
   "execution_count": 58,
   "metadata": {},
   "outputs": [
    {
     "data": {
      "text/html": [
       "<div>\n",
       "<style scoped>\n",
       "    .dataframe tbody tr th:only-of-type {\n",
       "        vertical-align: middle;\n",
       "    }\n",
       "\n",
       "    .dataframe tbody tr th {\n",
       "        vertical-align: top;\n",
       "    }\n",
       "\n",
       "    .dataframe thead th {\n",
       "        text-align: right;\n",
       "    }\n",
       "</style>\n",
       "<table border=\"1\" class=\"dataframe\">\n",
       "  <thead>\n",
       "    <tr style=\"text-align: right;\">\n",
       "      <th></th>\n",
       "      <th>b</th>\n",
       "      <th>g</th>\n",
       "    </tr>\n",
       "  </thead>\n",
       "  <tbody>\n",
       "    <tr>\n",
       "      <th>0</th>\n",
       "      <td>False</td>\n",
       "      <td>True</td>\n",
       "    </tr>\n",
       "    <tr>\n",
       "      <th>1</th>\n",
       "      <td>True</td>\n",
       "      <td>False</td>\n",
       "    </tr>\n",
       "    <tr>\n",
       "      <th>2</th>\n",
       "      <td>False</td>\n",
       "      <td>True</td>\n",
       "    </tr>\n",
       "    <tr>\n",
       "      <th>3</th>\n",
       "      <td>True</td>\n",
       "      <td>False</td>\n",
       "    </tr>\n",
       "    <tr>\n",
       "      <th>4</th>\n",
       "      <td>False</td>\n",
       "      <td>True</td>\n",
       "    </tr>\n",
       "  </tbody>\n",
       "</table>\n",
       "</div>"
      ],
      "text/plain": [
       "       b      g\n",
       "0  False   True\n",
       "1   True  False\n",
       "2  False   True\n",
       "3   True  False\n",
       "4  False   True"
      ]
     },
     "execution_count": 58,
     "metadata": {},
     "output_type": "execute_result"
    }
   ],
   "source": [
    "label_df.head()"
   ]
  },
  {
   "cell_type": "code",
   "execution_count": 59,
   "metadata": {},
   "outputs": [
    {
     "name": "stdout",
     "output_type": "stream",
     "text": [
      "(256, 34) (256, 2) (95, 34) (95, 2)\n"
     ]
    }
   ],
   "source": [
    "#  Split the data in training and test sets to measure performance of the model.\n",
    "X_train, X_test, y_train, y_test = train_test_split(features_df, label_df, \n",
    "                                                    stratify=label_df,\n",
    "                                                    train_size=TRAIN_SIZE, \n",
    "                                                    random_state=RANDOM_STATE )\n",
    "\n",
    "print (X_train.shape, y_train.shape, X_test.shape, y_test.shape)"
   ]
  },
  {
   "cell_type": "code",
   "execution_count": 60,
   "metadata": {},
   "outputs": [],
   "source": [
    "scaler = StandardScaler() # get the scaler\n",
    "\n",
    "X_train = scaler.fit_transform(X_train) # train\n",
    "X_test = scaler.transform(X_test) # test\n",
    "\n",
    "y_train = y_train.to_numpy() # array\n",
    "y_test = y_test.to_numpy() # convert to array"
   ]
  },
  {
   "cell_type": "code",
   "execution_count": 61,
   "metadata": {},
   "outputs": [
    {
     "data": {
      "text/plain": [
       "array([[ True, False],\n",
       "       [False,  True],\n",
       "       [False,  True],\n",
       "       [False,  True],\n",
       "       [False,  True],\n",
       "       [ True, False],\n",
       "       [False,  True],\n",
       "       [ True, False],\n",
       "       [ True, False],\n",
       "       [False,  True],\n",
       "       [False,  True],\n",
       "       [ True, False],\n",
       "       [ True, False],\n",
       "       [ True, False],\n",
       "       [ True, False],\n",
       "       [False,  True],\n",
       "       [False,  True],\n",
       "       [ True, False],\n",
       "       [ True, False],\n",
       "       [False,  True],\n",
       "       [False,  True],\n",
       "       [False,  True],\n",
       "       [False,  True],\n",
       "       [False,  True],\n",
       "       [False,  True],\n",
       "       [False,  True],\n",
       "       [ True, False],\n",
       "       [False,  True],\n",
       "       [False,  True],\n",
       "       [ True, False],\n",
       "       [False,  True],\n",
       "       [False,  True],\n",
       "       [False,  True],\n",
       "       [False,  True],\n",
       "       [False,  True],\n",
       "       [ True, False],\n",
       "       [False,  True],\n",
       "       [False,  True],\n",
       "       [False,  True],\n",
       "       [False,  True],\n",
       "       [ True, False],\n",
       "       [ True, False],\n",
       "       [ True, False],\n",
       "       [ True, False],\n",
       "       [ True, False],\n",
       "       [ True, False],\n",
       "       [ True, False],\n",
       "       [False,  True],\n",
       "       [False,  True],\n",
       "       [False,  True],\n",
       "       [ True, False],\n",
       "       [ True, False],\n",
       "       [False,  True],\n",
       "       [False,  True],\n",
       "       [ True, False],\n",
       "       [False,  True],\n",
       "       [False,  True],\n",
       "       [False,  True],\n",
       "       [ True, False],\n",
       "       [False,  True],\n",
       "       [ True, False],\n",
       "       [False,  True],\n",
       "       [False,  True],\n",
       "       [False,  True],\n",
       "       [False,  True],\n",
       "       [False,  True],\n",
       "       [False,  True],\n",
       "       [False,  True],\n",
       "       [False,  True],\n",
       "       [False,  True],\n",
       "       [ True, False],\n",
       "       [False,  True],\n",
       "       [False,  True],\n",
       "       [False,  True],\n",
       "       [False,  True],\n",
       "       [False,  True],\n",
       "       [False,  True],\n",
       "       [False,  True],\n",
       "       [ True, False],\n",
       "       [False,  True],\n",
       "       [ True, False],\n",
       "       [False,  True],\n",
       "       [False,  True],\n",
       "       [ True, False],\n",
       "       [ True, False],\n",
       "       [False,  True],\n",
       "       [False,  True],\n",
       "       [False,  True],\n",
       "       [ True, False],\n",
       "       [False,  True],\n",
       "       [ True, False],\n",
       "       [ True, False],\n",
       "       [ True, False],\n",
       "       [ True, False],\n",
       "       [ True, False],\n",
       "       [False,  True],\n",
       "       [False,  True],\n",
       "       [False,  True],\n",
       "       [ True, False],\n",
       "       [False,  True],\n",
       "       [False,  True],\n",
       "       [ True, False],\n",
       "       [ True, False],\n",
       "       [ True, False],\n",
       "       [False,  True],\n",
       "       [False,  True],\n",
       "       [ True, False],\n",
       "       [ True, False],\n",
       "       [ True, False],\n",
       "       [False,  True],\n",
       "       [False,  True],\n",
       "       [ True, False],\n",
       "       [False,  True],\n",
       "       [False,  True],\n",
       "       [ True, False],\n",
       "       [False,  True],\n",
       "       [ True, False],\n",
       "       [ True, False],\n",
       "       [ True, False],\n",
       "       [ True, False],\n",
       "       [ True, False],\n",
       "       [ True, False],\n",
       "       [False,  True],\n",
       "       [False,  True],\n",
       "       [False,  True],\n",
       "       [False,  True],\n",
       "       [False,  True],\n",
       "       [False,  True],\n",
       "       [ True, False],\n",
       "       [ True, False],\n",
       "       [False,  True],\n",
       "       [False,  True],\n",
       "       [ True, False],\n",
       "       [False,  True],\n",
       "       [False,  True],\n",
       "       [False,  True],\n",
       "       [False,  True],\n",
       "       [False,  True],\n",
       "       [False,  True],\n",
       "       [False,  True],\n",
       "       [False,  True],\n",
       "       [False,  True],\n",
       "       [ True, False],\n",
       "       [ True, False],\n",
       "       [ True, False],\n",
       "       [ True, False],\n",
       "       [False,  True],\n",
       "       [ True, False],\n",
       "       [False,  True],\n",
       "       [False,  True],\n",
       "       [ True, False],\n",
       "       [ True, False],\n",
       "       [False,  True],\n",
       "       [False,  True],\n",
       "       [False,  True],\n",
       "       [False,  True],\n",
       "       [ True, False],\n",
       "       [ True, False],\n",
       "       [False,  True],\n",
       "       [False,  True],\n",
       "       [False,  True],\n",
       "       [False,  True],\n",
       "       [False,  True],\n",
       "       [ True, False],\n",
       "       [False,  True],\n",
       "       [False,  True],\n",
       "       [False,  True],\n",
       "       [False,  True],\n",
       "       [ True, False],\n",
       "       [ True, False],\n",
       "       [False,  True],\n",
       "       [False,  True],\n",
       "       [ True, False],\n",
       "       [False,  True],\n",
       "       [ True, False],\n",
       "       [False,  True],\n",
       "       [False,  True],\n",
       "       [False,  True],\n",
       "       [ True, False],\n",
       "       [False,  True],\n",
       "       [False,  True],\n",
       "       [False,  True],\n",
       "       [False,  True],\n",
       "       [ True, False],\n",
       "       [False,  True],\n",
       "       [ True, False],\n",
       "       [False,  True],\n",
       "       [False,  True],\n",
       "       [False,  True],\n",
       "       [False,  True],\n",
       "       [False,  True],\n",
       "       [False,  True],\n",
       "       [False,  True],\n",
       "       [False,  True],\n",
       "       [False,  True],\n",
       "       [ True, False],\n",
       "       [False,  True],\n",
       "       [ True, False],\n",
       "       [False,  True],\n",
       "       [ True, False],\n",
       "       [False,  True],\n",
       "       [False,  True],\n",
       "       [ True, False],\n",
       "       [False,  True],\n",
       "       [ True, False],\n",
       "       [ True, False],\n",
       "       [False,  True],\n",
       "       [False,  True],\n",
       "       [False,  True],\n",
       "       [ True, False],\n",
       "       [False,  True],\n",
       "       [ True, False],\n",
       "       [False,  True],\n",
       "       [False,  True],\n",
       "       [False,  True],\n",
       "       [False,  True],\n",
       "       [ True, False],\n",
       "       [ True, False],\n",
       "       [ True, False],\n",
       "       [False,  True],\n",
       "       [False,  True],\n",
       "       [False,  True],\n",
       "       [ True, False],\n",
       "       [False,  True],\n",
       "       [False,  True],\n",
       "       [False,  True],\n",
       "       [False,  True],\n",
       "       [False,  True],\n",
       "       [False,  True],\n",
       "       [False,  True],\n",
       "       [ True, False],\n",
       "       [False,  True],\n",
       "       [ True, False],\n",
       "       [False,  True],\n",
       "       [False,  True],\n",
       "       [False,  True],\n",
       "       [False,  True],\n",
       "       [ True, False],\n",
       "       [False,  True],\n",
       "       [False,  True],\n",
       "       [False,  True],\n",
       "       [False,  True],\n",
       "       [False,  True],\n",
       "       [False,  True],\n",
       "       [ True, False],\n",
       "       [False,  True],\n",
       "       [ True, False],\n",
       "       [ True, False],\n",
       "       [False,  True],\n",
       "       [False,  True],\n",
       "       [ True, False],\n",
       "       [False,  True],\n",
       "       [False,  True],\n",
       "       [ True, False],\n",
       "       [ True, False],\n",
       "       [False,  True]])"
      ]
     },
     "execution_count": 61,
     "metadata": {},
     "output_type": "execute_result"
    }
   ],
   "source": [
    "y_train"
   ]
  },
  {
   "cell_type": "markdown",
   "metadata": {},
   "source": [
    "## Prepare Model:"
   ]
  },
  {
   "cell_type": "code",
   "execution_count": 62,
   "metadata": {},
   "outputs": [
    {
     "name": "stdout",
     "output_type": "stream",
     "text": [
      "Model: \"model_1\"\n",
      "_________________________________________________________________\n",
      " Layer (type)                Output Shape              Param #   \n",
      "=================================================================\n",
      " input_2 (InputLayer)        [(None, 34)]              0         \n",
      "                                                                 \n",
      " dense_3 (Dense)             (None, 18)                630       \n",
      "                                                                 \n",
      " batch_normalization_2 (Batc  (None, 18)               72        \n",
      " hNormalization)                                                 \n",
      "                                                                 \n",
      " dropout_2 (Dropout)         (None, 18)                0         \n",
      "                                                                 \n",
      " dense_4 (Dense)             (None, 9)                 171       \n",
      "                                                                 \n",
      " batch_normalization_3 (Batc  (None, 9)                36        \n",
      " hNormalization)                                                 \n",
      "                                                                 \n",
      " dropout_3 (Dropout)         (None, 9)                 0         \n",
      "                                                                 \n",
      " dense_5 (Dense)             (None, 2)                 20        \n",
      "                                                                 \n",
      "=================================================================\n",
      "Total params: 929\n",
      "Trainable params: 875\n",
      "Non-trainable params: 54\n",
      "_________________________________________________________________\n"
     ]
    }
   ],
   "source": [
    "# Setting the L2 regularization strength to prevent overfitting\n",
    "knl_reg = tf.keras.regularizers.L2(l2 = 0.001)\n",
    "\n",
    "# Setting the dropout rate to introduce regularization and reduce overfitting\n",
    "dor1 = 0.2\n",
    "\n",
    "# Defining Input layer with 34 nodes to accept the input data with 34 features.\n",
    "input_layer = tf.keras.Input(shape=(34,))\n",
    "\n",
    "# Defining the first hidden layer with 18 nodes, ReLU activation, and L2 regularization\n",
    "x = tf.keras.layers.Dense(18, activation='relu',\n",
    "                          kernel_regularizer = knl_reg ) (input_layer)\n",
    "\n",
    "# Defining batch normalization to the first hidden layer\n",
    "x = tf.keras.layers.BatchNormalization()(x)\n",
    "\n",
    "# Defining dropout to the first hidden layer to reduce overfitting\n",
    "x = tf.keras.layers.Dropout(dor1)(x)\n",
    "\n",
    "# Defining the second hidden layer with 9 nodes, ReLU activation, and L2 regularization\n",
    "x = tf.keras.layers.Dense(9, activation='relu',\n",
    "                          kernel_regularizer = knl_reg ) (x)\n",
    "\n",
    "# Defining batch normalization to the second hidden layer\n",
    "x = tf.keras.layers.BatchNormalization()(x)\n",
    "\n",
    "# Defining dropout to the second hidden layer to reduce overfitting \n",
    "x = tf.keras.layers.Dropout(dor1)(x)\n",
    "\n",
    "# Defining the output layer with 2 nodes\n",
    "output_layer = tf.keras.layers.Dense(2) (x)\n",
    "\n",
    "# Creating the model with the input and output layers\n",
    "model = tf.keras.Model(inputs= input_layer, outputs = output_layer)\n",
    "\n",
    "model.summary()"
   ]
  },
  {
   "cell_type": "code",
   "execution_count": 63,
   "metadata": {},
   "outputs": [],
   "source": [
    "loss_function = tf.losses.CategoricalCrossentropy(from_logits=True)"
   ]
  },
  {
   "cell_type": "code",
   "execution_count": 65,
   "metadata": {
    "colab": {
     "base_uri": "https://localhost:8080/",
     "height": 613
    },
    "id": "oa8WtTI202pn",
    "outputId": "3f0ca548-7715-47c7-b4fd-fac7924bc060"
   },
   "outputs": [],
   "source": [
    "model.compile(optimizer='rmsprop', \n",
    "              loss=loss_function,\n",
    "              metrics=['accuracy'])"
   ]
  },
  {
   "cell_type": "code",
   "execution_count": 68,
   "metadata": {},
   "outputs": [
    {
     "name": "stdout",
     "output_type": "stream",
     "text": [
      "Epoch 1/101\n",
      "8/8 - 2s - loss: 0.8653 - accuracy: 0.5352 - val_loss: 0.6897 - val_accuracy: 0.7368 - 2s/epoch - 208ms/step\n",
      "Epoch 2/101\n",
      "8/8 - 0s - loss: 0.7410 - accuracy: 0.6562 - val_loss: 0.6703 - val_accuracy: 0.7474 - 208ms/epoch - 26ms/step\n",
      "Epoch 3/101\n",
      "8/8 - 0s - loss: 0.7469 - accuracy: 0.6094 - val_loss: 0.6518 - val_accuracy: 0.7474 - 134ms/epoch - 17ms/step\n",
      "Epoch 4/101\n",
      "8/8 - 0s - loss: 0.6970 - accuracy: 0.6719 - val_loss: 0.6330 - val_accuracy: 0.7579 - 157ms/epoch - 20ms/step\n",
      "Epoch 5/101\n",
      "8/8 - 0s - loss: 0.6312 - accuracy: 0.6875 - val_loss: 0.6145 - val_accuracy: 0.7684 - 145ms/epoch - 18ms/step\n",
      "Epoch 6/101\n",
      "8/8 - 0s - loss: 0.5934 - accuracy: 0.7266 - val_loss: 0.5930 - val_accuracy: 0.7684 - 155ms/epoch - 19ms/step\n",
      "Epoch 7/101\n",
      "8/8 - 0s - loss: 0.5529 - accuracy: 0.7578 - val_loss: 0.5722 - val_accuracy: 0.7789 - 151ms/epoch - 19ms/step\n",
      "Epoch 8/101\n",
      "8/8 - 0s - loss: 0.5445 - accuracy: 0.7617 - val_loss: 0.5526 - val_accuracy: 0.7895 - 141ms/epoch - 18ms/step\n",
      "Epoch 9/101\n",
      "8/8 - 0s - loss: 0.5611 - accuracy: 0.7305 - val_loss: 0.5354 - val_accuracy: 0.7895 - 116ms/epoch - 15ms/step\n",
      "Epoch 10/101\n",
      "8/8 - 0s - loss: 0.5189 - accuracy: 0.8047 - val_loss: 0.5181 - val_accuracy: 0.7895 - 101ms/epoch - 13ms/step\n",
      "Epoch 11/101\n",
      "8/8 - 0s - loss: 0.5072 - accuracy: 0.8086 - val_loss: 0.5001 - val_accuracy: 0.7895 - 141ms/epoch - 18ms/step\n",
      "Epoch 12/101\n",
      "8/8 - 0s - loss: 0.4883 - accuracy: 0.8281 - val_loss: 0.4817 - val_accuracy: 0.8105 - 173ms/epoch - 22ms/step\n",
      "Epoch 13/101\n",
      "8/8 - 0s - loss: 0.5178 - accuracy: 0.7695 - val_loss: 0.4642 - val_accuracy: 0.8316 - 152ms/epoch - 19ms/step\n",
      "Epoch 14/101\n",
      "8/8 - 0s - loss: 0.4414 - accuracy: 0.8242 - val_loss: 0.4479 - val_accuracy: 0.8316 - 156ms/epoch - 20ms/step\n",
      "Epoch 15/101\n",
      "8/8 - 0s - loss: 0.4332 - accuracy: 0.8477 - val_loss: 0.4324 - val_accuracy: 0.8421 - 131ms/epoch - 16ms/step\n",
      "Epoch 16/101\n",
      "8/8 - 0s - loss: 0.4520 - accuracy: 0.8320 - val_loss: 0.4201 - val_accuracy: 0.8526 - 127ms/epoch - 16ms/step\n",
      "Epoch 17/101\n",
      "8/8 - 0s - loss: 0.4416 - accuracy: 0.8281 - val_loss: 0.4069 - val_accuracy: 0.8526 - 129ms/epoch - 16ms/step\n",
      "Epoch 18/101\n",
      "8/8 - 0s - loss: 0.4285 - accuracy: 0.8281 - val_loss: 0.3945 - val_accuracy: 0.8737 - 128ms/epoch - 16ms/step\n",
      "Epoch 19/101\n",
      "8/8 - 0s - loss: 0.4044 - accuracy: 0.8516 - val_loss: 0.3840 - val_accuracy: 0.8737 - 127ms/epoch - 16ms/step\n",
      "Epoch 20/101\n",
      "8/8 - 0s - loss: 0.4250 - accuracy: 0.8359 - val_loss: 0.3759 - val_accuracy: 0.8737 - 126ms/epoch - 16ms/step\n",
      "Epoch 21/101\n",
      "8/8 - 0s - loss: 0.4327 - accuracy: 0.8438 - val_loss: 0.3658 - val_accuracy: 0.8737 - 111ms/epoch - 14ms/step\n",
      "Epoch 22/101\n",
      "8/8 - 0s - loss: 0.3945 - accuracy: 0.8633 - val_loss: 0.3571 - val_accuracy: 0.8737 - 103ms/epoch - 13ms/step\n",
      "Epoch 23/101\n",
      "8/8 - 0s - loss: 0.3686 - accuracy: 0.8711 - val_loss: 0.3488 - val_accuracy: 0.8842 - 155ms/epoch - 19ms/step\n",
      "Epoch 24/101\n",
      "8/8 - 0s - loss: 0.3561 - accuracy: 0.8945 - val_loss: 0.3389 - val_accuracy: 0.8842 - 112ms/epoch - 14ms/step\n",
      "Epoch 25/101\n",
      "8/8 - 0s - loss: 0.3740 - accuracy: 0.8594 - val_loss: 0.3313 - val_accuracy: 0.8842 - 125ms/epoch - 16ms/step\n",
      "Epoch 26/101\n",
      "8/8 - 0s - loss: 0.3897 - accuracy: 0.8672 - val_loss: 0.3271 - val_accuracy: 0.8842 - 121ms/epoch - 15ms/step\n",
      "Epoch 27/101\n",
      "8/8 - 0s - loss: 0.3585 - accuracy: 0.8906 - val_loss: 0.3237 - val_accuracy: 0.8842 - 176ms/epoch - 22ms/step\n",
      "Epoch 28/101\n",
      "8/8 - 0s - loss: 0.3589 - accuracy: 0.8672 - val_loss: 0.3173 - val_accuracy: 0.8947 - 147ms/epoch - 18ms/step\n",
      "Epoch 29/101\n",
      "8/8 - 0s - loss: 0.3426 - accuracy: 0.8711 - val_loss: 0.3106 - val_accuracy: 0.8947 - 139ms/epoch - 17ms/step\n",
      "Epoch 30/101\n",
      "8/8 - 0s - loss: 0.3479 - accuracy: 0.8828 - val_loss: 0.3067 - val_accuracy: 0.8947 - 218ms/epoch - 27ms/step\n",
      "Epoch 31/101\n",
      "8/8 - 0s - loss: 0.3213 - accuracy: 0.8945 - val_loss: 0.2997 - val_accuracy: 0.8947 - 207ms/epoch - 26ms/step\n",
      "Epoch 32/101\n",
      "8/8 - 0s - loss: 0.3180 - accuracy: 0.9023 - val_loss: 0.2935 - val_accuracy: 0.9053 - 232ms/epoch - 29ms/step\n",
      "Epoch 33/101\n",
      "8/8 - 0s - loss: 0.3244 - accuracy: 0.8984 - val_loss: 0.2865 - val_accuracy: 0.9053 - 197ms/epoch - 25ms/step\n",
      "Epoch 34/101\n",
      "8/8 - 0s - loss: 0.3334 - accuracy: 0.8828 - val_loss: 0.2809 - val_accuracy: 0.9053 - 175ms/epoch - 22ms/step\n",
      "Epoch 35/101\n",
      "8/8 - 0s - loss: 0.3062 - accuracy: 0.9023 - val_loss: 0.2777 - val_accuracy: 0.9053 - 175ms/epoch - 22ms/step\n",
      "Epoch 36/101\n",
      "8/8 - 0s - loss: 0.2962 - accuracy: 0.9180 - val_loss: 0.2747 - val_accuracy: 0.8947 - 223ms/epoch - 28ms/step\n",
      "Epoch 37/101\n",
      "8/8 - 0s - loss: 0.2999 - accuracy: 0.9102 - val_loss: 0.2714 - val_accuracy: 0.8947 - 174ms/epoch - 22ms/step\n",
      "Epoch 38/101\n",
      "8/8 - 0s - loss: 0.3167 - accuracy: 0.8945 - val_loss: 0.2657 - val_accuracy: 0.9053 - 155ms/epoch - 19ms/step\n",
      "Epoch 39/101\n",
      "8/8 - 0s - loss: 0.3021 - accuracy: 0.8984 - val_loss: 0.2613 - val_accuracy: 0.9053 - 131ms/epoch - 16ms/step\n",
      "Epoch 40/101\n",
      "8/8 - 0s - loss: 0.2846 - accuracy: 0.8906 - val_loss: 0.2585 - val_accuracy: 0.9053 - 268ms/epoch - 34ms/step\n",
      "Epoch 41/101\n",
      "8/8 - 0s - loss: 0.2721 - accuracy: 0.9141 - val_loss: 0.2528 - val_accuracy: 0.9158 - 193ms/epoch - 24ms/step\n",
      "Epoch 42/101\n",
      "8/8 - 0s - loss: 0.3001 - accuracy: 0.9023 - val_loss: 0.2494 - val_accuracy: 0.9158 - 163ms/epoch - 20ms/step\n",
      "Epoch 43/101\n",
      "8/8 - 0s - loss: 0.2596 - accuracy: 0.9180 - val_loss: 0.2450 - val_accuracy: 0.9158 - 159ms/epoch - 20ms/step\n",
      "Epoch 44/101\n",
      "8/8 - 0s - loss: 0.2676 - accuracy: 0.9336 - val_loss: 0.2402 - val_accuracy: 0.9158 - 153ms/epoch - 19ms/step\n",
      "Epoch 45/101\n",
      "8/8 - 0s - loss: 0.2736 - accuracy: 0.9023 - val_loss: 0.2366 - val_accuracy: 0.9158 - 221ms/epoch - 28ms/step\n",
      "Epoch 46/101\n",
      "8/8 - 0s - loss: 0.2667 - accuracy: 0.9062 - val_loss: 0.2294 - val_accuracy: 0.9368 - 166ms/epoch - 21ms/step\n",
      "Epoch 47/101\n",
      "8/8 - 0s - loss: 0.2940 - accuracy: 0.9023 - val_loss: 0.2274 - val_accuracy: 0.9368 - 137ms/epoch - 17ms/step\n",
      "Epoch 48/101\n",
      "8/8 - 0s - loss: 0.2381 - accuracy: 0.9336 - val_loss: 0.2228 - val_accuracy: 0.9368 - 149ms/epoch - 19ms/step\n",
      "Epoch 49/101\n",
      "8/8 - 0s - loss: 0.2489 - accuracy: 0.9180 - val_loss: 0.2209 - val_accuracy: 0.9368 - 174ms/epoch - 22ms/step\n",
      "Epoch 50/101\n",
      "8/8 - 0s - loss: 0.2195 - accuracy: 0.9297 - val_loss: 0.2186 - val_accuracy: 0.9368 - 169ms/epoch - 21ms/step\n",
      "Epoch 51/101\n",
      "8/8 - 0s - loss: 0.2437 - accuracy: 0.9375 - val_loss: 0.2157 - val_accuracy: 0.9368 - 161ms/epoch - 20ms/step\n",
      "Epoch 52/101\n",
      "8/8 - 0s - loss: 0.2852 - accuracy: 0.8945 - val_loss: 0.2110 - val_accuracy: 0.9368 - 282ms/epoch - 35ms/step\n",
      "Epoch 53/101\n",
      "8/8 - 0s - loss: 0.2318 - accuracy: 0.9258 - val_loss: 0.2091 - val_accuracy: 0.9368 - 187ms/epoch - 23ms/step\n",
      "Epoch 54/101\n",
      "8/8 - 0s - loss: 0.2213 - accuracy: 0.9258 - val_loss: 0.2052 - val_accuracy: 0.9368 - 151ms/epoch - 19ms/step\n",
      "Epoch 55/101\n",
      "8/8 - 0s - loss: 0.2262 - accuracy: 0.9258 - val_loss: 0.2028 - val_accuracy: 0.9368 - 149ms/epoch - 19ms/step\n",
      "Epoch 56/101\n",
      "8/8 - 0s - loss: 0.2308 - accuracy: 0.9258 - val_loss: 0.1972 - val_accuracy: 0.9368 - 138ms/epoch - 17ms/step\n",
      "Epoch 57/101\n",
      "8/8 - 0s - loss: 0.2189 - accuracy: 0.9336 - val_loss: 0.1963 - val_accuracy: 0.9368 - 126ms/epoch - 16ms/step\n",
      "Epoch 58/101\n",
      "8/8 - 0s - loss: 0.2175 - accuracy: 0.9336 - val_loss: 0.1954 - val_accuracy: 0.9474 - 130ms/epoch - 16ms/step\n",
      "Epoch 59/101\n",
      "8/8 - 0s - loss: 0.2204 - accuracy: 0.9180 - val_loss: 0.1943 - val_accuracy: 0.9368 - 186ms/epoch - 23ms/step\n",
      "Epoch 60/101\n",
      "8/8 - 0s - loss: 0.2065 - accuracy: 0.9297 - val_loss: 0.1909 - val_accuracy: 0.9474 - 145ms/epoch - 18ms/step\n",
      "Epoch 61/101\n",
      "8/8 - 0s - loss: 0.2112 - accuracy: 0.9453 - val_loss: 0.1866 - val_accuracy: 0.9474 - 119ms/epoch - 15ms/step\n",
      "Epoch 62/101\n",
      "8/8 - 0s - loss: 0.1848 - accuracy: 0.9531 - val_loss: 0.1818 - val_accuracy: 0.9474 - 119ms/epoch - 15ms/step\n",
      "Epoch 63/101\n",
      "8/8 - 0s - loss: 0.1938 - accuracy: 0.9492 - val_loss: 0.1784 - val_accuracy: 0.9474 - 169ms/epoch - 21ms/step\n",
      "Epoch 64/101\n",
      "8/8 - 0s - loss: 0.2191 - accuracy: 0.9141 - val_loss: 0.1746 - val_accuracy: 0.9579 - 123ms/epoch - 15ms/step\n",
      "Epoch 65/101\n",
      "8/8 - 0s - loss: 0.2323 - accuracy: 0.9258 - val_loss: 0.1737 - val_accuracy: 0.9579 - 121ms/epoch - 15ms/step\n",
      "Epoch 66/101\n",
      "8/8 - 0s - loss: 0.1782 - accuracy: 0.9414 - val_loss: 0.1722 - val_accuracy: 0.9579 - 139ms/epoch - 17ms/step\n",
      "Epoch 67/101\n",
      "8/8 - 0s - loss: 0.1874 - accuracy: 0.9414 - val_loss: 0.1692 - val_accuracy: 0.9579 - 113ms/epoch - 14ms/step\n",
      "Epoch 68/101\n",
      "8/8 - 0s - loss: 0.1660 - accuracy: 0.9570 - val_loss: 0.1662 - val_accuracy: 0.9579 - 128ms/epoch - 16ms/step\n",
      "Epoch 69/101\n",
      "8/8 - 0s - loss: 0.2299 - accuracy: 0.9297 - val_loss: 0.1644 - val_accuracy: 0.9579 - 148ms/epoch - 19ms/step\n",
      "Epoch 70/101\n",
      "8/8 - 0s - loss: 0.1894 - accuracy: 0.9258 - val_loss: 0.1610 - val_accuracy: 0.9579 - 173ms/epoch - 22ms/step\n",
      "Epoch 71/101\n",
      "8/8 - 0s - loss: 0.1786 - accuracy: 0.9570 - val_loss: 0.1599 - val_accuracy: 0.9579 - 120ms/epoch - 15ms/step\n",
      "Epoch 72/101\n",
      "8/8 - 0s - loss: 0.1665 - accuracy: 0.9570 - val_loss: 0.1519 - val_accuracy: 0.9579 - 116ms/epoch - 15ms/step\n",
      "Epoch 73/101\n",
      "8/8 - 0s - loss: 0.2432 - accuracy: 0.9180 - val_loss: 0.1561 - val_accuracy: 0.9579 - 135ms/epoch - 17ms/step\n",
      "Epoch 74/101\n",
      "8/8 - 0s - loss: 0.1702 - accuracy: 0.9531 - val_loss: 0.1544 - val_accuracy: 0.9579 - 154ms/epoch - 19ms/step\n",
      "Epoch 75/101\n",
      "8/8 - 0s - loss: 0.2297 - accuracy: 0.9414 - val_loss: 0.1526 - val_accuracy: 0.9579 - 144ms/epoch - 18ms/step\n",
      "Epoch 76/101\n",
      "8/8 - 0s - loss: 0.1722 - accuracy: 0.9609 - val_loss: 0.1516 - val_accuracy: 0.9579 - 156ms/epoch - 19ms/step\n",
      "Epoch 77/101\n",
      "8/8 - 0s - loss: 0.1645 - accuracy: 0.9531 - val_loss: 0.1499 - val_accuracy: 0.9579 - 250ms/epoch - 31ms/step\n",
      "Epoch 78/101\n",
      "8/8 - 0s - loss: 0.1887 - accuracy: 0.9531 - val_loss: 0.1461 - val_accuracy: 0.9579 - 170ms/epoch - 21ms/step\n",
      "Epoch 79/101\n",
      "8/8 - 0s - loss: 0.1563 - accuracy: 0.9492 - val_loss: 0.1455 - val_accuracy: 0.9579 - 144ms/epoch - 18ms/step\n",
      "Epoch 80/101\n",
      "8/8 - 0s - loss: 0.1511 - accuracy: 0.9609 - val_loss: 0.1436 - val_accuracy: 0.9579 - 146ms/epoch - 18ms/step\n",
      "Epoch 81/101\n",
      "8/8 - 0s - loss: 0.1574 - accuracy: 0.9453 - val_loss: 0.1421 - val_accuracy: 0.9579 - 177ms/epoch - 22ms/step\n",
      "Epoch 82/101\n",
      "8/8 - 0s - loss: 0.1660 - accuracy: 0.9570 - val_loss: 0.1400 - val_accuracy: 0.9579 - 172ms/epoch - 22ms/step\n",
      "Epoch 83/101\n",
      "8/8 - 0s - loss: 0.1833 - accuracy: 0.9414 - val_loss: 0.1393 - val_accuracy: 0.9579 - 180ms/epoch - 22ms/step\n",
      "Epoch 84/101\n",
      "8/8 - 0s - loss: 0.1900 - accuracy: 0.9609 - val_loss: 0.1399 - val_accuracy: 0.9579 - 199ms/epoch - 25ms/step\n",
      "Epoch 85/101\n",
      "8/8 - 0s - loss: 0.1843 - accuracy: 0.9609 - val_loss: 0.1398 - val_accuracy: 0.9684 - 185ms/epoch - 23ms/step\n",
      "Epoch 86/101\n",
      "8/8 - 0s - loss: 0.1911 - accuracy: 0.9492 - val_loss: 0.1375 - val_accuracy: 0.9684 - 138ms/epoch - 17ms/step\n",
      "Epoch 87/101\n",
      "8/8 - 0s - loss: 0.1988 - accuracy: 0.9453 - val_loss: 0.1369 - val_accuracy: 0.9579 - 166ms/epoch - 21ms/step\n",
      "Epoch 88/101\n",
      "8/8 - 0s - loss: 0.1651 - accuracy: 0.9570 - val_loss: 0.1372 - val_accuracy: 0.9579 - 172ms/epoch - 21ms/step\n",
      "Epoch 89/101\n",
      "8/8 - 0s - loss: 0.1357 - accuracy: 0.9531 - val_loss: 0.1350 - val_accuracy: 0.9579 - 207ms/epoch - 26ms/step\n",
      "Epoch 90/101\n",
      "8/8 - 0s - loss: 0.1643 - accuracy: 0.9648 - val_loss: 0.1348 - val_accuracy: 0.9579 - 170ms/epoch - 21ms/step\n",
      "Epoch 91/101\n",
      "8/8 - 0s - loss: 0.1503 - accuracy: 0.9570 - val_loss: 0.1336 - val_accuracy: 0.9579 - 152ms/epoch - 19ms/step\n",
      "Epoch 92/101\n",
      "8/8 - 0s - loss: 0.1364 - accuracy: 0.9609 - val_loss: 0.1336 - val_accuracy: 0.9684 - 124ms/epoch - 16ms/step\n",
      "Epoch 93/101\n",
      "8/8 - 0s - loss: 0.1529 - accuracy: 0.9570 - val_loss: 0.1318 - val_accuracy: 0.9579 - 169ms/epoch - 21ms/step\n",
      "Epoch 94/101\n",
      "8/8 - 0s - loss: 0.1824 - accuracy: 0.9531 - val_loss: 0.1301 - val_accuracy: 0.9684 - 164ms/epoch - 20ms/step\n",
      "Epoch 95/101\n",
      "8/8 - 0s - loss: 0.1413 - accuracy: 0.9766 - val_loss: 0.1318 - val_accuracy: 0.9684 - 165ms/epoch - 21ms/step\n",
      "Epoch 96/101\n",
      "8/8 - 0s - loss: 0.1153 - accuracy: 0.9844 - val_loss: 0.1350 - val_accuracy: 0.9684 - 120ms/epoch - 15ms/step\n",
      "Epoch 97/101\n",
      "8/8 - 0s - loss: 0.1523 - accuracy: 0.9531 - val_loss: 0.1314 - val_accuracy: 0.9684 - 170ms/epoch - 21ms/step\n",
      "Epoch 98/101\n",
      "8/8 - 0s - loss: 0.1730 - accuracy: 0.9492 - val_loss: 0.1312 - val_accuracy: 0.9684 - 165ms/epoch - 21ms/step\n",
      "Epoch 99/101\n",
      "8/8 - 0s - loss: 0.1334 - accuracy: 0.9648 - val_loss: 0.1311 - val_accuracy: 0.9684 - 166ms/epoch - 21ms/step\n",
      "Epoch 100/101\n",
      "8/8 - 0s - loss: 0.1776 - accuracy: 0.9492 - val_loss: 0.1277 - val_accuracy: 0.9684 - 110ms/epoch - 14ms/step\n",
      "Epoch 101/101\n",
      "8/8 - 0s - loss: 0.1505 - accuracy: 0.9531 - val_loss: 0.1261 - val_accuracy: 0.9684 - 169ms/epoch - 21ms/step\n"
     ]
    }
   ],
   "source": [
    "history = model.fit(X_train, y_train, \n",
    "                    validation_data=[X_test, y_test],\n",
    "                    epochs=EPOCHS,\n",
    "                    verbose=2,\n",
    "                    batch_size=BATCH_SIZE\n",
    "                    )"
   ]
  },
  {
   "cell_type": "code",
   "execution_count": 69,
   "metadata": {},
   "outputs": [],
   "source": [
    "loss_df = pd.DataFrame(history.history)"
   ]
  },
  {
   "cell_type": "code",
   "execution_count": 70,
   "metadata": {},
   "outputs": [
    {
     "data": {
      "text/html": [
       "<div>\n",
       "<style scoped>\n",
       "    .dataframe tbody tr th:only-of-type {\n",
       "        vertical-align: middle;\n",
       "    }\n",
       "\n",
       "    .dataframe tbody tr th {\n",
       "        vertical-align: top;\n",
       "    }\n",
       "\n",
       "    .dataframe thead th {\n",
       "        text-align: right;\n",
       "    }\n",
       "</style>\n",
       "<table border=\"1\" class=\"dataframe\">\n",
       "  <thead>\n",
       "    <tr style=\"text-align: right;\">\n",
       "      <th></th>\n",
       "      <th>loss</th>\n",
       "      <th>accuracy</th>\n",
       "      <th>val_loss</th>\n",
       "      <th>val_accuracy</th>\n",
       "    </tr>\n",
       "  </thead>\n",
       "  <tbody>\n",
       "    <tr>\n",
       "      <th>0</th>\n",
       "      <td>0.865292</td>\n",
       "      <td>0.535156</td>\n",
       "      <td>0.689748</td>\n",
       "      <td>0.736842</td>\n",
       "    </tr>\n",
       "    <tr>\n",
       "      <th>1</th>\n",
       "      <td>0.740951</td>\n",
       "      <td>0.656250</td>\n",
       "      <td>0.670260</td>\n",
       "      <td>0.747368</td>\n",
       "    </tr>\n",
       "    <tr>\n",
       "      <th>2</th>\n",
       "      <td>0.746850</td>\n",
       "      <td>0.609375</td>\n",
       "      <td>0.651829</td>\n",
       "      <td>0.747368</td>\n",
       "    </tr>\n",
       "    <tr>\n",
       "      <th>3</th>\n",
       "      <td>0.696957</td>\n",
       "      <td>0.671875</td>\n",
       "      <td>0.633049</td>\n",
       "      <td>0.757895</td>\n",
       "    </tr>\n",
       "    <tr>\n",
       "      <th>4</th>\n",
       "      <td>0.631167</td>\n",
       "      <td>0.687500</td>\n",
       "      <td>0.614497</td>\n",
       "      <td>0.768421</td>\n",
       "    </tr>\n",
       "  </tbody>\n",
       "</table>\n",
       "</div>"
      ],
      "text/plain": [
       "       loss  accuracy  val_loss  val_accuracy\n",
       "0  0.865292  0.535156  0.689748      0.736842\n",
       "1  0.740951  0.656250  0.670260      0.747368\n",
       "2  0.746850  0.609375  0.651829      0.747368\n",
       "3  0.696957  0.671875  0.633049      0.757895\n",
       "4  0.631167  0.687500  0.614497      0.768421"
      ]
     },
     "execution_count": 70,
     "metadata": {},
     "output_type": "execute_result"
    }
   ],
   "source": [
    "loss_df.head()"
   ]
  },
  {
   "cell_type": "code",
   "execution_count": 71,
   "metadata": {},
   "outputs": [
    {
     "data": {
      "image/png": "[encoded data removed]",
      "text/plain": [
       "<Figure size 1500x800 with 1 Axes>"
      ]
     },
     "metadata": {},
     "output_type": "display_data"
    }
   ],
   "source": [
    "loss_df.plot(y = ['loss', 'val_loss']);"
   ]
  },
  {
   "cell_type": "code",
   "execution_count": 72,
   "metadata": {},
   "outputs": [
    {
     "data": {
      "image/png": "[encoded data removed]",
      "text/plain": [
       "<Figure size 1500x800 with 1 Axes>"
      ]
     },
     "metadata": {},
     "output_type": "display_data"
    }
   ],
   "source": [
    "loss_df.plot(y = ['accuracy', 'val_accuracy']);"
   ]
  },
  {
   "cell_type": "code",
   "execution_count": 73,
   "metadata": {},
   "outputs": [
    {
     "name": "stdout",
     "output_type": "stream",
     "text": [
      "8/8 [==============================] - 0s 14ms/step - loss: 0.0782 - accuracy: 0.9844\n"
     ]
    },
    {
     "data": {
      "text/plain": [
       "[0.07815786451101303, 0.984375]"
      ]
     },
     "execution_count": 73,
     "metadata": {},
     "output_type": "execute_result"
    }
   ],
   "source": [
    "model.evaluate(X_train, y_train)"
   ]
  },
  {
   "cell_type": "code",
   "execution_count": 74,
   "metadata": {},
   "outputs": [
    {
     "name": "stdout",
     "output_type": "stream",
     "text": [
      "3/3 [==============================] - 0s 16ms/step - loss: 0.1261 - accuracy: 0.9684\n"
     ]
    },
    {
     "data": {
      "text/plain": [
       "[0.1260765641927719, 0.9684210419654846]"
      ]
     },
     "execution_count": 74,
     "metadata": {},
     "output_type": "execute_result"
    }
   ],
   "source": [
    "model.evaluate(X_test, y_test)"
   ]
  },
  {
   "cell_type": "code",
   "execution_count": 75,
   "metadata": {},
   "outputs": [
    {
     "name": "stdout",
     "output_type": "stream",
     "text": [
      "8/8 [==============================] - 0s 9ms/step\n"
     ]
    }
   ],
   "source": [
    "y_pred = model.predict(X_train)"
   ]
  },
  {
   "cell_type": "code",
   "execution_count": 76,
   "metadata": {},
   "outputs": [
    {
     "data": {
      "text/plain": [
       "(256,)"
      ]
     },
     "execution_count": 76,
     "metadata": {},
     "output_type": "execute_result"
    }
   ],
   "source": [
    "np.argmax(y_pred, axis = 1).shape"
   ]
  },
  {
   "cell_type": "code",
   "execution_count": 77,
   "metadata": {},
   "outputs": [
    {
     "data": {
      "text/plain": [
       "(256, 2)"
      ]
     },
     "execution_count": 77,
     "metadata": {},
     "output_type": "execute_result"
    }
   ],
   "source": [
    "y_train.shape"
   ]
  },
  {
   "cell_type": "code",
   "execution_count": 78,
   "metadata": {},
   "outputs": [
    {
     "data": {
      "text/plain": [
       "0.984375"
      ]
     },
     "execution_count": 78,
     "metadata": {},
     "output_type": "execute_result"
    }
   ],
   "source": [
    "accuracy_score (np.argmax(y_pred, axis = 1), np.argmax(y_train, axis = 1))"
   ]
  },
  {
   "cell_type": "code",
   "execution_count": 79,
   "metadata": {},
   "outputs": [
    {
     "name": "stdout",
     "output_type": "stream",
     "text": [
      "3/3 [==============================] - 0s 29ms/step\n"
     ]
    },
    {
     "data": {
      "text/plain": [
       "0.968421052631579"
      ]
     },
     "execution_count": 79,
     "metadata": {},
     "output_type": "execute_result"
    }
   ],
   "source": [
    "y_pred = model.predict(X_test)\n",
    "accuracy_score (np.argmax(y_pred, axis = 1), np.argmax(y_test, axis = 1))"
   ]
  },
  {
   "cell_type": "code",
   "execution_count": 81,
   "metadata": {},
   "outputs": [
    {
     "data": {
      "image/png": "[encoded data removed]",
      "text/plain": [
       "<Figure size 1500x600 with 2 Axes>"
      ]
     },
     "metadata": {},
     "output_type": "display_data"
    }
   ],
   "source": [
    "fig, axes = plt.subplots(1,2 , figsize = (15,6))\n",
    "\n",
    "l_range = 50\n",
    "\n",
    "ax = axes[0]\n",
    "y1 = loss_df.columns[0]\n",
    "y2 = loss_df.columns[2]\n",
    "\n",
    "loss_df.plot( y = [y1, y2], ax = ax)\n",
    "\n",
    "# little beautification\n",
    "txtstr = \"Errors: \\n  Start : {:7.4f}\\n   End : {:7.4f}\".format(loss_df.iloc[0][y1],\n",
    "                                                                loss_df.iloc[-1][y2]) #text to plot\n",
    "\n",
    "# properties  matplotlib.patch.Patch \n",
    "props = dict(boxstyle='round', facecolor='aqua', alpha=0.5)\n",
    "\n",
    "# place a text box in upper left in axes coords\n",
    "\n",
    "ax.text(0.6, 0.95, txtstr, transform=ax.transAxes, fontsize=14,\n",
    "        verticalalignment='top', bbox=props)\n",
    "\n",
    "ax.set_xlabel(\"Epochs\")\n",
    "ax.set_ylabel(\"Error\")\n",
    "ax.set_title('Overall')\n",
    "ax.grid();\n",
    "\n",
    "ax = axes[1]\n",
    "y1 = loss_df.columns[1]\n",
    "y2 = loss_df.columns[3]\n",
    "loss_df[-l_range:].plot( y = [y1, y2], ax = ax)\n",
    "\n",
    "# little beautification\n",
    "txtstr = \"Errors: \\n  Start : {:7.4f}\\n   End : {:7.4f}\".format(loss_df.iloc[0][y1],\n",
    "                                                                loss_df.iloc[-1][y2]) #text to plot\n",
    "\n",
    "# place a text box in upper left in axes coords\n",
    "\n",
    "ax.text(0.6, 0.95, txtstr, transform=ax.transAxes, fontsize=14,\n",
    "        verticalalignment='top', bbox=props)\n",
    "\n",
    "ax.set_xlabel(\"Epochs\")\n",
    "ax.set_ylabel(\"Metrics\")\n",
    "ax.set_title(y1.capitalize())\n",
    "ax.grid();\n",
    "plt.tight_layout()"
   ]
  },
  {
   "cell_type": "code",
   "execution_count": 82,
   "metadata": {},
   "outputs": [
    {
     "data": {
      "text/html": [
       "<div>\n",
       "<style scoped>\n",
       "    .dataframe tbody tr th:only-of-type {\n",
       "        vertical-align: middle;\n",
       "    }\n",
       "\n",
       "    .dataframe tbody tr th {\n",
       "        vertical-align: top;\n",
       "    }\n",
       "\n",
       "    .dataframe thead th {\n",
       "        text-align: right;\n",
       "    }\n",
       "</style>\n",
       "<table border=\"1\" class=\"dataframe\">\n",
       "  <thead>\n",
       "    <tr style=\"text-align: right;\">\n",
       "      <th></th>\n",
       "      <th>loss</th>\n",
       "      <th>accuracy</th>\n",
       "      <th>val_loss</th>\n",
       "      <th>val_accuracy</th>\n",
       "    </tr>\n",
       "  </thead>\n",
       "  <tbody>\n",
       "    <tr>\n",
       "      <th>100</th>\n",
       "      <td>0.150479</td>\n",
       "      <td>0.953125</td>\n",
       "      <td>0.126077</td>\n",
       "      <td>0.968421</td>\n",
       "    </tr>\n",
       "  </tbody>\n",
       "</table>\n",
       "</div>"
      ],
      "text/plain": [
       "         loss  accuracy  val_loss  val_accuracy\n",
       "100  0.150479  0.953125  0.126077      0.968421"
      ]
     },
     "execution_count": 82,
     "metadata": {},
     "output_type": "execute_result"
    }
   ],
   "source": [
    "loss_df[loss_df['val_loss'] == loss_df['val_loss'].min()]"
   ]
  },
  {
   "cell_type": "code",
   "execution_count": 83,
   "metadata": {},
   "outputs": [],
   "source": [
    "es_check_point = tf.keras.callbacks.EarlyStopping(\n",
    "    monitor='val_loss',\n",
    "    patience=PATIENCE,\n",
    "    verbose=1,\n",
    "    restore_best_weights=True,\n",
    "    start_from_epoch=0,\n",
    ")\n"
   ]
  },
  {
   "cell_type": "code",
   "execution_count": 84,
   "metadata": {},
   "outputs": [
    {
     "name": "stdout",
     "output_type": "stream",
     "text": [
      "Epoch 1/101\n",
      "8/8 - 0s - loss: 0.1167 - accuracy: 0.9844 - val_loss: 0.1241 - val_accuracy: 0.9684 - 327ms/epoch - 41ms/step\n",
      "Epoch 2/101\n",
      "8/8 - 0s - loss: 0.1526 - accuracy: 0.9688 - val_loss: 0.1268 - val_accuracy: 0.9684 - 213ms/epoch - 27ms/step\n",
      "Epoch 3/101\n",
      "8/8 - 0s - loss: 0.1640 - accuracy: 0.9453 - val_loss: 0.1227 - val_accuracy: 0.9684 - 215ms/epoch - 27ms/step\n",
      "Epoch 4/101\n",
      "8/8 - 0s - loss: 0.1296 - accuracy: 0.9609 - val_loss: 0.1206 - val_accuracy: 0.9684 - 192ms/epoch - 24ms/step\n",
      "Epoch 5/101\n",
      "8/8 - 0s - loss: 0.1444 - accuracy: 0.9727 - val_loss: 0.1195 - val_accuracy: 0.9684 - 159ms/epoch - 20ms/step\n",
      "Epoch 6/101\n",
      "8/8 - 0s - loss: 0.1295 - accuracy: 0.9570 - val_loss: 0.1216 - val_accuracy: 0.9684 - 190ms/epoch - 24ms/step\n",
      "Epoch 7/101\n",
      "8/8 - 0s - loss: 0.1471 - accuracy: 0.9570 - val_loss: 0.1204 - val_accuracy: 0.9684 - 182ms/epoch - 23ms/step\n",
      "Epoch 8/101\n",
      "8/8 - 0s - loss: 0.1945 - accuracy: 0.9453 - val_loss: 0.1166 - val_accuracy: 0.9789 - 124ms/epoch - 16ms/step\n",
      "Epoch 9/101\n",
      "8/8 - 0s - loss: 0.1459 - accuracy: 0.9492 - val_loss: 0.1180 - val_accuracy: 0.9789 - 139ms/epoch - 17ms/step\n",
      "Epoch 10/101\n",
      "8/8 - 0s - loss: 0.1009 - accuracy: 0.9766 - val_loss: 0.1170 - val_accuracy: 0.9684 - 145ms/epoch - 18ms/step\n",
      "Epoch 11/101\n",
      "8/8 - 0s - loss: 0.1592 - accuracy: 0.9492 - val_loss: 0.1152 - val_accuracy: 0.9789 - 150ms/epoch - 19ms/step\n",
      "Epoch 12/101\n",
      "8/8 - 0s - loss: 0.1995 - accuracy: 0.9297 - val_loss: 0.1165 - val_accuracy: 0.9789 - 179ms/epoch - 22ms/step\n",
      "Epoch 13/101\n",
      "8/8 - 0s - loss: 0.1166 - accuracy: 0.9766 - val_loss: 0.1191 - val_accuracy: 0.9789 - 160ms/epoch - 20ms/step\n",
      "Epoch 14/101\n",
      "8/8 - 0s - loss: 0.1164 - accuracy: 0.9805 - val_loss: 0.1170 - val_accuracy: 0.9789 - 134ms/epoch - 17ms/step\n",
      "Epoch 15/101\n",
      "8/8 - 0s - loss: 0.1301 - accuracy: 0.9727 - val_loss: 0.1131 - val_accuracy: 0.9789 - 158ms/epoch - 20ms/step\n",
      "Epoch 16/101\n",
      "8/8 - 0s - loss: 0.1728 - accuracy: 0.9609 - val_loss: 0.1174 - val_accuracy: 0.9789 - 169ms/epoch - 21ms/step\n",
      "Epoch 17/101\n",
      "8/8 - 0s - loss: 0.1193 - accuracy: 0.9727 - val_loss: 0.1153 - val_accuracy: 0.9789 - 172ms/epoch - 21ms/step\n",
      "Epoch 18/101\n",
      "8/8 - 0s - loss: 0.1456 - accuracy: 0.9609 - val_loss: 0.1175 - val_accuracy: 0.9789 - 161ms/epoch - 20ms/step\n",
      "Epoch 19/101\n",
      "8/8 - 0s - loss: 0.1006 - accuracy: 0.9844 - val_loss: 0.1180 - val_accuracy: 0.9789 - 236ms/epoch - 29ms/step\n",
      "Epoch 20/101\n",
      "8/8 - 0s - loss: 0.1478 - accuracy: 0.9688 - val_loss: 0.1211 - val_accuracy: 0.9789 - 191ms/epoch - 24ms/step\n",
      "Epoch 21/101\n",
      "8/8 - 0s - loss: 0.1067 - accuracy: 0.9688 - val_loss: 0.1196 - val_accuracy: 0.9789 - 132ms/epoch - 16ms/step\n",
      "Epoch 22/101\n",
      "8/8 - 0s - loss: 0.1154 - accuracy: 0.9766 - val_loss: 0.1173 - val_accuracy: 0.9684 - 175ms/epoch - 22ms/step\n",
      "Epoch 23/101\n",
      "8/8 - 0s - loss: 0.0889 - accuracy: 0.9805 - val_loss: 0.1220 - val_accuracy: 0.9684 - 133ms/epoch - 17ms/step\n",
      "Epoch 24/101\n",
      "8/8 - 0s - loss: 0.1651 - accuracy: 0.9492 - val_loss: 0.1187 - val_accuracy: 0.9789 - 147ms/epoch - 18ms/step\n",
      "Epoch 25/101\n",
      "Restoring model weights from the end of the best epoch: 15.\n",
      "8/8 - 0s - loss: 0.1145 - accuracy: 0.9688 - val_loss: 0.1191 - val_accuracy: 0.9789 - 128ms/epoch - 16ms/step\n",
      "Epoch 25: early stopping\n"
     ]
    }
   ],
   "source": [
    "history = model.fit(X_train, y_train, \n",
    "                    validation_data=[X_test, y_test],\n",
    "                    epochs=EPOCHS,\n",
    "                    verbose=2,\n",
    "                    batch_size=BATCH_SIZE,\n",
    "                    callbacks=[ es_check_point ]\n",
    "                    )"
   ]
  },
  {
   "cell_type": "code",
   "execution_count": 85,
   "metadata": {},
   "outputs": [
    {
     "name": "stdout",
     "output_type": "stream",
     "text": [
      "8/8 [==============================] - 0s 7ms/step - loss: 0.0694 - accuracy: 0.9883\n"
     ]
    },
    {
     "data": {
      "text/plain": [
       "[0.06942623108625412, 0.98828125]"
      ]
     },
     "execution_count": 85,
     "metadata": {},
     "output_type": "execute_result"
    }
   ],
   "source": [
    "model.evaluate(X_train, y_train)"
   ]
  },
  {
   "cell_type": "code",
   "execution_count": 86,
   "metadata": {},
   "outputs": [
    {
     "name": "stdout",
     "output_type": "stream",
     "text": [
      "3/3 [==============================] - 0s 12ms/step - loss: 0.1131 - accuracy: 0.9789\n"
     ]
    },
    {
     "data": {
      "text/plain": [
       "[0.11314992606639862, 0.9789473414421082]"
      ]
     },
     "execution_count": 86,
     "metadata": {},
     "output_type": "execute_result"
    }
   ],
   "source": [
    "model.evaluate(X_test, y_test)"
   ]
  }
 ],
 "metadata": {
  "accelerator": "GPU",
  "colab": {
   "name": "S05a_one_hidden_layer_with_tanh_wip.ipynb",
   "provenance": []
  },
  "kernelspec": {
   "display_name": "Python 3 (ipykernel)",
   "language": "python",
   "name": "python3"
  },
  "language_info": {
   "codemirror_mode": {
    "name": "ipython",
    "version": 3
   },
   "file_extension": ".py",
   "mimetype": "text/x-python",
   "name": "python",
   "nbconvert_exporter": "python",
   "pygments_lexer": "ipython3",
   "version": "3.11.5"
  }
 },
 "nbformat": 4,
 "nbformat_minor": 4
}
