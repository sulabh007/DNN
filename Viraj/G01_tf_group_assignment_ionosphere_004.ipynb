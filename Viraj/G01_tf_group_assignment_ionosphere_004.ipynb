{
 "cells": [
  {
   "cell_type": "code",
   "execution_count": 133,
   "metadata": {
    "id": "kFZRpLpK02pB"
   },
   "outputs": [],
   "source": [
    "#!/usr/bin/env python\n",
    "# -*- coding: utf-8 -*-"
   ]
  },
  {
   "cell_type": "markdown",
   "metadata": {
    "id": "deSnZmVy02pF"
   },
   "source": [
    "\n",
    "\n",
    "# Deep Neural Networks\n",
    "\n",
    "## Assignment\n",
    "### Neural Network with :\n",
    "\n",
    "- **Ionosphere**\n",
    "- **binary-class**"
   ]
  },
  {
   "cell_type": "code",
   "execution_count": 134,
   "metadata": {
    "id": "rt0pfyeA02pK"
   },
   "outputs": [],
   "source": [
    "###-----------------\n",
    "### Import Libraries\n",
    "###-----------------\n",
    "\n",
    "import os\n",
    "import numpy as np\n",
    "import pandas as pd\n",
    "import matplotlib.pyplot as plt\n",
    "from sklearn import datasets\n",
    "from collections.abc import Callable\n",
    "from typing import Literal\n",
    "from sklearn.model_selection import train_test_split\n",
    "from sklearn.metrics import accuracy_score, confusion_matrix, classification_report, ConfusionMatrixDisplay\n",
    "from sklearn.preprocessing import StandardScaler\n",
    "import tensorflow as tf \n",
    "%matplotlib inline"
   ]
  },
  {
   "cell_type": "code",
   "execution_count": 135,
   "metadata": {},
   "outputs": [],
   "source": [
    "# gpus = tf.config.list_physical_devices('GPU')\n",
    "\n",
    "# try:\n",
    "#     for g in gpus:\n",
    "#         tf.config.experimental.set_memory_growth(g, True)\n",
    "#     logical_gpus = tf.config.list_logical_devices('GPU')\n",
    "#     print (len(gpus), 'Phusical GPUs', len(logical_gpus), 'Logical GPUs')\n",
    "# except:\n",
    "#     print ('invalid device')"
   ]
  },
  {
   "cell_type": "code",
   "execution_count": 136,
   "metadata": {
    "id": "__T9cczP02pL"
   },
   "outputs": [],
   "source": [
    "###----------------\n",
    "### Some parameters\n",
    "###----------------\n",
    "\n",
    "inpDir = '../../input'\n",
    "outDir = '../output'\n",
    "subDir = 'ionosphere'\n",
    "modelDir = '.../models'\n",
    "\n",
    "RANDOM_STATE = 24 # REMEMBER: to remove at the time of promotion to production\n",
    "np.random.seed(RANDOM_STATE) # Set Random Seed for reproducible  results\n",
    "\n",
    "EPOCHS = 101 # number of epochs\n",
    "ALPHA = 0.1 # learning rate\n",
    "NUM_SAMPLES = 1280 # How many samples we want to generate \n",
    "NOISE = 0.2 # Noise to be introduced in the data\n",
    "TEST_SIZE = 0.2\n",
    "BATCH_SIZE = 32\n",
    "TRAIN_SIZE = 256 # fix size of train set sot that we have batches of same size\n",
    "PATIENCE = 10\n",
    "\n",
    "# parameters for Matplotlib\n",
    "params = {'legend.fontsize': 'x-large',\n",
    "          'figure.figsize': (15, 8),\n",
    "          'axes.labelsize': 'x-large',\n",
    "          'axes.titlesize':'x-large',\n",
    "          'xtick.labelsize':'x-large',\n",
    "          'ytick.labelsize':'x-large'\n",
    "         }\n",
    "\n",
    "CMAP = 'coolwarm' # plt.cm.Spectral\n",
    "\n",
    "plt.rcParams.update(params)"
   ]
  },
  {
   "cell_type": "markdown",
   "metadata": {
    "id": "7bhVN20X02pN"
   },
   "source": [
    "## Generate Data Set\n",
    "Ionosphere Dataset"
   ]
  },
  {
   "cell_type": "code",
   "execution_count": 137,
   "metadata": {
    "id": "LXZ37P4G02pP"
   },
   "outputs": [
    {
     "data": {
      "text/html": [
       "<div>\n",
       "<style scoped>\n",
       "    .dataframe tbody tr th:only-of-type {\n",
       "        vertical-align: middle;\n",
       "    }\n",
       "\n",
       "    .dataframe tbody tr th {\n",
       "        vertical-align: top;\n",
       "    }\n",
       "\n",
       "    .dataframe thead th {\n",
       "        text-align: right;\n",
       "    }\n",
       "</style>\n",
       "<table border=\"1\" class=\"dataframe\">\n",
       "  <thead>\n",
       "    <tr style=\"text-align: right;\">\n",
       "      <th></th>\n",
       "      <th>0</th>\n",
       "      <th>1</th>\n",
       "      <th>2</th>\n",
       "      <th>3</th>\n",
       "      <th>4</th>\n",
       "      <th>5</th>\n",
       "      <th>6</th>\n",
       "      <th>7</th>\n",
       "      <th>8</th>\n",
       "      <th>9</th>\n",
       "      <th>...</th>\n",
       "      <th>25</th>\n",
       "      <th>26</th>\n",
       "      <th>27</th>\n",
       "      <th>28</th>\n",
       "      <th>29</th>\n",
       "      <th>30</th>\n",
       "      <th>31</th>\n",
       "      <th>32</th>\n",
       "      <th>33</th>\n",
       "      <th>34</th>\n",
       "    </tr>\n",
       "  </thead>\n",
       "  <tbody>\n",
       "    <tr>\n",
       "      <th>0</th>\n",
       "      <td>1</td>\n",
       "      <td>0</td>\n",
       "      <td>0.99539</td>\n",
       "      <td>-0.05889</td>\n",
       "      <td>0.85243</td>\n",
       "      <td>0.02306</td>\n",
       "      <td>0.83398</td>\n",
       "      <td>-0.37708</td>\n",
       "      <td>1.00000</td>\n",
       "      <td>0.03760</td>\n",
       "      <td>...</td>\n",
       "      <td>-0.51171</td>\n",
       "      <td>0.41078</td>\n",
       "      <td>-0.46168</td>\n",
       "      <td>0.21266</td>\n",
       "      <td>-0.34090</td>\n",
       "      <td>0.42267</td>\n",
       "      <td>-0.54487</td>\n",
       "      <td>0.18641</td>\n",
       "      <td>-0.45300</td>\n",
       "      <td>g</td>\n",
       "    </tr>\n",
       "    <tr>\n",
       "      <th>1</th>\n",
       "      <td>1</td>\n",
       "      <td>0</td>\n",
       "      <td>1.00000</td>\n",
       "      <td>-0.18829</td>\n",
       "      <td>0.93035</td>\n",
       "      <td>-0.36156</td>\n",
       "      <td>-0.10868</td>\n",
       "      <td>-0.93597</td>\n",
       "      <td>1.00000</td>\n",
       "      <td>-0.04549</td>\n",
       "      <td>...</td>\n",
       "      <td>-0.26569</td>\n",
       "      <td>-0.20468</td>\n",
       "      <td>-0.18401</td>\n",
       "      <td>-0.19040</td>\n",
       "      <td>-0.11593</td>\n",
       "      <td>-0.16626</td>\n",
       "      <td>-0.06288</td>\n",
       "      <td>-0.13738</td>\n",
       "      <td>-0.02447</td>\n",
       "      <td>b</td>\n",
       "    </tr>\n",
       "    <tr>\n",
       "      <th>2</th>\n",
       "      <td>1</td>\n",
       "      <td>0</td>\n",
       "      <td>1.00000</td>\n",
       "      <td>-0.03365</td>\n",
       "      <td>1.00000</td>\n",
       "      <td>0.00485</td>\n",
       "      <td>1.00000</td>\n",
       "      <td>-0.12062</td>\n",
       "      <td>0.88965</td>\n",
       "      <td>0.01198</td>\n",
       "      <td>...</td>\n",
       "      <td>-0.40220</td>\n",
       "      <td>0.58984</td>\n",
       "      <td>-0.22145</td>\n",
       "      <td>0.43100</td>\n",
       "      <td>-0.17365</td>\n",
       "      <td>0.60436</td>\n",
       "      <td>-0.24180</td>\n",
       "      <td>0.56045</td>\n",
       "      <td>-0.38238</td>\n",
       "      <td>g</td>\n",
       "    </tr>\n",
       "    <tr>\n",
       "      <th>3</th>\n",
       "      <td>1</td>\n",
       "      <td>0</td>\n",
       "      <td>1.00000</td>\n",
       "      <td>-0.45161</td>\n",
       "      <td>1.00000</td>\n",
       "      <td>1.00000</td>\n",
       "      <td>0.71216</td>\n",
       "      <td>-1.00000</td>\n",
       "      <td>0.00000</td>\n",
       "      <td>0.00000</td>\n",
       "      <td>...</td>\n",
       "      <td>0.90695</td>\n",
       "      <td>0.51613</td>\n",
       "      <td>1.00000</td>\n",
       "      <td>1.00000</td>\n",
       "      <td>-0.20099</td>\n",
       "      <td>0.25682</td>\n",
       "      <td>1.00000</td>\n",
       "      <td>-0.32382</td>\n",
       "      <td>1.00000</td>\n",
       "      <td>b</td>\n",
       "    </tr>\n",
       "    <tr>\n",
       "      <th>4</th>\n",
       "      <td>1</td>\n",
       "      <td>0</td>\n",
       "      <td>1.00000</td>\n",
       "      <td>-0.02401</td>\n",
       "      <td>0.94140</td>\n",
       "      <td>0.06531</td>\n",
       "      <td>0.92106</td>\n",
       "      <td>-0.23255</td>\n",
       "      <td>0.77152</td>\n",
       "      <td>-0.16399</td>\n",
       "      <td>...</td>\n",
       "      <td>-0.65158</td>\n",
       "      <td>0.13290</td>\n",
       "      <td>-0.53206</td>\n",
       "      <td>0.02431</td>\n",
       "      <td>-0.62197</td>\n",
       "      <td>-0.05707</td>\n",
       "      <td>-0.59573</td>\n",
       "      <td>-0.04608</td>\n",
       "      <td>-0.65697</td>\n",
       "      <td>g</td>\n",
       "    </tr>\n",
       "  </tbody>\n",
       "</table>\n",
       "<p>5 rows × 35 columns</p>\n",
       "</div>"
      ],
      "text/plain": [
       "   0   1        2        3        4        5        6        7        8   \\\n",
       "0   1   0  0.99539 -0.05889  0.85243  0.02306  0.83398 -0.37708  1.00000   \n",
       "1   1   0  1.00000 -0.18829  0.93035 -0.36156 -0.10868 -0.93597  1.00000   \n",
       "2   1   0  1.00000 -0.03365  1.00000  0.00485  1.00000 -0.12062  0.88965   \n",
       "3   1   0  1.00000 -0.45161  1.00000  1.00000  0.71216 -1.00000  0.00000   \n",
       "4   1   0  1.00000 -0.02401  0.94140  0.06531  0.92106 -0.23255  0.77152   \n",
       "\n",
       "        9   ...       25       26       27       28       29       30  \\\n",
       "0  0.03760  ... -0.51171  0.41078 -0.46168  0.21266 -0.34090  0.42267   \n",
       "1 -0.04549  ... -0.26569 -0.20468 -0.18401 -0.19040 -0.11593 -0.16626   \n",
       "2  0.01198  ... -0.40220  0.58984 -0.22145  0.43100 -0.17365  0.60436   \n",
       "3  0.00000  ...  0.90695  0.51613  1.00000  1.00000 -0.20099  0.25682   \n",
       "4 -0.16399  ... -0.65158  0.13290 -0.53206  0.02431 -0.62197 -0.05707   \n",
       "\n",
       "        31       32       33  34  \n",
       "0 -0.54487  0.18641 -0.45300   g  \n",
       "1 -0.06288 -0.13738 -0.02447   b  \n",
       "2 -0.24180  0.56045 -0.38238   g  \n",
       "3  1.00000 -0.32382  1.00000   b  \n",
       "4 -0.59573 -0.04608 -0.65697   g  \n",
       "\n",
       "[5 rows x 35 columns]"
      ]
     },
     "execution_count": 137,
     "metadata": {},
     "output_type": "execute_result"
    }
   ],
   "source": [
    "data_df = pd.read_csv('ionosphere.data', header=None)\n",
    "data_df.head()"
   ]
  },
  {
   "cell_type": "code",
   "execution_count": 138,
   "metadata": {
    "colab": {
     "base_uri": "https://localhost:8080/",
     "height": 596
    },
    "id": "PWMWQKQ702pQ",
    "outputId": "80ccd743-533a-4a5d-c009-9318021035a1",
    "scrolled": true
   },
   "outputs": [
    {
     "data": {
      "text/plain": [
       "(351, 35)"
      ]
     },
     "execution_count": 138,
     "metadata": {},
     "output_type": "execute_result"
    }
   ],
   "source": [
    "data_df.shape"
   ]
  },
  {
   "cell_type": "code",
   "execution_count": 139,
   "metadata": {},
   "outputs": [
    {
     "data": {
      "text/plain": [
       "0     0\n",
       "1     0\n",
       "2     0\n",
       "3     0\n",
       "4     0\n",
       "5     0\n",
       "6     0\n",
       "7     0\n",
       "8     0\n",
       "9     0\n",
       "10    0\n",
       "11    0\n",
       "12    0\n",
       "13    0\n",
       "14    0\n",
       "15    0\n",
       "16    0\n",
       "17    0\n",
       "18    0\n",
       "19    0\n",
       "20    0\n",
       "21    0\n",
       "22    0\n",
       "23    0\n",
       "24    0\n",
       "25    0\n",
       "26    0\n",
       "27    0\n",
       "28    0\n",
       "29    0\n",
       "30    0\n",
       "31    0\n",
       "32    0\n",
       "33    0\n",
       "34    0\n",
       "dtype: int64"
      ]
     },
     "execution_count": 139,
     "metadata": {},
     "output_type": "execute_result"
    }
   ],
   "source": [
    "data_df.isnull().sum()"
   ]
  },
  {
   "cell_type": "code",
   "execution_count": 140,
   "metadata": {},
   "outputs": [
    {
     "data": {
      "text/plain": [
       "Index([               0,                1,                2,                3,\n",
       "                      4,                5,                6,                7,\n",
       "                      8,                9,               10,               11,\n",
       "                     12,               13,               14,               15,\n",
       "                     16,               17,               18,               19,\n",
       "                     20,               21,               22,               23,\n",
       "                     24,               25,               26,               27,\n",
       "                     28,               29,               30,               31,\n",
       "                     32,               33, 'Classification'],\n",
       "      dtype='object')"
      ]
     },
     "execution_count": 140,
     "metadata": {},
     "output_type": "execute_result"
    }
   ],
   "source": [
    "data_df = data_df.rename(columns={34: 'Classification'})\n",
    "data_df.columns"
   ]
  },
  {
   "cell_type": "code",
   "execution_count": 141,
   "metadata": {},
   "outputs": [
    {
     "data": {
      "text/plain": [
       "0                 0\n",
       "1                 0\n",
       "2                 0\n",
       "3                 0\n",
       "4                 0\n",
       "5                 0\n",
       "6                 0\n",
       "7                 0\n",
       "8                 0\n",
       "9                 0\n",
       "10                0\n",
       "11                0\n",
       "12                0\n",
       "13                0\n",
       "14                0\n",
       "15                0\n",
       "16                0\n",
       "17                0\n",
       "18                0\n",
       "19                0\n",
       "20                0\n",
       "21                0\n",
       "22                0\n",
       "23                0\n",
       "24                0\n",
       "25                0\n",
       "26                0\n",
       "27                0\n",
       "28                0\n",
       "29                0\n",
       "30                0\n",
       "31                0\n",
       "32                0\n",
       "33                0\n",
       "Classification    0\n",
       "dtype: int64"
      ]
     },
     "execution_count": 141,
     "metadata": {},
     "output_type": "execute_result"
    }
   ],
   "source": [
    "data_df.isna().sum()"
   ]
  },
  {
   "cell_type": "code",
   "execution_count": 142,
   "metadata": {},
   "outputs": [
    {
     "data": {
      "text/html": [
       "<div>\n",
       "<style scoped>\n",
       "    .dataframe tbody tr th:only-of-type {\n",
       "        vertical-align: middle;\n",
       "    }\n",
       "\n",
       "    .dataframe tbody tr th {\n",
       "        vertical-align: top;\n",
       "    }\n",
       "\n",
       "    .dataframe thead th {\n",
       "        text-align: right;\n",
       "    }\n",
       "</style>\n",
       "<table border=\"1\" class=\"dataframe\">\n",
       "  <thead>\n",
       "    <tr style=\"text-align: right;\">\n",
       "      <th></th>\n",
       "      <th>0</th>\n",
       "      <th>1</th>\n",
       "      <th>2</th>\n",
       "      <th>3</th>\n",
       "      <th>4</th>\n",
       "      <th>5</th>\n",
       "      <th>6</th>\n",
       "      <th>7</th>\n",
       "      <th>8</th>\n",
       "      <th>9</th>\n",
       "      <th>...</th>\n",
       "      <th>25</th>\n",
       "      <th>26</th>\n",
       "      <th>27</th>\n",
       "      <th>28</th>\n",
       "      <th>29</th>\n",
       "      <th>30</th>\n",
       "      <th>31</th>\n",
       "      <th>32</th>\n",
       "      <th>33</th>\n",
       "      <th>Classification</th>\n",
       "    </tr>\n",
       "  </thead>\n",
       "  <tbody>\n",
       "    <tr>\n",
       "      <th>0</th>\n",
       "      <td>1</td>\n",
       "      <td>0</td>\n",
       "      <td>0.99539</td>\n",
       "      <td>-0.05889</td>\n",
       "      <td>0.85243</td>\n",
       "      <td>0.02306</td>\n",
       "      <td>0.83398</td>\n",
       "      <td>-0.37708</td>\n",
       "      <td>1.00000</td>\n",
       "      <td>0.03760</td>\n",
       "      <td>...</td>\n",
       "      <td>-0.51171</td>\n",
       "      <td>0.41078</td>\n",
       "      <td>-0.46168</td>\n",
       "      <td>0.21266</td>\n",
       "      <td>-0.34090</td>\n",
       "      <td>0.42267</td>\n",
       "      <td>-0.54487</td>\n",
       "      <td>0.18641</td>\n",
       "      <td>-0.45300</td>\n",
       "      <td>g</td>\n",
       "    </tr>\n",
       "    <tr>\n",
       "      <th>1</th>\n",
       "      <td>1</td>\n",
       "      <td>0</td>\n",
       "      <td>1.00000</td>\n",
       "      <td>-0.18829</td>\n",
       "      <td>0.93035</td>\n",
       "      <td>-0.36156</td>\n",
       "      <td>-0.10868</td>\n",
       "      <td>-0.93597</td>\n",
       "      <td>1.00000</td>\n",
       "      <td>-0.04549</td>\n",
       "      <td>...</td>\n",
       "      <td>-0.26569</td>\n",
       "      <td>-0.20468</td>\n",
       "      <td>-0.18401</td>\n",
       "      <td>-0.19040</td>\n",
       "      <td>-0.11593</td>\n",
       "      <td>-0.16626</td>\n",
       "      <td>-0.06288</td>\n",
       "      <td>-0.13738</td>\n",
       "      <td>-0.02447</td>\n",
       "      <td>b</td>\n",
       "    </tr>\n",
       "    <tr>\n",
       "      <th>2</th>\n",
       "      <td>1</td>\n",
       "      <td>0</td>\n",
       "      <td>1.00000</td>\n",
       "      <td>-0.03365</td>\n",
       "      <td>1.00000</td>\n",
       "      <td>0.00485</td>\n",
       "      <td>1.00000</td>\n",
       "      <td>-0.12062</td>\n",
       "      <td>0.88965</td>\n",
       "      <td>0.01198</td>\n",
       "      <td>...</td>\n",
       "      <td>-0.40220</td>\n",
       "      <td>0.58984</td>\n",
       "      <td>-0.22145</td>\n",
       "      <td>0.43100</td>\n",
       "      <td>-0.17365</td>\n",
       "      <td>0.60436</td>\n",
       "      <td>-0.24180</td>\n",
       "      <td>0.56045</td>\n",
       "      <td>-0.38238</td>\n",
       "      <td>g</td>\n",
       "    </tr>\n",
       "    <tr>\n",
       "      <th>3</th>\n",
       "      <td>1</td>\n",
       "      <td>0</td>\n",
       "      <td>1.00000</td>\n",
       "      <td>-0.45161</td>\n",
       "      <td>1.00000</td>\n",
       "      <td>1.00000</td>\n",
       "      <td>0.71216</td>\n",
       "      <td>-1.00000</td>\n",
       "      <td>0.00000</td>\n",
       "      <td>0.00000</td>\n",
       "      <td>...</td>\n",
       "      <td>0.90695</td>\n",
       "      <td>0.51613</td>\n",
       "      <td>1.00000</td>\n",
       "      <td>1.00000</td>\n",
       "      <td>-0.20099</td>\n",
       "      <td>0.25682</td>\n",
       "      <td>1.00000</td>\n",
       "      <td>-0.32382</td>\n",
       "      <td>1.00000</td>\n",
       "      <td>b</td>\n",
       "    </tr>\n",
       "    <tr>\n",
       "      <th>4</th>\n",
       "      <td>1</td>\n",
       "      <td>0</td>\n",
       "      <td>1.00000</td>\n",
       "      <td>-0.02401</td>\n",
       "      <td>0.94140</td>\n",
       "      <td>0.06531</td>\n",
       "      <td>0.92106</td>\n",
       "      <td>-0.23255</td>\n",
       "      <td>0.77152</td>\n",
       "      <td>-0.16399</td>\n",
       "      <td>...</td>\n",
       "      <td>-0.65158</td>\n",
       "      <td>0.13290</td>\n",
       "      <td>-0.53206</td>\n",
       "      <td>0.02431</td>\n",
       "      <td>-0.62197</td>\n",
       "      <td>-0.05707</td>\n",
       "      <td>-0.59573</td>\n",
       "      <td>-0.04608</td>\n",
       "      <td>-0.65697</td>\n",
       "      <td>g</td>\n",
       "    </tr>\n",
       "  </tbody>\n",
       "</table>\n",
       "<p>5 rows × 35 columns</p>\n",
       "</div>"
      ],
      "text/plain": [
       "   0  1        2        3        4        5        6        7        8  \\\n",
       "0  1  0  0.99539 -0.05889  0.85243  0.02306  0.83398 -0.37708  1.00000   \n",
       "1  1  0  1.00000 -0.18829  0.93035 -0.36156 -0.10868 -0.93597  1.00000   \n",
       "2  1  0  1.00000 -0.03365  1.00000  0.00485  1.00000 -0.12062  0.88965   \n",
       "3  1  0  1.00000 -0.45161  1.00000  1.00000  0.71216 -1.00000  0.00000   \n",
       "4  1  0  1.00000 -0.02401  0.94140  0.06531  0.92106 -0.23255  0.77152   \n",
       "\n",
       "         9  ...       25       26       27       28       29       30  \\\n",
       "0  0.03760  ... -0.51171  0.41078 -0.46168  0.21266 -0.34090  0.42267   \n",
       "1 -0.04549  ... -0.26569 -0.20468 -0.18401 -0.19040 -0.11593 -0.16626   \n",
       "2  0.01198  ... -0.40220  0.58984 -0.22145  0.43100 -0.17365  0.60436   \n",
       "3  0.00000  ...  0.90695  0.51613  1.00000  1.00000 -0.20099  0.25682   \n",
       "4 -0.16399  ... -0.65158  0.13290 -0.53206  0.02431 -0.62197 -0.05707   \n",
       "\n",
       "        31       32       33  Classification  \n",
       "0 -0.54487  0.18641 -0.45300               g  \n",
       "1 -0.06288 -0.13738 -0.02447               b  \n",
       "2 -0.24180  0.56045 -0.38238               g  \n",
       "3  1.00000 -0.32382  1.00000               b  \n",
       "4 -0.59573 -0.04608 -0.65697               g  \n",
       "\n",
       "[5 rows x 35 columns]"
      ]
     },
     "execution_count": 142,
     "metadata": {},
     "output_type": "execute_result"
    }
   ],
   "source": [
    "data_df.head()"
   ]
  },
  {
   "cell_type": "code",
   "execution_count": 143,
   "metadata": {},
   "outputs": [
    {
     "data": {
      "text/plain": [
       "array(['g', 'b'], dtype=object)"
      ]
     },
     "execution_count": 143,
     "metadata": {},
     "output_type": "execute_result"
    }
   ],
   "source": [
    "data_df['Classification'].unique()"
   ]
  },
  {
   "cell_type": "code",
   "execution_count": 144,
   "metadata": {},
   "outputs": [],
   "source": [
    "labels = { 'g' : 'Good', 'b': 'Bad'}"
   ]
  },
  {
   "cell_type": "code",
   "execution_count": 145,
   "metadata": {},
   "outputs": [
    {
     "data": {
      "text/plain": [
       "((351, 34), (351,))"
      ]
     },
     "execution_count": 145,
     "metadata": {},
     "output_type": "execute_result"
    }
   ],
   "source": [
    "features_df = data_df.drop('Classification', axis = 1) # drop label col\n",
    "\n",
    "label_df = data_df['Classification'] # labels\n",
    "\n",
    "features_df.shape, label_df.shape"
   ]
  },
  {
   "cell_type": "code",
   "execution_count": 146,
   "metadata": {},
   "outputs": [
    {
     "data": {
      "text/html": [
       "<div>\n",
       "<style scoped>\n",
       "    .dataframe tbody tr th:only-of-type {\n",
       "        vertical-align: middle;\n",
       "    }\n",
       "\n",
       "    .dataframe tbody tr th {\n",
       "        vertical-align: top;\n",
       "    }\n",
       "\n",
       "    .dataframe thead th {\n",
       "        text-align: right;\n",
       "    }\n",
       "</style>\n",
       "<table border=\"1\" class=\"dataframe\">\n",
       "  <thead>\n",
       "    <tr style=\"text-align: right;\">\n",
       "      <th></th>\n",
       "      <th>b</th>\n",
       "      <th>g</th>\n",
       "    </tr>\n",
       "  </thead>\n",
       "  <tbody>\n",
       "    <tr>\n",
       "      <th>0</th>\n",
       "      <td>False</td>\n",
       "      <td>True</td>\n",
       "    </tr>\n",
       "    <tr>\n",
       "      <th>1</th>\n",
       "      <td>True</td>\n",
       "      <td>False</td>\n",
       "    </tr>\n",
       "    <tr>\n",
       "      <th>2</th>\n",
       "      <td>False</td>\n",
       "      <td>True</td>\n",
       "    </tr>\n",
       "    <tr>\n",
       "      <th>3</th>\n",
       "      <td>True</td>\n",
       "      <td>False</td>\n",
       "    </tr>\n",
       "    <tr>\n",
       "      <th>4</th>\n",
       "      <td>False</td>\n",
       "      <td>True</td>\n",
       "    </tr>\n",
       "    <tr>\n",
       "      <th>...</th>\n",
       "      <td>...</td>\n",
       "      <td>...</td>\n",
       "    </tr>\n",
       "    <tr>\n",
       "      <th>346</th>\n",
       "      <td>False</td>\n",
       "      <td>True</td>\n",
       "    </tr>\n",
       "    <tr>\n",
       "      <th>347</th>\n",
       "      <td>False</td>\n",
       "      <td>True</td>\n",
       "    </tr>\n",
       "    <tr>\n",
       "      <th>348</th>\n",
       "      <td>False</td>\n",
       "      <td>True</td>\n",
       "    </tr>\n",
       "    <tr>\n",
       "      <th>349</th>\n",
       "      <td>False</td>\n",
       "      <td>True</td>\n",
       "    </tr>\n",
       "    <tr>\n",
       "      <th>350</th>\n",
       "      <td>False</td>\n",
       "      <td>True</td>\n",
       "    </tr>\n",
       "  </tbody>\n",
       "</table>\n",
       "<p>351 rows × 2 columns</p>\n",
       "</div>"
      ],
      "text/plain": [
       "         b      g\n",
       "0    False   True\n",
       "1     True  False\n",
       "2    False   True\n",
       "3     True  False\n",
       "4    False   True\n",
       "..     ...    ...\n",
       "346  False   True\n",
       "347  False   True\n",
       "348  False   True\n",
       "349  False   True\n",
       "350  False   True\n",
       "\n",
       "[351 rows x 2 columns]"
      ]
     },
     "execution_count": 146,
     "metadata": {},
     "output_type": "execute_result"
    }
   ],
   "source": [
    "label_df = pd.get_dummies(label_df)\n",
    "label_df"
   ]
  },
  {
   "cell_type": "code",
   "execution_count": 147,
   "metadata": {},
   "outputs": [
    {
     "data": {
      "text/html": [
       "<div>\n",
       "<style scoped>\n",
       "    .dataframe tbody tr th:only-of-type {\n",
       "        vertical-align: middle;\n",
       "    }\n",
       "\n",
       "    .dataframe tbody tr th {\n",
       "        vertical-align: top;\n",
       "    }\n",
       "\n",
       "    .dataframe thead th {\n",
       "        text-align: right;\n",
       "    }\n",
       "</style>\n",
       "<table border=\"1\" class=\"dataframe\">\n",
       "  <thead>\n",
       "    <tr style=\"text-align: right;\">\n",
       "      <th></th>\n",
       "      <th>b</th>\n",
       "      <th>g</th>\n",
       "    </tr>\n",
       "  </thead>\n",
       "  <tbody>\n",
       "    <tr>\n",
       "      <th>0</th>\n",
       "      <td>False</td>\n",
       "      <td>True</td>\n",
       "    </tr>\n",
       "    <tr>\n",
       "      <th>1</th>\n",
       "      <td>True</td>\n",
       "      <td>False</td>\n",
       "    </tr>\n",
       "    <tr>\n",
       "      <th>2</th>\n",
       "      <td>False</td>\n",
       "      <td>True</td>\n",
       "    </tr>\n",
       "    <tr>\n",
       "      <th>3</th>\n",
       "      <td>True</td>\n",
       "      <td>False</td>\n",
       "    </tr>\n",
       "    <tr>\n",
       "      <th>4</th>\n",
       "      <td>False</td>\n",
       "      <td>True</td>\n",
       "    </tr>\n",
       "  </tbody>\n",
       "</table>\n",
       "</div>"
      ],
      "text/plain": [
       "       b      g\n",
       "0  False   True\n",
       "1   True  False\n",
       "2  False   True\n",
       "3   True  False\n",
       "4  False   True"
      ]
     },
     "execution_count": 147,
     "metadata": {},
     "output_type": "execute_result"
    }
   ],
   "source": [
    "label_df.head()"
   ]
  },
  {
   "cell_type": "code",
   "execution_count": 148,
   "metadata": {},
   "outputs": [
    {
     "name": "stdout",
     "output_type": "stream",
     "text": [
      "(256, 34) (256, 2) (95, 34) (95, 2)\n"
     ]
    }
   ],
   "source": [
    "#  Split the data in training and test sets to measure performance of the model.\n",
    "X_train, X_test, y_train, y_test = train_test_split(features_df, label_df, \n",
    "                                                    stratify=label_df,\n",
    "                                                    train_size=TRAIN_SIZE, \n",
    "                                                    random_state=RANDOM_STATE )\n",
    "\n",
    "print (X_train.shape, y_train.shape, X_test.shape, y_test.shape)"
   ]
  },
  {
   "cell_type": "code",
   "execution_count": 149,
   "metadata": {},
   "outputs": [],
   "source": [
    "scaler = StandardScaler() # get the scaler\n",
    "\n",
    "X_train = scaler.fit_transform(X_train) # train\n",
    "X_test = scaler.transform(X_test) # test\n",
    "\n",
    "y_train = y_train.to_numpy() # array\n",
    "y_test = y_test.to_numpy() # convert to array"
   ]
  },
  {
   "cell_type": "code",
   "execution_count": 150,
   "metadata": {},
   "outputs": [
    {
     "data": {
      "text/plain": [
       "array([[ True, False],\n",
       "       [False,  True],\n",
       "       [False,  True],\n",
       "       [False,  True],\n",
       "       [False,  True],\n",
       "       [ True, False],\n",
       "       [False,  True],\n",
       "       [ True, False],\n",
       "       [ True, False],\n",
       "       [False,  True],\n",
       "       [False,  True],\n",
       "       [ True, False],\n",
       "       [ True, False],\n",
       "       [ True, False],\n",
       "       [ True, False],\n",
       "       [False,  True],\n",
       "       [False,  True],\n",
       "       [ True, False],\n",
       "       [ True, False],\n",
       "       [False,  True],\n",
       "       [False,  True],\n",
       "       [False,  True],\n",
       "       [False,  True],\n",
       "       [False,  True],\n",
       "       [False,  True],\n",
       "       [False,  True],\n",
       "       [ True, False],\n",
       "       [False,  True],\n",
       "       [False,  True],\n",
       "       [ True, False],\n",
       "       [False,  True],\n",
       "       [False,  True],\n",
       "       [False,  True],\n",
       "       [False,  True],\n",
       "       [False,  True],\n",
       "       [ True, False],\n",
       "       [False,  True],\n",
       "       [False,  True],\n",
       "       [False,  True],\n",
       "       [False,  True],\n",
       "       [ True, False],\n",
       "       [ True, False],\n",
       "       [ True, False],\n",
       "       [ True, False],\n",
       "       [ True, False],\n",
       "       [ True, False],\n",
       "       [ True, False],\n",
       "       [False,  True],\n",
       "       [False,  True],\n",
       "       [False,  True],\n",
       "       [ True, False],\n",
       "       [ True, False],\n",
       "       [False,  True],\n",
       "       [False,  True],\n",
       "       [ True, False],\n",
       "       [False,  True],\n",
       "       [False,  True],\n",
       "       [False,  True],\n",
       "       [ True, False],\n",
       "       [False,  True],\n",
       "       [ True, False],\n",
       "       [False,  True],\n",
       "       [False,  True],\n",
       "       [False,  True],\n",
       "       [False,  True],\n",
       "       [False,  True],\n",
       "       [False,  True],\n",
       "       [False,  True],\n",
       "       [False,  True],\n",
       "       [False,  True],\n",
       "       [ True, False],\n",
       "       [False,  True],\n",
       "       [False,  True],\n",
       "       [False,  True],\n",
       "       [False,  True],\n",
       "       [False,  True],\n",
       "       [False,  True],\n",
       "       [False,  True],\n",
       "       [ True, False],\n",
       "       [False,  True],\n",
       "       [ True, False],\n",
       "       [False,  True],\n",
       "       [False,  True],\n",
       "       [ True, False],\n",
       "       [ True, False],\n",
       "       [False,  True],\n",
       "       [False,  True],\n",
       "       [False,  True],\n",
       "       [ True, False],\n",
       "       [False,  True],\n",
       "       [ True, False],\n",
       "       [ True, False],\n",
       "       [ True, False],\n",
       "       [ True, False],\n",
       "       [ True, False],\n",
       "       [False,  True],\n",
       "       [False,  True],\n",
       "       [False,  True],\n",
       "       [ True, False],\n",
       "       [False,  True],\n",
       "       [False,  True],\n",
       "       [ True, False],\n",
       "       [ True, False],\n",
       "       [ True, False],\n",
       "       [False,  True],\n",
       "       [False,  True],\n",
       "       [ True, False],\n",
       "       [ True, False],\n",
       "       [ True, False],\n",
       "       [False,  True],\n",
       "       [False,  True],\n",
       "       [ True, False],\n",
       "       [False,  True],\n",
       "       [False,  True],\n",
       "       [ True, False],\n",
       "       [False,  True],\n",
       "       [ True, False],\n",
       "       [ True, False],\n",
       "       [ True, False],\n",
       "       [ True, False],\n",
       "       [ True, False],\n",
       "       [ True, False],\n",
       "       [False,  True],\n",
       "       [False,  True],\n",
       "       [False,  True],\n",
       "       [False,  True],\n",
       "       [False,  True],\n",
       "       [False,  True],\n",
       "       [ True, False],\n",
       "       [ True, False],\n",
       "       [False,  True],\n",
       "       [False,  True],\n",
       "       [ True, False],\n",
       "       [False,  True],\n",
       "       [False,  True],\n",
       "       [False,  True],\n",
       "       [False,  True],\n",
       "       [False,  True],\n",
       "       [False,  True],\n",
       "       [False,  True],\n",
       "       [False,  True],\n",
       "       [False,  True],\n",
       "       [ True, False],\n",
       "       [ True, False],\n",
       "       [ True, False],\n",
       "       [ True, False],\n",
       "       [False,  True],\n",
       "       [ True, False],\n",
       "       [False,  True],\n",
       "       [False,  True],\n",
       "       [ True, False],\n",
       "       [ True, False],\n",
       "       [False,  True],\n",
       "       [False,  True],\n",
       "       [False,  True],\n",
       "       [False,  True],\n",
       "       [ True, False],\n",
       "       [ True, False],\n",
       "       [False,  True],\n",
       "       [False,  True],\n",
       "       [False,  True],\n",
       "       [False,  True],\n",
       "       [False,  True],\n",
       "       [ True, False],\n",
       "       [False,  True],\n",
       "       [False,  True],\n",
       "       [False,  True],\n",
       "       [False,  True],\n",
       "       [ True, False],\n",
       "       [ True, False],\n",
       "       [False,  True],\n",
       "       [False,  True],\n",
       "       [ True, False],\n",
       "       [False,  True],\n",
       "       [ True, False],\n",
       "       [False,  True],\n",
       "       [False,  True],\n",
       "       [False,  True],\n",
       "       [ True, False],\n",
       "       [False,  True],\n",
       "       [False,  True],\n",
       "       [False,  True],\n",
       "       [False,  True],\n",
       "       [ True, False],\n",
       "       [False,  True],\n",
       "       [ True, False],\n",
       "       [False,  True],\n",
       "       [False,  True],\n",
       "       [False,  True],\n",
       "       [False,  True],\n",
       "       [False,  True],\n",
       "       [False,  True],\n",
       "       [False,  True],\n",
       "       [False,  True],\n",
       "       [False,  True],\n",
       "       [ True, False],\n",
       "       [False,  True],\n",
       "       [ True, False],\n",
       "       [False,  True],\n",
       "       [ True, False],\n",
       "       [False,  True],\n",
       "       [False,  True],\n",
       "       [ True, False],\n",
       "       [False,  True],\n",
       "       [ True, False],\n",
       "       [ True, False],\n",
       "       [False,  True],\n",
       "       [False,  True],\n",
       "       [False,  True],\n",
       "       [ True, False],\n",
       "       [False,  True],\n",
       "       [ True, False],\n",
       "       [False,  True],\n",
       "       [False,  True],\n",
       "       [False,  True],\n",
       "       [False,  True],\n",
       "       [ True, False],\n",
       "       [ True, False],\n",
       "       [ True, False],\n",
       "       [False,  True],\n",
       "       [False,  True],\n",
       "       [False,  True],\n",
       "       [ True, False],\n",
       "       [False,  True],\n",
       "       [False,  True],\n",
       "       [False,  True],\n",
       "       [False,  True],\n",
       "       [False,  True],\n",
       "       [False,  True],\n",
       "       [False,  True],\n",
       "       [ True, False],\n",
       "       [False,  True],\n",
       "       [ True, False],\n",
       "       [False,  True],\n",
       "       [False,  True],\n",
       "       [False,  True],\n",
       "       [False,  True],\n",
       "       [ True, False],\n",
       "       [False,  True],\n",
       "       [False,  True],\n",
       "       [False,  True],\n",
       "       [False,  True],\n",
       "       [False,  True],\n",
       "       [False,  True],\n",
       "       [ True, False],\n",
       "       [False,  True],\n",
       "       [ True, False],\n",
       "       [ True, False],\n",
       "       [False,  True],\n",
       "       [False,  True],\n",
       "       [ True, False],\n",
       "       [False,  True],\n",
       "       [False,  True],\n",
       "       [ True, False],\n",
       "       [ True, False],\n",
       "       [False,  True]])"
      ]
     },
     "execution_count": 150,
     "metadata": {},
     "output_type": "execute_result"
    }
   ],
   "source": [
    "y_train"
   ]
  },
  {
   "cell_type": "markdown",
   "metadata": {
    "id": "c7w9j7Yo02pX"
   },
   "source": [
    "## Neural Network\n",
    "\n",
    "Let's start with simple network. Our data has **two** features. Hence size of input layer will also be two. Lets code our output as two classes. The hidden layer could be of **any size**. One need to execute a handful of iterations to arrive at right size of hidden layer. For purpose of today's discussions, size of hidden layer is taken as shown below.\n",
    "<img src='../../images/dnn_nb_s05_fig1.png' width = '500' alt = 'Session 5 Figure 1'/>"
   ]
  },
  {
   "cell_type": "markdown",
   "metadata": {},
   "source": [
    "## Prepare Model:"
   ]
  },
  {
   "cell_type": "code",
   "execution_count": 151,
   "metadata": {},
   "outputs": [
    {
     "name": "stdout",
     "output_type": "stream",
     "text": [
      "Model: \"model_3\"\n",
      "_________________________________________________________________\n",
      " Layer (type)                Output Shape              Param #   \n",
      "=================================================================\n",
      " input_4 (InputLayer)        [(None, 34)]              0         \n",
      "                                                                 \n",
      " dense_9 (Dense)             (None, 18)                630       \n",
      "                                                                 \n",
      " batch_normalization_6 (Batc  (None, 18)               72        \n",
      " hNormalization)                                                 \n",
      "                                                                 \n",
      " dropout_6 (Dropout)         (None, 18)                0         \n",
      "                                                                 \n",
      " dense_10 (Dense)            (None, 9)                 171       \n",
      "                                                                 \n",
      " batch_normalization_7 (Batc  (None, 9)                36        \n",
      " hNormalization)                                                 \n",
      "                                                                 \n",
      " dropout_7 (Dropout)         (None, 9)                 0         \n",
      "                                                                 \n",
      " dense_11 (Dense)            (None, 2)                 20        \n",
      "                                                                 \n",
      "=================================================================\n",
      "Total params: 929\n",
      "Trainable params: 875\n",
      "Non-trainable params: 54\n",
      "_________________________________________________________________\n"
     ]
    }
   ],
   "source": [
    "knl_reg = tf.keras.regularizers.L2(l2 = 0.001)\n",
    "\n",
    "dor1 = 0.1\n",
    "\n",
    "# model = tf.keras.Sequential([\n",
    "    \n",
    "#     tf.keras.layers.Dense(18, #activation='swish',\n",
    "#                           kernel_regularizer = knl_reg ),\n",
    "    \n",
    "#     tf.keras.layers.BatchNormalization(),\n",
    "    \n",
    "#     #Put Activation Layer here\n",
    "#     tf.keras.layers.Activation('relu'),\n",
    "    \n",
    "#     tf.keras.layers.Dropout(rate=dor1, seed=RANDOM_STATE),\n",
    "    \n",
    "#     tf.keras.layers.Dense(9, #activation='relu',\n",
    "#                           kernel_regularizer = knl_reg ),\n",
    "    \n",
    "#     tf.keras.layers.Dense(2)\n",
    "\n",
    "# ])\n",
    "\n",
    "input_layer = tf.keras.Input(shape=(34,))\n",
    "\n",
    "x = tf.keras.layers.Dense(18, activation='relu',\n",
    "                          kernel_regularizer = knl_reg ) (input_layer)\n",
    "\n",
    "x = tf.keras.layers.BatchNormalization()(x)\n",
    "x = tf.keras.layers.Dropout(dor1)(x)\n",
    "\n",
    "x = tf.keras.layers.Dense(9, activation='relu',\n",
    "                          kernel_regularizer = knl_reg ) (x)\n",
    "\n",
    "x = tf.keras.layers.BatchNormalization()(x)\n",
    "x = tf.keras.layers.Dropout(dor1)(x)\n",
    "\n",
    "output_layer = tf.keras.layers.Dense(2) (x)\n",
    "\n",
    "model = tf.keras.Model(inputs= input_layer, outputs = output_layer)\n",
    "\n",
    "model.summary()"
   ]
  },
  {
   "cell_type": "code",
   "execution_count": 152,
   "metadata": {},
   "outputs": [],
   "source": [
    "loss_function = tf.losses.CategoricalCrossentropy(from_logits=True)"
   ]
  },
  {
   "cell_type": "code",
   "execution_count": 153,
   "metadata": {},
   "outputs": [
    {
     "data": {
      "text/plain": [
       "(1, 34)"
      ]
     },
     "execution_count": 153,
     "metadata": {},
     "output_type": "execute_result"
    }
   ],
   "source": [
    "X_train[:1].shape"
   ]
  },
  {
   "cell_type": "code",
   "execution_count": 154,
   "metadata": {},
   "outputs": [
    {
     "data": {
      "text/plain": [
       "<tf.Tensor: shape=(1, 2), dtype=float32, numpy=array([[0.25360233, 0.0166675 ]], dtype=float32)>"
      ]
     },
     "execution_count": 154,
     "metadata": {},
     "output_type": "execute_result"
    }
   ],
   "source": [
    "predict = model(X_train[:1])\n",
    "predict"
   ]
  },
  {
   "cell_type": "code",
   "execution_count": 155,
   "metadata": {},
   "outputs": [
    {
     "data": {
      "text/plain": [
       "0.2702698"
      ]
     },
     "execution_count": 155,
     "metadata": {},
     "output_type": "execute_result"
    }
   ],
   "source": [
    "predict.numpy().sum()"
   ]
  },
  {
   "cell_type": "code",
   "execution_count": 156,
   "metadata": {},
   "outputs": [
    {
     "data": {
      "text/plain": [
       "1.0"
      ]
     },
     "execution_count": 156,
     "metadata": {},
     "output_type": "execute_result"
    }
   ],
   "source": [
    "tf.nn.softmax(predict).numpy().sum()"
   ]
  },
  {
   "cell_type": "code",
   "execution_count": 157,
   "metadata": {
    "colab": {
     "base_uri": "https://localhost:8080/",
     "height": 613
    },
    "id": "oa8WtTI202pn",
    "outputId": "3f0ca548-7715-47c7-b4fd-fac7924bc060"
   },
   "outputs": [],
   "source": [
    "model.compile(optimizer='adam', \n",
    "              loss=loss_function,\n",
    "              metrics=['accuracy'])"
   ]
  },
  {
   "cell_type": "code",
   "execution_count": 158,
   "metadata": {},
   "outputs": [
    {
     "name": "stdout",
     "output_type": "stream",
     "text": [
      "Epoch 1/101\n"
     ]
    },
    {
     "name": "stdout",
     "output_type": "stream",
     "text": [
      "8/8 - 2s - loss: 0.7218 - accuracy: 0.7188 - val_loss: 0.7160 - val_accuracy: 0.4316 - 2s/epoch - 259ms/step\n",
      "Epoch 2/101\n",
      "8/8 - 0s - loss: 0.5581 - accuracy: 0.7578 - val_loss: 0.6533 - val_accuracy: 0.6526 - 165ms/epoch - 21ms/step\n",
      "Epoch 3/101\n",
      "8/8 - 0s - loss: 0.5248 - accuracy: 0.7773 - val_loss: 0.6035 - val_accuracy: 0.7158 - 207ms/epoch - 26ms/step\n",
      "Epoch 4/101\n",
      "8/8 - 0s - loss: 0.5192 - accuracy: 0.8047 - val_loss: 0.5593 - val_accuracy: 0.7789 - 146ms/epoch - 18ms/step\n",
      "Epoch 5/101\n",
      "8/8 - 0s - loss: 0.5003 - accuracy: 0.8164 - val_loss: 0.5267 - val_accuracy: 0.8316 - 157ms/epoch - 20ms/step\n",
      "Epoch 6/101\n",
      "8/8 - 0s - loss: 0.4387 - accuracy: 0.8359 - val_loss: 0.4990 - val_accuracy: 0.8737 - 124ms/epoch - 16ms/step\n",
      "Epoch 7/101\n",
      "8/8 - 0s - loss: 0.4431 - accuracy: 0.8477 - val_loss: 0.4696 - val_accuracy: 0.9053 - 103ms/epoch - 13ms/step\n",
      "Epoch 8/101\n",
      "8/8 - 0s - loss: 0.3723 - accuracy: 0.8828 - val_loss: 0.4435 - val_accuracy: 0.9053 - 134ms/epoch - 17ms/step\n",
      "Epoch 9/101\n",
      "8/8 - 0s - loss: 0.4029 - accuracy: 0.8555 - val_loss: 0.4141 - val_accuracy: 0.9053 - 114ms/epoch - 14ms/step\n",
      "Epoch 10/101\n",
      "8/8 - 0s - loss: 0.3848 - accuracy: 0.8711 - val_loss: 0.3866 - val_accuracy: 0.9158 - 146ms/epoch - 18ms/step\n",
      "Epoch 11/101\n",
      "8/8 - 0s - loss: 0.3946 - accuracy: 0.8438 - val_loss: 0.3618 - val_accuracy: 0.9474 - 176ms/epoch - 22ms/step\n",
      "Epoch 12/101\n",
      "8/8 - 0s - loss: 0.3247 - accuracy: 0.9023 - val_loss: 0.3400 - val_accuracy: 0.9474 - 128ms/epoch - 16ms/step\n",
      "Epoch 13/101\n",
      "8/8 - 0s - loss: 0.3320 - accuracy: 0.8828 - val_loss: 0.3199 - val_accuracy: 0.9474 - 120ms/epoch - 15ms/step\n",
      "Epoch 14/101\n",
      "8/8 - 0s - loss: 0.3179 - accuracy: 0.8984 - val_loss: 0.3026 - val_accuracy: 0.9474 - 110ms/epoch - 14ms/step\n",
      "Epoch 15/101\n",
      "8/8 - 0s - loss: 0.3219 - accuracy: 0.8750 - val_loss: 0.2854 - val_accuracy: 0.9368 - 114ms/epoch - 14ms/step\n",
      "Epoch 16/101\n",
      "8/8 - 0s - loss: 0.2915 - accuracy: 0.8945 - val_loss: 0.2709 - val_accuracy: 0.9368 - 105ms/epoch - 13ms/step\n",
      "Epoch 17/101\n",
      "8/8 - 0s - loss: 0.3372 - accuracy: 0.8672 - val_loss: 0.2593 - val_accuracy: 0.9368 - 118ms/epoch - 15ms/step\n",
      "Epoch 18/101\n",
      "8/8 - 0s - loss: 0.2730 - accuracy: 0.9023 - val_loss: 0.2498 - val_accuracy: 0.9368 - 118ms/epoch - 15ms/step\n",
      "Epoch 19/101\n",
      "8/8 - 0s - loss: 0.2675 - accuracy: 0.9219 - val_loss: 0.2410 - val_accuracy: 0.9368 - 115ms/epoch - 14ms/step\n",
      "Epoch 20/101\n",
      "8/8 - 0s - loss: 0.2580 - accuracy: 0.9219 - val_loss: 0.2328 - val_accuracy: 0.9368 - 118ms/epoch - 15ms/step\n",
      "Epoch 21/101\n",
      "8/8 - 0s - loss: 0.2542 - accuracy: 0.9180 - val_loss: 0.2258 - val_accuracy: 0.9368 - 118ms/epoch - 15ms/step\n",
      "Epoch 22/101\n",
      "8/8 - 0s - loss: 0.2918 - accuracy: 0.9023 - val_loss: 0.2175 - val_accuracy: 0.9368 - 129ms/epoch - 16ms/step\n",
      "Epoch 23/101\n",
      "8/8 - 0s - loss: 0.2478 - accuracy: 0.9180 - val_loss: 0.2102 - val_accuracy: 0.9368 - 133ms/epoch - 17ms/step\n",
      "Epoch 24/101\n",
      "8/8 - 0s - loss: 0.2289 - accuracy: 0.9180 - val_loss: 0.2039 - val_accuracy: 0.9368 - 120ms/epoch - 15ms/step\n",
      "Epoch 25/101\n",
      "8/8 - 0s - loss: 0.2639 - accuracy: 0.9141 - val_loss: 0.1984 - val_accuracy: 0.9474 - 98ms/epoch - 12ms/step\n",
      "Epoch 26/101\n",
      "8/8 - 0s - loss: 0.2681 - accuracy: 0.9336 - val_loss: 0.1924 - val_accuracy: 0.9474 - 112ms/epoch - 14ms/step\n",
      "Epoch 27/101\n",
      "8/8 - 0s - loss: 0.2312 - accuracy: 0.9336 - val_loss: 0.1875 - val_accuracy: 0.9684 - 114ms/epoch - 14ms/step\n",
      "Epoch 28/101\n",
      "8/8 - 0s - loss: 0.2475 - accuracy: 0.9219 - val_loss: 0.1840 - val_accuracy: 0.9684 - 107ms/epoch - 13ms/step\n",
      "Epoch 29/101\n",
      "8/8 - 0s - loss: 0.2585 - accuracy: 0.8984 - val_loss: 0.1821 - val_accuracy: 0.9684 - 124ms/epoch - 15ms/step\n",
      "Epoch 30/101\n",
      "8/8 - 0s - loss: 0.1961 - accuracy: 0.9375 - val_loss: 0.1785 - val_accuracy: 0.9789 - 129ms/epoch - 16ms/step\n",
      "Epoch 31/101\n",
      "8/8 - 0s - loss: 0.2256 - accuracy: 0.9414 - val_loss: 0.1745 - val_accuracy: 0.9789 - 134ms/epoch - 17ms/step\n",
      "Epoch 32/101\n",
      "8/8 - 0s - loss: 0.2162 - accuracy: 0.9219 - val_loss: 0.1719 - val_accuracy: 0.9789 - 113ms/epoch - 14ms/step\n",
      "Epoch 33/101\n",
      "8/8 - 0s - loss: 0.2124 - accuracy: 0.9336 - val_loss: 0.1696 - val_accuracy: 0.9789 - 132ms/epoch - 16ms/step\n",
      "Epoch 34/101\n",
      "8/8 - 0s - loss: 0.1931 - accuracy: 0.9414 - val_loss: 0.1677 - val_accuracy: 0.9789 - 138ms/epoch - 17ms/step\n",
      "Epoch 35/101\n",
      "8/8 - 0s - loss: 0.1813 - accuracy: 0.9570 - val_loss: 0.1663 - val_accuracy: 0.9789 - 92ms/epoch - 11ms/step\n",
      "Epoch 36/101\n",
      "8/8 - 0s - loss: 0.2170 - accuracy: 0.9297 - val_loss: 0.1641 - val_accuracy: 0.9789 - 101ms/epoch - 13ms/step\n",
      "Epoch 37/101\n",
      "8/8 - 0s - loss: 0.1985 - accuracy: 0.9258 - val_loss: 0.1621 - val_accuracy: 0.9789 - 113ms/epoch - 14ms/step\n",
      "Epoch 38/101\n",
      "8/8 - 0s - loss: 0.1878 - accuracy: 0.9453 - val_loss: 0.1596 - val_accuracy: 0.9789 - 145ms/epoch - 18ms/step\n",
      "Epoch 39/101\n",
      "8/8 - 0s - loss: 0.2164 - accuracy: 0.9414 - val_loss: 0.1566 - val_accuracy: 0.9789 - 158ms/epoch - 20ms/step\n",
      "Epoch 40/101\n",
      "8/8 - 0s - loss: 0.1857 - accuracy: 0.9414 - val_loss: 0.1557 - val_accuracy: 0.9684 - 91ms/epoch - 11ms/step\n",
      "Epoch 41/101\n",
      "8/8 - 0s - loss: 0.1839 - accuracy: 0.9531 - val_loss: 0.1541 - val_accuracy: 0.9684 - 119ms/epoch - 15ms/step\n",
      "Epoch 42/101\n",
      "8/8 - 0s - loss: 0.2008 - accuracy: 0.9414 - val_loss: 0.1525 - val_accuracy: 0.9684 - 106ms/epoch - 13ms/step\n",
      "Epoch 43/101\n",
      "8/8 - 0s - loss: 0.2061 - accuracy: 0.9336 - val_loss: 0.1513 - val_accuracy: 0.9684 - 111ms/epoch - 14ms/step\n",
      "Epoch 44/101\n",
      "8/8 - 0s - loss: 0.1816 - accuracy: 0.9492 - val_loss: 0.1512 - val_accuracy: 0.9684 - 154ms/epoch - 19ms/step\n",
      "Epoch 45/101\n",
      "8/8 - 0s - loss: 0.1923 - accuracy: 0.9414 - val_loss: 0.1508 - val_accuracy: 0.9684 - 117ms/epoch - 15ms/step\n",
      "Epoch 46/101\n",
      "8/8 - 0s - loss: 0.1825 - accuracy: 0.9492 - val_loss: 0.1482 - val_accuracy: 0.9684 - 98ms/epoch - 12ms/step\n",
      "Epoch 47/101\n",
      "8/8 - 0s - loss: 0.1624 - accuracy: 0.9688 - val_loss: 0.1454 - val_accuracy: 0.9684 - 115ms/epoch - 14ms/step\n",
      "Epoch 48/101\n",
      "8/8 - 0s - loss: 0.1440 - accuracy: 0.9688 - val_loss: 0.1440 - val_accuracy: 0.9684 - 159ms/epoch - 20ms/step\n",
      "Epoch 49/101\n",
      "8/8 - 0s - loss: 0.2124 - accuracy: 0.9297 - val_loss: 0.1445 - val_accuracy: 0.9684 - 106ms/epoch - 13ms/step\n",
      "Epoch 50/101\n",
      "8/8 - 0s - loss: 0.1674 - accuracy: 0.9453 - val_loss: 0.1455 - val_accuracy: 0.9684 - 111ms/epoch - 14ms/step\n",
      "Epoch 51/101\n",
      "8/8 - 0s - loss: 0.1787 - accuracy: 0.9414 - val_loss: 0.1440 - val_accuracy: 0.9684 - 96ms/epoch - 12ms/step\n",
      "Epoch 52/101\n",
      "8/8 - 0s - loss: 0.1326 - accuracy: 0.9727 - val_loss: 0.1429 - val_accuracy: 0.9684 - 114ms/epoch - 14ms/step\n",
      "Epoch 53/101\n",
      "8/8 - 0s - loss: 0.1576 - accuracy: 0.9570 - val_loss: 0.1438 - val_accuracy: 0.9684 - 128ms/epoch - 16ms/step\n",
      "Epoch 54/101\n",
      "8/8 - 0s - loss: 0.1543 - accuracy: 0.9492 - val_loss: 0.1461 - val_accuracy: 0.9684 - 120ms/epoch - 15ms/step\n",
      "Epoch 55/101\n",
      "8/8 - 0s - loss: 0.1500 - accuracy: 0.9531 - val_loss: 0.1463 - val_accuracy: 0.9684 - 126ms/epoch - 16ms/step\n",
      "Epoch 56/101\n",
      "8/8 - 0s - loss: 0.1265 - accuracy: 0.9688 - val_loss: 0.1470 - val_accuracy: 0.9684 - 142ms/epoch - 18ms/step\n",
      "Epoch 57/101\n",
      "8/8 - 0s - loss: 0.1673 - accuracy: 0.9453 - val_loss: 0.1457 - val_accuracy: 0.9684 - 155ms/epoch - 19ms/step\n",
      "Epoch 58/101\n",
      "8/8 - 0s - loss: 0.1499 - accuracy: 0.9570 - val_loss: 0.1428 - val_accuracy: 0.9684 - 170ms/epoch - 21ms/step\n",
      "Epoch 59/101\n",
      "8/8 - 0s - loss: 0.1318 - accuracy: 0.9648 - val_loss: 0.1414 - val_accuracy: 0.9684 - 122ms/epoch - 15ms/step\n",
      "Epoch 60/101\n",
      "8/8 - 0s - loss: 0.1577 - accuracy: 0.9570 - val_loss: 0.1417 - val_accuracy: 0.9684 - 131ms/epoch - 16ms/step\n",
      "Epoch 61/101\n",
      "8/8 - 0s - loss: 0.1453 - accuracy: 0.9531 - val_loss: 0.1426 - val_accuracy: 0.9684 - 128ms/epoch - 16ms/step\n",
      "Epoch 62/101\n",
      "8/8 - 0s - loss: 0.1437 - accuracy: 0.9453 - val_loss: 0.1417 - val_accuracy: 0.9684 - 157ms/epoch - 20ms/step\n",
      "Epoch 63/101\n",
      "8/8 - 0s - loss: 0.1937 - accuracy: 0.9414 - val_loss: 0.1398 - val_accuracy: 0.9684 - 112ms/epoch - 14ms/step\n",
      "Epoch 64/101\n",
      "8/8 - 0s - loss: 0.1379 - accuracy: 0.9688 - val_loss: 0.1395 - val_accuracy: 0.9684 - 107ms/epoch - 13ms/step\n",
      "Epoch 65/101\n",
      "8/8 - 0s - loss: 0.1543 - accuracy: 0.9531 - val_loss: 0.1386 - val_accuracy: 0.9684 - 118ms/epoch - 15ms/step\n",
      "Epoch 66/101\n",
      "8/8 - 0s - loss: 0.1349 - accuracy: 0.9531 - val_loss: 0.1378 - val_accuracy: 0.9684 - 114ms/epoch - 14ms/step\n",
      "Epoch 67/101\n",
      "8/8 - 0s - loss: 0.1147 - accuracy: 0.9766 - val_loss: 0.1355 - val_accuracy: 0.9684 - 111ms/epoch - 14ms/step\n",
      "Epoch 68/101\n",
      "8/8 - 0s - loss: 0.1406 - accuracy: 0.9570 - val_loss: 0.1335 - val_accuracy: 0.9684 - 116ms/epoch - 14ms/step\n",
      "Epoch 69/101\n",
      "8/8 - 0s - loss: 0.1303 - accuracy: 0.9727 - val_loss: 0.1327 - val_accuracy: 0.9684 - 127ms/epoch - 16ms/step\n",
      "Epoch 70/101\n",
      "8/8 - 0s - loss: 0.1388 - accuracy: 0.9609 - val_loss: 0.1322 - val_accuracy: 0.9684 - 144ms/epoch - 18ms/step\n",
      "Epoch 71/101\n",
      "8/8 - 0s - loss: 0.1282 - accuracy: 0.9609 - val_loss: 0.1353 - val_accuracy: 0.9684 - 119ms/epoch - 15ms/step\n",
      "Epoch 72/101\n",
      "8/8 - 0s - loss: 0.1485 - accuracy: 0.9531 - val_loss: 0.1408 - val_accuracy: 0.9684 - 148ms/epoch - 19ms/step\n",
      "Epoch 73/101\n",
      "8/8 - 0s - loss: 0.1132 - accuracy: 0.9648 - val_loss: 0.1423 - val_accuracy: 0.9684 - 138ms/epoch - 17ms/step\n",
      "Epoch 74/101\n",
      "8/8 - 0s - loss: 0.1591 - accuracy: 0.9531 - val_loss: 0.1440 - val_accuracy: 0.9684 - 143ms/epoch - 18ms/step\n",
      "Epoch 75/101\n",
      "8/8 - 0s - loss: 0.1251 - accuracy: 0.9766 - val_loss: 0.1397 - val_accuracy: 0.9684 - 135ms/epoch - 17ms/step\n",
      "Epoch 76/101\n",
      "8/8 - 0s - loss: 0.1270 - accuracy: 0.9688 - val_loss: 0.1377 - val_accuracy: 0.9684 - 150ms/epoch - 19ms/step\n",
      "Epoch 77/101\n",
      "8/8 - 0s - loss: 0.1385 - accuracy: 0.9727 - val_loss: 0.1371 - val_accuracy: 0.9684 - 146ms/epoch - 18ms/step\n",
      "Epoch 78/101\n",
      "8/8 - 0s - loss: 0.1091 - accuracy: 0.9648 - val_loss: 0.1349 - val_accuracy: 0.9684 - 198ms/epoch - 25ms/step\n",
      "Epoch 79/101\n",
      "8/8 - 0s - loss: 0.1306 - accuracy: 0.9570 - val_loss: 0.1354 - val_accuracy: 0.9684 - 144ms/epoch - 18ms/step\n",
      "Epoch 80/101\n",
      "8/8 - 0s - loss: 0.1170 - accuracy: 0.9727 - val_loss: 0.1381 - val_accuracy: 0.9684 - 127ms/epoch - 16ms/step\n",
      "Epoch 81/101\n",
      "8/8 - 0s - loss: 0.1166 - accuracy: 0.9688 - val_loss: 0.1397 - val_accuracy: 0.9684 - 136ms/epoch - 17ms/step\n",
      "Epoch 82/101\n",
      "8/8 - 0s - loss: 0.1692 - accuracy: 0.9609 - val_loss: 0.1413 - val_accuracy: 0.9684 - 147ms/epoch - 18ms/step\n",
      "Epoch 83/101\n",
      "8/8 - 0s - loss: 0.1610 - accuracy: 0.9453 - val_loss: 0.1435 - val_accuracy: 0.9684 - 107ms/epoch - 13ms/step\n",
      "Epoch 84/101\n",
      "8/8 - 0s - loss: 0.1062 - accuracy: 0.9766 - val_loss: 0.1407 - val_accuracy: 0.9684 - 152ms/epoch - 19ms/step\n",
      "Epoch 85/101\n",
      "8/8 - 0s - loss: 0.1388 - accuracy: 0.9531 - val_loss: 0.1376 - val_accuracy: 0.9684 - 136ms/epoch - 17ms/step\n",
      "Epoch 86/101\n",
      "8/8 - 0s - loss: 0.1087 - accuracy: 0.9727 - val_loss: 0.1355 - val_accuracy: 0.9684 - 142ms/epoch - 18ms/step\n",
      "Epoch 87/101\n",
      "8/8 - 0s - loss: 0.0822 - accuracy: 0.9922 - val_loss: 0.1350 - val_accuracy: 0.9684 - 138ms/epoch - 17ms/step\n",
      "Epoch 88/101\n",
      "8/8 - 0s - loss: 0.1191 - accuracy: 0.9688 - val_loss: 0.1351 - val_accuracy: 0.9684 - 129ms/epoch - 16ms/step\n",
      "Epoch 89/101\n",
      "8/8 - 0s - loss: 0.0971 - accuracy: 0.9844 - val_loss: 0.1370 - val_accuracy: 0.9684 - 119ms/epoch - 15ms/step\n",
      "Epoch 90/101\n",
      "8/8 - 0s - loss: 0.1195 - accuracy: 0.9727 - val_loss: 0.1397 - val_accuracy: 0.9684 - 102ms/epoch - 13ms/step\n",
      "Epoch 91/101\n",
      "8/8 - 0s - loss: 0.1078 - accuracy: 0.9688 - val_loss: 0.1416 - val_accuracy: 0.9684 - 113ms/epoch - 14ms/step\n",
      "Epoch 92/101\n",
      "8/8 - 0s - loss: 0.1064 - accuracy: 0.9766 - val_loss: 0.1413 - val_accuracy: 0.9684 - 116ms/epoch - 15ms/step\n",
      "Epoch 93/101\n",
      "8/8 - 0s - loss: 0.1200 - accuracy: 0.9648 - val_loss: 0.1432 - val_accuracy: 0.9684 - 142ms/epoch - 18ms/step\n",
      "Epoch 94/101\n",
      "8/8 - 0s - loss: 0.1388 - accuracy: 0.9570 - val_loss: 0.1415 - val_accuracy: 0.9684 - 127ms/epoch - 16ms/step\n",
      "Epoch 95/101\n",
      "8/8 - 0s - loss: 0.1166 - accuracy: 0.9609 - val_loss: 0.1349 - val_accuracy: 0.9684 - 113ms/epoch - 14ms/step\n",
      "Epoch 96/101\n",
      "8/8 - 0s - loss: 0.1264 - accuracy: 0.9453 - val_loss: 0.1333 - val_accuracy: 0.9684 - 124ms/epoch - 15ms/step\n",
      "Epoch 97/101\n",
      "8/8 - 0s - loss: 0.1041 - accuracy: 0.9805 - val_loss: 0.1354 - val_accuracy: 0.9684 - 130ms/epoch - 16ms/step\n",
      "Epoch 98/101\n",
      "8/8 - 0s - loss: 0.0812 - accuracy: 0.9844 - val_loss: 0.1365 - val_accuracy: 0.9684 - 155ms/epoch - 19ms/step\n",
      "Epoch 99/101\n",
      "8/8 - 0s - loss: 0.0917 - accuracy: 0.9805 - val_loss: 0.1372 - val_accuracy: 0.9684 - 113ms/epoch - 14ms/step\n",
      "Epoch 100/101\n",
      "8/8 - 0s - loss: 0.1068 - accuracy: 0.9648 - val_loss: 0.1395 - val_accuracy: 0.9684 - 113ms/epoch - 14ms/step\n",
      "Epoch 101/101\n",
      "8/8 - 0s - loss: 0.1079 - accuracy: 0.9727 - val_loss: 0.1397 - val_accuracy: 0.9684 - 113ms/epoch - 14ms/step\n"
     ]
    }
   ],
   "source": [
    "history = model.fit(X_train, y_train, \n",
    "                    validation_data=[X_test, y_test],\n",
    "                    epochs=EPOCHS,\n",
    "                    verbose=2,\n",
    "                    batch_size=BATCH_SIZE\n",
    "                    )"
   ]
  },
  {
   "cell_type": "code",
   "execution_count": 159,
   "metadata": {},
   "outputs": [],
   "source": [
    "loss_df = pd.DataFrame(history.history)"
   ]
  },
  {
   "cell_type": "code",
   "execution_count": 160,
   "metadata": {},
   "outputs": [
    {
     "data": {
      "text/html": [
       "<div>\n",
       "<style scoped>\n",
       "    .dataframe tbody tr th:only-of-type {\n",
       "        vertical-align: middle;\n",
       "    }\n",
       "\n",
       "    .dataframe tbody tr th {\n",
       "        vertical-align: top;\n",
       "    }\n",
       "\n",
       "    .dataframe thead th {\n",
       "        text-align: right;\n",
       "    }\n",
       "</style>\n",
       "<table border=\"1\" class=\"dataframe\">\n",
       "  <thead>\n",
       "    <tr style=\"text-align: right;\">\n",
       "      <th></th>\n",
       "      <th>loss</th>\n",
       "      <th>accuracy</th>\n",
       "      <th>val_loss</th>\n",
       "      <th>val_accuracy</th>\n",
       "    </tr>\n",
       "  </thead>\n",
       "  <tbody>\n",
       "    <tr>\n",
       "      <th>0</th>\n",
       "      <td>0.721825</td>\n",
       "      <td>0.718750</td>\n",
       "      <td>0.715992</td>\n",
       "      <td>0.431579</td>\n",
       "    </tr>\n",
       "    <tr>\n",
       "      <th>1</th>\n",
       "      <td>0.558121</td>\n",
       "      <td>0.757812</td>\n",
       "      <td>0.653298</td>\n",
       "      <td>0.652632</td>\n",
       "    </tr>\n",
       "    <tr>\n",
       "      <th>2</th>\n",
       "      <td>0.524771</td>\n",
       "      <td>0.777344</td>\n",
       "      <td>0.603508</td>\n",
       "      <td>0.715789</td>\n",
       "    </tr>\n",
       "    <tr>\n",
       "      <th>3</th>\n",
       "      <td>0.519204</td>\n",
       "      <td>0.804688</td>\n",
       "      <td>0.559275</td>\n",
       "      <td>0.778947</td>\n",
       "    </tr>\n",
       "    <tr>\n",
       "      <th>4</th>\n",
       "      <td>0.500272</td>\n",
       "      <td>0.816406</td>\n",
       "      <td>0.526677</td>\n",
       "      <td>0.831579</td>\n",
       "    </tr>\n",
       "  </tbody>\n",
       "</table>\n",
       "</div>"
      ],
      "text/plain": [
       "       loss  accuracy  val_loss  val_accuracy\n",
       "0  0.721825  0.718750  0.715992      0.431579\n",
       "1  0.558121  0.757812  0.653298      0.652632\n",
       "2  0.524771  0.777344  0.603508      0.715789\n",
       "3  0.519204  0.804688  0.559275      0.778947\n",
       "4  0.500272  0.816406  0.526677      0.831579"
      ]
     },
     "execution_count": 160,
     "metadata": {},
     "output_type": "execute_result"
    }
   ],
   "source": [
    "loss_df.head()"
   ]
  },
  {
   "cell_type": "code",
   "execution_count": 161,
   "metadata": {},
   "outputs": [
    {
     "data": {
      "image/png": "[encoded data removed]",
      "text/plain": [
       "<Figure size 1500x800 with 1 Axes>"
      ]
     },
     "metadata": {},
     "output_type": "display_data"
    }
   ],
   "source": [
    "loss_df.plot(y = ['loss', 'val_loss']);"
   ]
  },
  {
   "cell_type": "code",
   "execution_count": 162,
   "metadata": {},
   "outputs": [
    {
     "data": {
      "image/png": "[encoded data removed]",
      "text/plain": [
       "<Figure size 1500x800 with 1 Axes>"
      ]
     },
     "metadata": {},
     "output_type": "display_data"
    }
   ],
   "source": [
    "loss_df.plot(y = ['accuracy', 'val_accuracy']);"
   ]
  },
  {
   "cell_type": "code",
   "execution_count": 163,
   "metadata": {},
   "outputs": [
    {
     "name": "stdout",
     "output_type": "stream",
     "text": [
      "8/8 [==============================] - 0s 11ms/step - loss: 0.0664 - accuracy: 0.9922\n"
     ]
    },
    {
     "data": {
      "text/plain": [
       "[0.06641433387994766, 0.9921875]"
      ]
     },
     "execution_count": 163,
     "metadata": {},
     "output_type": "execute_result"
    }
   ],
   "source": [
    "model.evaluate(X_train, y_train)"
   ]
  },
  {
   "cell_type": "code",
   "execution_count": 164,
   "metadata": {},
   "outputs": [
    {
     "name": "stdout",
     "output_type": "stream",
     "text": [
      "3/3 [==============================] - 0s 21ms/step - loss: 0.1397 - accuracy: 0.9684\n"
     ]
    },
    {
     "data": {
      "text/plain": [
       "[0.1396823227405548, 0.9684210419654846]"
      ]
     },
     "execution_count": 164,
     "metadata": {},
     "output_type": "execute_result"
    }
   ],
   "source": [
    "model.evaluate(X_test, y_test)"
   ]
  },
  {
   "cell_type": "code",
   "execution_count": 165,
   "metadata": {},
   "outputs": [
    {
     "name": "stdout",
     "output_type": "stream",
     "text": [
      "8/8 [==============================] - 0s 13ms/step\n"
     ]
    }
   ],
   "source": [
    "y_pred = model.predict(X_train)"
   ]
  },
  {
   "cell_type": "code",
   "execution_count": 166,
   "metadata": {},
   "outputs": [
    {
     "data": {
      "text/plain": [
       "(256,)"
      ]
     },
     "execution_count": 166,
     "metadata": {},
     "output_type": "execute_result"
    }
   ],
   "source": [
    "np.argmax(y_pred, axis = 1).shape"
   ]
  },
  {
   "cell_type": "code",
   "execution_count": 167,
   "metadata": {},
   "outputs": [
    {
     "data": {
      "text/plain": [
       "(256, 2)"
      ]
     },
     "execution_count": 167,
     "metadata": {},
     "output_type": "execute_result"
    }
   ],
   "source": [
    "y_train.shape"
   ]
  },
  {
   "cell_type": "code",
   "execution_count": 168,
   "metadata": {},
   "outputs": [
    {
     "data": {
      "text/plain": [
       "0.9921875"
      ]
     },
     "execution_count": 168,
     "metadata": {},
     "output_type": "execute_result"
    }
   ],
   "source": [
    "accuracy_score (np.argmax(y_pred, axis = 1), np.argmax(y_train, axis = 1))"
   ]
  },
  {
   "cell_type": "code",
   "execution_count": 169,
   "metadata": {},
   "outputs": [
    {
     "name": "stdout",
     "output_type": "stream",
     "text": [
      "3/3 [==============================] - 0s 19ms/step\n"
     ]
    },
    {
     "data": {
      "text/plain": [
       "0.968421052631579"
      ]
     },
     "execution_count": 169,
     "metadata": {},
     "output_type": "execute_result"
    }
   ],
   "source": [
    "y_pred = model.predict(X_test)\n",
    "accuracy_score (np.argmax(y_pred, axis = 1), np.argmax(y_test, axis = 1))"
   ]
  },
  {
   "cell_type": "code",
   "execution_count": 170,
   "metadata": {},
   "outputs": [
    {
     "name": "stdout",
     "output_type": "stream",
     "text": [
      "Model: \"model_3\"\n",
      "_________________________________________________________________\n",
      " Layer (type)                Output Shape              Param #   \n",
      "=================================================================\n",
      " input_4 (InputLayer)        [(None, 34)]              0         \n",
      "                                                                 \n",
      " dense_9 (Dense)             (None, 18)                630       \n",
      "                                                                 \n",
      " batch_normalization_6 (Batc  (None, 18)               72        \n",
      " hNormalization)                                                 \n",
      "                                                                 \n",
      " dropout_6 (Dropout)         (None, 18)                0         \n",
      "                                                                 \n",
      " dense_10 (Dense)            (None, 9)                 171       \n",
      "                                                                 \n",
      " batch_normalization_7 (Batc  (None, 9)                36        \n",
      " hNormalization)                                                 \n",
      "                                                                 \n",
      " dropout_7 (Dropout)         (None, 9)                 0         \n",
      "                                                                 \n",
      " dense_11 (Dense)            (None, 2)                 20        \n",
      "                                                                 \n",
      "=================================================================\n",
      "Total params: 929\n",
      "Trainable params: 875\n",
      "Non-trainable params: 54\n",
      "_________________________________________________________________\n"
     ]
    }
   ],
   "source": [
    "model.summary()"
   ]
  },
  {
   "cell_type": "code",
   "execution_count": 171,
   "metadata": {},
   "outputs": [
    {
     "data": {
      "image/png": "[encoded data removed]",
      "text/plain": [
       "<Figure size 1500x600 with 2 Axes>"
      ]
     },
     "metadata": {},
     "output_type": "display_data"
    }
   ],
   "source": [
    "fig, axes = plt.subplots(1,2 , figsize = (15,6))\n",
    "\n",
    "l_range = 50\n",
    "\n",
    "ax = axes[0]\n",
    "y1 = loss_df.columns[0]\n",
    "y2 = loss_df.columns[2]\n",
    "\n",
    "loss_df.plot( y = [y1, y2], ax = ax)\n",
    "\n",
    "# little beautification\n",
    "txtstr = \"Errors: \\n  Start : {:7.4f}\\n   End : {:7.4f}\".format(loss_df.iloc[0][y1],\n",
    "                                                                loss_df.iloc[-1][y2]) #text to plot\n",
    "\n",
    "# properties  matplotlib.patch.Patch \n",
    "props = dict(boxstyle='round', facecolor='aqua', alpha=0.5)\n",
    "\n",
    "# place a text box in upper left in axes coords\n",
    "\n",
    "ax.text(0.6, 0.95, txtstr, transform=ax.transAxes, fontsize=14,\n",
    "        verticalalignment='top', bbox=props)\n",
    "\n",
    "ax.set_xlabel(\"Epochs\")\n",
    "ax.set_ylabel(\"Error\")\n",
    "ax.set_title('Overall')\n",
    "ax.grid();\n",
    "\n",
    "ax = axes[1]\n",
    "y1 = loss_df.columns[1]\n",
    "y2 = loss_df.columns[3]\n",
    "loss_df[-l_range:].plot( y = [y1, y2], ax = ax)\n",
    "\n",
    "# little beautification\n",
    "txtstr = \"Errors: \\n  Start : {:7.4f}\\n   End : {:7.4f}\".format(loss_df.iloc[0][y1],\n",
    "                                                                loss_df.iloc[-1][y2]) #text to plot\n",
    "\n",
    "# place a text box in upper left in axes coords\n",
    "\n",
    "ax.text(0.6, 0.95, txtstr, transform=ax.transAxes, fontsize=14,\n",
    "        verticalalignment='top', bbox=props)\n",
    "\n",
    "ax.set_xlabel(\"Epochs\")\n",
    "ax.set_ylabel(\"Metrics\")\n",
    "ax.set_title(y1.capitalize())\n",
    "ax.grid();\n",
    "plt.tight_layout()"
   ]
  },
  {
   "cell_type": "code",
   "execution_count": 172,
   "metadata": {},
   "outputs": [
    {
     "data": {
      "text/html": [
       "<div>\n",
       "<style scoped>\n",
       "    .dataframe tbody tr th:only-of-type {\n",
       "        vertical-align: middle;\n",
       "    }\n",
       "\n",
       "    .dataframe tbody tr th {\n",
       "        vertical-align: top;\n",
       "    }\n",
       "\n",
       "    .dataframe thead th {\n",
       "        text-align: right;\n",
       "    }\n",
       "</style>\n",
       "<table border=\"1\" class=\"dataframe\">\n",
       "  <thead>\n",
       "    <tr style=\"text-align: right;\">\n",
       "      <th></th>\n",
       "      <th>loss</th>\n",
       "      <th>accuracy</th>\n",
       "      <th>val_loss</th>\n",
       "      <th>val_accuracy</th>\n",
       "    </tr>\n",
       "  </thead>\n",
       "  <tbody>\n",
       "    <tr>\n",
       "      <th>69</th>\n",
       "      <td>0.138804</td>\n",
       "      <td>0.960938</td>\n",
       "      <td>0.132207</td>\n",
       "      <td>0.968421</td>\n",
       "    </tr>\n",
       "  </tbody>\n",
       "</table>\n",
       "</div>"
      ],
      "text/plain": [
       "        loss  accuracy  val_loss  val_accuracy\n",
       "69  0.138804  0.960938  0.132207      0.968421"
      ]
     },
     "execution_count": 172,
     "metadata": {},
     "output_type": "execute_result"
    }
   ],
   "source": [
    "loss_df[loss_df['val_loss'] == loss_df['val_loss'].min()]"
   ]
  },
  {
   "cell_type": "code",
   "execution_count": 173,
   "metadata": {},
   "outputs": [],
   "source": [
    "es_check_point = tf.keras.callbacks.EarlyStopping(\n",
    "    monitor='val_loss',\n",
    "    patience=PATIENCE,\n",
    "    verbose=1,\n",
    "    restore_best_weights=True,\n",
    "    start_from_epoch=0,\n",
    ")\n"
   ]
  },
  {
   "cell_type": "code",
   "execution_count": 174,
   "metadata": {},
   "outputs": [
    {
     "name": "stdout",
     "output_type": "stream",
     "text": [
      "Epoch 1/101\n",
      "8/8 - 0s - loss: 0.1230 - accuracy: 0.9688 - val_loss: 0.1364 - val_accuracy: 0.9684 - 188ms/epoch - 24ms/step\n",
      "Epoch 2/101\n",
      "8/8 - 0s - loss: 0.1087 - accuracy: 0.9805 - val_loss: 0.1380 - val_accuracy: 0.9684 - 131ms/epoch - 16ms/step\n",
      "Epoch 3/101\n",
      "8/8 - 0s - loss: 0.1101 - accuracy: 0.9688 - val_loss: 0.1408 - val_accuracy: 0.9684 - 165ms/epoch - 21ms/step\n",
      "Epoch 4/101\n",
      "8/8 - 0s - loss: 0.1051 - accuracy: 0.9648 - val_loss: 0.1455 - val_accuracy: 0.9684 - 109ms/epoch - 14ms/step\n",
      "Epoch 5/101\n",
      "8/8 - 0s - loss: 0.1199 - accuracy: 0.9570 - val_loss: 0.1489 - val_accuracy: 0.9684 - 138ms/epoch - 17ms/step\n",
      "Epoch 6/101\n",
      "8/8 - 0s - loss: 0.1349 - accuracy: 0.9648 - val_loss: 0.1472 - val_accuracy: 0.9684 - 118ms/epoch - 15ms/step\n",
      "Epoch 7/101\n",
      "8/8 - 0s - loss: 0.0930 - accuracy: 0.9766 - val_loss: 0.1458 - val_accuracy: 0.9684 - 136ms/epoch - 17ms/step\n",
      "Epoch 8/101\n",
      "8/8 - 0s - loss: 0.0951 - accuracy: 0.9805 - val_loss: 0.1458 - val_accuracy: 0.9684 - 99ms/epoch - 12ms/step\n",
      "Epoch 9/101\n",
      "8/8 - 0s - loss: 0.1220 - accuracy: 0.9727 - val_loss: 0.1442 - val_accuracy: 0.9684 - 126ms/epoch - 16ms/step\n",
      "Epoch 10/101\n",
      "8/8 - 0s - loss: 0.0998 - accuracy: 0.9727 - val_loss: 0.1431 - val_accuracy: 0.9684 - 128ms/epoch - 16ms/step\n",
      "Epoch 11/101\n",
      "Restoring model weights from the end of the best epoch: 1.\n",
      "8/8 - 0s - loss: 0.1009 - accuracy: 0.9727 - val_loss: 0.1425 - val_accuracy: 0.9684 - 136ms/epoch - 17ms/step\n",
      "Epoch 11: early stopping\n"
     ]
    }
   ],
   "source": [
    "history = model.fit(X_train, y_train, \n",
    "                    validation_data=[X_test, y_test],\n",
    "                    epochs=EPOCHS,\n",
    "                    verbose=2,\n",
    "                    batch_size=BATCH_SIZE,\n",
    "                    callbacks=[ es_check_point ]\n",
    "                    )"
   ]
  },
  {
   "cell_type": "code",
   "execution_count": 175,
   "metadata": {},
   "outputs": [
    {
     "name": "stdout",
     "output_type": "stream",
     "text": [
      "8/8 [==============================] - 0s 15ms/step - loss: 0.0670 - accuracy: 0.9922\n"
     ]
    },
    {
     "data": {
      "text/plain": [
       "[0.06696954369544983, 0.9921875]"
      ]
     },
     "execution_count": 175,
     "metadata": {},
     "output_type": "execute_result"
    }
   ],
   "source": [
    "model.evaluate(X_train, y_train)"
   ]
  },
  {
   "cell_type": "code",
   "execution_count": 176,
   "metadata": {},
   "outputs": [
    {
     "name": "stdout",
     "output_type": "stream",
     "text": [
      "3/3 [==============================] - 0s 11ms/step - loss: 0.1364 - accuracy: 0.9684\n"
     ]
    },
    {
     "data": {
      "text/plain": [
       "[0.13639216125011444, 0.9684210419654846]"
      ]
     },
     "execution_count": 176,
     "metadata": {},
     "output_type": "execute_result"
    }
   ],
   "source": [
    "model.evaluate(X_test, y_test)"
   ]
  }
 ],
 "metadata": {
  "accelerator": "GPU",
  "colab": {
   "name": "S05a_one_hidden_layer_with_tanh_wip.ipynb",
   "provenance": []
  },
  "kernelspec": {
   "display_name": "Python 3 (ipykernel)",
   "language": "python",
   "name": "python3"
  },
  "language_info": {
   "codemirror_mode": {
    "name": "ipython",
    "version": 3
   },
   "file_extension": ".py",
   "mimetype": "text/x-python",
   "name": "python",
   "nbconvert_exporter": "python",
   "pygments_lexer": "ipython3",
   "version": "3.11.5"
  }
 },
 "nbformat": 4,
 "nbformat_minor": 4
}
